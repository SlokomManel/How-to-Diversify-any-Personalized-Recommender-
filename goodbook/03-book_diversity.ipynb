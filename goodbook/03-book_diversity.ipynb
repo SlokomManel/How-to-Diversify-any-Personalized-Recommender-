{
 "cells": [
  {
   "cell_type": "code",
   "execution_count": 1,
   "metadata": {},
   "outputs": [],
   "source": [
    "import math\n",
    "import pandas as pd\n",
    "import numpy as np\n",
    "from scipy.stats import entropy\n",
    "from numpy.linalg import norm\n",
    "import math\n"
   ]
  },
  {
   "cell_type": "code",
   "execution_count": 2,
   "metadata": {},
   "outputs": [
    {
     "data": {
      "text/html": [
       "<div>\n",
       "<style scoped>\n",
       "    .dataframe tbody tr th:only-of-type {\n",
       "        vertical-align: middle;\n",
       "    }\n",
       "\n",
       "    .dataframe tbody tr th {\n",
       "        vertical-align: top;\n",
       "    }\n",
       "\n",
       "    .dataframe thead th {\n",
       "        text-align: right;\n",
       "    }\n",
       "</style>\n",
       "<table border=\"1\" class=\"dataframe\">\n",
       "  <thead>\n",
       "    <tr style=\"text-align: right;\">\n",
       "      <th></th>\n",
       "      <th>user</th>\n",
       "      <th>item</th>\n",
       "      <th>rating</th>\n",
       "      <th>genre</th>\n",
       "    </tr>\n",
       "  </thead>\n",
       "  <tbody>\n",
       "    <tr>\n",
       "      <th>0</th>\n",
       "      <td>1</td>\n",
       "      <td>3</td>\n",
       "      <td>2.0</td>\n",
       "      <td>classics, science, fiction, fantasy, philosoph...</td>\n",
       "    </tr>\n",
       "    <tr>\n",
       "      <th>1</th>\n",
       "      <td>1</td>\n",
       "      <td>4</td>\n",
       "      <td>5.0</td>\n",
       "      <td>science, ebooks, religion, philosophy, classic...</td>\n",
       "    </tr>\n",
       "    <tr>\n",
       "      <th>2</th>\n",
       "      <td>1</td>\n",
       "      <td>5</td>\n",
       "      <td>4.0</td>\n",
       "      <td>ebooks, fiction, classics, contemporary, roman...</td>\n",
       "    </tr>\n",
       "    <tr>\n",
       "      <th>3</th>\n",
       "      <td>1</td>\n",
       "      <td>7</td>\n",
       "      <td>4.0</td>\n",
       "      <td>religion, ebooks, spirituality, romance, philo...</td>\n",
       "    </tr>\n",
       "    <tr>\n",
       "      <th>4</th>\n",
       "      <td>1</td>\n",
       "      <td>8</td>\n",
       "      <td>5.0</td>\n",
       "      <td>romance, contemporary, fiction, classics</td>\n",
       "    </tr>\n",
       "    <tr>\n",
       "      <th>...</th>\n",
       "      <td>...</td>\n",
       "      <td>...</td>\n",
       "      <td>...</td>\n",
       "      <td>...</td>\n",
       "    </tr>\n",
       "    <tr>\n",
       "      <th>8472</th>\n",
       "      <td>943</td>\n",
       "      <td>64</td>\n",
       "      <td>5.0</td>\n",
       "      <td>science, fiction, classics, philosophy, busine...</td>\n",
       "    </tr>\n",
       "    <tr>\n",
       "      <th>8473</th>\n",
       "      <td>943</td>\n",
       "      <td>90</td>\n",
       "      <td>5.0</td>\n",
       "      <td>memoir, classics, nonfiction, travel, history,...</td>\n",
       "    </tr>\n",
       "    <tr>\n",
       "      <th>8474</th>\n",
       "      <td>943</td>\n",
       "      <td>19</td>\n",
       "      <td>5.0</td>\n",
       "      <td>music, fiction, classics, ebooks, history, con...</td>\n",
       "    </tr>\n",
       "    <tr>\n",
       "      <th>8475</th>\n",
       "      <td>943</td>\n",
       "      <td>109</td>\n",
       "      <td>5.0</td>\n",
       "      <td>classics, ebooks, thriller, mystery, fiction, ...</td>\n",
       "    </tr>\n",
       "    <tr>\n",
       "      <th>8476</th>\n",
       "      <td>943</td>\n",
       "      <td>381</td>\n",
       "      <td>5.0</td>\n",
       "      <td>contemporary, history, classics, fiction</td>\n",
       "    </tr>\n",
       "  </tbody>\n",
       "</table>\n",
       "<p>8477 rows × 4 columns</p>\n",
       "</div>"
      ],
      "text/plain": [
       "      user  item  rating                                              genre\n",
       "0        1     3     2.0  classics, science, fiction, fantasy, philosoph...\n",
       "1        1     4     5.0  science, ebooks, religion, philosophy, classic...\n",
       "2        1     5     4.0  ebooks, fiction, classics, contemporary, roman...\n",
       "3        1     7     4.0  religion, ebooks, spirituality, romance, philo...\n",
       "4        1     8     5.0           romance, contemporary, fiction, classics\n",
       "...    ...   ...     ...                                                ...\n",
       "8472   943    64     5.0  science, fiction, classics, philosophy, busine...\n",
       "8473   943    90     5.0  memoir, classics, nonfiction, travel, history,...\n",
       "8474   943    19     5.0  music, fiction, classics, ebooks, history, con...\n",
       "8475   943   109     5.0  classics, ebooks, thriller, mystery, fiction, ...\n",
       "8476   943   381     5.0           contemporary, history, classics, fiction\n",
       "\n",
       "[8477 rows x 4 columns]"
      ]
     },
     "execution_count": 2,
     "metadata": {},
     "output_type": "execute_result"
    }
   ],
   "source": [
    "user_reading_history = pd.read_csv(\"goodbook/trainVal-book0.csv\", sep=\",\", names= [\"user\", \"item\", \"rating\", \"genre\"])\n",
    "user_reading_history"
   ]
  },
  {
   "cell_type": "code",
   "execution_count": 3,
   "metadata": {},
   "outputs": [],
   "source": [
    "\n",
    "class ShannonEntropy:\n",
    "    _ln2 = math.log(2.0)  # Define _ln2 as a class attribute\n",
    "\n",
    "    def __init__(self, user_recommendations, user_relevant_items):\n",
    "        self.user_recommendations = user_recommendations\n",
    "        self.user_relevant_items = user_relevant_items\n",
    "\n",
    "    @staticmethod\n",
    "    def name():\n",
    "        return \"SEntropy\"\n",
    "\n",
    "    def _normalize_scores(self):\n",
    "        scores = [rec[1] for user_rec in self.user_recommendations.values() for rec in user_rec]\n",
    "        min_score = min(scores)\n",
    "        max_score = max(scores)\n",
    "        self._min_max_range = max_score - min_score  # Store the range for later use\n",
    "\n",
    "        # Perform Min-Max scaling\n",
    "        for user, user_rec in self.user_recommendations.items():\n",
    "            for i, (item, score) in enumerate(user_rec):\n",
    "                normalized_score = (score - min_score) / self._min_max_range\n",
    "                self.user_recommendations[user][i] = (item, normalized_score)\n",
    "\n",
    "    def __user_se(self, user_recommendations, cutoff):\n",
    "        user_norm = len(user_recommendations[:cutoff])\n",
    "        self._free_norm += user_norm\n",
    "        for i, _ in user_recommendations[:cutoff]:\n",
    "            self._item_count[i] = self._item_count.get(i, 0) + 1\n",
    "            self._item_weights[i] = self._item_weights.get(i, 0) + (1 / user_norm)\n",
    "\n",
    "    def __sales_novelty(self, i):\n",
    "        return -math.log(self._item_count[i] / self._free_norm) / self._ln2\n",
    "\n",
    "    def eval(self, cutoff=5):\n",
    "        self._item_count = {}\n",
    "        self._item_weights = {}\n",
    "        self._free_norm = 0\n",
    "\n",
    "        # Normalize scores\n",
    "        self._normalize_scores()\n",
    "\n",
    "        for user, recommendations in self.user_recommendations.items():\n",
    "            user_recommendations_list = recommendations[:cutoff]\n",
    "            self.__user_se(user_recommendations_list, cutoff)\n",
    "\n",
    "        return sum([w * self.__sales_novelty(i) for i, w in self._item_weights.items()])/len(self.user_recommendations)\n"
   ]
  },
  {
   "cell_type": "code",
   "execution_count": 4,
   "metadata": {},
   "outputs": [
    {
     "ename": "FileNotFoundError",
     "evalue": "[Errno 2] No such file or directory: 'goodbook/results/RS-5_0.0_Original.csv'",
     "output_type": "error",
     "traceback": [
      "\u001b[0;31m---------------------------------------------------------------------------\u001b[0m",
      "\u001b[0;31mFileNotFoundError\u001b[0m                         Traceback (most recent call last)",
      "\u001b[1;32m/Users/mslokom/Documents/RecSys_News/book_diversity.ipynb Cell 4\u001b[0m line \u001b[0;36m2\n\u001b[1;32m      <a href='vscode-notebook-cell:/Users/mslokom/Documents/RecSys_News/book_diversity.ipynb#W3sZmlsZQ%3D%3D?line=0'>1</a>\u001b[0m \u001b[39m# Load your datasets\u001b[39;00m\n\u001b[0;32m----> <a href='vscode-notebook-cell:/Users/mslokom/Documents/RecSys_News/book_diversity.ipynb#W3sZmlsZQ%3D%3D?line=1'>2</a>\u001b[0m user_recommendations_df \u001b[39m=\u001b[39m pd\u001b[39m.\u001b[39;49mread_csv(\u001b[39m\"\u001b[39;49m\u001b[39mgoodbook/results/RS-5_0.0_Original.csv\u001b[39;49m\u001b[39m\"\u001b[39;49m)\n\u001b[1;32m      <a href='vscode-notebook-cell:/Users/mslokom/Documents/RecSys_News/book_diversity.ipynb#W3sZmlsZQ%3D%3D?line=2'>3</a>\u001b[0m user_relevant_items_df \u001b[39m=\u001b[39m pd\u001b[39m.\u001b[39mread_csv(\u001b[39m\"\u001b[39m\u001b[39mgoodbook/test-book0.csv\u001b[39m\u001b[39m\"\u001b[39m, sep\u001b[39m=\u001b[39m\u001b[39m\"\u001b[39m\u001b[39m,\u001b[39m\u001b[39m\"\u001b[39m, names\u001b[39m=\u001b[39m [\u001b[39m\"\u001b[39m\u001b[39muser\u001b[39m\u001b[39m\"\u001b[39m, \u001b[39m\"\u001b[39m\u001b[39mitem\u001b[39m\u001b[39m\"\u001b[39m, \u001b[39m\"\u001b[39m\u001b[39mrating\u001b[39m\u001b[39m\"\u001b[39m, \u001b[39m\"\u001b[39m\u001b[39mgenre\u001b[39m\u001b[39m\"\u001b[39m])\n",
      "File \u001b[0;32m~/Documents/RecSys_News/.venv/lib/python3.10/site-packages/pandas/util/_decorators.py:211\u001b[0m, in \u001b[0;36mdeprecate_kwarg.<locals>._deprecate_kwarg.<locals>.wrapper\u001b[0;34m(*args, **kwargs)\u001b[0m\n\u001b[1;32m    209\u001b[0m     \u001b[39melse\u001b[39;00m:\n\u001b[1;32m    210\u001b[0m         kwargs[new_arg_name] \u001b[39m=\u001b[39m new_arg_value\n\u001b[0;32m--> 211\u001b[0m \u001b[39mreturn\u001b[39;00m func(\u001b[39m*\u001b[39;49margs, \u001b[39m*\u001b[39;49m\u001b[39m*\u001b[39;49mkwargs)\n",
      "File \u001b[0;32m~/Documents/RecSys_News/.venv/lib/python3.10/site-packages/pandas/util/_decorators.py:331\u001b[0m, in \u001b[0;36mdeprecate_nonkeyword_arguments.<locals>.decorate.<locals>.wrapper\u001b[0;34m(*args, **kwargs)\u001b[0m\n\u001b[1;32m    325\u001b[0m \u001b[39mif\u001b[39;00m \u001b[39mlen\u001b[39m(args) \u001b[39m>\u001b[39m num_allow_args:\n\u001b[1;32m    326\u001b[0m     warnings\u001b[39m.\u001b[39mwarn(\n\u001b[1;32m    327\u001b[0m         msg\u001b[39m.\u001b[39mformat(arguments\u001b[39m=\u001b[39m_format_argument_list(allow_args)),\n\u001b[1;32m    328\u001b[0m         \u001b[39mFutureWarning\u001b[39;00m,\n\u001b[1;32m    329\u001b[0m         stacklevel\u001b[39m=\u001b[39mfind_stack_level(),\n\u001b[1;32m    330\u001b[0m     )\n\u001b[0;32m--> 331\u001b[0m \u001b[39mreturn\u001b[39;00m func(\u001b[39m*\u001b[39;49margs, \u001b[39m*\u001b[39;49m\u001b[39m*\u001b[39;49mkwargs)\n",
      "File \u001b[0;32m~/Documents/RecSys_News/.venv/lib/python3.10/site-packages/pandas/io/parsers/readers.py:950\u001b[0m, in \u001b[0;36mread_csv\u001b[0;34m(filepath_or_buffer, sep, delimiter, header, names, index_col, usecols, squeeze, prefix, mangle_dupe_cols, dtype, engine, converters, true_values, false_values, skipinitialspace, skiprows, skipfooter, nrows, na_values, keep_default_na, na_filter, verbose, skip_blank_lines, parse_dates, infer_datetime_format, keep_date_col, date_parser, dayfirst, cache_dates, iterator, chunksize, compression, thousands, decimal, lineterminator, quotechar, quoting, doublequote, escapechar, comment, encoding, encoding_errors, dialect, error_bad_lines, warn_bad_lines, on_bad_lines, delim_whitespace, low_memory, memory_map, float_precision, storage_options)\u001b[0m\n\u001b[1;32m    935\u001b[0m kwds_defaults \u001b[39m=\u001b[39m _refine_defaults_read(\n\u001b[1;32m    936\u001b[0m     dialect,\n\u001b[1;32m    937\u001b[0m     delimiter,\n\u001b[0;32m   (...)\u001b[0m\n\u001b[1;32m    946\u001b[0m     defaults\u001b[39m=\u001b[39m{\u001b[39m\"\u001b[39m\u001b[39mdelimiter\u001b[39m\u001b[39m\"\u001b[39m: \u001b[39m\"\u001b[39m\u001b[39m,\u001b[39m\u001b[39m\"\u001b[39m},\n\u001b[1;32m    947\u001b[0m )\n\u001b[1;32m    948\u001b[0m kwds\u001b[39m.\u001b[39mupdate(kwds_defaults)\n\u001b[0;32m--> 950\u001b[0m \u001b[39mreturn\u001b[39;00m _read(filepath_or_buffer, kwds)\n",
      "File \u001b[0;32m~/Documents/RecSys_News/.venv/lib/python3.10/site-packages/pandas/io/parsers/readers.py:605\u001b[0m, in \u001b[0;36m_read\u001b[0;34m(filepath_or_buffer, kwds)\u001b[0m\n\u001b[1;32m    602\u001b[0m _validate_names(kwds\u001b[39m.\u001b[39mget(\u001b[39m\"\u001b[39m\u001b[39mnames\u001b[39m\u001b[39m\"\u001b[39m, \u001b[39mNone\u001b[39;00m))\n\u001b[1;32m    604\u001b[0m \u001b[39m# Create the parser.\u001b[39;00m\n\u001b[0;32m--> 605\u001b[0m parser \u001b[39m=\u001b[39m TextFileReader(filepath_or_buffer, \u001b[39m*\u001b[39;49m\u001b[39m*\u001b[39;49mkwds)\n\u001b[1;32m    607\u001b[0m \u001b[39mif\u001b[39;00m chunksize \u001b[39mor\u001b[39;00m iterator:\n\u001b[1;32m    608\u001b[0m     \u001b[39mreturn\u001b[39;00m parser\n",
      "File \u001b[0;32m~/Documents/RecSys_News/.venv/lib/python3.10/site-packages/pandas/io/parsers/readers.py:1442\u001b[0m, in \u001b[0;36mTextFileReader.__init__\u001b[0;34m(self, f, engine, **kwds)\u001b[0m\n\u001b[1;32m   1439\u001b[0m     \u001b[39mself\u001b[39m\u001b[39m.\u001b[39moptions[\u001b[39m\"\u001b[39m\u001b[39mhas_index_names\u001b[39m\u001b[39m\"\u001b[39m] \u001b[39m=\u001b[39m kwds[\u001b[39m\"\u001b[39m\u001b[39mhas_index_names\u001b[39m\u001b[39m\"\u001b[39m]\n\u001b[1;32m   1441\u001b[0m \u001b[39mself\u001b[39m\u001b[39m.\u001b[39mhandles: IOHandles \u001b[39m|\u001b[39m \u001b[39mNone\u001b[39;00m \u001b[39m=\u001b[39m \u001b[39mNone\u001b[39;00m\n\u001b[0;32m-> 1442\u001b[0m \u001b[39mself\u001b[39m\u001b[39m.\u001b[39m_engine \u001b[39m=\u001b[39m \u001b[39mself\u001b[39;49m\u001b[39m.\u001b[39;49m_make_engine(f, \u001b[39mself\u001b[39;49m\u001b[39m.\u001b[39;49mengine)\n",
      "File \u001b[0;32m~/Documents/RecSys_News/.venv/lib/python3.10/site-packages/pandas/io/parsers/readers.py:1735\u001b[0m, in \u001b[0;36mTextFileReader._make_engine\u001b[0;34m(self, f, engine)\u001b[0m\n\u001b[1;32m   1733\u001b[0m     \u001b[39mif\u001b[39;00m \u001b[39m\"\u001b[39m\u001b[39mb\u001b[39m\u001b[39m\"\u001b[39m \u001b[39mnot\u001b[39;00m \u001b[39min\u001b[39;00m mode:\n\u001b[1;32m   1734\u001b[0m         mode \u001b[39m+\u001b[39m\u001b[39m=\u001b[39m \u001b[39m\"\u001b[39m\u001b[39mb\u001b[39m\u001b[39m\"\u001b[39m\n\u001b[0;32m-> 1735\u001b[0m \u001b[39mself\u001b[39m\u001b[39m.\u001b[39mhandles \u001b[39m=\u001b[39m get_handle(\n\u001b[1;32m   1736\u001b[0m     f,\n\u001b[1;32m   1737\u001b[0m     mode,\n\u001b[1;32m   1738\u001b[0m     encoding\u001b[39m=\u001b[39;49m\u001b[39mself\u001b[39;49m\u001b[39m.\u001b[39;49moptions\u001b[39m.\u001b[39;49mget(\u001b[39m\"\u001b[39;49m\u001b[39mencoding\u001b[39;49m\u001b[39m\"\u001b[39;49m, \u001b[39mNone\u001b[39;49;00m),\n\u001b[1;32m   1739\u001b[0m     compression\u001b[39m=\u001b[39;49m\u001b[39mself\u001b[39;49m\u001b[39m.\u001b[39;49moptions\u001b[39m.\u001b[39;49mget(\u001b[39m\"\u001b[39;49m\u001b[39mcompression\u001b[39;49m\u001b[39m\"\u001b[39;49m, \u001b[39mNone\u001b[39;49;00m),\n\u001b[1;32m   1740\u001b[0m     memory_map\u001b[39m=\u001b[39;49m\u001b[39mself\u001b[39;49m\u001b[39m.\u001b[39;49moptions\u001b[39m.\u001b[39;49mget(\u001b[39m\"\u001b[39;49m\u001b[39mmemory_map\u001b[39;49m\u001b[39m\"\u001b[39;49m, \u001b[39mFalse\u001b[39;49;00m),\n\u001b[1;32m   1741\u001b[0m     is_text\u001b[39m=\u001b[39;49mis_text,\n\u001b[1;32m   1742\u001b[0m     errors\u001b[39m=\u001b[39;49m\u001b[39mself\u001b[39;49m\u001b[39m.\u001b[39;49moptions\u001b[39m.\u001b[39;49mget(\u001b[39m\"\u001b[39;49m\u001b[39mencoding_errors\u001b[39;49m\u001b[39m\"\u001b[39;49m, \u001b[39m\"\u001b[39;49m\u001b[39mstrict\u001b[39;49m\u001b[39m\"\u001b[39;49m),\n\u001b[1;32m   1743\u001b[0m     storage_options\u001b[39m=\u001b[39;49m\u001b[39mself\u001b[39;49m\u001b[39m.\u001b[39;49moptions\u001b[39m.\u001b[39;49mget(\u001b[39m\"\u001b[39;49m\u001b[39mstorage_options\u001b[39;49m\u001b[39m\"\u001b[39;49m, \u001b[39mNone\u001b[39;49;00m),\n\u001b[1;32m   1744\u001b[0m )\n\u001b[1;32m   1745\u001b[0m \u001b[39massert\u001b[39;00m \u001b[39mself\u001b[39m\u001b[39m.\u001b[39mhandles \u001b[39mis\u001b[39;00m \u001b[39mnot\u001b[39;00m \u001b[39mNone\u001b[39;00m\n\u001b[1;32m   1746\u001b[0m f \u001b[39m=\u001b[39m \u001b[39mself\u001b[39m\u001b[39m.\u001b[39mhandles\u001b[39m.\u001b[39mhandle\n",
      "File \u001b[0;32m~/Documents/RecSys_News/.venv/lib/python3.10/site-packages/pandas/io/common.py:856\u001b[0m, in \u001b[0;36mget_handle\u001b[0;34m(path_or_buf, mode, encoding, compression, memory_map, is_text, errors, storage_options)\u001b[0m\n\u001b[1;32m    851\u001b[0m \u001b[39melif\u001b[39;00m \u001b[39misinstance\u001b[39m(handle, \u001b[39mstr\u001b[39m):\n\u001b[1;32m    852\u001b[0m     \u001b[39m# Check whether the filename is to be opened in binary mode.\u001b[39;00m\n\u001b[1;32m    853\u001b[0m     \u001b[39m# Binary mode does not support 'encoding' and 'newline'.\u001b[39;00m\n\u001b[1;32m    854\u001b[0m     \u001b[39mif\u001b[39;00m ioargs\u001b[39m.\u001b[39mencoding \u001b[39mand\u001b[39;00m \u001b[39m\"\u001b[39m\u001b[39mb\u001b[39m\u001b[39m\"\u001b[39m \u001b[39mnot\u001b[39;00m \u001b[39min\u001b[39;00m ioargs\u001b[39m.\u001b[39mmode:\n\u001b[1;32m    855\u001b[0m         \u001b[39m# Encoding\u001b[39;00m\n\u001b[0;32m--> 856\u001b[0m         handle \u001b[39m=\u001b[39m \u001b[39mopen\u001b[39;49m(\n\u001b[1;32m    857\u001b[0m             handle,\n\u001b[1;32m    858\u001b[0m             ioargs\u001b[39m.\u001b[39;49mmode,\n\u001b[1;32m    859\u001b[0m             encoding\u001b[39m=\u001b[39;49mioargs\u001b[39m.\u001b[39;49mencoding,\n\u001b[1;32m    860\u001b[0m             errors\u001b[39m=\u001b[39;49merrors,\n\u001b[1;32m    861\u001b[0m             newline\u001b[39m=\u001b[39;49m\u001b[39m\"\u001b[39;49m\u001b[39m\"\u001b[39;49m,\n\u001b[1;32m    862\u001b[0m         )\n\u001b[1;32m    863\u001b[0m     \u001b[39melse\u001b[39;00m:\n\u001b[1;32m    864\u001b[0m         \u001b[39m# Binary mode\u001b[39;00m\n\u001b[1;32m    865\u001b[0m         handle \u001b[39m=\u001b[39m \u001b[39mopen\u001b[39m(handle, ioargs\u001b[39m.\u001b[39mmode)\n",
      "\u001b[0;31mFileNotFoundError\u001b[0m: [Errno 2] No such file or directory: 'goodbook/results/RS-5_0.0_Original.csv'"
     ]
    }
   ],
   "source": [
    "# Load your datasets\n",
    "user_recommendations_df = pd.read_csv(\"goodbook/results/RS-5_0.0_Original.csv\")\n",
    "user_relevant_items_df = pd.read_csv(\"goodbook/trainVal-book0.csv\", sep=\",\", names= [\"user\", \"item\", \"rating\", \"genre\"])\n"
   ]
  },
  {
   "cell_type": "code",
   "execution_count": 16,
   "metadata": {},
   "outputs": [
    {
     "name": "stdout",
     "output_type": "stream",
     "text": [
      "Shannon Entropy: 7.9611163528376885\n"
     ]
    }
   ],
   "source": [
    "# Adapt the dataframes to fit the function's parameters\n",
    "user_recommendations = user_recommendations_df.groupby('user')[['item', 'score']].apply(lambda x: x.values.tolist()).to_dict()\n",
    "user_relevant_items = user_relevant_items_df.groupby('user')['item'].apply(list).to_dict()\n",
    "\n",
    "# Initialize the ShannonEntropy class with the adapted datasets\n",
    "entropy_metric = ShannonEntropy(user_recommendations, user_relevant_items)\n",
    "\n",
    "# Evaluate the metric\n",
    "result = entropy_metric.eval()\n",
    "\n",
    "print(\"Shannon Entropy:\", result)"
   ]
  },
  {
   "cell_type": "code",
   "execution_count": 152,
   "metadata": {},
   "outputs": [],
   "source": [
    "def opt_merge_max_mappings(dict1, dict2):\n",
    "    \"\"\" Merges two dictionaries based on the largest value in a given mapping.\n",
    "    Parameters\n",
    "    ----------\n",
    "    dict1 : Dict[Any, Comparable]\n",
    "    dict2 : Dict[Any, Comparable]\n",
    "    Returns\n",
    "    -------\n",
    "    Dict[Any, Comparable]\n",
    "        The merged dictionary\n",
    "    \"\"\"\n",
    "    # we will iterate over `other` to populate `merged`\n",
    "    merged, other = (dict1, dict2) if len(dict1) > len(dict2) else (dict2, dict1)\n",
    "    merged = dict(merged)\n",
    "\n",
    "    for key in other:\n",
    "        if key not in merged or other[key] > merged[key]:\n",
    "            merged[key] = other[key]\n",
    "    return merged\n",
    "\n",
    "\n",
    "def KL_symmetric(a, b):\n",
    "    return (entropy(a, b, base=2) + entropy(b, a, base=2)) / 2\n",
    "\n",
    "\n",
    "def JSD(P, Q):\n",
    "    _P = P / norm(P, ord=1)\n",
    "    _Q = Q / norm(Q, ord=1)\n",
    "    _M = 0.5 * (_P + _Q)\n",
    "    try:\n",
    "        jsd_root = math.sqrt(abs(0.5 * (entropy(_P, _M, base=2) + entropy(_Q, _M, base=2))))\n",
    "    except ZeroDivisionError:\n",
    "        print(P)\n",
    "        print(Q)\n",
    "        print()\n",
    "        jsd_root = None\n",
    "    return jsd_root\n",
    "\n",
    "class Calibration:\n",
    "\n",
    "    def __init__(self, config):\n",
    "        self.language = config['language']\n",
    "\n",
    "    def compute_distr(self, recommendations, genre_data):\n",
    "        id_to_genre = {row['item']: row['genre'] for index, row in genre_data.iterrows()}\n",
    "\n",
    "        distr = {}\n",
    "        for item_id, genres_list in recommendations.items():\n",
    "            for item in genres_list:\n",
    "                genres = id_to_genre.get(item, '')\n",
    "                for genre in genres.split(','):\n",
    "                    genre = genre.strip()\n",
    "                    category_freq = distr.get(genre, 0)\n",
    "                    distr[genre] = category_freq + 1\n",
    "        total_recommendations = sum(distr.values())\n",
    "        distr = {category: count / total_recommendations for category, count in distr.items()}\n",
    "        return distr\n",
    "    \n",
    "    def compute_kl_divergence(self, p, q):\n",
    "        # Combine keys from both dictionaries\n",
    "        all_keys = set(p.keys()).union(q.keys())\n",
    "        \n",
    "        # Initialize arrays for frequency values\n",
    "        p_values = np.zeros(len(all_keys))\n",
    "        q_values = np.zeros(len(all_keys))\n",
    "        \n",
    "        # Populate arrays with frequency values\n",
    "        for i, key in enumerate(all_keys):\n",
    "            p_values[i] = p.get(key, 0)\n",
    "            q_values[i] = q.get(key, 0)\n",
    "        \n",
    "        # Normalize distributions\n",
    "        p_values /= np.sum(p_values)\n",
    "        q_values /= np.sum(q_values)\n",
    "        \n",
    "        # Compute KL divergence\n",
    "        kl_div = entropy(p_values, q_values)\n",
    "        js_div = JSD(p_values, q_values)\n",
    "        \n",
    "        return [kl_div, js_div]\n",
    "\n",
    "    \n",
    "    # def compute_kl_divergence(self, p, q):\n",
    "    #     return entropy(p.values(), q.values())\n",
    "    \n",
    "    def category_divergence(self, reading_history, recommendation, categories):\n",
    "        freq_rec = self.compute_distr(recommendation, categories)\n",
    "        freq_history = self.compute_distr(reading_history, categories)\n",
    "        # print(\"Frequency distribution of reading history:\", freq_history)\n",
    "        # print(\"Frequency distribution of recommendation:\", freq_rec)\n",
    "        divergence = self.compute_kl_divergence(freq_history, freq_rec)  \n",
    "        return divergence\n",
    "\n",
    "    def calculate_user_level(self, user_reading_history, user_recommendation, genre_data, num_iterations=1):\n",
    "        kl_divergences = {}\n",
    "        js_divergences = {}\n",
    "        \n",
    "        for algo in user_recommendation['Algorithm'].unique():\n",
    "            # Filter user_recommendation DataFrame for the current Algorithm\n",
    "            user_recommendation_algo = user_recommendation[user_recommendation['Algorithm'] == algo]\n",
    "            \n",
    "            kl_divergences[algo] = []\n",
    "            js_divergences[algo] = []\n",
    "            \n",
    "            for _ in range(num_iterations):\n",
    "                kl, js = self.category_divergence(user_reading_history, user_recommendation_algo, genre_data)\n",
    "                kl_divergences[algo].append(kl)\n",
    "                js_divergences[algo].append(js)\n",
    "        \n",
    "        avg_kl_divergences = {algo: np.mean(divergences) for algo, divergences in kl_divergences.items()}\n",
    "        avg_js_divergences = {algo: np.mean(divergences) for algo, divergences in js_divergences.items()}\n",
    "        \n",
    "        return avg_kl_divergences, avg_js_divergences\n"
   ]
  },
  {
   "cell_type": "code",
   "execution_count": 162,
   "metadata": {},
   "outputs": [],
   "source": [
    "# user_recommendation = pd.read_csv(\"goodbook/results/RS-KNN-10_0.05_2Step.csv\")\n",
    "p_obfuscation = 0.05\n",
    "preprocess = [\"Add\", \"2Step\", \"original\"][1] # \"1Step\", \"Obf\", \"original\"\n",
    "topk = [5, 10][1] #\n",
    "# train = pd.read_csv (\"goodbook/trainVal-book0.csv\", sep=\",\", names= [\"user\", \"item\", \"rating\", \"genre\"]) # \n",
    "user_reading_history = pd.read_csv (f\"goodbook/Adding_user_item_matrix_{p_obfuscation}_top50Inditems_top100IndiUsers_Categories.csv\", sep=\",\", names= [\"user\", \"item\"])#, \"rating\", \"genre\"]) # \n",
    "user_recommendation = pd.read_csv(f\"goodbook/results/RS-KNN-{topk}_{p_obfuscation}_{preprocess}.csv\")\n",
    "\n",
    "\n",
    "genre_data = pd.read_csv(\"/Users/mslokom/Documents/RecSys_News/goodbook/available_genres_books.csv\")\n",
    "genre_data= genre_data.rename(columns={'book_id': 'item'})"
   ]
  },
  {
   "cell_type": "code",
   "execution_count": 163,
   "metadata": {},
   "outputs": [
    {
     "data": {
      "text/html": [
       "<div>\n",
       "<style scoped>\n",
       "    .dataframe tbody tr th:only-of-type {\n",
       "        vertical-align: middle;\n",
       "    }\n",
       "\n",
       "    .dataframe tbody tr th {\n",
       "        vertical-align: top;\n",
       "    }\n",
       "\n",
       "    .dataframe thead th {\n",
       "        text-align: right;\n",
       "    }\n",
       "</style>\n",
       "<table border=\"1\" class=\"dataframe\">\n",
       "  <thead>\n",
       "    <tr style=\"text-align: right;\">\n",
       "      <th></th>\n",
       "      <th>user</th>\n",
       "      <th>item</th>\n",
       "    </tr>\n",
       "  </thead>\n",
       "  <tbody>\n",
       "    <tr>\n",
       "      <th>0</th>\n",
       "      <td>1</td>\n",
       "      <td>3</td>\n",
       "    </tr>\n",
       "    <tr>\n",
       "      <th>1</th>\n",
       "      <td>1</td>\n",
       "      <td>4</td>\n",
       "    </tr>\n",
       "    <tr>\n",
       "      <th>2</th>\n",
       "      <td>1</td>\n",
       "      <td>5</td>\n",
       "    </tr>\n",
       "    <tr>\n",
       "      <th>3</th>\n",
       "      <td>1</td>\n",
       "      <td>7</td>\n",
       "    </tr>\n",
       "    <tr>\n",
       "      <th>4</th>\n",
       "      <td>1</td>\n",
       "      <td>8</td>\n",
       "    </tr>\n",
       "    <tr>\n",
       "      <th>...</th>\n",
       "      <td>...</td>\n",
       "      <td>...</td>\n",
       "    </tr>\n",
       "    <tr>\n",
       "      <th>9665</th>\n",
       "      <td>943</td>\n",
       "      <td>109</td>\n",
       "    </tr>\n",
       "    <tr>\n",
       "      <th>9666</th>\n",
       "      <td>943</td>\n",
       "      <td>127</td>\n",
       "    </tr>\n",
       "    <tr>\n",
       "      <th>9667</th>\n",
       "      <td>943</td>\n",
       "      <td>204</td>\n",
       "    </tr>\n",
       "    <tr>\n",
       "      <th>9668</th>\n",
       "      <td>943</td>\n",
       "      <td>381</td>\n",
       "    </tr>\n",
       "    <tr>\n",
       "      <th>9669</th>\n",
       "      <td>943</td>\n",
       "      <td>561</td>\n",
       "    </tr>\n",
       "  </tbody>\n",
       "</table>\n",
       "<p>9670 rows × 2 columns</p>\n",
       "</div>"
      ],
      "text/plain": [
       "      user  item\n",
       "0        1     3\n",
       "1        1     4\n",
       "2        1     5\n",
       "3        1     7\n",
       "4        1     8\n",
       "...    ...   ...\n",
       "9665   943   109\n",
       "9666   943   127\n",
       "9667   943   204\n",
       "9668   943   381\n",
       "9669   943   561\n",
       "\n",
       "[9670 rows x 2 columns]"
      ]
     },
     "execution_count": 163,
     "metadata": {},
     "output_type": "execute_result"
    }
   ],
   "source": [
    "user_reading_history"
   ]
  },
  {
   "cell_type": "code",
   "execution_count": 156,
   "metadata": {},
   "outputs": [
    {
     "name": "stdout",
     "output_type": "stream",
     "text": [
      "Average KL Divergence: {'ItemKNN': 1.300323624735443, 'UserKNN': 1.2568280575649549}\n",
      "Average JS Divergence: {'ItemKNN': 0.6501563710173643, 'UserKNN': 0.6423915484567495}\n"
     ]
    }
   ],
   "source": [
    "config = {'language': 'english'}\n",
    "\n",
    "calibration = Calibration(config)\n",
    "user_id = 1  # Example user ID\n",
    "user_reading_history_for_user = user_reading_history[user_reading_history['user'] == user_id]\n",
    "\n",
    "calibration_scores = calibration.calculate_user_level(user_reading_history_for_user, user_recommendation, genre_data)\n",
    "print(\"Average KL Divergence:\", calibration_scores[0])\n",
    "print(\"Average JS Divergence:\", calibration_scores[1])\n"
   ]
  },
  {
   "cell_type": "code",
   "execution_count": 164,
   "metadata": {},
   "outputs": [
    {
     "name": "stdout",
     "output_type": "stream",
     "text": [
      "1\n"
     ]
    },
    {
     "name": "stderr",
     "output_type": "stream",
     "text": [
      "/var/folders/8v/cgqpzdls33l6jdsvj3z4fdyh0000gn/T/ipykernel_64710/506424766.py:25: FutureWarning: The frame.append method is deprecated and will be removed from pandas in a future version. Use pandas.concat instead.\n",
      "  results = results.append({'user': user_id, 'Algorithm': algo, 'KL_div': calibration_scores[0], 'JS_div': calibration_scores[1]}, ignore_index=True)\n",
      "/var/folders/8v/cgqpzdls33l6jdsvj3z4fdyh0000gn/T/ipykernel_64710/506424766.py:25: FutureWarning: The frame.append method is deprecated and will be removed from pandas in a future version. Use pandas.concat instead.\n",
      "  results = results.append({'user': user_id, 'Algorithm': algo, 'KL_div': calibration_scores[0], 'JS_div': calibration_scores[1]}, ignore_index=True)\n"
     ]
    },
    {
     "name": "stdout",
     "output_type": "stream",
     "text": [
      "2\n"
     ]
    },
    {
     "name": "stderr",
     "output_type": "stream",
     "text": [
      "/var/folders/8v/cgqpzdls33l6jdsvj3z4fdyh0000gn/T/ipykernel_64710/506424766.py:25: FutureWarning: The frame.append method is deprecated and will be removed from pandas in a future version. Use pandas.concat instead.\n",
      "  results = results.append({'user': user_id, 'Algorithm': algo, 'KL_div': calibration_scores[0], 'JS_div': calibration_scores[1]}, ignore_index=True)\n",
      "/var/folders/8v/cgqpzdls33l6jdsvj3z4fdyh0000gn/T/ipykernel_64710/506424766.py:25: FutureWarning: The frame.append method is deprecated and will be removed from pandas in a future version. Use pandas.concat instead.\n",
      "  results = results.append({'user': user_id, 'Algorithm': algo, 'KL_div': calibration_scores[0], 'JS_div': calibration_scores[1]}, ignore_index=True)\n"
     ]
    },
    {
     "name": "stdout",
     "output_type": "stream",
     "text": [
      "3\n"
     ]
    },
    {
     "name": "stderr",
     "output_type": "stream",
     "text": [
      "/var/folders/8v/cgqpzdls33l6jdsvj3z4fdyh0000gn/T/ipykernel_64710/506424766.py:25: FutureWarning: The frame.append method is deprecated and will be removed from pandas in a future version. Use pandas.concat instead.\n",
      "  results = results.append({'user': user_id, 'Algorithm': algo, 'KL_div': calibration_scores[0], 'JS_div': calibration_scores[1]}, ignore_index=True)\n",
      "/var/folders/8v/cgqpzdls33l6jdsvj3z4fdyh0000gn/T/ipykernel_64710/506424766.py:25: FutureWarning: The frame.append method is deprecated and will be removed from pandas in a future version. Use pandas.concat instead.\n",
      "  results = results.append({'user': user_id, 'Algorithm': algo, 'KL_div': calibration_scores[0], 'JS_div': calibration_scores[1]}, ignore_index=True)\n"
     ]
    },
    {
     "name": "stdout",
     "output_type": "stream",
     "text": [
      "4\n"
     ]
    },
    {
     "name": "stderr",
     "output_type": "stream",
     "text": [
      "/var/folders/8v/cgqpzdls33l6jdsvj3z4fdyh0000gn/T/ipykernel_64710/506424766.py:25: FutureWarning: The frame.append method is deprecated and will be removed from pandas in a future version. Use pandas.concat instead.\n",
      "  results = results.append({'user': user_id, 'Algorithm': algo, 'KL_div': calibration_scores[0], 'JS_div': calibration_scores[1]}, ignore_index=True)\n",
      "/var/folders/8v/cgqpzdls33l6jdsvj3z4fdyh0000gn/T/ipykernel_64710/506424766.py:25: FutureWarning: The frame.append method is deprecated and will be removed from pandas in a future version. Use pandas.concat instead.\n",
      "  results = results.append({'user': user_id, 'Algorithm': algo, 'KL_div': calibration_scores[0], 'JS_div': calibration_scores[1]}, ignore_index=True)\n"
     ]
    },
    {
     "name": "stdout",
     "output_type": "stream",
     "text": [
      "5\n"
     ]
    },
    {
     "name": "stderr",
     "output_type": "stream",
     "text": [
      "/var/folders/8v/cgqpzdls33l6jdsvj3z4fdyh0000gn/T/ipykernel_64710/506424766.py:25: FutureWarning: The frame.append method is deprecated and will be removed from pandas in a future version. Use pandas.concat instead.\n",
      "  results = results.append({'user': user_id, 'Algorithm': algo, 'KL_div': calibration_scores[0], 'JS_div': calibration_scores[1]}, ignore_index=True)\n",
      "/var/folders/8v/cgqpzdls33l6jdsvj3z4fdyh0000gn/T/ipykernel_64710/506424766.py:25: FutureWarning: The frame.append method is deprecated and will be removed from pandas in a future version. Use pandas.concat instead.\n",
      "  results = results.append({'user': user_id, 'Algorithm': algo, 'KL_div': calibration_scores[0], 'JS_div': calibration_scores[1]}, ignore_index=True)\n"
     ]
    },
    {
     "name": "stdout",
     "output_type": "stream",
     "text": [
      "6\n"
     ]
    },
    {
     "name": "stderr",
     "output_type": "stream",
     "text": [
      "/var/folders/8v/cgqpzdls33l6jdsvj3z4fdyh0000gn/T/ipykernel_64710/506424766.py:25: FutureWarning: The frame.append method is deprecated and will be removed from pandas in a future version. Use pandas.concat instead.\n",
      "  results = results.append({'user': user_id, 'Algorithm': algo, 'KL_div': calibration_scores[0], 'JS_div': calibration_scores[1]}, ignore_index=True)\n",
      "/var/folders/8v/cgqpzdls33l6jdsvj3z4fdyh0000gn/T/ipykernel_64710/506424766.py:25: FutureWarning: The frame.append method is deprecated and will be removed from pandas in a future version. Use pandas.concat instead.\n",
      "  results = results.append({'user': user_id, 'Algorithm': algo, 'KL_div': calibration_scores[0], 'JS_div': calibration_scores[1]}, ignore_index=True)\n"
     ]
    },
    {
     "name": "stdout",
     "output_type": "stream",
     "text": [
      "7\n"
     ]
    },
    {
     "name": "stderr",
     "output_type": "stream",
     "text": [
      "/var/folders/8v/cgqpzdls33l6jdsvj3z4fdyh0000gn/T/ipykernel_64710/506424766.py:25: FutureWarning: The frame.append method is deprecated and will be removed from pandas in a future version. Use pandas.concat instead.\n",
      "  results = results.append({'user': user_id, 'Algorithm': algo, 'KL_div': calibration_scores[0], 'JS_div': calibration_scores[1]}, ignore_index=True)\n",
      "/var/folders/8v/cgqpzdls33l6jdsvj3z4fdyh0000gn/T/ipykernel_64710/506424766.py:25: FutureWarning: The frame.append method is deprecated and will be removed from pandas in a future version. Use pandas.concat instead.\n",
      "  results = results.append({'user': user_id, 'Algorithm': algo, 'KL_div': calibration_scores[0], 'JS_div': calibration_scores[1]}, ignore_index=True)\n"
     ]
    },
    {
     "name": "stdout",
     "output_type": "stream",
     "text": [
      "8\n"
     ]
    },
    {
     "name": "stderr",
     "output_type": "stream",
     "text": [
      "/var/folders/8v/cgqpzdls33l6jdsvj3z4fdyh0000gn/T/ipykernel_64710/506424766.py:25: FutureWarning: The frame.append method is deprecated and will be removed from pandas in a future version. Use pandas.concat instead.\n",
      "  results = results.append({'user': user_id, 'Algorithm': algo, 'KL_div': calibration_scores[0], 'JS_div': calibration_scores[1]}, ignore_index=True)\n",
      "/var/folders/8v/cgqpzdls33l6jdsvj3z4fdyh0000gn/T/ipykernel_64710/506424766.py:25: FutureWarning: The frame.append method is deprecated and will be removed from pandas in a future version. Use pandas.concat instead.\n",
      "  results = results.append({'user': user_id, 'Algorithm': algo, 'KL_div': calibration_scores[0], 'JS_div': calibration_scores[1]}, ignore_index=True)\n"
     ]
    },
    {
     "name": "stdout",
     "output_type": "stream",
     "text": [
      "9\n"
     ]
    },
    {
     "name": "stderr",
     "output_type": "stream",
     "text": [
      "/var/folders/8v/cgqpzdls33l6jdsvj3z4fdyh0000gn/T/ipykernel_64710/506424766.py:25: FutureWarning: The frame.append method is deprecated and will be removed from pandas in a future version. Use pandas.concat instead.\n",
      "  results = results.append({'user': user_id, 'Algorithm': algo, 'KL_div': calibration_scores[0], 'JS_div': calibration_scores[1]}, ignore_index=True)\n",
      "/var/folders/8v/cgqpzdls33l6jdsvj3z4fdyh0000gn/T/ipykernel_64710/506424766.py:25: FutureWarning: The frame.append method is deprecated and will be removed from pandas in a future version. Use pandas.concat instead.\n",
      "  results = results.append({'user': user_id, 'Algorithm': algo, 'KL_div': calibration_scores[0], 'JS_div': calibration_scores[1]}, ignore_index=True)\n"
     ]
    },
    {
     "name": "stdout",
     "output_type": "stream",
     "text": [
      "10\n"
     ]
    },
    {
     "name": "stderr",
     "output_type": "stream",
     "text": [
      "/var/folders/8v/cgqpzdls33l6jdsvj3z4fdyh0000gn/T/ipykernel_64710/506424766.py:25: FutureWarning: The frame.append method is deprecated and will be removed from pandas in a future version. Use pandas.concat instead.\n",
      "  results = results.append({'user': user_id, 'Algorithm': algo, 'KL_div': calibration_scores[0], 'JS_div': calibration_scores[1]}, ignore_index=True)\n",
      "/var/folders/8v/cgqpzdls33l6jdsvj3z4fdyh0000gn/T/ipykernel_64710/506424766.py:25: FutureWarning: The frame.append method is deprecated and will be removed from pandas in a future version. Use pandas.concat instead.\n",
      "  results = results.append({'user': user_id, 'Algorithm': algo, 'KL_div': calibration_scores[0], 'JS_div': calibration_scores[1]}, ignore_index=True)\n"
     ]
    },
    {
     "name": "stdout",
     "output_type": "stream",
     "text": [
      "11\n"
     ]
    },
    {
     "name": "stderr",
     "output_type": "stream",
     "text": [
      "/var/folders/8v/cgqpzdls33l6jdsvj3z4fdyh0000gn/T/ipykernel_64710/506424766.py:25: FutureWarning: The frame.append method is deprecated and will be removed from pandas in a future version. Use pandas.concat instead.\n",
      "  results = results.append({'user': user_id, 'Algorithm': algo, 'KL_div': calibration_scores[0], 'JS_div': calibration_scores[1]}, ignore_index=True)\n",
      "/var/folders/8v/cgqpzdls33l6jdsvj3z4fdyh0000gn/T/ipykernel_64710/506424766.py:25: FutureWarning: The frame.append method is deprecated and will be removed from pandas in a future version. Use pandas.concat instead.\n",
      "  results = results.append({'user': user_id, 'Algorithm': algo, 'KL_div': calibration_scores[0], 'JS_div': calibration_scores[1]}, ignore_index=True)\n"
     ]
    },
    {
     "name": "stdout",
     "output_type": "stream",
     "text": [
      "12\n"
     ]
    },
    {
     "name": "stderr",
     "output_type": "stream",
     "text": [
      "/var/folders/8v/cgqpzdls33l6jdsvj3z4fdyh0000gn/T/ipykernel_64710/506424766.py:25: FutureWarning: The frame.append method is deprecated and will be removed from pandas in a future version. Use pandas.concat instead.\n",
      "  results = results.append({'user': user_id, 'Algorithm': algo, 'KL_div': calibration_scores[0], 'JS_div': calibration_scores[1]}, ignore_index=True)\n",
      "/var/folders/8v/cgqpzdls33l6jdsvj3z4fdyh0000gn/T/ipykernel_64710/506424766.py:25: FutureWarning: The frame.append method is deprecated and will be removed from pandas in a future version. Use pandas.concat instead.\n",
      "  results = results.append({'user': user_id, 'Algorithm': algo, 'KL_div': calibration_scores[0], 'JS_div': calibration_scores[1]}, ignore_index=True)\n"
     ]
    },
    {
     "name": "stdout",
     "output_type": "stream",
     "text": [
      "13\n"
     ]
    },
    {
     "name": "stderr",
     "output_type": "stream",
     "text": [
      "/var/folders/8v/cgqpzdls33l6jdsvj3z4fdyh0000gn/T/ipykernel_64710/506424766.py:25: FutureWarning: The frame.append method is deprecated and will be removed from pandas in a future version. Use pandas.concat instead.\n",
      "  results = results.append({'user': user_id, 'Algorithm': algo, 'KL_div': calibration_scores[0], 'JS_div': calibration_scores[1]}, ignore_index=True)\n",
      "/var/folders/8v/cgqpzdls33l6jdsvj3z4fdyh0000gn/T/ipykernel_64710/506424766.py:25: FutureWarning: The frame.append method is deprecated and will be removed from pandas in a future version. Use pandas.concat instead.\n",
      "  results = results.append({'user': user_id, 'Algorithm': algo, 'KL_div': calibration_scores[0], 'JS_div': calibration_scores[1]}, ignore_index=True)\n"
     ]
    },
    {
     "name": "stdout",
     "output_type": "stream",
     "text": [
      "14\n"
     ]
    },
    {
     "name": "stderr",
     "output_type": "stream",
     "text": [
      "/var/folders/8v/cgqpzdls33l6jdsvj3z4fdyh0000gn/T/ipykernel_64710/506424766.py:25: FutureWarning: The frame.append method is deprecated and will be removed from pandas in a future version. Use pandas.concat instead.\n",
      "  results = results.append({'user': user_id, 'Algorithm': algo, 'KL_div': calibration_scores[0], 'JS_div': calibration_scores[1]}, ignore_index=True)\n",
      "/var/folders/8v/cgqpzdls33l6jdsvj3z4fdyh0000gn/T/ipykernel_64710/506424766.py:25: FutureWarning: The frame.append method is deprecated and will be removed from pandas in a future version. Use pandas.concat instead.\n",
      "  results = results.append({'user': user_id, 'Algorithm': algo, 'KL_div': calibration_scores[0], 'JS_div': calibration_scores[1]}, ignore_index=True)\n"
     ]
    },
    {
     "name": "stdout",
     "output_type": "stream",
     "text": [
      "15\n"
     ]
    },
    {
     "name": "stderr",
     "output_type": "stream",
     "text": [
      "/var/folders/8v/cgqpzdls33l6jdsvj3z4fdyh0000gn/T/ipykernel_64710/506424766.py:25: FutureWarning: The frame.append method is deprecated and will be removed from pandas in a future version. Use pandas.concat instead.\n",
      "  results = results.append({'user': user_id, 'Algorithm': algo, 'KL_div': calibration_scores[0], 'JS_div': calibration_scores[1]}, ignore_index=True)\n",
      "/var/folders/8v/cgqpzdls33l6jdsvj3z4fdyh0000gn/T/ipykernel_64710/506424766.py:25: FutureWarning: The frame.append method is deprecated and will be removed from pandas in a future version. Use pandas.concat instead.\n",
      "  results = results.append({'user': user_id, 'Algorithm': algo, 'KL_div': calibration_scores[0], 'JS_div': calibration_scores[1]}, ignore_index=True)\n"
     ]
    },
    {
     "name": "stdout",
     "output_type": "stream",
     "text": [
      "16\n"
     ]
    },
    {
     "name": "stderr",
     "output_type": "stream",
     "text": [
      "/var/folders/8v/cgqpzdls33l6jdsvj3z4fdyh0000gn/T/ipykernel_64710/506424766.py:25: FutureWarning: The frame.append method is deprecated and will be removed from pandas in a future version. Use pandas.concat instead.\n",
      "  results = results.append({'user': user_id, 'Algorithm': algo, 'KL_div': calibration_scores[0], 'JS_div': calibration_scores[1]}, ignore_index=True)\n",
      "/var/folders/8v/cgqpzdls33l6jdsvj3z4fdyh0000gn/T/ipykernel_64710/506424766.py:25: FutureWarning: The frame.append method is deprecated and will be removed from pandas in a future version. Use pandas.concat instead.\n",
      "  results = results.append({'user': user_id, 'Algorithm': algo, 'KL_div': calibration_scores[0], 'JS_div': calibration_scores[1]}, ignore_index=True)\n"
     ]
    },
    {
     "name": "stdout",
     "output_type": "stream",
     "text": [
      "17\n"
     ]
    },
    {
     "name": "stderr",
     "output_type": "stream",
     "text": [
      "/var/folders/8v/cgqpzdls33l6jdsvj3z4fdyh0000gn/T/ipykernel_64710/506424766.py:25: FutureWarning: The frame.append method is deprecated and will be removed from pandas in a future version. Use pandas.concat instead.\n",
      "  results = results.append({'user': user_id, 'Algorithm': algo, 'KL_div': calibration_scores[0], 'JS_div': calibration_scores[1]}, ignore_index=True)\n",
      "/var/folders/8v/cgqpzdls33l6jdsvj3z4fdyh0000gn/T/ipykernel_64710/506424766.py:25: FutureWarning: The frame.append method is deprecated and will be removed from pandas in a future version. Use pandas.concat instead.\n",
      "  results = results.append({'user': user_id, 'Algorithm': algo, 'KL_div': calibration_scores[0], 'JS_div': calibration_scores[1]}, ignore_index=True)\n"
     ]
    },
    {
     "name": "stdout",
     "output_type": "stream",
     "text": [
      "18\n"
     ]
    },
    {
     "name": "stderr",
     "output_type": "stream",
     "text": [
      "/var/folders/8v/cgqpzdls33l6jdsvj3z4fdyh0000gn/T/ipykernel_64710/506424766.py:25: FutureWarning: The frame.append method is deprecated and will be removed from pandas in a future version. Use pandas.concat instead.\n",
      "  results = results.append({'user': user_id, 'Algorithm': algo, 'KL_div': calibration_scores[0], 'JS_div': calibration_scores[1]}, ignore_index=True)\n",
      "/var/folders/8v/cgqpzdls33l6jdsvj3z4fdyh0000gn/T/ipykernel_64710/506424766.py:25: FutureWarning: The frame.append method is deprecated and will be removed from pandas in a future version. Use pandas.concat instead.\n",
      "  results = results.append({'user': user_id, 'Algorithm': algo, 'KL_div': calibration_scores[0], 'JS_div': calibration_scores[1]}, ignore_index=True)\n"
     ]
    },
    {
     "name": "stdout",
     "output_type": "stream",
     "text": [
      "19\n"
     ]
    },
    {
     "name": "stderr",
     "output_type": "stream",
     "text": [
      "/var/folders/8v/cgqpzdls33l6jdsvj3z4fdyh0000gn/T/ipykernel_64710/506424766.py:25: FutureWarning: The frame.append method is deprecated and will be removed from pandas in a future version. Use pandas.concat instead.\n",
      "  results = results.append({'user': user_id, 'Algorithm': algo, 'KL_div': calibration_scores[0], 'JS_div': calibration_scores[1]}, ignore_index=True)\n",
      "/var/folders/8v/cgqpzdls33l6jdsvj3z4fdyh0000gn/T/ipykernel_64710/506424766.py:25: FutureWarning: The frame.append method is deprecated and will be removed from pandas in a future version. Use pandas.concat instead.\n",
      "  results = results.append({'user': user_id, 'Algorithm': algo, 'KL_div': calibration_scores[0], 'JS_div': calibration_scores[1]}, ignore_index=True)\n"
     ]
    },
    {
     "name": "stdout",
     "output_type": "stream",
     "text": [
      "20\n"
     ]
    },
    {
     "name": "stderr",
     "output_type": "stream",
     "text": [
      "/var/folders/8v/cgqpzdls33l6jdsvj3z4fdyh0000gn/T/ipykernel_64710/506424766.py:25: FutureWarning: The frame.append method is deprecated and will be removed from pandas in a future version. Use pandas.concat instead.\n",
      "  results = results.append({'user': user_id, 'Algorithm': algo, 'KL_div': calibration_scores[0], 'JS_div': calibration_scores[1]}, ignore_index=True)\n",
      "/var/folders/8v/cgqpzdls33l6jdsvj3z4fdyh0000gn/T/ipykernel_64710/506424766.py:25: FutureWarning: The frame.append method is deprecated and will be removed from pandas in a future version. Use pandas.concat instead.\n",
      "  results = results.append({'user': user_id, 'Algorithm': algo, 'KL_div': calibration_scores[0], 'JS_div': calibration_scores[1]}, ignore_index=True)\n"
     ]
    },
    {
     "name": "stdout",
     "output_type": "stream",
     "text": [
      "21\n"
     ]
    },
    {
     "name": "stderr",
     "output_type": "stream",
     "text": [
      "/var/folders/8v/cgqpzdls33l6jdsvj3z4fdyh0000gn/T/ipykernel_64710/506424766.py:25: FutureWarning: The frame.append method is deprecated and will be removed from pandas in a future version. Use pandas.concat instead.\n",
      "  results = results.append({'user': user_id, 'Algorithm': algo, 'KL_div': calibration_scores[0], 'JS_div': calibration_scores[1]}, ignore_index=True)\n",
      "/var/folders/8v/cgqpzdls33l6jdsvj3z4fdyh0000gn/T/ipykernel_64710/506424766.py:25: FutureWarning: The frame.append method is deprecated and will be removed from pandas in a future version. Use pandas.concat instead.\n",
      "  results = results.append({'user': user_id, 'Algorithm': algo, 'KL_div': calibration_scores[0], 'JS_div': calibration_scores[1]}, ignore_index=True)\n"
     ]
    },
    {
     "name": "stdout",
     "output_type": "stream",
     "text": [
      "22\n"
     ]
    },
    {
     "name": "stderr",
     "output_type": "stream",
     "text": [
      "/var/folders/8v/cgqpzdls33l6jdsvj3z4fdyh0000gn/T/ipykernel_64710/506424766.py:25: FutureWarning: The frame.append method is deprecated and will be removed from pandas in a future version. Use pandas.concat instead.\n",
      "  results = results.append({'user': user_id, 'Algorithm': algo, 'KL_div': calibration_scores[0], 'JS_div': calibration_scores[1]}, ignore_index=True)\n",
      "/var/folders/8v/cgqpzdls33l6jdsvj3z4fdyh0000gn/T/ipykernel_64710/506424766.py:25: FutureWarning: The frame.append method is deprecated and will be removed from pandas in a future version. Use pandas.concat instead.\n",
      "  results = results.append({'user': user_id, 'Algorithm': algo, 'KL_div': calibration_scores[0], 'JS_div': calibration_scores[1]}, ignore_index=True)\n"
     ]
    },
    {
     "name": "stdout",
     "output_type": "stream",
     "text": [
      "23\n"
     ]
    },
    {
     "name": "stderr",
     "output_type": "stream",
     "text": [
      "/var/folders/8v/cgqpzdls33l6jdsvj3z4fdyh0000gn/T/ipykernel_64710/506424766.py:25: FutureWarning: The frame.append method is deprecated and will be removed from pandas in a future version. Use pandas.concat instead.\n",
      "  results = results.append({'user': user_id, 'Algorithm': algo, 'KL_div': calibration_scores[0], 'JS_div': calibration_scores[1]}, ignore_index=True)\n",
      "/var/folders/8v/cgqpzdls33l6jdsvj3z4fdyh0000gn/T/ipykernel_64710/506424766.py:25: FutureWarning: The frame.append method is deprecated and will be removed from pandas in a future version. Use pandas.concat instead.\n",
      "  results = results.append({'user': user_id, 'Algorithm': algo, 'KL_div': calibration_scores[0], 'JS_div': calibration_scores[1]}, ignore_index=True)\n"
     ]
    },
    {
     "name": "stdout",
     "output_type": "stream",
     "text": [
      "24\n"
     ]
    },
    {
     "name": "stderr",
     "output_type": "stream",
     "text": [
      "/var/folders/8v/cgqpzdls33l6jdsvj3z4fdyh0000gn/T/ipykernel_64710/506424766.py:25: FutureWarning: The frame.append method is deprecated and will be removed from pandas in a future version. Use pandas.concat instead.\n",
      "  results = results.append({'user': user_id, 'Algorithm': algo, 'KL_div': calibration_scores[0], 'JS_div': calibration_scores[1]}, ignore_index=True)\n",
      "/var/folders/8v/cgqpzdls33l6jdsvj3z4fdyh0000gn/T/ipykernel_64710/506424766.py:25: FutureWarning: The frame.append method is deprecated and will be removed from pandas in a future version. Use pandas.concat instead.\n",
      "  results = results.append({'user': user_id, 'Algorithm': algo, 'KL_div': calibration_scores[0], 'JS_div': calibration_scores[1]}, ignore_index=True)\n"
     ]
    },
    {
     "name": "stdout",
     "output_type": "stream",
     "text": [
      "25\n"
     ]
    },
    {
     "name": "stderr",
     "output_type": "stream",
     "text": [
      "/var/folders/8v/cgqpzdls33l6jdsvj3z4fdyh0000gn/T/ipykernel_64710/506424766.py:25: FutureWarning: The frame.append method is deprecated and will be removed from pandas in a future version. Use pandas.concat instead.\n",
      "  results = results.append({'user': user_id, 'Algorithm': algo, 'KL_div': calibration_scores[0], 'JS_div': calibration_scores[1]}, ignore_index=True)\n",
      "/var/folders/8v/cgqpzdls33l6jdsvj3z4fdyh0000gn/T/ipykernel_64710/506424766.py:25: FutureWarning: The frame.append method is deprecated and will be removed from pandas in a future version. Use pandas.concat instead.\n",
      "  results = results.append({'user': user_id, 'Algorithm': algo, 'KL_div': calibration_scores[0], 'JS_div': calibration_scores[1]}, ignore_index=True)\n"
     ]
    },
    {
     "name": "stdout",
     "output_type": "stream",
     "text": [
      "26\n"
     ]
    },
    {
     "name": "stderr",
     "output_type": "stream",
     "text": [
      "/var/folders/8v/cgqpzdls33l6jdsvj3z4fdyh0000gn/T/ipykernel_64710/506424766.py:25: FutureWarning: The frame.append method is deprecated and will be removed from pandas in a future version. Use pandas.concat instead.\n",
      "  results = results.append({'user': user_id, 'Algorithm': algo, 'KL_div': calibration_scores[0], 'JS_div': calibration_scores[1]}, ignore_index=True)\n",
      "/var/folders/8v/cgqpzdls33l6jdsvj3z4fdyh0000gn/T/ipykernel_64710/506424766.py:25: FutureWarning: The frame.append method is deprecated and will be removed from pandas in a future version. Use pandas.concat instead.\n",
      "  results = results.append({'user': user_id, 'Algorithm': algo, 'KL_div': calibration_scores[0], 'JS_div': calibration_scores[1]}, ignore_index=True)\n"
     ]
    },
    {
     "name": "stdout",
     "output_type": "stream",
     "text": [
      "27\n"
     ]
    },
    {
     "name": "stderr",
     "output_type": "stream",
     "text": [
      "/var/folders/8v/cgqpzdls33l6jdsvj3z4fdyh0000gn/T/ipykernel_64710/506424766.py:25: FutureWarning: The frame.append method is deprecated and will be removed from pandas in a future version. Use pandas.concat instead.\n",
      "  results = results.append({'user': user_id, 'Algorithm': algo, 'KL_div': calibration_scores[0], 'JS_div': calibration_scores[1]}, ignore_index=True)\n",
      "/var/folders/8v/cgqpzdls33l6jdsvj3z4fdyh0000gn/T/ipykernel_64710/506424766.py:25: FutureWarning: The frame.append method is deprecated and will be removed from pandas in a future version. Use pandas.concat instead.\n",
      "  results = results.append({'user': user_id, 'Algorithm': algo, 'KL_div': calibration_scores[0], 'JS_div': calibration_scores[1]}, ignore_index=True)\n"
     ]
    },
    {
     "name": "stdout",
     "output_type": "stream",
     "text": [
      "28\n"
     ]
    },
    {
     "name": "stderr",
     "output_type": "stream",
     "text": [
      "/var/folders/8v/cgqpzdls33l6jdsvj3z4fdyh0000gn/T/ipykernel_64710/506424766.py:25: FutureWarning: The frame.append method is deprecated and will be removed from pandas in a future version. Use pandas.concat instead.\n",
      "  results = results.append({'user': user_id, 'Algorithm': algo, 'KL_div': calibration_scores[0], 'JS_div': calibration_scores[1]}, ignore_index=True)\n",
      "/var/folders/8v/cgqpzdls33l6jdsvj3z4fdyh0000gn/T/ipykernel_64710/506424766.py:25: FutureWarning: The frame.append method is deprecated and will be removed from pandas in a future version. Use pandas.concat instead.\n",
      "  results = results.append({'user': user_id, 'Algorithm': algo, 'KL_div': calibration_scores[0], 'JS_div': calibration_scores[1]}, ignore_index=True)\n"
     ]
    },
    {
     "name": "stdout",
     "output_type": "stream",
     "text": [
      "29\n"
     ]
    },
    {
     "name": "stderr",
     "output_type": "stream",
     "text": [
      "/var/folders/8v/cgqpzdls33l6jdsvj3z4fdyh0000gn/T/ipykernel_64710/506424766.py:25: FutureWarning: The frame.append method is deprecated and will be removed from pandas in a future version. Use pandas.concat instead.\n",
      "  results = results.append({'user': user_id, 'Algorithm': algo, 'KL_div': calibration_scores[0], 'JS_div': calibration_scores[1]}, ignore_index=True)\n",
      "/var/folders/8v/cgqpzdls33l6jdsvj3z4fdyh0000gn/T/ipykernel_64710/506424766.py:25: FutureWarning: The frame.append method is deprecated and will be removed from pandas in a future version. Use pandas.concat instead.\n",
      "  results = results.append({'user': user_id, 'Algorithm': algo, 'KL_div': calibration_scores[0], 'JS_div': calibration_scores[1]}, ignore_index=True)\n"
     ]
    },
    {
     "name": "stdout",
     "output_type": "stream",
     "text": [
      "30\n"
     ]
    },
    {
     "name": "stderr",
     "output_type": "stream",
     "text": [
      "/var/folders/8v/cgqpzdls33l6jdsvj3z4fdyh0000gn/T/ipykernel_64710/506424766.py:25: FutureWarning: The frame.append method is deprecated and will be removed from pandas in a future version. Use pandas.concat instead.\n",
      "  results = results.append({'user': user_id, 'Algorithm': algo, 'KL_div': calibration_scores[0], 'JS_div': calibration_scores[1]}, ignore_index=True)\n",
      "/var/folders/8v/cgqpzdls33l6jdsvj3z4fdyh0000gn/T/ipykernel_64710/506424766.py:25: FutureWarning: The frame.append method is deprecated and will be removed from pandas in a future version. Use pandas.concat instead.\n",
      "  results = results.append({'user': user_id, 'Algorithm': algo, 'KL_div': calibration_scores[0], 'JS_div': calibration_scores[1]}, ignore_index=True)\n"
     ]
    },
    {
     "name": "stdout",
     "output_type": "stream",
     "text": [
      "31\n"
     ]
    },
    {
     "name": "stderr",
     "output_type": "stream",
     "text": [
      "/var/folders/8v/cgqpzdls33l6jdsvj3z4fdyh0000gn/T/ipykernel_64710/506424766.py:25: FutureWarning: The frame.append method is deprecated and will be removed from pandas in a future version. Use pandas.concat instead.\n",
      "  results = results.append({'user': user_id, 'Algorithm': algo, 'KL_div': calibration_scores[0], 'JS_div': calibration_scores[1]}, ignore_index=True)\n",
      "/var/folders/8v/cgqpzdls33l6jdsvj3z4fdyh0000gn/T/ipykernel_64710/506424766.py:25: FutureWarning: The frame.append method is deprecated and will be removed from pandas in a future version. Use pandas.concat instead.\n",
      "  results = results.append({'user': user_id, 'Algorithm': algo, 'KL_div': calibration_scores[0], 'JS_div': calibration_scores[1]}, ignore_index=True)\n"
     ]
    },
    {
     "name": "stdout",
     "output_type": "stream",
     "text": [
      "32\n"
     ]
    },
    {
     "name": "stderr",
     "output_type": "stream",
     "text": [
      "/var/folders/8v/cgqpzdls33l6jdsvj3z4fdyh0000gn/T/ipykernel_64710/506424766.py:25: FutureWarning: The frame.append method is deprecated and will be removed from pandas in a future version. Use pandas.concat instead.\n",
      "  results = results.append({'user': user_id, 'Algorithm': algo, 'KL_div': calibration_scores[0], 'JS_div': calibration_scores[1]}, ignore_index=True)\n",
      "/var/folders/8v/cgqpzdls33l6jdsvj3z4fdyh0000gn/T/ipykernel_64710/506424766.py:25: FutureWarning: The frame.append method is deprecated and will be removed from pandas in a future version. Use pandas.concat instead.\n",
      "  results = results.append({'user': user_id, 'Algorithm': algo, 'KL_div': calibration_scores[0], 'JS_div': calibration_scores[1]}, ignore_index=True)\n"
     ]
    },
    {
     "name": "stdout",
     "output_type": "stream",
     "text": [
      "33\n"
     ]
    },
    {
     "name": "stderr",
     "output_type": "stream",
     "text": [
      "/var/folders/8v/cgqpzdls33l6jdsvj3z4fdyh0000gn/T/ipykernel_64710/506424766.py:25: FutureWarning: The frame.append method is deprecated and will be removed from pandas in a future version. Use pandas.concat instead.\n",
      "  results = results.append({'user': user_id, 'Algorithm': algo, 'KL_div': calibration_scores[0], 'JS_div': calibration_scores[1]}, ignore_index=True)\n",
      "/var/folders/8v/cgqpzdls33l6jdsvj3z4fdyh0000gn/T/ipykernel_64710/506424766.py:25: FutureWarning: The frame.append method is deprecated and will be removed from pandas in a future version. Use pandas.concat instead.\n",
      "  results = results.append({'user': user_id, 'Algorithm': algo, 'KL_div': calibration_scores[0], 'JS_div': calibration_scores[1]}, ignore_index=True)\n"
     ]
    },
    {
     "name": "stdout",
     "output_type": "stream",
     "text": [
      "34\n"
     ]
    },
    {
     "name": "stderr",
     "output_type": "stream",
     "text": [
      "/var/folders/8v/cgqpzdls33l6jdsvj3z4fdyh0000gn/T/ipykernel_64710/506424766.py:25: FutureWarning: The frame.append method is deprecated and will be removed from pandas in a future version. Use pandas.concat instead.\n",
      "  results = results.append({'user': user_id, 'Algorithm': algo, 'KL_div': calibration_scores[0], 'JS_div': calibration_scores[1]}, ignore_index=True)\n",
      "/var/folders/8v/cgqpzdls33l6jdsvj3z4fdyh0000gn/T/ipykernel_64710/506424766.py:25: FutureWarning: The frame.append method is deprecated and will be removed from pandas in a future version. Use pandas.concat instead.\n",
      "  results = results.append({'user': user_id, 'Algorithm': algo, 'KL_div': calibration_scores[0], 'JS_div': calibration_scores[1]}, ignore_index=True)\n"
     ]
    },
    {
     "name": "stdout",
     "output_type": "stream",
     "text": [
      "35\n"
     ]
    },
    {
     "name": "stderr",
     "output_type": "stream",
     "text": [
      "/var/folders/8v/cgqpzdls33l6jdsvj3z4fdyh0000gn/T/ipykernel_64710/506424766.py:25: FutureWarning: The frame.append method is deprecated and will be removed from pandas in a future version. Use pandas.concat instead.\n",
      "  results = results.append({'user': user_id, 'Algorithm': algo, 'KL_div': calibration_scores[0], 'JS_div': calibration_scores[1]}, ignore_index=True)\n",
      "/var/folders/8v/cgqpzdls33l6jdsvj3z4fdyh0000gn/T/ipykernel_64710/506424766.py:25: FutureWarning: The frame.append method is deprecated and will be removed from pandas in a future version. Use pandas.concat instead.\n",
      "  results = results.append({'user': user_id, 'Algorithm': algo, 'KL_div': calibration_scores[0], 'JS_div': calibration_scores[1]}, ignore_index=True)\n"
     ]
    },
    {
     "name": "stdout",
     "output_type": "stream",
     "text": [
      "36\n"
     ]
    },
    {
     "name": "stderr",
     "output_type": "stream",
     "text": [
      "/var/folders/8v/cgqpzdls33l6jdsvj3z4fdyh0000gn/T/ipykernel_64710/506424766.py:25: FutureWarning: The frame.append method is deprecated and will be removed from pandas in a future version. Use pandas.concat instead.\n",
      "  results = results.append({'user': user_id, 'Algorithm': algo, 'KL_div': calibration_scores[0], 'JS_div': calibration_scores[1]}, ignore_index=True)\n",
      "/var/folders/8v/cgqpzdls33l6jdsvj3z4fdyh0000gn/T/ipykernel_64710/506424766.py:25: FutureWarning: The frame.append method is deprecated and will be removed from pandas in a future version. Use pandas.concat instead.\n",
      "  results = results.append({'user': user_id, 'Algorithm': algo, 'KL_div': calibration_scores[0], 'JS_div': calibration_scores[1]}, ignore_index=True)\n"
     ]
    },
    {
     "name": "stdout",
     "output_type": "stream",
     "text": [
      "37\n"
     ]
    },
    {
     "name": "stderr",
     "output_type": "stream",
     "text": [
      "/var/folders/8v/cgqpzdls33l6jdsvj3z4fdyh0000gn/T/ipykernel_64710/506424766.py:25: FutureWarning: The frame.append method is deprecated and will be removed from pandas in a future version. Use pandas.concat instead.\n",
      "  results = results.append({'user': user_id, 'Algorithm': algo, 'KL_div': calibration_scores[0], 'JS_div': calibration_scores[1]}, ignore_index=True)\n",
      "/var/folders/8v/cgqpzdls33l6jdsvj3z4fdyh0000gn/T/ipykernel_64710/506424766.py:25: FutureWarning: The frame.append method is deprecated and will be removed from pandas in a future version. Use pandas.concat instead.\n",
      "  results = results.append({'user': user_id, 'Algorithm': algo, 'KL_div': calibration_scores[0], 'JS_div': calibration_scores[1]}, ignore_index=True)\n"
     ]
    },
    {
     "name": "stdout",
     "output_type": "stream",
     "text": [
      "38\n"
     ]
    },
    {
     "name": "stderr",
     "output_type": "stream",
     "text": [
      "/var/folders/8v/cgqpzdls33l6jdsvj3z4fdyh0000gn/T/ipykernel_64710/506424766.py:25: FutureWarning: The frame.append method is deprecated and will be removed from pandas in a future version. Use pandas.concat instead.\n",
      "  results = results.append({'user': user_id, 'Algorithm': algo, 'KL_div': calibration_scores[0], 'JS_div': calibration_scores[1]}, ignore_index=True)\n",
      "/var/folders/8v/cgqpzdls33l6jdsvj3z4fdyh0000gn/T/ipykernel_64710/506424766.py:25: FutureWarning: The frame.append method is deprecated and will be removed from pandas in a future version. Use pandas.concat instead.\n",
      "  results = results.append({'user': user_id, 'Algorithm': algo, 'KL_div': calibration_scores[0], 'JS_div': calibration_scores[1]}, ignore_index=True)\n"
     ]
    },
    {
     "name": "stdout",
     "output_type": "stream",
     "text": [
      "39\n"
     ]
    },
    {
     "name": "stderr",
     "output_type": "stream",
     "text": [
      "/var/folders/8v/cgqpzdls33l6jdsvj3z4fdyh0000gn/T/ipykernel_64710/506424766.py:25: FutureWarning: The frame.append method is deprecated and will be removed from pandas in a future version. Use pandas.concat instead.\n",
      "  results = results.append({'user': user_id, 'Algorithm': algo, 'KL_div': calibration_scores[0], 'JS_div': calibration_scores[1]}, ignore_index=True)\n",
      "/var/folders/8v/cgqpzdls33l6jdsvj3z4fdyh0000gn/T/ipykernel_64710/506424766.py:25: FutureWarning: The frame.append method is deprecated and will be removed from pandas in a future version. Use pandas.concat instead.\n",
      "  results = results.append({'user': user_id, 'Algorithm': algo, 'KL_div': calibration_scores[0], 'JS_div': calibration_scores[1]}, ignore_index=True)\n"
     ]
    },
    {
     "name": "stdout",
     "output_type": "stream",
     "text": [
      "40\n"
     ]
    },
    {
     "name": "stderr",
     "output_type": "stream",
     "text": [
      "/var/folders/8v/cgqpzdls33l6jdsvj3z4fdyh0000gn/T/ipykernel_64710/506424766.py:25: FutureWarning: The frame.append method is deprecated and will be removed from pandas in a future version. Use pandas.concat instead.\n",
      "  results = results.append({'user': user_id, 'Algorithm': algo, 'KL_div': calibration_scores[0], 'JS_div': calibration_scores[1]}, ignore_index=True)\n",
      "/var/folders/8v/cgqpzdls33l6jdsvj3z4fdyh0000gn/T/ipykernel_64710/506424766.py:25: FutureWarning: The frame.append method is deprecated and will be removed from pandas in a future version. Use pandas.concat instead.\n",
      "  results = results.append({'user': user_id, 'Algorithm': algo, 'KL_div': calibration_scores[0], 'JS_div': calibration_scores[1]}, ignore_index=True)\n"
     ]
    },
    {
     "name": "stdout",
     "output_type": "stream",
     "text": [
      "41\n"
     ]
    },
    {
     "name": "stderr",
     "output_type": "stream",
     "text": [
      "/var/folders/8v/cgqpzdls33l6jdsvj3z4fdyh0000gn/T/ipykernel_64710/506424766.py:25: FutureWarning: The frame.append method is deprecated and will be removed from pandas in a future version. Use pandas.concat instead.\n",
      "  results = results.append({'user': user_id, 'Algorithm': algo, 'KL_div': calibration_scores[0], 'JS_div': calibration_scores[1]}, ignore_index=True)\n",
      "/var/folders/8v/cgqpzdls33l6jdsvj3z4fdyh0000gn/T/ipykernel_64710/506424766.py:25: FutureWarning: The frame.append method is deprecated and will be removed from pandas in a future version. Use pandas.concat instead.\n",
      "  results = results.append({'user': user_id, 'Algorithm': algo, 'KL_div': calibration_scores[0], 'JS_div': calibration_scores[1]}, ignore_index=True)\n"
     ]
    },
    {
     "name": "stdout",
     "output_type": "stream",
     "text": [
      "42\n"
     ]
    },
    {
     "name": "stderr",
     "output_type": "stream",
     "text": [
      "/var/folders/8v/cgqpzdls33l6jdsvj3z4fdyh0000gn/T/ipykernel_64710/506424766.py:25: FutureWarning: The frame.append method is deprecated and will be removed from pandas in a future version. Use pandas.concat instead.\n",
      "  results = results.append({'user': user_id, 'Algorithm': algo, 'KL_div': calibration_scores[0], 'JS_div': calibration_scores[1]}, ignore_index=True)\n",
      "/var/folders/8v/cgqpzdls33l6jdsvj3z4fdyh0000gn/T/ipykernel_64710/506424766.py:25: FutureWarning: The frame.append method is deprecated and will be removed from pandas in a future version. Use pandas.concat instead.\n",
      "  results = results.append({'user': user_id, 'Algorithm': algo, 'KL_div': calibration_scores[0], 'JS_div': calibration_scores[1]}, ignore_index=True)\n"
     ]
    },
    {
     "name": "stdout",
     "output_type": "stream",
     "text": [
      "43\n"
     ]
    },
    {
     "name": "stderr",
     "output_type": "stream",
     "text": [
      "/var/folders/8v/cgqpzdls33l6jdsvj3z4fdyh0000gn/T/ipykernel_64710/506424766.py:25: FutureWarning: The frame.append method is deprecated and will be removed from pandas in a future version. Use pandas.concat instead.\n",
      "  results = results.append({'user': user_id, 'Algorithm': algo, 'KL_div': calibration_scores[0], 'JS_div': calibration_scores[1]}, ignore_index=True)\n",
      "/var/folders/8v/cgqpzdls33l6jdsvj3z4fdyh0000gn/T/ipykernel_64710/506424766.py:25: FutureWarning: The frame.append method is deprecated and will be removed from pandas in a future version. Use pandas.concat instead.\n",
      "  results = results.append({'user': user_id, 'Algorithm': algo, 'KL_div': calibration_scores[0], 'JS_div': calibration_scores[1]}, ignore_index=True)\n"
     ]
    },
    {
     "name": "stdout",
     "output_type": "stream",
     "text": [
      "44\n"
     ]
    },
    {
     "name": "stderr",
     "output_type": "stream",
     "text": [
      "/var/folders/8v/cgqpzdls33l6jdsvj3z4fdyh0000gn/T/ipykernel_64710/506424766.py:25: FutureWarning: The frame.append method is deprecated and will be removed from pandas in a future version. Use pandas.concat instead.\n",
      "  results = results.append({'user': user_id, 'Algorithm': algo, 'KL_div': calibration_scores[0], 'JS_div': calibration_scores[1]}, ignore_index=True)\n",
      "/var/folders/8v/cgqpzdls33l6jdsvj3z4fdyh0000gn/T/ipykernel_64710/506424766.py:25: FutureWarning: The frame.append method is deprecated and will be removed from pandas in a future version. Use pandas.concat instead.\n",
      "  results = results.append({'user': user_id, 'Algorithm': algo, 'KL_div': calibration_scores[0], 'JS_div': calibration_scores[1]}, ignore_index=True)\n"
     ]
    },
    {
     "name": "stdout",
     "output_type": "stream",
     "text": [
      "45\n"
     ]
    },
    {
     "name": "stderr",
     "output_type": "stream",
     "text": [
      "/var/folders/8v/cgqpzdls33l6jdsvj3z4fdyh0000gn/T/ipykernel_64710/506424766.py:25: FutureWarning: The frame.append method is deprecated and will be removed from pandas in a future version. Use pandas.concat instead.\n",
      "  results = results.append({'user': user_id, 'Algorithm': algo, 'KL_div': calibration_scores[0], 'JS_div': calibration_scores[1]}, ignore_index=True)\n",
      "/var/folders/8v/cgqpzdls33l6jdsvj3z4fdyh0000gn/T/ipykernel_64710/506424766.py:25: FutureWarning: The frame.append method is deprecated and will be removed from pandas in a future version. Use pandas.concat instead.\n",
      "  results = results.append({'user': user_id, 'Algorithm': algo, 'KL_div': calibration_scores[0], 'JS_div': calibration_scores[1]}, ignore_index=True)\n"
     ]
    },
    {
     "name": "stdout",
     "output_type": "stream",
     "text": [
      "46\n"
     ]
    },
    {
     "name": "stderr",
     "output_type": "stream",
     "text": [
      "/var/folders/8v/cgqpzdls33l6jdsvj3z4fdyh0000gn/T/ipykernel_64710/506424766.py:25: FutureWarning: The frame.append method is deprecated and will be removed from pandas in a future version. Use pandas.concat instead.\n",
      "  results = results.append({'user': user_id, 'Algorithm': algo, 'KL_div': calibration_scores[0], 'JS_div': calibration_scores[1]}, ignore_index=True)\n",
      "/var/folders/8v/cgqpzdls33l6jdsvj3z4fdyh0000gn/T/ipykernel_64710/506424766.py:25: FutureWarning: The frame.append method is deprecated and will be removed from pandas in a future version. Use pandas.concat instead.\n",
      "  results = results.append({'user': user_id, 'Algorithm': algo, 'KL_div': calibration_scores[0], 'JS_div': calibration_scores[1]}, ignore_index=True)\n"
     ]
    },
    {
     "name": "stdout",
     "output_type": "stream",
     "text": [
      "47\n"
     ]
    },
    {
     "name": "stderr",
     "output_type": "stream",
     "text": [
      "/var/folders/8v/cgqpzdls33l6jdsvj3z4fdyh0000gn/T/ipykernel_64710/506424766.py:25: FutureWarning: The frame.append method is deprecated and will be removed from pandas in a future version. Use pandas.concat instead.\n",
      "  results = results.append({'user': user_id, 'Algorithm': algo, 'KL_div': calibration_scores[0], 'JS_div': calibration_scores[1]}, ignore_index=True)\n",
      "/var/folders/8v/cgqpzdls33l6jdsvj3z4fdyh0000gn/T/ipykernel_64710/506424766.py:25: FutureWarning: The frame.append method is deprecated and will be removed from pandas in a future version. Use pandas.concat instead.\n",
      "  results = results.append({'user': user_id, 'Algorithm': algo, 'KL_div': calibration_scores[0], 'JS_div': calibration_scores[1]}, ignore_index=True)\n"
     ]
    },
    {
     "name": "stdout",
     "output_type": "stream",
     "text": [
      "48\n"
     ]
    },
    {
     "name": "stderr",
     "output_type": "stream",
     "text": [
      "/var/folders/8v/cgqpzdls33l6jdsvj3z4fdyh0000gn/T/ipykernel_64710/506424766.py:25: FutureWarning: The frame.append method is deprecated and will be removed from pandas in a future version. Use pandas.concat instead.\n",
      "  results = results.append({'user': user_id, 'Algorithm': algo, 'KL_div': calibration_scores[0], 'JS_div': calibration_scores[1]}, ignore_index=True)\n",
      "/var/folders/8v/cgqpzdls33l6jdsvj3z4fdyh0000gn/T/ipykernel_64710/506424766.py:25: FutureWarning: The frame.append method is deprecated and will be removed from pandas in a future version. Use pandas.concat instead.\n",
      "  results = results.append({'user': user_id, 'Algorithm': algo, 'KL_div': calibration_scores[0], 'JS_div': calibration_scores[1]}, ignore_index=True)\n"
     ]
    },
    {
     "name": "stdout",
     "output_type": "stream",
     "text": [
      "49\n"
     ]
    },
    {
     "name": "stderr",
     "output_type": "stream",
     "text": [
      "/var/folders/8v/cgqpzdls33l6jdsvj3z4fdyh0000gn/T/ipykernel_64710/506424766.py:25: FutureWarning: The frame.append method is deprecated and will be removed from pandas in a future version. Use pandas.concat instead.\n",
      "  results = results.append({'user': user_id, 'Algorithm': algo, 'KL_div': calibration_scores[0], 'JS_div': calibration_scores[1]}, ignore_index=True)\n",
      "/var/folders/8v/cgqpzdls33l6jdsvj3z4fdyh0000gn/T/ipykernel_64710/506424766.py:25: FutureWarning: The frame.append method is deprecated and will be removed from pandas in a future version. Use pandas.concat instead.\n",
      "  results = results.append({'user': user_id, 'Algorithm': algo, 'KL_div': calibration_scores[0], 'JS_div': calibration_scores[1]}, ignore_index=True)\n"
     ]
    },
    {
     "name": "stdout",
     "output_type": "stream",
     "text": [
      "50\n"
     ]
    },
    {
     "name": "stderr",
     "output_type": "stream",
     "text": [
      "/var/folders/8v/cgqpzdls33l6jdsvj3z4fdyh0000gn/T/ipykernel_64710/506424766.py:25: FutureWarning: The frame.append method is deprecated and will be removed from pandas in a future version. Use pandas.concat instead.\n",
      "  results = results.append({'user': user_id, 'Algorithm': algo, 'KL_div': calibration_scores[0], 'JS_div': calibration_scores[1]}, ignore_index=True)\n",
      "/var/folders/8v/cgqpzdls33l6jdsvj3z4fdyh0000gn/T/ipykernel_64710/506424766.py:25: FutureWarning: The frame.append method is deprecated and will be removed from pandas in a future version. Use pandas.concat instead.\n",
      "  results = results.append({'user': user_id, 'Algorithm': algo, 'KL_div': calibration_scores[0], 'JS_div': calibration_scores[1]}, ignore_index=True)\n"
     ]
    },
    {
     "name": "stdout",
     "output_type": "stream",
     "text": [
      "51\n"
     ]
    },
    {
     "name": "stderr",
     "output_type": "stream",
     "text": [
      "/var/folders/8v/cgqpzdls33l6jdsvj3z4fdyh0000gn/T/ipykernel_64710/506424766.py:25: FutureWarning: The frame.append method is deprecated and will be removed from pandas in a future version. Use pandas.concat instead.\n",
      "  results = results.append({'user': user_id, 'Algorithm': algo, 'KL_div': calibration_scores[0], 'JS_div': calibration_scores[1]}, ignore_index=True)\n",
      "/var/folders/8v/cgqpzdls33l6jdsvj3z4fdyh0000gn/T/ipykernel_64710/506424766.py:25: FutureWarning: The frame.append method is deprecated and will be removed from pandas in a future version. Use pandas.concat instead.\n",
      "  results = results.append({'user': user_id, 'Algorithm': algo, 'KL_div': calibration_scores[0], 'JS_div': calibration_scores[1]}, ignore_index=True)\n"
     ]
    },
    {
     "name": "stdout",
     "output_type": "stream",
     "text": [
      "52\n"
     ]
    },
    {
     "name": "stderr",
     "output_type": "stream",
     "text": [
      "/var/folders/8v/cgqpzdls33l6jdsvj3z4fdyh0000gn/T/ipykernel_64710/506424766.py:25: FutureWarning: The frame.append method is deprecated and will be removed from pandas in a future version. Use pandas.concat instead.\n",
      "  results = results.append({'user': user_id, 'Algorithm': algo, 'KL_div': calibration_scores[0], 'JS_div': calibration_scores[1]}, ignore_index=True)\n",
      "/var/folders/8v/cgqpzdls33l6jdsvj3z4fdyh0000gn/T/ipykernel_64710/506424766.py:25: FutureWarning: The frame.append method is deprecated and will be removed from pandas in a future version. Use pandas.concat instead.\n",
      "  results = results.append({'user': user_id, 'Algorithm': algo, 'KL_div': calibration_scores[0], 'JS_div': calibration_scores[1]}, ignore_index=True)\n"
     ]
    },
    {
     "name": "stdout",
     "output_type": "stream",
     "text": [
      "53\n"
     ]
    },
    {
     "name": "stderr",
     "output_type": "stream",
     "text": [
      "/var/folders/8v/cgqpzdls33l6jdsvj3z4fdyh0000gn/T/ipykernel_64710/506424766.py:25: FutureWarning: The frame.append method is deprecated and will be removed from pandas in a future version. Use pandas.concat instead.\n",
      "  results = results.append({'user': user_id, 'Algorithm': algo, 'KL_div': calibration_scores[0], 'JS_div': calibration_scores[1]}, ignore_index=True)\n",
      "/var/folders/8v/cgqpzdls33l6jdsvj3z4fdyh0000gn/T/ipykernel_64710/506424766.py:25: FutureWarning: The frame.append method is deprecated and will be removed from pandas in a future version. Use pandas.concat instead.\n",
      "  results = results.append({'user': user_id, 'Algorithm': algo, 'KL_div': calibration_scores[0], 'JS_div': calibration_scores[1]}, ignore_index=True)\n"
     ]
    },
    {
     "name": "stdout",
     "output_type": "stream",
     "text": [
      "54\n"
     ]
    },
    {
     "name": "stderr",
     "output_type": "stream",
     "text": [
      "/var/folders/8v/cgqpzdls33l6jdsvj3z4fdyh0000gn/T/ipykernel_64710/506424766.py:25: FutureWarning: The frame.append method is deprecated and will be removed from pandas in a future version. Use pandas.concat instead.\n",
      "  results = results.append({'user': user_id, 'Algorithm': algo, 'KL_div': calibration_scores[0], 'JS_div': calibration_scores[1]}, ignore_index=True)\n",
      "/var/folders/8v/cgqpzdls33l6jdsvj3z4fdyh0000gn/T/ipykernel_64710/506424766.py:25: FutureWarning: The frame.append method is deprecated and will be removed from pandas in a future version. Use pandas.concat instead.\n",
      "  results = results.append({'user': user_id, 'Algorithm': algo, 'KL_div': calibration_scores[0], 'JS_div': calibration_scores[1]}, ignore_index=True)\n"
     ]
    },
    {
     "name": "stdout",
     "output_type": "stream",
     "text": [
      "55\n"
     ]
    },
    {
     "name": "stderr",
     "output_type": "stream",
     "text": [
      "/var/folders/8v/cgqpzdls33l6jdsvj3z4fdyh0000gn/T/ipykernel_64710/506424766.py:25: FutureWarning: The frame.append method is deprecated and will be removed from pandas in a future version. Use pandas.concat instead.\n",
      "  results = results.append({'user': user_id, 'Algorithm': algo, 'KL_div': calibration_scores[0], 'JS_div': calibration_scores[1]}, ignore_index=True)\n",
      "/var/folders/8v/cgqpzdls33l6jdsvj3z4fdyh0000gn/T/ipykernel_64710/506424766.py:25: FutureWarning: The frame.append method is deprecated and will be removed from pandas in a future version. Use pandas.concat instead.\n",
      "  results = results.append({'user': user_id, 'Algorithm': algo, 'KL_div': calibration_scores[0], 'JS_div': calibration_scores[1]}, ignore_index=True)\n"
     ]
    },
    {
     "name": "stdout",
     "output_type": "stream",
     "text": [
      "56\n"
     ]
    },
    {
     "name": "stderr",
     "output_type": "stream",
     "text": [
      "/var/folders/8v/cgqpzdls33l6jdsvj3z4fdyh0000gn/T/ipykernel_64710/506424766.py:25: FutureWarning: The frame.append method is deprecated and will be removed from pandas in a future version. Use pandas.concat instead.\n",
      "  results = results.append({'user': user_id, 'Algorithm': algo, 'KL_div': calibration_scores[0], 'JS_div': calibration_scores[1]}, ignore_index=True)\n",
      "/var/folders/8v/cgqpzdls33l6jdsvj3z4fdyh0000gn/T/ipykernel_64710/506424766.py:25: FutureWarning: The frame.append method is deprecated and will be removed from pandas in a future version. Use pandas.concat instead.\n",
      "  results = results.append({'user': user_id, 'Algorithm': algo, 'KL_div': calibration_scores[0], 'JS_div': calibration_scores[1]}, ignore_index=True)\n"
     ]
    },
    {
     "name": "stdout",
     "output_type": "stream",
     "text": [
      "57\n"
     ]
    },
    {
     "name": "stderr",
     "output_type": "stream",
     "text": [
      "/var/folders/8v/cgqpzdls33l6jdsvj3z4fdyh0000gn/T/ipykernel_64710/506424766.py:25: FutureWarning: The frame.append method is deprecated and will be removed from pandas in a future version. Use pandas.concat instead.\n",
      "  results = results.append({'user': user_id, 'Algorithm': algo, 'KL_div': calibration_scores[0], 'JS_div': calibration_scores[1]}, ignore_index=True)\n",
      "/var/folders/8v/cgqpzdls33l6jdsvj3z4fdyh0000gn/T/ipykernel_64710/506424766.py:25: FutureWarning: The frame.append method is deprecated and will be removed from pandas in a future version. Use pandas.concat instead.\n",
      "  results = results.append({'user': user_id, 'Algorithm': algo, 'KL_div': calibration_scores[0], 'JS_div': calibration_scores[1]}, ignore_index=True)\n"
     ]
    },
    {
     "name": "stdout",
     "output_type": "stream",
     "text": [
      "58\n"
     ]
    },
    {
     "name": "stderr",
     "output_type": "stream",
     "text": [
      "/var/folders/8v/cgqpzdls33l6jdsvj3z4fdyh0000gn/T/ipykernel_64710/506424766.py:25: FutureWarning: The frame.append method is deprecated and will be removed from pandas in a future version. Use pandas.concat instead.\n",
      "  results = results.append({'user': user_id, 'Algorithm': algo, 'KL_div': calibration_scores[0], 'JS_div': calibration_scores[1]}, ignore_index=True)\n",
      "/var/folders/8v/cgqpzdls33l6jdsvj3z4fdyh0000gn/T/ipykernel_64710/506424766.py:25: FutureWarning: The frame.append method is deprecated and will be removed from pandas in a future version. Use pandas.concat instead.\n",
      "  results = results.append({'user': user_id, 'Algorithm': algo, 'KL_div': calibration_scores[0], 'JS_div': calibration_scores[1]}, ignore_index=True)\n"
     ]
    },
    {
     "name": "stdout",
     "output_type": "stream",
     "text": [
      "59\n"
     ]
    },
    {
     "name": "stderr",
     "output_type": "stream",
     "text": [
      "/var/folders/8v/cgqpzdls33l6jdsvj3z4fdyh0000gn/T/ipykernel_64710/506424766.py:25: FutureWarning: The frame.append method is deprecated and will be removed from pandas in a future version. Use pandas.concat instead.\n",
      "  results = results.append({'user': user_id, 'Algorithm': algo, 'KL_div': calibration_scores[0], 'JS_div': calibration_scores[1]}, ignore_index=True)\n",
      "/var/folders/8v/cgqpzdls33l6jdsvj3z4fdyh0000gn/T/ipykernel_64710/506424766.py:25: FutureWarning: The frame.append method is deprecated and will be removed from pandas in a future version. Use pandas.concat instead.\n",
      "  results = results.append({'user': user_id, 'Algorithm': algo, 'KL_div': calibration_scores[0], 'JS_div': calibration_scores[1]}, ignore_index=True)\n"
     ]
    },
    {
     "name": "stdout",
     "output_type": "stream",
     "text": [
      "60\n"
     ]
    },
    {
     "name": "stderr",
     "output_type": "stream",
     "text": [
      "/var/folders/8v/cgqpzdls33l6jdsvj3z4fdyh0000gn/T/ipykernel_64710/506424766.py:25: FutureWarning: The frame.append method is deprecated and will be removed from pandas in a future version. Use pandas.concat instead.\n",
      "  results = results.append({'user': user_id, 'Algorithm': algo, 'KL_div': calibration_scores[0], 'JS_div': calibration_scores[1]}, ignore_index=True)\n",
      "/var/folders/8v/cgqpzdls33l6jdsvj3z4fdyh0000gn/T/ipykernel_64710/506424766.py:25: FutureWarning: The frame.append method is deprecated and will be removed from pandas in a future version. Use pandas.concat instead.\n",
      "  results = results.append({'user': user_id, 'Algorithm': algo, 'KL_div': calibration_scores[0], 'JS_div': calibration_scores[1]}, ignore_index=True)\n"
     ]
    },
    {
     "name": "stdout",
     "output_type": "stream",
     "text": [
      "61\n"
     ]
    },
    {
     "name": "stderr",
     "output_type": "stream",
     "text": [
      "/var/folders/8v/cgqpzdls33l6jdsvj3z4fdyh0000gn/T/ipykernel_64710/506424766.py:25: FutureWarning: The frame.append method is deprecated and will be removed from pandas in a future version. Use pandas.concat instead.\n",
      "  results = results.append({'user': user_id, 'Algorithm': algo, 'KL_div': calibration_scores[0], 'JS_div': calibration_scores[1]}, ignore_index=True)\n",
      "/var/folders/8v/cgqpzdls33l6jdsvj3z4fdyh0000gn/T/ipykernel_64710/506424766.py:25: FutureWarning: The frame.append method is deprecated and will be removed from pandas in a future version. Use pandas.concat instead.\n",
      "  results = results.append({'user': user_id, 'Algorithm': algo, 'KL_div': calibration_scores[0], 'JS_div': calibration_scores[1]}, ignore_index=True)\n"
     ]
    },
    {
     "name": "stdout",
     "output_type": "stream",
     "text": [
      "62\n"
     ]
    },
    {
     "name": "stderr",
     "output_type": "stream",
     "text": [
      "/var/folders/8v/cgqpzdls33l6jdsvj3z4fdyh0000gn/T/ipykernel_64710/506424766.py:25: FutureWarning: The frame.append method is deprecated and will be removed from pandas in a future version. Use pandas.concat instead.\n",
      "  results = results.append({'user': user_id, 'Algorithm': algo, 'KL_div': calibration_scores[0], 'JS_div': calibration_scores[1]}, ignore_index=True)\n",
      "/var/folders/8v/cgqpzdls33l6jdsvj3z4fdyh0000gn/T/ipykernel_64710/506424766.py:25: FutureWarning: The frame.append method is deprecated and will be removed from pandas in a future version. Use pandas.concat instead.\n",
      "  results = results.append({'user': user_id, 'Algorithm': algo, 'KL_div': calibration_scores[0], 'JS_div': calibration_scores[1]}, ignore_index=True)\n"
     ]
    },
    {
     "name": "stdout",
     "output_type": "stream",
     "text": [
      "63\n"
     ]
    },
    {
     "name": "stderr",
     "output_type": "stream",
     "text": [
      "/var/folders/8v/cgqpzdls33l6jdsvj3z4fdyh0000gn/T/ipykernel_64710/506424766.py:25: FutureWarning: The frame.append method is deprecated and will be removed from pandas in a future version. Use pandas.concat instead.\n",
      "  results = results.append({'user': user_id, 'Algorithm': algo, 'KL_div': calibration_scores[0], 'JS_div': calibration_scores[1]}, ignore_index=True)\n",
      "/var/folders/8v/cgqpzdls33l6jdsvj3z4fdyh0000gn/T/ipykernel_64710/506424766.py:25: FutureWarning: The frame.append method is deprecated and will be removed from pandas in a future version. Use pandas.concat instead.\n",
      "  results = results.append({'user': user_id, 'Algorithm': algo, 'KL_div': calibration_scores[0], 'JS_div': calibration_scores[1]}, ignore_index=True)\n"
     ]
    },
    {
     "name": "stdout",
     "output_type": "stream",
     "text": [
      "64\n"
     ]
    },
    {
     "name": "stderr",
     "output_type": "stream",
     "text": [
      "/var/folders/8v/cgqpzdls33l6jdsvj3z4fdyh0000gn/T/ipykernel_64710/506424766.py:25: FutureWarning: The frame.append method is deprecated and will be removed from pandas in a future version. Use pandas.concat instead.\n",
      "  results = results.append({'user': user_id, 'Algorithm': algo, 'KL_div': calibration_scores[0], 'JS_div': calibration_scores[1]}, ignore_index=True)\n",
      "/var/folders/8v/cgqpzdls33l6jdsvj3z4fdyh0000gn/T/ipykernel_64710/506424766.py:25: FutureWarning: The frame.append method is deprecated and will be removed from pandas in a future version. Use pandas.concat instead.\n",
      "  results = results.append({'user': user_id, 'Algorithm': algo, 'KL_div': calibration_scores[0], 'JS_div': calibration_scores[1]}, ignore_index=True)\n"
     ]
    },
    {
     "name": "stdout",
     "output_type": "stream",
     "text": [
      "65\n"
     ]
    },
    {
     "name": "stderr",
     "output_type": "stream",
     "text": [
      "/var/folders/8v/cgqpzdls33l6jdsvj3z4fdyh0000gn/T/ipykernel_64710/506424766.py:25: FutureWarning: The frame.append method is deprecated and will be removed from pandas in a future version. Use pandas.concat instead.\n",
      "  results = results.append({'user': user_id, 'Algorithm': algo, 'KL_div': calibration_scores[0], 'JS_div': calibration_scores[1]}, ignore_index=True)\n",
      "/var/folders/8v/cgqpzdls33l6jdsvj3z4fdyh0000gn/T/ipykernel_64710/506424766.py:25: FutureWarning: The frame.append method is deprecated and will be removed from pandas in a future version. Use pandas.concat instead.\n",
      "  results = results.append({'user': user_id, 'Algorithm': algo, 'KL_div': calibration_scores[0], 'JS_div': calibration_scores[1]}, ignore_index=True)\n"
     ]
    },
    {
     "name": "stdout",
     "output_type": "stream",
     "text": [
      "66\n"
     ]
    },
    {
     "name": "stderr",
     "output_type": "stream",
     "text": [
      "/var/folders/8v/cgqpzdls33l6jdsvj3z4fdyh0000gn/T/ipykernel_64710/506424766.py:25: FutureWarning: The frame.append method is deprecated and will be removed from pandas in a future version. Use pandas.concat instead.\n",
      "  results = results.append({'user': user_id, 'Algorithm': algo, 'KL_div': calibration_scores[0], 'JS_div': calibration_scores[1]}, ignore_index=True)\n",
      "/var/folders/8v/cgqpzdls33l6jdsvj3z4fdyh0000gn/T/ipykernel_64710/506424766.py:25: FutureWarning: The frame.append method is deprecated and will be removed from pandas in a future version. Use pandas.concat instead.\n",
      "  results = results.append({'user': user_id, 'Algorithm': algo, 'KL_div': calibration_scores[0], 'JS_div': calibration_scores[1]}, ignore_index=True)\n"
     ]
    },
    {
     "name": "stdout",
     "output_type": "stream",
     "text": [
      "67\n"
     ]
    },
    {
     "name": "stderr",
     "output_type": "stream",
     "text": [
      "/var/folders/8v/cgqpzdls33l6jdsvj3z4fdyh0000gn/T/ipykernel_64710/506424766.py:25: FutureWarning: The frame.append method is deprecated and will be removed from pandas in a future version. Use pandas.concat instead.\n",
      "  results = results.append({'user': user_id, 'Algorithm': algo, 'KL_div': calibration_scores[0], 'JS_div': calibration_scores[1]}, ignore_index=True)\n",
      "/var/folders/8v/cgqpzdls33l6jdsvj3z4fdyh0000gn/T/ipykernel_64710/506424766.py:25: FutureWarning: The frame.append method is deprecated and will be removed from pandas in a future version. Use pandas.concat instead.\n",
      "  results = results.append({'user': user_id, 'Algorithm': algo, 'KL_div': calibration_scores[0], 'JS_div': calibration_scores[1]}, ignore_index=True)\n"
     ]
    },
    {
     "name": "stdout",
     "output_type": "stream",
     "text": [
      "68\n"
     ]
    },
    {
     "name": "stderr",
     "output_type": "stream",
     "text": [
      "/var/folders/8v/cgqpzdls33l6jdsvj3z4fdyh0000gn/T/ipykernel_64710/506424766.py:25: FutureWarning: The frame.append method is deprecated and will be removed from pandas in a future version. Use pandas.concat instead.\n",
      "  results = results.append({'user': user_id, 'Algorithm': algo, 'KL_div': calibration_scores[0], 'JS_div': calibration_scores[1]}, ignore_index=True)\n",
      "/var/folders/8v/cgqpzdls33l6jdsvj3z4fdyh0000gn/T/ipykernel_64710/506424766.py:25: FutureWarning: The frame.append method is deprecated and will be removed from pandas in a future version. Use pandas.concat instead.\n",
      "  results = results.append({'user': user_id, 'Algorithm': algo, 'KL_div': calibration_scores[0], 'JS_div': calibration_scores[1]}, ignore_index=True)\n"
     ]
    },
    {
     "name": "stdout",
     "output_type": "stream",
     "text": [
      "69\n"
     ]
    },
    {
     "name": "stderr",
     "output_type": "stream",
     "text": [
      "/var/folders/8v/cgqpzdls33l6jdsvj3z4fdyh0000gn/T/ipykernel_64710/506424766.py:25: FutureWarning: The frame.append method is deprecated and will be removed from pandas in a future version. Use pandas.concat instead.\n",
      "  results = results.append({'user': user_id, 'Algorithm': algo, 'KL_div': calibration_scores[0], 'JS_div': calibration_scores[1]}, ignore_index=True)\n",
      "/var/folders/8v/cgqpzdls33l6jdsvj3z4fdyh0000gn/T/ipykernel_64710/506424766.py:25: FutureWarning: The frame.append method is deprecated and will be removed from pandas in a future version. Use pandas.concat instead.\n",
      "  results = results.append({'user': user_id, 'Algorithm': algo, 'KL_div': calibration_scores[0], 'JS_div': calibration_scores[1]}, ignore_index=True)\n"
     ]
    },
    {
     "name": "stdout",
     "output_type": "stream",
     "text": [
      "70\n"
     ]
    },
    {
     "name": "stderr",
     "output_type": "stream",
     "text": [
      "/var/folders/8v/cgqpzdls33l6jdsvj3z4fdyh0000gn/T/ipykernel_64710/506424766.py:25: FutureWarning: The frame.append method is deprecated and will be removed from pandas in a future version. Use pandas.concat instead.\n",
      "  results = results.append({'user': user_id, 'Algorithm': algo, 'KL_div': calibration_scores[0], 'JS_div': calibration_scores[1]}, ignore_index=True)\n",
      "/var/folders/8v/cgqpzdls33l6jdsvj3z4fdyh0000gn/T/ipykernel_64710/506424766.py:25: FutureWarning: The frame.append method is deprecated and will be removed from pandas in a future version. Use pandas.concat instead.\n",
      "  results = results.append({'user': user_id, 'Algorithm': algo, 'KL_div': calibration_scores[0], 'JS_div': calibration_scores[1]}, ignore_index=True)\n"
     ]
    },
    {
     "name": "stdout",
     "output_type": "stream",
     "text": [
      "71\n"
     ]
    },
    {
     "name": "stderr",
     "output_type": "stream",
     "text": [
      "/var/folders/8v/cgqpzdls33l6jdsvj3z4fdyh0000gn/T/ipykernel_64710/506424766.py:25: FutureWarning: The frame.append method is deprecated and will be removed from pandas in a future version. Use pandas.concat instead.\n",
      "  results = results.append({'user': user_id, 'Algorithm': algo, 'KL_div': calibration_scores[0], 'JS_div': calibration_scores[1]}, ignore_index=True)\n",
      "/var/folders/8v/cgqpzdls33l6jdsvj3z4fdyh0000gn/T/ipykernel_64710/506424766.py:25: FutureWarning: The frame.append method is deprecated and will be removed from pandas in a future version. Use pandas.concat instead.\n",
      "  results = results.append({'user': user_id, 'Algorithm': algo, 'KL_div': calibration_scores[0], 'JS_div': calibration_scores[1]}, ignore_index=True)\n"
     ]
    },
    {
     "name": "stdout",
     "output_type": "stream",
     "text": [
      "72\n"
     ]
    },
    {
     "name": "stderr",
     "output_type": "stream",
     "text": [
      "/var/folders/8v/cgqpzdls33l6jdsvj3z4fdyh0000gn/T/ipykernel_64710/506424766.py:25: FutureWarning: The frame.append method is deprecated and will be removed from pandas in a future version. Use pandas.concat instead.\n",
      "  results = results.append({'user': user_id, 'Algorithm': algo, 'KL_div': calibration_scores[0], 'JS_div': calibration_scores[1]}, ignore_index=True)\n",
      "/var/folders/8v/cgqpzdls33l6jdsvj3z4fdyh0000gn/T/ipykernel_64710/506424766.py:25: FutureWarning: The frame.append method is deprecated and will be removed from pandas in a future version. Use pandas.concat instead.\n",
      "  results = results.append({'user': user_id, 'Algorithm': algo, 'KL_div': calibration_scores[0], 'JS_div': calibration_scores[1]}, ignore_index=True)\n"
     ]
    },
    {
     "name": "stdout",
     "output_type": "stream",
     "text": [
      "73\n"
     ]
    },
    {
     "name": "stderr",
     "output_type": "stream",
     "text": [
      "/var/folders/8v/cgqpzdls33l6jdsvj3z4fdyh0000gn/T/ipykernel_64710/506424766.py:25: FutureWarning: The frame.append method is deprecated and will be removed from pandas in a future version. Use pandas.concat instead.\n",
      "  results = results.append({'user': user_id, 'Algorithm': algo, 'KL_div': calibration_scores[0], 'JS_div': calibration_scores[1]}, ignore_index=True)\n",
      "/var/folders/8v/cgqpzdls33l6jdsvj3z4fdyh0000gn/T/ipykernel_64710/506424766.py:25: FutureWarning: The frame.append method is deprecated and will be removed from pandas in a future version. Use pandas.concat instead.\n",
      "  results = results.append({'user': user_id, 'Algorithm': algo, 'KL_div': calibration_scores[0], 'JS_div': calibration_scores[1]}, ignore_index=True)\n"
     ]
    },
    {
     "name": "stdout",
     "output_type": "stream",
     "text": [
      "74\n"
     ]
    },
    {
     "name": "stderr",
     "output_type": "stream",
     "text": [
      "/var/folders/8v/cgqpzdls33l6jdsvj3z4fdyh0000gn/T/ipykernel_64710/506424766.py:25: FutureWarning: The frame.append method is deprecated and will be removed from pandas in a future version. Use pandas.concat instead.\n",
      "  results = results.append({'user': user_id, 'Algorithm': algo, 'KL_div': calibration_scores[0], 'JS_div': calibration_scores[1]}, ignore_index=True)\n",
      "/var/folders/8v/cgqpzdls33l6jdsvj3z4fdyh0000gn/T/ipykernel_64710/506424766.py:25: FutureWarning: The frame.append method is deprecated and will be removed from pandas in a future version. Use pandas.concat instead.\n",
      "  results = results.append({'user': user_id, 'Algorithm': algo, 'KL_div': calibration_scores[0], 'JS_div': calibration_scores[1]}, ignore_index=True)\n"
     ]
    },
    {
     "name": "stdout",
     "output_type": "stream",
     "text": [
      "75\n"
     ]
    },
    {
     "name": "stderr",
     "output_type": "stream",
     "text": [
      "/var/folders/8v/cgqpzdls33l6jdsvj3z4fdyh0000gn/T/ipykernel_64710/506424766.py:25: FutureWarning: The frame.append method is deprecated and will be removed from pandas in a future version. Use pandas.concat instead.\n",
      "  results = results.append({'user': user_id, 'Algorithm': algo, 'KL_div': calibration_scores[0], 'JS_div': calibration_scores[1]}, ignore_index=True)\n",
      "/var/folders/8v/cgqpzdls33l6jdsvj3z4fdyh0000gn/T/ipykernel_64710/506424766.py:25: FutureWarning: The frame.append method is deprecated and will be removed from pandas in a future version. Use pandas.concat instead.\n",
      "  results = results.append({'user': user_id, 'Algorithm': algo, 'KL_div': calibration_scores[0], 'JS_div': calibration_scores[1]}, ignore_index=True)\n"
     ]
    },
    {
     "name": "stdout",
     "output_type": "stream",
     "text": [
      "76\n"
     ]
    },
    {
     "name": "stderr",
     "output_type": "stream",
     "text": [
      "/var/folders/8v/cgqpzdls33l6jdsvj3z4fdyh0000gn/T/ipykernel_64710/506424766.py:25: FutureWarning: The frame.append method is deprecated and will be removed from pandas in a future version. Use pandas.concat instead.\n",
      "  results = results.append({'user': user_id, 'Algorithm': algo, 'KL_div': calibration_scores[0], 'JS_div': calibration_scores[1]}, ignore_index=True)\n",
      "/var/folders/8v/cgqpzdls33l6jdsvj3z4fdyh0000gn/T/ipykernel_64710/506424766.py:25: FutureWarning: The frame.append method is deprecated and will be removed from pandas in a future version. Use pandas.concat instead.\n",
      "  results = results.append({'user': user_id, 'Algorithm': algo, 'KL_div': calibration_scores[0], 'JS_div': calibration_scores[1]}, ignore_index=True)\n"
     ]
    },
    {
     "name": "stdout",
     "output_type": "stream",
     "text": [
      "77\n"
     ]
    },
    {
     "name": "stderr",
     "output_type": "stream",
     "text": [
      "/var/folders/8v/cgqpzdls33l6jdsvj3z4fdyh0000gn/T/ipykernel_64710/506424766.py:25: FutureWarning: The frame.append method is deprecated and will be removed from pandas in a future version. Use pandas.concat instead.\n",
      "  results = results.append({'user': user_id, 'Algorithm': algo, 'KL_div': calibration_scores[0], 'JS_div': calibration_scores[1]}, ignore_index=True)\n",
      "/var/folders/8v/cgqpzdls33l6jdsvj3z4fdyh0000gn/T/ipykernel_64710/506424766.py:25: FutureWarning: The frame.append method is deprecated and will be removed from pandas in a future version. Use pandas.concat instead.\n",
      "  results = results.append({'user': user_id, 'Algorithm': algo, 'KL_div': calibration_scores[0], 'JS_div': calibration_scores[1]}, ignore_index=True)\n"
     ]
    },
    {
     "name": "stdout",
     "output_type": "stream",
     "text": [
      "78\n"
     ]
    },
    {
     "name": "stderr",
     "output_type": "stream",
     "text": [
      "/var/folders/8v/cgqpzdls33l6jdsvj3z4fdyh0000gn/T/ipykernel_64710/506424766.py:25: FutureWarning: The frame.append method is deprecated and will be removed from pandas in a future version. Use pandas.concat instead.\n",
      "  results = results.append({'user': user_id, 'Algorithm': algo, 'KL_div': calibration_scores[0], 'JS_div': calibration_scores[1]}, ignore_index=True)\n",
      "/var/folders/8v/cgqpzdls33l6jdsvj3z4fdyh0000gn/T/ipykernel_64710/506424766.py:25: FutureWarning: The frame.append method is deprecated and will be removed from pandas in a future version. Use pandas.concat instead.\n",
      "  results = results.append({'user': user_id, 'Algorithm': algo, 'KL_div': calibration_scores[0], 'JS_div': calibration_scores[1]}, ignore_index=True)\n"
     ]
    },
    {
     "name": "stdout",
     "output_type": "stream",
     "text": [
      "79\n"
     ]
    },
    {
     "name": "stderr",
     "output_type": "stream",
     "text": [
      "/var/folders/8v/cgqpzdls33l6jdsvj3z4fdyh0000gn/T/ipykernel_64710/506424766.py:25: FutureWarning: The frame.append method is deprecated and will be removed from pandas in a future version. Use pandas.concat instead.\n",
      "  results = results.append({'user': user_id, 'Algorithm': algo, 'KL_div': calibration_scores[0], 'JS_div': calibration_scores[1]}, ignore_index=True)\n",
      "/var/folders/8v/cgqpzdls33l6jdsvj3z4fdyh0000gn/T/ipykernel_64710/506424766.py:25: FutureWarning: The frame.append method is deprecated and will be removed from pandas in a future version. Use pandas.concat instead.\n",
      "  results = results.append({'user': user_id, 'Algorithm': algo, 'KL_div': calibration_scores[0], 'JS_div': calibration_scores[1]}, ignore_index=True)\n"
     ]
    },
    {
     "name": "stdout",
     "output_type": "stream",
     "text": [
      "80\n"
     ]
    },
    {
     "name": "stderr",
     "output_type": "stream",
     "text": [
      "/var/folders/8v/cgqpzdls33l6jdsvj3z4fdyh0000gn/T/ipykernel_64710/506424766.py:25: FutureWarning: The frame.append method is deprecated and will be removed from pandas in a future version. Use pandas.concat instead.\n",
      "  results = results.append({'user': user_id, 'Algorithm': algo, 'KL_div': calibration_scores[0], 'JS_div': calibration_scores[1]}, ignore_index=True)\n",
      "/var/folders/8v/cgqpzdls33l6jdsvj3z4fdyh0000gn/T/ipykernel_64710/506424766.py:25: FutureWarning: The frame.append method is deprecated and will be removed from pandas in a future version. Use pandas.concat instead.\n",
      "  results = results.append({'user': user_id, 'Algorithm': algo, 'KL_div': calibration_scores[0], 'JS_div': calibration_scores[1]}, ignore_index=True)\n"
     ]
    },
    {
     "name": "stdout",
     "output_type": "stream",
     "text": [
      "81\n"
     ]
    },
    {
     "name": "stderr",
     "output_type": "stream",
     "text": [
      "/var/folders/8v/cgqpzdls33l6jdsvj3z4fdyh0000gn/T/ipykernel_64710/506424766.py:25: FutureWarning: The frame.append method is deprecated and will be removed from pandas in a future version. Use pandas.concat instead.\n",
      "  results = results.append({'user': user_id, 'Algorithm': algo, 'KL_div': calibration_scores[0], 'JS_div': calibration_scores[1]}, ignore_index=True)\n",
      "/var/folders/8v/cgqpzdls33l6jdsvj3z4fdyh0000gn/T/ipykernel_64710/506424766.py:25: FutureWarning: The frame.append method is deprecated and will be removed from pandas in a future version. Use pandas.concat instead.\n",
      "  results = results.append({'user': user_id, 'Algorithm': algo, 'KL_div': calibration_scores[0], 'JS_div': calibration_scores[1]}, ignore_index=True)\n"
     ]
    },
    {
     "name": "stdout",
     "output_type": "stream",
     "text": [
      "82\n"
     ]
    },
    {
     "name": "stderr",
     "output_type": "stream",
     "text": [
      "/var/folders/8v/cgqpzdls33l6jdsvj3z4fdyh0000gn/T/ipykernel_64710/506424766.py:25: FutureWarning: The frame.append method is deprecated and will be removed from pandas in a future version. Use pandas.concat instead.\n",
      "  results = results.append({'user': user_id, 'Algorithm': algo, 'KL_div': calibration_scores[0], 'JS_div': calibration_scores[1]}, ignore_index=True)\n",
      "/var/folders/8v/cgqpzdls33l6jdsvj3z4fdyh0000gn/T/ipykernel_64710/506424766.py:25: FutureWarning: The frame.append method is deprecated and will be removed from pandas in a future version. Use pandas.concat instead.\n",
      "  results = results.append({'user': user_id, 'Algorithm': algo, 'KL_div': calibration_scores[0], 'JS_div': calibration_scores[1]}, ignore_index=True)\n"
     ]
    },
    {
     "name": "stdout",
     "output_type": "stream",
     "text": [
      "83\n"
     ]
    },
    {
     "name": "stderr",
     "output_type": "stream",
     "text": [
      "/var/folders/8v/cgqpzdls33l6jdsvj3z4fdyh0000gn/T/ipykernel_64710/506424766.py:25: FutureWarning: The frame.append method is deprecated and will be removed from pandas in a future version. Use pandas.concat instead.\n",
      "  results = results.append({'user': user_id, 'Algorithm': algo, 'KL_div': calibration_scores[0], 'JS_div': calibration_scores[1]}, ignore_index=True)\n",
      "/var/folders/8v/cgqpzdls33l6jdsvj3z4fdyh0000gn/T/ipykernel_64710/506424766.py:25: FutureWarning: The frame.append method is deprecated and will be removed from pandas in a future version. Use pandas.concat instead.\n",
      "  results = results.append({'user': user_id, 'Algorithm': algo, 'KL_div': calibration_scores[0], 'JS_div': calibration_scores[1]}, ignore_index=True)\n"
     ]
    },
    {
     "name": "stdout",
     "output_type": "stream",
     "text": [
      "84\n"
     ]
    },
    {
     "name": "stderr",
     "output_type": "stream",
     "text": [
      "/var/folders/8v/cgqpzdls33l6jdsvj3z4fdyh0000gn/T/ipykernel_64710/506424766.py:25: FutureWarning: The frame.append method is deprecated and will be removed from pandas in a future version. Use pandas.concat instead.\n",
      "  results = results.append({'user': user_id, 'Algorithm': algo, 'KL_div': calibration_scores[0], 'JS_div': calibration_scores[1]}, ignore_index=True)\n",
      "/var/folders/8v/cgqpzdls33l6jdsvj3z4fdyh0000gn/T/ipykernel_64710/506424766.py:25: FutureWarning: The frame.append method is deprecated and will be removed from pandas in a future version. Use pandas.concat instead.\n",
      "  results = results.append({'user': user_id, 'Algorithm': algo, 'KL_div': calibration_scores[0], 'JS_div': calibration_scores[1]}, ignore_index=True)\n"
     ]
    },
    {
     "name": "stdout",
     "output_type": "stream",
     "text": [
      "85\n"
     ]
    },
    {
     "name": "stderr",
     "output_type": "stream",
     "text": [
      "/var/folders/8v/cgqpzdls33l6jdsvj3z4fdyh0000gn/T/ipykernel_64710/506424766.py:25: FutureWarning: The frame.append method is deprecated and will be removed from pandas in a future version. Use pandas.concat instead.\n",
      "  results = results.append({'user': user_id, 'Algorithm': algo, 'KL_div': calibration_scores[0], 'JS_div': calibration_scores[1]}, ignore_index=True)\n",
      "/var/folders/8v/cgqpzdls33l6jdsvj3z4fdyh0000gn/T/ipykernel_64710/506424766.py:25: FutureWarning: The frame.append method is deprecated and will be removed from pandas in a future version. Use pandas.concat instead.\n",
      "  results = results.append({'user': user_id, 'Algorithm': algo, 'KL_div': calibration_scores[0], 'JS_div': calibration_scores[1]}, ignore_index=True)\n"
     ]
    },
    {
     "name": "stdout",
     "output_type": "stream",
     "text": [
      "86\n"
     ]
    },
    {
     "name": "stderr",
     "output_type": "stream",
     "text": [
      "/var/folders/8v/cgqpzdls33l6jdsvj3z4fdyh0000gn/T/ipykernel_64710/506424766.py:25: FutureWarning: The frame.append method is deprecated and will be removed from pandas in a future version. Use pandas.concat instead.\n",
      "  results = results.append({'user': user_id, 'Algorithm': algo, 'KL_div': calibration_scores[0], 'JS_div': calibration_scores[1]}, ignore_index=True)\n",
      "/var/folders/8v/cgqpzdls33l6jdsvj3z4fdyh0000gn/T/ipykernel_64710/506424766.py:25: FutureWarning: The frame.append method is deprecated and will be removed from pandas in a future version. Use pandas.concat instead.\n",
      "  results = results.append({'user': user_id, 'Algorithm': algo, 'KL_div': calibration_scores[0], 'JS_div': calibration_scores[1]}, ignore_index=True)\n"
     ]
    },
    {
     "name": "stdout",
     "output_type": "stream",
     "text": [
      "87\n"
     ]
    },
    {
     "name": "stderr",
     "output_type": "stream",
     "text": [
      "/var/folders/8v/cgqpzdls33l6jdsvj3z4fdyh0000gn/T/ipykernel_64710/506424766.py:25: FutureWarning: The frame.append method is deprecated and will be removed from pandas in a future version. Use pandas.concat instead.\n",
      "  results = results.append({'user': user_id, 'Algorithm': algo, 'KL_div': calibration_scores[0], 'JS_div': calibration_scores[1]}, ignore_index=True)\n",
      "/var/folders/8v/cgqpzdls33l6jdsvj3z4fdyh0000gn/T/ipykernel_64710/506424766.py:25: FutureWarning: The frame.append method is deprecated and will be removed from pandas in a future version. Use pandas.concat instead.\n",
      "  results = results.append({'user': user_id, 'Algorithm': algo, 'KL_div': calibration_scores[0], 'JS_div': calibration_scores[1]}, ignore_index=True)\n"
     ]
    },
    {
     "name": "stdout",
     "output_type": "stream",
     "text": [
      "88\n"
     ]
    },
    {
     "name": "stderr",
     "output_type": "stream",
     "text": [
      "/var/folders/8v/cgqpzdls33l6jdsvj3z4fdyh0000gn/T/ipykernel_64710/506424766.py:25: FutureWarning: The frame.append method is deprecated and will be removed from pandas in a future version. Use pandas.concat instead.\n",
      "  results = results.append({'user': user_id, 'Algorithm': algo, 'KL_div': calibration_scores[0], 'JS_div': calibration_scores[1]}, ignore_index=True)\n",
      "/var/folders/8v/cgqpzdls33l6jdsvj3z4fdyh0000gn/T/ipykernel_64710/506424766.py:25: FutureWarning: The frame.append method is deprecated and will be removed from pandas in a future version. Use pandas.concat instead.\n",
      "  results = results.append({'user': user_id, 'Algorithm': algo, 'KL_div': calibration_scores[0], 'JS_div': calibration_scores[1]}, ignore_index=True)\n"
     ]
    },
    {
     "name": "stdout",
     "output_type": "stream",
     "text": [
      "89\n"
     ]
    },
    {
     "name": "stderr",
     "output_type": "stream",
     "text": [
      "/var/folders/8v/cgqpzdls33l6jdsvj3z4fdyh0000gn/T/ipykernel_64710/506424766.py:25: FutureWarning: The frame.append method is deprecated and will be removed from pandas in a future version. Use pandas.concat instead.\n",
      "  results = results.append({'user': user_id, 'Algorithm': algo, 'KL_div': calibration_scores[0], 'JS_div': calibration_scores[1]}, ignore_index=True)\n",
      "/var/folders/8v/cgqpzdls33l6jdsvj3z4fdyh0000gn/T/ipykernel_64710/506424766.py:25: FutureWarning: The frame.append method is deprecated and will be removed from pandas in a future version. Use pandas.concat instead.\n",
      "  results = results.append({'user': user_id, 'Algorithm': algo, 'KL_div': calibration_scores[0], 'JS_div': calibration_scores[1]}, ignore_index=True)\n"
     ]
    },
    {
     "name": "stdout",
     "output_type": "stream",
     "text": [
      "90\n"
     ]
    },
    {
     "name": "stderr",
     "output_type": "stream",
     "text": [
      "/var/folders/8v/cgqpzdls33l6jdsvj3z4fdyh0000gn/T/ipykernel_64710/506424766.py:25: FutureWarning: The frame.append method is deprecated and will be removed from pandas in a future version. Use pandas.concat instead.\n",
      "  results = results.append({'user': user_id, 'Algorithm': algo, 'KL_div': calibration_scores[0], 'JS_div': calibration_scores[1]}, ignore_index=True)\n",
      "/var/folders/8v/cgqpzdls33l6jdsvj3z4fdyh0000gn/T/ipykernel_64710/506424766.py:25: FutureWarning: The frame.append method is deprecated and will be removed from pandas in a future version. Use pandas.concat instead.\n",
      "  results = results.append({'user': user_id, 'Algorithm': algo, 'KL_div': calibration_scores[0], 'JS_div': calibration_scores[1]}, ignore_index=True)\n"
     ]
    },
    {
     "name": "stdout",
     "output_type": "stream",
     "text": [
      "91\n"
     ]
    },
    {
     "name": "stderr",
     "output_type": "stream",
     "text": [
      "/var/folders/8v/cgqpzdls33l6jdsvj3z4fdyh0000gn/T/ipykernel_64710/506424766.py:25: FutureWarning: The frame.append method is deprecated and will be removed from pandas in a future version. Use pandas.concat instead.\n",
      "  results = results.append({'user': user_id, 'Algorithm': algo, 'KL_div': calibration_scores[0], 'JS_div': calibration_scores[1]}, ignore_index=True)\n",
      "/var/folders/8v/cgqpzdls33l6jdsvj3z4fdyh0000gn/T/ipykernel_64710/506424766.py:25: FutureWarning: The frame.append method is deprecated and will be removed from pandas in a future version. Use pandas.concat instead.\n",
      "  results = results.append({'user': user_id, 'Algorithm': algo, 'KL_div': calibration_scores[0], 'JS_div': calibration_scores[1]}, ignore_index=True)\n"
     ]
    },
    {
     "name": "stdout",
     "output_type": "stream",
     "text": [
      "92\n"
     ]
    },
    {
     "name": "stderr",
     "output_type": "stream",
     "text": [
      "/var/folders/8v/cgqpzdls33l6jdsvj3z4fdyh0000gn/T/ipykernel_64710/506424766.py:25: FutureWarning: The frame.append method is deprecated and will be removed from pandas in a future version. Use pandas.concat instead.\n",
      "  results = results.append({'user': user_id, 'Algorithm': algo, 'KL_div': calibration_scores[0], 'JS_div': calibration_scores[1]}, ignore_index=True)\n",
      "/var/folders/8v/cgqpzdls33l6jdsvj3z4fdyh0000gn/T/ipykernel_64710/506424766.py:25: FutureWarning: The frame.append method is deprecated and will be removed from pandas in a future version. Use pandas.concat instead.\n",
      "  results = results.append({'user': user_id, 'Algorithm': algo, 'KL_div': calibration_scores[0], 'JS_div': calibration_scores[1]}, ignore_index=True)\n"
     ]
    },
    {
     "name": "stdout",
     "output_type": "stream",
     "text": [
      "93\n"
     ]
    },
    {
     "name": "stderr",
     "output_type": "stream",
     "text": [
      "/var/folders/8v/cgqpzdls33l6jdsvj3z4fdyh0000gn/T/ipykernel_64710/506424766.py:25: FutureWarning: The frame.append method is deprecated and will be removed from pandas in a future version. Use pandas.concat instead.\n",
      "  results = results.append({'user': user_id, 'Algorithm': algo, 'KL_div': calibration_scores[0], 'JS_div': calibration_scores[1]}, ignore_index=True)\n",
      "/var/folders/8v/cgqpzdls33l6jdsvj3z4fdyh0000gn/T/ipykernel_64710/506424766.py:25: FutureWarning: The frame.append method is deprecated and will be removed from pandas in a future version. Use pandas.concat instead.\n",
      "  results = results.append({'user': user_id, 'Algorithm': algo, 'KL_div': calibration_scores[0], 'JS_div': calibration_scores[1]}, ignore_index=True)\n"
     ]
    },
    {
     "name": "stdout",
     "output_type": "stream",
     "text": [
      "94\n"
     ]
    },
    {
     "name": "stderr",
     "output_type": "stream",
     "text": [
      "/var/folders/8v/cgqpzdls33l6jdsvj3z4fdyh0000gn/T/ipykernel_64710/506424766.py:25: FutureWarning: The frame.append method is deprecated and will be removed from pandas in a future version. Use pandas.concat instead.\n",
      "  results = results.append({'user': user_id, 'Algorithm': algo, 'KL_div': calibration_scores[0], 'JS_div': calibration_scores[1]}, ignore_index=True)\n",
      "/var/folders/8v/cgqpzdls33l6jdsvj3z4fdyh0000gn/T/ipykernel_64710/506424766.py:25: FutureWarning: The frame.append method is deprecated and will be removed from pandas in a future version. Use pandas.concat instead.\n",
      "  results = results.append({'user': user_id, 'Algorithm': algo, 'KL_div': calibration_scores[0], 'JS_div': calibration_scores[1]}, ignore_index=True)\n"
     ]
    },
    {
     "name": "stdout",
     "output_type": "stream",
     "text": [
      "95\n"
     ]
    },
    {
     "name": "stderr",
     "output_type": "stream",
     "text": [
      "/var/folders/8v/cgqpzdls33l6jdsvj3z4fdyh0000gn/T/ipykernel_64710/506424766.py:25: FutureWarning: The frame.append method is deprecated and will be removed from pandas in a future version. Use pandas.concat instead.\n",
      "  results = results.append({'user': user_id, 'Algorithm': algo, 'KL_div': calibration_scores[0], 'JS_div': calibration_scores[1]}, ignore_index=True)\n",
      "/var/folders/8v/cgqpzdls33l6jdsvj3z4fdyh0000gn/T/ipykernel_64710/506424766.py:25: FutureWarning: The frame.append method is deprecated and will be removed from pandas in a future version. Use pandas.concat instead.\n",
      "  results = results.append({'user': user_id, 'Algorithm': algo, 'KL_div': calibration_scores[0], 'JS_div': calibration_scores[1]}, ignore_index=True)\n"
     ]
    },
    {
     "name": "stdout",
     "output_type": "stream",
     "text": [
      "96\n"
     ]
    },
    {
     "name": "stderr",
     "output_type": "stream",
     "text": [
      "/var/folders/8v/cgqpzdls33l6jdsvj3z4fdyh0000gn/T/ipykernel_64710/506424766.py:25: FutureWarning: The frame.append method is deprecated and will be removed from pandas in a future version. Use pandas.concat instead.\n",
      "  results = results.append({'user': user_id, 'Algorithm': algo, 'KL_div': calibration_scores[0], 'JS_div': calibration_scores[1]}, ignore_index=True)\n",
      "/var/folders/8v/cgqpzdls33l6jdsvj3z4fdyh0000gn/T/ipykernel_64710/506424766.py:25: FutureWarning: The frame.append method is deprecated and will be removed from pandas in a future version. Use pandas.concat instead.\n",
      "  results = results.append({'user': user_id, 'Algorithm': algo, 'KL_div': calibration_scores[0], 'JS_div': calibration_scores[1]}, ignore_index=True)\n"
     ]
    },
    {
     "name": "stdout",
     "output_type": "stream",
     "text": [
      "97\n"
     ]
    },
    {
     "name": "stderr",
     "output_type": "stream",
     "text": [
      "/var/folders/8v/cgqpzdls33l6jdsvj3z4fdyh0000gn/T/ipykernel_64710/506424766.py:25: FutureWarning: The frame.append method is deprecated and will be removed from pandas in a future version. Use pandas.concat instead.\n",
      "  results = results.append({'user': user_id, 'Algorithm': algo, 'KL_div': calibration_scores[0], 'JS_div': calibration_scores[1]}, ignore_index=True)\n",
      "/var/folders/8v/cgqpzdls33l6jdsvj3z4fdyh0000gn/T/ipykernel_64710/506424766.py:25: FutureWarning: The frame.append method is deprecated and will be removed from pandas in a future version. Use pandas.concat instead.\n",
      "  results = results.append({'user': user_id, 'Algorithm': algo, 'KL_div': calibration_scores[0], 'JS_div': calibration_scores[1]}, ignore_index=True)\n"
     ]
    },
    {
     "name": "stdout",
     "output_type": "stream",
     "text": [
      "98\n"
     ]
    },
    {
     "name": "stderr",
     "output_type": "stream",
     "text": [
      "/var/folders/8v/cgqpzdls33l6jdsvj3z4fdyh0000gn/T/ipykernel_64710/506424766.py:25: FutureWarning: The frame.append method is deprecated and will be removed from pandas in a future version. Use pandas.concat instead.\n",
      "  results = results.append({'user': user_id, 'Algorithm': algo, 'KL_div': calibration_scores[0], 'JS_div': calibration_scores[1]}, ignore_index=True)\n",
      "/var/folders/8v/cgqpzdls33l6jdsvj3z4fdyh0000gn/T/ipykernel_64710/506424766.py:25: FutureWarning: The frame.append method is deprecated and will be removed from pandas in a future version. Use pandas.concat instead.\n",
      "  results = results.append({'user': user_id, 'Algorithm': algo, 'KL_div': calibration_scores[0], 'JS_div': calibration_scores[1]}, ignore_index=True)\n"
     ]
    },
    {
     "name": "stdout",
     "output_type": "stream",
     "text": [
      "99\n"
     ]
    },
    {
     "name": "stderr",
     "output_type": "stream",
     "text": [
      "/var/folders/8v/cgqpzdls33l6jdsvj3z4fdyh0000gn/T/ipykernel_64710/506424766.py:25: FutureWarning: The frame.append method is deprecated and will be removed from pandas in a future version. Use pandas.concat instead.\n",
      "  results = results.append({'user': user_id, 'Algorithm': algo, 'KL_div': calibration_scores[0], 'JS_div': calibration_scores[1]}, ignore_index=True)\n",
      "/var/folders/8v/cgqpzdls33l6jdsvj3z4fdyh0000gn/T/ipykernel_64710/506424766.py:25: FutureWarning: The frame.append method is deprecated and will be removed from pandas in a future version. Use pandas.concat instead.\n",
      "  results = results.append({'user': user_id, 'Algorithm': algo, 'KL_div': calibration_scores[0], 'JS_div': calibration_scores[1]}, ignore_index=True)\n"
     ]
    },
    {
     "name": "stdout",
     "output_type": "stream",
     "text": [
      "100\n"
     ]
    },
    {
     "name": "stderr",
     "output_type": "stream",
     "text": [
      "/var/folders/8v/cgqpzdls33l6jdsvj3z4fdyh0000gn/T/ipykernel_64710/506424766.py:25: FutureWarning: The frame.append method is deprecated and will be removed from pandas in a future version. Use pandas.concat instead.\n",
      "  results = results.append({'user': user_id, 'Algorithm': algo, 'KL_div': calibration_scores[0], 'JS_div': calibration_scores[1]}, ignore_index=True)\n",
      "/var/folders/8v/cgqpzdls33l6jdsvj3z4fdyh0000gn/T/ipykernel_64710/506424766.py:25: FutureWarning: The frame.append method is deprecated and will be removed from pandas in a future version. Use pandas.concat instead.\n",
      "  results = results.append({'user': user_id, 'Algorithm': algo, 'KL_div': calibration_scores[0], 'JS_div': calibration_scores[1]}, ignore_index=True)\n"
     ]
    },
    {
     "name": "stdout",
     "output_type": "stream",
     "text": [
      "101\n"
     ]
    },
    {
     "name": "stderr",
     "output_type": "stream",
     "text": [
      "/var/folders/8v/cgqpzdls33l6jdsvj3z4fdyh0000gn/T/ipykernel_64710/506424766.py:25: FutureWarning: The frame.append method is deprecated and will be removed from pandas in a future version. Use pandas.concat instead.\n",
      "  results = results.append({'user': user_id, 'Algorithm': algo, 'KL_div': calibration_scores[0], 'JS_div': calibration_scores[1]}, ignore_index=True)\n",
      "/var/folders/8v/cgqpzdls33l6jdsvj3z4fdyh0000gn/T/ipykernel_64710/506424766.py:25: FutureWarning: The frame.append method is deprecated and will be removed from pandas in a future version. Use pandas.concat instead.\n",
      "  results = results.append({'user': user_id, 'Algorithm': algo, 'KL_div': calibration_scores[0], 'JS_div': calibration_scores[1]}, ignore_index=True)\n"
     ]
    },
    {
     "name": "stdout",
     "output_type": "stream",
     "text": [
      "102\n"
     ]
    },
    {
     "name": "stderr",
     "output_type": "stream",
     "text": [
      "/var/folders/8v/cgqpzdls33l6jdsvj3z4fdyh0000gn/T/ipykernel_64710/506424766.py:25: FutureWarning: The frame.append method is deprecated and will be removed from pandas in a future version. Use pandas.concat instead.\n",
      "  results = results.append({'user': user_id, 'Algorithm': algo, 'KL_div': calibration_scores[0], 'JS_div': calibration_scores[1]}, ignore_index=True)\n",
      "/var/folders/8v/cgqpzdls33l6jdsvj3z4fdyh0000gn/T/ipykernel_64710/506424766.py:25: FutureWarning: The frame.append method is deprecated and will be removed from pandas in a future version. Use pandas.concat instead.\n",
      "  results = results.append({'user': user_id, 'Algorithm': algo, 'KL_div': calibration_scores[0], 'JS_div': calibration_scores[1]}, ignore_index=True)\n"
     ]
    },
    {
     "name": "stdout",
     "output_type": "stream",
     "text": [
      "103\n"
     ]
    },
    {
     "name": "stderr",
     "output_type": "stream",
     "text": [
      "/var/folders/8v/cgqpzdls33l6jdsvj3z4fdyh0000gn/T/ipykernel_64710/506424766.py:25: FutureWarning: The frame.append method is deprecated and will be removed from pandas in a future version. Use pandas.concat instead.\n",
      "  results = results.append({'user': user_id, 'Algorithm': algo, 'KL_div': calibration_scores[0], 'JS_div': calibration_scores[1]}, ignore_index=True)\n",
      "/var/folders/8v/cgqpzdls33l6jdsvj3z4fdyh0000gn/T/ipykernel_64710/506424766.py:25: FutureWarning: The frame.append method is deprecated and will be removed from pandas in a future version. Use pandas.concat instead.\n",
      "  results = results.append({'user': user_id, 'Algorithm': algo, 'KL_div': calibration_scores[0], 'JS_div': calibration_scores[1]}, ignore_index=True)\n"
     ]
    },
    {
     "name": "stdout",
     "output_type": "stream",
     "text": [
      "104\n"
     ]
    },
    {
     "name": "stderr",
     "output_type": "stream",
     "text": [
      "/var/folders/8v/cgqpzdls33l6jdsvj3z4fdyh0000gn/T/ipykernel_64710/506424766.py:25: FutureWarning: The frame.append method is deprecated and will be removed from pandas in a future version. Use pandas.concat instead.\n",
      "  results = results.append({'user': user_id, 'Algorithm': algo, 'KL_div': calibration_scores[0], 'JS_div': calibration_scores[1]}, ignore_index=True)\n",
      "/var/folders/8v/cgqpzdls33l6jdsvj3z4fdyh0000gn/T/ipykernel_64710/506424766.py:25: FutureWarning: The frame.append method is deprecated and will be removed from pandas in a future version. Use pandas.concat instead.\n",
      "  results = results.append({'user': user_id, 'Algorithm': algo, 'KL_div': calibration_scores[0], 'JS_div': calibration_scores[1]}, ignore_index=True)\n"
     ]
    },
    {
     "name": "stdout",
     "output_type": "stream",
     "text": [
      "105\n"
     ]
    },
    {
     "name": "stderr",
     "output_type": "stream",
     "text": [
      "/var/folders/8v/cgqpzdls33l6jdsvj3z4fdyh0000gn/T/ipykernel_64710/506424766.py:25: FutureWarning: The frame.append method is deprecated and will be removed from pandas in a future version. Use pandas.concat instead.\n",
      "  results = results.append({'user': user_id, 'Algorithm': algo, 'KL_div': calibration_scores[0], 'JS_div': calibration_scores[1]}, ignore_index=True)\n",
      "/var/folders/8v/cgqpzdls33l6jdsvj3z4fdyh0000gn/T/ipykernel_64710/506424766.py:25: FutureWarning: The frame.append method is deprecated and will be removed from pandas in a future version. Use pandas.concat instead.\n",
      "  results = results.append({'user': user_id, 'Algorithm': algo, 'KL_div': calibration_scores[0], 'JS_div': calibration_scores[1]}, ignore_index=True)\n"
     ]
    },
    {
     "name": "stdout",
     "output_type": "stream",
     "text": [
      "106\n"
     ]
    },
    {
     "name": "stderr",
     "output_type": "stream",
     "text": [
      "/var/folders/8v/cgqpzdls33l6jdsvj3z4fdyh0000gn/T/ipykernel_64710/506424766.py:25: FutureWarning: The frame.append method is deprecated and will be removed from pandas in a future version. Use pandas.concat instead.\n",
      "  results = results.append({'user': user_id, 'Algorithm': algo, 'KL_div': calibration_scores[0], 'JS_div': calibration_scores[1]}, ignore_index=True)\n",
      "/var/folders/8v/cgqpzdls33l6jdsvj3z4fdyh0000gn/T/ipykernel_64710/506424766.py:25: FutureWarning: The frame.append method is deprecated and will be removed from pandas in a future version. Use pandas.concat instead.\n",
      "  results = results.append({'user': user_id, 'Algorithm': algo, 'KL_div': calibration_scores[0], 'JS_div': calibration_scores[1]}, ignore_index=True)\n"
     ]
    },
    {
     "name": "stdout",
     "output_type": "stream",
     "text": [
      "107\n"
     ]
    },
    {
     "name": "stderr",
     "output_type": "stream",
     "text": [
      "/var/folders/8v/cgqpzdls33l6jdsvj3z4fdyh0000gn/T/ipykernel_64710/506424766.py:25: FutureWarning: The frame.append method is deprecated and will be removed from pandas in a future version. Use pandas.concat instead.\n",
      "  results = results.append({'user': user_id, 'Algorithm': algo, 'KL_div': calibration_scores[0], 'JS_div': calibration_scores[1]}, ignore_index=True)\n",
      "/var/folders/8v/cgqpzdls33l6jdsvj3z4fdyh0000gn/T/ipykernel_64710/506424766.py:25: FutureWarning: The frame.append method is deprecated and will be removed from pandas in a future version. Use pandas.concat instead.\n",
      "  results = results.append({'user': user_id, 'Algorithm': algo, 'KL_div': calibration_scores[0], 'JS_div': calibration_scores[1]}, ignore_index=True)\n"
     ]
    },
    {
     "name": "stdout",
     "output_type": "stream",
     "text": [
      "108\n"
     ]
    },
    {
     "name": "stderr",
     "output_type": "stream",
     "text": [
      "/var/folders/8v/cgqpzdls33l6jdsvj3z4fdyh0000gn/T/ipykernel_64710/506424766.py:25: FutureWarning: The frame.append method is deprecated and will be removed from pandas in a future version. Use pandas.concat instead.\n",
      "  results = results.append({'user': user_id, 'Algorithm': algo, 'KL_div': calibration_scores[0], 'JS_div': calibration_scores[1]}, ignore_index=True)\n",
      "/var/folders/8v/cgqpzdls33l6jdsvj3z4fdyh0000gn/T/ipykernel_64710/506424766.py:25: FutureWarning: The frame.append method is deprecated and will be removed from pandas in a future version. Use pandas.concat instead.\n",
      "  results = results.append({'user': user_id, 'Algorithm': algo, 'KL_div': calibration_scores[0], 'JS_div': calibration_scores[1]}, ignore_index=True)\n"
     ]
    },
    {
     "name": "stdout",
     "output_type": "stream",
     "text": [
      "109\n"
     ]
    },
    {
     "name": "stderr",
     "output_type": "stream",
     "text": [
      "/var/folders/8v/cgqpzdls33l6jdsvj3z4fdyh0000gn/T/ipykernel_64710/506424766.py:25: FutureWarning: The frame.append method is deprecated and will be removed from pandas in a future version. Use pandas.concat instead.\n",
      "  results = results.append({'user': user_id, 'Algorithm': algo, 'KL_div': calibration_scores[0], 'JS_div': calibration_scores[1]}, ignore_index=True)\n",
      "/var/folders/8v/cgqpzdls33l6jdsvj3z4fdyh0000gn/T/ipykernel_64710/506424766.py:25: FutureWarning: The frame.append method is deprecated and will be removed from pandas in a future version. Use pandas.concat instead.\n",
      "  results = results.append({'user': user_id, 'Algorithm': algo, 'KL_div': calibration_scores[0], 'JS_div': calibration_scores[1]}, ignore_index=True)\n"
     ]
    },
    {
     "name": "stdout",
     "output_type": "stream",
     "text": [
      "110\n"
     ]
    },
    {
     "name": "stderr",
     "output_type": "stream",
     "text": [
      "/var/folders/8v/cgqpzdls33l6jdsvj3z4fdyh0000gn/T/ipykernel_64710/506424766.py:25: FutureWarning: The frame.append method is deprecated and will be removed from pandas in a future version. Use pandas.concat instead.\n",
      "  results = results.append({'user': user_id, 'Algorithm': algo, 'KL_div': calibration_scores[0], 'JS_div': calibration_scores[1]}, ignore_index=True)\n",
      "/var/folders/8v/cgqpzdls33l6jdsvj3z4fdyh0000gn/T/ipykernel_64710/506424766.py:25: FutureWarning: The frame.append method is deprecated and will be removed from pandas in a future version. Use pandas.concat instead.\n",
      "  results = results.append({'user': user_id, 'Algorithm': algo, 'KL_div': calibration_scores[0], 'JS_div': calibration_scores[1]}, ignore_index=True)\n"
     ]
    },
    {
     "name": "stdout",
     "output_type": "stream",
     "text": [
      "111\n"
     ]
    },
    {
     "name": "stderr",
     "output_type": "stream",
     "text": [
      "/var/folders/8v/cgqpzdls33l6jdsvj3z4fdyh0000gn/T/ipykernel_64710/506424766.py:25: FutureWarning: The frame.append method is deprecated and will be removed from pandas in a future version. Use pandas.concat instead.\n",
      "  results = results.append({'user': user_id, 'Algorithm': algo, 'KL_div': calibration_scores[0], 'JS_div': calibration_scores[1]}, ignore_index=True)\n",
      "/var/folders/8v/cgqpzdls33l6jdsvj3z4fdyh0000gn/T/ipykernel_64710/506424766.py:25: FutureWarning: The frame.append method is deprecated and will be removed from pandas in a future version. Use pandas.concat instead.\n",
      "  results = results.append({'user': user_id, 'Algorithm': algo, 'KL_div': calibration_scores[0], 'JS_div': calibration_scores[1]}, ignore_index=True)\n"
     ]
    },
    {
     "name": "stdout",
     "output_type": "stream",
     "text": [
      "112\n"
     ]
    },
    {
     "name": "stderr",
     "output_type": "stream",
     "text": [
      "/var/folders/8v/cgqpzdls33l6jdsvj3z4fdyh0000gn/T/ipykernel_64710/506424766.py:25: FutureWarning: The frame.append method is deprecated and will be removed from pandas in a future version. Use pandas.concat instead.\n",
      "  results = results.append({'user': user_id, 'Algorithm': algo, 'KL_div': calibration_scores[0], 'JS_div': calibration_scores[1]}, ignore_index=True)\n",
      "/var/folders/8v/cgqpzdls33l6jdsvj3z4fdyh0000gn/T/ipykernel_64710/506424766.py:25: FutureWarning: The frame.append method is deprecated and will be removed from pandas in a future version. Use pandas.concat instead.\n",
      "  results = results.append({'user': user_id, 'Algorithm': algo, 'KL_div': calibration_scores[0], 'JS_div': calibration_scores[1]}, ignore_index=True)\n"
     ]
    },
    {
     "name": "stdout",
     "output_type": "stream",
     "text": [
      "113\n"
     ]
    },
    {
     "name": "stderr",
     "output_type": "stream",
     "text": [
      "/var/folders/8v/cgqpzdls33l6jdsvj3z4fdyh0000gn/T/ipykernel_64710/506424766.py:25: FutureWarning: The frame.append method is deprecated and will be removed from pandas in a future version. Use pandas.concat instead.\n",
      "  results = results.append({'user': user_id, 'Algorithm': algo, 'KL_div': calibration_scores[0], 'JS_div': calibration_scores[1]}, ignore_index=True)\n",
      "/var/folders/8v/cgqpzdls33l6jdsvj3z4fdyh0000gn/T/ipykernel_64710/506424766.py:25: FutureWarning: The frame.append method is deprecated and will be removed from pandas in a future version. Use pandas.concat instead.\n",
      "  results = results.append({'user': user_id, 'Algorithm': algo, 'KL_div': calibration_scores[0], 'JS_div': calibration_scores[1]}, ignore_index=True)\n"
     ]
    },
    {
     "name": "stdout",
     "output_type": "stream",
     "text": [
      "114\n"
     ]
    },
    {
     "name": "stderr",
     "output_type": "stream",
     "text": [
      "/var/folders/8v/cgqpzdls33l6jdsvj3z4fdyh0000gn/T/ipykernel_64710/506424766.py:25: FutureWarning: The frame.append method is deprecated and will be removed from pandas in a future version. Use pandas.concat instead.\n",
      "  results = results.append({'user': user_id, 'Algorithm': algo, 'KL_div': calibration_scores[0], 'JS_div': calibration_scores[1]}, ignore_index=True)\n",
      "/var/folders/8v/cgqpzdls33l6jdsvj3z4fdyh0000gn/T/ipykernel_64710/506424766.py:25: FutureWarning: The frame.append method is deprecated and will be removed from pandas in a future version. Use pandas.concat instead.\n",
      "  results = results.append({'user': user_id, 'Algorithm': algo, 'KL_div': calibration_scores[0], 'JS_div': calibration_scores[1]}, ignore_index=True)\n"
     ]
    },
    {
     "name": "stdout",
     "output_type": "stream",
     "text": [
      "115\n"
     ]
    },
    {
     "name": "stderr",
     "output_type": "stream",
     "text": [
      "/var/folders/8v/cgqpzdls33l6jdsvj3z4fdyh0000gn/T/ipykernel_64710/506424766.py:25: FutureWarning: The frame.append method is deprecated and will be removed from pandas in a future version. Use pandas.concat instead.\n",
      "  results = results.append({'user': user_id, 'Algorithm': algo, 'KL_div': calibration_scores[0], 'JS_div': calibration_scores[1]}, ignore_index=True)\n",
      "/var/folders/8v/cgqpzdls33l6jdsvj3z4fdyh0000gn/T/ipykernel_64710/506424766.py:25: FutureWarning: The frame.append method is deprecated and will be removed from pandas in a future version. Use pandas.concat instead.\n",
      "  results = results.append({'user': user_id, 'Algorithm': algo, 'KL_div': calibration_scores[0], 'JS_div': calibration_scores[1]}, ignore_index=True)\n"
     ]
    },
    {
     "name": "stdout",
     "output_type": "stream",
     "text": [
      "116\n"
     ]
    },
    {
     "name": "stderr",
     "output_type": "stream",
     "text": [
      "/var/folders/8v/cgqpzdls33l6jdsvj3z4fdyh0000gn/T/ipykernel_64710/506424766.py:25: FutureWarning: The frame.append method is deprecated and will be removed from pandas in a future version. Use pandas.concat instead.\n",
      "  results = results.append({'user': user_id, 'Algorithm': algo, 'KL_div': calibration_scores[0], 'JS_div': calibration_scores[1]}, ignore_index=True)\n",
      "/var/folders/8v/cgqpzdls33l6jdsvj3z4fdyh0000gn/T/ipykernel_64710/506424766.py:25: FutureWarning: The frame.append method is deprecated and will be removed from pandas in a future version. Use pandas.concat instead.\n",
      "  results = results.append({'user': user_id, 'Algorithm': algo, 'KL_div': calibration_scores[0], 'JS_div': calibration_scores[1]}, ignore_index=True)\n"
     ]
    },
    {
     "name": "stdout",
     "output_type": "stream",
     "text": [
      "117\n"
     ]
    },
    {
     "name": "stderr",
     "output_type": "stream",
     "text": [
      "/var/folders/8v/cgqpzdls33l6jdsvj3z4fdyh0000gn/T/ipykernel_64710/506424766.py:25: FutureWarning: The frame.append method is deprecated and will be removed from pandas in a future version. Use pandas.concat instead.\n",
      "  results = results.append({'user': user_id, 'Algorithm': algo, 'KL_div': calibration_scores[0], 'JS_div': calibration_scores[1]}, ignore_index=True)\n",
      "/var/folders/8v/cgqpzdls33l6jdsvj3z4fdyh0000gn/T/ipykernel_64710/506424766.py:25: FutureWarning: The frame.append method is deprecated and will be removed from pandas in a future version. Use pandas.concat instead.\n",
      "  results = results.append({'user': user_id, 'Algorithm': algo, 'KL_div': calibration_scores[0], 'JS_div': calibration_scores[1]}, ignore_index=True)\n"
     ]
    },
    {
     "name": "stdout",
     "output_type": "stream",
     "text": [
      "118\n"
     ]
    },
    {
     "name": "stderr",
     "output_type": "stream",
     "text": [
      "/var/folders/8v/cgqpzdls33l6jdsvj3z4fdyh0000gn/T/ipykernel_64710/506424766.py:25: FutureWarning: The frame.append method is deprecated and will be removed from pandas in a future version. Use pandas.concat instead.\n",
      "  results = results.append({'user': user_id, 'Algorithm': algo, 'KL_div': calibration_scores[0], 'JS_div': calibration_scores[1]}, ignore_index=True)\n",
      "/var/folders/8v/cgqpzdls33l6jdsvj3z4fdyh0000gn/T/ipykernel_64710/506424766.py:25: FutureWarning: The frame.append method is deprecated and will be removed from pandas in a future version. Use pandas.concat instead.\n",
      "  results = results.append({'user': user_id, 'Algorithm': algo, 'KL_div': calibration_scores[0], 'JS_div': calibration_scores[1]}, ignore_index=True)\n"
     ]
    },
    {
     "name": "stdout",
     "output_type": "stream",
     "text": [
      "119\n"
     ]
    },
    {
     "name": "stderr",
     "output_type": "stream",
     "text": [
      "/var/folders/8v/cgqpzdls33l6jdsvj3z4fdyh0000gn/T/ipykernel_64710/506424766.py:25: FutureWarning: The frame.append method is deprecated and will be removed from pandas in a future version. Use pandas.concat instead.\n",
      "  results = results.append({'user': user_id, 'Algorithm': algo, 'KL_div': calibration_scores[0], 'JS_div': calibration_scores[1]}, ignore_index=True)\n",
      "/var/folders/8v/cgqpzdls33l6jdsvj3z4fdyh0000gn/T/ipykernel_64710/506424766.py:25: FutureWarning: The frame.append method is deprecated and will be removed from pandas in a future version. Use pandas.concat instead.\n",
      "  results = results.append({'user': user_id, 'Algorithm': algo, 'KL_div': calibration_scores[0], 'JS_div': calibration_scores[1]}, ignore_index=True)\n"
     ]
    },
    {
     "name": "stdout",
     "output_type": "stream",
     "text": [
      "120\n"
     ]
    },
    {
     "name": "stderr",
     "output_type": "stream",
     "text": [
      "/var/folders/8v/cgqpzdls33l6jdsvj3z4fdyh0000gn/T/ipykernel_64710/506424766.py:25: FutureWarning: The frame.append method is deprecated and will be removed from pandas in a future version. Use pandas.concat instead.\n",
      "  results = results.append({'user': user_id, 'Algorithm': algo, 'KL_div': calibration_scores[0], 'JS_div': calibration_scores[1]}, ignore_index=True)\n",
      "/var/folders/8v/cgqpzdls33l6jdsvj3z4fdyh0000gn/T/ipykernel_64710/506424766.py:25: FutureWarning: The frame.append method is deprecated and will be removed from pandas in a future version. Use pandas.concat instead.\n",
      "  results = results.append({'user': user_id, 'Algorithm': algo, 'KL_div': calibration_scores[0], 'JS_div': calibration_scores[1]}, ignore_index=True)\n"
     ]
    },
    {
     "name": "stdout",
     "output_type": "stream",
     "text": [
      "121\n"
     ]
    },
    {
     "name": "stderr",
     "output_type": "stream",
     "text": [
      "/var/folders/8v/cgqpzdls33l6jdsvj3z4fdyh0000gn/T/ipykernel_64710/506424766.py:25: FutureWarning: The frame.append method is deprecated and will be removed from pandas in a future version. Use pandas.concat instead.\n",
      "  results = results.append({'user': user_id, 'Algorithm': algo, 'KL_div': calibration_scores[0], 'JS_div': calibration_scores[1]}, ignore_index=True)\n",
      "/var/folders/8v/cgqpzdls33l6jdsvj3z4fdyh0000gn/T/ipykernel_64710/506424766.py:25: FutureWarning: The frame.append method is deprecated and will be removed from pandas in a future version. Use pandas.concat instead.\n",
      "  results = results.append({'user': user_id, 'Algorithm': algo, 'KL_div': calibration_scores[0], 'JS_div': calibration_scores[1]}, ignore_index=True)\n"
     ]
    },
    {
     "name": "stdout",
     "output_type": "stream",
     "text": [
      "122\n"
     ]
    },
    {
     "name": "stderr",
     "output_type": "stream",
     "text": [
      "/var/folders/8v/cgqpzdls33l6jdsvj3z4fdyh0000gn/T/ipykernel_64710/506424766.py:25: FutureWarning: The frame.append method is deprecated and will be removed from pandas in a future version. Use pandas.concat instead.\n",
      "  results = results.append({'user': user_id, 'Algorithm': algo, 'KL_div': calibration_scores[0], 'JS_div': calibration_scores[1]}, ignore_index=True)\n",
      "/var/folders/8v/cgqpzdls33l6jdsvj3z4fdyh0000gn/T/ipykernel_64710/506424766.py:25: FutureWarning: The frame.append method is deprecated and will be removed from pandas in a future version. Use pandas.concat instead.\n",
      "  results = results.append({'user': user_id, 'Algorithm': algo, 'KL_div': calibration_scores[0], 'JS_div': calibration_scores[1]}, ignore_index=True)\n"
     ]
    },
    {
     "name": "stdout",
     "output_type": "stream",
     "text": [
      "123\n"
     ]
    },
    {
     "name": "stderr",
     "output_type": "stream",
     "text": [
      "/var/folders/8v/cgqpzdls33l6jdsvj3z4fdyh0000gn/T/ipykernel_64710/506424766.py:25: FutureWarning: The frame.append method is deprecated and will be removed from pandas in a future version. Use pandas.concat instead.\n",
      "  results = results.append({'user': user_id, 'Algorithm': algo, 'KL_div': calibration_scores[0], 'JS_div': calibration_scores[1]}, ignore_index=True)\n",
      "/var/folders/8v/cgqpzdls33l6jdsvj3z4fdyh0000gn/T/ipykernel_64710/506424766.py:25: FutureWarning: The frame.append method is deprecated and will be removed from pandas in a future version. Use pandas.concat instead.\n",
      "  results = results.append({'user': user_id, 'Algorithm': algo, 'KL_div': calibration_scores[0], 'JS_div': calibration_scores[1]}, ignore_index=True)\n"
     ]
    },
    {
     "name": "stdout",
     "output_type": "stream",
     "text": [
      "124\n"
     ]
    },
    {
     "name": "stderr",
     "output_type": "stream",
     "text": [
      "/var/folders/8v/cgqpzdls33l6jdsvj3z4fdyh0000gn/T/ipykernel_64710/506424766.py:25: FutureWarning: The frame.append method is deprecated and will be removed from pandas in a future version. Use pandas.concat instead.\n",
      "  results = results.append({'user': user_id, 'Algorithm': algo, 'KL_div': calibration_scores[0], 'JS_div': calibration_scores[1]}, ignore_index=True)\n",
      "/var/folders/8v/cgqpzdls33l6jdsvj3z4fdyh0000gn/T/ipykernel_64710/506424766.py:25: FutureWarning: The frame.append method is deprecated and will be removed from pandas in a future version. Use pandas.concat instead.\n",
      "  results = results.append({'user': user_id, 'Algorithm': algo, 'KL_div': calibration_scores[0], 'JS_div': calibration_scores[1]}, ignore_index=True)\n"
     ]
    },
    {
     "name": "stdout",
     "output_type": "stream",
     "text": [
      "125\n"
     ]
    },
    {
     "name": "stderr",
     "output_type": "stream",
     "text": [
      "/var/folders/8v/cgqpzdls33l6jdsvj3z4fdyh0000gn/T/ipykernel_64710/506424766.py:25: FutureWarning: The frame.append method is deprecated and will be removed from pandas in a future version. Use pandas.concat instead.\n",
      "  results = results.append({'user': user_id, 'Algorithm': algo, 'KL_div': calibration_scores[0], 'JS_div': calibration_scores[1]}, ignore_index=True)\n",
      "/var/folders/8v/cgqpzdls33l6jdsvj3z4fdyh0000gn/T/ipykernel_64710/506424766.py:25: FutureWarning: The frame.append method is deprecated and will be removed from pandas in a future version. Use pandas.concat instead.\n",
      "  results = results.append({'user': user_id, 'Algorithm': algo, 'KL_div': calibration_scores[0], 'JS_div': calibration_scores[1]}, ignore_index=True)\n"
     ]
    },
    {
     "name": "stdout",
     "output_type": "stream",
     "text": [
      "126\n"
     ]
    },
    {
     "name": "stderr",
     "output_type": "stream",
     "text": [
      "/var/folders/8v/cgqpzdls33l6jdsvj3z4fdyh0000gn/T/ipykernel_64710/506424766.py:25: FutureWarning: The frame.append method is deprecated and will be removed from pandas in a future version. Use pandas.concat instead.\n",
      "  results = results.append({'user': user_id, 'Algorithm': algo, 'KL_div': calibration_scores[0], 'JS_div': calibration_scores[1]}, ignore_index=True)\n",
      "/var/folders/8v/cgqpzdls33l6jdsvj3z4fdyh0000gn/T/ipykernel_64710/506424766.py:25: FutureWarning: The frame.append method is deprecated and will be removed from pandas in a future version. Use pandas.concat instead.\n",
      "  results = results.append({'user': user_id, 'Algorithm': algo, 'KL_div': calibration_scores[0], 'JS_div': calibration_scores[1]}, ignore_index=True)\n"
     ]
    },
    {
     "name": "stdout",
     "output_type": "stream",
     "text": [
      "127\n"
     ]
    },
    {
     "name": "stderr",
     "output_type": "stream",
     "text": [
      "/var/folders/8v/cgqpzdls33l6jdsvj3z4fdyh0000gn/T/ipykernel_64710/506424766.py:25: FutureWarning: The frame.append method is deprecated and will be removed from pandas in a future version. Use pandas.concat instead.\n",
      "  results = results.append({'user': user_id, 'Algorithm': algo, 'KL_div': calibration_scores[0], 'JS_div': calibration_scores[1]}, ignore_index=True)\n",
      "/var/folders/8v/cgqpzdls33l6jdsvj3z4fdyh0000gn/T/ipykernel_64710/506424766.py:25: FutureWarning: The frame.append method is deprecated and will be removed from pandas in a future version. Use pandas.concat instead.\n",
      "  results = results.append({'user': user_id, 'Algorithm': algo, 'KL_div': calibration_scores[0], 'JS_div': calibration_scores[1]}, ignore_index=True)\n"
     ]
    },
    {
     "name": "stdout",
     "output_type": "stream",
     "text": [
      "128\n"
     ]
    },
    {
     "name": "stderr",
     "output_type": "stream",
     "text": [
      "/var/folders/8v/cgqpzdls33l6jdsvj3z4fdyh0000gn/T/ipykernel_64710/506424766.py:25: FutureWarning: The frame.append method is deprecated and will be removed from pandas in a future version. Use pandas.concat instead.\n",
      "  results = results.append({'user': user_id, 'Algorithm': algo, 'KL_div': calibration_scores[0], 'JS_div': calibration_scores[1]}, ignore_index=True)\n",
      "/var/folders/8v/cgqpzdls33l6jdsvj3z4fdyh0000gn/T/ipykernel_64710/506424766.py:25: FutureWarning: The frame.append method is deprecated and will be removed from pandas in a future version. Use pandas.concat instead.\n",
      "  results = results.append({'user': user_id, 'Algorithm': algo, 'KL_div': calibration_scores[0], 'JS_div': calibration_scores[1]}, ignore_index=True)\n"
     ]
    },
    {
     "name": "stdout",
     "output_type": "stream",
     "text": [
      "129\n"
     ]
    },
    {
     "name": "stderr",
     "output_type": "stream",
     "text": [
      "/var/folders/8v/cgqpzdls33l6jdsvj3z4fdyh0000gn/T/ipykernel_64710/506424766.py:25: FutureWarning: The frame.append method is deprecated and will be removed from pandas in a future version. Use pandas.concat instead.\n",
      "  results = results.append({'user': user_id, 'Algorithm': algo, 'KL_div': calibration_scores[0], 'JS_div': calibration_scores[1]}, ignore_index=True)\n",
      "/var/folders/8v/cgqpzdls33l6jdsvj3z4fdyh0000gn/T/ipykernel_64710/506424766.py:25: FutureWarning: The frame.append method is deprecated and will be removed from pandas in a future version. Use pandas.concat instead.\n",
      "  results = results.append({'user': user_id, 'Algorithm': algo, 'KL_div': calibration_scores[0], 'JS_div': calibration_scores[1]}, ignore_index=True)\n"
     ]
    },
    {
     "name": "stdout",
     "output_type": "stream",
     "text": [
      "130\n"
     ]
    },
    {
     "name": "stderr",
     "output_type": "stream",
     "text": [
      "/var/folders/8v/cgqpzdls33l6jdsvj3z4fdyh0000gn/T/ipykernel_64710/506424766.py:25: FutureWarning: The frame.append method is deprecated and will be removed from pandas in a future version. Use pandas.concat instead.\n",
      "  results = results.append({'user': user_id, 'Algorithm': algo, 'KL_div': calibration_scores[0], 'JS_div': calibration_scores[1]}, ignore_index=True)\n",
      "/var/folders/8v/cgqpzdls33l6jdsvj3z4fdyh0000gn/T/ipykernel_64710/506424766.py:25: FutureWarning: The frame.append method is deprecated and will be removed from pandas in a future version. Use pandas.concat instead.\n",
      "  results = results.append({'user': user_id, 'Algorithm': algo, 'KL_div': calibration_scores[0], 'JS_div': calibration_scores[1]}, ignore_index=True)\n"
     ]
    },
    {
     "name": "stdout",
     "output_type": "stream",
     "text": [
      "131\n"
     ]
    },
    {
     "name": "stderr",
     "output_type": "stream",
     "text": [
      "/var/folders/8v/cgqpzdls33l6jdsvj3z4fdyh0000gn/T/ipykernel_64710/506424766.py:25: FutureWarning: The frame.append method is deprecated and will be removed from pandas in a future version. Use pandas.concat instead.\n",
      "  results = results.append({'user': user_id, 'Algorithm': algo, 'KL_div': calibration_scores[0], 'JS_div': calibration_scores[1]}, ignore_index=True)\n",
      "/var/folders/8v/cgqpzdls33l6jdsvj3z4fdyh0000gn/T/ipykernel_64710/506424766.py:25: FutureWarning: The frame.append method is deprecated and will be removed from pandas in a future version. Use pandas.concat instead.\n",
      "  results = results.append({'user': user_id, 'Algorithm': algo, 'KL_div': calibration_scores[0], 'JS_div': calibration_scores[1]}, ignore_index=True)\n"
     ]
    },
    {
     "name": "stdout",
     "output_type": "stream",
     "text": [
      "132\n"
     ]
    },
    {
     "name": "stderr",
     "output_type": "stream",
     "text": [
      "/var/folders/8v/cgqpzdls33l6jdsvj3z4fdyh0000gn/T/ipykernel_64710/506424766.py:25: FutureWarning: The frame.append method is deprecated and will be removed from pandas in a future version. Use pandas.concat instead.\n",
      "  results = results.append({'user': user_id, 'Algorithm': algo, 'KL_div': calibration_scores[0], 'JS_div': calibration_scores[1]}, ignore_index=True)\n",
      "/var/folders/8v/cgqpzdls33l6jdsvj3z4fdyh0000gn/T/ipykernel_64710/506424766.py:25: FutureWarning: The frame.append method is deprecated and will be removed from pandas in a future version. Use pandas.concat instead.\n",
      "  results = results.append({'user': user_id, 'Algorithm': algo, 'KL_div': calibration_scores[0], 'JS_div': calibration_scores[1]}, ignore_index=True)\n"
     ]
    },
    {
     "name": "stdout",
     "output_type": "stream",
     "text": [
      "133\n"
     ]
    },
    {
     "name": "stderr",
     "output_type": "stream",
     "text": [
      "/var/folders/8v/cgqpzdls33l6jdsvj3z4fdyh0000gn/T/ipykernel_64710/506424766.py:25: FutureWarning: The frame.append method is deprecated and will be removed from pandas in a future version. Use pandas.concat instead.\n",
      "  results = results.append({'user': user_id, 'Algorithm': algo, 'KL_div': calibration_scores[0], 'JS_div': calibration_scores[1]}, ignore_index=True)\n",
      "/var/folders/8v/cgqpzdls33l6jdsvj3z4fdyh0000gn/T/ipykernel_64710/506424766.py:25: FutureWarning: The frame.append method is deprecated and will be removed from pandas in a future version. Use pandas.concat instead.\n",
      "  results = results.append({'user': user_id, 'Algorithm': algo, 'KL_div': calibration_scores[0], 'JS_div': calibration_scores[1]}, ignore_index=True)\n"
     ]
    },
    {
     "name": "stdout",
     "output_type": "stream",
     "text": [
      "134\n"
     ]
    },
    {
     "name": "stderr",
     "output_type": "stream",
     "text": [
      "/var/folders/8v/cgqpzdls33l6jdsvj3z4fdyh0000gn/T/ipykernel_64710/506424766.py:25: FutureWarning: The frame.append method is deprecated and will be removed from pandas in a future version. Use pandas.concat instead.\n",
      "  results = results.append({'user': user_id, 'Algorithm': algo, 'KL_div': calibration_scores[0], 'JS_div': calibration_scores[1]}, ignore_index=True)\n",
      "/var/folders/8v/cgqpzdls33l6jdsvj3z4fdyh0000gn/T/ipykernel_64710/506424766.py:25: FutureWarning: The frame.append method is deprecated and will be removed from pandas in a future version. Use pandas.concat instead.\n",
      "  results = results.append({'user': user_id, 'Algorithm': algo, 'KL_div': calibration_scores[0], 'JS_div': calibration_scores[1]}, ignore_index=True)\n"
     ]
    },
    {
     "name": "stdout",
     "output_type": "stream",
     "text": [
      "135\n"
     ]
    },
    {
     "name": "stderr",
     "output_type": "stream",
     "text": [
      "/var/folders/8v/cgqpzdls33l6jdsvj3z4fdyh0000gn/T/ipykernel_64710/506424766.py:25: FutureWarning: The frame.append method is deprecated and will be removed from pandas in a future version. Use pandas.concat instead.\n",
      "  results = results.append({'user': user_id, 'Algorithm': algo, 'KL_div': calibration_scores[0], 'JS_div': calibration_scores[1]}, ignore_index=True)\n",
      "/var/folders/8v/cgqpzdls33l6jdsvj3z4fdyh0000gn/T/ipykernel_64710/506424766.py:25: FutureWarning: The frame.append method is deprecated and will be removed from pandas in a future version. Use pandas.concat instead.\n",
      "  results = results.append({'user': user_id, 'Algorithm': algo, 'KL_div': calibration_scores[0], 'JS_div': calibration_scores[1]}, ignore_index=True)\n"
     ]
    },
    {
     "name": "stdout",
     "output_type": "stream",
     "text": [
      "136\n"
     ]
    },
    {
     "name": "stderr",
     "output_type": "stream",
     "text": [
      "/var/folders/8v/cgqpzdls33l6jdsvj3z4fdyh0000gn/T/ipykernel_64710/506424766.py:25: FutureWarning: The frame.append method is deprecated and will be removed from pandas in a future version. Use pandas.concat instead.\n",
      "  results = results.append({'user': user_id, 'Algorithm': algo, 'KL_div': calibration_scores[0], 'JS_div': calibration_scores[1]}, ignore_index=True)\n",
      "/var/folders/8v/cgqpzdls33l6jdsvj3z4fdyh0000gn/T/ipykernel_64710/506424766.py:25: FutureWarning: The frame.append method is deprecated and will be removed from pandas in a future version. Use pandas.concat instead.\n",
      "  results = results.append({'user': user_id, 'Algorithm': algo, 'KL_div': calibration_scores[0], 'JS_div': calibration_scores[1]}, ignore_index=True)\n"
     ]
    },
    {
     "name": "stdout",
     "output_type": "stream",
     "text": [
      "137\n"
     ]
    },
    {
     "name": "stderr",
     "output_type": "stream",
     "text": [
      "/var/folders/8v/cgqpzdls33l6jdsvj3z4fdyh0000gn/T/ipykernel_64710/506424766.py:25: FutureWarning: The frame.append method is deprecated and will be removed from pandas in a future version. Use pandas.concat instead.\n",
      "  results = results.append({'user': user_id, 'Algorithm': algo, 'KL_div': calibration_scores[0], 'JS_div': calibration_scores[1]}, ignore_index=True)\n",
      "/var/folders/8v/cgqpzdls33l6jdsvj3z4fdyh0000gn/T/ipykernel_64710/506424766.py:25: FutureWarning: The frame.append method is deprecated and will be removed from pandas in a future version. Use pandas.concat instead.\n",
      "  results = results.append({'user': user_id, 'Algorithm': algo, 'KL_div': calibration_scores[0], 'JS_div': calibration_scores[1]}, ignore_index=True)\n"
     ]
    },
    {
     "name": "stdout",
     "output_type": "stream",
     "text": [
      "138\n"
     ]
    },
    {
     "name": "stderr",
     "output_type": "stream",
     "text": [
      "/var/folders/8v/cgqpzdls33l6jdsvj3z4fdyh0000gn/T/ipykernel_64710/506424766.py:25: FutureWarning: The frame.append method is deprecated and will be removed from pandas in a future version. Use pandas.concat instead.\n",
      "  results = results.append({'user': user_id, 'Algorithm': algo, 'KL_div': calibration_scores[0], 'JS_div': calibration_scores[1]}, ignore_index=True)\n",
      "/var/folders/8v/cgqpzdls33l6jdsvj3z4fdyh0000gn/T/ipykernel_64710/506424766.py:25: FutureWarning: The frame.append method is deprecated and will be removed from pandas in a future version. Use pandas.concat instead.\n",
      "  results = results.append({'user': user_id, 'Algorithm': algo, 'KL_div': calibration_scores[0], 'JS_div': calibration_scores[1]}, ignore_index=True)\n"
     ]
    },
    {
     "name": "stdout",
     "output_type": "stream",
     "text": [
      "139\n"
     ]
    },
    {
     "name": "stderr",
     "output_type": "stream",
     "text": [
      "/var/folders/8v/cgqpzdls33l6jdsvj3z4fdyh0000gn/T/ipykernel_64710/506424766.py:25: FutureWarning: The frame.append method is deprecated and will be removed from pandas in a future version. Use pandas.concat instead.\n",
      "  results = results.append({'user': user_id, 'Algorithm': algo, 'KL_div': calibration_scores[0], 'JS_div': calibration_scores[1]}, ignore_index=True)\n",
      "/var/folders/8v/cgqpzdls33l6jdsvj3z4fdyh0000gn/T/ipykernel_64710/506424766.py:25: FutureWarning: The frame.append method is deprecated and will be removed from pandas in a future version. Use pandas.concat instead.\n",
      "  results = results.append({'user': user_id, 'Algorithm': algo, 'KL_div': calibration_scores[0], 'JS_div': calibration_scores[1]}, ignore_index=True)\n"
     ]
    },
    {
     "name": "stdout",
     "output_type": "stream",
     "text": [
      "140\n"
     ]
    },
    {
     "name": "stderr",
     "output_type": "stream",
     "text": [
      "/var/folders/8v/cgqpzdls33l6jdsvj3z4fdyh0000gn/T/ipykernel_64710/506424766.py:25: FutureWarning: The frame.append method is deprecated and will be removed from pandas in a future version. Use pandas.concat instead.\n",
      "  results = results.append({'user': user_id, 'Algorithm': algo, 'KL_div': calibration_scores[0], 'JS_div': calibration_scores[1]}, ignore_index=True)\n",
      "/var/folders/8v/cgqpzdls33l6jdsvj3z4fdyh0000gn/T/ipykernel_64710/506424766.py:25: FutureWarning: The frame.append method is deprecated and will be removed from pandas in a future version. Use pandas.concat instead.\n",
      "  results = results.append({'user': user_id, 'Algorithm': algo, 'KL_div': calibration_scores[0], 'JS_div': calibration_scores[1]}, ignore_index=True)\n"
     ]
    },
    {
     "name": "stdout",
     "output_type": "stream",
     "text": [
      "141\n"
     ]
    },
    {
     "name": "stderr",
     "output_type": "stream",
     "text": [
      "/var/folders/8v/cgqpzdls33l6jdsvj3z4fdyh0000gn/T/ipykernel_64710/506424766.py:25: FutureWarning: The frame.append method is deprecated and will be removed from pandas in a future version. Use pandas.concat instead.\n",
      "  results = results.append({'user': user_id, 'Algorithm': algo, 'KL_div': calibration_scores[0], 'JS_div': calibration_scores[1]}, ignore_index=True)\n",
      "/var/folders/8v/cgqpzdls33l6jdsvj3z4fdyh0000gn/T/ipykernel_64710/506424766.py:25: FutureWarning: The frame.append method is deprecated and will be removed from pandas in a future version. Use pandas.concat instead.\n",
      "  results = results.append({'user': user_id, 'Algorithm': algo, 'KL_div': calibration_scores[0], 'JS_div': calibration_scores[1]}, ignore_index=True)\n"
     ]
    },
    {
     "name": "stdout",
     "output_type": "stream",
     "text": [
      "142\n"
     ]
    },
    {
     "name": "stderr",
     "output_type": "stream",
     "text": [
      "/var/folders/8v/cgqpzdls33l6jdsvj3z4fdyh0000gn/T/ipykernel_64710/506424766.py:25: FutureWarning: The frame.append method is deprecated and will be removed from pandas in a future version. Use pandas.concat instead.\n",
      "  results = results.append({'user': user_id, 'Algorithm': algo, 'KL_div': calibration_scores[0], 'JS_div': calibration_scores[1]}, ignore_index=True)\n",
      "/var/folders/8v/cgqpzdls33l6jdsvj3z4fdyh0000gn/T/ipykernel_64710/506424766.py:25: FutureWarning: The frame.append method is deprecated and will be removed from pandas in a future version. Use pandas.concat instead.\n",
      "  results = results.append({'user': user_id, 'Algorithm': algo, 'KL_div': calibration_scores[0], 'JS_div': calibration_scores[1]}, ignore_index=True)\n"
     ]
    },
    {
     "name": "stdout",
     "output_type": "stream",
     "text": [
      "143\n"
     ]
    },
    {
     "name": "stderr",
     "output_type": "stream",
     "text": [
      "/var/folders/8v/cgqpzdls33l6jdsvj3z4fdyh0000gn/T/ipykernel_64710/506424766.py:25: FutureWarning: The frame.append method is deprecated and will be removed from pandas in a future version. Use pandas.concat instead.\n",
      "  results = results.append({'user': user_id, 'Algorithm': algo, 'KL_div': calibration_scores[0], 'JS_div': calibration_scores[1]}, ignore_index=True)\n",
      "/var/folders/8v/cgqpzdls33l6jdsvj3z4fdyh0000gn/T/ipykernel_64710/506424766.py:25: FutureWarning: The frame.append method is deprecated and will be removed from pandas in a future version. Use pandas.concat instead.\n",
      "  results = results.append({'user': user_id, 'Algorithm': algo, 'KL_div': calibration_scores[0], 'JS_div': calibration_scores[1]}, ignore_index=True)\n"
     ]
    },
    {
     "name": "stdout",
     "output_type": "stream",
     "text": [
      "144\n"
     ]
    },
    {
     "name": "stderr",
     "output_type": "stream",
     "text": [
      "/var/folders/8v/cgqpzdls33l6jdsvj3z4fdyh0000gn/T/ipykernel_64710/506424766.py:25: FutureWarning: The frame.append method is deprecated and will be removed from pandas in a future version. Use pandas.concat instead.\n",
      "  results = results.append({'user': user_id, 'Algorithm': algo, 'KL_div': calibration_scores[0], 'JS_div': calibration_scores[1]}, ignore_index=True)\n",
      "/var/folders/8v/cgqpzdls33l6jdsvj3z4fdyh0000gn/T/ipykernel_64710/506424766.py:25: FutureWarning: The frame.append method is deprecated and will be removed from pandas in a future version. Use pandas.concat instead.\n",
      "  results = results.append({'user': user_id, 'Algorithm': algo, 'KL_div': calibration_scores[0], 'JS_div': calibration_scores[1]}, ignore_index=True)\n"
     ]
    },
    {
     "name": "stdout",
     "output_type": "stream",
     "text": [
      "145\n"
     ]
    },
    {
     "name": "stderr",
     "output_type": "stream",
     "text": [
      "/var/folders/8v/cgqpzdls33l6jdsvj3z4fdyh0000gn/T/ipykernel_64710/506424766.py:25: FutureWarning: The frame.append method is deprecated and will be removed from pandas in a future version. Use pandas.concat instead.\n",
      "  results = results.append({'user': user_id, 'Algorithm': algo, 'KL_div': calibration_scores[0], 'JS_div': calibration_scores[1]}, ignore_index=True)\n",
      "/var/folders/8v/cgqpzdls33l6jdsvj3z4fdyh0000gn/T/ipykernel_64710/506424766.py:25: FutureWarning: The frame.append method is deprecated and will be removed from pandas in a future version. Use pandas.concat instead.\n",
      "  results = results.append({'user': user_id, 'Algorithm': algo, 'KL_div': calibration_scores[0], 'JS_div': calibration_scores[1]}, ignore_index=True)\n"
     ]
    },
    {
     "name": "stdout",
     "output_type": "stream",
     "text": [
      "146\n"
     ]
    },
    {
     "name": "stderr",
     "output_type": "stream",
     "text": [
      "/var/folders/8v/cgqpzdls33l6jdsvj3z4fdyh0000gn/T/ipykernel_64710/506424766.py:25: FutureWarning: The frame.append method is deprecated and will be removed from pandas in a future version. Use pandas.concat instead.\n",
      "  results = results.append({'user': user_id, 'Algorithm': algo, 'KL_div': calibration_scores[0], 'JS_div': calibration_scores[1]}, ignore_index=True)\n",
      "/var/folders/8v/cgqpzdls33l6jdsvj3z4fdyh0000gn/T/ipykernel_64710/506424766.py:25: FutureWarning: The frame.append method is deprecated and will be removed from pandas in a future version. Use pandas.concat instead.\n",
      "  results = results.append({'user': user_id, 'Algorithm': algo, 'KL_div': calibration_scores[0], 'JS_div': calibration_scores[1]}, ignore_index=True)\n"
     ]
    },
    {
     "name": "stdout",
     "output_type": "stream",
     "text": [
      "147\n"
     ]
    },
    {
     "name": "stderr",
     "output_type": "stream",
     "text": [
      "/var/folders/8v/cgqpzdls33l6jdsvj3z4fdyh0000gn/T/ipykernel_64710/506424766.py:25: FutureWarning: The frame.append method is deprecated and will be removed from pandas in a future version. Use pandas.concat instead.\n",
      "  results = results.append({'user': user_id, 'Algorithm': algo, 'KL_div': calibration_scores[0], 'JS_div': calibration_scores[1]}, ignore_index=True)\n",
      "/var/folders/8v/cgqpzdls33l6jdsvj3z4fdyh0000gn/T/ipykernel_64710/506424766.py:25: FutureWarning: The frame.append method is deprecated and will be removed from pandas in a future version. Use pandas.concat instead.\n",
      "  results = results.append({'user': user_id, 'Algorithm': algo, 'KL_div': calibration_scores[0], 'JS_div': calibration_scores[1]}, ignore_index=True)\n"
     ]
    },
    {
     "name": "stdout",
     "output_type": "stream",
     "text": [
      "148\n"
     ]
    },
    {
     "name": "stderr",
     "output_type": "stream",
     "text": [
      "/var/folders/8v/cgqpzdls33l6jdsvj3z4fdyh0000gn/T/ipykernel_64710/506424766.py:25: FutureWarning: The frame.append method is deprecated and will be removed from pandas in a future version. Use pandas.concat instead.\n",
      "  results = results.append({'user': user_id, 'Algorithm': algo, 'KL_div': calibration_scores[0], 'JS_div': calibration_scores[1]}, ignore_index=True)\n",
      "/var/folders/8v/cgqpzdls33l6jdsvj3z4fdyh0000gn/T/ipykernel_64710/506424766.py:25: FutureWarning: The frame.append method is deprecated and will be removed from pandas in a future version. Use pandas.concat instead.\n",
      "  results = results.append({'user': user_id, 'Algorithm': algo, 'KL_div': calibration_scores[0], 'JS_div': calibration_scores[1]}, ignore_index=True)\n"
     ]
    },
    {
     "name": "stdout",
     "output_type": "stream",
     "text": [
      "149\n"
     ]
    },
    {
     "name": "stderr",
     "output_type": "stream",
     "text": [
      "/var/folders/8v/cgqpzdls33l6jdsvj3z4fdyh0000gn/T/ipykernel_64710/506424766.py:25: FutureWarning: The frame.append method is deprecated and will be removed from pandas in a future version. Use pandas.concat instead.\n",
      "  results = results.append({'user': user_id, 'Algorithm': algo, 'KL_div': calibration_scores[0], 'JS_div': calibration_scores[1]}, ignore_index=True)\n",
      "/var/folders/8v/cgqpzdls33l6jdsvj3z4fdyh0000gn/T/ipykernel_64710/506424766.py:25: FutureWarning: The frame.append method is deprecated and will be removed from pandas in a future version. Use pandas.concat instead.\n",
      "  results = results.append({'user': user_id, 'Algorithm': algo, 'KL_div': calibration_scores[0], 'JS_div': calibration_scores[1]}, ignore_index=True)\n"
     ]
    },
    {
     "name": "stdout",
     "output_type": "stream",
     "text": [
      "150\n"
     ]
    },
    {
     "name": "stderr",
     "output_type": "stream",
     "text": [
      "/var/folders/8v/cgqpzdls33l6jdsvj3z4fdyh0000gn/T/ipykernel_64710/506424766.py:25: FutureWarning: The frame.append method is deprecated and will be removed from pandas in a future version. Use pandas.concat instead.\n",
      "  results = results.append({'user': user_id, 'Algorithm': algo, 'KL_div': calibration_scores[0], 'JS_div': calibration_scores[1]}, ignore_index=True)\n",
      "/var/folders/8v/cgqpzdls33l6jdsvj3z4fdyh0000gn/T/ipykernel_64710/506424766.py:25: FutureWarning: The frame.append method is deprecated and will be removed from pandas in a future version. Use pandas.concat instead.\n",
      "  results = results.append({'user': user_id, 'Algorithm': algo, 'KL_div': calibration_scores[0], 'JS_div': calibration_scores[1]}, ignore_index=True)\n"
     ]
    },
    {
     "name": "stdout",
     "output_type": "stream",
     "text": [
      "151\n"
     ]
    },
    {
     "name": "stderr",
     "output_type": "stream",
     "text": [
      "/var/folders/8v/cgqpzdls33l6jdsvj3z4fdyh0000gn/T/ipykernel_64710/506424766.py:25: FutureWarning: The frame.append method is deprecated and will be removed from pandas in a future version. Use pandas.concat instead.\n",
      "  results = results.append({'user': user_id, 'Algorithm': algo, 'KL_div': calibration_scores[0], 'JS_div': calibration_scores[1]}, ignore_index=True)\n",
      "/var/folders/8v/cgqpzdls33l6jdsvj3z4fdyh0000gn/T/ipykernel_64710/506424766.py:25: FutureWarning: The frame.append method is deprecated and will be removed from pandas in a future version. Use pandas.concat instead.\n",
      "  results = results.append({'user': user_id, 'Algorithm': algo, 'KL_div': calibration_scores[0], 'JS_div': calibration_scores[1]}, ignore_index=True)\n"
     ]
    },
    {
     "name": "stdout",
     "output_type": "stream",
     "text": [
      "152\n"
     ]
    },
    {
     "name": "stderr",
     "output_type": "stream",
     "text": [
      "/var/folders/8v/cgqpzdls33l6jdsvj3z4fdyh0000gn/T/ipykernel_64710/506424766.py:25: FutureWarning: The frame.append method is deprecated and will be removed from pandas in a future version. Use pandas.concat instead.\n",
      "  results = results.append({'user': user_id, 'Algorithm': algo, 'KL_div': calibration_scores[0], 'JS_div': calibration_scores[1]}, ignore_index=True)\n",
      "/var/folders/8v/cgqpzdls33l6jdsvj3z4fdyh0000gn/T/ipykernel_64710/506424766.py:25: FutureWarning: The frame.append method is deprecated and will be removed from pandas in a future version. Use pandas.concat instead.\n",
      "  results = results.append({'user': user_id, 'Algorithm': algo, 'KL_div': calibration_scores[0], 'JS_div': calibration_scores[1]}, ignore_index=True)\n"
     ]
    },
    {
     "name": "stdout",
     "output_type": "stream",
     "text": [
      "153\n"
     ]
    },
    {
     "name": "stderr",
     "output_type": "stream",
     "text": [
      "/var/folders/8v/cgqpzdls33l6jdsvj3z4fdyh0000gn/T/ipykernel_64710/506424766.py:25: FutureWarning: The frame.append method is deprecated and will be removed from pandas in a future version. Use pandas.concat instead.\n",
      "  results = results.append({'user': user_id, 'Algorithm': algo, 'KL_div': calibration_scores[0], 'JS_div': calibration_scores[1]}, ignore_index=True)\n",
      "/var/folders/8v/cgqpzdls33l6jdsvj3z4fdyh0000gn/T/ipykernel_64710/506424766.py:25: FutureWarning: The frame.append method is deprecated and will be removed from pandas in a future version. Use pandas.concat instead.\n",
      "  results = results.append({'user': user_id, 'Algorithm': algo, 'KL_div': calibration_scores[0], 'JS_div': calibration_scores[1]}, ignore_index=True)\n"
     ]
    },
    {
     "name": "stdout",
     "output_type": "stream",
     "text": [
      "154\n"
     ]
    },
    {
     "name": "stderr",
     "output_type": "stream",
     "text": [
      "/var/folders/8v/cgqpzdls33l6jdsvj3z4fdyh0000gn/T/ipykernel_64710/506424766.py:25: FutureWarning: The frame.append method is deprecated and will be removed from pandas in a future version. Use pandas.concat instead.\n",
      "  results = results.append({'user': user_id, 'Algorithm': algo, 'KL_div': calibration_scores[0], 'JS_div': calibration_scores[1]}, ignore_index=True)\n",
      "/var/folders/8v/cgqpzdls33l6jdsvj3z4fdyh0000gn/T/ipykernel_64710/506424766.py:25: FutureWarning: The frame.append method is deprecated and will be removed from pandas in a future version. Use pandas.concat instead.\n",
      "  results = results.append({'user': user_id, 'Algorithm': algo, 'KL_div': calibration_scores[0], 'JS_div': calibration_scores[1]}, ignore_index=True)\n"
     ]
    },
    {
     "name": "stdout",
     "output_type": "stream",
     "text": [
      "155\n"
     ]
    },
    {
     "name": "stderr",
     "output_type": "stream",
     "text": [
      "/var/folders/8v/cgqpzdls33l6jdsvj3z4fdyh0000gn/T/ipykernel_64710/506424766.py:25: FutureWarning: The frame.append method is deprecated and will be removed from pandas in a future version. Use pandas.concat instead.\n",
      "  results = results.append({'user': user_id, 'Algorithm': algo, 'KL_div': calibration_scores[0], 'JS_div': calibration_scores[1]}, ignore_index=True)\n",
      "/var/folders/8v/cgqpzdls33l6jdsvj3z4fdyh0000gn/T/ipykernel_64710/506424766.py:25: FutureWarning: The frame.append method is deprecated and will be removed from pandas in a future version. Use pandas.concat instead.\n",
      "  results = results.append({'user': user_id, 'Algorithm': algo, 'KL_div': calibration_scores[0], 'JS_div': calibration_scores[1]}, ignore_index=True)\n"
     ]
    },
    {
     "name": "stdout",
     "output_type": "stream",
     "text": [
      "156\n"
     ]
    },
    {
     "name": "stderr",
     "output_type": "stream",
     "text": [
      "/var/folders/8v/cgqpzdls33l6jdsvj3z4fdyh0000gn/T/ipykernel_64710/506424766.py:25: FutureWarning: The frame.append method is deprecated and will be removed from pandas in a future version. Use pandas.concat instead.\n",
      "  results = results.append({'user': user_id, 'Algorithm': algo, 'KL_div': calibration_scores[0], 'JS_div': calibration_scores[1]}, ignore_index=True)\n",
      "/var/folders/8v/cgqpzdls33l6jdsvj3z4fdyh0000gn/T/ipykernel_64710/506424766.py:25: FutureWarning: The frame.append method is deprecated and will be removed from pandas in a future version. Use pandas.concat instead.\n",
      "  results = results.append({'user': user_id, 'Algorithm': algo, 'KL_div': calibration_scores[0], 'JS_div': calibration_scores[1]}, ignore_index=True)\n"
     ]
    },
    {
     "name": "stdout",
     "output_type": "stream",
     "text": [
      "157\n"
     ]
    },
    {
     "name": "stderr",
     "output_type": "stream",
     "text": [
      "/var/folders/8v/cgqpzdls33l6jdsvj3z4fdyh0000gn/T/ipykernel_64710/506424766.py:25: FutureWarning: The frame.append method is deprecated and will be removed from pandas in a future version. Use pandas.concat instead.\n",
      "  results = results.append({'user': user_id, 'Algorithm': algo, 'KL_div': calibration_scores[0], 'JS_div': calibration_scores[1]}, ignore_index=True)\n",
      "/var/folders/8v/cgqpzdls33l6jdsvj3z4fdyh0000gn/T/ipykernel_64710/506424766.py:25: FutureWarning: The frame.append method is deprecated and will be removed from pandas in a future version. Use pandas.concat instead.\n",
      "  results = results.append({'user': user_id, 'Algorithm': algo, 'KL_div': calibration_scores[0], 'JS_div': calibration_scores[1]}, ignore_index=True)\n"
     ]
    },
    {
     "name": "stdout",
     "output_type": "stream",
     "text": [
      "158\n"
     ]
    },
    {
     "name": "stderr",
     "output_type": "stream",
     "text": [
      "/var/folders/8v/cgqpzdls33l6jdsvj3z4fdyh0000gn/T/ipykernel_64710/506424766.py:25: FutureWarning: The frame.append method is deprecated and will be removed from pandas in a future version. Use pandas.concat instead.\n",
      "  results = results.append({'user': user_id, 'Algorithm': algo, 'KL_div': calibration_scores[0], 'JS_div': calibration_scores[1]}, ignore_index=True)\n",
      "/var/folders/8v/cgqpzdls33l6jdsvj3z4fdyh0000gn/T/ipykernel_64710/506424766.py:25: FutureWarning: The frame.append method is deprecated and will be removed from pandas in a future version. Use pandas.concat instead.\n",
      "  results = results.append({'user': user_id, 'Algorithm': algo, 'KL_div': calibration_scores[0], 'JS_div': calibration_scores[1]}, ignore_index=True)\n"
     ]
    },
    {
     "name": "stdout",
     "output_type": "stream",
     "text": [
      "159\n"
     ]
    },
    {
     "name": "stderr",
     "output_type": "stream",
     "text": [
      "/var/folders/8v/cgqpzdls33l6jdsvj3z4fdyh0000gn/T/ipykernel_64710/506424766.py:25: FutureWarning: The frame.append method is deprecated and will be removed from pandas in a future version. Use pandas.concat instead.\n",
      "  results = results.append({'user': user_id, 'Algorithm': algo, 'KL_div': calibration_scores[0], 'JS_div': calibration_scores[1]}, ignore_index=True)\n",
      "/var/folders/8v/cgqpzdls33l6jdsvj3z4fdyh0000gn/T/ipykernel_64710/506424766.py:25: FutureWarning: The frame.append method is deprecated and will be removed from pandas in a future version. Use pandas.concat instead.\n",
      "  results = results.append({'user': user_id, 'Algorithm': algo, 'KL_div': calibration_scores[0], 'JS_div': calibration_scores[1]}, ignore_index=True)\n"
     ]
    },
    {
     "name": "stdout",
     "output_type": "stream",
     "text": [
      "160\n"
     ]
    },
    {
     "name": "stderr",
     "output_type": "stream",
     "text": [
      "/var/folders/8v/cgqpzdls33l6jdsvj3z4fdyh0000gn/T/ipykernel_64710/506424766.py:25: FutureWarning: The frame.append method is deprecated and will be removed from pandas in a future version. Use pandas.concat instead.\n",
      "  results = results.append({'user': user_id, 'Algorithm': algo, 'KL_div': calibration_scores[0], 'JS_div': calibration_scores[1]}, ignore_index=True)\n",
      "/var/folders/8v/cgqpzdls33l6jdsvj3z4fdyh0000gn/T/ipykernel_64710/506424766.py:25: FutureWarning: The frame.append method is deprecated and will be removed from pandas in a future version. Use pandas.concat instead.\n",
      "  results = results.append({'user': user_id, 'Algorithm': algo, 'KL_div': calibration_scores[0], 'JS_div': calibration_scores[1]}, ignore_index=True)\n"
     ]
    },
    {
     "name": "stdout",
     "output_type": "stream",
     "text": [
      "161\n"
     ]
    },
    {
     "name": "stderr",
     "output_type": "stream",
     "text": [
      "/var/folders/8v/cgqpzdls33l6jdsvj3z4fdyh0000gn/T/ipykernel_64710/506424766.py:25: FutureWarning: The frame.append method is deprecated and will be removed from pandas in a future version. Use pandas.concat instead.\n",
      "  results = results.append({'user': user_id, 'Algorithm': algo, 'KL_div': calibration_scores[0], 'JS_div': calibration_scores[1]}, ignore_index=True)\n",
      "/var/folders/8v/cgqpzdls33l6jdsvj3z4fdyh0000gn/T/ipykernel_64710/506424766.py:25: FutureWarning: The frame.append method is deprecated and will be removed from pandas in a future version. Use pandas.concat instead.\n",
      "  results = results.append({'user': user_id, 'Algorithm': algo, 'KL_div': calibration_scores[0], 'JS_div': calibration_scores[1]}, ignore_index=True)\n"
     ]
    },
    {
     "name": "stdout",
     "output_type": "stream",
     "text": [
      "162\n"
     ]
    },
    {
     "name": "stderr",
     "output_type": "stream",
     "text": [
      "/var/folders/8v/cgqpzdls33l6jdsvj3z4fdyh0000gn/T/ipykernel_64710/506424766.py:25: FutureWarning: The frame.append method is deprecated and will be removed from pandas in a future version. Use pandas.concat instead.\n",
      "  results = results.append({'user': user_id, 'Algorithm': algo, 'KL_div': calibration_scores[0], 'JS_div': calibration_scores[1]}, ignore_index=True)\n",
      "/var/folders/8v/cgqpzdls33l6jdsvj3z4fdyh0000gn/T/ipykernel_64710/506424766.py:25: FutureWarning: The frame.append method is deprecated and will be removed from pandas in a future version. Use pandas.concat instead.\n",
      "  results = results.append({'user': user_id, 'Algorithm': algo, 'KL_div': calibration_scores[0], 'JS_div': calibration_scores[1]}, ignore_index=True)\n"
     ]
    },
    {
     "name": "stdout",
     "output_type": "stream",
     "text": [
      "163\n"
     ]
    },
    {
     "name": "stderr",
     "output_type": "stream",
     "text": [
      "/var/folders/8v/cgqpzdls33l6jdsvj3z4fdyh0000gn/T/ipykernel_64710/506424766.py:25: FutureWarning: The frame.append method is deprecated and will be removed from pandas in a future version. Use pandas.concat instead.\n",
      "  results = results.append({'user': user_id, 'Algorithm': algo, 'KL_div': calibration_scores[0], 'JS_div': calibration_scores[1]}, ignore_index=True)\n",
      "/var/folders/8v/cgqpzdls33l6jdsvj3z4fdyh0000gn/T/ipykernel_64710/506424766.py:25: FutureWarning: The frame.append method is deprecated and will be removed from pandas in a future version. Use pandas.concat instead.\n",
      "  results = results.append({'user': user_id, 'Algorithm': algo, 'KL_div': calibration_scores[0], 'JS_div': calibration_scores[1]}, ignore_index=True)\n"
     ]
    },
    {
     "name": "stdout",
     "output_type": "stream",
     "text": [
      "164\n"
     ]
    },
    {
     "name": "stderr",
     "output_type": "stream",
     "text": [
      "/var/folders/8v/cgqpzdls33l6jdsvj3z4fdyh0000gn/T/ipykernel_64710/506424766.py:25: FutureWarning: The frame.append method is deprecated and will be removed from pandas in a future version. Use pandas.concat instead.\n",
      "  results = results.append({'user': user_id, 'Algorithm': algo, 'KL_div': calibration_scores[0], 'JS_div': calibration_scores[1]}, ignore_index=True)\n",
      "/var/folders/8v/cgqpzdls33l6jdsvj3z4fdyh0000gn/T/ipykernel_64710/506424766.py:25: FutureWarning: The frame.append method is deprecated and will be removed from pandas in a future version. Use pandas.concat instead.\n",
      "  results = results.append({'user': user_id, 'Algorithm': algo, 'KL_div': calibration_scores[0], 'JS_div': calibration_scores[1]}, ignore_index=True)\n"
     ]
    },
    {
     "name": "stdout",
     "output_type": "stream",
     "text": [
      "165\n"
     ]
    },
    {
     "name": "stderr",
     "output_type": "stream",
     "text": [
      "/var/folders/8v/cgqpzdls33l6jdsvj3z4fdyh0000gn/T/ipykernel_64710/506424766.py:25: FutureWarning: The frame.append method is deprecated and will be removed from pandas in a future version. Use pandas.concat instead.\n",
      "  results = results.append({'user': user_id, 'Algorithm': algo, 'KL_div': calibration_scores[0], 'JS_div': calibration_scores[1]}, ignore_index=True)\n",
      "/var/folders/8v/cgqpzdls33l6jdsvj3z4fdyh0000gn/T/ipykernel_64710/506424766.py:25: FutureWarning: The frame.append method is deprecated and will be removed from pandas in a future version. Use pandas.concat instead.\n",
      "  results = results.append({'user': user_id, 'Algorithm': algo, 'KL_div': calibration_scores[0], 'JS_div': calibration_scores[1]}, ignore_index=True)\n"
     ]
    },
    {
     "name": "stdout",
     "output_type": "stream",
     "text": [
      "166\n"
     ]
    },
    {
     "name": "stderr",
     "output_type": "stream",
     "text": [
      "/var/folders/8v/cgqpzdls33l6jdsvj3z4fdyh0000gn/T/ipykernel_64710/506424766.py:25: FutureWarning: The frame.append method is deprecated and will be removed from pandas in a future version. Use pandas.concat instead.\n",
      "  results = results.append({'user': user_id, 'Algorithm': algo, 'KL_div': calibration_scores[0], 'JS_div': calibration_scores[1]}, ignore_index=True)\n",
      "/var/folders/8v/cgqpzdls33l6jdsvj3z4fdyh0000gn/T/ipykernel_64710/506424766.py:25: FutureWarning: The frame.append method is deprecated and will be removed from pandas in a future version. Use pandas.concat instead.\n",
      "  results = results.append({'user': user_id, 'Algorithm': algo, 'KL_div': calibration_scores[0], 'JS_div': calibration_scores[1]}, ignore_index=True)\n"
     ]
    },
    {
     "name": "stdout",
     "output_type": "stream",
     "text": [
      "167\n"
     ]
    },
    {
     "name": "stderr",
     "output_type": "stream",
     "text": [
      "/var/folders/8v/cgqpzdls33l6jdsvj3z4fdyh0000gn/T/ipykernel_64710/506424766.py:25: FutureWarning: The frame.append method is deprecated and will be removed from pandas in a future version. Use pandas.concat instead.\n",
      "  results = results.append({'user': user_id, 'Algorithm': algo, 'KL_div': calibration_scores[0], 'JS_div': calibration_scores[1]}, ignore_index=True)\n",
      "/var/folders/8v/cgqpzdls33l6jdsvj3z4fdyh0000gn/T/ipykernel_64710/506424766.py:25: FutureWarning: The frame.append method is deprecated and will be removed from pandas in a future version. Use pandas.concat instead.\n",
      "  results = results.append({'user': user_id, 'Algorithm': algo, 'KL_div': calibration_scores[0], 'JS_div': calibration_scores[1]}, ignore_index=True)\n"
     ]
    },
    {
     "name": "stdout",
     "output_type": "stream",
     "text": [
      "168\n"
     ]
    },
    {
     "name": "stderr",
     "output_type": "stream",
     "text": [
      "/var/folders/8v/cgqpzdls33l6jdsvj3z4fdyh0000gn/T/ipykernel_64710/506424766.py:25: FutureWarning: The frame.append method is deprecated and will be removed from pandas in a future version. Use pandas.concat instead.\n",
      "  results = results.append({'user': user_id, 'Algorithm': algo, 'KL_div': calibration_scores[0], 'JS_div': calibration_scores[1]}, ignore_index=True)\n",
      "/var/folders/8v/cgqpzdls33l6jdsvj3z4fdyh0000gn/T/ipykernel_64710/506424766.py:25: FutureWarning: The frame.append method is deprecated and will be removed from pandas in a future version. Use pandas.concat instead.\n",
      "  results = results.append({'user': user_id, 'Algorithm': algo, 'KL_div': calibration_scores[0], 'JS_div': calibration_scores[1]}, ignore_index=True)\n"
     ]
    },
    {
     "name": "stdout",
     "output_type": "stream",
     "text": [
      "169\n"
     ]
    },
    {
     "name": "stderr",
     "output_type": "stream",
     "text": [
      "/var/folders/8v/cgqpzdls33l6jdsvj3z4fdyh0000gn/T/ipykernel_64710/506424766.py:25: FutureWarning: The frame.append method is deprecated and will be removed from pandas in a future version. Use pandas.concat instead.\n",
      "  results = results.append({'user': user_id, 'Algorithm': algo, 'KL_div': calibration_scores[0], 'JS_div': calibration_scores[1]}, ignore_index=True)\n",
      "/var/folders/8v/cgqpzdls33l6jdsvj3z4fdyh0000gn/T/ipykernel_64710/506424766.py:25: FutureWarning: The frame.append method is deprecated and will be removed from pandas in a future version. Use pandas.concat instead.\n",
      "  results = results.append({'user': user_id, 'Algorithm': algo, 'KL_div': calibration_scores[0], 'JS_div': calibration_scores[1]}, ignore_index=True)\n"
     ]
    },
    {
     "name": "stdout",
     "output_type": "stream",
     "text": [
      "170\n"
     ]
    },
    {
     "name": "stderr",
     "output_type": "stream",
     "text": [
      "/var/folders/8v/cgqpzdls33l6jdsvj3z4fdyh0000gn/T/ipykernel_64710/506424766.py:25: FutureWarning: The frame.append method is deprecated and will be removed from pandas in a future version. Use pandas.concat instead.\n",
      "  results = results.append({'user': user_id, 'Algorithm': algo, 'KL_div': calibration_scores[0], 'JS_div': calibration_scores[1]}, ignore_index=True)\n",
      "/var/folders/8v/cgqpzdls33l6jdsvj3z4fdyh0000gn/T/ipykernel_64710/506424766.py:25: FutureWarning: The frame.append method is deprecated and will be removed from pandas in a future version. Use pandas.concat instead.\n",
      "  results = results.append({'user': user_id, 'Algorithm': algo, 'KL_div': calibration_scores[0], 'JS_div': calibration_scores[1]}, ignore_index=True)\n"
     ]
    },
    {
     "name": "stdout",
     "output_type": "stream",
     "text": [
      "171\n"
     ]
    },
    {
     "name": "stderr",
     "output_type": "stream",
     "text": [
      "/var/folders/8v/cgqpzdls33l6jdsvj3z4fdyh0000gn/T/ipykernel_64710/506424766.py:25: FutureWarning: The frame.append method is deprecated and will be removed from pandas in a future version. Use pandas.concat instead.\n",
      "  results = results.append({'user': user_id, 'Algorithm': algo, 'KL_div': calibration_scores[0], 'JS_div': calibration_scores[1]}, ignore_index=True)\n",
      "/var/folders/8v/cgqpzdls33l6jdsvj3z4fdyh0000gn/T/ipykernel_64710/506424766.py:25: FutureWarning: The frame.append method is deprecated and will be removed from pandas in a future version. Use pandas.concat instead.\n",
      "  results = results.append({'user': user_id, 'Algorithm': algo, 'KL_div': calibration_scores[0], 'JS_div': calibration_scores[1]}, ignore_index=True)\n"
     ]
    },
    {
     "name": "stdout",
     "output_type": "stream",
     "text": [
      "172\n"
     ]
    },
    {
     "name": "stderr",
     "output_type": "stream",
     "text": [
      "/var/folders/8v/cgqpzdls33l6jdsvj3z4fdyh0000gn/T/ipykernel_64710/506424766.py:25: FutureWarning: The frame.append method is deprecated and will be removed from pandas in a future version. Use pandas.concat instead.\n",
      "  results = results.append({'user': user_id, 'Algorithm': algo, 'KL_div': calibration_scores[0], 'JS_div': calibration_scores[1]}, ignore_index=True)\n",
      "/var/folders/8v/cgqpzdls33l6jdsvj3z4fdyh0000gn/T/ipykernel_64710/506424766.py:25: FutureWarning: The frame.append method is deprecated and will be removed from pandas in a future version. Use pandas.concat instead.\n",
      "  results = results.append({'user': user_id, 'Algorithm': algo, 'KL_div': calibration_scores[0], 'JS_div': calibration_scores[1]}, ignore_index=True)\n"
     ]
    },
    {
     "name": "stdout",
     "output_type": "stream",
     "text": [
      "173\n"
     ]
    },
    {
     "name": "stderr",
     "output_type": "stream",
     "text": [
      "/var/folders/8v/cgqpzdls33l6jdsvj3z4fdyh0000gn/T/ipykernel_64710/506424766.py:25: FutureWarning: The frame.append method is deprecated and will be removed from pandas in a future version. Use pandas.concat instead.\n",
      "  results = results.append({'user': user_id, 'Algorithm': algo, 'KL_div': calibration_scores[0], 'JS_div': calibration_scores[1]}, ignore_index=True)\n",
      "/var/folders/8v/cgqpzdls33l6jdsvj3z4fdyh0000gn/T/ipykernel_64710/506424766.py:25: FutureWarning: The frame.append method is deprecated and will be removed from pandas in a future version. Use pandas.concat instead.\n",
      "  results = results.append({'user': user_id, 'Algorithm': algo, 'KL_div': calibration_scores[0], 'JS_div': calibration_scores[1]}, ignore_index=True)\n"
     ]
    },
    {
     "name": "stdout",
     "output_type": "stream",
     "text": [
      "174\n"
     ]
    },
    {
     "name": "stderr",
     "output_type": "stream",
     "text": [
      "/var/folders/8v/cgqpzdls33l6jdsvj3z4fdyh0000gn/T/ipykernel_64710/506424766.py:25: FutureWarning: The frame.append method is deprecated and will be removed from pandas in a future version. Use pandas.concat instead.\n",
      "  results = results.append({'user': user_id, 'Algorithm': algo, 'KL_div': calibration_scores[0], 'JS_div': calibration_scores[1]}, ignore_index=True)\n",
      "/var/folders/8v/cgqpzdls33l6jdsvj3z4fdyh0000gn/T/ipykernel_64710/506424766.py:25: FutureWarning: The frame.append method is deprecated and will be removed from pandas in a future version. Use pandas.concat instead.\n",
      "  results = results.append({'user': user_id, 'Algorithm': algo, 'KL_div': calibration_scores[0], 'JS_div': calibration_scores[1]}, ignore_index=True)\n"
     ]
    },
    {
     "name": "stdout",
     "output_type": "stream",
     "text": [
      "175\n"
     ]
    },
    {
     "name": "stderr",
     "output_type": "stream",
     "text": [
      "/var/folders/8v/cgqpzdls33l6jdsvj3z4fdyh0000gn/T/ipykernel_64710/506424766.py:25: FutureWarning: The frame.append method is deprecated and will be removed from pandas in a future version. Use pandas.concat instead.\n",
      "  results = results.append({'user': user_id, 'Algorithm': algo, 'KL_div': calibration_scores[0], 'JS_div': calibration_scores[1]}, ignore_index=True)\n",
      "/var/folders/8v/cgqpzdls33l6jdsvj3z4fdyh0000gn/T/ipykernel_64710/506424766.py:25: FutureWarning: The frame.append method is deprecated and will be removed from pandas in a future version. Use pandas.concat instead.\n",
      "  results = results.append({'user': user_id, 'Algorithm': algo, 'KL_div': calibration_scores[0], 'JS_div': calibration_scores[1]}, ignore_index=True)\n"
     ]
    },
    {
     "name": "stdout",
     "output_type": "stream",
     "text": [
      "176\n"
     ]
    },
    {
     "name": "stderr",
     "output_type": "stream",
     "text": [
      "/var/folders/8v/cgqpzdls33l6jdsvj3z4fdyh0000gn/T/ipykernel_64710/506424766.py:25: FutureWarning: The frame.append method is deprecated and will be removed from pandas in a future version. Use pandas.concat instead.\n",
      "  results = results.append({'user': user_id, 'Algorithm': algo, 'KL_div': calibration_scores[0], 'JS_div': calibration_scores[1]}, ignore_index=True)\n",
      "/var/folders/8v/cgqpzdls33l6jdsvj3z4fdyh0000gn/T/ipykernel_64710/506424766.py:25: FutureWarning: The frame.append method is deprecated and will be removed from pandas in a future version. Use pandas.concat instead.\n",
      "  results = results.append({'user': user_id, 'Algorithm': algo, 'KL_div': calibration_scores[0], 'JS_div': calibration_scores[1]}, ignore_index=True)\n"
     ]
    },
    {
     "name": "stdout",
     "output_type": "stream",
     "text": [
      "177\n"
     ]
    },
    {
     "name": "stderr",
     "output_type": "stream",
     "text": [
      "/var/folders/8v/cgqpzdls33l6jdsvj3z4fdyh0000gn/T/ipykernel_64710/506424766.py:25: FutureWarning: The frame.append method is deprecated and will be removed from pandas in a future version. Use pandas.concat instead.\n",
      "  results = results.append({'user': user_id, 'Algorithm': algo, 'KL_div': calibration_scores[0], 'JS_div': calibration_scores[1]}, ignore_index=True)\n",
      "/var/folders/8v/cgqpzdls33l6jdsvj3z4fdyh0000gn/T/ipykernel_64710/506424766.py:25: FutureWarning: The frame.append method is deprecated and will be removed from pandas in a future version. Use pandas.concat instead.\n",
      "  results = results.append({'user': user_id, 'Algorithm': algo, 'KL_div': calibration_scores[0], 'JS_div': calibration_scores[1]}, ignore_index=True)\n"
     ]
    },
    {
     "name": "stdout",
     "output_type": "stream",
     "text": [
      "178\n"
     ]
    },
    {
     "name": "stderr",
     "output_type": "stream",
     "text": [
      "/var/folders/8v/cgqpzdls33l6jdsvj3z4fdyh0000gn/T/ipykernel_64710/506424766.py:25: FutureWarning: The frame.append method is deprecated and will be removed from pandas in a future version. Use pandas.concat instead.\n",
      "  results = results.append({'user': user_id, 'Algorithm': algo, 'KL_div': calibration_scores[0], 'JS_div': calibration_scores[1]}, ignore_index=True)\n",
      "/var/folders/8v/cgqpzdls33l6jdsvj3z4fdyh0000gn/T/ipykernel_64710/506424766.py:25: FutureWarning: The frame.append method is deprecated and will be removed from pandas in a future version. Use pandas.concat instead.\n",
      "  results = results.append({'user': user_id, 'Algorithm': algo, 'KL_div': calibration_scores[0], 'JS_div': calibration_scores[1]}, ignore_index=True)\n"
     ]
    },
    {
     "name": "stdout",
     "output_type": "stream",
     "text": [
      "179\n"
     ]
    },
    {
     "name": "stderr",
     "output_type": "stream",
     "text": [
      "/var/folders/8v/cgqpzdls33l6jdsvj3z4fdyh0000gn/T/ipykernel_64710/506424766.py:25: FutureWarning: The frame.append method is deprecated and will be removed from pandas in a future version. Use pandas.concat instead.\n",
      "  results = results.append({'user': user_id, 'Algorithm': algo, 'KL_div': calibration_scores[0], 'JS_div': calibration_scores[1]}, ignore_index=True)\n",
      "/var/folders/8v/cgqpzdls33l6jdsvj3z4fdyh0000gn/T/ipykernel_64710/506424766.py:25: FutureWarning: The frame.append method is deprecated and will be removed from pandas in a future version. Use pandas.concat instead.\n",
      "  results = results.append({'user': user_id, 'Algorithm': algo, 'KL_div': calibration_scores[0], 'JS_div': calibration_scores[1]}, ignore_index=True)\n"
     ]
    },
    {
     "name": "stdout",
     "output_type": "stream",
     "text": [
      "180\n"
     ]
    },
    {
     "name": "stderr",
     "output_type": "stream",
     "text": [
      "/var/folders/8v/cgqpzdls33l6jdsvj3z4fdyh0000gn/T/ipykernel_64710/506424766.py:25: FutureWarning: The frame.append method is deprecated and will be removed from pandas in a future version. Use pandas.concat instead.\n",
      "  results = results.append({'user': user_id, 'Algorithm': algo, 'KL_div': calibration_scores[0], 'JS_div': calibration_scores[1]}, ignore_index=True)\n",
      "/var/folders/8v/cgqpzdls33l6jdsvj3z4fdyh0000gn/T/ipykernel_64710/506424766.py:25: FutureWarning: The frame.append method is deprecated and will be removed from pandas in a future version. Use pandas.concat instead.\n",
      "  results = results.append({'user': user_id, 'Algorithm': algo, 'KL_div': calibration_scores[0], 'JS_div': calibration_scores[1]}, ignore_index=True)\n"
     ]
    },
    {
     "name": "stdout",
     "output_type": "stream",
     "text": [
      "181\n"
     ]
    },
    {
     "name": "stderr",
     "output_type": "stream",
     "text": [
      "/var/folders/8v/cgqpzdls33l6jdsvj3z4fdyh0000gn/T/ipykernel_64710/506424766.py:25: FutureWarning: The frame.append method is deprecated and will be removed from pandas in a future version. Use pandas.concat instead.\n",
      "  results = results.append({'user': user_id, 'Algorithm': algo, 'KL_div': calibration_scores[0], 'JS_div': calibration_scores[1]}, ignore_index=True)\n",
      "/var/folders/8v/cgqpzdls33l6jdsvj3z4fdyh0000gn/T/ipykernel_64710/506424766.py:25: FutureWarning: The frame.append method is deprecated and will be removed from pandas in a future version. Use pandas.concat instead.\n",
      "  results = results.append({'user': user_id, 'Algorithm': algo, 'KL_div': calibration_scores[0], 'JS_div': calibration_scores[1]}, ignore_index=True)\n"
     ]
    },
    {
     "name": "stdout",
     "output_type": "stream",
     "text": [
      "182\n"
     ]
    },
    {
     "name": "stderr",
     "output_type": "stream",
     "text": [
      "/var/folders/8v/cgqpzdls33l6jdsvj3z4fdyh0000gn/T/ipykernel_64710/506424766.py:25: FutureWarning: The frame.append method is deprecated and will be removed from pandas in a future version. Use pandas.concat instead.\n",
      "  results = results.append({'user': user_id, 'Algorithm': algo, 'KL_div': calibration_scores[0], 'JS_div': calibration_scores[1]}, ignore_index=True)\n",
      "/var/folders/8v/cgqpzdls33l6jdsvj3z4fdyh0000gn/T/ipykernel_64710/506424766.py:25: FutureWarning: The frame.append method is deprecated and will be removed from pandas in a future version. Use pandas.concat instead.\n",
      "  results = results.append({'user': user_id, 'Algorithm': algo, 'KL_div': calibration_scores[0], 'JS_div': calibration_scores[1]}, ignore_index=True)\n"
     ]
    },
    {
     "name": "stdout",
     "output_type": "stream",
     "text": [
      "183\n"
     ]
    },
    {
     "name": "stderr",
     "output_type": "stream",
     "text": [
      "/var/folders/8v/cgqpzdls33l6jdsvj3z4fdyh0000gn/T/ipykernel_64710/506424766.py:25: FutureWarning: The frame.append method is deprecated and will be removed from pandas in a future version. Use pandas.concat instead.\n",
      "  results = results.append({'user': user_id, 'Algorithm': algo, 'KL_div': calibration_scores[0], 'JS_div': calibration_scores[1]}, ignore_index=True)\n",
      "/var/folders/8v/cgqpzdls33l6jdsvj3z4fdyh0000gn/T/ipykernel_64710/506424766.py:25: FutureWarning: The frame.append method is deprecated and will be removed from pandas in a future version. Use pandas.concat instead.\n",
      "  results = results.append({'user': user_id, 'Algorithm': algo, 'KL_div': calibration_scores[0], 'JS_div': calibration_scores[1]}, ignore_index=True)\n"
     ]
    },
    {
     "name": "stdout",
     "output_type": "stream",
     "text": [
      "184\n"
     ]
    },
    {
     "name": "stderr",
     "output_type": "stream",
     "text": [
      "/var/folders/8v/cgqpzdls33l6jdsvj3z4fdyh0000gn/T/ipykernel_64710/506424766.py:25: FutureWarning: The frame.append method is deprecated and will be removed from pandas in a future version. Use pandas.concat instead.\n",
      "  results = results.append({'user': user_id, 'Algorithm': algo, 'KL_div': calibration_scores[0], 'JS_div': calibration_scores[1]}, ignore_index=True)\n",
      "/var/folders/8v/cgqpzdls33l6jdsvj3z4fdyh0000gn/T/ipykernel_64710/506424766.py:25: FutureWarning: The frame.append method is deprecated and will be removed from pandas in a future version. Use pandas.concat instead.\n",
      "  results = results.append({'user': user_id, 'Algorithm': algo, 'KL_div': calibration_scores[0], 'JS_div': calibration_scores[1]}, ignore_index=True)\n"
     ]
    },
    {
     "name": "stdout",
     "output_type": "stream",
     "text": [
      "185\n"
     ]
    },
    {
     "name": "stderr",
     "output_type": "stream",
     "text": [
      "/var/folders/8v/cgqpzdls33l6jdsvj3z4fdyh0000gn/T/ipykernel_64710/506424766.py:25: FutureWarning: The frame.append method is deprecated and will be removed from pandas in a future version. Use pandas.concat instead.\n",
      "  results = results.append({'user': user_id, 'Algorithm': algo, 'KL_div': calibration_scores[0], 'JS_div': calibration_scores[1]}, ignore_index=True)\n",
      "/var/folders/8v/cgqpzdls33l6jdsvj3z4fdyh0000gn/T/ipykernel_64710/506424766.py:25: FutureWarning: The frame.append method is deprecated and will be removed from pandas in a future version. Use pandas.concat instead.\n",
      "  results = results.append({'user': user_id, 'Algorithm': algo, 'KL_div': calibration_scores[0], 'JS_div': calibration_scores[1]}, ignore_index=True)\n"
     ]
    },
    {
     "name": "stdout",
     "output_type": "stream",
     "text": [
      "186\n"
     ]
    },
    {
     "name": "stderr",
     "output_type": "stream",
     "text": [
      "/var/folders/8v/cgqpzdls33l6jdsvj3z4fdyh0000gn/T/ipykernel_64710/506424766.py:25: FutureWarning: The frame.append method is deprecated and will be removed from pandas in a future version. Use pandas.concat instead.\n",
      "  results = results.append({'user': user_id, 'Algorithm': algo, 'KL_div': calibration_scores[0], 'JS_div': calibration_scores[1]}, ignore_index=True)\n",
      "/var/folders/8v/cgqpzdls33l6jdsvj3z4fdyh0000gn/T/ipykernel_64710/506424766.py:25: FutureWarning: The frame.append method is deprecated and will be removed from pandas in a future version. Use pandas.concat instead.\n",
      "  results = results.append({'user': user_id, 'Algorithm': algo, 'KL_div': calibration_scores[0], 'JS_div': calibration_scores[1]}, ignore_index=True)\n"
     ]
    },
    {
     "name": "stdout",
     "output_type": "stream",
     "text": [
      "187\n"
     ]
    },
    {
     "name": "stderr",
     "output_type": "stream",
     "text": [
      "/var/folders/8v/cgqpzdls33l6jdsvj3z4fdyh0000gn/T/ipykernel_64710/506424766.py:25: FutureWarning: The frame.append method is deprecated and will be removed from pandas in a future version. Use pandas.concat instead.\n",
      "  results = results.append({'user': user_id, 'Algorithm': algo, 'KL_div': calibration_scores[0], 'JS_div': calibration_scores[1]}, ignore_index=True)\n",
      "/var/folders/8v/cgqpzdls33l6jdsvj3z4fdyh0000gn/T/ipykernel_64710/506424766.py:25: FutureWarning: The frame.append method is deprecated and will be removed from pandas in a future version. Use pandas.concat instead.\n",
      "  results = results.append({'user': user_id, 'Algorithm': algo, 'KL_div': calibration_scores[0], 'JS_div': calibration_scores[1]}, ignore_index=True)\n"
     ]
    },
    {
     "name": "stdout",
     "output_type": "stream",
     "text": [
      "188\n"
     ]
    },
    {
     "name": "stderr",
     "output_type": "stream",
     "text": [
      "/var/folders/8v/cgqpzdls33l6jdsvj3z4fdyh0000gn/T/ipykernel_64710/506424766.py:25: FutureWarning: The frame.append method is deprecated and will be removed from pandas in a future version. Use pandas.concat instead.\n",
      "  results = results.append({'user': user_id, 'Algorithm': algo, 'KL_div': calibration_scores[0], 'JS_div': calibration_scores[1]}, ignore_index=True)\n",
      "/var/folders/8v/cgqpzdls33l6jdsvj3z4fdyh0000gn/T/ipykernel_64710/506424766.py:25: FutureWarning: The frame.append method is deprecated and will be removed from pandas in a future version. Use pandas.concat instead.\n",
      "  results = results.append({'user': user_id, 'Algorithm': algo, 'KL_div': calibration_scores[0], 'JS_div': calibration_scores[1]}, ignore_index=True)\n"
     ]
    },
    {
     "name": "stdout",
     "output_type": "stream",
     "text": [
      "189\n"
     ]
    },
    {
     "name": "stderr",
     "output_type": "stream",
     "text": [
      "/var/folders/8v/cgqpzdls33l6jdsvj3z4fdyh0000gn/T/ipykernel_64710/506424766.py:25: FutureWarning: The frame.append method is deprecated and will be removed from pandas in a future version. Use pandas.concat instead.\n",
      "  results = results.append({'user': user_id, 'Algorithm': algo, 'KL_div': calibration_scores[0], 'JS_div': calibration_scores[1]}, ignore_index=True)\n",
      "/var/folders/8v/cgqpzdls33l6jdsvj3z4fdyh0000gn/T/ipykernel_64710/506424766.py:25: FutureWarning: The frame.append method is deprecated and will be removed from pandas in a future version. Use pandas.concat instead.\n",
      "  results = results.append({'user': user_id, 'Algorithm': algo, 'KL_div': calibration_scores[0], 'JS_div': calibration_scores[1]}, ignore_index=True)\n"
     ]
    },
    {
     "name": "stdout",
     "output_type": "stream",
     "text": [
      "190\n"
     ]
    },
    {
     "name": "stderr",
     "output_type": "stream",
     "text": [
      "/var/folders/8v/cgqpzdls33l6jdsvj3z4fdyh0000gn/T/ipykernel_64710/506424766.py:25: FutureWarning: The frame.append method is deprecated and will be removed from pandas in a future version. Use pandas.concat instead.\n",
      "  results = results.append({'user': user_id, 'Algorithm': algo, 'KL_div': calibration_scores[0], 'JS_div': calibration_scores[1]}, ignore_index=True)\n",
      "/var/folders/8v/cgqpzdls33l6jdsvj3z4fdyh0000gn/T/ipykernel_64710/506424766.py:25: FutureWarning: The frame.append method is deprecated and will be removed from pandas in a future version. Use pandas.concat instead.\n",
      "  results = results.append({'user': user_id, 'Algorithm': algo, 'KL_div': calibration_scores[0], 'JS_div': calibration_scores[1]}, ignore_index=True)\n"
     ]
    },
    {
     "name": "stdout",
     "output_type": "stream",
     "text": [
      "191\n"
     ]
    },
    {
     "name": "stderr",
     "output_type": "stream",
     "text": [
      "/var/folders/8v/cgqpzdls33l6jdsvj3z4fdyh0000gn/T/ipykernel_64710/506424766.py:25: FutureWarning: The frame.append method is deprecated and will be removed from pandas in a future version. Use pandas.concat instead.\n",
      "  results = results.append({'user': user_id, 'Algorithm': algo, 'KL_div': calibration_scores[0], 'JS_div': calibration_scores[1]}, ignore_index=True)\n",
      "/var/folders/8v/cgqpzdls33l6jdsvj3z4fdyh0000gn/T/ipykernel_64710/506424766.py:25: FutureWarning: The frame.append method is deprecated and will be removed from pandas in a future version. Use pandas.concat instead.\n",
      "  results = results.append({'user': user_id, 'Algorithm': algo, 'KL_div': calibration_scores[0], 'JS_div': calibration_scores[1]}, ignore_index=True)\n"
     ]
    },
    {
     "name": "stdout",
     "output_type": "stream",
     "text": [
      "192\n"
     ]
    },
    {
     "name": "stderr",
     "output_type": "stream",
     "text": [
      "/var/folders/8v/cgqpzdls33l6jdsvj3z4fdyh0000gn/T/ipykernel_64710/506424766.py:25: FutureWarning: The frame.append method is deprecated and will be removed from pandas in a future version. Use pandas.concat instead.\n",
      "  results = results.append({'user': user_id, 'Algorithm': algo, 'KL_div': calibration_scores[0], 'JS_div': calibration_scores[1]}, ignore_index=True)\n",
      "/var/folders/8v/cgqpzdls33l6jdsvj3z4fdyh0000gn/T/ipykernel_64710/506424766.py:25: FutureWarning: The frame.append method is deprecated and will be removed from pandas in a future version. Use pandas.concat instead.\n",
      "  results = results.append({'user': user_id, 'Algorithm': algo, 'KL_div': calibration_scores[0], 'JS_div': calibration_scores[1]}, ignore_index=True)\n"
     ]
    },
    {
     "name": "stdout",
     "output_type": "stream",
     "text": [
      "193\n"
     ]
    },
    {
     "name": "stderr",
     "output_type": "stream",
     "text": [
      "/var/folders/8v/cgqpzdls33l6jdsvj3z4fdyh0000gn/T/ipykernel_64710/506424766.py:25: FutureWarning: The frame.append method is deprecated and will be removed from pandas in a future version. Use pandas.concat instead.\n",
      "  results = results.append({'user': user_id, 'Algorithm': algo, 'KL_div': calibration_scores[0], 'JS_div': calibration_scores[1]}, ignore_index=True)\n",
      "/var/folders/8v/cgqpzdls33l6jdsvj3z4fdyh0000gn/T/ipykernel_64710/506424766.py:25: FutureWarning: The frame.append method is deprecated and will be removed from pandas in a future version. Use pandas.concat instead.\n",
      "  results = results.append({'user': user_id, 'Algorithm': algo, 'KL_div': calibration_scores[0], 'JS_div': calibration_scores[1]}, ignore_index=True)\n"
     ]
    },
    {
     "name": "stdout",
     "output_type": "stream",
     "text": [
      "194\n"
     ]
    },
    {
     "name": "stderr",
     "output_type": "stream",
     "text": [
      "/var/folders/8v/cgqpzdls33l6jdsvj3z4fdyh0000gn/T/ipykernel_64710/506424766.py:25: FutureWarning: The frame.append method is deprecated and will be removed from pandas in a future version. Use pandas.concat instead.\n",
      "  results = results.append({'user': user_id, 'Algorithm': algo, 'KL_div': calibration_scores[0], 'JS_div': calibration_scores[1]}, ignore_index=True)\n",
      "/var/folders/8v/cgqpzdls33l6jdsvj3z4fdyh0000gn/T/ipykernel_64710/506424766.py:25: FutureWarning: The frame.append method is deprecated and will be removed from pandas in a future version. Use pandas.concat instead.\n",
      "  results = results.append({'user': user_id, 'Algorithm': algo, 'KL_div': calibration_scores[0], 'JS_div': calibration_scores[1]}, ignore_index=True)\n"
     ]
    },
    {
     "name": "stdout",
     "output_type": "stream",
     "text": [
      "195\n"
     ]
    },
    {
     "name": "stderr",
     "output_type": "stream",
     "text": [
      "/var/folders/8v/cgqpzdls33l6jdsvj3z4fdyh0000gn/T/ipykernel_64710/506424766.py:25: FutureWarning: The frame.append method is deprecated and will be removed from pandas in a future version. Use pandas.concat instead.\n",
      "  results = results.append({'user': user_id, 'Algorithm': algo, 'KL_div': calibration_scores[0], 'JS_div': calibration_scores[1]}, ignore_index=True)\n",
      "/var/folders/8v/cgqpzdls33l6jdsvj3z4fdyh0000gn/T/ipykernel_64710/506424766.py:25: FutureWarning: The frame.append method is deprecated and will be removed from pandas in a future version. Use pandas.concat instead.\n",
      "  results = results.append({'user': user_id, 'Algorithm': algo, 'KL_div': calibration_scores[0], 'JS_div': calibration_scores[1]}, ignore_index=True)\n"
     ]
    },
    {
     "name": "stdout",
     "output_type": "stream",
     "text": [
      "196\n"
     ]
    },
    {
     "name": "stderr",
     "output_type": "stream",
     "text": [
      "/var/folders/8v/cgqpzdls33l6jdsvj3z4fdyh0000gn/T/ipykernel_64710/506424766.py:25: FutureWarning: The frame.append method is deprecated and will be removed from pandas in a future version. Use pandas.concat instead.\n",
      "  results = results.append({'user': user_id, 'Algorithm': algo, 'KL_div': calibration_scores[0], 'JS_div': calibration_scores[1]}, ignore_index=True)\n",
      "/var/folders/8v/cgqpzdls33l6jdsvj3z4fdyh0000gn/T/ipykernel_64710/506424766.py:25: FutureWarning: The frame.append method is deprecated and will be removed from pandas in a future version. Use pandas.concat instead.\n",
      "  results = results.append({'user': user_id, 'Algorithm': algo, 'KL_div': calibration_scores[0], 'JS_div': calibration_scores[1]}, ignore_index=True)\n"
     ]
    },
    {
     "name": "stdout",
     "output_type": "stream",
     "text": [
      "197\n"
     ]
    },
    {
     "name": "stderr",
     "output_type": "stream",
     "text": [
      "/var/folders/8v/cgqpzdls33l6jdsvj3z4fdyh0000gn/T/ipykernel_64710/506424766.py:25: FutureWarning: The frame.append method is deprecated and will be removed from pandas in a future version. Use pandas.concat instead.\n",
      "  results = results.append({'user': user_id, 'Algorithm': algo, 'KL_div': calibration_scores[0], 'JS_div': calibration_scores[1]}, ignore_index=True)\n",
      "/var/folders/8v/cgqpzdls33l6jdsvj3z4fdyh0000gn/T/ipykernel_64710/506424766.py:25: FutureWarning: The frame.append method is deprecated and will be removed from pandas in a future version. Use pandas.concat instead.\n",
      "  results = results.append({'user': user_id, 'Algorithm': algo, 'KL_div': calibration_scores[0], 'JS_div': calibration_scores[1]}, ignore_index=True)\n"
     ]
    },
    {
     "name": "stdout",
     "output_type": "stream",
     "text": [
      "198\n"
     ]
    },
    {
     "name": "stderr",
     "output_type": "stream",
     "text": [
      "/var/folders/8v/cgqpzdls33l6jdsvj3z4fdyh0000gn/T/ipykernel_64710/506424766.py:25: FutureWarning: The frame.append method is deprecated and will be removed from pandas in a future version. Use pandas.concat instead.\n",
      "  results = results.append({'user': user_id, 'Algorithm': algo, 'KL_div': calibration_scores[0], 'JS_div': calibration_scores[1]}, ignore_index=True)\n",
      "/var/folders/8v/cgqpzdls33l6jdsvj3z4fdyh0000gn/T/ipykernel_64710/506424766.py:25: FutureWarning: The frame.append method is deprecated and will be removed from pandas in a future version. Use pandas.concat instead.\n",
      "  results = results.append({'user': user_id, 'Algorithm': algo, 'KL_div': calibration_scores[0], 'JS_div': calibration_scores[1]}, ignore_index=True)\n"
     ]
    },
    {
     "name": "stdout",
     "output_type": "stream",
     "text": [
      "199\n"
     ]
    },
    {
     "name": "stderr",
     "output_type": "stream",
     "text": [
      "/var/folders/8v/cgqpzdls33l6jdsvj3z4fdyh0000gn/T/ipykernel_64710/506424766.py:25: FutureWarning: The frame.append method is deprecated and will be removed from pandas in a future version. Use pandas.concat instead.\n",
      "  results = results.append({'user': user_id, 'Algorithm': algo, 'KL_div': calibration_scores[0], 'JS_div': calibration_scores[1]}, ignore_index=True)\n",
      "/var/folders/8v/cgqpzdls33l6jdsvj3z4fdyh0000gn/T/ipykernel_64710/506424766.py:25: FutureWarning: The frame.append method is deprecated and will be removed from pandas in a future version. Use pandas.concat instead.\n",
      "  results = results.append({'user': user_id, 'Algorithm': algo, 'KL_div': calibration_scores[0], 'JS_div': calibration_scores[1]}, ignore_index=True)\n"
     ]
    },
    {
     "name": "stdout",
     "output_type": "stream",
     "text": [
      "200\n"
     ]
    },
    {
     "name": "stderr",
     "output_type": "stream",
     "text": [
      "/var/folders/8v/cgqpzdls33l6jdsvj3z4fdyh0000gn/T/ipykernel_64710/506424766.py:25: FutureWarning: The frame.append method is deprecated and will be removed from pandas in a future version. Use pandas.concat instead.\n",
      "  results = results.append({'user': user_id, 'Algorithm': algo, 'KL_div': calibration_scores[0], 'JS_div': calibration_scores[1]}, ignore_index=True)\n",
      "/var/folders/8v/cgqpzdls33l6jdsvj3z4fdyh0000gn/T/ipykernel_64710/506424766.py:25: FutureWarning: The frame.append method is deprecated and will be removed from pandas in a future version. Use pandas.concat instead.\n",
      "  results = results.append({'user': user_id, 'Algorithm': algo, 'KL_div': calibration_scores[0], 'JS_div': calibration_scores[1]}, ignore_index=True)\n"
     ]
    },
    {
     "name": "stdout",
     "output_type": "stream",
     "text": [
      "201\n"
     ]
    },
    {
     "name": "stderr",
     "output_type": "stream",
     "text": [
      "/var/folders/8v/cgqpzdls33l6jdsvj3z4fdyh0000gn/T/ipykernel_64710/506424766.py:25: FutureWarning: The frame.append method is deprecated and will be removed from pandas in a future version. Use pandas.concat instead.\n",
      "  results = results.append({'user': user_id, 'Algorithm': algo, 'KL_div': calibration_scores[0], 'JS_div': calibration_scores[1]}, ignore_index=True)\n",
      "/var/folders/8v/cgqpzdls33l6jdsvj3z4fdyh0000gn/T/ipykernel_64710/506424766.py:25: FutureWarning: The frame.append method is deprecated and will be removed from pandas in a future version. Use pandas.concat instead.\n",
      "  results = results.append({'user': user_id, 'Algorithm': algo, 'KL_div': calibration_scores[0], 'JS_div': calibration_scores[1]}, ignore_index=True)\n"
     ]
    },
    {
     "name": "stdout",
     "output_type": "stream",
     "text": [
      "202\n"
     ]
    },
    {
     "name": "stderr",
     "output_type": "stream",
     "text": [
      "/var/folders/8v/cgqpzdls33l6jdsvj3z4fdyh0000gn/T/ipykernel_64710/506424766.py:25: FutureWarning: The frame.append method is deprecated and will be removed from pandas in a future version. Use pandas.concat instead.\n",
      "  results = results.append({'user': user_id, 'Algorithm': algo, 'KL_div': calibration_scores[0], 'JS_div': calibration_scores[1]}, ignore_index=True)\n",
      "/var/folders/8v/cgqpzdls33l6jdsvj3z4fdyh0000gn/T/ipykernel_64710/506424766.py:25: FutureWarning: The frame.append method is deprecated and will be removed from pandas in a future version. Use pandas.concat instead.\n",
      "  results = results.append({'user': user_id, 'Algorithm': algo, 'KL_div': calibration_scores[0], 'JS_div': calibration_scores[1]}, ignore_index=True)\n"
     ]
    },
    {
     "name": "stdout",
     "output_type": "stream",
     "text": [
      "203\n"
     ]
    },
    {
     "name": "stderr",
     "output_type": "stream",
     "text": [
      "/var/folders/8v/cgqpzdls33l6jdsvj3z4fdyh0000gn/T/ipykernel_64710/506424766.py:25: FutureWarning: The frame.append method is deprecated and will be removed from pandas in a future version. Use pandas.concat instead.\n",
      "  results = results.append({'user': user_id, 'Algorithm': algo, 'KL_div': calibration_scores[0], 'JS_div': calibration_scores[1]}, ignore_index=True)\n",
      "/var/folders/8v/cgqpzdls33l6jdsvj3z4fdyh0000gn/T/ipykernel_64710/506424766.py:25: FutureWarning: The frame.append method is deprecated and will be removed from pandas in a future version. Use pandas.concat instead.\n",
      "  results = results.append({'user': user_id, 'Algorithm': algo, 'KL_div': calibration_scores[0], 'JS_div': calibration_scores[1]}, ignore_index=True)\n"
     ]
    },
    {
     "name": "stdout",
     "output_type": "stream",
     "text": [
      "204\n"
     ]
    },
    {
     "name": "stderr",
     "output_type": "stream",
     "text": [
      "/var/folders/8v/cgqpzdls33l6jdsvj3z4fdyh0000gn/T/ipykernel_64710/506424766.py:25: FutureWarning: The frame.append method is deprecated and will be removed from pandas in a future version. Use pandas.concat instead.\n",
      "  results = results.append({'user': user_id, 'Algorithm': algo, 'KL_div': calibration_scores[0], 'JS_div': calibration_scores[1]}, ignore_index=True)\n",
      "/var/folders/8v/cgqpzdls33l6jdsvj3z4fdyh0000gn/T/ipykernel_64710/506424766.py:25: FutureWarning: The frame.append method is deprecated and will be removed from pandas in a future version. Use pandas.concat instead.\n",
      "  results = results.append({'user': user_id, 'Algorithm': algo, 'KL_div': calibration_scores[0], 'JS_div': calibration_scores[1]}, ignore_index=True)\n"
     ]
    },
    {
     "name": "stdout",
     "output_type": "stream",
     "text": [
      "205\n"
     ]
    },
    {
     "name": "stderr",
     "output_type": "stream",
     "text": [
      "/var/folders/8v/cgqpzdls33l6jdsvj3z4fdyh0000gn/T/ipykernel_64710/506424766.py:25: FutureWarning: The frame.append method is deprecated and will be removed from pandas in a future version. Use pandas.concat instead.\n",
      "  results = results.append({'user': user_id, 'Algorithm': algo, 'KL_div': calibration_scores[0], 'JS_div': calibration_scores[1]}, ignore_index=True)\n",
      "/var/folders/8v/cgqpzdls33l6jdsvj3z4fdyh0000gn/T/ipykernel_64710/506424766.py:25: FutureWarning: The frame.append method is deprecated and will be removed from pandas in a future version. Use pandas.concat instead.\n",
      "  results = results.append({'user': user_id, 'Algorithm': algo, 'KL_div': calibration_scores[0], 'JS_div': calibration_scores[1]}, ignore_index=True)\n"
     ]
    },
    {
     "name": "stdout",
     "output_type": "stream",
     "text": [
      "206\n"
     ]
    },
    {
     "name": "stderr",
     "output_type": "stream",
     "text": [
      "/var/folders/8v/cgqpzdls33l6jdsvj3z4fdyh0000gn/T/ipykernel_64710/506424766.py:25: FutureWarning: The frame.append method is deprecated and will be removed from pandas in a future version. Use pandas.concat instead.\n",
      "  results = results.append({'user': user_id, 'Algorithm': algo, 'KL_div': calibration_scores[0], 'JS_div': calibration_scores[1]}, ignore_index=True)\n",
      "/var/folders/8v/cgqpzdls33l6jdsvj3z4fdyh0000gn/T/ipykernel_64710/506424766.py:25: FutureWarning: The frame.append method is deprecated and will be removed from pandas in a future version. Use pandas.concat instead.\n",
      "  results = results.append({'user': user_id, 'Algorithm': algo, 'KL_div': calibration_scores[0], 'JS_div': calibration_scores[1]}, ignore_index=True)\n"
     ]
    },
    {
     "name": "stdout",
     "output_type": "stream",
     "text": [
      "207\n"
     ]
    },
    {
     "name": "stderr",
     "output_type": "stream",
     "text": [
      "/var/folders/8v/cgqpzdls33l6jdsvj3z4fdyh0000gn/T/ipykernel_64710/506424766.py:25: FutureWarning: The frame.append method is deprecated and will be removed from pandas in a future version. Use pandas.concat instead.\n",
      "  results = results.append({'user': user_id, 'Algorithm': algo, 'KL_div': calibration_scores[0], 'JS_div': calibration_scores[1]}, ignore_index=True)\n",
      "/var/folders/8v/cgqpzdls33l6jdsvj3z4fdyh0000gn/T/ipykernel_64710/506424766.py:25: FutureWarning: The frame.append method is deprecated and will be removed from pandas in a future version. Use pandas.concat instead.\n",
      "  results = results.append({'user': user_id, 'Algorithm': algo, 'KL_div': calibration_scores[0], 'JS_div': calibration_scores[1]}, ignore_index=True)\n"
     ]
    },
    {
     "name": "stdout",
     "output_type": "stream",
     "text": [
      "208\n"
     ]
    },
    {
     "name": "stderr",
     "output_type": "stream",
     "text": [
      "/var/folders/8v/cgqpzdls33l6jdsvj3z4fdyh0000gn/T/ipykernel_64710/506424766.py:25: FutureWarning: The frame.append method is deprecated and will be removed from pandas in a future version. Use pandas.concat instead.\n",
      "  results = results.append({'user': user_id, 'Algorithm': algo, 'KL_div': calibration_scores[0], 'JS_div': calibration_scores[1]}, ignore_index=True)\n",
      "/var/folders/8v/cgqpzdls33l6jdsvj3z4fdyh0000gn/T/ipykernel_64710/506424766.py:25: FutureWarning: The frame.append method is deprecated and will be removed from pandas in a future version. Use pandas.concat instead.\n",
      "  results = results.append({'user': user_id, 'Algorithm': algo, 'KL_div': calibration_scores[0], 'JS_div': calibration_scores[1]}, ignore_index=True)\n"
     ]
    },
    {
     "name": "stdout",
     "output_type": "stream",
     "text": [
      "209\n"
     ]
    },
    {
     "name": "stderr",
     "output_type": "stream",
     "text": [
      "/var/folders/8v/cgqpzdls33l6jdsvj3z4fdyh0000gn/T/ipykernel_64710/506424766.py:25: FutureWarning: The frame.append method is deprecated and will be removed from pandas in a future version. Use pandas.concat instead.\n",
      "  results = results.append({'user': user_id, 'Algorithm': algo, 'KL_div': calibration_scores[0], 'JS_div': calibration_scores[1]}, ignore_index=True)\n",
      "/var/folders/8v/cgqpzdls33l6jdsvj3z4fdyh0000gn/T/ipykernel_64710/506424766.py:25: FutureWarning: The frame.append method is deprecated and will be removed from pandas in a future version. Use pandas.concat instead.\n",
      "  results = results.append({'user': user_id, 'Algorithm': algo, 'KL_div': calibration_scores[0], 'JS_div': calibration_scores[1]}, ignore_index=True)\n"
     ]
    },
    {
     "name": "stdout",
     "output_type": "stream",
     "text": [
      "210\n"
     ]
    },
    {
     "name": "stderr",
     "output_type": "stream",
     "text": [
      "/var/folders/8v/cgqpzdls33l6jdsvj3z4fdyh0000gn/T/ipykernel_64710/506424766.py:25: FutureWarning: The frame.append method is deprecated and will be removed from pandas in a future version. Use pandas.concat instead.\n",
      "  results = results.append({'user': user_id, 'Algorithm': algo, 'KL_div': calibration_scores[0], 'JS_div': calibration_scores[1]}, ignore_index=True)\n",
      "/var/folders/8v/cgqpzdls33l6jdsvj3z4fdyh0000gn/T/ipykernel_64710/506424766.py:25: FutureWarning: The frame.append method is deprecated and will be removed from pandas in a future version. Use pandas.concat instead.\n",
      "  results = results.append({'user': user_id, 'Algorithm': algo, 'KL_div': calibration_scores[0], 'JS_div': calibration_scores[1]}, ignore_index=True)\n"
     ]
    },
    {
     "name": "stdout",
     "output_type": "stream",
     "text": [
      "211\n"
     ]
    },
    {
     "name": "stderr",
     "output_type": "stream",
     "text": [
      "/var/folders/8v/cgqpzdls33l6jdsvj3z4fdyh0000gn/T/ipykernel_64710/506424766.py:25: FutureWarning: The frame.append method is deprecated and will be removed from pandas in a future version. Use pandas.concat instead.\n",
      "  results = results.append({'user': user_id, 'Algorithm': algo, 'KL_div': calibration_scores[0], 'JS_div': calibration_scores[1]}, ignore_index=True)\n",
      "/var/folders/8v/cgqpzdls33l6jdsvj3z4fdyh0000gn/T/ipykernel_64710/506424766.py:25: FutureWarning: The frame.append method is deprecated and will be removed from pandas in a future version. Use pandas.concat instead.\n",
      "  results = results.append({'user': user_id, 'Algorithm': algo, 'KL_div': calibration_scores[0], 'JS_div': calibration_scores[1]}, ignore_index=True)\n"
     ]
    },
    {
     "name": "stdout",
     "output_type": "stream",
     "text": [
      "212\n"
     ]
    },
    {
     "name": "stderr",
     "output_type": "stream",
     "text": [
      "/var/folders/8v/cgqpzdls33l6jdsvj3z4fdyh0000gn/T/ipykernel_64710/506424766.py:25: FutureWarning: The frame.append method is deprecated and will be removed from pandas in a future version. Use pandas.concat instead.\n",
      "  results = results.append({'user': user_id, 'Algorithm': algo, 'KL_div': calibration_scores[0], 'JS_div': calibration_scores[1]}, ignore_index=True)\n",
      "/var/folders/8v/cgqpzdls33l6jdsvj3z4fdyh0000gn/T/ipykernel_64710/506424766.py:25: FutureWarning: The frame.append method is deprecated and will be removed from pandas in a future version. Use pandas.concat instead.\n",
      "  results = results.append({'user': user_id, 'Algorithm': algo, 'KL_div': calibration_scores[0], 'JS_div': calibration_scores[1]}, ignore_index=True)\n"
     ]
    },
    {
     "name": "stdout",
     "output_type": "stream",
     "text": [
      "213\n"
     ]
    },
    {
     "name": "stderr",
     "output_type": "stream",
     "text": [
      "/var/folders/8v/cgqpzdls33l6jdsvj3z4fdyh0000gn/T/ipykernel_64710/506424766.py:25: FutureWarning: The frame.append method is deprecated and will be removed from pandas in a future version. Use pandas.concat instead.\n",
      "  results = results.append({'user': user_id, 'Algorithm': algo, 'KL_div': calibration_scores[0], 'JS_div': calibration_scores[1]}, ignore_index=True)\n",
      "/var/folders/8v/cgqpzdls33l6jdsvj3z4fdyh0000gn/T/ipykernel_64710/506424766.py:25: FutureWarning: The frame.append method is deprecated and will be removed from pandas in a future version. Use pandas.concat instead.\n",
      "  results = results.append({'user': user_id, 'Algorithm': algo, 'KL_div': calibration_scores[0], 'JS_div': calibration_scores[1]}, ignore_index=True)\n"
     ]
    },
    {
     "name": "stdout",
     "output_type": "stream",
     "text": [
      "214\n"
     ]
    },
    {
     "name": "stderr",
     "output_type": "stream",
     "text": [
      "/var/folders/8v/cgqpzdls33l6jdsvj3z4fdyh0000gn/T/ipykernel_64710/506424766.py:25: FutureWarning: The frame.append method is deprecated and will be removed from pandas in a future version. Use pandas.concat instead.\n",
      "  results = results.append({'user': user_id, 'Algorithm': algo, 'KL_div': calibration_scores[0], 'JS_div': calibration_scores[1]}, ignore_index=True)\n",
      "/var/folders/8v/cgqpzdls33l6jdsvj3z4fdyh0000gn/T/ipykernel_64710/506424766.py:25: FutureWarning: The frame.append method is deprecated and will be removed from pandas in a future version. Use pandas.concat instead.\n",
      "  results = results.append({'user': user_id, 'Algorithm': algo, 'KL_div': calibration_scores[0], 'JS_div': calibration_scores[1]}, ignore_index=True)\n"
     ]
    },
    {
     "name": "stdout",
     "output_type": "stream",
     "text": [
      "215\n"
     ]
    },
    {
     "name": "stderr",
     "output_type": "stream",
     "text": [
      "/var/folders/8v/cgqpzdls33l6jdsvj3z4fdyh0000gn/T/ipykernel_64710/506424766.py:25: FutureWarning: The frame.append method is deprecated and will be removed from pandas in a future version. Use pandas.concat instead.\n",
      "  results = results.append({'user': user_id, 'Algorithm': algo, 'KL_div': calibration_scores[0], 'JS_div': calibration_scores[1]}, ignore_index=True)\n",
      "/var/folders/8v/cgqpzdls33l6jdsvj3z4fdyh0000gn/T/ipykernel_64710/506424766.py:25: FutureWarning: The frame.append method is deprecated and will be removed from pandas in a future version. Use pandas.concat instead.\n",
      "  results = results.append({'user': user_id, 'Algorithm': algo, 'KL_div': calibration_scores[0], 'JS_div': calibration_scores[1]}, ignore_index=True)\n"
     ]
    },
    {
     "name": "stdout",
     "output_type": "stream",
     "text": [
      "216\n"
     ]
    },
    {
     "name": "stderr",
     "output_type": "stream",
     "text": [
      "/var/folders/8v/cgqpzdls33l6jdsvj3z4fdyh0000gn/T/ipykernel_64710/506424766.py:25: FutureWarning: The frame.append method is deprecated and will be removed from pandas in a future version. Use pandas.concat instead.\n",
      "  results = results.append({'user': user_id, 'Algorithm': algo, 'KL_div': calibration_scores[0], 'JS_div': calibration_scores[1]}, ignore_index=True)\n",
      "/var/folders/8v/cgqpzdls33l6jdsvj3z4fdyh0000gn/T/ipykernel_64710/506424766.py:25: FutureWarning: The frame.append method is deprecated and will be removed from pandas in a future version. Use pandas.concat instead.\n",
      "  results = results.append({'user': user_id, 'Algorithm': algo, 'KL_div': calibration_scores[0], 'JS_div': calibration_scores[1]}, ignore_index=True)\n"
     ]
    },
    {
     "name": "stdout",
     "output_type": "stream",
     "text": [
      "217\n"
     ]
    },
    {
     "name": "stderr",
     "output_type": "stream",
     "text": [
      "/var/folders/8v/cgqpzdls33l6jdsvj3z4fdyh0000gn/T/ipykernel_64710/506424766.py:25: FutureWarning: The frame.append method is deprecated and will be removed from pandas in a future version. Use pandas.concat instead.\n",
      "  results = results.append({'user': user_id, 'Algorithm': algo, 'KL_div': calibration_scores[0], 'JS_div': calibration_scores[1]}, ignore_index=True)\n",
      "/var/folders/8v/cgqpzdls33l6jdsvj3z4fdyh0000gn/T/ipykernel_64710/506424766.py:25: FutureWarning: The frame.append method is deprecated and will be removed from pandas in a future version. Use pandas.concat instead.\n",
      "  results = results.append({'user': user_id, 'Algorithm': algo, 'KL_div': calibration_scores[0], 'JS_div': calibration_scores[1]}, ignore_index=True)\n"
     ]
    },
    {
     "name": "stdout",
     "output_type": "stream",
     "text": [
      "218\n"
     ]
    },
    {
     "name": "stderr",
     "output_type": "stream",
     "text": [
      "/var/folders/8v/cgqpzdls33l6jdsvj3z4fdyh0000gn/T/ipykernel_64710/506424766.py:25: FutureWarning: The frame.append method is deprecated and will be removed from pandas in a future version. Use pandas.concat instead.\n",
      "  results = results.append({'user': user_id, 'Algorithm': algo, 'KL_div': calibration_scores[0], 'JS_div': calibration_scores[1]}, ignore_index=True)\n",
      "/var/folders/8v/cgqpzdls33l6jdsvj3z4fdyh0000gn/T/ipykernel_64710/506424766.py:25: FutureWarning: The frame.append method is deprecated and will be removed from pandas in a future version. Use pandas.concat instead.\n",
      "  results = results.append({'user': user_id, 'Algorithm': algo, 'KL_div': calibration_scores[0], 'JS_div': calibration_scores[1]}, ignore_index=True)\n"
     ]
    },
    {
     "name": "stdout",
     "output_type": "stream",
     "text": [
      "219\n"
     ]
    },
    {
     "name": "stderr",
     "output_type": "stream",
     "text": [
      "/var/folders/8v/cgqpzdls33l6jdsvj3z4fdyh0000gn/T/ipykernel_64710/506424766.py:25: FutureWarning: The frame.append method is deprecated and will be removed from pandas in a future version. Use pandas.concat instead.\n",
      "  results = results.append({'user': user_id, 'Algorithm': algo, 'KL_div': calibration_scores[0], 'JS_div': calibration_scores[1]}, ignore_index=True)\n",
      "/var/folders/8v/cgqpzdls33l6jdsvj3z4fdyh0000gn/T/ipykernel_64710/506424766.py:25: FutureWarning: The frame.append method is deprecated and will be removed from pandas in a future version. Use pandas.concat instead.\n",
      "  results = results.append({'user': user_id, 'Algorithm': algo, 'KL_div': calibration_scores[0], 'JS_div': calibration_scores[1]}, ignore_index=True)\n"
     ]
    },
    {
     "name": "stdout",
     "output_type": "stream",
     "text": [
      "220\n"
     ]
    },
    {
     "name": "stderr",
     "output_type": "stream",
     "text": [
      "/var/folders/8v/cgqpzdls33l6jdsvj3z4fdyh0000gn/T/ipykernel_64710/506424766.py:25: FutureWarning: The frame.append method is deprecated and will be removed from pandas in a future version. Use pandas.concat instead.\n",
      "  results = results.append({'user': user_id, 'Algorithm': algo, 'KL_div': calibration_scores[0], 'JS_div': calibration_scores[1]}, ignore_index=True)\n",
      "/var/folders/8v/cgqpzdls33l6jdsvj3z4fdyh0000gn/T/ipykernel_64710/506424766.py:25: FutureWarning: The frame.append method is deprecated and will be removed from pandas in a future version. Use pandas.concat instead.\n",
      "  results = results.append({'user': user_id, 'Algorithm': algo, 'KL_div': calibration_scores[0], 'JS_div': calibration_scores[1]}, ignore_index=True)\n"
     ]
    },
    {
     "name": "stdout",
     "output_type": "stream",
     "text": [
      "221\n"
     ]
    },
    {
     "name": "stderr",
     "output_type": "stream",
     "text": [
      "/var/folders/8v/cgqpzdls33l6jdsvj3z4fdyh0000gn/T/ipykernel_64710/506424766.py:25: FutureWarning: The frame.append method is deprecated and will be removed from pandas in a future version. Use pandas.concat instead.\n",
      "  results = results.append({'user': user_id, 'Algorithm': algo, 'KL_div': calibration_scores[0], 'JS_div': calibration_scores[1]}, ignore_index=True)\n",
      "/var/folders/8v/cgqpzdls33l6jdsvj3z4fdyh0000gn/T/ipykernel_64710/506424766.py:25: FutureWarning: The frame.append method is deprecated and will be removed from pandas in a future version. Use pandas.concat instead.\n",
      "  results = results.append({'user': user_id, 'Algorithm': algo, 'KL_div': calibration_scores[0], 'JS_div': calibration_scores[1]}, ignore_index=True)\n"
     ]
    },
    {
     "name": "stdout",
     "output_type": "stream",
     "text": [
      "222\n"
     ]
    },
    {
     "name": "stderr",
     "output_type": "stream",
     "text": [
      "/var/folders/8v/cgqpzdls33l6jdsvj3z4fdyh0000gn/T/ipykernel_64710/506424766.py:25: FutureWarning: The frame.append method is deprecated and will be removed from pandas in a future version. Use pandas.concat instead.\n",
      "  results = results.append({'user': user_id, 'Algorithm': algo, 'KL_div': calibration_scores[0], 'JS_div': calibration_scores[1]}, ignore_index=True)\n",
      "/var/folders/8v/cgqpzdls33l6jdsvj3z4fdyh0000gn/T/ipykernel_64710/506424766.py:25: FutureWarning: The frame.append method is deprecated and will be removed from pandas in a future version. Use pandas.concat instead.\n",
      "  results = results.append({'user': user_id, 'Algorithm': algo, 'KL_div': calibration_scores[0], 'JS_div': calibration_scores[1]}, ignore_index=True)\n"
     ]
    },
    {
     "name": "stdout",
     "output_type": "stream",
     "text": [
      "223\n"
     ]
    },
    {
     "name": "stderr",
     "output_type": "stream",
     "text": [
      "/var/folders/8v/cgqpzdls33l6jdsvj3z4fdyh0000gn/T/ipykernel_64710/506424766.py:25: FutureWarning: The frame.append method is deprecated and will be removed from pandas in a future version. Use pandas.concat instead.\n",
      "  results = results.append({'user': user_id, 'Algorithm': algo, 'KL_div': calibration_scores[0], 'JS_div': calibration_scores[1]}, ignore_index=True)\n",
      "/var/folders/8v/cgqpzdls33l6jdsvj3z4fdyh0000gn/T/ipykernel_64710/506424766.py:25: FutureWarning: The frame.append method is deprecated and will be removed from pandas in a future version. Use pandas.concat instead.\n",
      "  results = results.append({'user': user_id, 'Algorithm': algo, 'KL_div': calibration_scores[0], 'JS_div': calibration_scores[1]}, ignore_index=True)\n"
     ]
    },
    {
     "name": "stdout",
     "output_type": "stream",
     "text": [
      "224\n"
     ]
    },
    {
     "name": "stderr",
     "output_type": "stream",
     "text": [
      "/var/folders/8v/cgqpzdls33l6jdsvj3z4fdyh0000gn/T/ipykernel_64710/506424766.py:25: FutureWarning: The frame.append method is deprecated and will be removed from pandas in a future version. Use pandas.concat instead.\n",
      "  results = results.append({'user': user_id, 'Algorithm': algo, 'KL_div': calibration_scores[0], 'JS_div': calibration_scores[1]}, ignore_index=True)\n",
      "/var/folders/8v/cgqpzdls33l6jdsvj3z4fdyh0000gn/T/ipykernel_64710/506424766.py:25: FutureWarning: The frame.append method is deprecated and will be removed from pandas in a future version. Use pandas.concat instead.\n",
      "  results = results.append({'user': user_id, 'Algorithm': algo, 'KL_div': calibration_scores[0], 'JS_div': calibration_scores[1]}, ignore_index=True)\n"
     ]
    },
    {
     "name": "stdout",
     "output_type": "stream",
     "text": [
      "225\n"
     ]
    },
    {
     "name": "stderr",
     "output_type": "stream",
     "text": [
      "/var/folders/8v/cgqpzdls33l6jdsvj3z4fdyh0000gn/T/ipykernel_64710/506424766.py:25: FutureWarning: The frame.append method is deprecated and will be removed from pandas in a future version. Use pandas.concat instead.\n",
      "  results = results.append({'user': user_id, 'Algorithm': algo, 'KL_div': calibration_scores[0], 'JS_div': calibration_scores[1]}, ignore_index=True)\n",
      "/var/folders/8v/cgqpzdls33l6jdsvj3z4fdyh0000gn/T/ipykernel_64710/506424766.py:25: FutureWarning: The frame.append method is deprecated and will be removed from pandas in a future version. Use pandas.concat instead.\n",
      "  results = results.append({'user': user_id, 'Algorithm': algo, 'KL_div': calibration_scores[0], 'JS_div': calibration_scores[1]}, ignore_index=True)\n"
     ]
    },
    {
     "name": "stdout",
     "output_type": "stream",
     "text": [
      "226\n"
     ]
    },
    {
     "name": "stderr",
     "output_type": "stream",
     "text": [
      "/var/folders/8v/cgqpzdls33l6jdsvj3z4fdyh0000gn/T/ipykernel_64710/506424766.py:25: FutureWarning: The frame.append method is deprecated and will be removed from pandas in a future version. Use pandas.concat instead.\n",
      "  results = results.append({'user': user_id, 'Algorithm': algo, 'KL_div': calibration_scores[0], 'JS_div': calibration_scores[1]}, ignore_index=True)\n",
      "/var/folders/8v/cgqpzdls33l6jdsvj3z4fdyh0000gn/T/ipykernel_64710/506424766.py:25: FutureWarning: The frame.append method is deprecated and will be removed from pandas in a future version. Use pandas.concat instead.\n",
      "  results = results.append({'user': user_id, 'Algorithm': algo, 'KL_div': calibration_scores[0], 'JS_div': calibration_scores[1]}, ignore_index=True)\n"
     ]
    },
    {
     "name": "stdout",
     "output_type": "stream",
     "text": [
      "227\n"
     ]
    },
    {
     "name": "stderr",
     "output_type": "stream",
     "text": [
      "/var/folders/8v/cgqpzdls33l6jdsvj3z4fdyh0000gn/T/ipykernel_64710/506424766.py:25: FutureWarning: The frame.append method is deprecated and will be removed from pandas in a future version. Use pandas.concat instead.\n",
      "  results = results.append({'user': user_id, 'Algorithm': algo, 'KL_div': calibration_scores[0], 'JS_div': calibration_scores[1]}, ignore_index=True)\n",
      "/var/folders/8v/cgqpzdls33l6jdsvj3z4fdyh0000gn/T/ipykernel_64710/506424766.py:25: FutureWarning: The frame.append method is deprecated and will be removed from pandas in a future version. Use pandas.concat instead.\n",
      "  results = results.append({'user': user_id, 'Algorithm': algo, 'KL_div': calibration_scores[0], 'JS_div': calibration_scores[1]}, ignore_index=True)\n"
     ]
    },
    {
     "name": "stdout",
     "output_type": "stream",
     "text": [
      "228\n"
     ]
    },
    {
     "name": "stderr",
     "output_type": "stream",
     "text": [
      "/var/folders/8v/cgqpzdls33l6jdsvj3z4fdyh0000gn/T/ipykernel_64710/506424766.py:25: FutureWarning: The frame.append method is deprecated and will be removed from pandas in a future version. Use pandas.concat instead.\n",
      "  results = results.append({'user': user_id, 'Algorithm': algo, 'KL_div': calibration_scores[0], 'JS_div': calibration_scores[1]}, ignore_index=True)\n",
      "/var/folders/8v/cgqpzdls33l6jdsvj3z4fdyh0000gn/T/ipykernel_64710/506424766.py:25: FutureWarning: The frame.append method is deprecated and will be removed from pandas in a future version. Use pandas.concat instead.\n",
      "  results = results.append({'user': user_id, 'Algorithm': algo, 'KL_div': calibration_scores[0], 'JS_div': calibration_scores[1]}, ignore_index=True)\n"
     ]
    },
    {
     "name": "stdout",
     "output_type": "stream",
     "text": [
      "229\n"
     ]
    },
    {
     "name": "stderr",
     "output_type": "stream",
     "text": [
      "/var/folders/8v/cgqpzdls33l6jdsvj3z4fdyh0000gn/T/ipykernel_64710/506424766.py:25: FutureWarning: The frame.append method is deprecated and will be removed from pandas in a future version. Use pandas.concat instead.\n",
      "  results = results.append({'user': user_id, 'Algorithm': algo, 'KL_div': calibration_scores[0], 'JS_div': calibration_scores[1]}, ignore_index=True)\n",
      "/var/folders/8v/cgqpzdls33l6jdsvj3z4fdyh0000gn/T/ipykernel_64710/506424766.py:25: FutureWarning: The frame.append method is deprecated and will be removed from pandas in a future version. Use pandas.concat instead.\n",
      "  results = results.append({'user': user_id, 'Algorithm': algo, 'KL_div': calibration_scores[0], 'JS_div': calibration_scores[1]}, ignore_index=True)\n"
     ]
    },
    {
     "name": "stdout",
     "output_type": "stream",
     "text": [
      "230\n"
     ]
    },
    {
     "name": "stderr",
     "output_type": "stream",
     "text": [
      "/var/folders/8v/cgqpzdls33l6jdsvj3z4fdyh0000gn/T/ipykernel_64710/506424766.py:25: FutureWarning: The frame.append method is deprecated and will be removed from pandas in a future version. Use pandas.concat instead.\n",
      "  results = results.append({'user': user_id, 'Algorithm': algo, 'KL_div': calibration_scores[0], 'JS_div': calibration_scores[1]}, ignore_index=True)\n",
      "/var/folders/8v/cgqpzdls33l6jdsvj3z4fdyh0000gn/T/ipykernel_64710/506424766.py:25: FutureWarning: The frame.append method is deprecated and will be removed from pandas in a future version. Use pandas.concat instead.\n",
      "  results = results.append({'user': user_id, 'Algorithm': algo, 'KL_div': calibration_scores[0], 'JS_div': calibration_scores[1]}, ignore_index=True)\n"
     ]
    },
    {
     "name": "stdout",
     "output_type": "stream",
     "text": [
      "231\n"
     ]
    },
    {
     "name": "stderr",
     "output_type": "stream",
     "text": [
      "/var/folders/8v/cgqpzdls33l6jdsvj3z4fdyh0000gn/T/ipykernel_64710/506424766.py:25: FutureWarning: The frame.append method is deprecated and will be removed from pandas in a future version. Use pandas.concat instead.\n",
      "  results = results.append({'user': user_id, 'Algorithm': algo, 'KL_div': calibration_scores[0], 'JS_div': calibration_scores[1]}, ignore_index=True)\n",
      "/var/folders/8v/cgqpzdls33l6jdsvj3z4fdyh0000gn/T/ipykernel_64710/506424766.py:25: FutureWarning: The frame.append method is deprecated and will be removed from pandas in a future version. Use pandas.concat instead.\n",
      "  results = results.append({'user': user_id, 'Algorithm': algo, 'KL_div': calibration_scores[0], 'JS_div': calibration_scores[1]}, ignore_index=True)\n"
     ]
    },
    {
     "name": "stdout",
     "output_type": "stream",
     "text": [
      "232\n"
     ]
    },
    {
     "name": "stderr",
     "output_type": "stream",
     "text": [
      "/var/folders/8v/cgqpzdls33l6jdsvj3z4fdyh0000gn/T/ipykernel_64710/506424766.py:25: FutureWarning: The frame.append method is deprecated and will be removed from pandas in a future version. Use pandas.concat instead.\n",
      "  results = results.append({'user': user_id, 'Algorithm': algo, 'KL_div': calibration_scores[0], 'JS_div': calibration_scores[1]}, ignore_index=True)\n",
      "/var/folders/8v/cgqpzdls33l6jdsvj3z4fdyh0000gn/T/ipykernel_64710/506424766.py:25: FutureWarning: The frame.append method is deprecated and will be removed from pandas in a future version. Use pandas.concat instead.\n",
      "  results = results.append({'user': user_id, 'Algorithm': algo, 'KL_div': calibration_scores[0], 'JS_div': calibration_scores[1]}, ignore_index=True)\n"
     ]
    },
    {
     "name": "stdout",
     "output_type": "stream",
     "text": [
      "233\n"
     ]
    },
    {
     "name": "stderr",
     "output_type": "stream",
     "text": [
      "/var/folders/8v/cgqpzdls33l6jdsvj3z4fdyh0000gn/T/ipykernel_64710/506424766.py:25: FutureWarning: The frame.append method is deprecated and will be removed from pandas in a future version. Use pandas.concat instead.\n",
      "  results = results.append({'user': user_id, 'Algorithm': algo, 'KL_div': calibration_scores[0], 'JS_div': calibration_scores[1]}, ignore_index=True)\n",
      "/var/folders/8v/cgqpzdls33l6jdsvj3z4fdyh0000gn/T/ipykernel_64710/506424766.py:25: FutureWarning: The frame.append method is deprecated and will be removed from pandas in a future version. Use pandas.concat instead.\n",
      "  results = results.append({'user': user_id, 'Algorithm': algo, 'KL_div': calibration_scores[0], 'JS_div': calibration_scores[1]}, ignore_index=True)\n"
     ]
    },
    {
     "name": "stdout",
     "output_type": "stream",
     "text": [
      "234\n"
     ]
    },
    {
     "name": "stderr",
     "output_type": "stream",
     "text": [
      "/var/folders/8v/cgqpzdls33l6jdsvj3z4fdyh0000gn/T/ipykernel_64710/506424766.py:25: FutureWarning: The frame.append method is deprecated and will be removed from pandas in a future version. Use pandas.concat instead.\n",
      "  results = results.append({'user': user_id, 'Algorithm': algo, 'KL_div': calibration_scores[0], 'JS_div': calibration_scores[1]}, ignore_index=True)\n",
      "/var/folders/8v/cgqpzdls33l6jdsvj3z4fdyh0000gn/T/ipykernel_64710/506424766.py:25: FutureWarning: The frame.append method is deprecated and will be removed from pandas in a future version. Use pandas.concat instead.\n",
      "  results = results.append({'user': user_id, 'Algorithm': algo, 'KL_div': calibration_scores[0], 'JS_div': calibration_scores[1]}, ignore_index=True)\n"
     ]
    },
    {
     "name": "stdout",
     "output_type": "stream",
     "text": [
      "235\n"
     ]
    },
    {
     "name": "stderr",
     "output_type": "stream",
     "text": [
      "/var/folders/8v/cgqpzdls33l6jdsvj3z4fdyh0000gn/T/ipykernel_64710/506424766.py:25: FutureWarning: The frame.append method is deprecated and will be removed from pandas in a future version. Use pandas.concat instead.\n",
      "  results = results.append({'user': user_id, 'Algorithm': algo, 'KL_div': calibration_scores[0], 'JS_div': calibration_scores[1]}, ignore_index=True)\n",
      "/var/folders/8v/cgqpzdls33l6jdsvj3z4fdyh0000gn/T/ipykernel_64710/506424766.py:25: FutureWarning: The frame.append method is deprecated and will be removed from pandas in a future version. Use pandas.concat instead.\n",
      "  results = results.append({'user': user_id, 'Algorithm': algo, 'KL_div': calibration_scores[0], 'JS_div': calibration_scores[1]}, ignore_index=True)\n"
     ]
    },
    {
     "name": "stdout",
     "output_type": "stream",
     "text": [
      "236\n"
     ]
    },
    {
     "name": "stderr",
     "output_type": "stream",
     "text": [
      "/var/folders/8v/cgqpzdls33l6jdsvj3z4fdyh0000gn/T/ipykernel_64710/506424766.py:25: FutureWarning: The frame.append method is deprecated and will be removed from pandas in a future version. Use pandas.concat instead.\n",
      "  results = results.append({'user': user_id, 'Algorithm': algo, 'KL_div': calibration_scores[0], 'JS_div': calibration_scores[1]}, ignore_index=True)\n",
      "/var/folders/8v/cgqpzdls33l6jdsvj3z4fdyh0000gn/T/ipykernel_64710/506424766.py:25: FutureWarning: The frame.append method is deprecated and will be removed from pandas in a future version. Use pandas.concat instead.\n",
      "  results = results.append({'user': user_id, 'Algorithm': algo, 'KL_div': calibration_scores[0], 'JS_div': calibration_scores[1]}, ignore_index=True)\n"
     ]
    },
    {
     "name": "stdout",
     "output_type": "stream",
     "text": [
      "237\n"
     ]
    },
    {
     "name": "stderr",
     "output_type": "stream",
     "text": [
      "/var/folders/8v/cgqpzdls33l6jdsvj3z4fdyh0000gn/T/ipykernel_64710/506424766.py:25: FutureWarning: The frame.append method is deprecated and will be removed from pandas in a future version. Use pandas.concat instead.\n",
      "  results = results.append({'user': user_id, 'Algorithm': algo, 'KL_div': calibration_scores[0], 'JS_div': calibration_scores[1]}, ignore_index=True)\n",
      "/var/folders/8v/cgqpzdls33l6jdsvj3z4fdyh0000gn/T/ipykernel_64710/506424766.py:25: FutureWarning: The frame.append method is deprecated and will be removed from pandas in a future version. Use pandas.concat instead.\n",
      "  results = results.append({'user': user_id, 'Algorithm': algo, 'KL_div': calibration_scores[0], 'JS_div': calibration_scores[1]}, ignore_index=True)\n"
     ]
    },
    {
     "name": "stdout",
     "output_type": "stream",
     "text": [
      "238\n"
     ]
    },
    {
     "name": "stderr",
     "output_type": "stream",
     "text": [
      "/var/folders/8v/cgqpzdls33l6jdsvj3z4fdyh0000gn/T/ipykernel_64710/506424766.py:25: FutureWarning: The frame.append method is deprecated and will be removed from pandas in a future version. Use pandas.concat instead.\n",
      "  results = results.append({'user': user_id, 'Algorithm': algo, 'KL_div': calibration_scores[0], 'JS_div': calibration_scores[1]}, ignore_index=True)\n",
      "/var/folders/8v/cgqpzdls33l6jdsvj3z4fdyh0000gn/T/ipykernel_64710/506424766.py:25: FutureWarning: The frame.append method is deprecated and will be removed from pandas in a future version. Use pandas.concat instead.\n",
      "  results = results.append({'user': user_id, 'Algorithm': algo, 'KL_div': calibration_scores[0], 'JS_div': calibration_scores[1]}, ignore_index=True)\n"
     ]
    },
    {
     "name": "stdout",
     "output_type": "stream",
     "text": [
      "239\n"
     ]
    },
    {
     "name": "stderr",
     "output_type": "stream",
     "text": [
      "/var/folders/8v/cgqpzdls33l6jdsvj3z4fdyh0000gn/T/ipykernel_64710/506424766.py:25: FutureWarning: The frame.append method is deprecated and will be removed from pandas in a future version. Use pandas.concat instead.\n",
      "  results = results.append({'user': user_id, 'Algorithm': algo, 'KL_div': calibration_scores[0], 'JS_div': calibration_scores[1]}, ignore_index=True)\n",
      "/var/folders/8v/cgqpzdls33l6jdsvj3z4fdyh0000gn/T/ipykernel_64710/506424766.py:25: FutureWarning: The frame.append method is deprecated and will be removed from pandas in a future version. Use pandas.concat instead.\n",
      "  results = results.append({'user': user_id, 'Algorithm': algo, 'KL_div': calibration_scores[0], 'JS_div': calibration_scores[1]}, ignore_index=True)\n"
     ]
    },
    {
     "name": "stdout",
     "output_type": "stream",
     "text": [
      "240\n"
     ]
    },
    {
     "name": "stderr",
     "output_type": "stream",
     "text": [
      "/var/folders/8v/cgqpzdls33l6jdsvj3z4fdyh0000gn/T/ipykernel_64710/506424766.py:25: FutureWarning: The frame.append method is deprecated and will be removed from pandas in a future version. Use pandas.concat instead.\n",
      "  results = results.append({'user': user_id, 'Algorithm': algo, 'KL_div': calibration_scores[0], 'JS_div': calibration_scores[1]}, ignore_index=True)\n",
      "/var/folders/8v/cgqpzdls33l6jdsvj3z4fdyh0000gn/T/ipykernel_64710/506424766.py:25: FutureWarning: The frame.append method is deprecated and will be removed from pandas in a future version. Use pandas.concat instead.\n",
      "  results = results.append({'user': user_id, 'Algorithm': algo, 'KL_div': calibration_scores[0], 'JS_div': calibration_scores[1]}, ignore_index=True)\n"
     ]
    },
    {
     "name": "stdout",
     "output_type": "stream",
     "text": [
      "241\n"
     ]
    },
    {
     "name": "stderr",
     "output_type": "stream",
     "text": [
      "/var/folders/8v/cgqpzdls33l6jdsvj3z4fdyh0000gn/T/ipykernel_64710/506424766.py:25: FutureWarning: The frame.append method is deprecated and will be removed from pandas in a future version. Use pandas.concat instead.\n",
      "  results = results.append({'user': user_id, 'Algorithm': algo, 'KL_div': calibration_scores[0], 'JS_div': calibration_scores[1]}, ignore_index=True)\n",
      "/var/folders/8v/cgqpzdls33l6jdsvj3z4fdyh0000gn/T/ipykernel_64710/506424766.py:25: FutureWarning: The frame.append method is deprecated and will be removed from pandas in a future version. Use pandas.concat instead.\n",
      "  results = results.append({'user': user_id, 'Algorithm': algo, 'KL_div': calibration_scores[0], 'JS_div': calibration_scores[1]}, ignore_index=True)\n"
     ]
    },
    {
     "name": "stdout",
     "output_type": "stream",
     "text": [
      "242\n"
     ]
    },
    {
     "name": "stderr",
     "output_type": "stream",
     "text": [
      "/var/folders/8v/cgqpzdls33l6jdsvj3z4fdyh0000gn/T/ipykernel_64710/506424766.py:25: FutureWarning: The frame.append method is deprecated and will be removed from pandas in a future version. Use pandas.concat instead.\n",
      "  results = results.append({'user': user_id, 'Algorithm': algo, 'KL_div': calibration_scores[0], 'JS_div': calibration_scores[1]}, ignore_index=True)\n",
      "/var/folders/8v/cgqpzdls33l6jdsvj3z4fdyh0000gn/T/ipykernel_64710/506424766.py:25: FutureWarning: The frame.append method is deprecated and will be removed from pandas in a future version. Use pandas.concat instead.\n",
      "  results = results.append({'user': user_id, 'Algorithm': algo, 'KL_div': calibration_scores[0], 'JS_div': calibration_scores[1]}, ignore_index=True)\n"
     ]
    },
    {
     "name": "stdout",
     "output_type": "stream",
     "text": [
      "243\n"
     ]
    },
    {
     "name": "stderr",
     "output_type": "stream",
     "text": [
      "/var/folders/8v/cgqpzdls33l6jdsvj3z4fdyh0000gn/T/ipykernel_64710/506424766.py:25: FutureWarning: The frame.append method is deprecated and will be removed from pandas in a future version. Use pandas.concat instead.\n",
      "  results = results.append({'user': user_id, 'Algorithm': algo, 'KL_div': calibration_scores[0], 'JS_div': calibration_scores[1]}, ignore_index=True)\n",
      "/var/folders/8v/cgqpzdls33l6jdsvj3z4fdyh0000gn/T/ipykernel_64710/506424766.py:25: FutureWarning: The frame.append method is deprecated and will be removed from pandas in a future version. Use pandas.concat instead.\n",
      "  results = results.append({'user': user_id, 'Algorithm': algo, 'KL_div': calibration_scores[0], 'JS_div': calibration_scores[1]}, ignore_index=True)\n"
     ]
    },
    {
     "name": "stdout",
     "output_type": "stream",
     "text": [
      "244\n"
     ]
    },
    {
     "name": "stderr",
     "output_type": "stream",
     "text": [
      "/var/folders/8v/cgqpzdls33l6jdsvj3z4fdyh0000gn/T/ipykernel_64710/506424766.py:25: FutureWarning: The frame.append method is deprecated and will be removed from pandas in a future version. Use pandas.concat instead.\n",
      "  results = results.append({'user': user_id, 'Algorithm': algo, 'KL_div': calibration_scores[0], 'JS_div': calibration_scores[1]}, ignore_index=True)\n",
      "/var/folders/8v/cgqpzdls33l6jdsvj3z4fdyh0000gn/T/ipykernel_64710/506424766.py:25: FutureWarning: The frame.append method is deprecated and will be removed from pandas in a future version. Use pandas.concat instead.\n",
      "  results = results.append({'user': user_id, 'Algorithm': algo, 'KL_div': calibration_scores[0], 'JS_div': calibration_scores[1]}, ignore_index=True)\n"
     ]
    },
    {
     "name": "stdout",
     "output_type": "stream",
     "text": [
      "245\n"
     ]
    },
    {
     "name": "stderr",
     "output_type": "stream",
     "text": [
      "/var/folders/8v/cgqpzdls33l6jdsvj3z4fdyh0000gn/T/ipykernel_64710/506424766.py:25: FutureWarning: The frame.append method is deprecated and will be removed from pandas in a future version. Use pandas.concat instead.\n",
      "  results = results.append({'user': user_id, 'Algorithm': algo, 'KL_div': calibration_scores[0], 'JS_div': calibration_scores[1]}, ignore_index=True)\n",
      "/var/folders/8v/cgqpzdls33l6jdsvj3z4fdyh0000gn/T/ipykernel_64710/506424766.py:25: FutureWarning: The frame.append method is deprecated and will be removed from pandas in a future version. Use pandas.concat instead.\n",
      "  results = results.append({'user': user_id, 'Algorithm': algo, 'KL_div': calibration_scores[0], 'JS_div': calibration_scores[1]}, ignore_index=True)\n"
     ]
    },
    {
     "name": "stdout",
     "output_type": "stream",
     "text": [
      "246\n"
     ]
    },
    {
     "name": "stderr",
     "output_type": "stream",
     "text": [
      "/var/folders/8v/cgqpzdls33l6jdsvj3z4fdyh0000gn/T/ipykernel_64710/506424766.py:25: FutureWarning: The frame.append method is deprecated and will be removed from pandas in a future version. Use pandas.concat instead.\n",
      "  results = results.append({'user': user_id, 'Algorithm': algo, 'KL_div': calibration_scores[0], 'JS_div': calibration_scores[1]}, ignore_index=True)\n",
      "/var/folders/8v/cgqpzdls33l6jdsvj3z4fdyh0000gn/T/ipykernel_64710/506424766.py:25: FutureWarning: The frame.append method is deprecated and will be removed from pandas in a future version. Use pandas.concat instead.\n",
      "  results = results.append({'user': user_id, 'Algorithm': algo, 'KL_div': calibration_scores[0], 'JS_div': calibration_scores[1]}, ignore_index=True)\n"
     ]
    },
    {
     "name": "stdout",
     "output_type": "stream",
     "text": [
      "247\n"
     ]
    },
    {
     "name": "stderr",
     "output_type": "stream",
     "text": [
      "/var/folders/8v/cgqpzdls33l6jdsvj3z4fdyh0000gn/T/ipykernel_64710/506424766.py:25: FutureWarning: The frame.append method is deprecated and will be removed from pandas in a future version. Use pandas.concat instead.\n",
      "  results = results.append({'user': user_id, 'Algorithm': algo, 'KL_div': calibration_scores[0], 'JS_div': calibration_scores[1]}, ignore_index=True)\n",
      "/var/folders/8v/cgqpzdls33l6jdsvj3z4fdyh0000gn/T/ipykernel_64710/506424766.py:25: FutureWarning: The frame.append method is deprecated and will be removed from pandas in a future version. Use pandas.concat instead.\n",
      "  results = results.append({'user': user_id, 'Algorithm': algo, 'KL_div': calibration_scores[0], 'JS_div': calibration_scores[1]}, ignore_index=True)\n"
     ]
    },
    {
     "name": "stdout",
     "output_type": "stream",
     "text": [
      "248\n"
     ]
    },
    {
     "name": "stderr",
     "output_type": "stream",
     "text": [
      "/var/folders/8v/cgqpzdls33l6jdsvj3z4fdyh0000gn/T/ipykernel_64710/506424766.py:25: FutureWarning: The frame.append method is deprecated and will be removed from pandas in a future version. Use pandas.concat instead.\n",
      "  results = results.append({'user': user_id, 'Algorithm': algo, 'KL_div': calibration_scores[0], 'JS_div': calibration_scores[1]}, ignore_index=True)\n",
      "/var/folders/8v/cgqpzdls33l6jdsvj3z4fdyh0000gn/T/ipykernel_64710/506424766.py:25: FutureWarning: The frame.append method is deprecated and will be removed from pandas in a future version. Use pandas.concat instead.\n",
      "  results = results.append({'user': user_id, 'Algorithm': algo, 'KL_div': calibration_scores[0], 'JS_div': calibration_scores[1]}, ignore_index=True)\n"
     ]
    },
    {
     "name": "stdout",
     "output_type": "stream",
     "text": [
      "249\n"
     ]
    },
    {
     "name": "stderr",
     "output_type": "stream",
     "text": [
      "/var/folders/8v/cgqpzdls33l6jdsvj3z4fdyh0000gn/T/ipykernel_64710/506424766.py:25: FutureWarning: The frame.append method is deprecated and will be removed from pandas in a future version. Use pandas.concat instead.\n",
      "  results = results.append({'user': user_id, 'Algorithm': algo, 'KL_div': calibration_scores[0], 'JS_div': calibration_scores[1]}, ignore_index=True)\n",
      "/var/folders/8v/cgqpzdls33l6jdsvj3z4fdyh0000gn/T/ipykernel_64710/506424766.py:25: FutureWarning: The frame.append method is deprecated and will be removed from pandas in a future version. Use pandas.concat instead.\n",
      "  results = results.append({'user': user_id, 'Algorithm': algo, 'KL_div': calibration_scores[0], 'JS_div': calibration_scores[1]}, ignore_index=True)\n"
     ]
    },
    {
     "name": "stdout",
     "output_type": "stream",
     "text": [
      "250\n"
     ]
    },
    {
     "name": "stderr",
     "output_type": "stream",
     "text": [
      "/var/folders/8v/cgqpzdls33l6jdsvj3z4fdyh0000gn/T/ipykernel_64710/506424766.py:25: FutureWarning: The frame.append method is deprecated and will be removed from pandas in a future version. Use pandas.concat instead.\n",
      "  results = results.append({'user': user_id, 'Algorithm': algo, 'KL_div': calibration_scores[0], 'JS_div': calibration_scores[1]}, ignore_index=True)\n",
      "/var/folders/8v/cgqpzdls33l6jdsvj3z4fdyh0000gn/T/ipykernel_64710/506424766.py:25: FutureWarning: The frame.append method is deprecated and will be removed from pandas in a future version. Use pandas.concat instead.\n",
      "  results = results.append({'user': user_id, 'Algorithm': algo, 'KL_div': calibration_scores[0], 'JS_div': calibration_scores[1]}, ignore_index=True)\n"
     ]
    },
    {
     "name": "stdout",
     "output_type": "stream",
     "text": [
      "251\n"
     ]
    },
    {
     "name": "stderr",
     "output_type": "stream",
     "text": [
      "/var/folders/8v/cgqpzdls33l6jdsvj3z4fdyh0000gn/T/ipykernel_64710/506424766.py:25: FutureWarning: The frame.append method is deprecated and will be removed from pandas in a future version. Use pandas.concat instead.\n",
      "  results = results.append({'user': user_id, 'Algorithm': algo, 'KL_div': calibration_scores[0], 'JS_div': calibration_scores[1]}, ignore_index=True)\n",
      "/var/folders/8v/cgqpzdls33l6jdsvj3z4fdyh0000gn/T/ipykernel_64710/506424766.py:25: FutureWarning: The frame.append method is deprecated and will be removed from pandas in a future version. Use pandas.concat instead.\n",
      "  results = results.append({'user': user_id, 'Algorithm': algo, 'KL_div': calibration_scores[0], 'JS_div': calibration_scores[1]}, ignore_index=True)\n"
     ]
    },
    {
     "name": "stdout",
     "output_type": "stream",
     "text": [
      "252\n"
     ]
    },
    {
     "name": "stderr",
     "output_type": "stream",
     "text": [
      "/var/folders/8v/cgqpzdls33l6jdsvj3z4fdyh0000gn/T/ipykernel_64710/506424766.py:25: FutureWarning: The frame.append method is deprecated and will be removed from pandas in a future version. Use pandas.concat instead.\n",
      "  results = results.append({'user': user_id, 'Algorithm': algo, 'KL_div': calibration_scores[0], 'JS_div': calibration_scores[1]}, ignore_index=True)\n",
      "/var/folders/8v/cgqpzdls33l6jdsvj3z4fdyh0000gn/T/ipykernel_64710/506424766.py:25: FutureWarning: The frame.append method is deprecated and will be removed from pandas in a future version. Use pandas.concat instead.\n",
      "  results = results.append({'user': user_id, 'Algorithm': algo, 'KL_div': calibration_scores[0], 'JS_div': calibration_scores[1]}, ignore_index=True)\n"
     ]
    },
    {
     "name": "stdout",
     "output_type": "stream",
     "text": [
      "253\n"
     ]
    },
    {
     "name": "stderr",
     "output_type": "stream",
     "text": [
      "/var/folders/8v/cgqpzdls33l6jdsvj3z4fdyh0000gn/T/ipykernel_64710/506424766.py:25: FutureWarning: The frame.append method is deprecated and will be removed from pandas in a future version. Use pandas.concat instead.\n",
      "  results = results.append({'user': user_id, 'Algorithm': algo, 'KL_div': calibration_scores[0], 'JS_div': calibration_scores[1]}, ignore_index=True)\n",
      "/var/folders/8v/cgqpzdls33l6jdsvj3z4fdyh0000gn/T/ipykernel_64710/506424766.py:25: FutureWarning: The frame.append method is deprecated and will be removed from pandas in a future version. Use pandas.concat instead.\n",
      "  results = results.append({'user': user_id, 'Algorithm': algo, 'KL_div': calibration_scores[0], 'JS_div': calibration_scores[1]}, ignore_index=True)\n"
     ]
    },
    {
     "name": "stdout",
     "output_type": "stream",
     "text": [
      "254\n"
     ]
    },
    {
     "name": "stderr",
     "output_type": "stream",
     "text": [
      "/var/folders/8v/cgqpzdls33l6jdsvj3z4fdyh0000gn/T/ipykernel_64710/506424766.py:25: FutureWarning: The frame.append method is deprecated and will be removed from pandas in a future version. Use pandas.concat instead.\n",
      "  results = results.append({'user': user_id, 'Algorithm': algo, 'KL_div': calibration_scores[0], 'JS_div': calibration_scores[1]}, ignore_index=True)\n",
      "/var/folders/8v/cgqpzdls33l6jdsvj3z4fdyh0000gn/T/ipykernel_64710/506424766.py:25: FutureWarning: The frame.append method is deprecated and will be removed from pandas in a future version. Use pandas.concat instead.\n",
      "  results = results.append({'user': user_id, 'Algorithm': algo, 'KL_div': calibration_scores[0], 'JS_div': calibration_scores[1]}, ignore_index=True)\n"
     ]
    },
    {
     "name": "stdout",
     "output_type": "stream",
     "text": [
      "255\n"
     ]
    },
    {
     "name": "stderr",
     "output_type": "stream",
     "text": [
      "/var/folders/8v/cgqpzdls33l6jdsvj3z4fdyh0000gn/T/ipykernel_64710/506424766.py:25: FutureWarning: The frame.append method is deprecated and will be removed from pandas in a future version. Use pandas.concat instead.\n",
      "  results = results.append({'user': user_id, 'Algorithm': algo, 'KL_div': calibration_scores[0], 'JS_div': calibration_scores[1]}, ignore_index=True)\n",
      "/var/folders/8v/cgqpzdls33l6jdsvj3z4fdyh0000gn/T/ipykernel_64710/506424766.py:25: FutureWarning: The frame.append method is deprecated and will be removed from pandas in a future version. Use pandas.concat instead.\n",
      "  results = results.append({'user': user_id, 'Algorithm': algo, 'KL_div': calibration_scores[0], 'JS_div': calibration_scores[1]}, ignore_index=True)\n"
     ]
    },
    {
     "name": "stdout",
     "output_type": "stream",
     "text": [
      "256\n"
     ]
    },
    {
     "name": "stderr",
     "output_type": "stream",
     "text": [
      "/var/folders/8v/cgqpzdls33l6jdsvj3z4fdyh0000gn/T/ipykernel_64710/506424766.py:25: FutureWarning: The frame.append method is deprecated and will be removed from pandas in a future version. Use pandas.concat instead.\n",
      "  results = results.append({'user': user_id, 'Algorithm': algo, 'KL_div': calibration_scores[0], 'JS_div': calibration_scores[1]}, ignore_index=True)\n",
      "/var/folders/8v/cgqpzdls33l6jdsvj3z4fdyh0000gn/T/ipykernel_64710/506424766.py:25: FutureWarning: The frame.append method is deprecated and will be removed from pandas in a future version. Use pandas.concat instead.\n",
      "  results = results.append({'user': user_id, 'Algorithm': algo, 'KL_div': calibration_scores[0], 'JS_div': calibration_scores[1]}, ignore_index=True)\n"
     ]
    },
    {
     "name": "stdout",
     "output_type": "stream",
     "text": [
      "257\n"
     ]
    },
    {
     "name": "stderr",
     "output_type": "stream",
     "text": [
      "/var/folders/8v/cgqpzdls33l6jdsvj3z4fdyh0000gn/T/ipykernel_64710/506424766.py:25: FutureWarning: The frame.append method is deprecated and will be removed from pandas in a future version. Use pandas.concat instead.\n",
      "  results = results.append({'user': user_id, 'Algorithm': algo, 'KL_div': calibration_scores[0], 'JS_div': calibration_scores[1]}, ignore_index=True)\n",
      "/var/folders/8v/cgqpzdls33l6jdsvj3z4fdyh0000gn/T/ipykernel_64710/506424766.py:25: FutureWarning: The frame.append method is deprecated and will be removed from pandas in a future version. Use pandas.concat instead.\n",
      "  results = results.append({'user': user_id, 'Algorithm': algo, 'KL_div': calibration_scores[0], 'JS_div': calibration_scores[1]}, ignore_index=True)\n"
     ]
    },
    {
     "name": "stdout",
     "output_type": "stream",
     "text": [
      "258\n"
     ]
    },
    {
     "name": "stderr",
     "output_type": "stream",
     "text": [
      "/var/folders/8v/cgqpzdls33l6jdsvj3z4fdyh0000gn/T/ipykernel_64710/506424766.py:25: FutureWarning: The frame.append method is deprecated and will be removed from pandas in a future version. Use pandas.concat instead.\n",
      "  results = results.append({'user': user_id, 'Algorithm': algo, 'KL_div': calibration_scores[0], 'JS_div': calibration_scores[1]}, ignore_index=True)\n",
      "/var/folders/8v/cgqpzdls33l6jdsvj3z4fdyh0000gn/T/ipykernel_64710/506424766.py:25: FutureWarning: The frame.append method is deprecated and will be removed from pandas in a future version. Use pandas.concat instead.\n",
      "  results = results.append({'user': user_id, 'Algorithm': algo, 'KL_div': calibration_scores[0], 'JS_div': calibration_scores[1]}, ignore_index=True)\n"
     ]
    },
    {
     "name": "stdout",
     "output_type": "stream",
     "text": [
      "259\n"
     ]
    },
    {
     "name": "stderr",
     "output_type": "stream",
     "text": [
      "/var/folders/8v/cgqpzdls33l6jdsvj3z4fdyh0000gn/T/ipykernel_64710/506424766.py:25: FutureWarning: The frame.append method is deprecated and will be removed from pandas in a future version. Use pandas.concat instead.\n",
      "  results = results.append({'user': user_id, 'Algorithm': algo, 'KL_div': calibration_scores[0], 'JS_div': calibration_scores[1]}, ignore_index=True)\n",
      "/var/folders/8v/cgqpzdls33l6jdsvj3z4fdyh0000gn/T/ipykernel_64710/506424766.py:25: FutureWarning: The frame.append method is deprecated and will be removed from pandas in a future version. Use pandas.concat instead.\n",
      "  results = results.append({'user': user_id, 'Algorithm': algo, 'KL_div': calibration_scores[0], 'JS_div': calibration_scores[1]}, ignore_index=True)\n"
     ]
    },
    {
     "name": "stdout",
     "output_type": "stream",
     "text": [
      "260\n"
     ]
    },
    {
     "name": "stderr",
     "output_type": "stream",
     "text": [
      "/var/folders/8v/cgqpzdls33l6jdsvj3z4fdyh0000gn/T/ipykernel_64710/506424766.py:25: FutureWarning: The frame.append method is deprecated and will be removed from pandas in a future version. Use pandas.concat instead.\n",
      "  results = results.append({'user': user_id, 'Algorithm': algo, 'KL_div': calibration_scores[0], 'JS_div': calibration_scores[1]}, ignore_index=True)\n",
      "/var/folders/8v/cgqpzdls33l6jdsvj3z4fdyh0000gn/T/ipykernel_64710/506424766.py:25: FutureWarning: The frame.append method is deprecated and will be removed from pandas in a future version. Use pandas.concat instead.\n",
      "  results = results.append({'user': user_id, 'Algorithm': algo, 'KL_div': calibration_scores[0], 'JS_div': calibration_scores[1]}, ignore_index=True)\n"
     ]
    },
    {
     "name": "stdout",
     "output_type": "stream",
     "text": [
      "261\n"
     ]
    },
    {
     "name": "stderr",
     "output_type": "stream",
     "text": [
      "/var/folders/8v/cgqpzdls33l6jdsvj3z4fdyh0000gn/T/ipykernel_64710/506424766.py:25: FutureWarning: The frame.append method is deprecated and will be removed from pandas in a future version. Use pandas.concat instead.\n",
      "  results = results.append({'user': user_id, 'Algorithm': algo, 'KL_div': calibration_scores[0], 'JS_div': calibration_scores[1]}, ignore_index=True)\n",
      "/var/folders/8v/cgqpzdls33l6jdsvj3z4fdyh0000gn/T/ipykernel_64710/506424766.py:25: FutureWarning: The frame.append method is deprecated and will be removed from pandas in a future version. Use pandas.concat instead.\n",
      "  results = results.append({'user': user_id, 'Algorithm': algo, 'KL_div': calibration_scores[0], 'JS_div': calibration_scores[1]}, ignore_index=True)\n"
     ]
    },
    {
     "name": "stdout",
     "output_type": "stream",
     "text": [
      "262\n"
     ]
    },
    {
     "name": "stderr",
     "output_type": "stream",
     "text": [
      "/var/folders/8v/cgqpzdls33l6jdsvj3z4fdyh0000gn/T/ipykernel_64710/506424766.py:25: FutureWarning: The frame.append method is deprecated and will be removed from pandas in a future version. Use pandas.concat instead.\n",
      "  results = results.append({'user': user_id, 'Algorithm': algo, 'KL_div': calibration_scores[0], 'JS_div': calibration_scores[1]}, ignore_index=True)\n",
      "/var/folders/8v/cgqpzdls33l6jdsvj3z4fdyh0000gn/T/ipykernel_64710/506424766.py:25: FutureWarning: The frame.append method is deprecated and will be removed from pandas in a future version. Use pandas.concat instead.\n",
      "  results = results.append({'user': user_id, 'Algorithm': algo, 'KL_div': calibration_scores[0], 'JS_div': calibration_scores[1]}, ignore_index=True)\n"
     ]
    },
    {
     "name": "stdout",
     "output_type": "stream",
     "text": [
      "263\n"
     ]
    },
    {
     "name": "stderr",
     "output_type": "stream",
     "text": [
      "/var/folders/8v/cgqpzdls33l6jdsvj3z4fdyh0000gn/T/ipykernel_64710/506424766.py:25: FutureWarning: The frame.append method is deprecated and will be removed from pandas in a future version. Use pandas.concat instead.\n",
      "  results = results.append({'user': user_id, 'Algorithm': algo, 'KL_div': calibration_scores[0], 'JS_div': calibration_scores[1]}, ignore_index=True)\n",
      "/var/folders/8v/cgqpzdls33l6jdsvj3z4fdyh0000gn/T/ipykernel_64710/506424766.py:25: FutureWarning: The frame.append method is deprecated and will be removed from pandas in a future version. Use pandas.concat instead.\n",
      "  results = results.append({'user': user_id, 'Algorithm': algo, 'KL_div': calibration_scores[0], 'JS_div': calibration_scores[1]}, ignore_index=True)\n"
     ]
    },
    {
     "name": "stdout",
     "output_type": "stream",
     "text": [
      "264\n"
     ]
    },
    {
     "name": "stderr",
     "output_type": "stream",
     "text": [
      "/var/folders/8v/cgqpzdls33l6jdsvj3z4fdyh0000gn/T/ipykernel_64710/506424766.py:25: FutureWarning: The frame.append method is deprecated and will be removed from pandas in a future version. Use pandas.concat instead.\n",
      "  results = results.append({'user': user_id, 'Algorithm': algo, 'KL_div': calibration_scores[0], 'JS_div': calibration_scores[1]}, ignore_index=True)\n",
      "/var/folders/8v/cgqpzdls33l6jdsvj3z4fdyh0000gn/T/ipykernel_64710/506424766.py:25: FutureWarning: The frame.append method is deprecated and will be removed from pandas in a future version. Use pandas.concat instead.\n",
      "  results = results.append({'user': user_id, 'Algorithm': algo, 'KL_div': calibration_scores[0], 'JS_div': calibration_scores[1]}, ignore_index=True)\n"
     ]
    },
    {
     "name": "stdout",
     "output_type": "stream",
     "text": [
      "265\n"
     ]
    },
    {
     "name": "stderr",
     "output_type": "stream",
     "text": [
      "/var/folders/8v/cgqpzdls33l6jdsvj3z4fdyh0000gn/T/ipykernel_64710/506424766.py:25: FutureWarning: The frame.append method is deprecated and will be removed from pandas in a future version. Use pandas.concat instead.\n",
      "  results = results.append({'user': user_id, 'Algorithm': algo, 'KL_div': calibration_scores[0], 'JS_div': calibration_scores[1]}, ignore_index=True)\n",
      "/var/folders/8v/cgqpzdls33l6jdsvj3z4fdyh0000gn/T/ipykernel_64710/506424766.py:25: FutureWarning: The frame.append method is deprecated and will be removed from pandas in a future version. Use pandas.concat instead.\n",
      "  results = results.append({'user': user_id, 'Algorithm': algo, 'KL_div': calibration_scores[0], 'JS_div': calibration_scores[1]}, ignore_index=True)\n"
     ]
    },
    {
     "name": "stdout",
     "output_type": "stream",
     "text": [
      "266\n"
     ]
    },
    {
     "name": "stderr",
     "output_type": "stream",
     "text": [
      "/var/folders/8v/cgqpzdls33l6jdsvj3z4fdyh0000gn/T/ipykernel_64710/506424766.py:25: FutureWarning: The frame.append method is deprecated and will be removed from pandas in a future version. Use pandas.concat instead.\n",
      "  results = results.append({'user': user_id, 'Algorithm': algo, 'KL_div': calibration_scores[0], 'JS_div': calibration_scores[1]}, ignore_index=True)\n",
      "/var/folders/8v/cgqpzdls33l6jdsvj3z4fdyh0000gn/T/ipykernel_64710/506424766.py:25: FutureWarning: The frame.append method is deprecated and will be removed from pandas in a future version. Use pandas.concat instead.\n",
      "  results = results.append({'user': user_id, 'Algorithm': algo, 'KL_div': calibration_scores[0], 'JS_div': calibration_scores[1]}, ignore_index=True)\n"
     ]
    },
    {
     "name": "stdout",
     "output_type": "stream",
     "text": [
      "267\n"
     ]
    },
    {
     "name": "stderr",
     "output_type": "stream",
     "text": [
      "/var/folders/8v/cgqpzdls33l6jdsvj3z4fdyh0000gn/T/ipykernel_64710/506424766.py:25: FutureWarning: The frame.append method is deprecated and will be removed from pandas in a future version. Use pandas.concat instead.\n",
      "  results = results.append({'user': user_id, 'Algorithm': algo, 'KL_div': calibration_scores[0], 'JS_div': calibration_scores[1]}, ignore_index=True)\n",
      "/var/folders/8v/cgqpzdls33l6jdsvj3z4fdyh0000gn/T/ipykernel_64710/506424766.py:25: FutureWarning: The frame.append method is deprecated and will be removed from pandas in a future version. Use pandas.concat instead.\n",
      "  results = results.append({'user': user_id, 'Algorithm': algo, 'KL_div': calibration_scores[0], 'JS_div': calibration_scores[1]}, ignore_index=True)\n"
     ]
    },
    {
     "name": "stdout",
     "output_type": "stream",
     "text": [
      "268\n"
     ]
    },
    {
     "name": "stderr",
     "output_type": "stream",
     "text": [
      "/var/folders/8v/cgqpzdls33l6jdsvj3z4fdyh0000gn/T/ipykernel_64710/506424766.py:25: FutureWarning: The frame.append method is deprecated and will be removed from pandas in a future version. Use pandas.concat instead.\n",
      "  results = results.append({'user': user_id, 'Algorithm': algo, 'KL_div': calibration_scores[0], 'JS_div': calibration_scores[1]}, ignore_index=True)\n",
      "/var/folders/8v/cgqpzdls33l6jdsvj3z4fdyh0000gn/T/ipykernel_64710/506424766.py:25: FutureWarning: The frame.append method is deprecated and will be removed from pandas in a future version. Use pandas.concat instead.\n",
      "  results = results.append({'user': user_id, 'Algorithm': algo, 'KL_div': calibration_scores[0], 'JS_div': calibration_scores[1]}, ignore_index=True)\n"
     ]
    },
    {
     "name": "stdout",
     "output_type": "stream",
     "text": [
      "269\n"
     ]
    },
    {
     "name": "stderr",
     "output_type": "stream",
     "text": [
      "/var/folders/8v/cgqpzdls33l6jdsvj3z4fdyh0000gn/T/ipykernel_64710/506424766.py:25: FutureWarning: The frame.append method is deprecated and will be removed from pandas in a future version. Use pandas.concat instead.\n",
      "  results = results.append({'user': user_id, 'Algorithm': algo, 'KL_div': calibration_scores[0], 'JS_div': calibration_scores[1]}, ignore_index=True)\n",
      "/var/folders/8v/cgqpzdls33l6jdsvj3z4fdyh0000gn/T/ipykernel_64710/506424766.py:25: FutureWarning: The frame.append method is deprecated and will be removed from pandas in a future version. Use pandas.concat instead.\n",
      "  results = results.append({'user': user_id, 'Algorithm': algo, 'KL_div': calibration_scores[0], 'JS_div': calibration_scores[1]}, ignore_index=True)\n"
     ]
    },
    {
     "name": "stdout",
     "output_type": "stream",
     "text": [
      "270\n"
     ]
    },
    {
     "name": "stderr",
     "output_type": "stream",
     "text": [
      "/var/folders/8v/cgqpzdls33l6jdsvj3z4fdyh0000gn/T/ipykernel_64710/506424766.py:25: FutureWarning: The frame.append method is deprecated and will be removed from pandas in a future version. Use pandas.concat instead.\n",
      "  results = results.append({'user': user_id, 'Algorithm': algo, 'KL_div': calibration_scores[0], 'JS_div': calibration_scores[1]}, ignore_index=True)\n",
      "/var/folders/8v/cgqpzdls33l6jdsvj3z4fdyh0000gn/T/ipykernel_64710/506424766.py:25: FutureWarning: The frame.append method is deprecated and will be removed from pandas in a future version. Use pandas.concat instead.\n",
      "  results = results.append({'user': user_id, 'Algorithm': algo, 'KL_div': calibration_scores[0], 'JS_div': calibration_scores[1]}, ignore_index=True)\n"
     ]
    },
    {
     "name": "stdout",
     "output_type": "stream",
     "text": [
      "271\n"
     ]
    },
    {
     "name": "stderr",
     "output_type": "stream",
     "text": [
      "/var/folders/8v/cgqpzdls33l6jdsvj3z4fdyh0000gn/T/ipykernel_64710/506424766.py:25: FutureWarning: The frame.append method is deprecated and will be removed from pandas in a future version. Use pandas.concat instead.\n",
      "  results = results.append({'user': user_id, 'Algorithm': algo, 'KL_div': calibration_scores[0], 'JS_div': calibration_scores[1]}, ignore_index=True)\n",
      "/var/folders/8v/cgqpzdls33l6jdsvj3z4fdyh0000gn/T/ipykernel_64710/506424766.py:25: FutureWarning: The frame.append method is deprecated and will be removed from pandas in a future version. Use pandas.concat instead.\n",
      "  results = results.append({'user': user_id, 'Algorithm': algo, 'KL_div': calibration_scores[0], 'JS_div': calibration_scores[1]}, ignore_index=True)\n"
     ]
    },
    {
     "name": "stdout",
     "output_type": "stream",
     "text": [
      "272\n"
     ]
    },
    {
     "name": "stderr",
     "output_type": "stream",
     "text": [
      "/var/folders/8v/cgqpzdls33l6jdsvj3z4fdyh0000gn/T/ipykernel_64710/506424766.py:25: FutureWarning: The frame.append method is deprecated and will be removed from pandas in a future version. Use pandas.concat instead.\n",
      "  results = results.append({'user': user_id, 'Algorithm': algo, 'KL_div': calibration_scores[0], 'JS_div': calibration_scores[1]}, ignore_index=True)\n",
      "/var/folders/8v/cgqpzdls33l6jdsvj3z4fdyh0000gn/T/ipykernel_64710/506424766.py:25: FutureWarning: The frame.append method is deprecated and will be removed from pandas in a future version. Use pandas.concat instead.\n",
      "  results = results.append({'user': user_id, 'Algorithm': algo, 'KL_div': calibration_scores[0], 'JS_div': calibration_scores[1]}, ignore_index=True)\n"
     ]
    },
    {
     "name": "stdout",
     "output_type": "stream",
     "text": [
      "273\n"
     ]
    },
    {
     "name": "stderr",
     "output_type": "stream",
     "text": [
      "/var/folders/8v/cgqpzdls33l6jdsvj3z4fdyh0000gn/T/ipykernel_64710/506424766.py:25: FutureWarning: The frame.append method is deprecated and will be removed from pandas in a future version. Use pandas.concat instead.\n",
      "  results = results.append({'user': user_id, 'Algorithm': algo, 'KL_div': calibration_scores[0], 'JS_div': calibration_scores[1]}, ignore_index=True)\n",
      "/var/folders/8v/cgqpzdls33l6jdsvj3z4fdyh0000gn/T/ipykernel_64710/506424766.py:25: FutureWarning: The frame.append method is deprecated and will be removed from pandas in a future version. Use pandas.concat instead.\n",
      "  results = results.append({'user': user_id, 'Algorithm': algo, 'KL_div': calibration_scores[0], 'JS_div': calibration_scores[1]}, ignore_index=True)\n"
     ]
    },
    {
     "name": "stdout",
     "output_type": "stream",
     "text": [
      "274\n"
     ]
    },
    {
     "name": "stderr",
     "output_type": "stream",
     "text": [
      "/var/folders/8v/cgqpzdls33l6jdsvj3z4fdyh0000gn/T/ipykernel_64710/506424766.py:25: FutureWarning: The frame.append method is deprecated and will be removed from pandas in a future version. Use pandas.concat instead.\n",
      "  results = results.append({'user': user_id, 'Algorithm': algo, 'KL_div': calibration_scores[0], 'JS_div': calibration_scores[1]}, ignore_index=True)\n",
      "/var/folders/8v/cgqpzdls33l6jdsvj3z4fdyh0000gn/T/ipykernel_64710/506424766.py:25: FutureWarning: The frame.append method is deprecated and will be removed from pandas in a future version. Use pandas.concat instead.\n",
      "  results = results.append({'user': user_id, 'Algorithm': algo, 'KL_div': calibration_scores[0], 'JS_div': calibration_scores[1]}, ignore_index=True)\n"
     ]
    },
    {
     "name": "stdout",
     "output_type": "stream",
     "text": [
      "275\n"
     ]
    },
    {
     "name": "stderr",
     "output_type": "stream",
     "text": [
      "/var/folders/8v/cgqpzdls33l6jdsvj3z4fdyh0000gn/T/ipykernel_64710/506424766.py:25: FutureWarning: The frame.append method is deprecated and will be removed from pandas in a future version. Use pandas.concat instead.\n",
      "  results = results.append({'user': user_id, 'Algorithm': algo, 'KL_div': calibration_scores[0], 'JS_div': calibration_scores[1]}, ignore_index=True)\n",
      "/var/folders/8v/cgqpzdls33l6jdsvj3z4fdyh0000gn/T/ipykernel_64710/506424766.py:25: FutureWarning: The frame.append method is deprecated and will be removed from pandas in a future version. Use pandas.concat instead.\n",
      "  results = results.append({'user': user_id, 'Algorithm': algo, 'KL_div': calibration_scores[0], 'JS_div': calibration_scores[1]}, ignore_index=True)\n"
     ]
    },
    {
     "name": "stdout",
     "output_type": "stream",
     "text": [
      "276\n"
     ]
    },
    {
     "name": "stderr",
     "output_type": "stream",
     "text": [
      "/var/folders/8v/cgqpzdls33l6jdsvj3z4fdyh0000gn/T/ipykernel_64710/506424766.py:25: FutureWarning: The frame.append method is deprecated and will be removed from pandas in a future version. Use pandas.concat instead.\n",
      "  results = results.append({'user': user_id, 'Algorithm': algo, 'KL_div': calibration_scores[0], 'JS_div': calibration_scores[1]}, ignore_index=True)\n",
      "/var/folders/8v/cgqpzdls33l6jdsvj3z4fdyh0000gn/T/ipykernel_64710/506424766.py:25: FutureWarning: The frame.append method is deprecated and will be removed from pandas in a future version. Use pandas.concat instead.\n",
      "  results = results.append({'user': user_id, 'Algorithm': algo, 'KL_div': calibration_scores[0], 'JS_div': calibration_scores[1]}, ignore_index=True)\n"
     ]
    },
    {
     "name": "stdout",
     "output_type": "stream",
     "text": [
      "277\n"
     ]
    },
    {
     "name": "stderr",
     "output_type": "stream",
     "text": [
      "/var/folders/8v/cgqpzdls33l6jdsvj3z4fdyh0000gn/T/ipykernel_64710/506424766.py:25: FutureWarning: The frame.append method is deprecated and will be removed from pandas in a future version. Use pandas.concat instead.\n",
      "  results = results.append({'user': user_id, 'Algorithm': algo, 'KL_div': calibration_scores[0], 'JS_div': calibration_scores[1]}, ignore_index=True)\n",
      "/var/folders/8v/cgqpzdls33l6jdsvj3z4fdyh0000gn/T/ipykernel_64710/506424766.py:25: FutureWarning: The frame.append method is deprecated and will be removed from pandas in a future version. Use pandas.concat instead.\n",
      "  results = results.append({'user': user_id, 'Algorithm': algo, 'KL_div': calibration_scores[0], 'JS_div': calibration_scores[1]}, ignore_index=True)\n"
     ]
    },
    {
     "name": "stdout",
     "output_type": "stream",
     "text": [
      "278\n"
     ]
    },
    {
     "name": "stderr",
     "output_type": "stream",
     "text": [
      "/var/folders/8v/cgqpzdls33l6jdsvj3z4fdyh0000gn/T/ipykernel_64710/506424766.py:25: FutureWarning: The frame.append method is deprecated and will be removed from pandas in a future version. Use pandas.concat instead.\n",
      "  results = results.append({'user': user_id, 'Algorithm': algo, 'KL_div': calibration_scores[0], 'JS_div': calibration_scores[1]}, ignore_index=True)\n",
      "/var/folders/8v/cgqpzdls33l6jdsvj3z4fdyh0000gn/T/ipykernel_64710/506424766.py:25: FutureWarning: The frame.append method is deprecated and will be removed from pandas in a future version. Use pandas.concat instead.\n",
      "  results = results.append({'user': user_id, 'Algorithm': algo, 'KL_div': calibration_scores[0], 'JS_div': calibration_scores[1]}, ignore_index=True)\n"
     ]
    },
    {
     "name": "stdout",
     "output_type": "stream",
     "text": [
      "279\n"
     ]
    },
    {
     "name": "stderr",
     "output_type": "stream",
     "text": [
      "/var/folders/8v/cgqpzdls33l6jdsvj3z4fdyh0000gn/T/ipykernel_64710/506424766.py:25: FutureWarning: The frame.append method is deprecated and will be removed from pandas in a future version. Use pandas.concat instead.\n",
      "  results = results.append({'user': user_id, 'Algorithm': algo, 'KL_div': calibration_scores[0], 'JS_div': calibration_scores[1]}, ignore_index=True)\n",
      "/var/folders/8v/cgqpzdls33l6jdsvj3z4fdyh0000gn/T/ipykernel_64710/506424766.py:25: FutureWarning: The frame.append method is deprecated and will be removed from pandas in a future version. Use pandas.concat instead.\n",
      "  results = results.append({'user': user_id, 'Algorithm': algo, 'KL_div': calibration_scores[0], 'JS_div': calibration_scores[1]}, ignore_index=True)\n"
     ]
    },
    {
     "name": "stdout",
     "output_type": "stream",
     "text": [
      "280\n"
     ]
    },
    {
     "name": "stderr",
     "output_type": "stream",
     "text": [
      "/var/folders/8v/cgqpzdls33l6jdsvj3z4fdyh0000gn/T/ipykernel_64710/506424766.py:25: FutureWarning: The frame.append method is deprecated and will be removed from pandas in a future version. Use pandas.concat instead.\n",
      "  results = results.append({'user': user_id, 'Algorithm': algo, 'KL_div': calibration_scores[0], 'JS_div': calibration_scores[1]}, ignore_index=True)\n",
      "/var/folders/8v/cgqpzdls33l6jdsvj3z4fdyh0000gn/T/ipykernel_64710/506424766.py:25: FutureWarning: The frame.append method is deprecated and will be removed from pandas in a future version. Use pandas.concat instead.\n",
      "  results = results.append({'user': user_id, 'Algorithm': algo, 'KL_div': calibration_scores[0], 'JS_div': calibration_scores[1]}, ignore_index=True)\n"
     ]
    },
    {
     "name": "stdout",
     "output_type": "stream",
     "text": [
      "281\n"
     ]
    },
    {
     "name": "stderr",
     "output_type": "stream",
     "text": [
      "/var/folders/8v/cgqpzdls33l6jdsvj3z4fdyh0000gn/T/ipykernel_64710/506424766.py:25: FutureWarning: The frame.append method is deprecated and will be removed from pandas in a future version. Use pandas.concat instead.\n",
      "  results = results.append({'user': user_id, 'Algorithm': algo, 'KL_div': calibration_scores[0], 'JS_div': calibration_scores[1]}, ignore_index=True)\n",
      "/var/folders/8v/cgqpzdls33l6jdsvj3z4fdyh0000gn/T/ipykernel_64710/506424766.py:25: FutureWarning: The frame.append method is deprecated and will be removed from pandas in a future version. Use pandas.concat instead.\n",
      "  results = results.append({'user': user_id, 'Algorithm': algo, 'KL_div': calibration_scores[0], 'JS_div': calibration_scores[1]}, ignore_index=True)\n"
     ]
    },
    {
     "name": "stdout",
     "output_type": "stream",
     "text": [
      "282\n"
     ]
    },
    {
     "name": "stderr",
     "output_type": "stream",
     "text": [
      "/var/folders/8v/cgqpzdls33l6jdsvj3z4fdyh0000gn/T/ipykernel_64710/506424766.py:25: FutureWarning: The frame.append method is deprecated and will be removed from pandas in a future version. Use pandas.concat instead.\n",
      "  results = results.append({'user': user_id, 'Algorithm': algo, 'KL_div': calibration_scores[0], 'JS_div': calibration_scores[1]}, ignore_index=True)\n",
      "/var/folders/8v/cgqpzdls33l6jdsvj3z4fdyh0000gn/T/ipykernel_64710/506424766.py:25: FutureWarning: The frame.append method is deprecated and will be removed from pandas in a future version. Use pandas.concat instead.\n",
      "  results = results.append({'user': user_id, 'Algorithm': algo, 'KL_div': calibration_scores[0], 'JS_div': calibration_scores[1]}, ignore_index=True)\n"
     ]
    },
    {
     "name": "stdout",
     "output_type": "stream",
     "text": [
      "283\n"
     ]
    },
    {
     "name": "stderr",
     "output_type": "stream",
     "text": [
      "/var/folders/8v/cgqpzdls33l6jdsvj3z4fdyh0000gn/T/ipykernel_64710/506424766.py:25: FutureWarning: The frame.append method is deprecated and will be removed from pandas in a future version. Use pandas.concat instead.\n",
      "  results = results.append({'user': user_id, 'Algorithm': algo, 'KL_div': calibration_scores[0], 'JS_div': calibration_scores[1]}, ignore_index=True)\n",
      "/var/folders/8v/cgqpzdls33l6jdsvj3z4fdyh0000gn/T/ipykernel_64710/506424766.py:25: FutureWarning: The frame.append method is deprecated and will be removed from pandas in a future version. Use pandas.concat instead.\n",
      "  results = results.append({'user': user_id, 'Algorithm': algo, 'KL_div': calibration_scores[0], 'JS_div': calibration_scores[1]}, ignore_index=True)\n"
     ]
    },
    {
     "name": "stdout",
     "output_type": "stream",
     "text": [
      "284\n"
     ]
    },
    {
     "name": "stderr",
     "output_type": "stream",
     "text": [
      "/var/folders/8v/cgqpzdls33l6jdsvj3z4fdyh0000gn/T/ipykernel_64710/506424766.py:25: FutureWarning: The frame.append method is deprecated and will be removed from pandas in a future version. Use pandas.concat instead.\n",
      "  results = results.append({'user': user_id, 'Algorithm': algo, 'KL_div': calibration_scores[0], 'JS_div': calibration_scores[1]}, ignore_index=True)\n",
      "/var/folders/8v/cgqpzdls33l6jdsvj3z4fdyh0000gn/T/ipykernel_64710/506424766.py:25: FutureWarning: The frame.append method is deprecated and will be removed from pandas in a future version. Use pandas.concat instead.\n",
      "  results = results.append({'user': user_id, 'Algorithm': algo, 'KL_div': calibration_scores[0], 'JS_div': calibration_scores[1]}, ignore_index=True)\n"
     ]
    },
    {
     "name": "stdout",
     "output_type": "stream",
     "text": [
      "285\n"
     ]
    },
    {
     "name": "stderr",
     "output_type": "stream",
     "text": [
      "/var/folders/8v/cgqpzdls33l6jdsvj3z4fdyh0000gn/T/ipykernel_64710/506424766.py:25: FutureWarning: The frame.append method is deprecated and will be removed from pandas in a future version. Use pandas.concat instead.\n",
      "  results = results.append({'user': user_id, 'Algorithm': algo, 'KL_div': calibration_scores[0], 'JS_div': calibration_scores[1]}, ignore_index=True)\n",
      "/var/folders/8v/cgqpzdls33l6jdsvj3z4fdyh0000gn/T/ipykernel_64710/506424766.py:25: FutureWarning: The frame.append method is deprecated and will be removed from pandas in a future version. Use pandas.concat instead.\n",
      "  results = results.append({'user': user_id, 'Algorithm': algo, 'KL_div': calibration_scores[0], 'JS_div': calibration_scores[1]}, ignore_index=True)\n"
     ]
    },
    {
     "name": "stdout",
     "output_type": "stream",
     "text": [
      "286\n"
     ]
    },
    {
     "name": "stderr",
     "output_type": "stream",
     "text": [
      "/var/folders/8v/cgqpzdls33l6jdsvj3z4fdyh0000gn/T/ipykernel_64710/506424766.py:25: FutureWarning: The frame.append method is deprecated and will be removed from pandas in a future version. Use pandas.concat instead.\n",
      "  results = results.append({'user': user_id, 'Algorithm': algo, 'KL_div': calibration_scores[0], 'JS_div': calibration_scores[1]}, ignore_index=True)\n",
      "/var/folders/8v/cgqpzdls33l6jdsvj3z4fdyh0000gn/T/ipykernel_64710/506424766.py:25: FutureWarning: The frame.append method is deprecated and will be removed from pandas in a future version. Use pandas.concat instead.\n",
      "  results = results.append({'user': user_id, 'Algorithm': algo, 'KL_div': calibration_scores[0], 'JS_div': calibration_scores[1]}, ignore_index=True)\n"
     ]
    },
    {
     "name": "stdout",
     "output_type": "stream",
     "text": [
      "287\n"
     ]
    },
    {
     "name": "stderr",
     "output_type": "stream",
     "text": [
      "/var/folders/8v/cgqpzdls33l6jdsvj3z4fdyh0000gn/T/ipykernel_64710/506424766.py:25: FutureWarning: The frame.append method is deprecated and will be removed from pandas in a future version. Use pandas.concat instead.\n",
      "  results = results.append({'user': user_id, 'Algorithm': algo, 'KL_div': calibration_scores[0], 'JS_div': calibration_scores[1]}, ignore_index=True)\n",
      "/var/folders/8v/cgqpzdls33l6jdsvj3z4fdyh0000gn/T/ipykernel_64710/506424766.py:25: FutureWarning: The frame.append method is deprecated and will be removed from pandas in a future version. Use pandas.concat instead.\n",
      "  results = results.append({'user': user_id, 'Algorithm': algo, 'KL_div': calibration_scores[0], 'JS_div': calibration_scores[1]}, ignore_index=True)\n"
     ]
    },
    {
     "name": "stdout",
     "output_type": "stream",
     "text": [
      "288\n"
     ]
    },
    {
     "name": "stderr",
     "output_type": "stream",
     "text": [
      "/var/folders/8v/cgqpzdls33l6jdsvj3z4fdyh0000gn/T/ipykernel_64710/506424766.py:25: FutureWarning: The frame.append method is deprecated and will be removed from pandas in a future version. Use pandas.concat instead.\n",
      "  results = results.append({'user': user_id, 'Algorithm': algo, 'KL_div': calibration_scores[0], 'JS_div': calibration_scores[1]}, ignore_index=True)\n",
      "/var/folders/8v/cgqpzdls33l6jdsvj3z4fdyh0000gn/T/ipykernel_64710/506424766.py:25: FutureWarning: The frame.append method is deprecated and will be removed from pandas in a future version. Use pandas.concat instead.\n",
      "  results = results.append({'user': user_id, 'Algorithm': algo, 'KL_div': calibration_scores[0], 'JS_div': calibration_scores[1]}, ignore_index=True)\n"
     ]
    },
    {
     "name": "stdout",
     "output_type": "stream",
     "text": [
      "289\n"
     ]
    },
    {
     "name": "stderr",
     "output_type": "stream",
     "text": [
      "/var/folders/8v/cgqpzdls33l6jdsvj3z4fdyh0000gn/T/ipykernel_64710/506424766.py:25: FutureWarning: The frame.append method is deprecated and will be removed from pandas in a future version. Use pandas.concat instead.\n",
      "  results = results.append({'user': user_id, 'Algorithm': algo, 'KL_div': calibration_scores[0], 'JS_div': calibration_scores[1]}, ignore_index=True)\n",
      "/var/folders/8v/cgqpzdls33l6jdsvj3z4fdyh0000gn/T/ipykernel_64710/506424766.py:25: FutureWarning: The frame.append method is deprecated and will be removed from pandas in a future version. Use pandas.concat instead.\n",
      "  results = results.append({'user': user_id, 'Algorithm': algo, 'KL_div': calibration_scores[0], 'JS_div': calibration_scores[1]}, ignore_index=True)\n"
     ]
    },
    {
     "name": "stdout",
     "output_type": "stream",
     "text": [
      "290\n"
     ]
    },
    {
     "name": "stderr",
     "output_type": "stream",
     "text": [
      "/var/folders/8v/cgqpzdls33l6jdsvj3z4fdyh0000gn/T/ipykernel_64710/506424766.py:25: FutureWarning: The frame.append method is deprecated and will be removed from pandas in a future version. Use pandas.concat instead.\n",
      "  results = results.append({'user': user_id, 'Algorithm': algo, 'KL_div': calibration_scores[0], 'JS_div': calibration_scores[1]}, ignore_index=True)\n",
      "/var/folders/8v/cgqpzdls33l6jdsvj3z4fdyh0000gn/T/ipykernel_64710/506424766.py:25: FutureWarning: The frame.append method is deprecated and will be removed from pandas in a future version. Use pandas.concat instead.\n",
      "  results = results.append({'user': user_id, 'Algorithm': algo, 'KL_div': calibration_scores[0], 'JS_div': calibration_scores[1]}, ignore_index=True)\n"
     ]
    },
    {
     "name": "stdout",
     "output_type": "stream",
     "text": [
      "291\n"
     ]
    },
    {
     "name": "stderr",
     "output_type": "stream",
     "text": [
      "/var/folders/8v/cgqpzdls33l6jdsvj3z4fdyh0000gn/T/ipykernel_64710/506424766.py:25: FutureWarning: The frame.append method is deprecated and will be removed from pandas in a future version. Use pandas.concat instead.\n",
      "  results = results.append({'user': user_id, 'Algorithm': algo, 'KL_div': calibration_scores[0], 'JS_div': calibration_scores[1]}, ignore_index=True)\n",
      "/var/folders/8v/cgqpzdls33l6jdsvj3z4fdyh0000gn/T/ipykernel_64710/506424766.py:25: FutureWarning: The frame.append method is deprecated and will be removed from pandas in a future version. Use pandas.concat instead.\n",
      "  results = results.append({'user': user_id, 'Algorithm': algo, 'KL_div': calibration_scores[0], 'JS_div': calibration_scores[1]}, ignore_index=True)\n"
     ]
    },
    {
     "name": "stdout",
     "output_type": "stream",
     "text": [
      "292\n"
     ]
    },
    {
     "name": "stderr",
     "output_type": "stream",
     "text": [
      "/var/folders/8v/cgqpzdls33l6jdsvj3z4fdyh0000gn/T/ipykernel_64710/506424766.py:25: FutureWarning: The frame.append method is deprecated and will be removed from pandas in a future version. Use pandas.concat instead.\n",
      "  results = results.append({'user': user_id, 'Algorithm': algo, 'KL_div': calibration_scores[0], 'JS_div': calibration_scores[1]}, ignore_index=True)\n",
      "/var/folders/8v/cgqpzdls33l6jdsvj3z4fdyh0000gn/T/ipykernel_64710/506424766.py:25: FutureWarning: The frame.append method is deprecated and will be removed from pandas in a future version. Use pandas.concat instead.\n",
      "  results = results.append({'user': user_id, 'Algorithm': algo, 'KL_div': calibration_scores[0], 'JS_div': calibration_scores[1]}, ignore_index=True)\n"
     ]
    },
    {
     "name": "stdout",
     "output_type": "stream",
     "text": [
      "293\n"
     ]
    },
    {
     "name": "stderr",
     "output_type": "stream",
     "text": [
      "/var/folders/8v/cgqpzdls33l6jdsvj3z4fdyh0000gn/T/ipykernel_64710/506424766.py:25: FutureWarning: The frame.append method is deprecated and will be removed from pandas in a future version. Use pandas.concat instead.\n",
      "  results = results.append({'user': user_id, 'Algorithm': algo, 'KL_div': calibration_scores[0], 'JS_div': calibration_scores[1]}, ignore_index=True)\n",
      "/var/folders/8v/cgqpzdls33l6jdsvj3z4fdyh0000gn/T/ipykernel_64710/506424766.py:25: FutureWarning: The frame.append method is deprecated and will be removed from pandas in a future version. Use pandas.concat instead.\n",
      "  results = results.append({'user': user_id, 'Algorithm': algo, 'KL_div': calibration_scores[0], 'JS_div': calibration_scores[1]}, ignore_index=True)\n"
     ]
    },
    {
     "name": "stdout",
     "output_type": "stream",
     "text": [
      "294\n"
     ]
    },
    {
     "name": "stderr",
     "output_type": "stream",
     "text": [
      "/var/folders/8v/cgqpzdls33l6jdsvj3z4fdyh0000gn/T/ipykernel_64710/506424766.py:25: FutureWarning: The frame.append method is deprecated and will be removed from pandas in a future version. Use pandas.concat instead.\n",
      "  results = results.append({'user': user_id, 'Algorithm': algo, 'KL_div': calibration_scores[0], 'JS_div': calibration_scores[1]}, ignore_index=True)\n",
      "/var/folders/8v/cgqpzdls33l6jdsvj3z4fdyh0000gn/T/ipykernel_64710/506424766.py:25: FutureWarning: The frame.append method is deprecated and will be removed from pandas in a future version. Use pandas.concat instead.\n",
      "  results = results.append({'user': user_id, 'Algorithm': algo, 'KL_div': calibration_scores[0], 'JS_div': calibration_scores[1]}, ignore_index=True)\n"
     ]
    },
    {
     "name": "stdout",
     "output_type": "stream",
     "text": [
      "295\n"
     ]
    },
    {
     "name": "stderr",
     "output_type": "stream",
     "text": [
      "/var/folders/8v/cgqpzdls33l6jdsvj3z4fdyh0000gn/T/ipykernel_64710/506424766.py:25: FutureWarning: The frame.append method is deprecated and will be removed from pandas in a future version. Use pandas.concat instead.\n",
      "  results = results.append({'user': user_id, 'Algorithm': algo, 'KL_div': calibration_scores[0], 'JS_div': calibration_scores[1]}, ignore_index=True)\n",
      "/var/folders/8v/cgqpzdls33l6jdsvj3z4fdyh0000gn/T/ipykernel_64710/506424766.py:25: FutureWarning: The frame.append method is deprecated and will be removed from pandas in a future version. Use pandas.concat instead.\n",
      "  results = results.append({'user': user_id, 'Algorithm': algo, 'KL_div': calibration_scores[0], 'JS_div': calibration_scores[1]}, ignore_index=True)\n"
     ]
    },
    {
     "name": "stdout",
     "output_type": "stream",
     "text": [
      "296\n"
     ]
    },
    {
     "name": "stderr",
     "output_type": "stream",
     "text": [
      "/var/folders/8v/cgqpzdls33l6jdsvj3z4fdyh0000gn/T/ipykernel_64710/506424766.py:25: FutureWarning: The frame.append method is deprecated and will be removed from pandas in a future version. Use pandas.concat instead.\n",
      "  results = results.append({'user': user_id, 'Algorithm': algo, 'KL_div': calibration_scores[0], 'JS_div': calibration_scores[1]}, ignore_index=True)\n",
      "/var/folders/8v/cgqpzdls33l6jdsvj3z4fdyh0000gn/T/ipykernel_64710/506424766.py:25: FutureWarning: The frame.append method is deprecated and will be removed from pandas in a future version. Use pandas.concat instead.\n",
      "  results = results.append({'user': user_id, 'Algorithm': algo, 'KL_div': calibration_scores[0], 'JS_div': calibration_scores[1]}, ignore_index=True)\n"
     ]
    },
    {
     "name": "stdout",
     "output_type": "stream",
     "text": [
      "297\n"
     ]
    },
    {
     "name": "stderr",
     "output_type": "stream",
     "text": [
      "/var/folders/8v/cgqpzdls33l6jdsvj3z4fdyh0000gn/T/ipykernel_64710/506424766.py:25: FutureWarning: The frame.append method is deprecated and will be removed from pandas in a future version. Use pandas.concat instead.\n",
      "  results = results.append({'user': user_id, 'Algorithm': algo, 'KL_div': calibration_scores[0], 'JS_div': calibration_scores[1]}, ignore_index=True)\n",
      "/var/folders/8v/cgqpzdls33l6jdsvj3z4fdyh0000gn/T/ipykernel_64710/506424766.py:25: FutureWarning: The frame.append method is deprecated and will be removed from pandas in a future version. Use pandas.concat instead.\n",
      "  results = results.append({'user': user_id, 'Algorithm': algo, 'KL_div': calibration_scores[0], 'JS_div': calibration_scores[1]}, ignore_index=True)\n"
     ]
    },
    {
     "name": "stdout",
     "output_type": "stream",
     "text": [
      "298\n"
     ]
    },
    {
     "name": "stderr",
     "output_type": "stream",
     "text": [
      "/var/folders/8v/cgqpzdls33l6jdsvj3z4fdyh0000gn/T/ipykernel_64710/506424766.py:25: FutureWarning: The frame.append method is deprecated and will be removed from pandas in a future version. Use pandas.concat instead.\n",
      "  results = results.append({'user': user_id, 'Algorithm': algo, 'KL_div': calibration_scores[0], 'JS_div': calibration_scores[1]}, ignore_index=True)\n",
      "/var/folders/8v/cgqpzdls33l6jdsvj3z4fdyh0000gn/T/ipykernel_64710/506424766.py:25: FutureWarning: The frame.append method is deprecated and will be removed from pandas in a future version. Use pandas.concat instead.\n",
      "  results = results.append({'user': user_id, 'Algorithm': algo, 'KL_div': calibration_scores[0], 'JS_div': calibration_scores[1]}, ignore_index=True)\n"
     ]
    },
    {
     "name": "stdout",
     "output_type": "stream",
     "text": [
      "299\n"
     ]
    },
    {
     "name": "stderr",
     "output_type": "stream",
     "text": [
      "/var/folders/8v/cgqpzdls33l6jdsvj3z4fdyh0000gn/T/ipykernel_64710/506424766.py:25: FutureWarning: The frame.append method is deprecated and will be removed from pandas in a future version. Use pandas.concat instead.\n",
      "  results = results.append({'user': user_id, 'Algorithm': algo, 'KL_div': calibration_scores[0], 'JS_div': calibration_scores[1]}, ignore_index=True)\n",
      "/var/folders/8v/cgqpzdls33l6jdsvj3z4fdyh0000gn/T/ipykernel_64710/506424766.py:25: FutureWarning: The frame.append method is deprecated and will be removed from pandas in a future version. Use pandas.concat instead.\n",
      "  results = results.append({'user': user_id, 'Algorithm': algo, 'KL_div': calibration_scores[0], 'JS_div': calibration_scores[1]}, ignore_index=True)\n"
     ]
    },
    {
     "name": "stdout",
     "output_type": "stream",
     "text": [
      "300\n"
     ]
    },
    {
     "name": "stderr",
     "output_type": "stream",
     "text": [
      "/var/folders/8v/cgqpzdls33l6jdsvj3z4fdyh0000gn/T/ipykernel_64710/506424766.py:25: FutureWarning: The frame.append method is deprecated and will be removed from pandas in a future version. Use pandas.concat instead.\n",
      "  results = results.append({'user': user_id, 'Algorithm': algo, 'KL_div': calibration_scores[0], 'JS_div': calibration_scores[1]}, ignore_index=True)\n",
      "/var/folders/8v/cgqpzdls33l6jdsvj3z4fdyh0000gn/T/ipykernel_64710/506424766.py:25: FutureWarning: The frame.append method is deprecated and will be removed from pandas in a future version. Use pandas.concat instead.\n",
      "  results = results.append({'user': user_id, 'Algorithm': algo, 'KL_div': calibration_scores[0], 'JS_div': calibration_scores[1]}, ignore_index=True)\n"
     ]
    },
    {
     "name": "stdout",
     "output_type": "stream",
     "text": [
      "301\n"
     ]
    },
    {
     "name": "stderr",
     "output_type": "stream",
     "text": [
      "/var/folders/8v/cgqpzdls33l6jdsvj3z4fdyh0000gn/T/ipykernel_64710/506424766.py:25: FutureWarning: The frame.append method is deprecated and will be removed from pandas in a future version. Use pandas.concat instead.\n",
      "  results = results.append({'user': user_id, 'Algorithm': algo, 'KL_div': calibration_scores[0], 'JS_div': calibration_scores[1]}, ignore_index=True)\n",
      "/var/folders/8v/cgqpzdls33l6jdsvj3z4fdyh0000gn/T/ipykernel_64710/506424766.py:25: FutureWarning: The frame.append method is deprecated and will be removed from pandas in a future version. Use pandas.concat instead.\n",
      "  results = results.append({'user': user_id, 'Algorithm': algo, 'KL_div': calibration_scores[0], 'JS_div': calibration_scores[1]}, ignore_index=True)\n"
     ]
    },
    {
     "name": "stdout",
     "output_type": "stream",
     "text": [
      "302\n"
     ]
    },
    {
     "name": "stderr",
     "output_type": "stream",
     "text": [
      "/var/folders/8v/cgqpzdls33l6jdsvj3z4fdyh0000gn/T/ipykernel_64710/506424766.py:25: FutureWarning: The frame.append method is deprecated and will be removed from pandas in a future version. Use pandas.concat instead.\n",
      "  results = results.append({'user': user_id, 'Algorithm': algo, 'KL_div': calibration_scores[0], 'JS_div': calibration_scores[1]}, ignore_index=True)\n",
      "/var/folders/8v/cgqpzdls33l6jdsvj3z4fdyh0000gn/T/ipykernel_64710/506424766.py:25: FutureWarning: The frame.append method is deprecated and will be removed from pandas in a future version. Use pandas.concat instead.\n",
      "  results = results.append({'user': user_id, 'Algorithm': algo, 'KL_div': calibration_scores[0], 'JS_div': calibration_scores[1]}, ignore_index=True)\n"
     ]
    },
    {
     "name": "stdout",
     "output_type": "stream",
     "text": [
      "303\n"
     ]
    },
    {
     "name": "stderr",
     "output_type": "stream",
     "text": [
      "/var/folders/8v/cgqpzdls33l6jdsvj3z4fdyh0000gn/T/ipykernel_64710/506424766.py:25: FutureWarning: The frame.append method is deprecated and will be removed from pandas in a future version. Use pandas.concat instead.\n",
      "  results = results.append({'user': user_id, 'Algorithm': algo, 'KL_div': calibration_scores[0], 'JS_div': calibration_scores[1]}, ignore_index=True)\n",
      "/var/folders/8v/cgqpzdls33l6jdsvj3z4fdyh0000gn/T/ipykernel_64710/506424766.py:25: FutureWarning: The frame.append method is deprecated and will be removed from pandas in a future version. Use pandas.concat instead.\n",
      "  results = results.append({'user': user_id, 'Algorithm': algo, 'KL_div': calibration_scores[0], 'JS_div': calibration_scores[1]}, ignore_index=True)\n"
     ]
    },
    {
     "name": "stdout",
     "output_type": "stream",
     "text": [
      "304\n"
     ]
    },
    {
     "name": "stderr",
     "output_type": "stream",
     "text": [
      "/var/folders/8v/cgqpzdls33l6jdsvj3z4fdyh0000gn/T/ipykernel_64710/506424766.py:25: FutureWarning: The frame.append method is deprecated and will be removed from pandas in a future version. Use pandas.concat instead.\n",
      "  results = results.append({'user': user_id, 'Algorithm': algo, 'KL_div': calibration_scores[0], 'JS_div': calibration_scores[1]}, ignore_index=True)\n",
      "/var/folders/8v/cgqpzdls33l6jdsvj3z4fdyh0000gn/T/ipykernel_64710/506424766.py:25: FutureWarning: The frame.append method is deprecated and will be removed from pandas in a future version. Use pandas.concat instead.\n",
      "  results = results.append({'user': user_id, 'Algorithm': algo, 'KL_div': calibration_scores[0], 'JS_div': calibration_scores[1]}, ignore_index=True)\n"
     ]
    },
    {
     "name": "stdout",
     "output_type": "stream",
     "text": [
      "305\n"
     ]
    },
    {
     "name": "stderr",
     "output_type": "stream",
     "text": [
      "/var/folders/8v/cgqpzdls33l6jdsvj3z4fdyh0000gn/T/ipykernel_64710/506424766.py:25: FutureWarning: The frame.append method is deprecated and will be removed from pandas in a future version. Use pandas.concat instead.\n",
      "  results = results.append({'user': user_id, 'Algorithm': algo, 'KL_div': calibration_scores[0], 'JS_div': calibration_scores[1]}, ignore_index=True)\n",
      "/var/folders/8v/cgqpzdls33l6jdsvj3z4fdyh0000gn/T/ipykernel_64710/506424766.py:25: FutureWarning: The frame.append method is deprecated and will be removed from pandas in a future version. Use pandas.concat instead.\n",
      "  results = results.append({'user': user_id, 'Algorithm': algo, 'KL_div': calibration_scores[0], 'JS_div': calibration_scores[1]}, ignore_index=True)\n"
     ]
    },
    {
     "name": "stdout",
     "output_type": "stream",
     "text": [
      "306\n"
     ]
    },
    {
     "name": "stderr",
     "output_type": "stream",
     "text": [
      "/var/folders/8v/cgqpzdls33l6jdsvj3z4fdyh0000gn/T/ipykernel_64710/506424766.py:25: FutureWarning: The frame.append method is deprecated and will be removed from pandas in a future version. Use pandas.concat instead.\n",
      "  results = results.append({'user': user_id, 'Algorithm': algo, 'KL_div': calibration_scores[0], 'JS_div': calibration_scores[1]}, ignore_index=True)\n",
      "/var/folders/8v/cgqpzdls33l6jdsvj3z4fdyh0000gn/T/ipykernel_64710/506424766.py:25: FutureWarning: The frame.append method is deprecated and will be removed from pandas in a future version. Use pandas.concat instead.\n",
      "  results = results.append({'user': user_id, 'Algorithm': algo, 'KL_div': calibration_scores[0], 'JS_div': calibration_scores[1]}, ignore_index=True)\n"
     ]
    },
    {
     "name": "stdout",
     "output_type": "stream",
     "text": [
      "307\n"
     ]
    },
    {
     "name": "stderr",
     "output_type": "stream",
     "text": [
      "/var/folders/8v/cgqpzdls33l6jdsvj3z4fdyh0000gn/T/ipykernel_64710/506424766.py:25: FutureWarning: The frame.append method is deprecated and will be removed from pandas in a future version. Use pandas.concat instead.\n",
      "  results = results.append({'user': user_id, 'Algorithm': algo, 'KL_div': calibration_scores[0], 'JS_div': calibration_scores[1]}, ignore_index=True)\n",
      "/var/folders/8v/cgqpzdls33l6jdsvj3z4fdyh0000gn/T/ipykernel_64710/506424766.py:25: FutureWarning: The frame.append method is deprecated and will be removed from pandas in a future version. Use pandas.concat instead.\n",
      "  results = results.append({'user': user_id, 'Algorithm': algo, 'KL_div': calibration_scores[0], 'JS_div': calibration_scores[1]}, ignore_index=True)\n"
     ]
    },
    {
     "name": "stdout",
     "output_type": "stream",
     "text": [
      "308\n"
     ]
    },
    {
     "name": "stderr",
     "output_type": "stream",
     "text": [
      "/var/folders/8v/cgqpzdls33l6jdsvj3z4fdyh0000gn/T/ipykernel_64710/506424766.py:25: FutureWarning: The frame.append method is deprecated and will be removed from pandas in a future version. Use pandas.concat instead.\n",
      "  results = results.append({'user': user_id, 'Algorithm': algo, 'KL_div': calibration_scores[0], 'JS_div': calibration_scores[1]}, ignore_index=True)\n",
      "/var/folders/8v/cgqpzdls33l6jdsvj3z4fdyh0000gn/T/ipykernel_64710/506424766.py:25: FutureWarning: The frame.append method is deprecated and will be removed from pandas in a future version. Use pandas.concat instead.\n",
      "  results = results.append({'user': user_id, 'Algorithm': algo, 'KL_div': calibration_scores[0], 'JS_div': calibration_scores[1]}, ignore_index=True)\n"
     ]
    },
    {
     "name": "stdout",
     "output_type": "stream",
     "text": [
      "309\n"
     ]
    },
    {
     "name": "stderr",
     "output_type": "stream",
     "text": [
      "/var/folders/8v/cgqpzdls33l6jdsvj3z4fdyh0000gn/T/ipykernel_64710/506424766.py:25: FutureWarning: The frame.append method is deprecated and will be removed from pandas in a future version. Use pandas.concat instead.\n",
      "  results = results.append({'user': user_id, 'Algorithm': algo, 'KL_div': calibration_scores[0], 'JS_div': calibration_scores[1]}, ignore_index=True)\n",
      "/var/folders/8v/cgqpzdls33l6jdsvj3z4fdyh0000gn/T/ipykernel_64710/506424766.py:25: FutureWarning: The frame.append method is deprecated and will be removed from pandas in a future version. Use pandas.concat instead.\n",
      "  results = results.append({'user': user_id, 'Algorithm': algo, 'KL_div': calibration_scores[0], 'JS_div': calibration_scores[1]}, ignore_index=True)\n"
     ]
    },
    {
     "name": "stdout",
     "output_type": "stream",
     "text": [
      "310\n"
     ]
    },
    {
     "name": "stderr",
     "output_type": "stream",
     "text": [
      "/var/folders/8v/cgqpzdls33l6jdsvj3z4fdyh0000gn/T/ipykernel_64710/506424766.py:25: FutureWarning: The frame.append method is deprecated and will be removed from pandas in a future version. Use pandas.concat instead.\n",
      "  results = results.append({'user': user_id, 'Algorithm': algo, 'KL_div': calibration_scores[0], 'JS_div': calibration_scores[1]}, ignore_index=True)\n",
      "/var/folders/8v/cgqpzdls33l6jdsvj3z4fdyh0000gn/T/ipykernel_64710/506424766.py:25: FutureWarning: The frame.append method is deprecated and will be removed from pandas in a future version. Use pandas.concat instead.\n",
      "  results = results.append({'user': user_id, 'Algorithm': algo, 'KL_div': calibration_scores[0], 'JS_div': calibration_scores[1]}, ignore_index=True)\n"
     ]
    },
    {
     "name": "stdout",
     "output_type": "stream",
     "text": [
      "311\n"
     ]
    },
    {
     "name": "stderr",
     "output_type": "stream",
     "text": [
      "/var/folders/8v/cgqpzdls33l6jdsvj3z4fdyh0000gn/T/ipykernel_64710/506424766.py:25: FutureWarning: The frame.append method is deprecated and will be removed from pandas in a future version. Use pandas.concat instead.\n",
      "  results = results.append({'user': user_id, 'Algorithm': algo, 'KL_div': calibration_scores[0], 'JS_div': calibration_scores[1]}, ignore_index=True)\n",
      "/var/folders/8v/cgqpzdls33l6jdsvj3z4fdyh0000gn/T/ipykernel_64710/506424766.py:25: FutureWarning: The frame.append method is deprecated and will be removed from pandas in a future version. Use pandas.concat instead.\n",
      "  results = results.append({'user': user_id, 'Algorithm': algo, 'KL_div': calibration_scores[0], 'JS_div': calibration_scores[1]}, ignore_index=True)\n"
     ]
    },
    {
     "name": "stdout",
     "output_type": "stream",
     "text": [
      "312\n"
     ]
    },
    {
     "name": "stderr",
     "output_type": "stream",
     "text": [
      "/var/folders/8v/cgqpzdls33l6jdsvj3z4fdyh0000gn/T/ipykernel_64710/506424766.py:25: FutureWarning: The frame.append method is deprecated and will be removed from pandas in a future version. Use pandas.concat instead.\n",
      "  results = results.append({'user': user_id, 'Algorithm': algo, 'KL_div': calibration_scores[0], 'JS_div': calibration_scores[1]}, ignore_index=True)\n",
      "/var/folders/8v/cgqpzdls33l6jdsvj3z4fdyh0000gn/T/ipykernel_64710/506424766.py:25: FutureWarning: The frame.append method is deprecated and will be removed from pandas in a future version. Use pandas.concat instead.\n",
      "  results = results.append({'user': user_id, 'Algorithm': algo, 'KL_div': calibration_scores[0], 'JS_div': calibration_scores[1]}, ignore_index=True)\n"
     ]
    },
    {
     "name": "stdout",
     "output_type": "stream",
     "text": [
      "313\n"
     ]
    },
    {
     "name": "stderr",
     "output_type": "stream",
     "text": [
      "/var/folders/8v/cgqpzdls33l6jdsvj3z4fdyh0000gn/T/ipykernel_64710/506424766.py:25: FutureWarning: The frame.append method is deprecated and will be removed from pandas in a future version. Use pandas.concat instead.\n",
      "  results = results.append({'user': user_id, 'Algorithm': algo, 'KL_div': calibration_scores[0], 'JS_div': calibration_scores[1]}, ignore_index=True)\n",
      "/var/folders/8v/cgqpzdls33l6jdsvj3z4fdyh0000gn/T/ipykernel_64710/506424766.py:25: FutureWarning: The frame.append method is deprecated and will be removed from pandas in a future version. Use pandas.concat instead.\n",
      "  results = results.append({'user': user_id, 'Algorithm': algo, 'KL_div': calibration_scores[0], 'JS_div': calibration_scores[1]}, ignore_index=True)\n"
     ]
    },
    {
     "name": "stdout",
     "output_type": "stream",
     "text": [
      "314\n"
     ]
    },
    {
     "name": "stderr",
     "output_type": "stream",
     "text": [
      "/var/folders/8v/cgqpzdls33l6jdsvj3z4fdyh0000gn/T/ipykernel_64710/506424766.py:25: FutureWarning: The frame.append method is deprecated and will be removed from pandas in a future version. Use pandas.concat instead.\n",
      "  results = results.append({'user': user_id, 'Algorithm': algo, 'KL_div': calibration_scores[0], 'JS_div': calibration_scores[1]}, ignore_index=True)\n",
      "/var/folders/8v/cgqpzdls33l6jdsvj3z4fdyh0000gn/T/ipykernel_64710/506424766.py:25: FutureWarning: The frame.append method is deprecated and will be removed from pandas in a future version. Use pandas.concat instead.\n",
      "  results = results.append({'user': user_id, 'Algorithm': algo, 'KL_div': calibration_scores[0], 'JS_div': calibration_scores[1]}, ignore_index=True)\n"
     ]
    },
    {
     "name": "stdout",
     "output_type": "stream",
     "text": [
      "315\n"
     ]
    },
    {
     "name": "stderr",
     "output_type": "stream",
     "text": [
      "/var/folders/8v/cgqpzdls33l6jdsvj3z4fdyh0000gn/T/ipykernel_64710/506424766.py:25: FutureWarning: The frame.append method is deprecated and will be removed from pandas in a future version. Use pandas.concat instead.\n",
      "  results = results.append({'user': user_id, 'Algorithm': algo, 'KL_div': calibration_scores[0], 'JS_div': calibration_scores[1]}, ignore_index=True)\n",
      "/var/folders/8v/cgqpzdls33l6jdsvj3z4fdyh0000gn/T/ipykernel_64710/506424766.py:25: FutureWarning: The frame.append method is deprecated and will be removed from pandas in a future version. Use pandas.concat instead.\n",
      "  results = results.append({'user': user_id, 'Algorithm': algo, 'KL_div': calibration_scores[0], 'JS_div': calibration_scores[1]}, ignore_index=True)\n"
     ]
    },
    {
     "name": "stdout",
     "output_type": "stream",
     "text": [
      "316\n"
     ]
    },
    {
     "name": "stderr",
     "output_type": "stream",
     "text": [
      "/var/folders/8v/cgqpzdls33l6jdsvj3z4fdyh0000gn/T/ipykernel_64710/506424766.py:25: FutureWarning: The frame.append method is deprecated and will be removed from pandas in a future version. Use pandas.concat instead.\n",
      "  results = results.append({'user': user_id, 'Algorithm': algo, 'KL_div': calibration_scores[0], 'JS_div': calibration_scores[1]}, ignore_index=True)\n",
      "/var/folders/8v/cgqpzdls33l6jdsvj3z4fdyh0000gn/T/ipykernel_64710/506424766.py:25: FutureWarning: The frame.append method is deprecated and will be removed from pandas in a future version. Use pandas.concat instead.\n",
      "  results = results.append({'user': user_id, 'Algorithm': algo, 'KL_div': calibration_scores[0], 'JS_div': calibration_scores[1]}, ignore_index=True)\n"
     ]
    },
    {
     "name": "stdout",
     "output_type": "stream",
     "text": [
      "317\n"
     ]
    },
    {
     "name": "stderr",
     "output_type": "stream",
     "text": [
      "/var/folders/8v/cgqpzdls33l6jdsvj3z4fdyh0000gn/T/ipykernel_64710/506424766.py:25: FutureWarning: The frame.append method is deprecated and will be removed from pandas in a future version. Use pandas.concat instead.\n",
      "  results = results.append({'user': user_id, 'Algorithm': algo, 'KL_div': calibration_scores[0], 'JS_div': calibration_scores[1]}, ignore_index=True)\n",
      "/var/folders/8v/cgqpzdls33l6jdsvj3z4fdyh0000gn/T/ipykernel_64710/506424766.py:25: FutureWarning: The frame.append method is deprecated and will be removed from pandas in a future version. Use pandas.concat instead.\n",
      "  results = results.append({'user': user_id, 'Algorithm': algo, 'KL_div': calibration_scores[0], 'JS_div': calibration_scores[1]}, ignore_index=True)\n"
     ]
    },
    {
     "name": "stdout",
     "output_type": "stream",
     "text": [
      "318\n"
     ]
    },
    {
     "name": "stderr",
     "output_type": "stream",
     "text": [
      "/var/folders/8v/cgqpzdls33l6jdsvj3z4fdyh0000gn/T/ipykernel_64710/506424766.py:25: FutureWarning: The frame.append method is deprecated and will be removed from pandas in a future version. Use pandas.concat instead.\n",
      "  results = results.append({'user': user_id, 'Algorithm': algo, 'KL_div': calibration_scores[0], 'JS_div': calibration_scores[1]}, ignore_index=True)\n",
      "/var/folders/8v/cgqpzdls33l6jdsvj3z4fdyh0000gn/T/ipykernel_64710/506424766.py:25: FutureWarning: The frame.append method is deprecated and will be removed from pandas in a future version. Use pandas.concat instead.\n",
      "  results = results.append({'user': user_id, 'Algorithm': algo, 'KL_div': calibration_scores[0], 'JS_div': calibration_scores[1]}, ignore_index=True)\n"
     ]
    },
    {
     "name": "stdout",
     "output_type": "stream",
     "text": [
      "319\n"
     ]
    },
    {
     "name": "stderr",
     "output_type": "stream",
     "text": [
      "/var/folders/8v/cgqpzdls33l6jdsvj3z4fdyh0000gn/T/ipykernel_64710/506424766.py:25: FutureWarning: The frame.append method is deprecated and will be removed from pandas in a future version. Use pandas.concat instead.\n",
      "  results = results.append({'user': user_id, 'Algorithm': algo, 'KL_div': calibration_scores[0], 'JS_div': calibration_scores[1]}, ignore_index=True)\n",
      "/var/folders/8v/cgqpzdls33l6jdsvj3z4fdyh0000gn/T/ipykernel_64710/506424766.py:25: FutureWarning: The frame.append method is deprecated and will be removed from pandas in a future version. Use pandas.concat instead.\n",
      "  results = results.append({'user': user_id, 'Algorithm': algo, 'KL_div': calibration_scores[0], 'JS_div': calibration_scores[1]}, ignore_index=True)\n"
     ]
    },
    {
     "name": "stdout",
     "output_type": "stream",
     "text": [
      "320\n"
     ]
    },
    {
     "name": "stderr",
     "output_type": "stream",
     "text": [
      "/var/folders/8v/cgqpzdls33l6jdsvj3z4fdyh0000gn/T/ipykernel_64710/506424766.py:25: FutureWarning: The frame.append method is deprecated and will be removed from pandas in a future version. Use pandas.concat instead.\n",
      "  results = results.append({'user': user_id, 'Algorithm': algo, 'KL_div': calibration_scores[0], 'JS_div': calibration_scores[1]}, ignore_index=True)\n",
      "/var/folders/8v/cgqpzdls33l6jdsvj3z4fdyh0000gn/T/ipykernel_64710/506424766.py:25: FutureWarning: The frame.append method is deprecated and will be removed from pandas in a future version. Use pandas.concat instead.\n",
      "  results = results.append({'user': user_id, 'Algorithm': algo, 'KL_div': calibration_scores[0], 'JS_div': calibration_scores[1]}, ignore_index=True)\n"
     ]
    },
    {
     "name": "stdout",
     "output_type": "stream",
     "text": [
      "321\n"
     ]
    },
    {
     "name": "stderr",
     "output_type": "stream",
     "text": [
      "/var/folders/8v/cgqpzdls33l6jdsvj3z4fdyh0000gn/T/ipykernel_64710/506424766.py:25: FutureWarning: The frame.append method is deprecated and will be removed from pandas in a future version. Use pandas.concat instead.\n",
      "  results = results.append({'user': user_id, 'Algorithm': algo, 'KL_div': calibration_scores[0], 'JS_div': calibration_scores[1]}, ignore_index=True)\n",
      "/var/folders/8v/cgqpzdls33l6jdsvj3z4fdyh0000gn/T/ipykernel_64710/506424766.py:25: FutureWarning: The frame.append method is deprecated and will be removed from pandas in a future version. Use pandas.concat instead.\n",
      "  results = results.append({'user': user_id, 'Algorithm': algo, 'KL_div': calibration_scores[0], 'JS_div': calibration_scores[1]}, ignore_index=True)\n"
     ]
    },
    {
     "name": "stdout",
     "output_type": "stream",
     "text": [
      "322\n"
     ]
    },
    {
     "name": "stderr",
     "output_type": "stream",
     "text": [
      "/var/folders/8v/cgqpzdls33l6jdsvj3z4fdyh0000gn/T/ipykernel_64710/506424766.py:25: FutureWarning: The frame.append method is deprecated and will be removed from pandas in a future version. Use pandas.concat instead.\n",
      "  results = results.append({'user': user_id, 'Algorithm': algo, 'KL_div': calibration_scores[0], 'JS_div': calibration_scores[1]}, ignore_index=True)\n",
      "/var/folders/8v/cgqpzdls33l6jdsvj3z4fdyh0000gn/T/ipykernel_64710/506424766.py:25: FutureWarning: The frame.append method is deprecated and will be removed from pandas in a future version. Use pandas.concat instead.\n",
      "  results = results.append({'user': user_id, 'Algorithm': algo, 'KL_div': calibration_scores[0], 'JS_div': calibration_scores[1]}, ignore_index=True)\n"
     ]
    },
    {
     "name": "stdout",
     "output_type": "stream",
     "text": [
      "323\n"
     ]
    },
    {
     "name": "stderr",
     "output_type": "stream",
     "text": [
      "/var/folders/8v/cgqpzdls33l6jdsvj3z4fdyh0000gn/T/ipykernel_64710/506424766.py:25: FutureWarning: The frame.append method is deprecated and will be removed from pandas in a future version. Use pandas.concat instead.\n",
      "  results = results.append({'user': user_id, 'Algorithm': algo, 'KL_div': calibration_scores[0], 'JS_div': calibration_scores[1]}, ignore_index=True)\n",
      "/var/folders/8v/cgqpzdls33l6jdsvj3z4fdyh0000gn/T/ipykernel_64710/506424766.py:25: FutureWarning: The frame.append method is deprecated and will be removed from pandas in a future version. Use pandas.concat instead.\n",
      "  results = results.append({'user': user_id, 'Algorithm': algo, 'KL_div': calibration_scores[0], 'JS_div': calibration_scores[1]}, ignore_index=True)\n"
     ]
    },
    {
     "name": "stdout",
     "output_type": "stream",
     "text": [
      "324\n"
     ]
    },
    {
     "name": "stderr",
     "output_type": "stream",
     "text": [
      "/var/folders/8v/cgqpzdls33l6jdsvj3z4fdyh0000gn/T/ipykernel_64710/506424766.py:25: FutureWarning: The frame.append method is deprecated and will be removed from pandas in a future version. Use pandas.concat instead.\n",
      "  results = results.append({'user': user_id, 'Algorithm': algo, 'KL_div': calibration_scores[0], 'JS_div': calibration_scores[1]}, ignore_index=True)\n",
      "/var/folders/8v/cgqpzdls33l6jdsvj3z4fdyh0000gn/T/ipykernel_64710/506424766.py:25: FutureWarning: The frame.append method is deprecated and will be removed from pandas in a future version. Use pandas.concat instead.\n",
      "  results = results.append({'user': user_id, 'Algorithm': algo, 'KL_div': calibration_scores[0], 'JS_div': calibration_scores[1]}, ignore_index=True)\n"
     ]
    },
    {
     "name": "stdout",
     "output_type": "stream",
     "text": [
      "325\n"
     ]
    },
    {
     "name": "stderr",
     "output_type": "stream",
     "text": [
      "/var/folders/8v/cgqpzdls33l6jdsvj3z4fdyh0000gn/T/ipykernel_64710/506424766.py:25: FutureWarning: The frame.append method is deprecated and will be removed from pandas in a future version. Use pandas.concat instead.\n",
      "  results = results.append({'user': user_id, 'Algorithm': algo, 'KL_div': calibration_scores[0], 'JS_div': calibration_scores[1]}, ignore_index=True)\n",
      "/var/folders/8v/cgqpzdls33l6jdsvj3z4fdyh0000gn/T/ipykernel_64710/506424766.py:25: FutureWarning: The frame.append method is deprecated and will be removed from pandas in a future version. Use pandas.concat instead.\n",
      "  results = results.append({'user': user_id, 'Algorithm': algo, 'KL_div': calibration_scores[0], 'JS_div': calibration_scores[1]}, ignore_index=True)\n"
     ]
    },
    {
     "name": "stdout",
     "output_type": "stream",
     "text": [
      "326\n"
     ]
    },
    {
     "name": "stderr",
     "output_type": "stream",
     "text": [
      "/var/folders/8v/cgqpzdls33l6jdsvj3z4fdyh0000gn/T/ipykernel_64710/506424766.py:25: FutureWarning: The frame.append method is deprecated and will be removed from pandas in a future version. Use pandas.concat instead.\n",
      "  results = results.append({'user': user_id, 'Algorithm': algo, 'KL_div': calibration_scores[0], 'JS_div': calibration_scores[1]}, ignore_index=True)\n",
      "/var/folders/8v/cgqpzdls33l6jdsvj3z4fdyh0000gn/T/ipykernel_64710/506424766.py:25: FutureWarning: The frame.append method is deprecated and will be removed from pandas in a future version. Use pandas.concat instead.\n",
      "  results = results.append({'user': user_id, 'Algorithm': algo, 'KL_div': calibration_scores[0], 'JS_div': calibration_scores[1]}, ignore_index=True)\n"
     ]
    },
    {
     "name": "stdout",
     "output_type": "stream",
     "text": [
      "327\n"
     ]
    },
    {
     "name": "stderr",
     "output_type": "stream",
     "text": [
      "/var/folders/8v/cgqpzdls33l6jdsvj3z4fdyh0000gn/T/ipykernel_64710/506424766.py:25: FutureWarning: The frame.append method is deprecated and will be removed from pandas in a future version. Use pandas.concat instead.\n",
      "  results = results.append({'user': user_id, 'Algorithm': algo, 'KL_div': calibration_scores[0], 'JS_div': calibration_scores[1]}, ignore_index=True)\n",
      "/var/folders/8v/cgqpzdls33l6jdsvj3z4fdyh0000gn/T/ipykernel_64710/506424766.py:25: FutureWarning: The frame.append method is deprecated and will be removed from pandas in a future version. Use pandas.concat instead.\n",
      "  results = results.append({'user': user_id, 'Algorithm': algo, 'KL_div': calibration_scores[0], 'JS_div': calibration_scores[1]}, ignore_index=True)\n"
     ]
    },
    {
     "name": "stdout",
     "output_type": "stream",
     "text": [
      "328\n"
     ]
    },
    {
     "name": "stderr",
     "output_type": "stream",
     "text": [
      "/var/folders/8v/cgqpzdls33l6jdsvj3z4fdyh0000gn/T/ipykernel_64710/506424766.py:25: FutureWarning: The frame.append method is deprecated and will be removed from pandas in a future version. Use pandas.concat instead.\n",
      "  results = results.append({'user': user_id, 'Algorithm': algo, 'KL_div': calibration_scores[0], 'JS_div': calibration_scores[1]}, ignore_index=True)\n",
      "/var/folders/8v/cgqpzdls33l6jdsvj3z4fdyh0000gn/T/ipykernel_64710/506424766.py:25: FutureWarning: The frame.append method is deprecated and will be removed from pandas in a future version. Use pandas.concat instead.\n",
      "  results = results.append({'user': user_id, 'Algorithm': algo, 'KL_div': calibration_scores[0], 'JS_div': calibration_scores[1]}, ignore_index=True)\n"
     ]
    },
    {
     "name": "stdout",
     "output_type": "stream",
     "text": [
      "329\n"
     ]
    },
    {
     "name": "stderr",
     "output_type": "stream",
     "text": [
      "/var/folders/8v/cgqpzdls33l6jdsvj3z4fdyh0000gn/T/ipykernel_64710/506424766.py:25: FutureWarning: The frame.append method is deprecated and will be removed from pandas in a future version. Use pandas.concat instead.\n",
      "  results = results.append({'user': user_id, 'Algorithm': algo, 'KL_div': calibration_scores[0], 'JS_div': calibration_scores[1]}, ignore_index=True)\n",
      "/var/folders/8v/cgqpzdls33l6jdsvj3z4fdyh0000gn/T/ipykernel_64710/506424766.py:25: FutureWarning: The frame.append method is deprecated and will be removed from pandas in a future version. Use pandas.concat instead.\n",
      "  results = results.append({'user': user_id, 'Algorithm': algo, 'KL_div': calibration_scores[0], 'JS_div': calibration_scores[1]}, ignore_index=True)\n"
     ]
    },
    {
     "name": "stdout",
     "output_type": "stream",
     "text": [
      "330\n"
     ]
    },
    {
     "name": "stderr",
     "output_type": "stream",
     "text": [
      "/var/folders/8v/cgqpzdls33l6jdsvj3z4fdyh0000gn/T/ipykernel_64710/506424766.py:25: FutureWarning: The frame.append method is deprecated and will be removed from pandas in a future version. Use pandas.concat instead.\n",
      "  results = results.append({'user': user_id, 'Algorithm': algo, 'KL_div': calibration_scores[0], 'JS_div': calibration_scores[1]}, ignore_index=True)\n",
      "/var/folders/8v/cgqpzdls33l6jdsvj3z4fdyh0000gn/T/ipykernel_64710/506424766.py:25: FutureWarning: The frame.append method is deprecated and will be removed from pandas in a future version. Use pandas.concat instead.\n",
      "  results = results.append({'user': user_id, 'Algorithm': algo, 'KL_div': calibration_scores[0], 'JS_div': calibration_scores[1]}, ignore_index=True)\n"
     ]
    },
    {
     "name": "stdout",
     "output_type": "stream",
     "text": [
      "331\n"
     ]
    },
    {
     "name": "stderr",
     "output_type": "stream",
     "text": [
      "/var/folders/8v/cgqpzdls33l6jdsvj3z4fdyh0000gn/T/ipykernel_64710/506424766.py:25: FutureWarning: The frame.append method is deprecated and will be removed from pandas in a future version. Use pandas.concat instead.\n",
      "  results = results.append({'user': user_id, 'Algorithm': algo, 'KL_div': calibration_scores[0], 'JS_div': calibration_scores[1]}, ignore_index=True)\n",
      "/var/folders/8v/cgqpzdls33l6jdsvj3z4fdyh0000gn/T/ipykernel_64710/506424766.py:25: FutureWarning: The frame.append method is deprecated and will be removed from pandas in a future version. Use pandas.concat instead.\n",
      "  results = results.append({'user': user_id, 'Algorithm': algo, 'KL_div': calibration_scores[0], 'JS_div': calibration_scores[1]}, ignore_index=True)\n"
     ]
    },
    {
     "name": "stdout",
     "output_type": "stream",
     "text": [
      "332\n"
     ]
    },
    {
     "name": "stderr",
     "output_type": "stream",
     "text": [
      "/var/folders/8v/cgqpzdls33l6jdsvj3z4fdyh0000gn/T/ipykernel_64710/506424766.py:25: FutureWarning: The frame.append method is deprecated and will be removed from pandas in a future version. Use pandas.concat instead.\n",
      "  results = results.append({'user': user_id, 'Algorithm': algo, 'KL_div': calibration_scores[0], 'JS_div': calibration_scores[1]}, ignore_index=True)\n",
      "/var/folders/8v/cgqpzdls33l6jdsvj3z4fdyh0000gn/T/ipykernel_64710/506424766.py:25: FutureWarning: The frame.append method is deprecated and will be removed from pandas in a future version. Use pandas.concat instead.\n",
      "  results = results.append({'user': user_id, 'Algorithm': algo, 'KL_div': calibration_scores[0], 'JS_div': calibration_scores[1]}, ignore_index=True)\n"
     ]
    },
    {
     "name": "stdout",
     "output_type": "stream",
     "text": [
      "333\n"
     ]
    },
    {
     "name": "stderr",
     "output_type": "stream",
     "text": [
      "/var/folders/8v/cgqpzdls33l6jdsvj3z4fdyh0000gn/T/ipykernel_64710/506424766.py:25: FutureWarning: The frame.append method is deprecated and will be removed from pandas in a future version. Use pandas.concat instead.\n",
      "  results = results.append({'user': user_id, 'Algorithm': algo, 'KL_div': calibration_scores[0], 'JS_div': calibration_scores[1]}, ignore_index=True)\n",
      "/var/folders/8v/cgqpzdls33l6jdsvj3z4fdyh0000gn/T/ipykernel_64710/506424766.py:25: FutureWarning: The frame.append method is deprecated and will be removed from pandas in a future version. Use pandas.concat instead.\n",
      "  results = results.append({'user': user_id, 'Algorithm': algo, 'KL_div': calibration_scores[0], 'JS_div': calibration_scores[1]}, ignore_index=True)\n"
     ]
    },
    {
     "name": "stdout",
     "output_type": "stream",
     "text": [
      "334\n"
     ]
    },
    {
     "name": "stderr",
     "output_type": "stream",
     "text": [
      "/var/folders/8v/cgqpzdls33l6jdsvj3z4fdyh0000gn/T/ipykernel_64710/506424766.py:25: FutureWarning: The frame.append method is deprecated and will be removed from pandas in a future version. Use pandas.concat instead.\n",
      "  results = results.append({'user': user_id, 'Algorithm': algo, 'KL_div': calibration_scores[0], 'JS_div': calibration_scores[1]}, ignore_index=True)\n",
      "/var/folders/8v/cgqpzdls33l6jdsvj3z4fdyh0000gn/T/ipykernel_64710/506424766.py:25: FutureWarning: The frame.append method is deprecated and will be removed from pandas in a future version. Use pandas.concat instead.\n",
      "  results = results.append({'user': user_id, 'Algorithm': algo, 'KL_div': calibration_scores[0], 'JS_div': calibration_scores[1]}, ignore_index=True)\n"
     ]
    },
    {
     "name": "stdout",
     "output_type": "stream",
     "text": [
      "335\n"
     ]
    },
    {
     "name": "stderr",
     "output_type": "stream",
     "text": [
      "/var/folders/8v/cgqpzdls33l6jdsvj3z4fdyh0000gn/T/ipykernel_64710/506424766.py:25: FutureWarning: The frame.append method is deprecated and will be removed from pandas in a future version. Use pandas.concat instead.\n",
      "  results = results.append({'user': user_id, 'Algorithm': algo, 'KL_div': calibration_scores[0], 'JS_div': calibration_scores[1]}, ignore_index=True)\n",
      "/var/folders/8v/cgqpzdls33l6jdsvj3z4fdyh0000gn/T/ipykernel_64710/506424766.py:25: FutureWarning: The frame.append method is deprecated and will be removed from pandas in a future version. Use pandas.concat instead.\n",
      "  results = results.append({'user': user_id, 'Algorithm': algo, 'KL_div': calibration_scores[0], 'JS_div': calibration_scores[1]}, ignore_index=True)\n"
     ]
    },
    {
     "name": "stdout",
     "output_type": "stream",
     "text": [
      "336\n"
     ]
    },
    {
     "name": "stderr",
     "output_type": "stream",
     "text": [
      "/var/folders/8v/cgqpzdls33l6jdsvj3z4fdyh0000gn/T/ipykernel_64710/506424766.py:25: FutureWarning: The frame.append method is deprecated and will be removed from pandas in a future version. Use pandas.concat instead.\n",
      "  results = results.append({'user': user_id, 'Algorithm': algo, 'KL_div': calibration_scores[0], 'JS_div': calibration_scores[1]}, ignore_index=True)\n",
      "/var/folders/8v/cgqpzdls33l6jdsvj3z4fdyh0000gn/T/ipykernel_64710/506424766.py:25: FutureWarning: The frame.append method is deprecated and will be removed from pandas in a future version. Use pandas.concat instead.\n",
      "  results = results.append({'user': user_id, 'Algorithm': algo, 'KL_div': calibration_scores[0], 'JS_div': calibration_scores[1]}, ignore_index=True)\n"
     ]
    },
    {
     "name": "stdout",
     "output_type": "stream",
     "text": [
      "337\n"
     ]
    },
    {
     "name": "stderr",
     "output_type": "stream",
     "text": [
      "/var/folders/8v/cgqpzdls33l6jdsvj3z4fdyh0000gn/T/ipykernel_64710/506424766.py:25: FutureWarning: The frame.append method is deprecated and will be removed from pandas in a future version. Use pandas.concat instead.\n",
      "  results = results.append({'user': user_id, 'Algorithm': algo, 'KL_div': calibration_scores[0], 'JS_div': calibration_scores[1]}, ignore_index=True)\n",
      "/var/folders/8v/cgqpzdls33l6jdsvj3z4fdyh0000gn/T/ipykernel_64710/506424766.py:25: FutureWarning: The frame.append method is deprecated and will be removed from pandas in a future version. Use pandas.concat instead.\n",
      "  results = results.append({'user': user_id, 'Algorithm': algo, 'KL_div': calibration_scores[0], 'JS_div': calibration_scores[1]}, ignore_index=True)\n"
     ]
    },
    {
     "name": "stdout",
     "output_type": "stream",
     "text": [
      "338\n"
     ]
    },
    {
     "name": "stderr",
     "output_type": "stream",
     "text": [
      "/var/folders/8v/cgqpzdls33l6jdsvj3z4fdyh0000gn/T/ipykernel_64710/506424766.py:25: FutureWarning: The frame.append method is deprecated and will be removed from pandas in a future version. Use pandas.concat instead.\n",
      "  results = results.append({'user': user_id, 'Algorithm': algo, 'KL_div': calibration_scores[0], 'JS_div': calibration_scores[1]}, ignore_index=True)\n",
      "/var/folders/8v/cgqpzdls33l6jdsvj3z4fdyh0000gn/T/ipykernel_64710/506424766.py:25: FutureWarning: The frame.append method is deprecated and will be removed from pandas in a future version. Use pandas.concat instead.\n",
      "  results = results.append({'user': user_id, 'Algorithm': algo, 'KL_div': calibration_scores[0], 'JS_div': calibration_scores[1]}, ignore_index=True)\n"
     ]
    },
    {
     "name": "stdout",
     "output_type": "stream",
     "text": [
      "339\n"
     ]
    },
    {
     "name": "stderr",
     "output_type": "stream",
     "text": [
      "/var/folders/8v/cgqpzdls33l6jdsvj3z4fdyh0000gn/T/ipykernel_64710/506424766.py:25: FutureWarning: The frame.append method is deprecated and will be removed from pandas in a future version. Use pandas.concat instead.\n",
      "  results = results.append({'user': user_id, 'Algorithm': algo, 'KL_div': calibration_scores[0], 'JS_div': calibration_scores[1]}, ignore_index=True)\n",
      "/var/folders/8v/cgqpzdls33l6jdsvj3z4fdyh0000gn/T/ipykernel_64710/506424766.py:25: FutureWarning: The frame.append method is deprecated and will be removed from pandas in a future version. Use pandas.concat instead.\n",
      "  results = results.append({'user': user_id, 'Algorithm': algo, 'KL_div': calibration_scores[0], 'JS_div': calibration_scores[1]}, ignore_index=True)\n"
     ]
    },
    {
     "name": "stdout",
     "output_type": "stream",
     "text": [
      "340\n"
     ]
    },
    {
     "name": "stderr",
     "output_type": "stream",
     "text": [
      "/var/folders/8v/cgqpzdls33l6jdsvj3z4fdyh0000gn/T/ipykernel_64710/506424766.py:25: FutureWarning: The frame.append method is deprecated and will be removed from pandas in a future version. Use pandas.concat instead.\n",
      "  results = results.append({'user': user_id, 'Algorithm': algo, 'KL_div': calibration_scores[0], 'JS_div': calibration_scores[1]}, ignore_index=True)\n",
      "/var/folders/8v/cgqpzdls33l6jdsvj3z4fdyh0000gn/T/ipykernel_64710/506424766.py:25: FutureWarning: The frame.append method is deprecated and will be removed from pandas in a future version. Use pandas.concat instead.\n",
      "  results = results.append({'user': user_id, 'Algorithm': algo, 'KL_div': calibration_scores[0], 'JS_div': calibration_scores[1]}, ignore_index=True)\n"
     ]
    },
    {
     "name": "stdout",
     "output_type": "stream",
     "text": [
      "341\n"
     ]
    },
    {
     "name": "stderr",
     "output_type": "stream",
     "text": [
      "/var/folders/8v/cgqpzdls33l6jdsvj3z4fdyh0000gn/T/ipykernel_64710/506424766.py:25: FutureWarning: The frame.append method is deprecated and will be removed from pandas in a future version. Use pandas.concat instead.\n",
      "  results = results.append({'user': user_id, 'Algorithm': algo, 'KL_div': calibration_scores[0], 'JS_div': calibration_scores[1]}, ignore_index=True)\n",
      "/var/folders/8v/cgqpzdls33l6jdsvj3z4fdyh0000gn/T/ipykernel_64710/506424766.py:25: FutureWarning: The frame.append method is deprecated and will be removed from pandas in a future version. Use pandas.concat instead.\n",
      "  results = results.append({'user': user_id, 'Algorithm': algo, 'KL_div': calibration_scores[0], 'JS_div': calibration_scores[1]}, ignore_index=True)\n"
     ]
    },
    {
     "name": "stdout",
     "output_type": "stream",
     "text": [
      "342\n"
     ]
    },
    {
     "name": "stderr",
     "output_type": "stream",
     "text": [
      "/var/folders/8v/cgqpzdls33l6jdsvj3z4fdyh0000gn/T/ipykernel_64710/506424766.py:25: FutureWarning: The frame.append method is deprecated and will be removed from pandas in a future version. Use pandas.concat instead.\n",
      "  results = results.append({'user': user_id, 'Algorithm': algo, 'KL_div': calibration_scores[0], 'JS_div': calibration_scores[1]}, ignore_index=True)\n",
      "/var/folders/8v/cgqpzdls33l6jdsvj3z4fdyh0000gn/T/ipykernel_64710/506424766.py:25: FutureWarning: The frame.append method is deprecated and will be removed from pandas in a future version. Use pandas.concat instead.\n",
      "  results = results.append({'user': user_id, 'Algorithm': algo, 'KL_div': calibration_scores[0], 'JS_div': calibration_scores[1]}, ignore_index=True)\n"
     ]
    },
    {
     "name": "stdout",
     "output_type": "stream",
     "text": [
      "343\n"
     ]
    },
    {
     "name": "stderr",
     "output_type": "stream",
     "text": [
      "/var/folders/8v/cgqpzdls33l6jdsvj3z4fdyh0000gn/T/ipykernel_64710/506424766.py:25: FutureWarning: The frame.append method is deprecated and will be removed from pandas in a future version. Use pandas.concat instead.\n",
      "  results = results.append({'user': user_id, 'Algorithm': algo, 'KL_div': calibration_scores[0], 'JS_div': calibration_scores[1]}, ignore_index=True)\n",
      "/var/folders/8v/cgqpzdls33l6jdsvj3z4fdyh0000gn/T/ipykernel_64710/506424766.py:25: FutureWarning: The frame.append method is deprecated and will be removed from pandas in a future version. Use pandas.concat instead.\n",
      "  results = results.append({'user': user_id, 'Algorithm': algo, 'KL_div': calibration_scores[0], 'JS_div': calibration_scores[1]}, ignore_index=True)\n"
     ]
    },
    {
     "name": "stdout",
     "output_type": "stream",
     "text": [
      "344\n"
     ]
    },
    {
     "name": "stderr",
     "output_type": "stream",
     "text": [
      "/var/folders/8v/cgqpzdls33l6jdsvj3z4fdyh0000gn/T/ipykernel_64710/506424766.py:25: FutureWarning: The frame.append method is deprecated and will be removed from pandas in a future version. Use pandas.concat instead.\n",
      "  results = results.append({'user': user_id, 'Algorithm': algo, 'KL_div': calibration_scores[0], 'JS_div': calibration_scores[1]}, ignore_index=True)\n",
      "/var/folders/8v/cgqpzdls33l6jdsvj3z4fdyh0000gn/T/ipykernel_64710/506424766.py:25: FutureWarning: The frame.append method is deprecated and will be removed from pandas in a future version. Use pandas.concat instead.\n",
      "  results = results.append({'user': user_id, 'Algorithm': algo, 'KL_div': calibration_scores[0], 'JS_div': calibration_scores[1]}, ignore_index=True)\n"
     ]
    },
    {
     "name": "stdout",
     "output_type": "stream",
     "text": [
      "345\n"
     ]
    },
    {
     "name": "stderr",
     "output_type": "stream",
     "text": [
      "/var/folders/8v/cgqpzdls33l6jdsvj3z4fdyh0000gn/T/ipykernel_64710/506424766.py:25: FutureWarning: The frame.append method is deprecated and will be removed from pandas in a future version. Use pandas.concat instead.\n",
      "  results = results.append({'user': user_id, 'Algorithm': algo, 'KL_div': calibration_scores[0], 'JS_div': calibration_scores[1]}, ignore_index=True)\n",
      "/var/folders/8v/cgqpzdls33l6jdsvj3z4fdyh0000gn/T/ipykernel_64710/506424766.py:25: FutureWarning: The frame.append method is deprecated and will be removed from pandas in a future version. Use pandas.concat instead.\n",
      "  results = results.append({'user': user_id, 'Algorithm': algo, 'KL_div': calibration_scores[0], 'JS_div': calibration_scores[1]}, ignore_index=True)\n"
     ]
    },
    {
     "name": "stdout",
     "output_type": "stream",
     "text": [
      "346\n"
     ]
    },
    {
     "name": "stderr",
     "output_type": "stream",
     "text": [
      "/var/folders/8v/cgqpzdls33l6jdsvj3z4fdyh0000gn/T/ipykernel_64710/506424766.py:25: FutureWarning: The frame.append method is deprecated and will be removed from pandas in a future version. Use pandas.concat instead.\n",
      "  results = results.append({'user': user_id, 'Algorithm': algo, 'KL_div': calibration_scores[0], 'JS_div': calibration_scores[1]}, ignore_index=True)\n",
      "/var/folders/8v/cgqpzdls33l6jdsvj3z4fdyh0000gn/T/ipykernel_64710/506424766.py:25: FutureWarning: The frame.append method is deprecated and will be removed from pandas in a future version. Use pandas.concat instead.\n",
      "  results = results.append({'user': user_id, 'Algorithm': algo, 'KL_div': calibration_scores[0], 'JS_div': calibration_scores[1]}, ignore_index=True)\n"
     ]
    },
    {
     "name": "stdout",
     "output_type": "stream",
     "text": [
      "347\n"
     ]
    },
    {
     "name": "stderr",
     "output_type": "stream",
     "text": [
      "/var/folders/8v/cgqpzdls33l6jdsvj3z4fdyh0000gn/T/ipykernel_64710/506424766.py:25: FutureWarning: The frame.append method is deprecated and will be removed from pandas in a future version. Use pandas.concat instead.\n",
      "  results = results.append({'user': user_id, 'Algorithm': algo, 'KL_div': calibration_scores[0], 'JS_div': calibration_scores[1]}, ignore_index=True)\n",
      "/var/folders/8v/cgqpzdls33l6jdsvj3z4fdyh0000gn/T/ipykernel_64710/506424766.py:25: FutureWarning: The frame.append method is deprecated and will be removed from pandas in a future version. Use pandas.concat instead.\n",
      "  results = results.append({'user': user_id, 'Algorithm': algo, 'KL_div': calibration_scores[0], 'JS_div': calibration_scores[1]}, ignore_index=True)\n"
     ]
    },
    {
     "name": "stdout",
     "output_type": "stream",
     "text": [
      "348\n"
     ]
    },
    {
     "name": "stderr",
     "output_type": "stream",
     "text": [
      "/var/folders/8v/cgqpzdls33l6jdsvj3z4fdyh0000gn/T/ipykernel_64710/506424766.py:25: FutureWarning: The frame.append method is deprecated and will be removed from pandas in a future version. Use pandas.concat instead.\n",
      "  results = results.append({'user': user_id, 'Algorithm': algo, 'KL_div': calibration_scores[0], 'JS_div': calibration_scores[1]}, ignore_index=True)\n",
      "/var/folders/8v/cgqpzdls33l6jdsvj3z4fdyh0000gn/T/ipykernel_64710/506424766.py:25: FutureWarning: The frame.append method is deprecated and will be removed from pandas in a future version. Use pandas.concat instead.\n",
      "  results = results.append({'user': user_id, 'Algorithm': algo, 'KL_div': calibration_scores[0], 'JS_div': calibration_scores[1]}, ignore_index=True)\n"
     ]
    },
    {
     "name": "stdout",
     "output_type": "stream",
     "text": [
      "349\n"
     ]
    },
    {
     "name": "stderr",
     "output_type": "stream",
     "text": [
      "/var/folders/8v/cgqpzdls33l6jdsvj3z4fdyh0000gn/T/ipykernel_64710/506424766.py:25: FutureWarning: The frame.append method is deprecated and will be removed from pandas in a future version. Use pandas.concat instead.\n",
      "  results = results.append({'user': user_id, 'Algorithm': algo, 'KL_div': calibration_scores[0], 'JS_div': calibration_scores[1]}, ignore_index=True)\n",
      "/var/folders/8v/cgqpzdls33l6jdsvj3z4fdyh0000gn/T/ipykernel_64710/506424766.py:25: FutureWarning: The frame.append method is deprecated and will be removed from pandas in a future version. Use pandas.concat instead.\n",
      "  results = results.append({'user': user_id, 'Algorithm': algo, 'KL_div': calibration_scores[0], 'JS_div': calibration_scores[1]}, ignore_index=True)\n"
     ]
    },
    {
     "name": "stdout",
     "output_type": "stream",
     "text": [
      "350\n"
     ]
    },
    {
     "name": "stderr",
     "output_type": "stream",
     "text": [
      "/var/folders/8v/cgqpzdls33l6jdsvj3z4fdyh0000gn/T/ipykernel_64710/506424766.py:25: FutureWarning: The frame.append method is deprecated and will be removed from pandas in a future version. Use pandas.concat instead.\n",
      "  results = results.append({'user': user_id, 'Algorithm': algo, 'KL_div': calibration_scores[0], 'JS_div': calibration_scores[1]}, ignore_index=True)\n",
      "/var/folders/8v/cgqpzdls33l6jdsvj3z4fdyh0000gn/T/ipykernel_64710/506424766.py:25: FutureWarning: The frame.append method is deprecated and will be removed from pandas in a future version. Use pandas.concat instead.\n",
      "  results = results.append({'user': user_id, 'Algorithm': algo, 'KL_div': calibration_scores[0], 'JS_div': calibration_scores[1]}, ignore_index=True)\n"
     ]
    },
    {
     "name": "stdout",
     "output_type": "stream",
     "text": [
      "351\n"
     ]
    },
    {
     "name": "stderr",
     "output_type": "stream",
     "text": [
      "/var/folders/8v/cgqpzdls33l6jdsvj3z4fdyh0000gn/T/ipykernel_64710/506424766.py:25: FutureWarning: The frame.append method is deprecated and will be removed from pandas in a future version. Use pandas.concat instead.\n",
      "  results = results.append({'user': user_id, 'Algorithm': algo, 'KL_div': calibration_scores[0], 'JS_div': calibration_scores[1]}, ignore_index=True)\n",
      "/var/folders/8v/cgqpzdls33l6jdsvj3z4fdyh0000gn/T/ipykernel_64710/506424766.py:25: FutureWarning: The frame.append method is deprecated and will be removed from pandas in a future version. Use pandas.concat instead.\n",
      "  results = results.append({'user': user_id, 'Algorithm': algo, 'KL_div': calibration_scores[0], 'JS_div': calibration_scores[1]}, ignore_index=True)\n"
     ]
    },
    {
     "name": "stdout",
     "output_type": "stream",
     "text": [
      "352\n"
     ]
    },
    {
     "name": "stderr",
     "output_type": "stream",
     "text": [
      "/var/folders/8v/cgqpzdls33l6jdsvj3z4fdyh0000gn/T/ipykernel_64710/506424766.py:25: FutureWarning: The frame.append method is deprecated and will be removed from pandas in a future version. Use pandas.concat instead.\n",
      "  results = results.append({'user': user_id, 'Algorithm': algo, 'KL_div': calibration_scores[0], 'JS_div': calibration_scores[1]}, ignore_index=True)\n",
      "/var/folders/8v/cgqpzdls33l6jdsvj3z4fdyh0000gn/T/ipykernel_64710/506424766.py:25: FutureWarning: The frame.append method is deprecated and will be removed from pandas in a future version. Use pandas.concat instead.\n",
      "  results = results.append({'user': user_id, 'Algorithm': algo, 'KL_div': calibration_scores[0], 'JS_div': calibration_scores[1]}, ignore_index=True)\n"
     ]
    },
    {
     "name": "stdout",
     "output_type": "stream",
     "text": [
      "353\n"
     ]
    },
    {
     "name": "stderr",
     "output_type": "stream",
     "text": [
      "/var/folders/8v/cgqpzdls33l6jdsvj3z4fdyh0000gn/T/ipykernel_64710/506424766.py:25: FutureWarning: The frame.append method is deprecated and will be removed from pandas in a future version. Use pandas.concat instead.\n",
      "  results = results.append({'user': user_id, 'Algorithm': algo, 'KL_div': calibration_scores[0], 'JS_div': calibration_scores[1]}, ignore_index=True)\n",
      "/var/folders/8v/cgqpzdls33l6jdsvj3z4fdyh0000gn/T/ipykernel_64710/506424766.py:25: FutureWarning: The frame.append method is deprecated and will be removed from pandas in a future version. Use pandas.concat instead.\n",
      "  results = results.append({'user': user_id, 'Algorithm': algo, 'KL_div': calibration_scores[0], 'JS_div': calibration_scores[1]}, ignore_index=True)\n"
     ]
    },
    {
     "name": "stdout",
     "output_type": "stream",
     "text": [
      "354\n"
     ]
    },
    {
     "name": "stderr",
     "output_type": "stream",
     "text": [
      "/var/folders/8v/cgqpzdls33l6jdsvj3z4fdyh0000gn/T/ipykernel_64710/506424766.py:25: FutureWarning: The frame.append method is deprecated and will be removed from pandas in a future version. Use pandas.concat instead.\n",
      "  results = results.append({'user': user_id, 'Algorithm': algo, 'KL_div': calibration_scores[0], 'JS_div': calibration_scores[1]}, ignore_index=True)\n",
      "/var/folders/8v/cgqpzdls33l6jdsvj3z4fdyh0000gn/T/ipykernel_64710/506424766.py:25: FutureWarning: The frame.append method is deprecated and will be removed from pandas in a future version. Use pandas.concat instead.\n",
      "  results = results.append({'user': user_id, 'Algorithm': algo, 'KL_div': calibration_scores[0], 'JS_div': calibration_scores[1]}, ignore_index=True)\n"
     ]
    },
    {
     "name": "stdout",
     "output_type": "stream",
     "text": [
      "355\n"
     ]
    },
    {
     "name": "stderr",
     "output_type": "stream",
     "text": [
      "/var/folders/8v/cgqpzdls33l6jdsvj3z4fdyh0000gn/T/ipykernel_64710/506424766.py:25: FutureWarning: The frame.append method is deprecated and will be removed from pandas in a future version. Use pandas.concat instead.\n",
      "  results = results.append({'user': user_id, 'Algorithm': algo, 'KL_div': calibration_scores[0], 'JS_div': calibration_scores[1]}, ignore_index=True)\n",
      "/var/folders/8v/cgqpzdls33l6jdsvj3z4fdyh0000gn/T/ipykernel_64710/506424766.py:25: FutureWarning: The frame.append method is deprecated and will be removed from pandas in a future version. Use pandas.concat instead.\n",
      "  results = results.append({'user': user_id, 'Algorithm': algo, 'KL_div': calibration_scores[0], 'JS_div': calibration_scores[1]}, ignore_index=True)\n"
     ]
    },
    {
     "name": "stdout",
     "output_type": "stream",
     "text": [
      "356\n"
     ]
    },
    {
     "name": "stderr",
     "output_type": "stream",
     "text": [
      "/var/folders/8v/cgqpzdls33l6jdsvj3z4fdyh0000gn/T/ipykernel_64710/506424766.py:25: FutureWarning: The frame.append method is deprecated and will be removed from pandas in a future version. Use pandas.concat instead.\n",
      "  results = results.append({'user': user_id, 'Algorithm': algo, 'KL_div': calibration_scores[0], 'JS_div': calibration_scores[1]}, ignore_index=True)\n",
      "/var/folders/8v/cgqpzdls33l6jdsvj3z4fdyh0000gn/T/ipykernel_64710/506424766.py:25: FutureWarning: The frame.append method is deprecated and will be removed from pandas in a future version. Use pandas.concat instead.\n",
      "  results = results.append({'user': user_id, 'Algorithm': algo, 'KL_div': calibration_scores[0], 'JS_div': calibration_scores[1]}, ignore_index=True)\n"
     ]
    },
    {
     "name": "stdout",
     "output_type": "stream",
     "text": [
      "357\n"
     ]
    },
    {
     "name": "stderr",
     "output_type": "stream",
     "text": [
      "/var/folders/8v/cgqpzdls33l6jdsvj3z4fdyh0000gn/T/ipykernel_64710/506424766.py:25: FutureWarning: The frame.append method is deprecated and will be removed from pandas in a future version. Use pandas.concat instead.\n",
      "  results = results.append({'user': user_id, 'Algorithm': algo, 'KL_div': calibration_scores[0], 'JS_div': calibration_scores[1]}, ignore_index=True)\n",
      "/var/folders/8v/cgqpzdls33l6jdsvj3z4fdyh0000gn/T/ipykernel_64710/506424766.py:25: FutureWarning: The frame.append method is deprecated and will be removed from pandas in a future version. Use pandas.concat instead.\n",
      "  results = results.append({'user': user_id, 'Algorithm': algo, 'KL_div': calibration_scores[0], 'JS_div': calibration_scores[1]}, ignore_index=True)\n"
     ]
    },
    {
     "name": "stdout",
     "output_type": "stream",
     "text": [
      "358\n"
     ]
    },
    {
     "name": "stderr",
     "output_type": "stream",
     "text": [
      "/var/folders/8v/cgqpzdls33l6jdsvj3z4fdyh0000gn/T/ipykernel_64710/506424766.py:25: FutureWarning: The frame.append method is deprecated and will be removed from pandas in a future version. Use pandas.concat instead.\n",
      "  results = results.append({'user': user_id, 'Algorithm': algo, 'KL_div': calibration_scores[0], 'JS_div': calibration_scores[1]}, ignore_index=True)\n",
      "/var/folders/8v/cgqpzdls33l6jdsvj3z4fdyh0000gn/T/ipykernel_64710/506424766.py:25: FutureWarning: The frame.append method is deprecated and will be removed from pandas in a future version. Use pandas.concat instead.\n",
      "  results = results.append({'user': user_id, 'Algorithm': algo, 'KL_div': calibration_scores[0], 'JS_div': calibration_scores[1]}, ignore_index=True)\n"
     ]
    },
    {
     "name": "stdout",
     "output_type": "stream",
     "text": [
      "359\n"
     ]
    },
    {
     "name": "stderr",
     "output_type": "stream",
     "text": [
      "/var/folders/8v/cgqpzdls33l6jdsvj3z4fdyh0000gn/T/ipykernel_64710/506424766.py:25: FutureWarning: The frame.append method is deprecated and will be removed from pandas in a future version. Use pandas.concat instead.\n",
      "  results = results.append({'user': user_id, 'Algorithm': algo, 'KL_div': calibration_scores[0], 'JS_div': calibration_scores[1]}, ignore_index=True)\n",
      "/var/folders/8v/cgqpzdls33l6jdsvj3z4fdyh0000gn/T/ipykernel_64710/506424766.py:25: FutureWarning: The frame.append method is deprecated and will be removed from pandas in a future version. Use pandas.concat instead.\n",
      "  results = results.append({'user': user_id, 'Algorithm': algo, 'KL_div': calibration_scores[0], 'JS_div': calibration_scores[1]}, ignore_index=True)\n"
     ]
    },
    {
     "name": "stdout",
     "output_type": "stream",
     "text": [
      "360\n"
     ]
    },
    {
     "name": "stderr",
     "output_type": "stream",
     "text": [
      "/var/folders/8v/cgqpzdls33l6jdsvj3z4fdyh0000gn/T/ipykernel_64710/506424766.py:25: FutureWarning: The frame.append method is deprecated and will be removed from pandas in a future version. Use pandas.concat instead.\n",
      "  results = results.append({'user': user_id, 'Algorithm': algo, 'KL_div': calibration_scores[0], 'JS_div': calibration_scores[1]}, ignore_index=True)\n",
      "/var/folders/8v/cgqpzdls33l6jdsvj3z4fdyh0000gn/T/ipykernel_64710/506424766.py:25: FutureWarning: The frame.append method is deprecated and will be removed from pandas in a future version. Use pandas.concat instead.\n",
      "  results = results.append({'user': user_id, 'Algorithm': algo, 'KL_div': calibration_scores[0], 'JS_div': calibration_scores[1]}, ignore_index=True)\n"
     ]
    },
    {
     "name": "stdout",
     "output_type": "stream",
     "text": [
      "361\n"
     ]
    },
    {
     "name": "stderr",
     "output_type": "stream",
     "text": [
      "/var/folders/8v/cgqpzdls33l6jdsvj3z4fdyh0000gn/T/ipykernel_64710/506424766.py:25: FutureWarning: The frame.append method is deprecated and will be removed from pandas in a future version. Use pandas.concat instead.\n",
      "  results = results.append({'user': user_id, 'Algorithm': algo, 'KL_div': calibration_scores[0], 'JS_div': calibration_scores[1]}, ignore_index=True)\n",
      "/var/folders/8v/cgqpzdls33l6jdsvj3z4fdyh0000gn/T/ipykernel_64710/506424766.py:25: FutureWarning: The frame.append method is deprecated and will be removed from pandas in a future version. Use pandas.concat instead.\n",
      "  results = results.append({'user': user_id, 'Algorithm': algo, 'KL_div': calibration_scores[0], 'JS_div': calibration_scores[1]}, ignore_index=True)\n"
     ]
    },
    {
     "name": "stdout",
     "output_type": "stream",
     "text": [
      "362\n"
     ]
    },
    {
     "name": "stderr",
     "output_type": "stream",
     "text": [
      "/var/folders/8v/cgqpzdls33l6jdsvj3z4fdyh0000gn/T/ipykernel_64710/506424766.py:25: FutureWarning: The frame.append method is deprecated and will be removed from pandas in a future version. Use pandas.concat instead.\n",
      "  results = results.append({'user': user_id, 'Algorithm': algo, 'KL_div': calibration_scores[0], 'JS_div': calibration_scores[1]}, ignore_index=True)\n",
      "/var/folders/8v/cgqpzdls33l6jdsvj3z4fdyh0000gn/T/ipykernel_64710/506424766.py:25: FutureWarning: The frame.append method is deprecated and will be removed from pandas in a future version. Use pandas.concat instead.\n",
      "  results = results.append({'user': user_id, 'Algorithm': algo, 'KL_div': calibration_scores[0], 'JS_div': calibration_scores[1]}, ignore_index=True)\n"
     ]
    },
    {
     "name": "stdout",
     "output_type": "stream",
     "text": [
      "363\n"
     ]
    },
    {
     "name": "stderr",
     "output_type": "stream",
     "text": [
      "/var/folders/8v/cgqpzdls33l6jdsvj3z4fdyh0000gn/T/ipykernel_64710/506424766.py:25: FutureWarning: The frame.append method is deprecated and will be removed from pandas in a future version. Use pandas.concat instead.\n",
      "  results = results.append({'user': user_id, 'Algorithm': algo, 'KL_div': calibration_scores[0], 'JS_div': calibration_scores[1]}, ignore_index=True)\n",
      "/var/folders/8v/cgqpzdls33l6jdsvj3z4fdyh0000gn/T/ipykernel_64710/506424766.py:25: FutureWarning: The frame.append method is deprecated and will be removed from pandas in a future version. Use pandas.concat instead.\n",
      "  results = results.append({'user': user_id, 'Algorithm': algo, 'KL_div': calibration_scores[0], 'JS_div': calibration_scores[1]}, ignore_index=True)\n"
     ]
    },
    {
     "name": "stdout",
     "output_type": "stream",
     "text": [
      "364\n"
     ]
    },
    {
     "name": "stderr",
     "output_type": "stream",
     "text": [
      "/var/folders/8v/cgqpzdls33l6jdsvj3z4fdyh0000gn/T/ipykernel_64710/506424766.py:25: FutureWarning: The frame.append method is deprecated and will be removed from pandas in a future version. Use pandas.concat instead.\n",
      "  results = results.append({'user': user_id, 'Algorithm': algo, 'KL_div': calibration_scores[0], 'JS_div': calibration_scores[1]}, ignore_index=True)\n",
      "/var/folders/8v/cgqpzdls33l6jdsvj3z4fdyh0000gn/T/ipykernel_64710/506424766.py:25: FutureWarning: The frame.append method is deprecated and will be removed from pandas in a future version. Use pandas.concat instead.\n",
      "  results = results.append({'user': user_id, 'Algorithm': algo, 'KL_div': calibration_scores[0], 'JS_div': calibration_scores[1]}, ignore_index=True)\n"
     ]
    },
    {
     "name": "stdout",
     "output_type": "stream",
     "text": [
      "365\n"
     ]
    },
    {
     "name": "stderr",
     "output_type": "stream",
     "text": [
      "/var/folders/8v/cgqpzdls33l6jdsvj3z4fdyh0000gn/T/ipykernel_64710/506424766.py:25: FutureWarning: The frame.append method is deprecated and will be removed from pandas in a future version. Use pandas.concat instead.\n",
      "  results = results.append({'user': user_id, 'Algorithm': algo, 'KL_div': calibration_scores[0], 'JS_div': calibration_scores[1]}, ignore_index=True)\n",
      "/var/folders/8v/cgqpzdls33l6jdsvj3z4fdyh0000gn/T/ipykernel_64710/506424766.py:25: FutureWarning: The frame.append method is deprecated and will be removed from pandas in a future version. Use pandas.concat instead.\n",
      "  results = results.append({'user': user_id, 'Algorithm': algo, 'KL_div': calibration_scores[0], 'JS_div': calibration_scores[1]}, ignore_index=True)\n"
     ]
    },
    {
     "name": "stdout",
     "output_type": "stream",
     "text": [
      "366\n"
     ]
    },
    {
     "name": "stderr",
     "output_type": "stream",
     "text": [
      "/var/folders/8v/cgqpzdls33l6jdsvj3z4fdyh0000gn/T/ipykernel_64710/506424766.py:25: FutureWarning: The frame.append method is deprecated and will be removed from pandas in a future version. Use pandas.concat instead.\n",
      "  results = results.append({'user': user_id, 'Algorithm': algo, 'KL_div': calibration_scores[0], 'JS_div': calibration_scores[1]}, ignore_index=True)\n",
      "/var/folders/8v/cgqpzdls33l6jdsvj3z4fdyh0000gn/T/ipykernel_64710/506424766.py:25: FutureWarning: The frame.append method is deprecated and will be removed from pandas in a future version. Use pandas.concat instead.\n",
      "  results = results.append({'user': user_id, 'Algorithm': algo, 'KL_div': calibration_scores[0], 'JS_div': calibration_scores[1]}, ignore_index=True)\n"
     ]
    },
    {
     "name": "stdout",
     "output_type": "stream",
     "text": [
      "367\n"
     ]
    },
    {
     "name": "stderr",
     "output_type": "stream",
     "text": [
      "/var/folders/8v/cgqpzdls33l6jdsvj3z4fdyh0000gn/T/ipykernel_64710/506424766.py:25: FutureWarning: The frame.append method is deprecated and will be removed from pandas in a future version. Use pandas.concat instead.\n",
      "  results = results.append({'user': user_id, 'Algorithm': algo, 'KL_div': calibration_scores[0], 'JS_div': calibration_scores[1]}, ignore_index=True)\n",
      "/var/folders/8v/cgqpzdls33l6jdsvj3z4fdyh0000gn/T/ipykernel_64710/506424766.py:25: FutureWarning: The frame.append method is deprecated and will be removed from pandas in a future version. Use pandas.concat instead.\n",
      "  results = results.append({'user': user_id, 'Algorithm': algo, 'KL_div': calibration_scores[0], 'JS_div': calibration_scores[1]}, ignore_index=True)\n"
     ]
    },
    {
     "name": "stdout",
     "output_type": "stream",
     "text": [
      "368\n"
     ]
    },
    {
     "name": "stderr",
     "output_type": "stream",
     "text": [
      "/var/folders/8v/cgqpzdls33l6jdsvj3z4fdyh0000gn/T/ipykernel_64710/506424766.py:25: FutureWarning: The frame.append method is deprecated and will be removed from pandas in a future version. Use pandas.concat instead.\n",
      "  results = results.append({'user': user_id, 'Algorithm': algo, 'KL_div': calibration_scores[0], 'JS_div': calibration_scores[1]}, ignore_index=True)\n",
      "/var/folders/8v/cgqpzdls33l6jdsvj3z4fdyh0000gn/T/ipykernel_64710/506424766.py:25: FutureWarning: The frame.append method is deprecated and will be removed from pandas in a future version. Use pandas.concat instead.\n",
      "  results = results.append({'user': user_id, 'Algorithm': algo, 'KL_div': calibration_scores[0], 'JS_div': calibration_scores[1]}, ignore_index=True)\n"
     ]
    },
    {
     "name": "stdout",
     "output_type": "stream",
     "text": [
      "369\n"
     ]
    },
    {
     "name": "stderr",
     "output_type": "stream",
     "text": [
      "/var/folders/8v/cgqpzdls33l6jdsvj3z4fdyh0000gn/T/ipykernel_64710/506424766.py:25: FutureWarning: The frame.append method is deprecated and will be removed from pandas in a future version. Use pandas.concat instead.\n",
      "  results = results.append({'user': user_id, 'Algorithm': algo, 'KL_div': calibration_scores[0], 'JS_div': calibration_scores[1]}, ignore_index=True)\n",
      "/var/folders/8v/cgqpzdls33l6jdsvj3z4fdyh0000gn/T/ipykernel_64710/506424766.py:25: FutureWarning: The frame.append method is deprecated and will be removed from pandas in a future version. Use pandas.concat instead.\n",
      "  results = results.append({'user': user_id, 'Algorithm': algo, 'KL_div': calibration_scores[0], 'JS_div': calibration_scores[1]}, ignore_index=True)\n"
     ]
    },
    {
     "name": "stdout",
     "output_type": "stream",
     "text": [
      "370\n"
     ]
    },
    {
     "name": "stderr",
     "output_type": "stream",
     "text": [
      "/var/folders/8v/cgqpzdls33l6jdsvj3z4fdyh0000gn/T/ipykernel_64710/506424766.py:25: FutureWarning: The frame.append method is deprecated and will be removed from pandas in a future version. Use pandas.concat instead.\n",
      "  results = results.append({'user': user_id, 'Algorithm': algo, 'KL_div': calibration_scores[0], 'JS_div': calibration_scores[1]}, ignore_index=True)\n",
      "/var/folders/8v/cgqpzdls33l6jdsvj3z4fdyh0000gn/T/ipykernel_64710/506424766.py:25: FutureWarning: The frame.append method is deprecated and will be removed from pandas in a future version. Use pandas.concat instead.\n",
      "  results = results.append({'user': user_id, 'Algorithm': algo, 'KL_div': calibration_scores[0], 'JS_div': calibration_scores[1]}, ignore_index=True)\n"
     ]
    },
    {
     "name": "stdout",
     "output_type": "stream",
     "text": [
      "371\n"
     ]
    },
    {
     "name": "stderr",
     "output_type": "stream",
     "text": [
      "/var/folders/8v/cgqpzdls33l6jdsvj3z4fdyh0000gn/T/ipykernel_64710/506424766.py:25: FutureWarning: The frame.append method is deprecated and will be removed from pandas in a future version. Use pandas.concat instead.\n",
      "  results = results.append({'user': user_id, 'Algorithm': algo, 'KL_div': calibration_scores[0], 'JS_div': calibration_scores[1]}, ignore_index=True)\n",
      "/var/folders/8v/cgqpzdls33l6jdsvj3z4fdyh0000gn/T/ipykernel_64710/506424766.py:25: FutureWarning: The frame.append method is deprecated and will be removed from pandas in a future version. Use pandas.concat instead.\n",
      "  results = results.append({'user': user_id, 'Algorithm': algo, 'KL_div': calibration_scores[0], 'JS_div': calibration_scores[1]}, ignore_index=True)\n"
     ]
    },
    {
     "name": "stdout",
     "output_type": "stream",
     "text": [
      "372\n"
     ]
    },
    {
     "name": "stderr",
     "output_type": "stream",
     "text": [
      "/var/folders/8v/cgqpzdls33l6jdsvj3z4fdyh0000gn/T/ipykernel_64710/506424766.py:25: FutureWarning: The frame.append method is deprecated and will be removed from pandas in a future version. Use pandas.concat instead.\n",
      "  results = results.append({'user': user_id, 'Algorithm': algo, 'KL_div': calibration_scores[0], 'JS_div': calibration_scores[1]}, ignore_index=True)\n",
      "/var/folders/8v/cgqpzdls33l6jdsvj3z4fdyh0000gn/T/ipykernel_64710/506424766.py:25: FutureWarning: The frame.append method is deprecated and will be removed from pandas in a future version. Use pandas.concat instead.\n",
      "  results = results.append({'user': user_id, 'Algorithm': algo, 'KL_div': calibration_scores[0], 'JS_div': calibration_scores[1]}, ignore_index=True)\n"
     ]
    },
    {
     "name": "stdout",
     "output_type": "stream",
     "text": [
      "373\n"
     ]
    },
    {
     "name": "stderr",
     "output_type": "stream",
     "text": [
      "/var/folders/8v/cgqpzdls33l6jdsvj3z4fdyh0000gn/T/ipykernel_64710/506424766.py:25: FutureWarning: The frame.append method is deprecated and will be removed from pandas in a future version. Use pandas.concat instead.\n",
      "  results = results.append({'user': user_id, 'Algorithm': algo, 'KL_div': calibration_scores[0], 'JS_div': calibration_scores[1]}, ignore_index=True)\n",
      "/var/folders/8v/cgqpzdls33l6jdsvj3z4fdyh0000gn/T/ipykernel_64710/506424766.py:25: FutureWarning: The frame.append method is deprecated and will be removed from pandas in a future version. Use pandas.concat instead.\n",
      "  results = results.append({'user': user_id, 'Algorithm': algo, 'KL_div': calibration_scores[0], 'JS_div': calibration_scores[1]}, ignore_index=True)\n"
     ]
    },
    {
     "name": "stdout",
     "output_type": "stream",
     "text": [
      "374\n"
     ]
    },
    {
     "name": "stderr",
     "output_type": "stream",
     "text": [
      "/var/folders/8v/cgqpzdls33l6jdsvj3z4fdyh0000gn/T/ipykernel_64710/506424766.py:25: FutureWarning: The frame.append method is deprecated and will be removed from pandas in a future version. Use pandas.concat instead.\n",
      "  results = results.append({'user': user_id, 'Algorithm': algo, 'KL_div': calibration_scores[0], 'JS_div': calibration_scores[1]}, ignore_index=True)\n",
      "/var/folders/8v/cgqpzdls33l6jdsvj3z4fdyh0000gn/T/ipykernel_64710/506424766.py:25: FutureWarning: The frame.append method is deprecated and will be removed from pandas in a future version. Use pandas.concat instead.\n",
      "  results = results.append({'user': user_id, 'Algorithm': algo, 'KL_div': calibration_scores[0], 'JS_div': calibration_scores[1]}, ignore_index=True)\n"
     ]
    },
    {
     "name": "stdout",
     "output_type": "stream",
     "text": [
      "375\n"
     ]
    },
    {
     "name": "stderr",
     "output_type": "stream",
     "text": [
      "/var/folders/8v/cgqpzdls33l6jdsvj3z4fdyh0000gn/T/ipykernel_64710/506424766.py:25: FutureWarning: The frame.append method is deprecated and will be removed from pandas in a future version. Use pandas.concat instead.\n",
      "  results = results.append({'user': user_id, 'Algorithm': algo, 'KL_div': calibration_scores[0], 'JS_div': calibration_scores[1]}, ignore_index=True)\n",
      "/var/folders/8v/cgqpzdls33l6jdsvj3z4fdyh0000gn/T/ipykernel_64710/506424766.py:25: FutureWarning: The frame.append method is deprecated and will be removed from pandas in a future version. Use pandas.concat instead.\n",
      "  results = results.append({'user': user_id, 'Algorithm': algo, 'KL_div': calibration_scores[0], 'JS_div': calibration_scores[1]}, ignore_index=True)\n"
     ]
    },
    {
     "name": "stdout",
     "output_type": "stream",
     "text": [
      "376\n"
     ]
    },
    {
     "name": "stderr",
     "output_type": "stream",
     "text": [
      "/var/folders/8v/cgqpzdls33l6jdsvj3z4fdyh0000gn/T/ipykernel_64710/506424766.py:25: FutureWarning: The frame.append method is deprecated and will be removed from pandas in a future version. Use pandas.concat instead.\n",
      "  results = results.append({'user': user_id, 'Algorithm': algo, 'KL_div': calibration_scores[0], 'JS_div': calibration_scores[1]}, ignore_index=True)\n",
      "/var/folders/8v/cgqpzdls33l6jdsvj3z4fdyh0000gn/T/ipykernel_64710/506424766.py:25: FutureWarning: The frame.append method is deprecated and will be removed from pandas in a future version. Use pandas.concat instead.\n",
      "  results = results.append({'user': user_id, 'Algorithm': algo, 'KL_div': calibration_scores[0], 'JS_div': calibration_scores[1]}, ignore_index=True)\n"
     ]
    },
    {
     "name": "stdout",
     "output_type": "stream",
     "text": [
      "377\n"
     ]
    },
    {
     "name": "stderr",
     "output_type": "stream",
     "text": [
      "/var/folders/8v/cgqpzdls33l6jdsvj3z4fdyh0000gn/T/ipykernel_64710/506424766.py:25: FutureWarning: The frame.append method is deprecated and will be removed from pandas in a future version. Use pandas.concat instead.\n",
      "  results = results.append({'user': user_id, 'Algorithm': algo, 'KL_div': calibration_scores[0], 'JS_div': calibration_scores[1]}, ignore_index=True)\n",
      "/var/folders/8v/cgqpzdls33l6jdsvj3z4fdyh0000gn/T/ipykernel_64710/506424766.py:25: FutureWarning: The frame.append method is deprecated and will be removed from pandas in a future version. Use pandas.concat instead.\n",
      "  results = results.append({'user': user_id, 'Algorithm': algo, 'KL_div': calibration_scores[0], 'JS_div': calibration_scores[1]}, ignore_index=True)\n"
     ]
    },
    {
     "name": "stdout",
     "output_type": "stream",
     "text": [
      "378\n"
     ]
    },
    {
     "name": "stderr",
     "output_type": "stream",
     "text": [
      "/var/folders/8v/cgqpzdls33l6jdsvj3z4fdyh0000gn/T/ipykernel_64710/506424766.py:25: FutureWarning: The frame.append method is deprecated and will be removed from pandas in a future version. Use pandas.concat instead.\n",
      "  results = results.append({'user': user_id, 'Algorithm': algo, 'KL_div': calibration_scores[0], 'JS_div': calibration_scores[1]}, ignore_index=True)\n",
      "/var/folders/8v/cgqpzdls33l6jdsvj3z4fdyh0000gn/T/ipykernel_64710/506424766.py:25: FutureWarning: The frame.append method is deprecated and will be removed from pandas in a future version. Use pandas.concat instead.\n",
      "  results = results.append({'user': user_id, 'Algorithm': algo, 'KL_div': calibration_scores[0], 'JS_div': calibration_scores[1]}, ignore_index=True)\n"
     ]
    },
    {
     "name": "stdout",
     "output_type": "stream",
     "text": [
      "379\n"
     ]
    },
    {
     "name": "stderr",
     "output_type": "stream",
     "text": [
      "/var/folders/8v/cgqpzdls33l6jdsvj3z4fdyh0000gn/T/ipykernel_64710/506424766.py:25: FutureWarning: The frame.append method is deprecated and will be removed from pandas in a future version. Use pandas.concat instead.\n",
      "  results = results.append({'user': user_id, 'Algorithm': algo, 'KL_div': calibration_scores[0], 'JS_div': calibration_scores[1]}, ignore_index=True)\n",
      "/var/folders/8v/cgqpzdls33l6jdsvj3z4fdyh0000gn/T/ipykernel_64710/506424766.py:25: FutureWarning: The frame.append method is deprecated and will be removed from pandas in a future version. Use pandas.concat instead.\n",
      "  results = results.append({'user': user_id, 'Algorithm': algo, 'KL_div': calibration_scores[0], 'JS_div': calibration_scores[1]}, ignore_index=True)\n"
     ]
    },
    {
     "name": "stdout",
     "output_type": "stream",
     "text": [
      "380\n"
     ]
    },
    {
     "name": "stderr",
     "output_type": "stream",
     "text": [
      "/var/folders/8v/cgqpzdls33l6jdsvj3z4fdyh0000gn/T/ipykernel_64710/506424766.py:25: FutureWarning: The frame.append method is deprecated and will be removed from pandas in a future version. Use pandas.concat instead.\n",
      "  results = results.append({'user': user_id, 'Algorithm': algo, 'KL_div': calibration_scores[0], 'JS_div': calibration_scores[1]}, ignore_index=True)\n",
      "/var/folders/8v/cgqpzdls33l6jdsvj3z4fdyh0000gn/T/ipykernel_64710/506424766.py:25: FutureWarning: The frame.append method is deprecated and will be removed from pandas in a future version. Use pandas.concat instead.\n",
      "  results = results.append({'user': user_id, 'Algorithm': algo, 'KL_div': calibration_scores[0], 'JS_div': calibration_scores[1]}, ignore_index=True)\n"
     ]
    },
    {
     "name": "stdout",
     "output_type": "stream",
     "text": [
      "381\n"
     ]
    },
    {
     "name": "stderr",
     "output_type": "stream",
     "text": [
      "/var/folders/8v/cgqpzdls33l6jdsvj3z4fdyh0000gn/T/ipykernel_64710/506424766.py:25: FutureWarning: The frame.append method is deprecated and will be removed from pandas in a future version. Use pandas.concat instead.\n",
      "  results = results.append({'user': user_id, 'Algorithm': algo, 'KL_div': calibration_scores[0], 'JS_div': calibration_scores[1]}, ignore_index=True)\n",
      "/var/folders/8v/cgqpzdls33l6jdsvj3z4fdyh0000gn/T/ipykernel_64710/506424766.py:25: FutureWarning: The frame.append method is deprecated and will be removed from pandas in a future version. Use pandas.concat instead.\n",
      "  results = results.append({'user': user_id, 'Algorithm': algo, 'KL_div': calibration_scores[0], 'JS_div': calibration_scores[1]}, ignore_index=True)\n"
     ]
    },
    {
     "name": "stdout",
     "output_type": "stream",
     "text": [
      "382\n"
     ]
    },
    {
     "name": "stderr",
     "output_type": "stream",
     "text": [
      "/var/folders/8v/cgqpzdls33l6jdsvj3z4fdyh0000gn/T/ipykernel_64710/506424766.py:25: FutureWarning: The frame.append method is deprecated and will be removed from pandas in a future version. Use pandas.concat instead.\n",
      "  results = results.append({'user': user_id, 'Algorithm': algo, 'KL_div': calibration_scores[0], 'JS_div': calibration_scores[1]}, ignore_index=True)\n",
      "/var/folders/8v/cgqpzdls33l6jdsvj3z4fdyh0000gn/T/ipykernel_64710/506424766.py:25: FutureWarning: The frame.append method is deprecated and will be removed from pandas in a future version. Use pandas.concat instead.\n",
      "  results = results.append({'user': user_id, 'Algorithm': algo, 'KL_div': calibration_scores[0], 'JS_div': calibration_scores[1]}, ignore_index=True)\n"
     ]
    },
    {
     "name": "stdout",
     "output_type": "stream",
     "text": [
      "383\n"
     ]
    },
    {
     "name": "stderr",
     "output_type": "stream",
     "text": [
      "/var/folders/8v/cgqpzdls33l6jdsvj3z4fdyh0000gn/T/ipykernel_64710/506424766.py:25: FutureWarning: The frame.append method is deprecated and will be removed from pandas in a future version. Use pandas.concat instead.\n",
      "  results = results.append({'user': user_id, 'Algorithm': algo, 'KL_div': calibration_scores[0], 'JS_div': calibration_scores[1]}, ignore_index=True)\n",
      "/var/folders/8v/cgqpzdls33l6jdsvj3z4fdyh0000gn/T/ipykernel_64710/506424766.py:25: FutureWarning: The frame.append method is deprecated and will be removed from pandas in a future version. Use pandas.concat instead.\n",
      "  results = results.append({'user': user_id, 'Algorithm': algo, 'KL_div': calibration_scores[0], 'JS_div': calibration_scores[1]}, ignore_index=True)\n"
     ]
    },
    {
     "name": "stdout",
     "output_type": "stream",
     "text": [
      "384\n"
     ]
    },
    {
     "name": "stderr",
     "output_type": "stream",
     "text": [
      "/var/folders/8v/cgqpzdls33l6jdsvj3z4fdyh0000gn/T/ipykernel_64710/506424766.py:25: FutureWarning: The frame.append method is deprecated and will be removed from pandas in a future version. Use pandas.concat instead.\n",
      "  results = results.append({'user': user_id, 'Algorithm': algo, 'KL_div': calibration_scores[0], 'JS_div': calibration_scores[1]}, ignore_index=True)\n",
      "/var/folders/8v/cgqpzdls33l6jdsvj3z4fdyh0000gn/T/ipykernel_64710/506424766.py:25: FutureWarning: The frame.append method is deprecated and will be removed from pandas in a future version. Use pandas.concat instead.\n",
      "  results = results.append({'user': user_id, 'Algorithm': algo, 'KL_div': calibration_scores[0], 'JS_div': calibration_scores[1]}, ignore_index=True)\n"
     ]
    },
    {
     "name": "stdout",
     "output_type": "stream",
     "text": [
      "385\n"
     ]
    },
    {
     "name": "stderr",
     "output_type": "stream",
     "text": [
      "/var/folders/8v/cgqpzdls33l6jdsvj3z4fdyh0000gn/T/ipykernel_64710/506424766.py:25: FutureWarning: The frame.append method is deprecated and will be removed from pandas in a future version. Use pandas.concat instead.\n",
      "  results = results.append({'user': user_id, 'Algorithm': algo, 'KL_div': calibration_scores[0], 'JS_div': calibration_scores[1]}, ignore_index=True)\n",
      "/var/folders/8v/cgqpzdls33l6jdsvj3z4fdyh0000gn/T/ipykernel_64710/506424766.py:25: FutureWarning: The frame.append method is deprecated and will be removed from pandas in a future version. Use pandas.concat instead.\n",
      "  results = results.append({'user': user_id, 'Algorithm': algo, 'KL_div': calibration_scores[0], 'JS_div': calibration_scores[1]}, ignore_index=True)\n"
     ]
    },
    {
     "name": "stdout",
     "output_type": "stream",
     "text": [
      "386\n"
     ]
    },
    {
     "name": "stderr",
     "output_type": "stream",
     "text": [
      "/var/folders/8v/cgqpzdls33l6jdsvj3z4fdyh0000gn/T/ipykernel_64710/506424766.py:25: FutureWarning: The frame.append method is deprecated and will be removed from pandas in a future version. Use pandas.concat instead.\n",
      "  results = results.append({'user': user_id, 'Algorithm': algo, 'KL_div': calibration_scores[0], 'JS_div': calibration_scores[1]}, ignore_index=True)\n",
      "/var/folders/8v/cgqpzdls33l6jdsvj3z4fdyh0000gn/T/ipykernel_64710/506424766.py:25: FutureWarning: The frame.append method is deprecated and will be removed from pandas in a future version. Use pandas.concat instead.\n",
      "  results = results.append({'user': user_id, 'Algorithm': algo, 'KL_div': calibration_scores[0], 'JS_div': calibration_scores[1]}, ignore_index=True)\n"
     ]
    },
    {
     "name": "stdout",
     "output_type": "stream",
     "text": [
      "387\n"
     ]
    },
    {
     "name": "stderr",
     "output_type": "stream",
     "text": [
      "/var/folders/8v/cgqpzdls33l6jdsvj3z4fdyh0000gn/T/ipykernel_64710/506424766.py:25: FutureWarning: The frame.append method is deprecated and will be removed from pandas in a future version. Use pandas.concat instead.\n",
      "  results = results.append({'user': user_id, 'Algorithm': algo, 'KL_div': calibration_scores[0], 'JS_div': calibration_scores[1]}, ignore_index=True)\n",
      "/var/folders/8v/cgqpzdls33l6jdsvj3z4fdyh0000gn/T/ipykernel_64710/506424766.py:25: FutureWarning: The frame.append method is deprecated and will be removed from pandas in a future version. Use pandas.concat instead.\n",
      "  results = results.append({'user': user_id, 'Algorithm': algo, 'KL_div': calibration_scores[0], 'JS_div': calibration_scores[1]}, ignore_index=True)\n"
     ]
    },
    {
     "name": "stdout",
     "output_type": "stream",
     "text": [
      "388\n"
     ]
    },
    {
     "name": "stderr",
     "output_type": "stream",
     "text": [
      "/var/folders/8v/cgqpzdls33l6jdsvj3z4fdyh0000gn/T/ipykernel_64710/506424766.py:25: FutureWarning: The frame.append method is deprecated and will be removed from pandas in a future version. Use pandas.concat instead.\n",
      "  results = results.append({'user': user_id, 'Algorithm': algo, 'KL_div': calibration_scores[0], 'JS_div': calibration_scores[1]}, ignore_index=True)\n",
      "/var/folders/8v/cgqpzdls33l6jdsvj3z4fdyh0000gn/T/ipykernel_64710/506424766.py:25: FutureWarning: The frame.append method is deprecated and will be removed from pandas in a future version. Use pandas.concat instead.\n",
      "  results = results.append({'user': user_id, 'Algorithm': algo, 'KL_div': calibration_scores[0], 'JS_div': calibration_scores[1]}, ignore_index=True)\n"
     ]
    },
    {
     "name": "stdout",
     "output_type": "stream",
     "text": [
      "389\n"
     ]
    },
    {
     "name": "stderr",
     "output_type": "stream",
     "text": [
      "/var/folders/8v/cgqpzdls33l6jdsvj3z4fdyh0000gn/T/ipykernel_64710/506424766.py:25: FutureWarning: The frame.append method is deprecated and will be removed from pandas in a future version. Use pandas.concat instead.\n",
      "  results = results.append({'user': user_id, 'Algorithm': algo, 'KL_div': calibration_scores[0], 'JS_div': calibration_scores[1]}, ignore_index=True)\n",
      "/var/folders/8v/cgqpzdls33l6jdsvj3z4fdyh0000gn/T/ipykernel_64710/506424766.py:25: FutureWarning: The frame.append method is deprecated and will be removed from pandas in a future version. Use pandas.concat instead.\n",
      "  results = results.append({'user': user_id, 'Algorithm': algo, 'KL_div': calibration_scores[0], 'JS_div': calibration_scores[1]}, ignore_index=True)\n"
     ]
    },
    {
     "name": "stdout",
     "output_type": "stream",
     "text": [
      "390\n"
     ]
    },
    {
     "name": "stderr",
     "output_type": "stream",
     "text": [
      "/var/folders/8v/cgqpzdls33l6jdsvj3z4fdyh0000gn/T/ipykernel_64710/506424766.py:25: FutureWarning: The frame.append method is deprecated and will be removed from pandas in a future version. Use pandas.concat instead.\n",
      "  results = results.append({'user': user_id, 'Algorithm': algo, 'KL_div': calibration_scores[0], 'JS_div': calibration_scores[1]}, ignore_index=True)\n",
      "/var/folders/8v/cgqpzdls33l6jdsvj3z4fdyh0000gn/T/ipykernel_64710/506424766.py:25: FutureWarning: The frame.append method is deprecated and will be removed from pandas in a future version. Use pandas.concat instead.\n",
      "  results = results.append({'user': user_id, 'Algorithm': algo, 'KL_div': calibration_scores[0], 'JS_div': calibration_scores[1]}, ignore_index=True)\n"
     ]
    },
    {
     "name": "stdout",
     "output_type": "stream",
     "text": [
      "391\n"
     ]
    },
    {
     "name": "stderr",
     "output_type": "stream",
     "text": [
      "/var/folders/8v/cgqpzdls33l6jdsvj3z4fdyh0000gn/T/ipykernel_64710/506424766.py:25: FutureWarning: The frame.append method is deprecated and will be removed from pandas in a future version. Use pandas.concat instead.\n",
      "  results = results.append({'user': user_id, 'Algorithm': algo, 'KL_div': calibration_scores[0], 'JS_div': calibration_scores[1]}, ignore_index=True)\n",
      "/var/folders/8v/cgqpzdls33l6jdsvj3z4fdyh0000gn/T/ipykernel_64710/506424766.py:25: FutureWarning: The frame.append method is deprecated and will be removed from pandas in a future version. Use pandas.concat instead.\n",
      "  results = results.append({'user': user_id, 'Algorithm': algo, 'KL_div': calibration_scores[0], 'JS_div': calibration_scores[1]}, ignore_index=True)\n"
     ]
    },
    {
     "name": "stdout",
     "output_type": "stream",
     "text": [
      "392\n"
     ]
    },
    {
     "name": "stderr",
     "output_type": "stream",
     "text": [
      "/var/folders/8v/cgqpzdls33l6jdsvj3z4fdyh0000gn/T/ipykernel_64710/506424766.py:25: FutureWarning: The frame.append method is deprecated and will be removed from pandas in a future version. Use pandas.concat instead.\n",
      "  results = results.append({'user': user_id, 'Algorithm': algo, 'KL_div': calibration_scores[0], 'JS_div': calibration_scores[1]}, ignore_index=True)\n",
      "/var/folders/8v/cgqpzdls33l6jdsvj3z4fdyh0000gn/T/ipykernel_64710/506424766.py:25: FutureWarning: The frame.append method is deprecated and will be removed from pandas in a future version. Use pandas.concat instead.\n",
      "  results = results.append({'user': user_id, 'Algorithm': algo, 'KL_div': calibration_scores[0], 'JS_div': calibration_scores[1]}, ignore_index=True)\n"
     ]
    },
    {
     "name": "stdout",
     "output_type": "stream",
     "text": [
      "393\n"
     ]
    },
    {
     "name": "stderr",
     "output_type": "stream",
     "text": [
      "/var/folders/8v/cgqpzdls33l6jdsvj3z4fdyh0000gn/T/ipykernel_64710/506424766.py:25: FutureWarning: The frame.append method is deprecated and will be removed from pandas in a future version. Use pandas.concat instead.\n",
      "  results = results.append({'user': user_id, 'Algorithm': algo, 'KL_div': calibration_scores[0], 'JS_div': calibration_scores[1]}, ignore_index=True)\n",
      "/var/folders/8v/cgqpzdls33l6jdsvj3z4fdyh0000gn/T/ipykernel_64710/506424766.py:25: FutureWarning: The frame.append method is deprecated and will be removed from pandas in a future version. Use pandas.concat instead.\n",
      "  results = results.append({'user': user_id, 'Algorithm': algo, 'KL_div': calibration_scores[0], 'JS_div': calibration_scores[1]}, ignore_index=True)\n"
     ]
    },
    {
     "name": "stdout",
     "output_type": "stream",
     "text": [
      "394\n"
     ]
    },
    {
     "name": "stderr",
     "output_type": "stream",
     "text": [
      "/var/folders/8v/cgqpzdls33l6jdsvj3z4fdyh0000gn/T/ipykernel_64710/506424766.py:25: FutureWarning: The frame.append method is deprecated and will be removed from pandas in a future version. Use pandas.concat instead.\n",
      "  results = results.append({'user': user_id, 'Algorithm': algo, 'KL_div': calibration_scores[0], 'JS_div': calibration_scores[1]}, ignore_index=True)\n",
      "/var/folders/8v/cgqpzdls33l6jdsvj3z4fdyh0000gn/T/ipykernel_64710/506424766.py:25: FutureWarning: The frame.append method is deprecated and will be removed from pandas in a future version. Use pandas.concat instead.\n",
      "  results = results.append({'user': user_id, 'Algorithm': algo, 'KL_div': calibration_scores[0], 'JS_div': calibration_scores[1]}, ignore_index=True)\n"
     ]
    },
    {
     "name": "stdout",
     "output_type": "stream",
     "text": [
      "395\n"
     ]
    },
    {
     "name": "stderr",
     "output_type": "stream",
     "text": [
      "/var/folders/8v/cgqpzdls33l6jdsvj3z4fdyh0000gn/T/ipykernel_64710/506424766.py:25: FutureWarning: The frame.append method is deprecated and will be removed from pandas in a future version. Use pandas.concat instead.\n",
      "  results = results.append({'user': user_id, 'Algorithm': algo, 'KL_div': calibration_scores[0], 'JS_div': calibration_scores[1]}, ignore_index=True)\n",
      "/var/folders/8v/cgqpzdls33l6jdsvj3z4fdyh0000gn/T/ipykernel_64710/506424766.py:25: FutureWarning: The frame.append method is deprecated and will be removed from pandas in a future version. Use pandas.concat instead.\n",
      "  results = results.append({'user': user_id, 'Algorithm': algo, 'KL_div': calibration_scores[0], 'JS_div': calibration_scores[1]}, ignore_index=True)\n"
     ]
    },
    {
     "name": "stdout",
     "output_type": "stream",
     "text": [
      "396\n"
     ]
    },
    {
     "name": "stderr",
     "output_type": "stream",
     "text": [
      "/var/folders/8v/cgqpzdls33l6jdsvj3z4fdyh0000gn/T/ipykernel_64710/506424766.py:25: FutureWarning: The frame.append method is deprecated and will be removed from pandas in a future version. Use pandas.concat instead.\n",
      "  results = results.append({'user': user_id, 'Algorithm': algo, 'KL_div': calibration_scores[0], 'JS_div': calibration_scores[1]}, ignore_index=True)\n",
      "/var/folders/8v/cgqpzdls33l6jdsvj3z4fdyh0000gn/T/ipykernel_64710/506424766.py:25: FutureWarning: The frame.append method is deprecated and will be removed from pandas in a future version. Use pandas.concat instead.\n",
      "  results = results.append({'user': user_id, 'Algorithm': algo, 'KL_div': calibration_scores[0], 'JS_div': calibration_scores[1]}, ignore_index=True)\n"
     ]
    },
    {
     "name": "stdout",
     "output_type": "stream",
     "text": [
      "397\n"
     ]
    },
    {
     "name": "stderr",
     "output_type": "stream",
     "text": [
      "/var/folders/8v/cgqpzdls33l6jdsvj3z4fdyh0000gn/T/ipykernel_64710/506424766.py:25: FutureWarning: The frame.append method is deprecated and will be removed from pandas in a future version. Use pandas.concat instead.\n",
      "  results = results.append({'user': user_id, 'Algorithm': algo, 'KL_div': calibration_scores[0], 'JS_div': calibration_scores[1]}, ignore_index=True)\n",
      "/var/folders/8v/cgqpzdls33l6jdsvj3z4fdyh0000gn/T/ipykernel_64710/506424766.py:25: FutureWarning: The frame.append method is deprecated and will be removed from pandas in a future version. Use pandas.concat instead.\n",
      "  results = results.append({'user': user_id, 'Algorithm': algo, 'KL_div': calibration_scores[0], 'JS_div': calibration_scores[1]}, ignore_index=True)\n"
     ]
    },
    {
     "name": "stdout",
     "output_type": "stream",
     "text": [
      "398\n"
     ]
    },
    {
     "name": "stderr",
     "output_type": "stream",
     "text": [
      "/var/folders/8v/cgqpzdls33l6jdsvj3z4fdyh0000gn/T/ipykernel_64710/506424766.py:25: FutureWarning: The frame.append method is deprecated and will be removed from pandas in a future version. Use pandas.concat instead.\n",
      "  results = results.append({'user': user_id, 'Algorithm': algo, 'KL_div': calibration_scores[0], 'JS_div': calibration_scores[1]}, ignore_index=True)\n",
      "/var/folders/8v/cgqpzdls33l6jdsvj3z4fdyh0000gn/T/ipykernel_64710/506424766.py:25: FutureWarning: The frame.append method is deprecated and will be removed from pandas in a future version. Use pandas.concat instead.\n",
      "  results = results.append({'user': user_id, 'Algorithm': algo, 'KL_div': calibration_scores[0], 'JS_div': calibration_scores[1]}, ignore_index=True)\n"
     ]
    },
    {
     "name": "stdout",
     "output_type": "stream",
     "text": [
      "399\n"
     ]
    },
    {
     "name": "stderr",
     "output_type": "stream",
     "text": [
      "/var/folders/8v/cgqpzdls33l6jdsvj3z4fdyh0000gn/T/ipykernel_64710/506424766.py:25: FutureWarning: The frame.append method is deprecated and will be removed from pandas in a future version. Use pandas.concat instead.\n",
      "  results = results.append({'user': user_id, 'Algorithm': algo, 'KL_div': calibration_scores[0], 'JS_div': calibration_scores[1]}, ignore_index=True)\n",
      "/var/folders/8v/cgqpzdls33l6jdsvj3z4fdyh0000gn/T/ipykernel_64710/506424766.py:25: FutureWarning: The frame.append method is deprecated and will be removed from pandas in a future version. Use pandas.concat instead.\n",
      "  results = results.append({'user': user_id, 'Algorithm': algo, 'KL_div': calibration_scores[0], 'JS_div': calibration_scores[1]}, ignore_index=True)\n"
     ]
    },
    {
     "name": "stdout",
     "output_type": "stream",
     "text": [
      "400\n"
     ]
    },
    {
     "name": "stderr",
     "output_type": "stream",
     "text": [
      "/var/folders/8v/cgqpzdls33l6jdsvj3z4fdyh0000gn/T/ipykernel_64710/506424766.py:25: FutureWarning: The frame.append method is deprecated and will be removed from pandas in a future version. Use pandas.concat instead.\n",
      "  results = results.append({'user': user_id, 'Algorithm': algo, 'KL_div': calibration_scores[0], 'JS_div': calibration_scores[1]}, ignore_index=True)\n",
      "/var/folders/8v/cgqpzdls33l6jdsvj3z4fdyh0000gn/T/ipykernel_64710/506424766.py:25: FutureWarning: The frame.append method is deprecated and will be removed from pandas in a future version. Use pandas.concat instead.\n",
      "  results = results.append({'user': user_id, 'Algorithm': algo, 'KL_div': calibration_scores[0], 'JS_div': calibration_scores[1]}, ignore_index=True)\n"
     ]
    },
    {
     "name": "stdout",
     "output_type": "stream",
     "text": [
      "401\n"
     ]
    },
    {
     "name": "stderr",
     "output_type": "stream",
     "text": [
      "/var/folders/8v/cgqpzdls33l6jdsvj3z4fdyh0000gn/T/ipykernel_64710/506424766.py:25: FutureWarning: The frame.append method is deprecated and will be removed from pandas in a future version. Use pandas.concat instead.\n",
      "  results = results.append({'user': user_id, 'Algorithm': algo, 'KL_div': calibration_scores[0], 'JS_div': calibration_scores[1]}, ignore_index=True)\n",
      "/var/folders/8v/cgqpzdls33l6jdsvj3z4fdyh0000gn/T/ipykernel_64710/506424766.py:25: FutureWarning: The frame.append method is deprecated and will be removed from pandas in a future version. Use pandas.concat instead.\n",
      "  results = results.append({'user': user_id, 'Algorithm': algo, 'KL_div': calibration_scores[0], 'JS_div': calibration_scores[1]}, ignore_index=True)\n"
     ]
    },
    {
     "name": "stdout",
     "output_type": "stream",
     "text": [
      "402\n"
     ]
    },
    {
     "name": "stderr",
     "output_type": "stream",
     "text": [
      "/var/folders/8v/cgqpzdls33l6jdsvj3z4fdyh0000gn/T/ipykernel_64710/506424766.py:25: FutureWarning: The frame.append method is deprecated and will be removed from pandas in a future version. Use pandas.concat instead.\n",
      "  results = results.append({'user': user_id, 'Algorithm': algo, 'KL_div': calibration_scores[0], 'JS_div': calibration_scores[1]}, ignore_index=True)\n",
      "/var/folders/8v/cgqpzdls33l6jdsvj3z4fdyh0000gn/T/ipykernel_64710/506424766.py:25: FutureWarning: The frame.append method is deprecated and will be removed from pandas in a future version. Use pandas.concat instead.\n",
      "  results = results.append({'user': user_id, 'Algorithm': algo, 'KL_div': calibration_scores[0], 'JS_div': calibration_scores[1]}, ignore_index=True)\n"
     ]
    },
    {
     "name": "stdout",
     "output_type": "stream",
     "text": [
      "403\n"
     ]
    },
    {
     "name": "stderr",
     "output_type": "stream",
     "text": [
      "/var/folders/8v/cgqpzdls33l6jdsvj3z4fdyh0000gn/T/ipykernel_64710/506424766.py:25: FutureWarning: The frame.append method is deprecated and will be removed from pandas in a future version. Use pandas.concat instead.\n",
      "  results = results.append({'user': user_id, 'Algorithm': algo, 'KL_div': calibration_scores[0], 'JS_div': calibration_scores[1]}, ignore_index=True)\n",
      "/var/folders/8v/cgqpzdls33l6jdsvj3z4fdyh0000gn/T/ipykernel_64710/506424766.py:25: FutureWarning: The frame.append method is deprecated and will be removed from pandas in a future version. Use pandas.concat instead.\n",
      "  results = results.append({'user': user_id, 'Algorithm': algo, 'KL_div': calibration_scores[0], 'JS_div': calibration_scores[1]}, ignore_index=True)\n"
     ]
    },
    {
     "name": "stdout",
     "output_type": "stream",
     "text": [
      "404\n"
     ]
    },
    {
     "name": "stderr",
     "output_type": "stream",
     "text": [
      "/var/folders/8v/cgqpzdls33l6jdsvj3z4fdyh0000gn/T/ipykernel_64710/506424766.py:25: FutureWarning: The frame.append method is deprecated and will be removed from pandas in a future version. Use pandas.concat instead.\n",
      "  results = results.append({'user': user_id, 'Algorithm': algo, 'KL_div': calibration_scores[0], 'JS_div': calibration_scores[1]}, ignore_index=True)\n",
      "/var/folders/8v/cgqpzdls33l6jdsvj3z4fdyh0000gn/T/ipykernel_64710/506424766.py:25: FutureWarning: The frame.append method is deprecated and will be removed from pandas in a future version. Use pandas.concat instead.\n",
      "  results = results.append({'user': user_id, 'Algorithm': algo, 'KL_div': calibration_scores[0], 'JS_div': calibration_scores[1]}, ignore_index=True)\n"
     ]
    },
    {
     "name": "stdout",
     "output_type": "stream",
     "text": [
      "405\n"
     ]
    },
    {
     "name": "stderr",
     "output_type": "stream",
     "text": [
      "/var/folders/8v/cgqpzdls33l6jdsvj3z4fdyh0000gn/T/ipykernel_64710/506424766.py:25: FutureWarning: The frame.append method is deprecated and will be removed from pandas in a future version. Use pandas.concat instead.\n",
      "  results = results.append({'user': user_id, 'Algorithm': algo, 'KL_div': calibration_scores[0], 'JS_div': calibration_scores[1]}, ignore_index=True)\n",
      "/var/folders/8v/cgqpzdls33l6jdsvj3z4fdyh0000gn/T/ipykernel_64710/506424766.py:25: FutureWarning: The frame.append method is deprecated and will be removed from pandas in a future version. Use pandas.concat instead.\n",
      "  results = results.append({'user': user_id, 'Algorithm': algo, 'KL_div': calibration_scores[0], 'JS_div': calibration_scores[1]}, ignore_index=True)\n"
     ]
    },
    {
     "name": "stdout",
     "output_type": "stream",
     "text": [
      "406\n"
     ]
    },
    {
     "name": "stderr",
     "output_type": "stream",
     "text": [
      "/var/folders/8v/cgqpzdls33l6jdsvj3z4fdyh0000gn/T/ipykernel_64710/506424766.py:25: FutureWarning: The frame.append method is deprecated and will be removed from pandas in a future version. Use pandas.concat instead.\n",
      "  results = results.append({'user': user_id, 'Algorithm': algo, 'KL_div': calibration_scores[0], 'JS_div': calibration_scores[1]}, ignore_index=True)\n",
      "/var/folders/8v/cgqpzdls33l6jdsvj3z4fdyh0000gn/T/ipykernel_64710/506424766.py:25: FutureWarning: The frame.append method is deprecated and will be removed from pandas in a future version. Use pandas.concat instead.\n",
      "  results = results.append({'user': user_id, 'Algorithm': algo, 'KL_div': calibration_scores[0], 'JS_div': calibration_scores[1]}, ignore_index=True)\n"
     ]
    },
    {
     "name": "stdout",
     "output_type": "stream",
     "text": [
      "407\n"
     ]
    },
    {
     "name": "stderr",
     "output_type": "stream",
     "text": [
      "/var/folders/8v/cgqpzdls33l6jdsvj3z4fdyh0000gn/T/ipykernel_64710/506424766.py:25: FutureWarning: The frame.append method is deprecated and will be removed from pandas in a future version. Use pandas.concat instead.\n",
      "  results = results.append({'user': user_id, 'Algorithm': algo, 'KL_div': calibration_scores[0], 'JS_div': calibration_scores[1]}, ignore_index=True)\n",
      "/var/folders/8v/cgqpzdls33l6jdsvj3z4fdyh0000gn/T/ipykernel_64710/506424766.py:25: FutureWarning: The frame.append method is deprecated and will be removed from pandas in a future version. Use pandas.concat instead.\n",
      "  results = results.append({'user': user_id, 'Algorithm': algo, 'KL_div': calibration_scores[0], 'JS_div': calibration_scores[1]}, ignore_index=True)\n"
     ]
    },
    {
     "name": "stdout",
     "output_type": "stream",
     "text": [
      "408\n"
     ]
    },
    {
     "name": "stderr",
     "output_type": "stream",
     "text": [
      "/var/folders/8v/cgqpzdls33l6jdsvj3z4fdyh0000gn/T/ipykernel_64710/506424766.py:25: FutureWarning: The frame.append method is deprecated and will be removed from pandas in a future version. Use pandas.concat instead.\n",
      "  results = results.append({'user': user_id, 'Algorithm': algo, 'KL_div': calibration_scores[0], 'JS_div': calibration_scores[1]}, ignore_index=True)\n",
      "/var/folders/8v/cgqpzdls33l6jdsvj3z4fdyh0000gn/T/ipykernel_64710/506424766.py:25: FutureWarning: The frame.append method is deprecated and will be removed from pandas in a future version. Use pandas.concat instead.\n",
      "  results = results.append({'user': user_id, 'Algorithm': algo, 'KL_div': calibration_scores[0], 'JS_div': calibration_scores[1]}, ignore_index=True)\n"
     ]
    },
    {
     "name": "stdout",
     "output_type": "stream",
     "text": [
      "409\n"
     ]
    },
    {
     "name": "stderr",
     "output_type": "stream",
     "text": [
      "/var/folders/8v/cgqpzdls33l6jdsvj3z4fdyh0000gn/T/ipykernel_64710/506424766.py:25: FutureWarning: The frame.append method is deprecated and will be removed from pandas in a future version. Use pandas.concat instead.\n",
      "  results = results.append({'user': user_id, 'Algorithm': algo, 'KL_div': calibration_scores[0], 'JS_div': calibration_scores[1]}, ignore_index=True)\n",
      "/var/folders/8v/cgqpzdls33l6jdsvj3z4fdyh0000gn/T/ipykernel_64710/506424766.py:25: FutureWarning: The frame.append method is deprecated and will be removed from pandas in a future version. Use pandas.concat instead.\n",
      "  results = results.append({'user': user_id, 'Algorithm': algo, 'KL_div': calibration_scores[0], 'JS_div': calibration_scores[1]}, ignore_index=True)\n"
     ]
    },
    {
     "name": "stdout",
     "output_type": "stream",
     "text": [
      "410\n"
     ]
    },
    {
     "name": "stderr",
     "output_type": "stream",
     "text": [
      "/var/folders/8v/cgqpzdls33l6jdsvj3z4fdyh0000gn/T/ipykernel_64710/506424766.py:25: FutureWarning: The frame.append method is deprecated and will be removed from pandas in a future version. Use pandas.concat instead.\n",
      "  results = results.append({'user': user_id, 'Algorithm': algo, 'KL_div': calibration_scores[0], 'JS_div': calibration_scores[1]}, ignore_index=True)\n",
      "/var/folders/8v/cgqpzdls33l6jdsvj3z4fdyh0000gn/T/ipykernel_64710/506424766.py:25: FutureWarning: The frame.append method is deprecated and will be removed from pandas in a future version. Use pandas.concat instead.\n",
      "  results = results.append({'user': user_id, 'Algorithm': algo, 'KL_div': calibration_scores[0], 'JS_div': calibration_scores[1]}, ignore_index=True)\n"
     ]
    },
    {
     "name": "stdout",
     "output_type": "stream",
     "text": [
      "411\n"
     ]
    },
    {
     "name": "stderr",
     "output_type": "stream",
     "text": [
      "/var/folders/8v/cgqpzdls33l6jdsvj3z4fdyh0000gn/T/ipykernel_64710/506424766.py:25: FutureWarning: The frame.append method is deprecated and will be removed from pandas in a future version. Use pandas.concat instead.\n",
      "  results = results.append({'user': user_id, 'Algorithm': algo, 'KL_div': calibration_scores[0], 'JS_div': calibration_scores[1]}, ignore_index=True)\n",
      "/var/folders/8v/cgqpzdls33l6jdsvj3z4fdyh0000gn/T/ipykernel_64710/506424766.py:25: FutureWarning: The frame.append method is deprecated and will be removed from pandas in a future version. Use pandas.concat instead.\n",
      "  results = results.append({'user': user_id, 'Algorithm': algo, 'KL_div': calibration_scores[0], 'JS_div': calibration_scores[1]}, ignore_index=True)\n"
     ]
    },
    {
     "name": "stdout",
     "output_type": "stream",
     "text": [
      "412\n"
     ]
    },
    {
     "name": "stderr",
     "output_type": "stream",
     "text": [
      "/var/folders/8v/cgqpzdls33l6jdsvj3z4fdyh0000gn/T/ipykernel_64710/506424766.py:25: FutureWarning: The frame.append method is deprecated and will be removed from pandas in a future version. Use pandas.concat instead.\n",
      "  results = results.append({'user': user_id, 'Algorithm': algo, 'KL_div': calibration_scores[0], 'JS_div': calibration_scores[1]}, ignore_index=True)\n",
      "/var/folders/8v/cgqpzdls33l6jdsvj3z4fdyh0000gn/T/ipykernel_64710/506424766.py:25: FutureWarning: The frame.append method is deprecated and will be removed from pandas in a future version. Use pandas.concat instead.\n",
      "  results = results.append({'user': user_id, 'Algorithm': algo, 'KL_div': calibration_scores[0], 'JS_div': calibration_scores[1]}, ignore_index=True)\n"
     ]
    },
    {
     "name": "stdout",
     "output_type": "stream",
     "text": [
      "413\n"
     ]
    },
    {
     "name": "stderr",
     "output_type": "stream",
     "text": [
      "/var/folders/8v/cgqpzdls33l6jdsvj3z4fdyh0000gn/T/ipykernel_64710/506424766.py:25: FutureWarning: The frame.append method is deprecated and will be removed from pandas in a future version. Use pandas.concat instead.\n",
      "  results = results.append({'user': user_id, 'Algorithm': algo, 'KL_div': calibration_scores[0], 'JS_div': calibration_scores[1]}, ignore_index=True)\n",
      "/var/folders/8v/cgqpzdls33l6jdsvj3z4fdyh0000gn/T/ipykernel_64710/506424766.py:25: FutureWarning: The frame.append method is deprecated and will be removed from pandas in a future version. Use pandas.concat instead.\n",
      "  results = results.append({'user': user_id, 'Algorithm': algo, 'KL_div': calibration_scores[0], 'JS_div': calibration_scores[1]}, ignore_index=True)\n"
     ]
    },
    {
     "name": "stdout",
     "output_type": "stream",
     "text": [
      "414\n"
     ]
    },
    {
     "name": "stderr",
     "output_type": "stream",
     "text": [
      "/var/folders/8v/cgqpzdls33l6jdsvj3z4fdyh0000gn/T/ipykernel_64710/506424766.py:25: FutureWarning: The frame.append method is deprecated and will be removed from pandas in a future version. Use pandas.concat instead.\n",
      "  results = results.append({'user': user_id, 'Algorithm': algo, 'KL_div': calibration_scores[0], 'JS_div': calibration_scores[1]}, ignore_index=True)\n",
      "/var/folders/8v/cgqpzdls33l6jdsvj3z4fdyh0000gn/T/ipykernel_64710/506424766.py:25: FutureWarning: The frame.append method is deprecated and will be removed from pandas in a future version. Use pandas.concat instead.\n",
      "  results = results.append({'user': user_id, 'Algorithm': algo, 'KL_div': calibration_scores[0], 'JS_div': calibration_scores[1]}, ignore_index=True)\n"
     ]
    },
    {
     "name": "stdout",
     "output_type": "stream",
     "text": [
      "415\n"
     ]
    },
    {
     "name": "stderr",
     "output_type": "stream",
     "text": [
      "/var/folders/8v/cgqpzdls33l6jdsvj3z4fdyh0000gn/T/ipykernel_64710/506424766.py:25: FutureWarning: The frame.append method is deprecated and will be removed from pandas in a future version. Use pandas.concat instead.\n",
      "  results = results.append({'user': user_id, 'Algorithm': algo, 'KL_div': calibration_scores[0], 'JS_div': calibration_scores[1]}, ignore_index=True)\n",
      "/var/folders/8v/cgqpzdls33l6jdsvj3z4fdyh0000gn/T/ipykernel_64710/506424766.py:25: FutureWarning: The frame.append method is deprecated and will be removed from pandas in a future version. Use pandas.concat instead.\n",
      "  results = results.append({'user': user_id, 'Algorithm': algo, 'KL_div': calibration_scores[0], 'JS_div': calibration_scores[1]}, ignore_index=True)\n"
     ]
    },
    {
     "name": "stdout",
     "output_type": "stream",
     "text": [
      "416\n"
     ]
    },
    {
     "name": "stderr",
     "output_type": "stream",
     "text": [
      "/var/folders/8v/cgqpzdls33l6jdsvj3z4fdyh0000gn/T/ipykernel_64710/506424766.py:25: FutureWarning: The frame.append method is deprecated and will be removed from pandas in a future version. Use pandas.concat instead.\n",
      "  results = results.append({'user': user_id, 'Algorithm': algo, 'KL_div': calibration_scores[0], 'JS_div': calibration_scores[1]}, ignore_index=True)\n",
      "/var/folders/8v/cgqpzdls33l6jdsvj3z4fdyh0000gn/T/ipykernel_64710/506424766.py:25: FutureWarning: The frame.append method is deprecated and will be removed from pandas in a future version. Use pandas.concat instead.\n",
      "  results = results.append({'user': user_id, 'Algorithm': algo, 'KL_div': calibration_scores[0], 'JS_div': calibration_scores[1]}, ignore_index=True)\n"
     ]
    },
    {
     "name": "stdout",
     "output_type": "stream",
     "text": [
      "417\n"
     ]
    },
    {
     "name": "stderr",
     "output_type": "stream",
     "text": [
      "/var/folders/8v/cgqpzdls33l6jdsvj3z4fdyh0000gn/T/ipykernel_64710/506424766.py:25: FutureWarning: The frame.append method is deprecated and will be removed from pandas in a future version. Use pandas.concat instead.\n",
      "  results = results.append({'user': user_id, 'Algorithm': algo, 'KL_div': calibration_scores[0], 'JS_div': calibration_scores[1]}, ignore_index=True)\n",
      "/var/folders/8v/cgqpzdls33l6jdsvj3z4fdyh0000gn/T/ipykernel_64710/506424766.py:25: FutureWarning: The frame.append method is deprecated and will be removed from pandas in a future version. Use pandas.concat instead.\n",
      "  results = results.append({'user': user_id, 'Algorithm': algo, 'KL_div': calibration_scores[0], 'JS_div': calibration_scores[1]}, ignore_index=True)\n"
     ]
    },
    {
     "name": "stdout",
     "output_type": "stream",
     "text": [
      "418\n"
     ]
    },
    {
     "name": "stderr",
     "output_type": "stream",
     "text": [
      "/var/folders/8v/cgqpzdls33l6jdsvj3z4fdyh0000gn/T/ipykernel_64710/506424766.py:25: FutureWarning: The frame.append method is deprecated and will be removed from pandas in a future version. Use pandas.concat instead.\n",
      "  results = results.append({'user': user_id, 'Algorithm': algo, 'KL_div': calibration_scores[0], 'JS_div': calibration_scores[1]}, ignore_index=True)\n",
      "/var/folders/8v/cgqpzdls33l6jdsvj3z4fdyh0000gn/T/ipykernel_64710/506424766.py:25: FutureWarning: The frame.append method is deprecated and will be removed from pandas in a future version. Use pandas.concat instead.\n",
      "  results = results.append({'user': user_id, 'Algorithm': algo, 'KL_div': calibration_scores[0], 'JS_div': calibration_scores[1]}, ignore_index=True)\n"
     ]
    },
    {
     "name": "stdout",
     "output_type": "stream",
     "text": [
      "419\n"
     ]
    },
    {
     "name": "stderr",
     "output_type": "stream",
     "text": [
      "/var/folders/8v/cgqpzdls33l6jdsvj3z4fdyh0000gn/T/ipykernel_64710/506424766.py:25: FutureWarning: The frame.append method is deprecated and will be removed from pandas in a future version. Use pandas.concat instead.\n",
      "  results = results.append({'user': user_id, 'Algorithm': algo, 'KL_div': calibration_scores[0], 'JS_div': calibration_scores[1]}, ignore_index=True)\n",
      "/var/folders/8v/cgqpzdls33l6jdsvj3z4fdyh0000gn/T/ipykernel_64710/506424766.py:25: FutureWarning: The frame.append method is deprecated and will be removed from pandas in a future version. Use pandas.concat instead.\n",
      "  results = results.append({'user': user_id, 'Algorithm': algo, 'KL_div': calibration_scores[0], 'JS_div': calibration_scores[1]}, ignore_index=True)\n"
     ]
    },
    {
     "name": "stdout",
     "output_type": "stream",
     "text": [
      "420\n"
     ]
    },
    {
     "name": "stderr",
     "output_type": "stream",
     "text": [
      "/var/folders/8v/cgqpzdls33l6jdsvj3z4fdyh0000gn/T/ipykernel_64710/506424766.py:25: FutureWarning: The frame.append method is deprecated and will be removed from pandas in a future version. Use pandas.concat instead.\n",
      "  results = results.append({'user': user_id, 'Algorithm': algo, 'KL_div': calibration_scores[0], 'JS_div': calibration_scores[1]}, ignore_index=True)\n",
      "/var/folders/8v/cgqpzdls33l6jdsvj3z4fdyh0000gn/T/ipykernel_64710/506424766.py:25: FutureWarning: The frame.append method is deprecated and will be removed from pandas in a future version. Use pandas.concat instead.\n",
      "  results = results.append({'user': user_id, 'Algorithm': algo, 'KL_div': calibration_scores[0], 'JS_div': calibration_scores[1]}, ignore_index=True)\n"
     ]
    },
    {
     "name": "stdout",
     "output_type": "stream",
     "text": [
      "421\n"
     ]
    },
    {
     "name": "stderr",
     "output_type": "stream",
     "text": [
      "/var/folders/8v/cgqpzdls33l6jdsvj3z4fdyh0000gn/T/ipykernel_64710/506424766.py:25: FutureWarning: The frame.append method is deprecated and will be removed from pandas in a future version. Use pandas.concat instead.\n",
      "  results = results.append({'user': user_id, 'Algorithm': algo, 'KL_div': calibration_scores[0], 'JS_div': calibration_scores[1]}, ignore_index=True)\n",
      "/var/folders/8v/cgqpzdls33l6jdsvj3z4fdyh0000gn/T/ipykernel_64710/506424766.py:25: FutureWarning: The frame.append method is deprecated and will be removed from pandas in a future version. Use pandas.concat instead.\n",
      "  results = results.append({'user': user_id, 'Algorithm': algo, 'KL_div': calibration_scores[0], 'JS_div': calibration_scores[1]}, ignore_index=True)\n"
     ]
    },
    {
     "name": "stdout",
     "output_type": "stream",
     "text": [
      "422\n"
     ]
    },
    {
     "name": "stderr",
     "output_type": "stream",
     "text": [
      "/var/folders/8v/cgqpzdls33l6jdsvj3z4fdyh0000gn/T/ipykernel_64710/506424766.py:25: FutureWarning: The frame.append method is deprecated and will be removed from pandas in a future version. Use pandas.concat instead.\n",
      "  results = results.append({'user': user_id, 'Algorithm': algo, 'KL_div': calibration_scores[0], 'JS_div': calibration_scores[1]}, ignore_index=True)\n",
      "/var/folders/8v/cgqpzdls33l6jdsvj3z4fdyh0000gn/T/ipykernel_64710/506424766.py:25: FutureWarning: The frame.append method is deprecated and will be removed from pandas in a future version. Use pandas.concat instead.\n",
      "  results = results.append({'user': user_id, 'Algorithm': algo, 'KL_div': calibration_scores[0], 'JS_div': calibration_scores[1]}, ignore_index=True)\n"
     ]
    },
    {
     "name": "stdout",
     "output_type": "stream",
     "text": [
      "423\n"
     ]
    },
    {
     "name": "stderr",
     "output_type": "stream",
     "text": [
      "/var/folders/8v/cgqpzdls33l6jdsvj3z4fdyh0000gn/T/ipykernel_64710/506424766.py:25: FutureWarning: The frame.append method is deprecated and will be removed from pandas in a future version. Use pandas.concat instead.\n",
      "  results = results.append({'user': user_id, 'Algorithm': algo, 'KL_div': calibration_scores[0], 'JS_div': calibration_scores[1]}, ignore_index=True)\n",
      "/var/folders/8v/cgqpzdls33l6jdsvj3z4fdyh0000gn/T/ipykernel_64710/506424766.py:25: FutureWarning: The frame.append method is deprecated and will be removed from pandas in a future version. Use pandas.concat instead.\n",
      "  results = results.append({'user': user_id, 'Algorithm': algo, 'KL_div': calibration_scores[0], 'JS_div': calibration_scores[1]}, ignore_index=True)\n"
     ]
    },
    {
     "name": "stdout",
     "output_type": "stream",
     "text": [
      "424\n"
     ]
    },
    {
     "name": "stderr",
     "output_type": "stream",
     "text": [
      "/var/folders/8v/cgqpzdls33l6jdsvj3z4fdyh0000gn/T/ipykernel_64710/506424766.py:25: FutureWarning: The frame.append method is deprecated and will be removed from pandas in a future version. Use pandas.concat instead.\n",
      "  results = results.append({'user': user_id, 'Algorithm': algo, 'KL_div': calibration_scores[0], 'JS_div': calibration_scores[1]}, ignore_index=True)\n",
      "/var/folders/8v/cgqpzdls33l6jdsvj3z4fdyh0000gn/T/ipykernel_64710/506424766.py:25: FutureWarning: The frame.append method is deprecated and will be removed from pandas in a future version. Use pandas.concat instead.\n",
      "  results = results.append({'user': user_id, 'Algorithm': algo, 'KL_div': calibration_scores[0], 'JS_div': calibration_scores[1]}, ignore_index=True)\n"
     ]
    },
    {
     "name": "stdout",
     "output_type": "stream",
     "text": [
      "425\n"
     ]
    },
    {
     "name": "stderr",
     "output_type": "stream",
     "text": [
      "/var/folders/8v/cgqpzdls33l6jdsvj3z4fdyh0000gn/T/ipykernel_64710/506424766.py:25: FutureWarning: The frame.append method is deprecated and will be removed from pandas in a future version. Use pandas.concat instead.\n",
      "  results = results.append({'user': user_id, 'Algorithm': algo, 'KL_div': calibration_scores[0], 'JS_div': calibration_scores[1]}, ignore_index=True)\n",
      "/var/folders/8v/cgqpzdls33l6jdsvj3z4fdyh0000gn/T/ipykernel_64710/506424766.py:25: FutureWarning: The frame.append method is deprecated and will be removed from pandas in a future version. Use pandas.concat instead.\n",
      "  results = results.append({'user': user_id, 'Algorithm': algo, 'KL_div': calibration_scores[0], 'JS_div': calibration_scores[1]}, ignore_index=True)\n"
     ]
    },
    {
     "name": "stdout",
     "output_type": "stream",
     "text": [
      "426\n"
     ]
    },
    {
     "name": "stderr",
     "output_type": "stream",
     "text": [
      "/var/folders/8v/cgqpzdls33l6jdsvj3z4fdyh0000gn/T/ipykernel_64710/506424766.py:25: FutureWarning: The frame.append method is deprecated and will be removed from pandas in a future version. Use pandas.concat instead.\n",
      "  results = results.append({'user': user_id, 'Algorithm': algo, 'KL_div': calibration_scores[0], 'JS_div': calibration_scores[1]}, ignore_index=True)\n",
      "/var/folders/8v/cgqpzdls33l6jdsvj3z4fdyh0000gn/T/ipykernel_64710/506424766.py:25: FutureWarning: The frame.append method is deprecated and will be removed from pandas in a future version. Use pandas.concat instead.\n",
      "  results = results.append({'user': user_id, 'Algorithm': algo, 'KL_div': calibration_scores[0], 'JS_div': calibration_scores[1]}, ignore_index=True)\n"
     ]
    },
    {
     "name": "stdout",
     "output_type": "stream",
     "text": [
      "427\n"
     ]
    },
    {
     "name": "stderr",
     "output_type": "stream",
     "text": [
      "/var/folders/8v/cgqpzdls33l6jdsvj3z4fdyh0000gn/T/ipykernel_64710/506424766.py:25: FutureWarning: The frame.append method is deprecated and will be removed from pandas in a future version. Use pandas.concat instead.\n",
      "  results = results.append({'user': user_id, 'Algorithm': algo, 'KL_div': calibration_scores[0], 'JS_div': calibration_scores[1]}, ignore_index=True)\n",
      "/var/folders/8v/cgqpzdls33l6jdsvj3z4fdyh0000gn/T/ipykernel_64710/506424766.py:25: FutureWarning: The frame.append method is deprecated and will be removed from pandas in a future version. Use pandas.concat instead.\n",
      "  results = results.append({'user': user_id, 'Algorithm': algo, 'KL_div': calibration_scores[0], 'JS_div': calibration_scores[1]}, ignore_index=True)\n"
     ]
    },
    {
     "name": "stdout",
     "output_type": "stream",
     "text": [
      "428\n"
     ]
    },
    {
     "name": "stderr",
     "output_type": "stream",
     "text": [
      "/var/folders/8v/cgqpzdls33l6jdsvj3z4fdyh0000gn/T/ipykernel_64710/506424766.py:25: FutureWarning: The frame.append method is deprecated and will be removed from pandas in a future version. Use pandas.concat instead.\n",
      "  results = results.append({'user': user_id, 'Algorithm': algo, 'KL_div': calibration_scores[0], 'JS_div': calibration_scores[1]}, ignore_index=True)\n",
      "/var/folders/8v/cgqpzdls33l6jdsvj3z4fdyh0000gn/T/ipykernel_64710/506424766.py:25: FutureWarning: The frame.append method is deprecated and will be removed from pandas in a future version. Use pandas.concat instead.\n",
      "  results = results.append({'user': user_id, 'Algorithm': algo, 'KL_div': calibration_scores[0], 'JS_div': calibration_scores[1]}, ignore_index=True)\n"
     ]
    },
    {
     "name": "stdout",
     "output_type": "stream",
     "text": [
      "429\n"
     ]
    },
    {
     "name": "stderr",
     "output_type": "stream",
     "text": [
      "/var/folders/8v/cgqpzdls33l6jdsvj3z4fdyh0000gn/T/ipykernel_64710/506424766.py:25: FutureWarning: The frame.append method is deprecated and will be removed from pandas in a future version. Use pandas.concat instead.\n",
      "  results = results.append({'user': user_id, 'Algorithm': algo, 'KL_div': calibration_scores[0], 'JS_div': calibration_scores[1]}, ignore_index=True)\n",
      "/var/folders/8v/cgqpzdls33l6jdsvj3z4fdyh0000gn/T/ipykernel_64710/506424766.py:25: FutureWarning: The frame.append method is deprecated and will be removed from pandas in a future version. Use pandas.concat instead.\n",
      "  results = results.append({'user': user_id, 'Algorithm': algo, 'KL_div': calibration_scores[0], 'JS_div': calibration_scores[1]}, ignore_index=True)\n"
     ]
    },
    {
     "name": "stdout",
     "output_type": "stream",
     "text": [
      "430\n"
     ]
    },
    {
     "name": "stderr",
     "output_type": "stream",
     "text": [
      "/var/folders/8v/cgqpzdls33l6jdsvj3z4fdyh0000gn/T/ipykernel_64710/506424766.py:25: FutureWarning: The frame.append method is deprecated and will be removed from pandas in a future version. Use pandas.concat instead.\n",
      "  results = results.append({'user': user_id, 'Algorithm': algo, 'KL_div': calibration_scores[0], 'JS_div': calibration_scores[1]}, ignore_index=True)\n",
      "/var/folders/8v/cgqpzdls33l6jdsvj3z4fdyh0000gn/T/ipykernel_64710/506424766.py:25: FutureWarning: The frame.append method is deprecated and will be removed from pandas in a future version. Use pandas.concat instead.\n",
      "  results = results.append({'user': user_id, 'Algorithm': algo, 'KL_div': calibration_scores[0], 'JS_div': calibration_scores[1]}, ignore_index=True)\n"
     ]
    },
    {
     "name": "stdout",
     "output_type": "stream",
     "text": [
      "431\n"
     ]
    },
    {
     "name": "stderr",
     "output_type": "stream",
     "text": [
      "/var/folders/8v/cgqpzdls33l6jdsvj3z4fdyh0000gn/T/ipykernel_64710/506424766.py:25: FutureWarning: The frame.append method is deprecated and will be removed from pandas in a future version. Use pandas.concat instead.\n",
      "  results = results.append({'user': user_id, 'Algorithm': algo, 'KL_div': calibration_scores[0], 'JS_div': calibration_scores[1]}, ignore_index=True)\n",
      "/var/folders/8v/cgqpzdls33l6jdsvj3z4fdyh0000gn/T/ipykernel_64710/506424766.py:25: FutureWarning: The frame.append method is deprecated and will be removed from pandas in a future version. Use pandas.concat instead.\n",
      "  results = results.append({'user': user_id, 'Algorithm': algo, 'KL_div': calibration_scores[0], 'JS_div': calibration_scores[1]}, ignore_index=True)\n"
     ]
    },
    {
     "name": "stdout",
     "output_type": "stream",
     "text": [
      "432\n"
     ]
    },
    {
     "name": "stderr",
     "output_type": "stream",
     "text": [
      "/var/folders/8v/cgqpzdls33l6jdsvj3z4fdyh0000gn/T/ipykernel_64710/506424766.py:25: FutureWarning: The frame.append method is deprecated and will be removed from pandas in a future version. Use pandas.concat instead.\n",
      "  results = results.append({'user': user_id, 'Algorithm': algo, 'KL_div': calibration_scores[0], 'JS_div': calibration_scores[1]}, ignore_index=True)\n",
      "/var/folders/8v/cgqpzdls33l6jdsvj3z4fdyh0000gn/T/ipykernel_64710/506424766.py:25: FutureWarning: The frame.append method is deprecated and will be removed from pandas in a future version. Use pandas.concat instead.\n",
      "  results = results.append({'user': user_id, 'Algorithm': algo, 'KL_div': calibration_scores[0], 'JS_div': calibration_scores[1]}, ignore_index=True)\n"
     ]
    },
    {
     "name": "stdout",
     "output_type": "stream",
     "text": [
      "433\n"
     ]
    },
    {
     "name": "stderr",
     "output_type": "stream",
     "text": [
      "/var/folders/8v/cgqpzdls33l6jdsvj3z4fdyh0000gn/T/ipykernel_64710/506424766.py:25: FutureWarning: The frame.append method is deprecated and will be removed from pandas in a future version. Use pandas.concat instead.\n",
      "  results = results.append({'user': user_id, 'Algorithm': algo, 'KL_div': calibration_scores[0], 'JS_div': calibration_scores[1]}, ignore_index=True)\n",
      "/var/folders/8v/cgqpzdls33l6jdsvj3z4fdyh0000gn/T/ipykernel_64710/506424766.py:25: FutureWarning: The frame.append method is deprecated and will be removed from pandas in a future version. Use pandas.concat instead.\n",
      "  results = results.append({'user': user_id, 'Algorithm': algo, 'KL_div': calibration_scores[0], 'JS_div': calibration_scores[1]}, ignore_index=True)\n"
     ]
    },
    {
     "name": "stdout",
     "output_type": "stream",
     "text": [
      "434\n"
     ]
    },
    {
     "name": "stderr",
     "output_type": "stream",
     "text": [
      "/var/folders/8v/cgqpzdls33l6jdsvj3z4fdyh0000gn/T/ipykernel_64710/506424766.py:25: FutureWarning: The frame.append method is deprecated and will be removed from pandas in a future version. Use pandas.concat instead.\n",
      "  results = results.append({'user': user_id, 'Algorithm': algo, 'KL_div': calibration_scores[0], 'JS_div': calibration_scores[1]}, ignore_index=True)\n",
      "/var/folders/8v/cgqpzdls33l6jdsvj3z4fdyh0000gn/T/ipykernel_64710/506424766.py:25: FutureWarning: The frame.append method is deprecated and will be removed from pandas in a future version. Use pandas.concat instead.\n",
      "  results = results.append({'user': user_id, 'Algorithm': algo, 'KL_div': calibration_scores[0], 'JS_div': calibration_scores[1]}, ignore_index=True)\n"
     ]
    },
    {
     "name": "stdout",
     "output_type": "stream",
     "text": [
      "435\n"
     ]
    },
    {
     "name": "stderr",
     "output_type": "stream",
     "text": [
      "/var/folders/8v/cgqpzdls33l6jdsvj3z4fdyh0000gn/T/ipykernel_64710/506424766.py:25: FutureWarning: The frame.append method is deprecated and will be removed from pandas in a future version. Use pandas.concat instead.\n",
      "  results = results.append({'user': user_id, 'Algorithm': algo, 'KL_div': calibration_scores[0], 'JS_div': calibration_scores[1]}, ignore_index=True)\n",
      "/var/folders/8v/cgqpzdls33l6jdsvj3z4fdyh0000gn/T/ipykernel_64710/506424766.py:25: FutureWarning: The frame.append method is deprecated and will be removed from pandas in a future version. Use pandas.concat instead.\n",
      "  results = results.append({'user': user_id, 'Algorithm': algo, 'KL_div': calibration_scores[0], 'JS_div': calibration_scores[1]}, ignore_index=True)\n"
     ]
    },
    {
     "name": "stdout",
     "output_type": "stream",
     "text": [
      "436\n"
     ]
    },
    {
     "name": "stderr",
     "output_type": "stream",
     "text": [
      "/var/folders/8v/cgqpzdls33l6jdsvj3z4fdyh0000gn/T/ipykernel_64710/506424766.py:25: FutureWarning: The frame.append method is deprecated and will be removed from pandas in a future version. Use pandas.concat instead.\n",
      "  results = results.append({'user': user_id, 'Algorithm': algo, 'KL_div': calibration_scores[0], 'JS_div': calibration_scores[1]}, ignore_index=True)\n",
      "/var/folders/8v/cgqpzdls33l6jdsvj3z4fdyh0000gn/T/ipykernel_64710/506424766.py:25: FutureWarning: The frame.append method is deprecated and will be removed from pandas in a future version. Use pandas.concat instead.\n",
      "  results = results.append({'user': user_id, 'Algorithm': algo, 'KL_div': calibration_scores[0], 'JS_div': calibration_scores[1]}, ignore_index=True)\n"
     ]
    },
    {
     "name": "stdout",
     "output_type": "stream",
     "text": [
      "437\n"
     ]
    },
    {
     "name": "stderr",
     "output_type": "stream",
     "text": [
      "/var/folders/8v/cgqpzdls33l6jdsvj3z4fdyh0000gn/T/ipykernel_64710/506424766.py:25: FutureWarning: The frame.append method is deprecated and will be removed from pandas in a future version. Use pandas.concat instead.\n",
      "  results = results.append({'user': user_id, 'Algorithm': algo, 'KL_div': calibration_scores[0], 'JS_div': calibration_scores[1]}, ignore_index=True)\n",
      "/var/folders/8v/cgqpzdls33l6jdsvj3z4fdyh0000gn/T/ipykernel_64710/506424766.py:25: FutureWarning: The frame.append method is deprecated and will be removed from pandas in a future version. Use pandas.concat instead.\n",
      "  results = results.append({'user': user_id, 'Algorithm': algo, 'KL_div': calibration_scores[0], 'JS_div': calibration_scores[1]}, ignore_index=True)\n"
     ]
    },
    {
     "name": "stdout",
     "output_type": "stream",
     "text": [
      "438\n"
     ]
    },
    {
     "name": "stderr",
     "output_type": "stream",
     "text": [
      "/var/folders/8v/cgqpzdls33l6jdsvj3z4fdyh0000gn/T/ipykernel_64710/506424766.py:25: FutureWarning: The frame.append method is deprecated and will be removed from pandas in a future version. Use pandas.concat instead.\n",
      "  results = results.append({'user': user_id, 'Algorithm': algo, 'KL_div': calibration_scores[0], 'JS_div': calibration_scores[1]}, ignore_index=True)\n",
      "/var/folders/8v/cgqpzdls33l6jdsvj3z4fdyh0000gn/T/ipykernel_64710/506424766.py:25: FutureWarning: The frame.append method is deprecated and will be removed from pandas in a future version. Use pandas.concat instead.\n",
      "  results = results.append({'user': user_id, 'Algorithm': algo, 'KL_div': calibration_scores[0], 'JS_div': calibration_scores[1]}, ignore_index=True)\n"
     ]
    },
    {
     "name": "stdout",
     "output_type": "stream",
     "text": [
      "439\n"
     ]
    },
    {
     "name": "stderr",
     "output_type": "stream",
     "text": [
      "/var/folders/8v/cgqpzdls33l6jdsvj3z4fdyh0000gn/T/ipykernel_64710/506424766.py:25: FutureWarning: The frame.append method is deprecated and will be removed from pandas in a future version. Use pandas.concat instead.\n",
      "  results = results.append({'user': user_id, 'Algorithm': algo, 'KL_div': calibration_scores[0], 'JS_div': calibration_scores[1]}, ignore_index=True)\n",
      "/var/folders/8v/cgqpzdls33l6jdsvj3z4fdyh0000gn/T/ipykernel_64710/506424766.py:25: FutureWarning: The frame.append method is deprecated and will be removed from pandas in a future version. Use pandas.concat instead.\n",
      "  results = results.append({'user': user_id, 'Algorithm': algo, 'KL_div': calibration_scores[0], 'JS_div': calibration_scores[1]}, ignore_index=True)\n"
     ]
    },
    {
     "name": "stdout",
     "output_type": "stream",
     "text": [
      "440\n"
     ]
    },
    {
     "name": "stderr",
     "output_type": "stream",
     "text": [
      "/var/folders/8v/cgqpzdls33l6jdsvj3z4fdyh0000gn/T/ipykernel_64710/506424766.py:25: FutureWarning: The frame.append method is deprecated and will be removed from pandas in a future version. Use pandas.concat instead.\n",
      "  results = results.append({'user': user_id, 'Algorithm': algo, 'KL_div': calibration_scores[0], 'JS_div': calibration_scores[1]}, ignore_index=True)\n",
      "/var/folders/8v/cgqpzdls33l6jdsvj3z4fdyh0000gn/T/ipykernel_64710/506424766.py:25: FutureWarning: The frame.append method is deprecated and will be removed from pandas in a future version. Use pandas.concat instead.\n",
      "  results = results.append({'user': user_id, 'Algorithm': algo, 'KL_div': calibration_scores[0], 'JS_div': calibration_scores[1]}, ignore_index=True)\n"
     ]
    },
    {
     "name": "stdout",
     "output_type": "stream",
     "text": [
      "441\n"
     ]
    },
    {
     "name": "stderr",
     "output_type": "stream",
     "text": [
      "/var/folders/8v/cgqpzdls33l6jdsvj3z4fdyh0000gn/T/ipykernel_64710/506424766.py:25: FutureWarning: The frame.append method is deprecated and will be removed from pandas in a future version. Use pandas.concat instead.\n",
      "  results = results.append({'user': user_id, 'Algorithm': algo, 'KL_div': calibration_scores[0], 'JS_div': calibration_scores[1]}, ignore_index=True)\n",
      "/var/folders/8v/cgqpzdls33l6jdsvj3z4fdyh0000gn/T/ipykernel_64710/506424766.py:25: FutureWarning: The frame.append method is deprecated and will be removed from pandas in a future version. Use pandas.concat instead.\n",
      "  results = results.append({'user': user_id, 'Algorithm': algo, 'KL_div': calibration_scores[0], 'JS_div': calibration_scores[1]}, ignore_index=True)\n"
     ]
    },
    {
     "name": "stdout",
     "output_type": "stream",
     "text": [
      "442\n"
     ]
    },
    {
     "name": "stderr",
     "output_type": "stream",
     "text": [
      "/var/folders/8v/cgqpzdls33l6jdsvj3z4fdyh0000gn/T/ipykernel_64710/506424766.py:25: FutureWarning: The frame.append method is deprecated and will be removed from pandas in a future version. Use pandas.concat instead.\n",
      "  results = results.append({'user': user_id, 'Algorithm': algo, 'KL_div': calibration_scores[0], 'JS_div': calibration_scores[1]}, ignore_index=True)\n",
      "/var/folders/8v/cgqpzdls33l6jdsvj3z4fdyh0000gn/T/ipykernel_64710/506424766.py:25: FutureWarning: The frame.append method is deprecated and will be removed from pandas in a future version. Use pandas.concat instead.\n",
      "  results = results.append({'user': user_id, 'Algorithm': algo, 'KL_div': calibration_scores[0], 'JS_div': calibration_scores[1]}, ignore_index=True)\n"
     ]
    },
    {
     "name": "stdout",
     "output_type": "stream",
     "text": [
      "443\n"
     ]
    },
    {
     "name": "stderr",
     "output_type": "stream",
     "text": [
      "/var/folders/8v/cgqpzdls33l6jdsvj3z4fdyh0000gn/T/ipykernel_64710/506424766.py:25: FutureWarning: The frame.append method is deprecated and will be removed from pandas in a future version. Use pandas.concat instead.\n",
      "  results = results.append({'user': user_id, 'Algorithm': algo, 'KL_div': calibration_scores[0], 'JS_div': calibration_scores[1]}, ignore_index=True)\n",
      "/var/folders/8v/cgqpzdls33l6jdsvj3z4fdyh0000gn/T/ipykernel_64710/506424766.py:25: FutureWarning: The frame.append method is deprecated and will be removed from pandas in a future version. Use pandas.concat instead.\n",
      "  results = results.append({'user': user_id, 'Algorithm': algo, 'KL_div': calibration_scores[0], 'JS_div': calibration_scores[1]}, ignore_index=True)\n"
     ]
    },
    {
     "name": "stdout",
     "output_type": "stream",
     "text": [
      "444\n"
     ]
    },
    {
     "name": "stderr",
     "output_type": "stream",
     "text": [
      "/var/folders/8v/cgqpzdls33l6jdsvj3z4fdyh0000gn/T/ipykernel_64710/506424766.py:25: FutureWarning: The frame.append method is deprecated and will be removed from pandas in a future version. Use pandas.concat instead.\n",
      "  results = results.append({'user': user_id, 'Algorithm': algo, 'KL_div': calibration_scores[0], 'JS_div': calibration_scores[1]}, ignore_index=True)\n",
      "/var/folders/8v/cgqpzdls33l6jdsvj3z4fdyh0000gn/T/ipykernel_64710/506424766.py:25: FutureWarning: The frame.append method is deprecated and will be removed from pandas in a future version. Use pandas.concat instead.\n",
      "  results = results.append({'user': user_id, 'Algorithm': algo, 'KL_div': calibration_scores[0], 'JS_div': calibration_scores[1]}, ignore_index=True)\n"
     ]
    },
    {
     "name": "stdout",
     "output_type": "stream",
     "text": [
      "445\n"
     ]
    },
    {
     "name": "stderr",
     "output_type": "stream",
     "text": [
      "/var/folders/8v/cgqpzdls33l6jdsvj3z4fdyh0000gn/T/ipykernel_64710/506424766.py:25: FutureWarning: The frame.append method is deprecated and will be removed from pandas in a future version. Use pandas.concat instead.\n",
      "  results = results.append({'user': user_id, 'Algorithm': algo, 'KL_div': calibration_scores[0], 'JS_div': calibration_scores[1]}, ignore_index=True)\n",
      "/var/folders/8v/cgqpzdls33l6jdsvj3z4fdyh0000gn/T/ipykernel_64710/506424766.py:25: FutureWarning: The frame.append method is deprecated and will be removed from pandas in a future version. Use pandas.concat instead.\n",
      "  results = results.append({'user': user_id, 'Algorithm': algo, 'KL_div': calibration_scores[0], 'JS_div': calibration_scores[1]}, ignore_index=True)\n"
     ]
    },
    {
     "name": "stdout",
     "output_type": "stream",
     "text": [
      "446\n"
     ]
    },
    {
     "name": "stderr",
     "output_type": "stream",
     "text": [
      "/var/folders/8v/cgqpzdls33l6jdsvj3z4fdyh0000gn/T/ipykernel_64710/506424766.py:25: FutureWarning: The frame.append method is deprecated and will be removed from pandas in a future version. Use pandas.concat instead.\n",
      "  results = results.append({'user': user_id, 'Algorithm': algo, 'KL_div': calibration_scores[0], 'JS_div': calibration_scores[1]}, ignore_index=True)\n",
      "/var/folders/8v/cgqpzdls33l6jdsvj3z4fdyh0000gn/T/ipykernel_64710/506424766.py:25: FutureWarning: The frame.append method is deprecated and will be removed from pandas in a future version. Use pandas.concat instead.\n",
      "  results = results.append({'user': user_id, 'Algorithm': algo, 'KL_div': calibration_scores[0], 'JS_div': calibration_scores[1]}, ignore_index=True)\n"
     ]
    },
    {
     "name": "stdout",
     "output_type": "stream",
     "text": [
      "447\n"
     ]
    },
    {
     "name": "stderr",
     "output_type": "stream",
     "text": [
      "/var/folders/8v/cgqpzdls33l6jdsvj3z4fdyh0000gn/T/ipykernel_64710/506424766.py:25: FutureWarning: The frame.append method is deprecated and will be removed from pandas in a future version. Use pandas.concat instead.\n",
      "  results = results.append({'user': user_id, 'Algorithm': algo, 'KL_div': calibration_scores[0], 'JS_div': calibration_scores[1]}, ignore_index=True)\n",
      "/var/folders/8v/cgqpzdls33l6jdsvj3z4fdyh0000gn/T/ipykernel_64710/506424766.py:25: FutureWarning: The frame.append method is deprecated and will be removed from pandas in a future version. Use pandas.concat instead.\n",
      "  results = results.append({'user': user_id, 'Algorithm': algo, 'KL_div': calibration_scores[0], 'JS_div': calibration_scores[1]}, ignore_index=True)\n"
     ]
    },
    {
     "name": "stdout",
     "output_type": "stream",
     "text": [
      "448\n"
     ]
    },
    {
     "name": "stderr",
     "output_type": "stream",
     "text": [
      "/var/folders/8v/cgqpzdls33l6jdsvj3z4fdyh0000gn/T/ipykernel_64710/506424766.py:25: FutureWarning: The frame.append method is deprecated and will be removed from pandas in a future version. Use pandas.concat instead.\n",
      "  results = results.append({'user': user_id, 'Algorithm': algo, 'KL_div': calibration_scores[0], 'JS_div': calibration_scores[1]}, ignore_index=True)\n",
      "/var/folders/8v/cgqpzdls33l6jdsvj3z4fdyh0000gn/T/ipykernel_64710/506424766.py:25: FutureWarning: The frame.append method is deprecated and will be removed from pandas in a future version. Use pandas.concat instead.\n",
      "  results = results.append({'user': user_id, 'Algorithm': algo, 'KL_div': calibration_scores[0], 'JS_div': calibration_scores[1]}, ignore_index=True)\n"
     ]
    },
    {
     "name": "stdout",
     "output_type": "stream",
     "text": [
      "449\n"
     ]
    },
    {
     "name": "stderr",
     "output_type": "stream",
     "text": [
      "/var/folders/8v/cgqpzdls33l6jdsvj3z4fdyh0000gn/T/ipykernel_64710/506424766.py:25: FutureWarning: The frame.append method is deprecated and will be removed from pandas in a future version. Use pandas.concat instead.\n",
      "  results = results.append({'user': user_id, 'Algorithm': algo, 'KL_div': calibration_scores[0], 'JS_div': calibration_scores[1]}, ignore_index=True)\n",
      "/var/folders/8v/cgqpzdls33l6jdsvj3z4fdyh0000gn/T/ipykernel_64710/506424766.py:25: FutureWarning: The frame.append method is deprecated and will be removed from pandas in a future version. Use pandas.concat instead.\n",
      "  results = results.append({'user': user_id, 'Algorithm': algo, 'KL_div': calibration_scores[0], 'JS_div': calibration_scores[1]}, ignore_index=True)\n"
     ]
    },
    {
     "name": "stdout",
     "output_type": "stream",
     "text": [
      "450\n"
     ]
    },
    {
     "name": "stderr",
     "output_type": "stream",
     "text": [
      "/var/folders/8v/cgqpzdls33l6jdsvj3z4fdyh0000gn/T/ipykernel_64710/506424766.py:25: FutureWarning: The frame.append method is deprecated and will be removed from pandas in a future version. Use pandas.concat instead.\n",
      "  results = results.append({'user': user_id, 'Algorithm': algo, 'KL_div': calibration_scores[0], 'JS_div': calibration_scores[1]}, ignore_index=True)\n",
      "/var/folders/8v/cgqpzdls33l6jdsvj3z4fdyh0000gn/T/ipykernel_64710/506424766.py:25: FutureWarning: The frame.append method is deprecated and will be removed from pandas in a future version. Use pandas.concat instead.\n",
      "  results = results.append({'user': user_id, 'Algorithm': algo, 'KL_div': calibration_scores[0], 'JS_div': calibration_scores[1]}, ignore_index=True)\n"
     ]
    },
    {
     "name": "stdout",
     "output_type": "stream",
     "text": [
      "451\n"
     ]
    },
    {
     "name": "stderr",
     "output_type": "stream",
     "text": [
      "/var/folders/8v/cgqpzdls33l6jdsvj3z4fdyh0000gn/T/ipykernel_64710/506424766.py:25: FutureWarning: The frame.append method is deprecated and will be removed from pandas in a future version. Use pandas.concat instead.\n",
      "  results = results.append({'user': user_id, 'Algorithm': algo, 'KL_div': calibration_scores[0], 'JS_div': calibration_scores[1]}, ignore_index=True)\n",
      "/var/folders/8v/cgqpzdls33l6jdsvj3z4fdyh0000gn/T/ipykernel_64710/506424766.py:25: FutureWarning: The frame.append method is deprecated and will be removed from pandas in a future version. Use pandas.concat instead.\n",
      "  results = results.append({'user': user_id, 'Algorithm': algo, 'KL_div': calibration_scores[0], 'JS_div': calibration_scores[1]}, ignore_index=True)\n"
     ]
    },
    {
     "name": "stdout",
     "output_type": "stream",
     "text": [
      "452\n"
     ]
    },
    {
     "name": "stderr",
     "output_type": "stream",
     "text": [
      "/var/folders/8v/cgqpzdls33l6jdsvj3z4fdyh0000gn/T/ipykernel_64710/506424766.py:25: FutureWarning: The frame.append method is deprecated and will be removed from pandas in a future version. Use pandas.concat instead.\n",
      "  results = results.append({'user': user_id, 'Algorithm': algo, 'KL_div': calibration_scores[0], 'JS_div': calibration_scores[1]}, ignore_index=True)\n",
      "/var/folders/8v/cgqpzdls33l6jdsvj3z4fdyh0000gn/T/ipykernel_64710/506424766.py:25: FutureWarning: The frame.append method is deprecated and will be removed from pandas in a future version. Use pandas.concat instead.\n",
      "  results = results.append({'user': user_id, 'Algorithm': algo, 'KL_div': calibration_scores[0], 'JS_div': calibration_scores[1]}, ignore_index=True)\n"
     ]
    },
    {
     "name": "stdout",
     "output_type": "stream",
     "text": [
      "453\n"
     ]
    },
    {
     "name": "stderr",
     "output_type": "stream",
     "text": [
      "/var/folders/8v/cgqpzdls33l6jdsvj3z4fdyh0000gn/T/ipykernel_64710/506424766.py:25: FutureWarning: The frame.append method is deprecated and will be removed from pandas in a future version. Use pandas.concat instead.\n",
      "  results = results.append({'user': user_id, 'Algorithm': algo, 'KL_div': calibration_scores[0], 'JS_div': calibration_scores[1]}, ignore_index=True)\n",
      "/var/folders/8v/cgqpzdls33l6jdsvj3z4fdyh0000gn/T/ipykernel_64710/506424766.py:25: FutureWarning: The frame.append method is deprecated and will be removed from pandas in a future version. Use pandas.concat instead.\n",
      "  results = results.append({'user': user_id, 'Algorithm': algo, 'KL_div': calibration_scores[0], 'JS_div': calibration_scores[1]}, ignore_index=True)\n"
     ]
    },
    {
     "name": "stdout",
     "output_type": "stream",
     "text": [
      "454\n"
     ]
    },
    {
     "name": "stderr",
     "output_type": "stream",
     "text": [
      "/var/folders/8v/cgqpzdls33l6jdsvj3z4fdyh0000gn/T/ipykernel_64710/506424766.py:25: FutureWarning: The frame.append method is deprecated and will be removed from pandas in a future version. Use pandas.concat instead.\n",
      "  results = results.append({'user': user_id, 'Algorithm': algo, 'KL_div': calibration_scores[0], 'JS_div': calibration_scores[1]}, ignore_index=True)\n",
      "/var/folders/8v/cgqpzdls33l6jdsvj3z4fdyh0000gn/T/ipykernel_64710/506424766.py:25: FutureWarning: The frame.append method is deprecated and will be removed from pandas in a future version. Use pandas.concat instead.\n",
      "  results = results.append({'user': user_id, 'Algorithm': algo, 'KL_div': calibration_scores[0], 'JS_div': calibration_scores[1]}, ignore_index=True)\n"
     ]
    },
    {
     "name": "stdout",
     "output_type": "stream",
     "text": [
      "455\n"
     ]
    },
    {
     "name": "stderr",
     "output_type": "stream",
     "text": [
      "/var/folders/8v/cgqpzdls33l6jdsvj3z4fdyh0000gn/T/ipykernel_64710/506424766.py:25: FutureWarning: The frame.append method is deprecated and will be removed from pandas in a future version. Use pandas.concat instead.\n",
      "  results = results.append({'user': user_id, 'Algorithm': algo, 'KL_div': calibration_scores[0], 'JS_div': calibration_scores[1]}, ignore_index=True)\n",
      "/var/folders/8v/cgqpzdls33l6jdsvj3z4fdyh0000gn/T/ipykernel_64710/506424766.py:25: FutureWarning: The frame.append method is deprecated and will be removed from pandas in a future version. Use pandas.concat instead.\n",
      "  results = results.append({'user': user_id, 'Algorithm': algo, 'KL_div': calibration_scores[0], 'JS_div': calibration_scores[1]}, ignore_index=True)\n"
     ]
    },
    {
     "name": "stdout",
     "output_type": "stream",
     "text": [
      "456\n"
     ]
    },
    {
     "name": "stderr",
     "output_type": "stream",
     "text": [
      "/var/folders/8v/cgqpzdls33l6jdsvj3z4fdyh0000gn/T/ipykernel_64710/506424766.py:25: FutureWarning: The frame.append method is deprecated and will be removed from pandas in a future version. Use pandas.concat instead.\n",
      "  results = results.append({'user': user_id, 'Algorithm': algo, 'KL_div': calibration_scores[0], 'JS_div': calibration_scores[1]}, ignore_index=True)\n",
      "/var/folders/8v/cgqpzdls33l6jdsvj3z4fdyh0000gn/T/ipykernel_64710/506424766.py:25: FutureWarning: The frame.append method is deprecated and will be removed from pandas in a future version. Use pandas.concat instead.\n",
      "  results = results.append({'user': user_id, 'Algorithm': algo, 'KL_div': calibration_scores[0], 'JS_div': calibration_scores[1]}, ignore_index=True)\n"
     ]
    },
    {
     "name": "stdout",
     "output_type": "stream",
     "text": [
      "457\n"
     ]
    },
    {
     "name": "stderr",
     "output_type": "stream",
     "text": [
      "/var/folders/8v/cgqpzdls33l6jdsvj3z4fdyh0000gn/T/ipykernel_64710/506424766.py:25: FutureWarning: The frame.append method is deprecated and will be removed from pandas in a future version. Use pandas.concat instead.\n",
      "  results = results.append({'user': user_id, 'Algorithm': algo, 'KL_div': calibration_scores[0], 'JS_div': calibration_scores[1]}, ignore_index=True)\n",
      "/var/folders/8v/cgqpzdls33l6jdsvj3z4fdyh0000gn/T/ipykernel_64710/506424766.py:25: FutureWarning: The frame.append method is deprecated and will be removed from pandas in a future version. Use pandas.concat instead.\n",
      "  results = results.append({'user': user_id, 'Algorithm': algo, 'KL_div': calibration_scores[0], 'JS_div': calibration_scores[1]}, ignore_index=True)\n"
     ]
    },
    {
     "name": "stdout",
     "output_type": "stream",
     "text": [
      "458\n"
     ]
    },
    {
     "name": "stderr",
     "output_type": "stream",
     "text": [
      "/var/folders/8v/cgqpzdls33l6jdsvj3z4fdyh0000gn/T/ipykernel_64710/506424766.py:25: FutureWarning: The frame.append method is deprecated and will be removed from pandas in a future version. Use pandas.concat instead.\n",
      "  results = results.append({'user': user_id, 'Algorithm': algo, 'KL_div': calibration_scores[0], 'JS_div': calibration_scores[1]}, ignore_index=True)\n",
      "/var/folders/8v/cgqpzdls33l6jdsvj3z4fdyh0000gn/T/ipykernel_64710/506424766.py:25: FutureWarning: The frame.append method is deprecated and will be removed from pandas in a future version. Use pandas.concat instead.\n",
      "  results = results.append({'user': user_id, 'Algorithm': algo, 'KL_div': calibration_scores[0], 'JS_div': calibration_scores[1]}, ignore_index=True)\n"
     ]
    },
    {
     "name": "stdout",
     "output_type": "stream",
     "text": [
      "459\n"
     ]
    },
    {
     "name": "stderr",
     "output_type": "stream",
     "text": [
      "/var/folders/8v/cgqpzdls33l6jdsvj3z4fdyh0000gn/T/ipykernel_64710/506424766.py:25: FutureWarning: The frame.append method is deprecated and will be removed from pandas in a future version. Use pandas.concat instead.\n",
      "  results = results.append({'user': user_id, 'Algorithm': algo, 'KL_div': calibration_scores[0], 'JS_div': calibration_scores[1]}, ignore_index=True)\n",
      "/var/folders/8v/cgqpzdls33l6jdsvj3z4fdyh0000gn/T/ipykernel_64710/506424766.py:25: FutureWarning: The frame.append method is deprecated and will be removed from pandas in a future version. Use pandas.concat instead.\n",
      "  results = results.append({'user': user_id, 'Algorithm': algo, 'KL_div': calibration_scores[0], 'JS_div': calibration_scores[1]}, ignore_index=True)\n"
     ]
    },
    {
     "name": "stdout",
     "output_type": "stream",
     "text": [
      "460\n"
     ]
    },
    {
     "name": "stderr",
     "output_type": "stream",
     "text": [
      "/var/folders/8v/cgqpzdls33l6jdsvj3z4fdyh0000gn/T/ipykernel_64710/506424766.py:25: FutureWarning: The frame.append method is deprecated and will be removed from pandas in a future version. Use pandas.concat instead.\n",
      "  results = results.append({'user': user_id, 'Algorithm': algo, 'KL_div': calibration_scores[0], 'JS_div': calibration_scores[1]}, ignore_index=True)\n",
      "/var/folders/8v/cgqpzdls33l6jdsvj3z4fdyh0000gn/T/ipykernel_64710/506424766.py:25: FutureWarning: The frame.append method is deprecated and will be removed from pandas in a future version. Use pandas.concat instead.\n",
      "  results = results.append({'user': user_id, 'Algorithm': algo, 'KL_div': calibration_scores[0], 'JS_div': calibration_scores[1]}, ignore_index=True)\n"
     ]
    },
    {
     "name": "stdout",
     "output_type": "stream",
     "text": [
      "461\n"
     ]
    },
    {
     "name": "stderr",
     "output_type": "stream",
     "text": [
      "/var/folders/8v/cgqpzdls33l6jdsvj3z4fdyh0000gn/T/ipykernel_64710/506424766.py:25: FutureWarning: The frame.append method is deprecated and will be removed from pandas in a future version. Use pandas.concat instead.\n",
      "  results = results.append({'user': user_id, 'Algorithm': algo, 'KL_div': calibration_scores[0], 'JS_div': calibration_scores[1]}, ignore_index=True)\n",
      "/var/folders/8v/cgqpzdls33l6jdsvj3z4fdyh0000gn/T/ipykernel_64710/506424766.py:25: FutureWarning: The frame.append method is deprecated and will be removed from pandas in a future version. Use pandas.concat instead.\n",
      "  results = results.append({'user': user_id, 'Algorithm': algo, 'KL_div': calibration_scores[0], 'JS_div': calibration_scores[1]}, ignore_index=True)\n"
     ]
    },
    {
     "name": "stdout",
     "output_type": "stream",
     "text": [
      "462\n"
     ]
    },
    {
     "name": "stderr",
     "output_type": "stream",
     "text": [
      "/var/folders/8v/cgqpzdls33l6jdsvj3z4fdyh0000gn/T/ipykernel_64710/506424766.py:25: FutureWarning: The frame.append method is deprecated and will be removed from pandas in a future version. Use pandas.concat instead.\n",
      "  results = results.append({'user': user_id, 'Algorithm': algo, 'KL_div': calibration_scores[0], 'JS_div': calibration_scores[1]}, ignore_index=True)\n",
      "/var/folders/8v/cgqpzdls33l6jdsvj3z4fdyh0000gn/T/ipykernel_64710/506424766.py:25: FutureWarning: The frame.append method is deprecated and will be removed from pandas in a future version. Use pandas.concat instead.\n",
      "  results = results.append({'user': user_id, 'Algorithm': algo, 'KL_div': calibration_scores[0], 'JS_div': calibration_scores[1]}, ignore_index=True)\n"
     ]
    },
    {
     "name": "stdout",
     "output_type": "stream",
     "text": [
      "463\n"
     ]
    },
    {
     "name": "stderr",
     "output_type": "stream",
     "text": [
      "/var/folders/8v/cgqpzdls33l6jdsvj3z4fdyh0000gn/T/ipykernel_64710/506424766.py:25: FutureWarning: The frame.append method is deprecated and will be removed from pandas in a future version. Use pandas.concat instead.\n",
      "  results = results.append({'user': user_id, 'Algorithm': algo, 'KL_div': calibration_scores[0], 'JS_div': calibration_scores[1]}, ignore_index=True)\n",
      "/var/folders/8v/cgqpzdls33l6jdsvj3z4fdyh0000gn/T/ipykernel_64710/506424766.py:25: FutureWarning: The frame.append method is deprecated and will be removed from pandas in a future version. Use pandas.concat instead.\n",
      "  results = results.append({'user': user_id, 'Algorithm': algo, 'KL_div': calibration_scores[0], 'JS_div': calibration_scores[1]}, ignore_index=True)\n"
     ]
    },
    {
     "name": "stdout",
     "output_type": "stream",
     "text": [
      "464\n"
     ]
    },
    {
     "name": "stderr",
     "output_type": "stream",
     "text": [
      "/var/folders/8v/cgqpzdls33l6jdsvj3z4fdyh0000gn/T/ipykernel_64710/506424766.py:25: FutureWarning: The frame.append method is deprecated and will be removed from pandas in a future version. Use pandas.concat instead.\n",
      "  results = results.append({'user': user_id, 'Algorithm': algo, 'KL_div': calibration_scores[0], 'JS_div': calibration_scores[1]}, ignore_index=True)\n",
      "/var/folders/8v/cgqpzdls33l6jdsvj3z4fdyh0000gn/T/ipykernel_64710/506424766.py:25: FutureWarning: The frame.append method is deprecated and will be removed from pandas in a future version. Use pandas.concat instead.\n",
      "  results = results.append({'user': user_id, 'Algorithm': algo, 'KL_div': calibration_scores[0], 'JS_div': calibration_scores[1]}, ignore_index=True)\n"
     ]
    },
    {
     "name": "stdout",
     "output_type": "stream",
     "text": [
      "465\n"
     ]
    },
    {
     "name": "stderr",
     "output_type": "stream",
     "text": [
      "/var/folders/8v/cgqpzdls33l6jdsvj3z4fdyh0000gn/T/ipykernel_64710/506424766.py:25: FutureWarning: The frame.append method is deprecated and will be removed from pandas in a future version. Use pandas.concat instead.\n",
      "  results = results.append({'user': user_id, 'Algorithm': algo, 'KL_div': calibration_scores[0], 'JS_div': calibration_scores[1]}, ignore_index=True)\n",
      "/var/folders/8v/cgqpzdls33l6jdsvj3z4fdyh0000gn/T/ipykernel_64710/506424766.py:25: FutureWarning: The frame.append method is deprecated and will be removed from pandas in a future version. Use pandas.concat instead.\n",
      "  results = results.append({'user': user_id, 'Algorithm': algo, 'KL_div': calibration_scores[0], 'JS_div': calibration_scores[1]}, ignore_index=True)\n"
     ]
    },
    {
     "name": "stdout",
     "output_type": "stream",
     "text": [
      "466\n"
     ]
    },
    {
     "name": "stderr",
     "output_type": "stream",
     "text": [
      "/var/folders/8v/cgqpzdls33l6jdsvj3z4fdyh0000gn/T/ipykernel_64710/506424766.py:25: FutureWarning: The frame.append method is deprecated and will be removed from pandas in a future version. Use pandas.concat instead.\n",
      "  results = results.append({'user': user_id, 'Algorithm': algo, 'KL_div': calibration_scores[0], 'JS_div': calibration_scores[1]}, ignore_index=True)\n",
      "/var/folders/8v/cgqpzdls33l6jdsvj3z4fdyh0000gn/T/ipykernel_64710/506424766.py:25: FutureWarning: The frame.append method is deprecated and will be removed from pandas in a future version. Use pandas.concat instead.\n",
      "  results = results.append({'user': user_id, 'Algorithm': algo, 'KL_div': calibration_scores[0], 'JS_div': calibration_scores[1]}, ignore_index=True)\n"
     ]
    },
    {
     "name": "stdout",
     "output_type": "stream",
     "text": [
      "467\n"
     ]
    },
    {
     "name": "stderr",
     "output_type": "stream",
     "text": [
      "/var/folders/8v/cgqpzdls33l6jdsvj3z4fdyh0000gn/T/ipykernel_64710/506424766.py:25: FutureWarning: The frame.append method is deprecated and will be removed from pandas in a future version. Use pandas.concat instead.\n",
      "  results = results.append({'user': user_id, 'Algorithm': algo, 'KL_div': calibration_scores[0], 'JS_div': calibration_scores[1]}, ignore_index=True)\n",
      "/var/folders/8v/cgqpzdls33l6jdsvj3z4fdyh0000gn/T/ipykernel_64710/506424766.py:25: FutureWarning: The frame.append method is deprecated and will be removed from pandas in a future version. Use pandas.concat instead.\n",
      "  results = results.append({'user': user_id, 'Algorithm': algo, 'KL_div': calibration_scores[0], 'JS_div': calibration_scores[1]}, ignore_index=True)\n"
     ]
    },
    {
     "name": "stdout",
     "output_type": "stream",
     "text": [
      "468\n"
     ]
    },
    {
     "name": "stderr",
     "output_type": "stream",
     "text": [
      "/var/folders/8v/cgqpzdls33l6jdsvj3z4fdyh0000gn/T/ipykernel_64710/506424766.py:25: FutureWarning: The frame.append method is deprecated and will be removed from pandas in a future version. Use pandas.concat instead.\n",
      "  results = results.append({'user': user_id, 'Algorithm': algo, 'KL_div': calibration_scores[0], 'JS_div': calibration_scores[1]}, ignore_index=True)\n",
      "/var/folders/8v/cgqpzdls33l6jdsvj3z4fdyh0000gn/T/ipykernel_64710/506424766.py:25: FutureWarning: The frame.append method is deprecated and will be removed from pandas in a future version. Use pandas.concat instead.\n",
      "  results = results.append({'user': user_id, 'Algorithm': algo, 'KL_div': calibration_scores[0], 'JS_div': calibration_scores[1]}, ignore_index=True)\n"
     ]
    },
    {
     "name": "stdout",
     "output_type": "stream",
     "text": [
      "469\n"
     ]
    },
    {
     "name": "stderr",
     "output_type": "stream",
     "text": [
      "/var/folders/8v/cgqpzdls33l6jdsvj3z4fdyh0000gn/T/ipykernel_64710/506424766.py:25: FutureWarning: The frame.append method is deprecated and will be removed from pandas in a future version. Use pandas.concat instead.\n",
      "  results = results.append({'user': user_id, 'Algorithm': algo, 'KL_div': calibration_scores[0], 'JS_div': calibration_scores[1]}, ignore_index=True)\n",
      "/var/folders/8v/cgqpzdls33l6jdsvj3z4fdyh0000gn/T/ipykernel_64710/506424766.py:25: FutureWarning: The frame.append method is deprecated and will be removed from pandas in a future version. Use pandas.concat instead.\n",
      "  results = results.append({'user': user_id, 'Algorithm': algo, 'KL_div': calibration_scores[0], 'JS_div': calibration_scores[1]}, ignore_index=True)\n"
     ]
    },
    {
     "name": "stdout",
     "output_type": "stream",
     "text": [
      "470\n"
     ]
    },
    {
     "name": "stderr",
     "output_type": "stream",
     "text": [
      "/var/folders/8v/cgqpzdls33l6jdsvj3z4fdyh0000gn/T/ipykernel_64710/506424766.py:25: FutureWarning: The frame.append method is deprecated and will be removed from pandas in a future version. Use pandas.concat instead.\n",
      "  results = results.append({'user': user_id, 'Algorithm': algo, 'KL_div': calibration_scores[0], 'JS_div': calibration_scores[1]}, ignore_index=True)\n",
      "/var/folders/8v/cgqpzdls33l6jdsvj3z4fdyh0000gn/T/ipykernel_64710/506424766.py:25: FutureWarning: The frame.append method is deprecated and will be removed from pandas in a future version. Use pandas.concat instead.\n",
      "  results = results.append({'user': user_id, 'Algorithm': algo, 'KL_div': calibration_scores[0], 'JS_div': calibration_scores[1]}, ignore_index=True)\n"
     ]
    },
    {
     "name": "stdout",
     "output_type": "stream",
     "text": [
      "471\n"
     ]
    },
    {
     "name": "stderr",
     "output_type": "stream",
     "text": [
      "/var/folders/8v/cgqpzdls33l6jdsvj3z4fdyh0000gn/T/ipykernel_64710/506424766.py:25: FutureWarning: The frame.append method is deprecated and will be removed from pandas in a future version. Use pandas.concat instead.\n",
      "  results = results.append({'user': user_id, 'Algorithm': algo, 'KL_div': calibration_scores[0], 'JS_div': calibration_scores[1]}, ignore_index=True)\n",
      "/var/folders/8v/cgqpzdls33l6jdsvj3z4fdyh0000gn/T/ipykernel_64710/506424766.py:25: FutureWarning: The frame.append method is deprecated and will be removed from pandas in a future version. Use pandas.concat instead.\n",
      "  results = results.append({'user': user_id, 'Algorithm': algo, 'KL_div': calibration_scores[0], 'JS_div': calibration_scores[1]}, ignore_index=True)\n"
     ]
    },
    {
     "name": "stdout",
     "output_type": "stream",
     "text": [
      "472\n"
     ]
    },
    {
     "name": "stderr",
     "output_type": "stream",
     "text": [
      "/var/folders/8v/cgqpzdls33l6jdsvj3z4fdyh0000gn/T/ipykernel_64710/506424766.py:25: FutureWarning: The frame.append method is deprecated and will be removed from pandas in a future version. Use pandas.concat instead.\n",
      "  results = results.append({'user': user_id, 'Algorithm': algo, 'KL_div': calibration_scores[0], 'JS_div': calibration_scores[1]}, ignore_index=True)\n",
      "/var/folders/8v/cgqpzdls33l6jdsvj3z4fdyh0000gn/T/ipykernel_64710/506424766.py:25: FutureWarning: The frame.append method is deprecated and will be removed from pandas in a future version. Use pandas.concat instead.\n",
      "  results = results.append({'user': user_id, 'Algorithm': algo, 'KL_div': calibration_scores[0], 'JS_div': calibration_scores[1]}, ignore_index=True)\n"
     ]
    },
    {
     "name": "stdout",
     "output_type": "stream",
     "text": [
      "473\n"
     ]
    },
    {
     "name": "stderr",
     "output_type": "stream",
     "text": [
      "/var/folders/8v/cgqpzdls33l6jdsvj3z4fdyh0000gn/T/ipykernel_64710/506424766.py:25: FutureWarning: The frame.append method is deprecated and will be removed from pandas in a future version. Use pandas.concat instead.\n",
      "  results = results.append({'user': user_id, 'Algorithm': algo, 'KL_div': calibration_scores[0], 'JS_div': calibration_scores[1]}, ignore_index=True)\n",
      "/var/folders/8v/cgqpzdls33l6jdsvj3z4fdyh0000gn/T/ipykernel_64710/506424766.py:25: FutureWarning: The frame.append method is deprecated and will be removed from pandas in a future version. Use pandas.concat instead.\n",
      "  results = results.append({'user': user_id, 'Algorithm': algo, 'KL_div': calibration_scores[0], 'JS_div': calibration_scores[1]}, ignore_index=True)\n"
     ]
    },
    {
     "name": "stdout",
     "output_type": "stream",
     "text": [
      "474\n"
     ]
    },
    {
     "name": "stderr",
     "output_type": "stream",
     "text": [
      "/var/folders/8v/cgqpzdls33l6jdsvj3z4fdyh0000gn/T/ipykernel_64710/506424766.py:25: FutureWarning: The frame.append method is deprecated and will be removed from pandas in a future version. Use pandas.concat instead.\n",
      "  results = results.append({'user': user_id, 'Algorithm': algo, 'KL_div': calibration_scores[0], 'JS_div': calibration_scores[1]}, ignore_index=True)\n",
      "/var/folders/8v/cgqpzdls33l6jdsvj3z4fdyh0000gn/T/ipykernel_64710/506424766.py:25: FutureWarning: The frame.append method is deprecated and will be removed from pandas in a future version. Use pandas.concat instead.\n",
      "  results = results.append({'user': user_id, 'Algorithm': algo, 'KL_div': calibration_scores[0], 'JS_div': calibration_scores[1]}, ignore_index=True)\n"
     ]
    },
    {
     "name": "stdout",
     "output_type": "stream",
     "text": [
      "475\n"
     ]
    },
    {
     "name": "stderr",
     "output_type": "stream",
     "text": [
      "/var/folders/8v/cgqpzdls33l6jdsvj3z4fdyh0000gn/T/ipykernel_64710/506424766.py:25: FutureWarning: The frame.append method is deprecated and will be removed from pandas in a future version. Use pandas.concat instead.\n",
      "  results = results.append({'user': user_id, 'Algorithm': algo, 'KL_div': calibration_scores[0], 'JS_div': calibration_scores[1]}, ignore_index=True)\n",
      "/var/folders/8v/cgqpzdls33l6jdsvj3z4fdyh0000gn/T/ipykernel_64710/506424766.py:25: FutureWarning: The frame.append method is deprecated and will be removed from pandas in a future version. Use pandas.concat instead.\n",
      "  results = results.append({'user': user_id, 'Algorithm': algo, 'KL_div': calibration_scores[0], 'JS_div': calibration_scores[1]}, ignore_index=True)\n"
     ]
    },
    {
     "name": "stdout",
     "output_type": "stream",
     "text": [
      "476\n"
     ]
    },
    {
     "name": "stderr",
     "output_type": "stream",
     "text": [
      "/var/folders/8v/cgqpzdls33l6jdsvj3z4fdyh0000gn/T/ipykernel_64710/506424766.py:25: FutureWarning: The frame.append method is deprecated and will be removed from pandas in a future version. Use pandas.concat instead.\n",
      "  results = results.append({'user': user_id, 'Algorithm': algo, 'KL_div': calibration_scores[0], 'JS_div': calibration_scores[1]}, ignore_index=True)\n",
      "/var/folders/8v/cgqpzdls33l6jdsvj3z4fdyh0000gn/T/ipykernel_64710/506424766.py:25: FutureWarning: The frame.append method is deprecated and will be removed from pandas in a future version. Use pandas.concat instead.\n",
      "  results = results.append({'user': user_id, 'Algorithm': algo, 'KL_div': calibration_scores[0], 'JS_div': calibration_scores[1]}, ignore_index=True)\n"
     ]
    },
    {
     "name": "stdout",
     "output_type": "stream",
     "text": [
      "477\n"
     ]
    },
    {
     "name": "stderr",
     "output_type": "stream",
     "text": [
      "/var/folders/8v/cgqpzdls33l6jdsvj3z4fdyh0000gn/T/ipykernel_64710/506424766.py:25: FutureWarning: The frame.append method is deprecated and will be removed from pandas in a future version. Use pandas.concat instead.\n",
      "  results = results.append({'user': user_id, 'Algorithm': algo, 'KL_div': calibration_scores[0], 'JS_div': calibration_scores[1]}, ignore_index=True)\n",
      "/var/folders/8v/cgqpzdls33l6jdsvj3z4fdyh0000gn/T/ipykernel_64710/506424766.py:25: FutureWarning: The frame.append method is deprecated and will be removed from pandas in a future version. Use pandas.concat instead.\n",
      "  results = results.append({'user': user_id, 'Algorithm': algo, 'KL_div': calibration_scores[0], 'JS_div': calibration_scores[1]}, ignore_index=True)\n"
     ]
    },
    {
     "name": "stdout",
     "output_type": "stream",
     "text": [
      "478\n"
     ]
    },
    {
     "name": "stderr",
     "output_type": "stream",
     "text": [
      "/var/folders/8v/cgqpzdls33l6jdsvj3z4fdyh0000gn/T/ipykernel_64710/506424766.py:25: FutureWarning: The frame.append method is deprecated and will be removed from pandas in a future version. Use pandas.concat instead.\n",
      "  results = results.append({'user': user_id, 'Algorithm': algo, 'KL_div': calibration_scores[0], 'JS_div': calibration_scores[1]}, ignore_index=True)\n",
      "/var/folders/8v/cgqpzdls33l6jdsvj3z4fdyh0000gn/T/ipykernel_64710/506424766.py:25: FutureWarning: The frame.append method is deprecated and will be removed from pandas in a future version. Use pandas.concat instead.\n",
      "  results = results.append({'user': user_id, 'Algorithm': algo, 'KL_div': calibration_scores[0], 'JS_div': calibration_scores[1]}, ignore_index=True)\n"
     ]
    },
    {
     "name": "stdout",
     "output_type": "stream",
     "text": [
      "479\n"
     ]
    },
    {
     "name": "stderr",
     "output_type": "stream",
     "text": [
      "/var/folders/8v/cgqpzdls33l6jdsvj3z4fdyh0000gn/T/ipykernel_64710/506424766.py:25: FutureWarning: The frame.append method is deprecated and will be removed from pandas in a future version. Use pandas.concat instead.\n",
      "  results = results.append({'user': user_id, 'Algorithm': algo, 'KL_div': calibration_scores[0], 'JS_div': calibration_scores[1]}, ignore_index=True)\n",
      "/var/folders/8v/cgqpzdls33l6jdsvj3z4fdyh0000gn/T/ipykernel_64710/506424766.py:25: FutureWarning: The frame.append method is deprecated and will be removed from pandas in a future version. Use pandas.concat instead.\n",
      "  results = results.append({'user': user_id, 'Algorithm': algo, 'KL_div': calibration_scores[0], 'JS_div': calibration_scores[1]}, ignore_index=True)\n"
     ]
    },
    {
     "name": "stdout",
     "output_type": "stream",
     "text": [
      "480\n"
     ]
    },
    {
     "name": "stderr",
     "output_type": "stream",
     "text": [
      "/var/folders/8v/cgqpzdls33l6jdsvj3z4fdyh0000gn/T/ipykernel_64710/506424766.py:25: FutureWarning: The frame.append method is deprecated and will be removed from pandas in a future version. Use pandas.concat instead.\n",
      "  results = results.append({'user': user_id, 'Algorithm': algo, 'KL_div': calibration_scores[0], 'JS_div': calibration_scores[1]}, ignore_index=True)\n",
      "/var/folders/8v/cgqpzdls33l6jdsvj3z4fdyh0000gn/T/ipykernel_64710/506424766.py:25: FutureWarning: The frame.append method is deprecated and will be removed from pandas in a future version. Use pandas.concat instead.\n",
      "  results = results.append({'user': user_id, 'Algorithm': algo, 'KL_div': calibration_scores[0], 'JS_div': calibration_scores[1]}, ignore_index=True)\n"
     ]
    },
    {
     "name": "stdout",
     "output_type": "stream",
     "text": [
      "481\n"
     ]
    },
    {
     "name": "stderr",
     "output_type": "stream",
     "text": [
      "/var/folders/8v/cgqpzdls33l6jdsvj3z4fdyh0000gn/T/ipykernel_64710/506424766.py:25: FutureWarning: The frame.append method is deprecated and will be removed from pandas in a future version. Use pandas.concat instead.\n",
      "  results = results.append({'user': user_id, 'Algorithm': algo, 'KL_div': calibration_scores[0], 'JS_div': calibration_scores[1]}, ignore_index=True)\n",
      "/var/folders/8v/cgqpzdls33l6jdsvj3z4fdyh0000gn/T/ipykernel_64710/506424766.py:25: FutureWarning: The frame.append method is deprecated and will be removed from pandas in a future version. Use pandas.concat instead.\n",
      "  results = results.append({'user': user_id, 'Algorithm': algo, 'KL_div': calibration_scores[0], 'JS_div': calibration_scores[1]}, ignore_index=True)\n"
     ]
    },
    {
     "name": "stdout",
     "output_type": "stream",
     "text": [
      "482\n"
     ]
    },
    {
     "name": "stderr",
     "output_type": "stream",
     "text": [
      "/var/folders/8v/cgqpzdls33l6jdsvj3z4fdyh0000gn/T/ipykernel_64710/506424766.py:25: FutureWarning: The frame.append method is deprecated and will be removed from pandas in a future version. Use pandas.concat instead.\n",
      "  results = results.append({'user': user_id, 'Algorithm': algo, 'KL_div': calibration_scores[0], 'JS_div': calibration_scores[1]}, ignore_index=True)\n",
      "/var/folders/8v/cgqpzdls33l6jdsvj3z4fdyh0000gn/T/ipykernel_64710/506424766.py:25: FutureWarning: The frame.append method is deprecated and will be removed from pandas in a future version. Use pandas.concat instead.\n",
      "  results = results.append({'user': user_id, 'Algorithm': algo, 'KL_div': calibration_scores[0], 'JS_div': calibration_scores[1]}, ignore_index=True)\n"
     ]
    },
    {
     "name": "stdout",
     "output_type": "stream",
     "text": [
      "483\n"
     ]
    },
    {
     "name": "stderr",
     "output_type": "stream",
     "text": [
      "/var/folders/8v/cgqpzdls33l6jdsvj3z4fdyh0000gn/T/ipykernel_64710/506424766.py:25: FutureWarning: The frame.append method is deprecated and will be removed from pandas in a future version. Use pandas.concat instead.\n",
      "  results = results.append({'user': user_id, 'Algorithm': algo, 'KL_div': calibration_scores[0], 'JS_div': calibration_scores[1]}, ignore_index=True)\n",
      "/var/folders/8v/cgqpzdls33l6jdsvj3z4fdyh0000gn/T/ipykernel_64710/506424766.py:25: FutureWarning: The frame.append method is deprecated and will be removed from pandas in a future version. Use pandas.concat instead.\n",
      "  results = results.append({'user': user_id, 'Algorithm': algo, 'KL_div': calibration_scores[0], 'JS_div': calibration_scores[1]}, ignore_index=True)\n"
     ]
    },
    {
     "name": "stdout",
     "output_type": "stream",
     "text": [
      "484\n"
     ]
    },
    {
     "name": "stderr",
     "output_type": "stream",
     "text": [
      "/var/folders/8v/cgqpzdls33l6jdsvj3z4fdyh0000gn/T/ipykernel_64710/506424766.py:25: FutureWarning: The frame.append method is deprecated and will be removed from pandas in a future version. Use pandas.concat instead.\n",
      "  results = results.append({'user': user_id, 'Algorithm': algo, 'KL_div': calibration_scores[0], 'JS_div': calibration_scores[1]}, ignore_index=True)\n",
      "/var/folders/8v/cgqpzdls33l6jdsvj3z4fdyh0000gn/T/ipykernel_64710/506424766.py:25: FutureWarning: The frame.append method is deprecated and will be removed from pandas in a future version. Use pandas.concat instead.\n",
      "  results = results.append({'user': user_id, 'Algorithm': algo, 'KL_div': calibration_scores[0], 'JS_div': calibration_scores[1]}, ignore_index=True)\n"
     ]
    },
    {
     "name": "stdout",
     "output_type": "stream",
     "text": [
      "485\n"
     ]
    },
    {
     "name": "stderr",
     "output_type": "stream",
     "text": [
      "/var/folders/8v/cgqpzdls33l6jdsvj3z4fdyh0000gn/T/ipykernel_64710/506424766.py:25: FutureWarning: The frame.append method is deprecated and will be removed from pandas in a future version. Use pandas.concat instead.\n",
      "  results = results.append({'user': user_id, 'Algorithm': algo, 'KL_div': calibration_scores[0], 'JS_div': calibration_scores[1]}, ignore_index=True)\n",
      "/var/folders/8v/cgqpzdls33l6jdsvj3z4fdyh0000gn/T/ipykernel_64710/506424766.py:25: FutureWarning: The frame.append method is deprecated and will be removed from pandas in a future version. Use pandas.concat instead.\n",
      "  results = results.append({'user': user_id, 'Algorithm': algo, 'KL_div': calibration_scores[0], 'JS_div': calibration_scores[1]}, ignore_index=True)\n"
     ]
    },
    {
     "name": "stdout",
     "output_type": "stream",
     "text": [
      "486\n"
     ]
    },
    {
     "name": "stderr",
     "output_type": "stream",
     "text": [
      "/var/folders/8v/cgqpzdls33l6jdsvj3z4fdyh0000gn/T/ipykernel_64710/506424766.py:25: FutureWarning: The frame.append method is deprecated and will be removed from pandas in a future version. Use pandas.concat instead.\n",
      "  results = results.append({'user': user_id, 'Algorithm': algo, 'KL_div': calibration_scores[0], 'JS_div': calibration_scores[1]}, ignore_index=True)\n",
      "/var/folders/8v/cgqpzdls33l6jdsvj3z4fdyh0000gn/T/ipykernel_64710/506424766.py:25: FutureWarning: The frame.append method is deprecated and will be removed from pandas in a future version. Use pandas.concat instead.\n",
      "  results = results.append({'user': user_id, 'Algorithm': algo, 'KL_div': calibration_scores[0], 'JS_div': calibration_scores[1]}, ignore_index=True)\n"
     ]
    },
    {
     "name": "stdout",
     "output_type": "stream",
     "text": [
      "487\n"
     ]
    },
    {
     "name": "stderr",
     "output_type": "stream",
     "text": [
      "/var/folders/8v/cgqpzdls33l6jdsvj3z4fdyh0000gn/T/ipykernel_64710/506424766.py:25: FutureWarning: The frame.append method is deprecated and will be removed from pandas in a future version. Use pandas.concat instead.\n",
      "  results = results.append({'user': user_id, 'Algorithm': algo, 'KL_div': calibration_scores[0], 'JS_div': calibration_scores[1]}, ignore_index=True)\n",
      "/var/folders/8v/cgqpzdls33l6jdsvj3z4fdyh0000gn/T/ipykernel_64710/506424766.py:25: FutureWarning: The frame.append method is deprecated and will be removed from pandas in a future version. Use pandas.concat instead.\n",
      "  results = results.append({'user': user_id, 'Algorithm': algo, 'KL_div': calibration_scores[0], 'JS_div': calibration_scores[1]}, ignore_index=True)\n"
     ]
    },
    {
     "name": "stdout",
     "output_type": "stream",
     "text": [
      "488\n"
     ]
    },
    {
     "name": "stderr",
     "output_type": "stream",
     "text": [
      "/var/folders/8v/cgqpzdls33l6jdsvj3z4fdyh0000gn/T/ipykernel_64710/506424766.py:25: FutureWarning: The frame.append method is deprecated and will be removed from pandas in a future version. Use pandas.concat instead.\n",
      "  results = results.append({'user': user_id, 'Algorithm': algo, 'KL_div': calibration_scores[0], 'JS_div': calibration_scores[1]}, ignore_index=True)\n",
      "/var/folders/8v/cgqpzdls33l6jdsvj3z4fdyh0000gn/T/ipykernel_64710/506424766.py:25: FutureWarning: The frame.append method is deprecated and will be removed from pandas in a future version. Use pandas.concat instead.\n",
      "  results = results.append({'user': user_id, 'Algorithm': algo, 'KL_div': calibration_scores[0], 'JS_div': calibration_scores[1]}, ignore_index=True)\n"
     ]
    },
    {
     "name": "stdout",
     "output_type": "stream",
     "text": [
      "489\n"
     ]
    },
    {
     "name": "stderr",
     "output_type": "stream",
     "text": [
      "/var/folders/8v/cgqpzdls33l6jdsvj3z4fdyh0000gn/T/ipykernel_64710/506424766.py:25: FutureWarning: The frame.append method is deprecated and will be removed from pandas in a future version. Use pandas.concat instead.\n",
      "  results = results.append({'user': user_id, 'Algorithm': algo, 'KL_div': calibration_scores[0], 'JS_div': calibration_scores[1]}, ignore_index=True)\n",
      "/var/folders/8v/cgqpzdls33l6jdsvj3z4fdyh0000gn/T/ipykernel_64710/506424766.py:25: FutureWarning: The frame.append method is deprecated and will be removed from pandas in a future version. Use pandas.concat instead.\n",
      "  results = results.append({'user': user_id, 'Algorithm': algo, 'KL_div': calibration_scores[0], 'JS_div': calibration_scores[1]}, ignore_index=True)\n"
     ]
    },
    {
     "name": "stdout",
     "output_type": "stream",
     "text": [
      "490\n"
     ]
    },
    {
     "name": "stderr",
     "output_type": "stream",
     "text": [
      "/var/folders/8v/cgqpzdls33l6jdsvj3z4fdyh0000gn/T/ipykernel_64710/506424766.py:25: FutureWarning: The frame.append method is deprecated and will be removed from pandas in a future version. Use pandas.concat instead.\n",
      "  results = results.append({'user': user_id, 'Algorithm': algo, 'KL_div': calibration_scores[0], 'JS_div': calibration_scores[1]}, ignore_index=True)\n",
      "/var/folders/8v/cgqpzdls33l6jdsvj3z4fdyh0000gn/T/ipykernel_64710/506424766.py:25: FutureWarning: The frame.append method is deprecated and will be removed from pandas in a future version. Use pandas.concat instead.\n",
      "  results = results.append({'user': user_id, 'Algorithm': algo, 'KL_div': calibration_scores[0], 'JS_div': calibration_scores[1]}, ignore_index=True)\n"
     ]
    },
    {
     "name": "stdout",
     "output_type": "stream",
     "text": [
      "491\n"
     ]
    },
    {
     "name": "stderr",
     "output_type": "stream",
     "text": [
      "/var/folders/8v/cgqpzdls33l6jdsvj3z4fdyh0000gn/T/ipykernel_64710/506424766.py:25: FutureWarning: The frame.append method is deprecated and will be removed from pandas in a future version. Use pandas.concat instead.\n",
      "  results = results.append({'user': user_id, 'Algorithm': algo, 'KL_div': calibration_scores[0], 'JS_div': calibration_scores[1]}, ignore_index=True)\n",
      "/var/folders/8v/cgqpzdls33l6jdsvj3z4fdyh0000gn/T/ipykernel_64710/506424766.py:25: FutureWarning: The frame.append method is deprecated and will be removed from pandas in a future version. Use pandas.concat instead.\n",
      "  results = results.append({'user': user_id, 'Algorithm': algo, 'KL_div': calibration_scores[0], 'JS_div': calibration_scores[1]}, ignore_index=True)\n"
     ]
    },
    {
     "name": "stdout",
     "output_type": "stream",
     "text": [
      "492\n"
     ]
    },
    {
     "name": "stderr",
     "output_type": "stream",
     "text": [
      "/var/folders/8v/cgqpzdls33l6jdsvj3z4fdyh0000gn/T/ipykernel_64710/506424766.py:25: FutureWarning: The frame.append method is deprecated and will be removed from pandas in a future version. Use pandas.concat instead.\n",
      "  results = results.append({'user': user_id, 'Algorithm': algo, 'KL_div': calibration_scores[0], 'JS_div': calibration_scores[1]}, ignore_index=True)\n",
      "/var/folders/8v/cgqpzdls33l6jdsvj3z4fdyh0000gn/T/ipykernel_64710/506424766.py:25: FutureWarning: The frame.append method is deprecated and will be removed from pandas in a future version. Use pandas.concat instead.\n",
      "  results = results.append({'user': user_id, 'Algorithm': algo, 'KL_div': calibration_scores[0], 'JS_div': calibration_scores[1]}, ignore_index=True)\n"
     ]
    },
    {
     "name": "stdout",
     "output_type": "stream",
     "text": [
      "493\n"
     ]
    },
    {
     "name": "stderr",
     "output_type": "stream",
     "text": [
      "/var/folders/8v/cgqpzdls33l6jdsvj3z4fdyh0000gn/T/ipykernel_64710/506424766.py:25: FutureWarning: The frame.append method is deprecated and will be removed from pandas in a future version. Use pandas.concat instead.\n",
      "  results = results.append({'user': user_id, 'Algorithm': algo, 'KL_div': calibration_scores[0], 'JS_div': calibration_scores[1]}, ignore_index=True)\n",
      "/var/folders/8v/cgqpzdls33l6jdsvj3z4fdyh0000gn/T/ipykernel_64710/506424766.py:25: FutureWarning: The frame.append method is deprecated and will be removed from pandas in a future version. Use pandas.concat instead.\n",
      "  results = results.append({'user': user_id, 'Algorithm': algo, 'KL_div': calibration_scores[0], 'JS_div': calibration_scores[1]}, ignore_index=True)\n"
     ]
    },
    {
     "name": "stdout",
     "output_type": "stream",
     "text": [
      "494\n"
     ]
    },
    {
     "name": "stderr",
     "output_type": "stream",
     "text": [
      "/var/folders/8v/cgqpzdls33l6jdsvj3z4fdyh0000gn/T/ipykernel_64710/506424766.py:25: FutureWarning: The frame.append method is deprecated and will be removed from pandas in a future version. Use pandas.concat instead.\n",
      "  results = results.append({'user': user_id, 'Algorithm': algo, 'KL_div': calibration_scores[0], 'JS_div': calibration_scores[1]}, ignore_index=True)\n",
      "/var/folders/8v/cgqpzdls33l6jdsvj3z4fdyh0000gn/T/ipykernel_64710/506424766.py:25: FutureWarning: The frame.append method is deprecated and will be removed from pandas in a future version. Use pandas.concat instead.\n",
      "  results = results.append({'user': user_id, 'Algorithm': algo, 'KL_div': calibration_scores[0], 'JS_div': calibration_scores[1]}, ignore_index=True)\n"
     ]
    },
    {
     "name": "stdout",
     "output_type": "stream",
     "text": [
      "495\n"
     ]
    },
    {
     "name": "stderr",
     "output_type": "stream",
     "text": [
      "/var/folders/8v/cgqpzdls33l6jdsvj3z4fdyh0000gn/T/ipykernel_64710/506424766.py:25: FutureWarning: The frame.append method is deprecated and will be removed from pandas in a future version. Use pandas.concat instead.\n",
      "  results = results.append({'user': user_id, 'Algorithm': algo, 'KL_div': calibration_scores[0], 'JS_div': calibration_scores[1]}, ignore_index=True)\n",
      "/var/folders/8v/cgqpzdls33l6jdsvj3z4fdyh0000gn/T/ipykernel_64710/506424766.py:25: FutureWarning: The frame.append method is deprecated and will be removed from pandas in a future version. Use pandas.concat instead.\n",
      "  results = results.append({'user': user_id, 'Algorithm': algo, 'KL_div': calibration_scores[0], 'JS_div': calibration_scores[1]}, ignore_index=True)\n"
     ]
    },
    {
     "name": "stdout",
     "output_type": "stream",
     "text": [
      "496\n"
     ]
    },
    {
     "name": "stderr",
     "output_type": "stream",
     "text": [
      "/var/folders/8v/cgqpzdls33l6jdsvj3z4fdyh0000gn/T/ipykernel_64710/506424766.py:25: FutureWarning: The frame.append method is deprecated and will be removed from pandas in a future version. Use pandas.concat instead.\n",
      "  results = results.append({'user': user_id, 'Algorithm': algo, 'KL_div': calibration_scores[0], 'JS_div': calibration_scores[1]}, ignore_index=True)\n",
      "/var/folders/8v/cgqpzdls33l6jdsvj3z4fdyh0000gn/T/ipykernel_64710/506424766.py:25: FutureWarning: The frame.append method is deprecated and will be removed from pandas in a future version. Use pandas.concat instead.\n",
      "  results = results.append({'user': user_id, 'Algorithm': algo, 'KL_div': calibration_scores[0], 'JS_div': calibration_scores[1]}, ignore_index=True)\n"
     ]
    },
    {
     "name": "stdout",
     "output_type": "stream",
     "text": [
      "497\n"
     ]
    },
    {
     "name": "stderr",
     "output_type": "stream",
     "text": [
      "/var/folders/8v/cgqpzdls33l6jdsvj3z4fdyh0000gn/T/ipykernel_64710/506424766.py:25: FutureWarning: The frame.append method is deprecated and will be removed from pandas in a future version. Use pandas.concat instead.\n",
      "  results = results.append({'user': user_id, 'Algorithm': algo, 'KL_div': calibration_scores[0], 'JS_div': calibration_scores[1]}, ignore_index=True)\n",
      "/var/folders/8v/cgqpzdls33l6jdsvj3z4fdyh0000gn/T/ipykernel_64710/506424766.py:25: FutureWarning: The frame.append method is deprecated and will be removed from pandas in a future version. Use pandas.concat instead.\n",
      "  results = results.append({'user': user_id, 'Algorithm': algo, 'KL_div': calibration_scores[0], 'JS_div': calibration_scores[1]}, ignore_index=True)\n"
     ]
    },
    {
     "name": "stdout",
     "output_type": "stream",
     "text": [
      "498\n"
     ]
    },
    {
     "name": "stderr",
     "output_type": "stream",
     "text": [
      "/var/folders/8v/cgqpzdls33l6jdsvj3z4fdyh0000gn/T/ipykernel_64710/506424766.py:25: FutureWarning: The frame.append method is deprecated and will be removed from pandas in a future version. Use pandas.concat instead.\n",
      "  results = results.append({'user': user_id, 'Algorithm': algo, 'KL_div': calibration_scores[0], 'JS_div': calibration_scores[1]}, ignore_index=True)\n",
      "/var/folders/8v/cgqpzdls33l6jdsvj3z4fdyh0000gn/T/ipykernel_64710/506424766.py:25: FutureWarning: The frame.append method is deprecated and will be removed from pandas in a future version. Use pandas.concat instead.\n",
      "  results = results.append({'user': user_id, 'Algorithm': algo, 'KL_div': calibration_scores[0], 'JS_div': calibration_scores[1]}, ignore_index=True)\n"
     ]
    },
    {
     "name": "stdout",
     "output_type": "stream",
     "text": [
      "499\n"
     ]
    },
    {
     "name": "stderr",
     "output_type": "stream",
     "text": [
      "/var/folders/8v/cgqpzdls33l6jdsvj3z4fdyh0000gn/T/ipykernel_64710/506424766.py:25: FutureWarning: The frame.append method is deprecated and will be removed from pandas in a future version. Use pandas.concat instead.\n",
      "  results = results.append({'user': user_id, 'Algorithm': algo, 'KL_div': calibration_scores[0], 'JS_div': calibration_scores[1]}, ignore_index=True)\n",
      "/var/folders/8v/cgqpzdls33l6jdsvj3z4fdyh0000gn/T/ipykernel_64710/506424766.py:25: FutureWarning: The frame.append method is deprecated and will be removed from pandas in a future version. Use pandas.concat instead.\n",
      "  results = results.append({'user': user_id, 'Algorithm': algo, 'KL_div': calibration_scores[0], 'JS_div': calibration_scores[1]}, ignore_index=True)\n"
     ]
    },
    {
     "name": "stdout",
     "output_type": "stream",
     "text": [
      "500\n"
     ]
    },
    {
     "name": "stderr",
     "output_type": "stream",
     "text": [
      "/var/folders/8v/cgqpzdls33l6jdsvj3z4fdyh0000gn/T/ipykernel_64710/506424766.py:25: FutureWarning: The frame.append method is deprecated and will be removed from pandas in a future version. Use pandas.concat instead.\n",
      "  results = results.append({'user': user_id, 'Algorithm': algo, 'KL_div': calibration_scores[0], 'JS_div': calibration_scores[1]}, ignore_index=True)\n",
      "/var/folders/8v/cgqpzdls33l6jdsvj3z4fdyh0000gn/T/ipykernel_64710/506424766.py:25: FutureWarning: The frame.append method is deprecated and will be removed from pandas in a future version. Use pandas.concat instead.\n",
      "  results = results.append({'user': user_id, 'Algorithm': algo, 'KL_div': calibration_scores[0], 'JS_div': calibration_scores[1]}, ignore_index=True)\n"
     ]
    },
    {
     "name": "stdout",
     "output_type": "stream",
     "text": [
      "501\n"
     ]
    },
    {
     "name": "stderr",
     "output_type": "stream",
     "text": [
      "/var/folders/8v/cgqpzdls33l6jdsvj3z4fdyh0000gn/T/ipykernel_64710/506424766.py:25: FutureWarning: The frame.append method is deprecated and will be removed from pandas in a future version. Use pandas.concat instead.\n",
      "  results = results.append({'user': user_id, 'Algorithm': algo, 'KL_div': calibration_scores[0], 'JS_div': calibration_scores[1]}, ignore_index=True)\n",
      "/var/folders/8v/cgqpzdls33l6jdsvj3z4fdyh0000gn/T/ipykernel_64710/506424766.py:25: FutureWarning: The frame.append method is deprecated and will be removed from pandas in a future version. Use pandas.concat instead.\n",
      "  results = results.append({'user': user_id, 'Algorithm': algo, 'KL_div': calibration_scores[0], 'JS_div': calibration_scores[1]}, ignore_index=True)\n"
     ]
    },
    {
     "name": "stdout",
     "output_type": "stream",
     "text": [
      "502\n"
     ]
    },
    {
     "name": "stderr",
     "output_type": "stream",
     "text": [
      "/var/folders/8v/cgqpzdls33l6jdsvj3z4fdyh0000gn/T/ipykernel_64710/506424766.py:25: FutureWarning: The frame.append method is deprecated and will be removed from pandas in a future version. Use pandas.concat instead.\n",
      "  results = results.append({'user': user_id, 'Algorithm': algo, 'KL_div': calibration_scores[0], 'JS_div': calibration_scores[1]}, ignore_index=True)\n",
      "/var/folders/8v/cgqpzdls33l6jdsvj3z4fdyh0000gn/T/ipykernel_64710/506424766.py:25: FutureWarning: The frame.append method is deprecated and will be removed from pandas in a future version. Use pandas.concat instead.\n",
      "  results = results.append({'user': user_id, 'Algorithm': algo, 'KL_div': calibration_scores[0], 'JS_div': calibration_scores[1]}, ignore_index=True)\n"
     ]
    },
    {
     "name": "stdout",
     "output_type": "stream",
     "text": [
      "503\n"
     ]
    },
    {
     "name": "stderr",
     "output_type": "stream",
     "text": [
      "/var/folders/8v/cgqpzdls33l6jdsvj3z4fdyh0000gn/T/ipykernel_64710/506424766.py:25: FutureWarning: The frame.append method is deprecated and will be removed from pandas in a future version. Use pandas.concat instead.\n",
      "  results = results.append({'user': user_id, 'Algorithm': algo, 'KL_div': calibration_scores[0], 'JS_div': calibration_scores[1]}, ignore_index=True)\n",
      "/var/folders/8v/cgqpzdls33l6jdsvj3z4fdyh0000gn/T/ipykernel_64710/506424766.py:25: FutureWarning: The frame.append method is deprecated and will be removed from pandas in a future version. Use pandas.concat instead.\n",
      "  results = results.append({'user': user_id, 'Algorithm': algo, 'KL_div': calibration_scores[0], 'JS_div': calibration_scores[1]}, ignore_index=True)\n"
     ]
    },
    {
     "name": "stdout",
     "output_type": "stream",
     "text": [
      "504\n"
     ]
    },
    {
     "name": "stderr",
     "output_type": "stream",
     "text": [
      "/var/folders/8v/cgqpzdls33l6jdsvj3z4fdyh0000gn/T/ipykernel_64710/506424766.py:25: FutureWarning: The frame.append method is deprecated and will be removed from pandas in a future version. Use pandas.concat instead.\n",
      "  results = results.append({'user': user_id, 'Algorithm': algo, 'KL_div': calibration_scores[0], 'JS_div': calibration_scores[1]}, ignore_index=True)\n",
      "/var/folders/8v/cgqpzdls33l6jdsvj3z4fdyh0000gn/T/ipykernel_64710/506424766.py:25: FutureWarning: The frame.append method is deprecated and will be removed from pandas in a future version. Use pandas.concat instead.\n",
      "  results = results.append({'user': user_id, 'Algorithm': algo, 'KL_div': calibration_scores[0], 'JS_div': calibration_scores[1]}, ignore_index=True)\n"
     ]
    },
    {
     "name": "stdout",
     "output_type": "stream",
     "text": [
      "505\n"
     ]
    },
    {
     "name": "stderr",
     "output_type": "stream",
     "text": [
      "/var/folders/8v/cgqpzdls33l6jdsvj3z4fdyh0000gn/T/ipykernel_64710/506424766.py:25: FutureWarning: The frame.append method is deprecated and will be removed from pandas in a future version. Use pandas.concat instead.\n",
      "  results = results.append({'user': user_id, 'Algorithm': algo, 'KL_div': calibration_scores[0], 'JS_div': calibration_scores[1]}, ignore_index=True)\n",
      "/var/folders/8v/cgqpzdls33l6jdsvj3z4fdyh0000gn/T/ipykernel_64710/506424766.py:25: FutureWarning: The frame.append method is deprecated and will be removed from pandas in a future version. Use pandas.concat instead.\n",
      "  results = results.append({'user': user_id, 'Algorithm': algo, 'KL_div': calibration_scores[0], 'JS_div': calibration_scores[1]}, ignore_index=True)\n"
     ]
    },
    {
     "name": "stdout",
     "output_type": "stream",
     "text": [
      "506\n"
     ]
    },
    {
     "name": "stderr",
     "output_type": "stream",
     "text": [
      "/var/folders/8v/cgqpzdls33l6jdsvj3z4fdyh0000gn/T/ipykernel_64710/506424766.py:25: FutureWarning: The frame.append method is deprecated and will be removed from pandas in a future version. Use pandas.concat instead.\n",
      "  results = results.append({'user': user_id, 'Algorithm': algo, 'KL_div': calibration_scores[0], 'JS_div': calibration_scores[1]}, ignore_index=True)\n",
      "/var/folders/8v/cgqpzdls33l6jdsvj3z4fdyh0000gn/T/ipykernel_64710/506424766.py:25: FutureWarning: The frame.append method is deprecated and will be removed from pandas in a future version. Use pandas.concat instead.\n",
      "  results = results.append({'user': user_id, 'Algorithm': algo, 'KL_div': calibration_scores[0], 'JS_div': calibration_scores[1]}, ignore_index=True)\n"
     ]
    },
    {
     "name": "stdout",
     "output_type": "stream",
     "text": [
      "507\n"
     ]
    },
    {
     "name": "stderr",
     "output_type": "stream",
     "text": [
      "/var/folders/8v/cgqpzdls33l6jdsvj3z4fdyh0000gn/T/ipykernel_64710/506424766.py:25: FutureWarning: The frame.append method is deprecated and will be removed from pandas in a future version. Use pandas.concat instead.\n",
      "  results = results.append({'user': user_id, 'Algorithm': algo, 'KL_div': calibration_scores[0], 'JS_div': calibration_scores[1]}, ignore_index=True)\n",
      "/var/folders/8v/cgqpzdls33l6jdsvj3z4fdyh0000gn/T/ipykernel_64710/506424766.py:25: FutureWarning: The frame.append method is deprecated and will be removed from pandas in a future version. Use pandas.concat instead.\n",
      "  results = results.append({'user': user_id, 'Algorithm': algo, 'KL_div': calibration_scores[0], 'JS_div': calibration_scores[1]}, ignore_index=True)\n"
     ]
    },
    {
     "name": "stdout",
     "output_type": "stream",
     "text": [
      "508\n"
     ]
    },
    {
     "name": "stderr",
     "output_type": "stream",
     "text": [
      "/var/folders/8v/cgqpzdls33l6jdsvj3z4fdyh0000gn/T/ipykernel_64710/506424766.py:25: FutureWarning: The frame.append method is deprecated and will be removed from pandas in a future version. Use pandas.concat instead.\n",
      "  results = results.append({'user': user_id, 'Algorithm': algo, 'KL_div': calibration_scores[0], 'JS_div': calibration_scores[1]}, ignore_index=True)\n",
      "/var/folders/8v/cgqpzdls33l6jdsvj3z4fdyh0000gn/T/ipykernel_64710/506424766.py:25: FutureWarning: The frame.append method is deprecated and will be removed from pandas in a future version. Use pandas.concat instead.\n",
      "  results = results.append({'user': user_id, 'Algorithm': algo, 'KL_div': calibration_scores[0], 'JS_div': calibration_scores[1]}, ignore_index=True)\n"
     ]
    },
    {
     "name": "stdout",
     "output_type": "stream",
     "text": [
      "509\n"
     ]
    },
    {
     "name": "stderr",
     "output_type": "stream",
     "text": [
      "/var/folders/8v/cgqpzdls33l6jdsvj3z4fdyh0000gn/T/ipykernel_64710/506424766.py:25: FutureWarning: The frame.append method is deprecated and will be removed from pandas in a future version. Use pandas.concat instead.\n",
      "  results = results.append({'user': user_id, 'Algorithm': algo, 'KL_div': calibration_scores[0], 'JS_div': calibration_scores[1]}, ignore_index=True)\n",
      "/var/folders/8v/cgqpzdls33l6jdsvj3z4fdyh0000gn/T/ipykernel_64710/506424766.py:25: FutureWarning: The frame.append method is deprecated and will be removed from pandas in a future version. Use pandas.concat instead.\n",
      "  results = results.append({'user': user_id, 'Algorithm': algo, 'KL_div': calibration_scores[0], 'JS_div': calibration_scores[1]}, ignore_index=True)\n"
     ]
    },
    {
     "name": "stdout",
     "output_type": "stream",
     "text": [
      "510\n"
     ]
    },
    {
     "name": "stderr",
     "output_type": "stream",
     "text": [
      "/var/folders/8v/cgqpzdls33l6jdsvj3z4fdyh0000gn/T/ipykernel_64710/506424766.py:25: FutureWarning: The frame.append method is deprecated and will be removed from pandas in a future version. Use pandas.concat instead.\n",
      "  results = results.append({'user': user_id, 'Algorithm': algo, 'KL_div': calibration_scores[0], 'JS_div': calibration_scores[1]}, ignore_index=True)\n",
      "/var/folders/8v/cgqpzdls33l6jdsvj3z4fdyh0000gn/T/ipykernel_64710/506424766.py:25: FutureWarning: The frame.append method is deprecated and will be removed from pandas in a future version. Use pandas.concat instead.\n",
      "  results = results.append({'user': user_id, 'Algorithm': algo, 'KL_div': calibration_scores[0], 'JS_div': calibration_scores[1]}, ignore_index=True)\n"
     ]
    },
    {
     "name": "stdout",
     "output_type": "stream",
     "text": [
      "511\n"
     ]
    },
    {
     "name": "stderr",
     "output_type": "stream",
     "text": [
      "/var/folders/8v/cgqpzdls33l6jdsvj3z4fdyh0000gn/T/ipykernel_64710/506424766.py:25: FutureWarning: The frame.append method is deprecated and will be removed from pandas in a future version. Use pandas.concat instead.\n",
      "  results = results.append({'user': user_id, 'Algorithm': algo, 'KL_div': calibration_scores[0], 'JS_div': calibration_scores[1]}, ignore_index=True)\n",
      "/var/folders/8v/cgqpzdls33l6jdsvj3z4fdyh0000gn/T/ipykernel_64710/506424766.py:25: FutureWarning: The frame.append method is deprecated and will be removed from pandas in a future version. Use pandas.concat instead.\n",
      "  results = results.append({'user': user_id, 'Algorithm': algo, 'KL_div': calibration_scores[0], 'JS_div': calibration_scores[1]}, ignore_index=True)\n"
     ]
    },
    {
     "name": "stdout",
     "output_type": "stream",
     "text": [
      "512\n"
     ]
    },
    {
     "name": "stderr",
     "output_type": "stream",
     "text": [
      "/var/folders/8v/cgqpzdls33l6jdsvj3z4fdyh0000gn/T/ipykernel_64710/506424766.py:25: FutureWarning: The frame.append method is deprecated and will be removed from pandas in a future version. Use pandas.concat instead.\n",
      "  results = results.append({'user': user_id, 'Algorithm': algo, 'KL_div': calibration_scores[0], 'JS_div': calibration_scores[1]}, ignore_index=True)\n",
      "/var/folders/8v/cgqpzdls33l6jdsvj3z4fdyh0000gn/T/ipykernel_64710/506424766.py:25: FutureWarning: The frame.append method is deprecated and will be removed from pandas in a future version. Use pandas.concat instead.\n",
      "  results = results.append({'user': user_id, 'Algorithm': algo, 'KL_div': calibration_scores[0], 'JS_div': calibration_scores[1]}, ignore_index=True)\n"
     ]
    },
    {
     "name": "stdout",
     "output_type": "stream",
     "text": [
      "513\n"
     ]
    },
    {
     "name": "stderr",
     "output_type": "stream",
     "text": [
      "/var/folders/8v/cgqpzdls33l6jdsvj3z4fdyh0000gn/T/ipykernel_64710/506424766.py:25: FutureWarning: The frame.append method is deprecated and will be removed from pandas in a future version. Use pandas.concat instead.\n",
      "  results = results.append({'user': user_id, 'Algorithm': algo, 'KL_div': calibration_scores[0], 'JS_div': calibration_scores[1]}, ignore_index=True)\n",
      "/var/folders/8v/cgqpzdls33l6jdsvj3z4fdyh0000gn/T/ipykernel_64710/506424766.py:25: FutureWarning: The frame.append method is deprecated and will be removed from pandas in a future version. Use pandas.concat instead.\n",
      "  results = results.append({'user': user_id, 'Algorithm': algo, 'KL_div': calibration_scores[0], 'JS_div': calibration_scores[1]}, ignore_index=True)\n"
     ]
    },
    {
     "name": "stdout",
     "output_type": "stream",
     "text": [
      "514\n"
     ]
    },
    {
     "name": "stderr",
     "output_type": "stream",
     "text": [
      "/var/folders/8v/cgqpzdls33l6jdsvj3z4fdyh0000gn/T/ipykernel_64710/506424766.py:25: FutureWarning: The frame.append method is deprecated and will be removed from pandas in a future version. Use pandas.concat instead.\n",
      "  results = results.append({'user': user_id, 'Algorithm': algo, 'KL_div': calibration_scores[0], 'JS_div': calibration_scores[1]}, ignore_index=True)\n",
      "/var/folders/8v/cgqpzdls33l6jdsvj3z4fdyh0000gn/T/ipykernel_64710/506424766.py:25: FutureWarning: The frame.append method is deprecated and will be removed from pandas in a future version. Use pandas.concat instead.\n",
      "  results = results.append({'user': user_id, 'Algorithm': algo, 'KL_div': calibration_scores[0], 'JS_div': calibration_scores[1]}, ignore_index=True)\n"
     ]
    },
    {
     "name": "stdout",
     "output_type": "stream",
     "text": [
      "515\n"
     ]
    },
    {
     "name": "stderr",
     "output_type": "stream",
     "text": [
      "/var/folders/8v/cgqpzdls33l6jdsvj3z4fdyh0000gn/T/ipykernel_64710/506424766.py:25: FutureWarning: The frame.append method is deprecated and will be removed from pandas in a future version. Use pandas.concat instead.\n",
      "  results = results.append({'user': user_id, 'Algorithm': algo, 'KL_div': calibration_scores[0], 'JS_div': calibration_scores[1]}, ignore_index=True)\n",
      "/var/folders/8v/cgqpzdls33l6jdsvj3z4fdyh0000gn/T/ipykernel_64710/506424766.py:25: FutureWarning: The frame.append method is deprecated and will be removed from pandas in a future version. Use pandas.concat instead.\n",
      "  results = results.append({'user': user_id, 'Algorithm': algo, 'KL_div': calibration_scores[0], 'JS_div': calibration_scores[1]}, ignore_index=True)\n"
     ]
    },
    {
     "name": "stdout",
     "output_type": "stream",
     "text": [
      "516\n"
     ]
    },
    {
     "name": "stderr",
     "output_type": "stream",
     "text": [
      "/var/folders/8v/cgqpzdls33l6jdsvj3z4fdyh0000gn/T/ipykernel_64710/506424766.py:25: FutureWarning: The frame.append method is deprecated and will be removed from pandas in a future version. Use pandas.concat instead.\n",
      "  results = results.append({'user': user_id, 'Algorithm': algo, 'KL_div': calibration_scores[0], 'JS_div': calibration_scores[1]}, ignore_index=True)\n",
      "/var/folders/8v/cgqpzdls33l6jdsvj3z4fdyh0000gn/T/ipykernel_64710/506424766.py:25: FutureWarning: The frame.append method is deprecated and will be removed from pandas in a future version. Use pandas.concat instead.\n",
      "  results = results.append({'user': user_id, 'Algorithm': algo, 'KL_div': calibration_scores[0], 'JS_div': calibration_scores[1]}, ignore_index=True)\n"
     ]
    },
    {
     "name": "stdout",
     "output_type": "stream",
     "text": [
      "517\n"
     ]
    },
    {
     "name": "stderr",
     "output_type": "stream",
     "text": [
      "/var/folders/8v/cgqpzdls33l6jdsvj3z4fdyh0000gn/T/ipykernel_64710/506424766.py:25: FutureWarning: The frame.append method is deprecated and will be removed from pandas in a future version. Use pandas.concat instead.\n",
      "  results = results.append({'user': user_id, 'Algorithm': algo, 'KL_div': calibration_scores[0], 'JS_div': calibration_scores[1]}, ignore_index=True)\n",
      "/var/folders/8v/cgqpzdls33l6jdsvj3z4fdyh0000gn/T/ipykernel_64710/506424766.py:25: FutureWarning: The frame.append method is deprecated and will be removed from pandas in a future version. Use pandas.concat instead.\n",
      "  results = results.append({'user': user_id, 'Algorithm': algo, 'KL_div': calibration_scores[0], 'JS_div': calibration_scores[1]}, ignore_index=True)\n"
     ]
    },
    {
     "name": "stdout",
     "output_type": "stream",
     "text": [
      "518\n"
     ]
    },
    {
     "name": "stderr",
     "output_type": "stream",
     "text": [
      "/var/folders/8v/cgqpzdls33l6jdsvj3z4fdyh0000gn/T/ipykernel_64710/506424766.py:25: FutureWarning: The frame.append method is deprecated and will be removed from pandas in a future version. Use pandas.concat instead.\n",
      "  results = results.append({'user': user_id, 'Algorithm': algo, 'KL_div': calibration_scores[0], 'JS_div': calibration_scores[1]}, ignore_index=True)\n",
      "/var/folders/8v/cgqpzdls33l6jdsvj3z4fdyh0000gn/T/ipykernel_64710/506424766.py:25: FutureWarning: The frame.append method is deprecated and will be removed from pandas in a future version. Use pandas.concat instead.\n",
      "  results = results.append({'user': user_id, 'Algorithm': algo, 'KL_div': calibration_scores[0], 'JS_div': calibration_scores[1]}, ignore_index=True)\n"
     ]
    },
    {
     "name": "stdout",
     "output_type": "stream",
     "text": [
      "519\n"
     ]
    },
    {
     "name": "stderr",
     "output_type": "stream",
     "text": [
      "/var/folders/8v/cgqpzdls33l6jdsvj3z4fdyh0000gn/T/ipykernel_64710/506424766.py:25: FutureWarning: The frame.append method is deprecated and will be removed from pandas in a future version. Use pandas.concat instead.\n",
      "  results = results.append({'user': user_id, 'Algorithm': algo, 'KL_div': calibration_scores[0], 'JS_div': calibration_scores[1]}, ignore_index=True)\n",
      "/var/folders/8v/cgqpzdls33l6jdsvj3z4fdyh0000gn/T/ipykernel_64710/506424766.py:25: FutureWarning: The frame.append method is deprecated and will be removed from pandas in a future version. Use pandas.concat instead.\n",
      "  results = results.append({'user': user_id, 'Algorithm': algo, 'KL_div': calibration_scores[0], 'JS_div': calibration_scores[1]}, ignore_index=True)\n"
     ]
    },
    {
     "name": "stdout",
     "output_type": "stream",
     "text": [
      "520\n"
     ]
    },
    {
     "name": "stderr",
     "output_type": "stream",
     "text": [
      "/var/folders/8v/cgqpzdls33l6jdsvj3z4fdyh0000gn/T/ipykernel_64710/506424766.py:25: FutureWarning: The frame.append method is deprecated and will be removed from pandas in a future version. Use pandas.concat instead.\n",
      "  results = results.append({'user': user_id, 'Algorithm': algo, 'KL_div': calibration_scores[0], 'JS_div': calibration_scores[1]}, ignore_index=True)\n",
      "/var/folders/8v/cgqpzdls33l6jdsvj3z4fdyh0000gn/T/ipykernel_64710/506424766.py:25: FutureWarning: The frame.append method is deprecated and will be removed from pandas in a future version. Use pandas.concat instead.\n",
      "  results = results.append({'user': user_id, 'Algorithm': algo, 'KL_div': calibration_scores[0], 'JS_div': calibration_scores[1]}, ignore_index=True)\n"
     ]
    },
    {
     "name": "stdout",
     "output_type": "stream",
     "text": [
      "521\n"
     ]
    },
    {
     "name": "stderr",
     "output_type": "stream",
     "text": [
      "/var/folders/8v/cgqpzdls33l6jdsvj3z4fdyh0000gn/T/ipykernel_64710/506424766.py:25: FutureWarning: The frame.append method is deprecated and will be removed from pandas in a future version. Use pandas.concat instead.\n",
      "  results = results.append({'user': user_id, 'Algorithm': algo, 'KL_div': calibration_scores[0], 'JS_div': calibration_scores[1]}, ignore_index=True)\n",
      "/var/folders/8v/cgqpzdls33l6jdsvj3z4fdyh0000gn/T/ipykernel_64710/506424766.py:25: FutureWarning: The frame.append method is deprecated and will be removed from pandas in a future version. Use pandas.concat instead.\n",
      "  results = results.append({'user': user_id, 'Algorithm': algo, 'KL_div': calibration_scores[0], 'JS_div': calibration_scores[1]}, ignore_index=True)\n"
     ]
    },
    {
     "name": "stdout",
     "output_type": "stream",
     "text": [
      "522\n"
     ]
    },
    {
     "name": "stderr",
     "output_type": "stream",
     "text": [
      "/var/folders/8v/cgqpzdls33l6jdsvj3z4fdyh0000gn/T/ipykernel_64710/506424766.py:25: FutureWarning: The frame.append method is deprecated and will be removed from pandas in a future version. Use pandas.concat instead.\n",
      "  results = results.append({'user': user_id, 'Algorithm': algo, 'KL_div': calibration_scores[0], 'JS_div': calibration_scores[1]}, ignore_index=True)\n",
      "/var/folders/8v/cgqpzdls33l6jdsvj3z4fdyh0000gn/T/ipykernel_64710/506424766.py:25: FutureWarning: The frame.append method is deprecated and will be removed from pandas in a future version. Use pandas.concat instead.\n",
      "  results = results.append({'user': user_id, 'Algorithm': algo, 'KL_div': calibration_scores[0], 'JS_div': calibration_scores[1]}, ignore_index=True)\n"
     ]
    },
    {
     "name": "stdout",
     "output_type": "stream",
     "text": [
      "523\n"
     ]
    },
    {
     "name": "stderr",
     "output_type": "stream",
     "text": [
      "/var/folders/8v/cgqpzdls33l6jdsvj3z4fdyh0000gn/T/ipykernel_64710/506424766.py:25: FutureWarning: The frame.append method is deprecated and will be removed from pandas in a future version. Use pandas.concat instead.\n",
      "  results = results.append({'user': user_id, 'Algorithm': algo, 'KL_div': calibration_scores[0], 'JS_div': calibration_scores[1]}, ignore_index=True)\n",
      "/var/folders/8v/cgqpzdls33l6jdsvj3z4fdyh0000gn/T/ipykernel_64710/506424766.py:25: FutureWarning: The frame.append method is deprecated and will be removed from pandas in a future version. Use pandas.concat instead.\n",
      "  results = results.append({'user': user_id, 'Algorithm': algo, 'KL_div': calibration_scores[0], 'JS_div': calibration_scores[1]}, ignore_index=True)\n"
     ]
    },
    {
     "name": "stdout",
     "output_type": "stream",
     "text": [
      "524\n"
     ]
    },
    {
     "name": "stderr",
     "output_type": "stream",
     "text": [
      "/var/folders/8v/cgqpzdls33l6jdsvj3z4fdyh0000gn/T/ipykernel_64710/506424766.py:25: FutureWarning: The frame.append method is deprecated and will be removed from pandas in a future version. Use pandas.concat instead.\n",
      "  results = results.append({'user': user_id, 'Algorithm': algo, 'KL_div': calibration_scores[0], 'JS_div': calibration_scores[1]}, ignore_index=True)\n",
      "/var/folders/8v/cgqpzdls33l6jdsvj3z4fdyh0000gn/T/ipykernel_64710/506424766.py:25: FutureWarning: The frame.append method is deprecated and will be removed from pandas in a future version. Use pandas.concat instead.\n",
      "  results = results.append({'user': user_id, 'Algorithm': algo, 'KL_div': calibration_scores[0], 'JS_div': calibration_scores[1]}, ignore_index=True)\n"
     ]
    },
    {
     "name": "stdout",
     "output_type": "stream",
     "text": [
      "525\n"
     ]
    },
    {
     "name": "stderr",
     "output_type": "stream",
     "text": [
      "/var/folders/8v/cgqpzdls33l6jdsvj3z4fdyh0000gn/T/ipykernel_64710/506424766.py:25: FutureWarning: The frame.append method is deprecated and will be removed from pandas in a future version. Use pandas.concat instead.\n",
      "  results = results.append({'user': user_id, 'Algorithm': algo, 'KL_div': calibration_scores[0], 'JS_div': calibration_scores[1]}, ignore_index=True)\n",
      "/var/folders/8v/cgqpzdls33l6jdsvj3z4fdyh0000gn/T/ipykernel_64710/506424766.py:25: FutureWarning: The frame.append method is deprecated and will be removed from pandas in a future version. Use pandas.concat instead.\n",
      "  results = results.append({'user': user_id, 'Algorithm': algo, 'KL_div': calibration_scores[0], 'JS_div': calibration_scores[1]}, ignore_index=True)\n"
     ]
    },
    {
     "name": "stdout",
     "output_type": "stream",
     "text": [
      "526\n"
     ]
    },
    {
     "name": "stderr",
     "output_type": "stream",
     "text": [
      "/var/folders/8v/cgqpzdls33l6jdsvj3z4fdyh0000gn/T/ipykernel_64710/506424766.py:25: FutureWarning: The frame.append method is deprecated and will be removed from pandas in a future version. Use pandas.concat instead.\n",
      "  results = results.append({'user': user_id, 'Algorithm': algo, 'KL_div': calibration_scores[0], 'JS_div': calibration_scores[1]}, ignore_index=True)\n",
      "/var/folders/8v/cgqpzdls33l6jdsvj3z4fdyh0000gn/T/ipykernel_64710/506424766.py:25: FutureWarning: The frame.append method is deprecated and will be removed from pandas in a future version. Use pandas.concat instead.\n",
      "  results = results.append({'user': user_id, 'Algorithm': algo, 'KL_div': calibration_scores[0], 'JS_div': calibration_scores[1]}, ignore_index=True)\n"
     ]
    },
    {
     "name": "stdout",
     "output_type": "stream",
     "text": [
      "527\n"
     ]
    },
    {
     "name": "stderr",
     "output_type": "stream",
     "text": [
      "/var/folders/8v/cgqpzdls33l6jdsvj3z4fdyh0000gn/T/ipykernel_64710/506424766.py:25: FutureWarning: The frame.append method is deprecated and will be removed from pandas in a future version. Use pandas.concat instead.\n",
      "  results = results.append({'user': user_id, 'Algorithm': algo, 'KL_div': calibration_scores[0], 'JS_div': calibration_scores[1]}, ignore_index=True)\n",
      "/var/folders/8v/cgqpzdls33l6jdsvj3z4fdyh0000gn/T/ipykernel_64710/506424766.py:25: FutureWarning: The frame.append method is deprecated and will be removed from pandas in a future version. Use pandas.concat instead.\n",
      "  results = results.append({'user': user_id, 'Algorithm': algo, 'KL_div': calibration_scores[0], 'JS_div': calibration_scores[1]}, ignore_index=True)\n"
     ]
    },
    {
     "name": "stdout",
     "output_type": "stream",
     "text": [
      "528\n"
     ]
    },
    {
     "name": "stderr",
     "output_type": "stream",
     "text": [
      "/var/folders/8v/cgqpzdls33l6jdsvj3z4fdyh0000gn/T/ipykernel_64710/506424766.py:25: FutureWarning: The frame.append method is deprecated and will be removed from pandas in a future version. Use pandas.concat instead.\n",
      "  results = results.append({'user': user_id, 'Algorithm': algo, 'KL_div': calibration_scores[0], 'JS_div': calibration_scores[1]}, ignore_index=True)\n",
      "/var/folders/8v/cgqpzdls33l6jdsvj3z4fdyh0000gn/T/ipykernel_64710/506424766.py:25: FutureWarning: The frame.append method is deprecated and will be removed from pandas in a future version. Use pandas.concat instead.\n",
      "  results = results.append({'user': user_id, 'Algorithm': algo, 'KL_div': calibration_scores[0], 'JS_div': calibration_scores[1]}, ignore_index=True)\n"
     ]
    },
    {
     "name": "stdout",
     "output_type": "stream",
     "text": [
      "529\n"
     ]
    },
    {
     "name": "stderr",
     "output_type": "stream",
     "text": [
      "/var/folders/8v/cgqpzdls33l6jdsvj3z4fdyh0000gn/T/ipykernel_64710/506424766.py:25: FutureWarning: The frame.append method is deprecated and will be removed from pandas in a future version. Use pandas.concat instead.\n",
      "  results = results.append({'user': user_id, 'Algorithm': algo, 'KL_div': calibration_scores[0], 'JS_div': calibration_scores[1]}, ignore_index=True)\n",
      "/var/folders/8v/cgqpzdls33l6jdsvj3z4fdyh0000gn/T/ipykernel_64710/506424766.py:25: FutureWarning: The frame.append method is deprecated and will be removed from pandas in a future version. Use pandas.concat instead.\n",
      "  results = results.append({'user': user_id, 'Algorithm': algo, 'KL_div': calibration_scores[0], 'JS_div': calibration_scores[1]}, ignore_index=True)\n"
     ]
    },
    {
     "name": "stdout",
     "output_type": "stream",
     "text": [
      "530\n"
     ]
    },
    {
     "name": "stderr",
     "output_type": "stream",
     "text": [
      "/var/folders/8v/cgqpzdls33l6jdsvj3z4fdyh0000gn/T/ipykernel_64710/506424766.py:25: FutureWarning: The frame.append method is deprecated and will be removed from pandas in a future version. Use pandas.concat instead.\n",
      "  results = results.append({'user': user_id, 'Algorithm': algo, 'KL_div': calibration_scores[0], 'JS_div': calibration_scores[1]}, ignore_index=True)\n",
      "/var/folders/8v/cgqpzdls33l6jdsvj3z4fdyh0000gn/T/ipykernel_64710/506424766.py:25: FutureWarning: The frame.append method is deprecated and will be removed from pandas in a future version. Use pandas.concat instead.\n",
      "  results = results.append({'user': user_id, 'Algorithm': algo, 'KL_div': calibration_scores[0], 'JS_div': calibration_scores[1]}, ignore_index=True)\n"
     ]
    },
    {
     "name": "stdout",
     "output_type": "stream",
     "text": [
      "531\n"
     ]
    },
    {
     "name": "stderr",
     "output_type": "stream",
     "text": [
      "/var/folders/8v/cgqpzdls33l6jdsvj3z4fdyh0000gn/T/ipykernel_64710/506424766.py:25: FutureWarning: The frame.append method is deprecated and will be removed from pandas in a future version. Use pandas.concat instead.\n",
      "  results = results.append({'user': user_id, 'Algorithm': algo, 'KL_div': calibration_scores[0], 'JS_div': calibration_scores[1]}, ignore_index=True)\n",
      "/var/folders/8v/cgqpzdls33l6jdsvj3z4fdyh0000gn/T/ipykernel_64710/506424766.py:25: FutureWarning: The frame.append method is deprecated and will be removed from pandas in a future version. Use pandas.concat instead.\n",
      "  results = results.append({'user': user_id, 'Algorithm': algo, 'KL_div': calibration_scores[0], 'JS_div': calibration_scores[1]}, ignore_index=True)\n"
     ]
    },
    {
     "name": "stdout",
     "output_type": "stream",
     "text": [
      "532\n"
     ]
    },
    {
     "name": "stderr",
     "output_type": "stream",
     "text": [
      "/var/folders/8v/cgqpzdls33l6jdsvj3z4fdyh0000gn/T/ipykernel_64710/506424766.py:25: FutureWarning: The frame.append method is deprecated and will be removed from pandas in a future version. Use pandas.concat instead.\n",
      "  results = results.append({'user': user_id, 'Algorithm': algo, 'KL_div': calibration_scores[0], 'JS_div': calibration_scores[1]}, ignore_index=True)\n",
      "/var/folders/8v/cgqpzdls33l6jdsvj3z4fdyh0000gn/T/ipykernel_64710/506424766.py:25: FutureWarning: The frame.append method is deprecated and will be removed from pandas in a future version. Use pandas.concat instead.\n",
      "  results = results.append({'user': user_id, 'Algorithm': algo, 'KL_div': calibration_scores[0], 'JS_div': calibration_scores[1]}, ignore_index=True)\n"
     ]
    },
    {
     "name": "stdout",
     "output_type": "stream",
     "text": [
      "533\n"
     ]
    },
    {
     "name": "stderr",
     "output_type": "stream",
     "text": [
      "/var/folders/8v/cgqpzdls33l6jdsvj3z4fdyh0000gn/T/ipykernel_64710/506424766.py:25: FutureWarning: The frame.append method is deprecated and will be removed from pandas in a future version. Use pandas.concat instead.\n",
      "  results = results.append({'user': user_id, 'Algorithm': algo, 'KL_div': calibration_scores[0], 'JS_div': calibration_scores[1]}, ignore_index=True)\n",
      "/var/folders/8v/cgqpzdls33l6jdsvj3z4fdyh0000gn/T/ipykernel_64710/506424766.py:25: FutureWarning: The frame.append method is deprecated and will be removed from pandas in a future version. Use pandas.concat instead.\n",
      "  results = results.append({'user': user_id, 'Algorithm': algo, 'KL_div': calibration_scores[0], 'JS_div': calibration_scores[1]}, ignore_index=True)\n"
     ]
    },
    {
     "name": "stdout",
     "output_type": "stream",
     "text": [
      "534\n"
     ]
    },
    {
     "name": "stderr",
     "output_type": "stream",
     "text": [
      "/var/folders/8v/cgqpzdls33l6jdsvj3z4fdyh0000gn/T/ipykernel_64710/506424766.py:25: FutureWarning: The frame.append method is deprecated and will be removed from pandas in a future version. Use pandas.concat instead.\n",
      "  results = results.append({'user': user_id, 'Algorithm': algo, 'KL_div': calibration_scores[0], 'JS_div': calibration_scores[1]}, ignore_index=True)\n",
      "/var/folders/8v/cgqpzdls33l6jdsvj3z4fdyh0000gn/T/ipykernel_64710/506424766.py:25: FutureWarning: The frame.append method is deprecated and will be removed from pandas in a future version. Use pandas.concat instead.\n",
      "  results = results.append({'user': user_id, 'Algorithm': algo, 'KL_div': calibration_scores[0], 'JS_div': calibration_scores[1]}, ignore_index=True)\n"
     ]
    },
    {
     "name": "stdout",
     "output_type": "stream",
     "text": [
      "535\n"
     ]
    },
    {
     "name": "stderr",
     "output_type": "stream",
     "text": [
      "/var/folders/8v/cgqpzdls33l6jdsvj3z4fdyh0000gn/T/ipykernel_64710/506424766.py:25: FutureWarning: The frame.append method is deprecated and will be removed from pandas in a future version. Use pandas.concat instead.\n",
      "  results = results.append({'user': user_id, 'Algorithm': algo, 'KL_div': calibration_scores[0], 'JS_div': calibration_scores[1]}, ignore_index=True)\n",
      "/var/folders/8v/cgqpzdls33l6jdsvj3z4fdyh0000gn/T/ipykernel_64710/506424766.py:25: FutureWarning: The frame.append method is deprecated and will be removed from pandas in a future version. Use pandas.concat instead.\n",
      "  results = results.append({'user': user_id, 'Algorithm': algo, 'KL_div': calibration_scores[0], 'JS_div': calibration_scores[1]}, ignore_index=True)\n"
     ]
    },
    {
     "name": "stdout",
     "output_type": "stream",
     "text": [
      "536\n"
     ]
    },
    {
     "name": "stderr",
     "output_type": "stream",
     "text": [
      "/var/folders/8v/cgqpzdls33l6jdsvj3z4fdyh0000gn/T/ipykernel_64710/506424766.py:25: FutureWarning: The frame.append method is deprecated and will be removed from pandas in a future version. Use pandas.concat instead.\n",
      "  results = results.append({'user': user_id, 'Algorithm': algo, 'KL_div': calibration_scores[0], 'JS_div': calibration_scores[1]}, ignore_index=True)\n",
      "/var/folders/8v/cgqpzdls33l6jdsvj3z4fdyh0000gn/T/ipykernel_64710/506424766.py:25: FutureWarning: The frame.append method is deprecated and will be removed from pandas in a future version. Use pandas.concat instead.\n",
      "  results = results.append({'user': user_id, 'Algorithm': algo, 'KL_div': calibration_scores[0], 'JS_div': calibration_scores[1]}, ignore_index=True)\n"
     ]
    },
    {
     "name": "stdout",
     "output_type": "stream",
     "text": [
      "537\n"
     ]
    },
    {
     "name": "stderr",
     "output_type": "stream",
     "text": [
      "/var/folders/8v/cgqpzdls33l6jdsvj3z4fdyh0000gn/T/ipykernel_64710/506424766.py:25: FutureWarning: The frame.append method is deprecated and will be removed from pandas in a future version. Use pandas.concat instead.\n",
      "  results = results.append({'user': user_id, 'Algorithm': algo, 'KL_div': calibration_scores[0], 'JS_div': calibration_scores[1]}, ignore_index=True)\n",
      "/var/folders/8v/cgqpzdls33l6jdsvj3z4fdyh0000gn/T/ipykernel_64710/506424766.py:25: FutureWarning: The frame.append method is deprecated and will be removed from pandas in a future version. Use pandas.concat instead.\n",
      "  results = results.append({'user': user_id, 'Algorithm': algo, 'KL_div': calibration_scores[0], 'JS_div': calibration_scores[1]}, ignore_index=True)\n"
     ]
    },
    {
     "name": "stdout",
     "output_type": "stream",
     "text": [
      "538\n"
     ]
    },
    {
     "name": "stderr",
     "output_type": "stream",
     "text": [
      "/var/folders/8v/cgqpzdls33l6jdsvj3z4fdyh0000gn/T/ipykernel_64710/506424766.py:25: FutureWarning: The frame.append method is deprecated and will be removed from pandas in a future version. Use pandas.concat instead.\n",
      "  results = results.append({'user': user_id, 'Algorithm': algo, 'KL_div': calibration_scores[0], 'JS_div': calibration_scores[1]}, ignore_index=True)\n",
      "/var/folders/8v/cgqpzdls33l6jdsvj3z4fdyh0000gn/T/ipykernel_64710/506424766.py:25: FutureWarning: The frame.append method is deprecated and will be removed from pandas in a future version. Use pandas.concat instead.\n",
      "  results = results.append({'user': user_id, 'Algorithm': algo, 'KL_div': calibration_scores[0], 'JS_div': calibration_scores[1]}, ignore_index=True)\n"
     ]
    },
    {
     "name": "stdout",
     "output_type": "stream",
     "text": [
      "539\n"
     ]
    },
    {
     "name": "stderr",
     "output_type": "stream",
     "text": [
      "/var/folders/8v/cgqpzdls33l6jdsvj3z4fdyh0000gn/T/ipykernel_64710/506424766.py:25: FutureWarning: The frame.append method is deprecated and will be removed from pandas in a future version. Use pandas.concat instead.\n",
      "  results = results.append({'user': user_id, 'Algorithm': algo, 'KL_div': calibration_scores[0], 'JS_div': calibration_scores[1]}, ignore_index=True)\n",
      "/var/folders/8v/cgqpzdls33l6jdsvj3z4fdyh0000gn/T/ipykernel_64710/506424766.py:25: FutureWarning: The frame.append method is deprecated and will be removed from pandas in a future version. Use pandas.concat instead.\n",
      "  results = results.append({'user': user_id, 'Algorithm': algo, 'KL_div': calibration_scores[0], 'JS_div': calibration_scores[1]}, ignore_index=True)\n"
     ]
    },
    {
     "name": "stdout",
     "output_type": "stream",
     "text": [
      "540\n"
     ]
    },
    {
     "name": "stderr",
     "output_type": "stream",
     "text": [
      "/var/folders/8v/cgqpzdls33l6jdsvj3z4fdyh0000gn/T/ipykernel_64710/506424766.py:25: FutureWarning: The frame.append method is deprecated and will be removed from pandas in a future version. Use pandas.concat instead.\n",
      "  results = results.append({'user': user_id, 'Algorithm': algo, 'KL_div': calibration_scores[0], 'JS_div': calibration_scores[1]}, ignore_index=True)\n",
      "/var/folders/8v/cgqpzdls33l6jdsvj3z4fdyh0000gn/T/ipykernel_64710/506424766.py:25: FutureWarning: The frame.append method is deprecated and will be removed from pandas in a future version. Use pandas.concat instead.\n",
      "  results = results.append({'user': user_id, 'Algorithm': algo, 'KL_div': calibration_scores[0], 'JS_div': calibration_scores[1]}, ignore_index=True)\n"
     ]
    },
    {
     "name": "stdout",
     "output_type": "stream",
     "text": [
      "541\n"
     ]
    },
    {
     "name": "stderr",
     "output_type": "stream",
     "text": [
      "/var/folders/8v/cgqpzdls33l6jdsvj3z4fdyh0000gn/T/ipykernel_64710/506424766.py:25: FutureWarning: The frame.append method is deprecated and will be removed from pandas in a future version. Use pandas.concat instead.\n",
      "  results = results.append({'user': user_id, 'Algorithm': algo, 'KL_div': calibration_scores[0], 'JS_div': calibration_scores[1]}, ignore_index=True)\n",
      "/var/folders/8v/cgqpzdls33l6jdsvj3z4fdyh0000gn/T/ipykernel_64710/506424766.py:25: FutureWarning: The frame.append method is deprecated and will be removed from pandas in a future version. Use pandas.concat instead.\n",
      "  results = results.append({'user': user_id, 'Algorithm': algo, 'KL_div': calibration_scores[0], 'JS_div': calibration_scores[1]}, ignore_index=True)\n"
     ]
    },
    {
     "name": "stdout",
     "output_type": "stream",
     "text": [
      "542\n"
     ]
    },
    {
     "name": "stderr",
     "output_type": "stream",
     "text": [
      "/var/folders/8v/cgqpzdls33l6jdsvj3z4fdyh0000gn/T/ipykernel_64710/506424766.py:25: FutureWarning: The frame.append method is deprecated and will be removed from pandas in a future version. Use pandas.concat instead.\n",
      "  results = results.append({'user': user_id, 'Algorithm': algo, 'KL_div': calibration_scores[0], 'JS_div': calibration_scores[1]}, ignore_index=True)\n",
      "/var/folders/8v/cgqpzdls33l6jdsvj3z4fdyh0000gn/T/ipykernel_64710/506424766.py:25: FutureWarning: The frame.append method is deprecated and will be removed from pandas in a future version. Use pandas.concat instead.\n",
      "  results = results.append({'user': user_id, 'Algorithm': algo, 'KL_div': calibration_scores[0], 'JS_div': calibration_scores[1]}, ignore_index=True)\n"
     ]
    },
    {
     "name": "stdout",
     "output_type": "stream",
     "text": [
      "543\n"
     ]
    },
    {
     "name": "stderr",
     "output_type": "stream",
     "text": [
      "/var/folders/8v/cgqpzdls33l6jdsvj3z4fdyh0000gn/T/ipykernel_64710/506424766.py:25: FutureWarning: The frame.append method is deprecated and will be removed from pandas in a future version. Use pandas.concat instead.\n",
      "  results = results.append({'user': user_id, 'Algorithm': algo, 'KL_div': calibration_scores[0], 'JS_div': calibration_scores[1]}, ignore_index=True)\n",
      "/var/folders/8v/cgqpzdls33l6jdsvj3z4fdyh0000gn/T/ipykernel_64710/506424766.py:25: FutureWarning: The frame.append method is deprecated and will be removed from pandas in a future version. Use pandas.concat instead.\n",
      "  results = results.append({'user': user_id, 'Algorithm': algo, 'KL_div': calibration_scores[0], 'JS_div': calibration_scores[1]}, ignore_index=True)\n"
     ]
    },
    {
     "name": "stdout",
     "output_type": "stream",
     "text": [
      "544\n"
     ]
    },
    {
     "name": "stderr",
     "output_type": "stream",
     "text": [
      "/var/folders/8v/cgqpzdls33l6jdsvj3z4fdyh0000gn/T/ipykernel_64710/506424766.py:25: FutureWarning: The frame.append method is deprecated and will be removed from pandas in a future version. Use pandas.concat instead.\n",
      "  results = results.append({'user': user_id, 'Algorithm': algo, 'KL_div': calibration_scores[0], 'JS_div': calibration_scores[1]}, ignore_index=True)\n",
      "/var/folders/8v/cgqpzdls33l6jdsvj3z4fdyh0000gn/T/ipykernel_64710/506424766.py:25: FutureWarning: The frame.append method is deprecated and will be removed from pandas in a future version. Use pandas.concat instead.\n",
      "  results = results.append({'user': user_id, 'Algorithm': algo, 'KL_div': calibration_scores[0], 'JS_div': calibration_scores[1]}, ignore_index=True)\n"
     ]
    },
    {
     "name": "stdout",
     "output_type": "stream",
     "text": [
      "545\n"
     ]
    },
    {
     "name": "stderr",
     "output_type": "stream",
     "text": [
      "/var/folders/8v/cgqpzdls33l6jdsvj3z4fdyh0000gn/T/ipykernel_64710/506424766.py:25: FutureWarning: The frame.append method is deprecated and will be removed from pandas in a future version. Use pandas.concat instead.\n",
      "  results = results.append({'user': user_id, 'Algorithm': algo, 'KL_div': calibration_scores[0], 'JS_div': calibration_scores[1]}, ignore_index=True)\n",
      "/var/folders/8v/cgqpzdls33l6jdsvj3z4fdyh0000gn/T/ipykernel_64710/506424766.py:25: FutureWarning: The frame.append method is deprecated and will be removed from pandas in a future version. Use pandas.concat instead.\n",
      "  results = results.append({'user': user_id, 'Algorithm': algo, 'KL_div': calibration_scores[0], 'JS_div': calibration_scores[1]}, ignore_index=True)\n"
     ]
    },
    {
     "name": "stdout",
     "output_type": "stream",
     "text": [
      "546\n"
     ]
    },
    {
     "name": "stderr",
     "output_type": "stream",
     "text": [
      "/var/folders/8v/cgqpzdls33l6jdsvj3z4fdyh0000gn/T/ipykernel_64710/506424766.py:25: FutureWarning: The frame.append method is deprecated and will be removed from pandas in a future version. Use pandas.concat instead.\n",
      "  results = results.append({'user': user_id, 'Algorithm': algo, 'KL_div': calibration_scores[0], 'JS_div': calibration_scores[1]}, ignore_index=True)\n",
      "/var/folders/8v/cgqpzdls33l6jdsvj3z4fdyh0000gn/T/ipykernel_64710/506424766.py:25: FutureWarning: The frame.append method is deprecated and will be removed from pandas in a future version. Use pandas.concat instead.\n",
      "  results = results.append({'user': user_id, 'Algorithm': algo, 'KL_div': calibration_scores[0], 'JS_div': calibration_scores[1]}, ignore_index=True)\n"
     ]
    },
    {
     "name": "stdout",
     "output_type": "stream",
     "text": [
      "547\n"
     ]
    },
    {
     "name": "stderr",
     "output_type": "stream",
     "text": [
      "/var/folders/8v/cgqpzdls33l6jdsvj3z4fdyh0000gn/T/ipykernel_64710/506424766.py:25: FutureWarning: The frame.append method is deprecated and will be removed from pandas in a future version. Use pandas.concat instead.\n",
      "  results = results.append({'user': user_id, 'Algorithm': algo, 'KL_div': calibration_scores[0], 'JS_div': calibration_scores[1]}, ignore_index=True)\n",
      "/var/folders/8v/cgqpzdls33l6jdsvj3z4fdyh0000gn/T/ipykernel_64710/506424766.py:25: FutureWarning: The frame.append method is deprecated and will be removed from pandas in a future version. Use pandas.concat instead.\n",
      "  results = results.append({'user': user_id, 'Algorithm': algo, 'KL_div': calibration_scores[0], 'JS_div': calibration_scores[1]}, ignore_index=True)\n"
     ]
    },
    {
     "name": "stdout",
     "output_type": "stream",
     "text": [
      "548\n"
     ]
    },
    {
     "name": "stderr",
     "output_type": "stream",
     "text": [
      "/var/folders/8v/cgqpzdls33l6jdsvj3z4fdyh0000gn/T/ipykernel_64710/506424766.py:25: FutureWarning: The frame.append method is deprecated and will be removed from pandas in a future version. Use pandas.concat instead.\n",
      "  results = results.append({'user': user_id, 'Algorithm': algo, 'KL_div': calibration_scores[0], 'JS_div': calibration_scores[1]}, ignore_index=True)\n",
      "/var/folders/8v/cgqpzdls33l6jdsvj3z4fdyh0000gn/T/ipykernel_64710/506424766.py:25: FutureWarning: The frame.append method is deprecated and will be removed from pandas in a future version. Use pandas.concat instead.\n",
      "  results = results.append({'user': user_id, 'Algorithm': algo, 'KL_div': calibration_scores[0], 'JS_div': calibration_scores[1]}, ignore_index=True)\n"
     ]
    },
    {
     "name": "stdout",
     "output_type": "stream",
     "text": [
      "549\n"
     ]
    },
    {
     "name": "stderr",
     "output_type": "stream",
     "text": [
      "/var/folders/8v/cgqpzdls33l6jdsvj3z4fdyh0000gn/T/ipykernel_64710/506424766.py:25: FutureWarning: The frame.append method is deprecated and will be removed from pandas in a future version. Use pandas.concat instead.\n",
      "  results = results.append({'user': user_id, 'Algorithm': algo, 'KL_div': calibration_scores[0], 'JS_div': calibration_scores[1]}, ignore_index=True)\n",
      "/var/folders/8v/cgqpzdls33l6jdsvj3z4fdyh0000gn/T/ipykernel_64710/506424766.py:25: FutureWarning: The frame.append method is deprecated and will be removed from pandas in a future version. Use pandas.concat instead.\n",
      "  results = results.append({'user': user_id, 'Algorithm': algo, 'KL_div': calibration_scores[0], 'JS_div': calibration_scores[1]}, ignore_index=True)\n"
     ]
    },
    {
     "name": "stdout",
     "output_type": "stream",
     "text": [
      "550\n"
     ]
    },
    {
     "name": "stderr",
     "output_type": "stream",
     "text": [
      "/var/folders/8v/cgqpzdls33l6jdsvj3z4fdyh0000gn/T/ipykernel_64710/506424766.py:25: FutureWarning: The frame.append method is deprecated and will be removed from pandas in a future version. Use pandas.concat instead.\n",
      "  results = results.append({'user': user_id, 'Algorithm': algo, 'KL_div': calibration_scores[0], 'JS_div': calibration_scores[1]}, ignore_index=True)\n",
      "/var/folders/8v/cgqpzdls33l6jdsvj3z4fdyh0000gn/T/ipykernel_64710/506424766.py:25: FutureWarning: The frame.append method is deprecated and will be removed from pandas in a future version. Use pandas.concat instead.\n",
      "  results = results.append({'user': user_id, 'Algorithm': algo, 'KL_div': calibration_scores[0], 'JS_div': calibration_scores[1]}, ignore_index=True)\n"
     ]
    },
    {
     "name": "stdout",
     "output_type": "stream",
     "text": [
      "551\n"
     ]
    },
    {
     "name": "stderr",
     "output_type": "stream",
     "text": [
      "/var/folders/8v/cgqpzdls33l6jdsvj3z4fdyh0000gn/T/ipykernel_64710/506424766.py:25: FutureWarning: The frame.append method is deprecated and will be removed from pandas in a future version. Use pandas.concat instead.\n",
      "  results = results.append({'user': user_id, 'Algorithm': algo, 'KL_div': calibration_scores[0], 'JS_div': calibration_scores[1]}, ignore_index=True)\n",
      "/var/folders/8v/cgqpzdls33l6jdsvj3z4fdyh0000gn/T/ipykernel_64710/506424766.py:25: FutureWarning: The frame.append method is deprecated and will be removed from pandas in a future version. Use pandas.concat instead.\n",
      "  results = results.append({'user': user_id, 'Algorithm': algo, 'KL_div': calibration_scores[0], 'JS_div': calibration_scores[1]}, ignore_index=True)\n"
     ]
    },
    {
     "name": "stdout",
     "output_type": "stream",
     "text": [
      "552\n"
     ]
    },
    {
     "name": "stderr",
     "output_type": "stream",
     "text": [
      "/var/folders/8v/cgqpzdls33l6jdsvj3z4fdyh0000gn/T/ipykernel_64710/506424766.py:25: FutureWarning: The frame.append method is deprecated and will be removed from pandas in a future version. Use pandas.concat instead.\n",
      "  results = results.append({'user': user_id, 'Algorithm': algo, 'KL_div': calibration_scores[0], 'JS_div': calibration_scores[1]}, ignore_index=True)\n",
      "/var/folders/8v/cgqpzdls33l6jdsvj3z4fdyh0000gn/T/ipykernel_64710/506424766.py:25: FutureWarning: The frame.append method is deprecated and will be removed from pandas in a future version. Use pandas.concat instead.\n",
      "  results = results.append({'user': user_id, 'Algorithm': algo, 'KL_div': calibration_scores[0], 'JS_div': calibration_scores[1]}, ignore_index=True)\n"
     ]
    },
    {
     "name": "stdout",
     "output_type": "stream",
     "text": [
      "553\n"
     ]
    },
    {
     "name": "stderr",
     "output_type": "stream",
     "text": [
      "/var/folders/8v/cgqpzdls33l6jdsvj3z4fdyh0000gn/T/ipykernel_64710/506424766.py:25: FutureWarning: The frame.append method is deprecated and will be removed from pandas in a future version. Use pandas.concat instead.\n",
      "  results = results.append({'user': user_id, 'Algorithm': algo, 'KL_div': calibration_scores[0], 'JS_div': calibration_scores[1]}, ignore_index=True)\n",
      "/var/folders/8v/cgqpzdls33l6jdsvj3z4fdyh0000gn/T/ipykernel_64710/506424766.py:25: FutureWarning: The frame.append method is deprecated and will be removed from pandas in a future version. Use pandas.concat instead.\n",
      "  results = results.append({'user': user_id, 'Algorithm': algo, 'KL_div': calibration_scores[0], 'JS_div': calibration_scores[1]}, ignore_index=True)\n"
     ]
    },
    {
     "name": "stdout",
     "output_type": "stream",
     "text": [
      "554\n"
     ]
    },
    {
     "name": "stderr",
     "output_type": "stream",
     "text": [
      "/var/folders/8v/cgqpzdls33l6jdsvj3z4fdyh0000gn/T/ipykernel_64710/506424766.py:25: FutureWarning: The frame.append method is deprecated and will be removed from pandas in a future version. Use pandas.concat instead.\n",
      "  results = results.append({'user': user_id, 'Algorithm': algo, 'KL_div': calibration_scores[0], 'JS_div': calibration_scores[1]}, ignore_index=True)\n",
      "/var/folders/8v/cgqpzdls33l6jdsvj3z4fdyh0000gn/T/ipykernel_64710/506424766.py:25: FutureWarning: The frame.append method is deprecated and will be removed from pandas in a future version. Use pandas.concat instead.\n",
      "  results = results.append({'user': user_id, 'Algorithm': algo, 'KL_div': calibration_scores[0], 'JS_div': calibration_scores[1]}, ignore_index=True)\n"
     ]
    },
    {
     "name": "stdout",
     "output_type": "stream",
     "text": [
      "555\n"
     ]
    },
    {
     "name": "stderr",
     "output_type": "stream",
     "text": [
      "/var/folders/8v/cgqpzdls33l6jdsvj3z4fdyh0000gn/T/ipykernel_64710/506424766.py:25: FutureWarning: The frame.append method is deprecated and will be removed from pandas in a future version. Use pandas.concat instead.\n",
      "  results = results.append({'user': user_id, 'Algorithm': algo, 'KL_div': calibration_scores[0], 'JS_div': calibration_scores[1]}, ignore_index=True)\n",
      "/var/folders/8v/cgqpzdls33l6jdsvj3z4fdyh0000gn/T/ipykernel_64710/506424766.py:25: FutureWarning: The frame.append method is deprecated and will be removed from pandas in a future version. Use pandas.concat instead.\n",
      "  results = results.append({'user': user_id, 'Algorithm': algo, 'KL_div': calibration_scores[0], 'JS_div': calibration_scores[1]}, ignore_index=True)\n"
     ]
    },
    {
     "name": "stdout",
     "output_type": "stream",
     "text": [
      "556\n"
     ]
    },
    {
     "name": "stderr",
     "output_type": "stream",
     "text": [
      "/var/folders/8v/cgqpzdls33l6jdsvj3z4fdyh0000gn/T/ipykernel_64710/506424766.py:25: FutureWarning: The frame.append method is deprecated and will be removed from pandas in a future version. Use pandas.concat instead.\n",
      "  results = results.append({'user': user_id, 'Algorithm': algo, 'KL_div': calibration_scores[0], 'JS_div': calibration_scores[1]}, ignore_index=True)\n",
      "/var/folders/8v/cgqpzdls33l6jdsvj3z4fdyh0000gn/T/ipykernel_64710/506424766.py:25: FutureWarning: The frame.append method is deprecated and will be removed from pandas in a future version. Use pandas.concat instead.\n",
      "  results = results.append({'user': user_id, 'Algorithm': algo, 'KL_div': calibration_scores[0], 'JS_div': calibration_scores[1]}, ignore_index=True)\n"
     ]
    },
    {
     "name": "stdout",
     "output_type": "stream",
     "text": [
      "557\n"
     ]
    },
    {
     "name": "stderr",
     "output_type": "stream",
     "text": [
      "/var/folders/8v/cgqpzdls33l6jdsvj3z4fdyh0000gn/T/ipykernel_64710/506424766.py:25: FutureWarning: The frame.append method is deprecated and will be removed from pandas in a future version. Use pandas.concat instead.\n",
      "  results = results.append({'user': user_id, 'Algorithm': algo, 'KL_div': calibration_scores[0], 'JS_div': calibration_scores[1]}, ignore_index=True)\n",
      "/var/folders/8v/cgqpzdls33l6jdsvj3z4fdyh0000gn/T/ipykernel_64710/506424766.py:25: FutureWarning: The frame.append method is deprecated and will be removed from pandas in a future version. Use pandas.concat instead.\n",
      "  results = results.append({'user': user_id, 'Algorithm': algo, 'KL_div': calibration_scores[0], 'JS_div': calibration_scores[1]}, ignore_index=True)\n"
     ]
    },
    {
     "name": "stdout",
     "output_type": "stream",
     "text": [
      "558\n"
     ]
    },
    {
     "name": "stderr",
     "output_type": "stream",
     "text": [
      "/var/folders/8v/cgqpzdls33l6jdsvj3z4fdyh0000gn/T/ipykernel_64710/506424766.py:25: FutureWarning: The frame.append method is deprecated and will be removed from pandas in a future version. Use pandas.concat instead.\n",
      "  results = results.append({'user': user_id, 'Algorithm': algo, 'KL_div': calibration_scores[0], 'JS_div': calibration_scores[1]}, ignore_index=True)\n",
      "/var/folders/8v/cgqpzdls33l6jdsvj3z4fdyh0000gn/T/ipykernel_64710/506424766.py:25: FutureWarning: The frame.append method is deprecated and will be removed from pandas in a future version. Use pandas.concat instead.\n",
      "  results = results.append({'user': user_id, 'Algorithm': algo, 'KL_div': calibration_scores[0], 'JS_div': calibration_scores[1]}, ignore_index=True)\n"
     ]
    },
    {
     "name": "stdout",
     "output_type": "stream",
     "text": [
      "559\n"
     ]
    },
    {
     "name": "stderr",
     "output_type": "stream",
     "text": [
      "/var/folders/8v/cgqpzdls33l6jdsvj3z4fdyh0000gn/T/ipykernel_64710/506424766.py:25: FutureWarning: The frame.append method is deprecated and will be removed from pandas in a future version. Use pandas.concat instead.\n",
      "  results = results.append({'user': user_id, 'Algorithm': algo, 'KL_div': calibration_scores[0], 'JS_div': calibration_scores[1]}, ignore_index=True)\n",
      "/var/folders/8v/cgqpzdls33l6jdsvj3z4fdyh0000gn/T/ipykernel_64710/506424766.py:25: FutureWarning: The frame.append method is deprecated and will be removed from pandas in a future version. Use pandas.concat instead.\n",
      "  results = results.append({'user': user_id, 'Algorithm': algo, 'KL_div': calibration_scores[0], 'JS_div': calibration_scores[1]}, ignore_index=True)\n"
     ]
    },
    {
     "name": "stdout",
     "output_type": "stream",
     "text": [
      "560\n"
     ]
    },
    {
     "name": "stderr",
     "output_type": "stream",
     "text": [
      "/var/folders/8v/cgqpzdls33l6jdsvj3z4fdyh0000gn/T/ipykernel_64710/506424766.py:25: FutureWarning: The frame.append method is deprecated and will be removed from pandas in a future version. Use pandas.concat instead.\n",
      "  results = results.append({'user': user_id, 'Algorithm': algo, 'KL_div': calibration_scores[0], 'JS_div': calibration_scores[1]}, ignore_index=True)\n",
      "/var/folders/8v/cgqpzdls33l6jdsvj3z4fdyh0000gn/T/ipykernel_64710/506424766.py:25: FutureWarning: The frame.append method is deprecated and will be removed from pandas in a future version. Use pandas.concat instead.\n",
      "  results = results.append({'user': user_id, 'Algorithm': algo, 'KL_div': calibration_scores[0], 'JS_div': calibration_scores[1]}, ignore_index=True)\n"
     ]
    },
    {
     "name": "stdout",
     "output_type": "stream",
     "text": [
      "561\n"
     ]
    },
    {
     "name": "stderr",
     "output_type": "stream",
     "text": [
      "/var/folders/8v/cgqpzdls33l6jdsvj3z4fdyh0000gn/T/ipykernel_64710/506424766.py:25: FutureWarning: The frame.append method is deprecated and will be removed from pandas in a future version. Use pandas.concat instead.\n",
      "  results = results.append({'user': user_id, 'Algorithm': algo, 'KL_div': calibration_scores[0], 'JS_div': calibration_scores[1]}, ignore_index=True)\n",
      "/var/folders/8v/cgqpzdls33l6jdsvj3z4fdyh0000gn/T/ipykernel_64710/506424766.py:25: FutureWarning: The frame.append method is deprecated and will be removed from pandas in a future version. Use pandas.concat instead.\n",
      "  results = results.append({'user': user_id, 'Algorithm': algo, 'KL_div': calibration_scores[0], 'JS_div': calibration_scores[1]}, ignore_index=True)\n"
     ]
    },
    {
     "name": "stdout",
     "output_type": "stream",
     "text": [
      "562\n"
     ]
    },
    {
     "name": "stderr",
     "output_type": "stream",
     "text": [
      "/var/folders/8v/cgqpzdls33l6jdsvj3z4fdyh0000gn/T/ipykernel_64710/506424766.py:25: FutureWarning: The frame.append method is deprecated and will be removed from pandas in a future version. Use pandas.concat instead.\n",
      "  results = results.append({'user': user_id, 'Algorithm': algo, 'KL_div': calibration_scores[0], 'JS_div': calibration_scores[1]}, ignore_index=True)\n",
      "/var/folders/8v/cgqpzdls33l6jdsvj3z4fdyh0000gn/T/ipykernel_64710/506424766.py:25: FutureWarning: The frame.append method is deprecated and will be removed from pandas in a future version. Use pandas.concat instead.\n",
      "  results = results.append({'user': user_id, 'Algorithm': algo, 'KL_div': calibration_scores[0], 'JS_div': calibration_scores[1]}, ignore_index=True)\n"
     ]
    },
    {
     "name": "stdout",
     "output_type": "stream",
     "text": [
      "563\n"
     ]
    },
    {
     "name": "stderr",
     "output_type": "stream",
     "text": [
      "/var/folders/8v/cgqpzdls33l6jdsvj3z4fdyh0000gn/T/ipykernel_64710/506424766.py:25: FutureWarning: The frame.append method is deprecated and will be removed from pandas in a future version. Use pandas.concat instead.\n",
      "  results = results.append({'user': user_id, 'Algorithm': algo, 'KL_div': calibration_scores[0], 'JS_div': calibration_scores[1]}, ignore_index=True)\n",
      "/var/folders/8v/cgqpzdls33l6jdsvj3z4fdyh0000gn/T/ipykernel_64710/506424766.py:25: FutureWarning: The frame.append method is deprecated and will be removed from pandas in a future version. Use pandas.concat instead.\n",
      "  results = results.append({'user': user_id, 'Algorithm': algo, 'KL_div': calibration_scores[0], 'JS_div': calibration_scores[1]}, ignore_index=True)\n"
     ]
    },
    {
     "name": "stdout",
     "output_type": "stream",
     "text": [
      "564\n"
     ]
    },
    {
     "name": "stderr",
     "output_type": "stream",
     "text": [
      "/var/folders/8v/cgqpzdls33l6jdsvj3z4fdyh0000gn/T/ipykernel_64710/506424766.py:25: FutureWarning: The frame.append method is deprecated and will be removed from pandas in a future version. Use pandas.concat instead.\n",
      "  results = results.append({'user': user_id, 'Algorithm': algo, 'KL_div': calibration_scores[0], 'JS_div': calibration_scores[1]}, ignore_index=True)\n",
      "/var/folders/8v/cgqpzdls33l6jdsvj3z4fdyh0000gn/T/ipykernel_64710/506424766.py:25: FutureWarning: The frame.append method is deprecated and will be removed from pandas in a future version. Use pandas.concat instead.\n",
      "  results = results.append({'user': user_id, 'Algorithm': algo, 'KL_div': calibration_scores[0], 'JS_div': calibration_scores[1]}, ignore_index=True)\n"
     ]
    },
    {
     "name": "stdout",
     "output_type": "stream",
     "text": [
      "565\n"
     ]
    },
    {
     "name": "stderr",
     "output_type": "stream",
     "text": [
      "/var/folders/8v/cgqpzdls33l6jdsvj3z4fdyh0000gn/T/ipykernel_64710/506424766.py:25: FutureWarning: The frame.append method is deprecated and will be removed from pandas in a future version. Use pandas.concat instead.\n",
      "  results = results.append({'user': user_id, 'Algorithm': algo, 'KL_div': calibration_scores[0], 'JS_div': calibration_scores[1]}, ignore_index=True)\n",
      "/var/folders/8v/cgqpzdls33l6jdsvj3z4fdyh0000gn/T/ipykernel_64710/506424766.py:25: FutureWarning: The frame.append method is deprecated and will be removed from pandas in a future version. Use pandas.concat instead.\n",
      "  results = results.append({'user': user_id, 'Algorithm': algo, 'KL_div': calibration_scores[0], 'JS_div': calibration_scores[1]}, ignore_index=True)\n"
     ]
    },
    {
     "name": "stdout",
     "output_type": "stream",
     "text": [
      "566\n"
     ]
    },
    {
     "name": "stderr",
     "output_type": "stream",
     "text": [
      "/var/folders/8v/cgqpzdls33l6jdsvj3z4fdyh0000gn/T/ipykernel_64710/506424766.py:25: FutureWarning: The frame.append method is deprecated and will be removed from pandas in a future version. Use pandas.concat instead.\n",
      "  results = results.append({'user': user_id, 'Algorithm': algo, 'KL_div': calibration_scores[0], 'JS_div': calibration_scores[1]}, ignore_index=True)\n",
      "/var/folders/8v/cgqpzdls33l6jdsvj3z4fdyh0000gn/T/ipykernel_64710/506424766.py:25: FutureWarning: The frame.append method is deprecated and will be removed from pandas in a future version. Use pandas.concat instead.\n",
      "  results = results.append({'user': user_id, 'Algorithm': algo, 'KL_div': calibration_scores[0], 'JS_div': calibration_scores[1]}, ignore_index=True)\n"
     ]
    },
    {
     "name": "stdout",
     "output_type": "stream",
     "text": [
      "567\n"
     ]
    },
    {
     "name": "stderr",
     "output_type": "stream",
     "text": [
      "/var/folders/8v/cgqpzdls33l6jdsvj3z4fdyh0000gn/T/ipykernel_64710/506424766.py:25: FutureWarning: The frame.append method is deprecated and will be removed from pandas in a future version. Use pandas.concat instead.\n",
      "  results = results.append({'user': user_id, 'Algorithm': algo, 'KL_div': calibration_scores[0], 'JS_div': calibration_scores[1]}, ignore_index=True)\n",
      "/var/folders/8v/cgqpzdls33l6jdsvj3z4fdyh0000gn/T/ipykernel_64710/506424766.py:25: FutureWarning: The frame.append method is deprecated and will be removed from pandas in a future version. Use pandas.concat instead.\n",
      "  results = results.append({'user': user_id, 'Algorithm': algo, 'KL_div': calibration_scores[0], 'JS_div': calibration_scores[1]}, ignore_index=True)\n"
     ]
    },
    {
     "name": "stdout",
     "output_type": "stream",
     "text": [
      "568\n"
     ]
    },
    {
     "name": "stderr",
     "output_type": "stream",
     "text": [
      "/var/folders/8v/cgqpzdls33l6jdsvj3z4fdyh0000gn/T/ipykernel_64710/506424766.py:25: FutureWarning: The frame.append method is deprecated and will be removed from pandas in a future version. Use pandas.concat instead.\n",
      "  results = results.append({'user': user_id, 'Algorithm': algo, 'KL_div': calibration_scores[0], 'JS_div': calibration_scores[1]}, ignore_index=True)\n",
      "/var/folders/8v/cgqpzdls33l6jdsvj3z4fdyh0000gn/T/ipykernel_64710/506424766.py:25: FutureWarning: The frame.append method is deprecated and will be removed from pandas in a future version. Use pandas.concat instead.\n",
      "  results = results.append({'user': user_id, 'Algorithm': algo, 'KL_div': calibration_scores[0], 'JS_div': calibration_scores[1]}, ignore_index=True)\n"
     ]
    },
    {
     "name": "stdout",
     "output_type": "stream",
     "text": [
      "569\n"
     ]
    },
    {
     "name": "stderr",
     "output_type": "stream",
     "text": [
      "/var/folders/8v/cgqpzdls33l6jdsvj3z4fdyh0000gn/T/ipykernel_64710/506424766.py:25: FutureWarning: The frame.append method is deprecated and will be removed from pandas in a future version. Use pandas.concat instead.\n",
      "  results = results.append({'user': user_id, 'Algorithm': algo, 'KL_div': calibration_scores[0], 'JS_div': calibration_scores[1]}, ignore_index=True)\n",
      "/var/folders/8v/cgqpzdls33l6jdsvj3z4fdyh0000gn/T/ipykernel_64710/506424766.py:25: FutureWarning: The frame.append method is deprecated and will be removed from pandas in a future version. Use pandas.concat instead.\n",
      "  results = results.append({'user': user_id, 'Algorithm': algo, 'KL_div': calibration_scores[0], 'JS_div': calibration_scores[1]}, ignore_index=True)\n"
     ]
    },
    {
     "name": "stdout",
     "output_type": "stream",
     "text": [
      "570\n"
     ]
    },
    {
     "name": "stderr",
     "output_type": "stream",
     "text": [
      "/var/folders/8v/cgqpzdls33l6jdsvj3z4fdyh0000gn/T/ipykernel_64710/506424766.py:25: FutureWarning: The frame.append method is deprecated and will be removed from pandas in a future version. Use pandas.concat instead.\n",
      "  results = results.append({'user': user_id, 'Algorithm': algo, 'KL_div': calibration_scores[0], 'JS_div': calibration_scores[1]}, ignore_index=True)\n",
      "/var/folders/8v/cgqpzdls33l6jdsvj3z4fdyh0000gn/T/ipykernel_64710/506424766.py:25: FutureWarning: The frame.append method is deprecated and will be removed from pandas in a future version. Use pandas.concat instead.\n",
      "  results = results.append({'user': user_id, 'Algorithm': algo, 'KL_div': calibration_scores[0], 'JS_div': calibration_scores[1]}, ignore_index=True)\n"
     ]
    },
    {
     "name": "stdout",
     "output_type": "stream",
     "text": [
      "571\n"
     ]
    },
    {
     "name": "stderr",
     "output_type": "stream",
     "text": [
      "/var/folders/8v/cgqpzdls33l6jdsvj3z4fdyh0000gn/T/ipykernel_64710/506424766.py:25: FutureWarning: The frame.append method is deprecated and will be removed from pandas in a future version. Use pandas.concat instead.\n",
      "  results = results.append({'user': user_id, 'Algorithm': algo, 'KL_div': calibration_scores[0], 'JS_div': calibration_scores[1]}, ignore_index=True)\n",
      "/var/folders/8v/cgqpzdls33l6jdsvj3z4fdyh0000gn/T/ipykernel_64710/506424766.py:25: FutureWarning: The frame.append method is deprecated and will be removed from pandas in a future version. Use pandas.concat instead.\n",
      "  results = results.append({'user': user_id, 'Algorithm': algo, 'KL_div': calibration_scores[0], 'JS_div': calibration_scores[1]}, ignore_index=True)\n"
     ]
    },
    {
     "name": "stdout",
     "output_type": "stream",
     "text": [
      "572\n"
     ]
    },
    {
     "name": "stderr",
     "output_type": "stream",
     "text": [
      "/var/folders/8v/cgqpzdls33l6jdsvj3z4fdyh0000gn/T/ipykernel_64710/506424766.py:25: FutureWarning: The frame.append method is deprecated and will be removed from pandas in a future version. Use pandas.concat instead.\n",
      "  results = results.append({'user': user_id, 'Algorithm': algo, 'KL_div': calibration_scores[0], 'JS_div': calibration_scores[1]}, ignore_index=True)\n",
      "/var/folders/8v/cgqpzdls33l6jdsvj3z4fdyh0000gn/T/ipykernel_64710/506424766.py:25: FutureWarning: The frame.append method is deprecated and will be removed from pandas in a future version. Use pandas.concat instead.\n",
      "  results = results.append({'user': user_id, 'Algorithm': algo, 'KL_div': calibration_scores[0], 'JS_div': calibration_scores[1]}, ignore_index=True)\n"
     ]
    },
    {
     "name": "stdout",
     "output_type": "stream",
     "text": [
      "573\n"
     ]
    },
    {
     "name": "stderr",
     "output_type": "stream",
     "text": [
      "/var/folders/8v/cgqpzdls33l6jdsvj3z4fdyh0000gn/T/ipykernel_64710/506424766.py:25: FutureWarning: The frame.append method is deprecated and will be removed from pandas in a future version. Use pandas.concat instead.\n",
      "  results = results.append({'user': user_id, 'Algorithm': algo, 'KL_div': calibration_scores[0], 'JS_div': calibration_scores[1]}, ignore_index=True)\n",
      "/var/folders/8v/cgqpzdls33l6jdsvj3z4fdyh0000gn/T/ipykernel_64710/506424766.py:25: FutureWarning: The frame.append method is deprecated and will be removed from pandas in a future version. Use pandas.concat instead.\n",
      "  results = results.append({'user': user_id, 'Algorithm': algo, 'KL_div': calibration_scores[0], 'JS_div': calibration_scores[1]}, ignore_index=True)\n"
     ]
    },
    {
     "name": "stdout",
     "output_type": "stream",
     "text": [
      "574\n"
     ]
    },
    {
     "name": "stderr",
     "output_type": "stream",
     "text": [
      "/var/folders/8v/cgqpzdls33l6jdsvj3z4fdyh0000gn/T/ipykernel_64710/506424766.py:25: FutureWarning: The frame.append method is deprecated and will be removed from pandas in a future version. Use pandas.concat instead.\n",
      "  results = results.append({'user': user_id, 'Algorithm': algo, 'KL_div': calibration_scores[0], 'JS_div': calibration_scores[1]}, ignore_index=True)\n",
      "/var/folders/8v/cgqpzdls33l6jdsvj3z4fdyh0000gn/T/ipykernel_64710/506424766.py:25: FutureWarning: The frame.append method is deprecated and will be removed from pandas in a future version. Use pandas.concat instead.\n",
      "  results = results.append({'user': user_id, 'Algorithm': algo, 'KL_div': calibration_scores[0], 'JS_div': calibration_scores[1]}, ignore_index=True)\n"
     ]
    },
    {
     "name": "stdout",
     "output_type": "stream",
     "text": [
      "575\n"
     ]
    },
    {
     "name": "stderr",
     "output_type": "stream",
     "text": [
      "/var/folders/8v/cgqpzdls33l6jdsvj3z4fdyh0000gn/T/ipykernel_64710/506424766.py:25: FutureWarning: The frame.append method is deprecated and will be removed from pandas in a future version. Use pandas.concat instead.\n",
      "  results = results.append({'user': user_id, 'Algorithm': algo, 'KL_div': calibration_scores[0], 'JS_div': calibration_scores[1]}, ignore_index=True)\n",
      "/var/folders/8v/cgqpzdls33l6jdsvj3z4fdyh0000gn/T/ipykernel_64710/506424766.py:25: FutureWarning: The frame.append method is deprecated and will be removed from pandas in a future version. Use pandas.concat instead.\n",
      "  results = results.append({'user': user_id, 'Algorithm': algo, 'KL_div': calibration_scores[0], 'JS_div': calibration_scores[1]}, ignore_index=True)\n"
     ]
    },
    {
     "name": "stdout",
     "output_type": "stream",
     "text": [
      "576\n"
     ]
    },
    {
     "name": "stderr",
     "output_type": "stream",
     "text": [
      "/var/folders/8v/cgqpzdls33l6jdsvj3z4fdyh0000gn/T/ipykernel_64710/506424766.py:25: FutureWarning: The frame.append method is deprecated and will be removed from pandas in a future version. Use pandas.concat instead.\n",
      "  results = results.append({'user': user_id, 'Algorithm': algo, 'KL_div': calibration_scores[0], 'JS_div': calibration_scores[1]}, ignore_index=True)\n",
      "/var/folders/8v/cgqpzdls33l6jdsvj3z4fdyh0000gn/T/ipykernel_64710/506424766.py:25: FutureWarning: The frame.append method is deprecated and will be removed from pandas in a future version. Use pandas.concat instead.\n",
      "  results = results.append({'user': user_id, 'Algorithm': algo, 'KL_div': calibration_scores[0], 'JS_div': calibration_scores[1]}, ignore_index=True)\n"
     ]
    },
    {
     "name": "stdout",
     "output_type": "stream",
     "text": [
      "577\n"
     ]
    },
    {
     "name": "stderr",
     "output_type": "stream",
     "text": [
      "/var/folders/8v/cgqpzdls33l6jdsvj3z4fdyh0000gn/T/ipykernel_64710/506424766.py:25: FutureWarning: The frame.append method is deprecated and will be removed from pandas in a future version. Use pandas.concat instead.\n",
      "  results = results.append({'user': user_id, 'Algorithm': algo, 'KL_div': calibration_scores[0], 'JS_div': calibration_scores[1]}, ignore_index=True)\n",
      "/var/folders/8v/cgqpzdls33l6jdsvj3z4fdyh0000gn/T/ipykernel_64710/506424766.py:25: FutureWarning: The frame.append method is deprecated and will be removed from pandas in a future version. Use pandas.concat instead.\n",
      "  results = results.append({'user': user_id, 'Algorithm': algo, 'KL_div': calibration_scores[0], 'JS_div': calibration_scores[1]}, ignore_index=True)\n"
     ]
    },
    {
     "name": "stdout",
     "output_type": "stream",
     "text": [
      "578\n"
     ]
    },
    {
     "name": "stderr",
     "output_type": "stream",
     "text": [
      "/var/folders/8v/cgqpzdls33l6jdsvj3z4fdyh0000gn/T/ipykernel_64710/506424766.py:25: FutureWarning: The frame.append method is deprecated and will be removed from pandas in a future version. Use pandas.concat instead.\n",
      "  results = results.append({'user': user_id, 'Algorithm': algo, 'KL_div': calibration_scores[0], 'JS_div': calibration_scores[1]}, ignore_index=True)\n",
      "/var/folders/8v/cgqpzdls33l6jdsvj3z4fdyh0000gn/T/ipykernel_64710/506424766.py:25: FutureWarning: The frame.append method is deprecated and will be removed from pandas in a future version. Use pandas.concat instead.\n",
      "  results = results.append({'user': user_id, 'Algorithm': algo, 'KL_div': calibration_scores[0], 'JS_div': calibration_scores[1]}, ignore_index=True)\n"
     ]
    },
    {
     "name": "stdout",
     "output_type": "stream",
     "text": [
      "579\n"
     ]
    },
    {
     "name": "stderr",
     "output_type": "stream",
     "text": [
      "/var/folders/8v/cgqpzdls33l6jdsvj3z4fdyh0000gn/T/ipykernel_64710/506424766.py:25: FutureWarning: The frame.append method is deprecated and will be removed from pandas in a future version. Use pandas.concat instead.\n",
      "  results = results.append({'user': user_id, 'Algorithm': algo, 'KL_div': calibration_scores[0], 'JS_div': calibration_scores[1]}, ignore_index=True)\n",
      "/var/folders/8v/cgqpzdls33l6jdsvj3z4fdyh0000gn/T/ipykernel_64710/506424766.py:25: FutureWarning: The frame.append method is deprecated and will be removed from pandas in a future version. Use pandas.concat instead.\n",
      "  results = results.append({'user': user_id, 'Algorithm': algo, 'KL_div': calibration_scores[0], 'JS_div': calibration_scores[1]}, ignore_index=True)\n"
     ]
    },
    {
     "name": "stdout",
     "output_type": "stream",
     "text": [
      "580\n"
     ]
    },
    {
     "name": "stderr",
     "output_type": "stream",
     "text": [
      "/var/folders/8v/cgqpzdls33l6jdsvj3z4fdyh0000gn/T/ipykernel_64710/506424766.py:25: FutureWarning: The frame.append method is deprecated and will be removed from pandas in a future version. Use pandas.concat instead.\n",
      "  results = results.append({'user': user_id, 'Algorithm': algo, 'KL_div': calibration_scores[0], 'JS_div': calibration_scores[1]}, ignore_index=True)\n",
      "/var/folders/8v/cgqpzdls33l6jdsvj3z4fdyh0000gn/T/ipykernel_64710/506424766.py:25: FutureWarning: The frame.append method is deprecated and will be removed from pandas in a future version. Use pandas.concat instead.\n",
      "  results = results.append({'user': user_id, 'Algorithm': algo, 'KL_div': calibration_scores[0], 'JS_div': calibration_scores[1]}, ignore_index=True)\n"
     ]
    },
    {
     "name": "stdout",
     "output_type": "stream",
     "text": [
      "581\n"
     ]
    },
    {
     "name": "stderr",
     "output_type": "stream",
     "text": [
      "/var/folders/8v/cgqpzdls33l6jdsvj3z4fdyh0000gn/T/ipykernel_64710/506424766.py:25: FutureWarning: The frame.append method is deprecated and will be removed from pandas in a future version. Use pandas.concat instead.\n",
      "  results = results.append({'user': user_id, 'Algorithm': algo, 'KL_div': calibration_scores[0], 'JS_div': calibration_scores[1]}, ignore_index=True)\n",
      "/var/folders/8v/cgqpzdls33l6jdsvj3z4fdyh0000gn/T/ipykernel_64710/506424766.py:25: FutureWarning: The frame.append method is deprecated and will be removed from pandas in a future version. Use pandas.concat instead.\n",
      "  results = results.append({'user': user_id, 'Algorithm': algo, 'KL_div': calibration_scores[0], 'JS_div': calibration_scores[1]}, ignore_index=True)\n"
     ]
    },
    {
     "name": "stdout",
     "output_type": "stream",
     "text": [
      "582\n"
     ]
    },
    {
     "name": "stderr",
     "output_type": "stream",
     "text": [
      "/var/folders/8v/cgqpzdls33l6jdsvj3z4fdyh0000gn/T/ipykernel_64710/506424766.py:25: FutureWarning: The frame.append method is deprecated and will be removed from pandas in a future version. Use pandas.concat instead.\n",
      "  results = results.append({'user': user_id, 'Algorithm': algo, 'KL_div': calibration_scores[0], 'JS_div': calibration_scores[1]}, ignore_index=True)\n",
      "/var/folders/8v/cgqpzdls33l6jdsvj3z4fdyh0000gn/T/ipykernel_64710/506424766.py:25: FutureWarning: The frame.append method is deprecated and will be removed from pandas in a future version. Use pandas.concat instead.\n",
      "  results = results.append({'user': user_id, 'Algorithm': algo, 'KL_div': calibration_scores[0], 'JS_div': calibration_scores[1]}, ignore_index=True)\n"
     ]
    },
    {
     "name": "stdout",
     "output_type": "stream",
     "text": [
      "583\n"
     ]
    },
    {
     "name": "stderr",
     "output_type": "stream",
     "text": [
      "/var/folders/8v/cgqpzdls33l6jdsvj3z4fdyh0000gn/T/ipykernel_64710/506424766.py:25: FutureWarning: The frame.append method is deprecated and will be removed from pandas in a future version. Use pandas.concat instead.\n",
      "  results = results.append({'user': user_id, 'Algorithm': algo, 'KL_div': calibration_scores[0], 'JS_div': calibration_scores[1]}, ignore_index=True)\n",
      "/var/folders/8v/cgqpzdls33l6jdsvj3z4fdyh0000gn/T/ipykernel_64710/506424766.py:25: FutureWarning: The frame.append method is deprecated and will be removed from pandas in a future version. Use pandas.concat instead.\n",
      "  results = results.append({'user': user_id, 'Algorithm': algo, 'KL_div': calibration_scores[0], 'JS_div': calibration_scores[1]}, ignore_index=True)\n"
     ]
    },
    {
     "name": "stdout",
     "output_type": "stream",
     "text": [
      "584\n"
     ]
    },
    {
     "name": "stderr",
     "output_type": "stream",
     "text": [
      "/var/folders/8v/cgqpzdls33l6jdsvj3z4fdyh0000gn/T/ipykernel_64710/506424766.py:25: FutureWarning: The frame.append method is deprecated and will be removed from pandas in a future version. Use pandas.concat instead.\n",
      "  results = results.append({'user': user_id, 'Algorithm': algo, 'KL_div': calibration_scores[0], 'JS_div': calibration_scores[1]}, ignore_index=True)\n",
      "/var/folders/8v/cgqpzdls33l6jdsvj3z4fdyh0000gn/T/ipykernel_64710/506424766.py:25: FutureWarning: The frame.append method is deprecated and will be removed from pandas in a future version. Use pandas.concat instead.\n",
      "  results = results.append({'user': user_id, 'Algorithm': algo, 'KL_div': calibration_scores[0], 'JS_div': calibration_scores[1]}, ignore_index=True)\n"
     ]
    },
    {
     "name": "stdout",
     "output_type": "stream",
     "text": [
      "585\n"
     ]
    },
    {
     "name": "stderr",
     "output_type": "stream",
     "text": [
      "/var/folders/8v/cgqpzdls33l6jdsvj3z4fdyh0000gn/T/ipykernel_64710/506424766.py:25: FutureWarning: The frame.append method is deprecated and will be removed from pandas in a future version. Use pandas.concat instead.\n",
      "  results = results.append({'user': user_id, 'Algorithm': algo, 'KL_div': calibration_scores[0], 'JS_div': calibration_scores[1]}, ignore_index=True)\n",
      "/var/folders/8v/cgqpzdls33l6jdsvj3z4fdyh0000gn/T/ipykernel_64710/506424766.py:25: FutureWarning: The frame.append method is deprecated and will be removed from pandas in a future version. Use pandas.concat instead.\n",
      "  results = results.append({'user': user_id, 'Algorithm': algo, 'KL_div': calibration_scores[0], 'JS_div': calibration_scores[1]}, ignore_index=True)\n"
     ]
    },
    {
     "name": "stdout",
     "output_type": "stream",
     "text": [
      "586\n"
     ]
    },
    {
     "name": "stderr",
     "output_type": "stream",
     "text": [
      "/var/folders/8v/cgqpzdls33l6jdsvj3z4fdyh0000gn/T/ipykernel_64710/506424766.py:25: FutureWarning: The frame.append method is deprecated and will be removed from pandas in a future version. Use pandas.concat instead.\n",
      "  results = results.append({'user': user_id, 'Algorithm': algo, 'KL_div': calibration_scores[0], 'JS_div': calibration_scores[1]}, ignore_index=True)\n",
      "/var/folders/8v/cgqpzdls33l6jdsvj3z4fdyh0000gn/T/ipykernel_64710/506424766.py:25: FutureWarning: The frame.append method is deprecated and will be removed from pandas in a future version. Use pandas.concat instead.\n",
      "  results = results.append({'user': user_id, 'Algorithm': algo, 'KL_div': calibration_scores[0], 'JS_div': calibration_scores[1]}, ignore_index=True)\n"
     ]
    },
    {
     "name": "stdout",
     "output_type": "stream",
     "text": [
      "587\n"
     ]
    },
    {
     "name": "stderr",
     "output_type": "stream",
     "text": [
      "/var/folders/8v/cgqpzdls33l6jdsvj3z4fdyh0000gn/T/ipykernel_64710/506424766.py:25: FutureWarning: The frame.append method is deprecated and will be removed from pandas in a future version. Use pandas.concat instead.\n",
      "  results = results.append({'user': user_id, 'Algorithm': algo, 'KL_div': calibration_scores[0], 'JS_div': calibration_scores[1]}, ignore_index=True)\n",
      "/var/folders/8v/cgqpzdls33l6jdsvj3z4fdyh0000gn/T/ipykernel_64710/506424766.py:25: FutureWarning: The frame.append method is deprecated and will be removed from pandas in a future version. Use pandas.concat instead.\n",
      "  results = results.append({'user': user_id, 'Algorithm': algo, 'KL_div': calibration_scores[0], 'JS_div': calibration_scores[1]}, ignore_index=True)\n"
     ]
    },
    {
     "name": "stdout",
     "output_type": "stream",
     "text": [
      "588\n"
     ]
    },
    {
     "name": "stderr",
     "output_type": "stream",
     "text": [
      "/var/folders/8v/cgqpzdls33l6jdsvj3z4fdyh0000gn/T/ipykernel_64710/506424766.py:25: FutureWarning: The frame.append method is deprecated and will be removed from pandas in a future version. Use pandas.concat instead.\n",
      "  results = results.append({'user': user_id, 'Algorithm': algo, 'KL_div': calibration_scores[0], 'JS_div': calibration_scores[1]}, ignore_index=True)\n",
      "/var/folders/8v/cgqpzdls33l6jdsvj3z4fdyh0000gn/T/ipykernel_64710/506424766.py:25: FutureWarning: The frame.append method is deprecated and will be removed from pandas in a future version. Use pandas.concat instead.\n",
      "  results = results.append({'user': user_id, 'Algorithm': algo, 'KL_div': calibration_scores[0], 'JS_div': calibration_scores[1]}, ignore_index=True)\n"
     ]
    },
    {
     "name": "stdout",
     "output_type": "stream",
     "text": [
      "589\n"
     ]
    },
    {
     "name": "stderr",
     "output_type": "stream",
     "text": [
      "/var/folders/8v/cgqpzdls33l6jdsvj3z4fdyh0000gn/T/ipykernel_64710/506424766.py:25: FutureWarning: The frame.append method is deprecated and will be removed from pandas in a future version. Use pandas.concat instead.\n",
      "  results = results.append({'user': user_id, 'Algorithm': algo, 'KL_div': calibration_scores[0], 'JS_div': calibration_scores[1]}, ignore_index=True)\n",
      "/var/folders/8v/cgqpzdls33l6jdsvj3z4fdyh0000gn/T/ipykernel_64710/506424766.py:25: FutureWarning: The frame.append method is deprecated and will be removed from pandas in a future version. Use pandas.concat instead.\n",
      "  results = results.append({'user': user_id, 'Algorithm': algo, 'KL_div': calibration_scores[0], 'JS_div': calibration_scores[1]}, ignore_index=True)\n"
     ]
    },
    {
     "name": "stdout",
     "output_type": "stream",
     "text": [
      "590\n"
     ]
    },
    {
     "name": "stderr",
     "output_type": "stream",
     "text": [
      "/var/folders/8v/cgqpzdls33l6jdsvj3z4fdyh0000gn/T/ipykernel_64710/506424766.py:25: FutureWarning: The frame.append method is deprecated and will be removed from pandas in a future version. Use pandas.concat instead.\n",
      "  results = results.append({'user': user_id, 'Algorithm': algo, 'KL_div': calibration_scores[0], 'JS_div': calibration_scores[1]}, ignore_index=True)\n",
      "/var/folders/8v/cgqpzdls33l6jdsvj3z4fdyh0000gn/T/ipykernel_64710/506424766.py:25: FutureWarning: The frame.append method is deprecated and will be removed from pandas in a future version. Use pandas.concat instead.\n",
      "  results = results.append({'user': user_id, 'Algorithm': algo, 'KL_div': calibration_scores[0], 'JS_div': calibration_scores[1]}, ignore_index=True)\n"
     ]
    },
    {
     "name": "stdout",
     "output_type": "stream",
     "text": [
      "591\n"
     ]
    },
    {
     "name": "stderr",
     "output_type": "stream",
     "text": [
      "/var/folders/8v/cgqpzdls33l6jdsvj3z4fdyh0000gn/T/ipykernel_64710/506424766.py:25: FutureWarning: The frame.append method is deprecated and will be removed from pandas in a future version. Use pandas.concat instead.\n",
      "  results = results.append({'user': user_id, 'Algorithm': algo, 'KL_div': calibration_scores[0], 'JS_div': calibration_scores[1]}, ignore_index=True)\n",
      "/var/folders/8v/cgqpzdls33l6jdsvj3z4fdyh0000gn/T/ipykernel_64710/506424766.py:25: FutureWarning: The frame.append method is deprecated and will be removed from pandas in a future version. Use pandas.concat instead.\n",
      "  results = results.append({'user': user_id, 'Algorithm': algo, 'KL_div': calibration_scores[0], 'JS_div': calibration_scores[1]}, ignore_index=True)\n"
     ]
    },
    {
     "name": "stdout",
     "output_type": "stream",
     "text": [
      "592\n"
     ]
    },
    {
     "name": "stderr",
     "output_type": "stream",
     "text": [
      "/var/folders/8v/cgqpzdls33l6jdsvj3z4fdyh0000gn/T/ipykernel_64710/506424766.py:25: FutureWarning: The frame.append method is deprecated and will be removed from pandas in a future version. Use pandas.concat instead.\n",
      "  results = results.append({'user': user_id, 'Algorithm': algo, 'KL_div': calibration_scores[0], 'JS_div': calibration_scores[1]}, ignore_index=True)\n",
      "/var/folders/8v/cgqpzdls33l6jdsvj3z4fdyh0000gn/T/ipykernel_64710/506424766.py:25: FutureWarning: The frame.append method is deprecated and will be removed from pandas in a future version. Use pandas.concat instead.\n",
      "  results = results.append({'user': user_id, 'Algorithm': algo, 'KL_div': calibration_scores[0], 'JS_div': calibration_scores[1]}, ignore_index=True)\n"
     ]
    },
    {
     "name": "stdout",
     "output_type": "stream",
     "text": [
      "593\n"
     ]
    },
    {
     "name": "stderr",
     "output_type": "stream",
     "text": [
      "/var/folders/8v/cgqpzdls33l6jdsvj3z4fdyh0000gn/T/ipykernel_64710/506424766.py:25: FutureWarning: The frame.append method is deprecated and will be removed from pandas in a future version. Use pandas.concat instead.\n",
      "  results = results.append({'user': user_id, 'Algorithm': algo, 'KL_div': calibration_scores[0], 'JS_div': calibration_scores[1]}, ignore_index=True)\n",
      "/var/folders/8v/cgqpzdls33l6jdsvj3z4fdyh0000gn/T/ipykernel_64710/506424766.py:25: FutureWarning: The frame.append method is deprecated and will be removed from pandas in a future version. Use pandas.concat instead.\n",
      "  results = results.append({'user': user_id, 'Algorithm': algo, 'KL_div': calibration_scores[0], 'JS_div': calibration_scores[1]}, ignore_index=True)\n"
     ]
    },
    {
     "name": "stdout",
     "output_type": "stream",
     "text": [
      "594\n"
     ]
    },
    {
     "name": "stderr",
     "output_type": "stream",
     "text": [
      "/var/folders/8v/cgqpzdls33l6jdsvj3z4fdyh0000gn/T/ipykernel_64710/506424766.py:25: FutureWarning: The frame.append method is deprecated and will be removed from pandas in a future version. Use pandas.concat instead.\n",
      "  results = results.append({'user': user_id, 'Algorithm': algo, 'KL_div': calibration_scores[0], 'JS_div': calibration_scores[1]}, ignore_index=True)\n",
      "/var/folders/8v/cgqpzdls33l6jdsvj3z4fdyh0000gn/T/ipykernel_64710/506424766.py:25: FutureWarning: The frame.append method is deprecated and will be removed from pandas in a future version. Use pandas.concat instead.\n",
      "  results = results.append({'user': user_id, 'Algorithm': algo, 'KL_div': calibration_scores[0], 'JS_div': calibration_scores[1]}, ignore_index=True)\n"
     ]
    },
    {
     "name": "stdout",
     "output_type": "stream",
     "text": [
      "595\n"
     ]
    },
    {
     "name": "stderr",
     "output_type": "stream",
     "text": [
      "/var/folders/8v/cgqpzdls33l6jdsvj3z4fdyh0000gn/T/ipykernel_64710/506424766.py:25: FutureWarning: The frame.append method is deprecated and will be removed from pandas in a future version. Use pandas.concat instead.\n",
      "  results = results.append({'user': user_id, 'Algorithm': algo, 'KL_div': calibration_scores[0], 'JS_div': calibration_scores[1]}, ignore_index=True)\n",
      "/var/folders/8v/cgqpzdls33l6jdsvj3z4fdyh0000gn/T/ipykernel_64710/506424766.py:25: FutureWarning: The frame.append method is deprecated and will be removed from pandas in a future version. Use pandas.concat instead.\n",
      "  results = results.append({'user': user_id, 'Algorithm': algo, 'KL_div': calibration_scores[0], 'JS_div': calibration_scores[1]}, ignore_index=True)\n"
     ]
    },
    {
     "name": "stdout",
     "output_type": "stream",
     "text": [
      "596\n"
     ]
    },
    {
     "name": "stderr",
     "output_type": "stream",
     "text": [
      "/var/folders/8v/cgqpzdls33l6jdsvj3z4fdyh0000gn/T/ipykernel_64710/506424766.py:25: FutureWarning: The frame.append method is deprecated and will be removed from pandas in a future version. Use pandas.concat instead.\n",
      "  results = results.append({'user': user_id, 'Algorithm': algo, 'KL_div': calibration_scores[0], 'JS_div': calibration_scores[1]}, ignore_index=True)\n",
      "/var/folders/8v/cgqpzdls33l6jdsvj3z4fdyh0000gn/T/ipykernel_64710/506424766.py:25: FutureWarning: The frame.append method is deprecated and will be removed from pandas in a future version. Use pandas.concat instead.\n",
      "  results = results.append({'user': user_id, 'Algorithm': algo, 'KL_div': calibration_scores[0], 'JS_div': calibration_scores[1]}, ignore_index=True)\n"
     ]
    },
    {
     "name": "stdout",
     "output_type": "stream",
     "text": [
      "597\n"
     ]
    },
    {
     "name": "stderr",
     "output_type": "stream",
     "text": [
      "/var/folders/8v/cgqpzdls33l6jdsvj3z4fdyh0000gn/T/ipykernel_64710/506424766.py:25: FutureWarning: The frame.append method is deprecated and will be removed from pandas in a future version. Use pandas.concat instead.\n",
      "  results = results.append({'user': user_id, 'Algorithm': algo, 'KL_div': calibration_scores[0], 'JS_div': calibration_scores[1]}, ignore_index=True)\n",
      "/var/folders/8v/cgqpzdls33l6jdsvj3z4fdyh0000gn/T/ipykernel_64710/506424766.py:25: FutureWarning: The frame.append method is deprecated and will be removed from pandas in a future version. Use pandas.concat instead.\n",
      "  results = results.append({'user': user_id, 'Algorithm': algo, 'KL_div': calibration_scores[0], 'JS_div': calibration_scores[1]}, ignore_index=True)\n"
     ]
    },
    {
     "name": "stdout",
     "output_type": "stream",
     "text": [
      "598\n"
     ]
    },
    {
     "name": "stderr",
     "output_type": "stream",
     "text": [
      "/var/folders/8v/cgqpzdls33l6jdsvj3z4fdyh0000gn/T/ipykernel_64710/506424766.py:25: FutureWarning: The frame.append method is deprecated and will be removed from pandas in a future version. Use pandas.concat instead.\n",
      "  results = results.append({'user': user_id, 'Algorithm': algo, 'KL_div': calibration_scores[0], 'JS_div': calibration_scores[1]}, ignore_index=True)\n",
      "/var/folders/8v/cgqpzdls33l6jdsvj3z4fdyh0000gn/T/ipykernel_64710/506424766.py:25: FutureWarning: The frame.append method is deprecated and will be removed from pandas in a future version. Use pandas.concat instead.\n",
      "  results = results.append({'user': user_id, 'Algorithm': algo, 'KL_div': calibration_scores[0], 'JS_div': calibration_scores[1]}, ignore_index=True)\n"
     ]
    },
    {
     "name": "stdout",
     "output_type": "stream",
     "text": [
      "599\n"
     ]
    },
    {
     "name": "stderr",
     "output_type": "stream",
     "text": [
      "/var/folders/8v/cgqpzdls33l6jdsvj3z4fdyh0000gn/T/ipykernel_64710/506424766.py:25: FutureWarning: The frame.append method is deprecated and will be removed from pandas in a future version. Use pandas.concat instead.\n",
      "  results = results.append({'user': user_id, 'Algorithm': algo, 'KL_div': calibration_scores[0], 'JS_div': calibration_scores[1]}, ignore_index=True)\n",
      "/var/folders/8v/cgqpzdls33l6jdsvj3z4fdyh0000gn/T/ipykernel_64710/506424766.py:25: FutureWarning: The frame.append method is deprecated and will be removed from pandas in a future version. Use pandas.concat instead.\n",
      "  results = results.append({'user': user_id, 'Algorithm': algo, 'KL_div': calibration_scores[0], 'JS_div': calibration_scores[1]}, ignore_index=True)\n"
     ]
    },
    {
     "name": "stdout",
     "output_type": "stream",
     "text": [
      "600\n"
     ]
    },
    {
     "name": "stderr",
     "output_type": "stream",
     "text": [
      "/var/folders/8v/cgqpzdls33l6jdsvj3z4fdyh0000gn/T/ipykernel_64710/506424766.py:25: FutureWarning: The frame.append method is deprecated and will be removed from pandas in a future version. Use pandas.concat instead.\n",
      "  results = results.append({'user': user_id, 'Algorithm': algo, 'KL_div': calibration_scores[0], 'JS_div': calibration_scores[1]}, ignore_index=True)\n",
      "/var/folders/8v/cgqpzdls33l6jdsvj3z4fdyh0000gn/T/ipykernel_64710/506424766.py:25: FutureWarning: The frame.append method is deprecated and will be removed from pandas in a future version. Use pandas.concat instead.\n",
      "  results = results.append({'user': user_id, 'Algorithm': algo, 'KL_div': calibration_scores[0], 'JS_div': calibration_scores[1]}, ignore_index=True)\n"
     ]
    },
    {
     "name": "stdout",
     "output_type": "stream",
     "text": [
      "601\n"
     ]
    },
    {
     "name": "stderr",
     "output_type": "stream",
     "text": [
      "/var/folders/8v/cgqpzdls33l6jdsvj3z4fdyh0000gn/T/ipykernel_64710/506424766.py:25: FutureWarning: The frame.append method is deprecated and will be removed from pandas in a future version. Use pandas.concat instead.\n",
      "  results = results.append({'user': user_id, 'Algorithm': algo, 'KL_div': calibration_scores[0], 'JS_div': calibration_scores[1]}, ignore_index=True)\n",
      "/var/folders/8v/cgqpzdls33l6jdsvj3z4fdyh0000gn/T/ipykernel_64710/506424766.py:25: FutureWarning: The frame.append method is deprecated and will be removed from pandas in a future version. Use pandas.concat instead.\n",
      "  results = results.append({'user': user_id, 'Algorithm': algo, 'KL_div': calibration_scores[0], 'JS_div': calibration_scores[1]}, ignore_index=True)\n"
     ]
    },
    {
     "name": "stdout",
     "output_type": "stream",
     "text": [
      "602\n"
     ]
    },
    {
     "name": "stderr",
     "output_type": "stream",
     "text": [
      "/var/folders/8v/cgqpzdls33l6jdsvj3z4fdyh0000gn/T/ipykernel_64710/506424766.py:25: FutureWarning: The frame.append method is deprecated and will be removed from pandas in a future version. Use pandas.concat instead.\n",
      "  results = results.append({'user': user_id, 'Algorithm': algo, 'KL_div': calibration_scores[0], 'JS_div': calibration_scores[1]}, ignore_index=True)\n",
      "/var/folders/8v/cgqpzdls33l6jdsvj3z4fdyh0000gn/T/ipykernel_64710/506424766.py:25: FutureWarning: The frame.append method is deprecated and will be removed from pandas in a future version. Use pandas.concat instead.\n",
      "  results = results.append({'user': user_id, 'Algorithm': algo, 'KL_div': calibration_scores[0], 'JS_div': calibration_scores[1]}, ignore_index=True)\n"
     ]
    },
    {
     "name": "stdout",
     "output_type": "stream",
     "text": [
      "603\n"
     ]
    },
    {
     "name": "stderr",
     "output_type": "stream",
     "text": [
      "/var/folders/8v/cgqpzdls33l6jdsvj3z4fdyh0000gn/T/ipykernel_64710/506424766.py:25: FutureWarning: The frame.append method is deprecated and will be removed from pandas in a future version. Use pandas.concat instead.\n",
      "  results = results.append({'user': user_id, 'Algorithm': algo, 'KL_div': calibration_scores[0], 'JS_div': calibration_scores[1]}, ignore_index=True)\n",
      "/var/folders/8v/cgqpzdls33l6jdsvj3z4fdyh0000gn/T/ipykernel_64710/506424766.py:25: FutureWarning: The frame.append method is deprecated and will be removed from pandas in a future version. Use pandas.concat instead.\n",
      "  results = results.append({'user': user_id, 'Algorithm': algo, 'KL_div': calibration_scores[0], 'JS_div': calibration_scores[1]}, ignore_index=True)\n"
     ]
    },
    {
     "name": "stdout",
     "output_type": "stream",
     "text": [
      "604\n"
     ]
    },
    {
     "name": "stderr",
     "output_type": "stream",
     "text": [
      "/var/folders/8v/cgqpzdls33l6jdsvj3z4fdyh0000gn/T/ipykernel_64710/506424766.py:25: FutureWarning: The frame.append method is deprecated and will be removed from pandas in a future version. Use pandas.concat instead.\n",
      "  results = results.append({'user': user_id, 'Algorithm': algo, 'KL_div': calibration_scores[0], 'JS_div': calibration_scores[1]}, ignore_index=True)\n",
      "/var/folders/8v/cgqpzdls33l6jdsvj3z4fdyh0000gn/T/ipykernel_64710/506424766.py:25: FutureWarning: The frame.append method is deprecated and will be removed from pandas in a future version. Use pandas.concat instead.\n",
      "  results = results.append({'user': user_id, 'Algorithm': algo, 'KL_div': calibration_scores[0], 'JS_div': calibration_scores[1]}, ignore_index=True)\n"
     ]
    },
    {
     "name": "stdout",
     "output_type": "stream",
     "text": [
      "605\n"
     ]
    },
    {
     "name": "stderr",
     "output_type": "stream",
     "text": [
      "/var/folders/8v/cgqpzdls33l6jdsvj3z4fdyh0000gn/T/ipykernel_64710/506424766.py:25: FutureWarning: The frame.append method is deprecated and will be removed from pandas in a future version. Use pandas.concat instead.\n",
      "  results = results.append({'user': user_id, 'Algorithm': algo, 'KL_div': calibration_scores[0], 'JS_div': calibration_scores[1]}, ignore_index=True)\n",
      "/var/folders/8v/cgqpzdls33l6jdsvj3z4fdyh0000gn/T/ipykernel_64710/506424766.py:25: FutureWarning: The frame.append method is deprecated and will be removed from pandas in a future version. Use pandas.concat instead.\n",
      "  results = results.append({'user': user_id, 'Algorithm': algo, 'KL_div': calibration_scores[0], 'JS_div': calibration_scores[1]}, ignore_index=True)\n"
     ]
    },
    {
     "name": "stdout",
     "output_type": "stream",
     "text": [
      "606\n"
     ]
    },
    {
     "name": "stderr",
     "output_type": "stream",
     "text": [
      "/var/folders/8v/cgqpzdls33l6jdsvj3z4fdyh0000gn/T/ipykernel_64710/506424766.py:25: FutureWarning: The frame.append method is deprecated and will be removed from pandas in a future version. Use pandas.concat instead.\n",
      "  results = results.append({'user': user_id, 'Algorithm': algo, 'KL_div': calibration_scores[0], 'JS_div': calibration_scores[1]}, ignore_index=True)\n",
      "/var/folders/8v/cgqpzdls33l6jdsvj3z4fdyh0000gn/T/ipykernel_64710/506424766.py:25: FutureWarning: The frame.append method is deprecated and will be removed from pandas in a future version. Use pandas.concat instead.\n",
      "  results = results.append({'user': user_id, 'Algorithm': algo, 'KL_div': calibration_scores[0], 'JS_div': calibration_scores[1]}, ignore_index=True)\n"
     ]
    },
    {
     "name": "stdout",
     "output_type": "stream",
     "text": [
      "607\n"
     ]
    },
    {
     "name": "stderr",
     "output_type": "stream",
     "text": [
      "/var/folders/8v/cgqpzdls33l6jdsvj3z4fdyh0000gn/T/ipykernel_64710/506424766.py:25: FutureWarning: The frame.append method is deprecated and will be removed from pandas in a future version. Use pandas.concat instead.\n",
      "  results = results.append({'user': user_id, 'Algorithm': algo, 'KL_div': calibration_scores[0], 'JS_div': calibration_scores[1]}, ignore_index=True)\n",
      "/var/folders/8v/cgqpzdls33l6jdsvj3z4fdyh0000gn/T/ipykernel_64710/506424766.py:25: FutureWarning: The frame.append method is deprecated and will be removed from pandas in a future version. Use pandas.concat instead.\n",
      "  results = results.append({'user': user_id, 'Algorithm': algo, 'KL_div': calibration_scores[0], 'JS_div': calibration_scores[1]}, ignore_index=True)\n"
     ]
    },
    {
     "name": "stdout",
     "output_type": "stream",
     "text": [
      "608\n"
     ]
    },
    {
     "name": "stderr",
     "output_type": "stream",
     "text": [
      "/var/folders/8v/cgqpzdls33l6jdsvj3z4fdyh0000gn/T/ipykernel_64710/506424766.py:25: FutureWarning: The frame.append method is deprecated and will be removed from pandas in a future version. Use pandas.concat instead.\n",
      "  results = results.append({'user': user_id, 'Algorithm': algo, 'KL_div': calibration_scores[0], 'JS_div': calibration_scores[1]}, ignore_index=True)\n",
      "/var/folders/8v/cgqpzdls33l6jdsvj3z4fdyh0000gn/T/ipykernel_64710/506424766.py:25: FutureWarning: The frame.append method is deprecated and will be removed from pandas in a future version. Use pandas.concat instead.\n",
      "  results = results.append({'user': user_id, 'Algorithm': algo, 'KL_div': calibration_scores[0], 'JS_div': calibration_scores[1]}, ignore_index=True)\n"
     ]
    },
    {
     "name": "stdout",
     "output_type": "stream",
     "text": [
      "609\n"
     ]
    },
    {
     "name": "stderr",
     "output_type": "stream",
     "text": [
      "/var/folders/8v/cgqpzdls33l6jdsvj3z4fdyh0000gn/T/ipykernel_64710/506424766.py:25: FutureWarning: The frame.append method is deprecated and will be removed from pandas in a future version. Use pandas.concat instead.\n",
      "  results = results.append({'user': user_id, 'Algorithm': algo, 'KL_div': calibration_scores[0], 'JS_div': calibration_scores[1]}, ignore_index=True)\n",
      "/var/folders/8v/cgqpzdls33l6jdsvj3z4fdyh0000gn/T/ipykernel_64710/506424766.py:25: FutureWarning: The frame.append method is deprecated and will be removed from pandas in a future version. Use pandas.concat instead.\n",
      "  results = results.append({'user': user_id, 'Algorithm': algo, 'KL_div': calibration_scores[0], 'JS_div': calibration_scores[1]}, ignore_index=True)\n"
     ]
    },
    {
     "name": "stdout",
     "output_type": "stream",
     "text": [
      "610\n"
     ]
    },
    {
     "name": "stderr",
     "output_type": "stream",
     "text": [
      "/var/folders/8v/cgqpzdls33l6jdsvj3z4fdyh0000gn/T/ipykernel_64710/506424766.py:25: FutureWarning: The frame.append method is deprecated and will be removed from pandas in a future version. Use pandas.concat instead.\n",
      "  results = results.append({'user': user_id, 'Algorithm': algo, 'KL_div': calibration_scores[0], 'JS_div': calibration_scores[1]}, ignore_index=True)\n",
      "/var/folders/8v/cgqpzdls33l6jdsvj3z4fdyh0000gn/T/ipykernel_64710/506424766.py:25: FutureWarning: The frame.append method is deprecated and will be removed from pandas in a future version. Use pandas.concat instead.\n",
      "  results = results.append({'user': user_id, 'Algorithm': algo, 'KL_div': calibration_scores[0], 'JS_div': calibration_scores[1]}, ignore_index=True)\n"
     ]
    },
    {
     "name": "stdout",
     "output_type": "stream",
     "text": [
      "611\n"
     ]
    },
    {
     "name": "stderr",
     "output_type": "stream",
     "text": [
      "/var/folders/8v/cgqpzdls33l6jdsvj3z4fdyh0000gn/T/ipykernel_64710/506424766.py:25: FutureWarning: The frame.append method is deprecated and will be removed from pandas in a future version. Use pandas.concat instead.\n",
      "  results = results.append({'user': user_id, 'Algorithm': algo, 'KL_div': calibration_scores[0], 'JS_div': calibration_scores[1]}, ignore_index=True)\n",
      "/var/folders/8v/cgqpzdls33l6jdsvj3z4fdyh0000gn/T/ipykernel_64710/506424766.py:25: FutureWarning: The frame.append method is deprecated and will be removed from pandas in a future version. Use pandas.concat instead.\n",
      "  results = results.append({'user': user_id, 'Algorithm': algo, 'KL_div': calibration_scores[0], 'JS_div': calibration_scores[1]}, ignore_index=True)\n"
     ]
    },
    {
     "name": "stdout",
     "output_type": "stream",
     "text": [
      "612\n"
     ]
    },
    {
     "name": "stderr",
     "output_type": "stream",
     "text": [
      "/var/folders/8v/cgqpzdls33l6jdsvj3z4fdyh0000gn/T/ipykernel_64710/506424766.py:25: FutureWarning: The frame.append method is deprecated and will be removed from pandas in a future version. Use pandas.concat instead.\n",
      "  results = results.append({'user': user_id, 'Algorithm': algo, 'KL_div': calibration_scores[0], 'JS_div': calibration_scores[1]}, ignore_index=True)\n",
      "/var/folders/8v/cgqpzdls33l6jdsvj3z4fdyh0000gn/T/ipykernel_64710/506424766.py:25: FutureWarning: The frame.append method is deprecated and will be removed from pandas in a future version. Use pandas.concat instead.\n",
      "  results = results.append({'user': user_id, 'Algorithm': algo, 'KL_div': calibration_scores[0], 'JS_div': calibration_scores[1]}, ignore_index=True)\n"
     ]
    },
    {
     "name": "stdout",
     "output_type": "stream",
     "text": [
      "613\n"
     ]
    },
    {
     "name": "stderr",
     "output_type": "stream",
     "text": [
      "/var/folders/8v/cgqpzdls33l6jdsvj3z4fdyh0000gn/T/ipykernel_64710/506424766.py:25: FutureWarning: The frame.append method is deprecated and will be removed from pandas in a future version. Use pandas.concat instead.\n",
      "  results = results.append({'user': user_id, 'Algorithm': algo, 'KL_div': calibration_scores[0], 'JS_div': calibration_scores[1]}, ignore_index=True)\n",
      "/var/folders/8v/cgqpzdls33l6jdsvj3z4fdyh0000gn/T/ipykernel_64710/506424766.py:25: FutureWarning: The frame.append method is deprecated and will be removed from pandas in a future version. Use pandas.concat instead.\n",
      "  results = results.append({'user': user_id, 'Algorithm': algo, 'KL_div': calibration_scores[0], 'JS_div': calibration_scores[1]}, ignore_index=True)\n"
     ]
    },
    {
     "name": "stdout",
     "output_type": "stream",
     "text": [
      "614\n"
     ]
    },
    {
     "name": "stderr",
     "output_type": "stream",
     "text": [
      "/var/folders/8v/cgqpzdls33l6jdsvj3z4fdyh0000gn/T/ipykernel_64710/506424766.py:25: FutureWarning: The frame.append method is deprecated and will be removed from pandas in a future version. Use pandas.concat instead.\n",
      "  results = results.append({'user': user_id, 'Algorithm': algo, 'KL_div': calibration_scores[0], 'JS_div': calibration_scores[1]}, ignore_index=True)\n",
      "/var/folders/8v/cgqpzdls33l6jdsvj3z4fdyh0000gn/T/ipykernel_64710/506424766.py:25: FutureWarning: The frame.append method is deprecated and will be removed from pandas in a future version. Use pandas.concat instead.\n",
      "  results = results.append({'user': user_id, 'Algorithm': algo, 'KL_div': calibration_scores[0], 'JS_div': calibration_scores[1]}, ignore_index=True)\n"
     ]
    },
    {
     "name": "stdout",
     "output_type": "stream",
     "text": [
      "615\n"
     ]
    },
    {
     "name": "stderr",
     "output_type": "stream",
     "text": [
      "/var/folders/8v/cgqpzdls33l6jdsvj3z4fdyh0000gn/T/ipykernel_64710/506424766.py:25: FutureWarning: The frame.append method is deprecated and will be removed from pandas in a future version. Use pandas.concat instead.\n",
      "  results = results.append({'user': user_id, 'Algorithm': algo, 'KL_div': calibration_scores[0], 'JS_div': calibration_scores[1]}, ignore_index=True)\n",
      "/var/folders/8v/cgqpzdls33l6jdsvj3z4fdyh0000gn/T/ipykernel_64710/506424766.py:25: FutureWarning: The frame.append method is deprecated and will be removed from pandas in a future version. Use pandas.concat instead.\n",
      "  results = results.append({'user': user_id, 'Algorithm': algo, 'KL_div': calibration_scores[0], 'JS_div': calibration_scores[1]}, ignore_index=True)\n"
     ]
    },
    {
     "name": "stdout",
     "output_type": "stream",
     "text": [
      "616\n"
     ]
    },
    {
     "name": "stderr",
     "output_type": "stream",
     "text": [
      "/var/folders/8v/cgqpzdls33l6jdsvj3z4fdyh0000gn/T/ipykernel_64710/506424766.py:25: FutureWarning: The frame.append method is deprecated and will be removed from pandas in a future version. Use pandas.concat instead.\n",
      "  results = results.append({'user': user_id, 'Algorithm': algo, 'KL_div': calibration_scores[0], 'JS_div': calibration_scores[1]}, ignore_index=True)\n",
      "/var/folders/8v/cgqpzdls33l6jdsvj3z4fdyh0000gn/T/ipykernel_64710/506424766.py:25: FutureWarning: The frame.append method is deprecated and will be removed from pandas in a future version. Use pandas.concat instead.\n",
      "  results = results.append({'user': user_id, 'Algorithm': algo, 'KL_div': calibration_scores[0], 'JS_div': calibration_scores[1]}, ignore_index=True)\n"
     ]
    },
    {
     "name": "stdout",
     "output_type": "stream",
     "text": [
      "617\n"
     ]
    },
    {
     "name": "stderr",
     "output_type": "stream",
     "text": [
      "/var/folders/8v/cgqpzdls33l6jdsvj3z4fdyh0000gn/T/ipykernel_64710/506424766.py:25: FutureWarning: The frame.append method is deprecated and will be removed from pandas in a future version. Use pandas.concat instead.\n",
      "  results = results.append({'user': user_id, 'Algorithm': algo, 'KL_div': calibration_scores[0], 'JS_div': calibration_scores[1]}, ignore_index=True)\n",
      "/var/folders/8v/cgqpzdls33l6jdsvj3z4fdyh0000gn/T/ipykernel_64710/506424766.py:25: FutureWarning: The frame.append method is deprecated and will be removed from pandas in a future version. Use pandas.concat instead.\n",
      "  results = results.append({'user': user_id, 'Algorithm': algo, 'KL_div': calibration_scores[0], 'JS_div': calibration_scores[1]}, ignore_index=True)\n"
     ]
    },
    {
     "name": "stdout",
     "output_type": "stream",
     "text": [
      "618\n"
     ]
    },
    {
     "name": "stderr",
     "output_type": "stream",
     "text": [
      "/var/folders/8v/cgqpzdls33l6jdsvj3z4fdyh0000gn/T/ipykernel_64710/506424766.py:25: FutureWarning: The frame.append method is deprecated and will be removed from pandas in a future version. Use pandas.concat instead.\n",
      "  results = results.append({'user': user_id, 'Algorithm': algo, 'KL_div': calibration_scores[0], 'JS_div': calibration_scores[1]}, ignore_index=True)\n",
      "/var/folders/8v/cgqpzdls33l6jdsvj3z4fdyh0000gn/T/ipykernel_64710/506424766.py:25: FutureWarning: The frame.append method is deprecated and will be removed from pandas in a future version. Use pandas.concat instead.\n",
      "  results = results.append({'user': user_id, 'Algorithm': algo, 'KL_div': calibration_scores[0], 'JS_div': calibration_scores[1]}, ignore_index=True)\n"
     ]
    },
    {
     "name": "stdout",
     "output_type": "stream",
     "text": [
      "619\n"
     ]
    },
    {
     "name": "stderr",
     "output_type": "stream",
     "text": [
      "/var/folders/8v/cgqpzdls33l6jdsvj3z4fdyh0000gn/T/ipykernel_64710/506424766.py:25: FutureWarning: The frame.append method is deprecated and will be removed from pandas in a future version. Use pandas.concat instead.\n",
      "  results = results.append({'user': user_id, 'Algorithm': algo, 'KL_div': calibration_scores[0], 'JS_div': calibration_scores[1]}, ignore_index=True)\n",
      "/var/folders/8v/cgqpzdls33l6jdsvj3z4fdyh0000gn/T/ipykernel_64710/506424766.py:25: FutureWarning: The frame.append method is deprecated and will be removed from pandas in a future version. Use pandas.concat instead.\n",
      "  results = results.append({'user': user_id, 'Algorithm': algo, 'KL_div': calibration_scores[0], 'JS_div': calibration_scores[1]}, ignore_index=True)\n"
     ]
    },
    {
     "name": "stdout",
     "output_type": "stream",
     "text": [
      "620\n"
     ]
    },
    {
     "name": "stderr",
     "output_type": "stream",
     "text": [
      "/var/folders/8v/cgqpzdls33l6jdsvj3z4fdyh0000gn/T/ipykernel_64710/506424766.py:25: FutureWarning: The frame.append method is deprecated and will be removed from pandas in a future version. Use pandas.concat instead.\n",
      "  results = results.append({'user': user_id, 'Algorithm': algo, 'KL_div': calibration_scores[0], 'JS_div': calibration_scores[1]}, ignore_index=True)\n",
      "/var/folders/8v/cgqpzdls33l6jdsvj3z4fdyh0000gn/T/ipykernel_64710/506424766.py:25: FutureWarning: The frame.append method is deprecated and will be removed from pandas in a future version. Use pandas.concat instead.\n",
      "  results = results.append({'user': user_id, 'Algorithm': algo, 'KL_div': calibration_scores[0], 'JS_div': calibration_scores[1]}, ignore_index=True)\n"
     ]
    },
    {
     "name": "stdout",
     "output_type": "stream",
     "text": [
      "621\n"
     ]
    },
    {
     "name": "stderr",
     "output_type": "stream",
     "text": [
      "/var/folders/8v/cgqpzdls33l6jdsvj3z4fdyh0000gn/T/ipykernel_64710/506424766.py:25: FutureWarning: The frame.append method is deprecated and will be removed from pandas in a future version. Use pandas.concat instead.\n",
      "  results = results.append({'user': user_id, 'Algorithm': algo, 'KL_div': calibration_scores[0], 'JS_div': calibration_scores[1]}, ignore_index=True)\n",
      "/var/folders/8v/cgqpzdls33l6jdsvj3z4fdyh0000gn/T/ipykernel_64710/506424766.py:25: FutureWarning: The frame.append method is deprecated and will be removed from pandas in a future version. Use pandas.concat instead.\n",
      "  results = results.append({'user': user_id, 'Algorithm': algo, 'KL_div': calibration_scores[0], 'JS_div': calibration_scores[1]}, ignore_index=True)\n"
     ]
    },
    {
     "name": "stdout",
     "output_type": "stream",
     "text": [
      "622\n"
     ]
    },
    {
     "name": "stderr",
     "output_type": "stream",
     "text": [
      "/var/folders/8v/cgqpzdls33l6jdsvj3z4fdyh0000gn/T/ipykernel_64710/506424766.py:25: FutureWarning: The frame.append method is deprecated and will be removed from pandas in a future version. Use pandas.concat instead.\n",
      "  results = results.append({'user': user_id, 'Algorithm': algo, 'KL_div': calibration_scores[0], 'JS_div': calibration_scores[1]}, ignore_index=True)\n",
      "/var/folders/8v/cgqpzdls33l6jdsvj3z4fdyh0000gn/T/ipykernel_64710/506424766.py:25: FutureWarning: The frame.append method is deprecated and will be removed from pandas in a future version. Use pandas.concat instead.\n",
      "  results = results.append({'user': user_id, 'Algorithm': algo, 'KL_div': calibration_scores[0], 'JS_div': calibration_scores[1]}, ignore_index=True)\n"
     ]
    },
    {
     "name": "stdout",
     "output_type": "stream",
     "text": [
      "623\n"
     ]
    },
    {
     "name": "stderr",
     "output_type": "stream",
     "text": [
      "/var/folders/8v/cgqpzdls33l6jdsvj3z4fdyh0000gn/T/ipykernel_64710/506424766.py:25: FutureWarning: The frame.append method is deprecated and will be removed from pandas in a future version. Use pandas.concat instead.\n",
      "  results = results.append({'user': user_id, 'Algorithm': algo, 'KL_div': calibration_scores[0], 'JS_div': calibration_scores[1]}, ignore_index=True)\n",
      "/var/folders/8v/cgqpzdls33l6jdsvj3z4fdyh0000gn/T/ipykernel_64710/506424766.py:25: FutureWarning: The frame.append method is deprecated and will be removed from pandas in a future version. Use pandas.concat instead.\n",
      "  results = results.append({'user': user_id, 'Algorithm': algo, 'KL_div': calibration_scores[0], 'JS_div': calibration_scores[1]}, ignore_index=True)\n"
     ]
    },
    {
     "name": "stdout",
     "output_type": "stream",
     "text": [
      "624\n"
     ]
    },
    {
     "name": "stderr",
     "output_type": "stream",
     "text": [
      "/var/folders/8v/cgqpzdls33l6jdsvj3z4fdyh0000gn/T/ipykernel_64710/506424766.py:25: FutureWarning: The frame.append method is deprecated and will be removed from pandas in a future version. Use pandas.concat instead.\n",
      "  results = results.append({'user': user_id, 'Algorithm': algo, 'KL_div': calibration_scores[0], 'JS_div': calibration_scores[1]}, ignore_index=True)\n",
      "/var/folders/8v/cgqpzdls33l6jdsvj3z4fdyh0000gn/T/ipykernel_64710/506424766.py:25: FutureWarning: The frame.append method is deprecated and will be removed from pandas in a future version. Use pandas.concat instead.\n",
      "  results = results.append({'user': user_id, 'Algorithm': algo, 'KL_div': calibration_scores[0], 'JS_div': calibration_scores[1]}, ignore_index=True)\n"
     ]
    },
    {
     "name": "stdout",
     "output_type": "stream",
     "text": [
      "625\n"
     ]
    },
    {
     "name": "stderr",
     "output_type": "stream",
     "text": [
      "/var/folders/8v/cgqpzdls33l6jdsvj3z4fdyh0000gn/T/ipykernel_64710/506424766.py:25: FutureWarning: The frame.append method is deprecated and will be removed from pandas in a future version. Use pandas.concat instead.\n",
      "  results = results.append({'user': user_id, 'Algorithm': algo, 'KL_div': calibration_scores[0], 'JS_div': calibration_scores[1]}, ignore_index=True)\n",
      "/var/folders/8v/cgqpzdls33l6jdsvj3z4fdyh0000gn/T/ipykernel_64710/506424766.py:25: FutureWarning: The frame.append method is deprecated and will be removed from pandas in a future version. Use pandas.concat instead.\n",
      "  results = results.append({'user': user_id, 'Algorithm': algo, 'KL_div': calibration_scores[0], 'JS_div': calibration_scores[1]}, ignore_index=True)\n"
     ]
    },
    {
     "name": "stdout",
     "output_type": "stream",
     "text": [
      "626\n"
     ]
    },
    {
     "name": "stderr",
     "output_type": "stream",
     "text": [
      "/var/folders/8v/cgqpzdls33l6jdsvj3z4fdyh0000gn/T/ipykernel_64710/506424766.py:25: FutureWarning: The frame.append method is deprecated and will be removed from pandas in a future version. Use pandas.concat instead.\n",
      "  results = results.append({'user': user_id, 'Algorithm': algo, 'KL_div': calibration_scores[0], 'JS_div': calibration_scores[1]}, ignore_index=True)\n",
      "/var/folders/8v/cgqpzdls33l6jdsvj3z4fdyh0000gn/T/ipykernel_64710/506424766.py:25: FutureWarning: The frame.append method is deprecated and will be removed from pandas in a future version. Use pandas.concat instead.\n",
      "  results = results.append({'user': user_id, 'Algorithm': algo, 'KL_div': calibration_scores[0], 'JS_div': calibration_scores[1]}, ignore_index=True)\n"
     ]
    },
    {
     "name": "stdout",
     "output_type": "stream",
     "text": [
      "627\n"
     ]
    },
    {
     "name": "stderr",
     "output_type": "stream",
     "text": [
      "/var/folders/8v/cgqpzdls33l6jdsvj3z4fdyh0000gn/T/ipykernel_64710/506424766.py:25: FutureWarning: The frame.append method is deprecated and will be removed from pandas in a future version. Use pandas.concat instead.\n",
      "  results = results.append({'user': user_id, 'Algorithm': algo, 'KL_div': calibration_scores[0], 'JS_div': calibration_scores[1]}, ignore_index=True)\n",
      "/var/folders/8v/cgqpzdls33l6jdsvj3z4fdyh0000gn/T/ipykernel_64710/506424766.py:25: FutureWarning: The frame.append method is deprecated and will be removed from pandas in a future version. Use pandas.concat instead.\n",
      "  results = results.append({'user': user_id, 'Algorithm': algo, 'KL_div': calibration_scores[0], 'JS_div': calibration_scores[1]}, ignore_index=True)\n"
     ]
    },
    {
     "name": "stdout",
     "output_type": "stream",
     "text": [
      "628\n"
     ]
    },
    {
     "name": "stderr",
     "output_type": "stream",
     "text": [
      "/var/folders/8v/cgqpzdls33l6jdsvj3z4fdyh0000gn/T/ipykernel_64710/506424766.py:25: FutureWarning: The frame.append method is deprecated and will be removed from pandas in a future version. Use pandas.concat instead.\n",
      "  results = results.append({'user': user_id, 'Algorithm': algo, 'KL_div': calibration_scores[0], 'JS_div': calibration_scores[1]}, ignore_index=True)\n",
      "/var/folders/8v/cgqpzdls33l6jdsvj3z4fdyh0000gn/T/ipykernel_64710/506424766.py:25: FutureWarning: The frame.append method is deprecated and will be removed from pandas in a future version. Use pandas.concat instead.\n",
      "  results = results.append({'user': user_id, 'Algorithm': algo, 'KL_div': calibration_scores[0], 'JS_div': calibration_scores[1]}, ignore_index=True)\n"
     ]
    },
    {
     "name": "stdout",
     "output_type": "stream",
     "text": [
      "629\n"
     ]
    },
    {
     "name": "stderr",
     "output_type": "stream",
     "text": [
      "/var/folders/8v/cgqpzdls33l6jdsvj3z4fdyh0000gn/T/ipykernel_64710/506424766.py:25: FutureWarning: The frame.append method is deprecated and will be removed from pandas in a future version. Use pandas.concat instead.\n",
      "  results = results.append({'user': user_id, 'Algorithm': algo, 'KL_div': calibration_scores[0], 'JS_div': calibration_scores[1]}, ignore_index=True)\n",
      "/var/folders/8v/cgqpzdls33l6jdsvj3z4fdyh0000gn/T/ipykernel_64710/506424766.py:25: FutureWarning: The frame.append method is deprecated and will be removed from pandas in a future version. Use pandas.concat instead.\n",
      "  results = results.append({'user': user_id, 'Algorithm': algo, 'KL_div': calibration_scores[0], 'JS_div': calibration_scores[1]}, ignore_index=True)\n"
     ]
    },
    {
     "name": "stdout",
     "output_type": "stream",
     "text": [
      "630\n"
     ]
    },
    {
     "name": "stderr",
     "output_type": "stream",
     "text": [
      "/var/folders/8v/cgqpzdls33l6jdsvj3z4fdyh0000gn/T/ipykernel_64710/506424766.py:25: FutureWarning: The frame.append method is deprecated and will be removed from pandas in a future version. Use pandas.concat instead.\n",
      "  results = results.append({'user': user_id, 'Algorithm': algo, 'KL_div': calibration_scores[0], 'JS_div': calibration_scores[1]}, ignore_index=True)\n",
      "/var/folders/8v/cgqpzdls33l6jdsvj3z4fdyh0000gn/T/ipykernel_64710/506424766.py:25: FutureWarning: The frame.append method is deprecated and will be removed from pandas in a future version. Use pandas.concat instead.\n",
      "  results = results.append({'user': user_id, 'Algorithm': algo, 'KL_div': calibration_scores[0], 'JS_div': calibration_scores[1]}, ignore_index=True)\n"
     ]
    },
    {
     "name": "stdout",
     "output_type": "stream",
     "text": [
      "631\n"
     ]
    },
    {
     "name": "stderr",
     "output_type": "stream",
     "text": [
      "/var/folders/8v/cgqpzdls33l6jdsvj3z4fdyh0000gn/T/ipykernel_64710/506424766.py:25: FutureWarning: The frame.append method is deprecated and will be removed from pandas in a future version. Use pandas.concat instead.\n",
      "  results = results.append({'user': user_id, 'Algorithm': algo, 'KL_div': calibration_scores[0], 'JS_div': calibration_scores[1]}, ignore_index=True)\n",
      "/var/folders/8v/cgqpzdls33l6jdsvj3z4fdyh0000gn/T/ipykernel_64710/506424766.py:25: FutureWarning: The frame.append method is deprecated and will be removed from pandas in a future version. Use pandas.concat instead.\n",
      "  results = results.append({'user': user_id, 'Algorithm': algo, 'KL_div': calibration_scores[0], 'JS_div': calibration_scores[1]}, ignore_index=True)\n"
     ]
    },
    {
     "name": "stdout",
     "output_type": "stream",
     "text": [
      "632\n"
     ]
    },
    {
     "name": "stderr",
     "output_type": "stream",
     "text": [
      "/var/folders/8v/cgqpzdls33l6jdsvj3z4fdyh0000gn/T/ipykernel_64710/506424766.py:25: FutureWarning: The frame.append method is deprecated and will be removed from pandas in a future version. Use pandas.concat instead.\n",
      "  results = results.append({'user': user_id, 'Algorithm': algo, 'KL_div': calibration_scores[0], 'JS_div': calibration_scores[1]}, ignore_index=True)\n",
      "/var/folders/8v/cgqpzdls33l6jdsvj3z4fdyh0000gn/T/ipykernel_64710/506424766.py:25: FutureWarning: The frame.append method is deprecated and will be removed from pandas in a future version. Use pandas.concat instead.\n",
      "  results = results.append({'user': user_id, 'Algorithm': algo, 'KL_div': calibration_scores[0], 'JS_div': calibration_scores[1]}, ignore_index=True)\n"
     ]
    },
    {
     "name": "stdout",
     "output_type": "stream",
     "text": [
      "633\n"
     ]
    },
    {
     "name": "stderr",
     "output_type": "stream",
     "text": [
      "/var/folders/8v/cgqpzdls33l6jdsvj3z4fdyh0000gn/T/ipykernel_64710/506424766.py:25: FutureWarning: The frame.append method is deprecated and will be removed from pandas in a future version. Use pandas.concat instead.\n",
      "  results = results.append({'user': user_id, 'Algorithm': algo, 'KL_div': calibration_scores[0], 'JS_div': calibration_scores[1]}, ignore_index=True)\n",
      "/var/folders/8v/cgqpzdls33l6jdsvj3z4fdyh0000gn/T/ipykernel_64710/506424766.py:25: FutureWarning: The frame.append method is deprecated and will be removed from pandas in a future version. Use pandas.concat instead.\n",
      "  results = results.append({'user': user_id, 'Algorithm': algo, 'KL_div': calibration_scores[0], 'JS_div': calibration_scores[1]}, ignore_index=True)\n"
     ]
    },
    {
     "name": "stdout",
     "output_type": "stream",
     "text": [
      "634\n"
     ]
    },
    {
     "name": "stderr",
     "output_type": "stream",
     "text": [
      "/var/folders/8v/cgqpzdls33l6jdsvj3z4fdyh0000gn/T/ipykernel_64710/506424766.py:25: FutureWarning: The frame.append method is deprecated and will be removed from pandas in a future version. Use pandas.concat instead.\n",
      "  results = results.append({'user': user_id, 'Algorithm': algo, 'KL_div': calibration_scores[0], 'JS_div': calibration_scores[1]}, ignore_index=True)\n",
      "/var/folders/8v/cgqpzdls33l6jdsvj3z4fdyh0000gn/T/ipykernel_64710/506424766.py:25: FutureWarning: The frame.append method is deprecated and will be removed from pandas in a future version. Use pandas.concat instead.\n",
      "  results = results.append({'user': user_id, 'Algorithm': algo, 'KL_div': calibration_scores[0], 'JS_div': calibration_scores[1]}, ignore_index=True)\n"
     ]
    },
    {
     "name": "stdout",
     "output_type": "stream",
     "text": [
      "635\n"
     ]
    },
    {
     "name": "stderr",
     "output_type": "stream",
     "text": [
      "/var/folders/8v/cgqpzdls33l6jdsvj3z4fdyh0000gn/T/ipykernel_64710/506424766.py:25: FutureWarning: The frame.append method is deprecated and will be removed from pandas in a future version. Use pandas.concat instead.\n",
      "  results = results.append({'user': user_id, 'Algorithm': algo, 'KL_div': calibration_scores[0], 'JS_div': calibration_scores[1]}, ignore_index=True)\n",
      "/var/folders/8v/cgqpzdls33l6jdsvj3z4fdyh0000gn/T/ipykernel_64710/506424766.py:25: FutureWarning: The frame.append method is deprecated and will be removed from pandas in a future version. Use pandas.concat instead.\n",
      "  results = results.append({'user': user_id, 'Algorithm': algo, 'KL_div': calibration_scores[0], 'JS_div': calibration_scores[1]}, ignore_index=True)\n"
     ]
    },
    {
     "name": "stdout",
     "output_type": "stream",
     "text": [
      "636\n"
     ]
    },
    {
     "name": "stderr",
     "output_type": "stream",
     "text": [
      "/var/folders/8v/cgqpzdls33l6jdsvj3z4fdyh0000gn/T/ipykernel_64710/506424766.py:25: FutureWarning: The frame.append method is deprecated and will be removed from pandas in a future version. Use pandas.concat instead.\n",
      "  results = results.append({'user': user_id, 'Algorithm': algo, 'KL_div': calibration_scores[0], 'JS_div': calibration_scores[1]}, ignore_index=True)\n",
      "/var/folders/8v/cgqpzdls33l6jdsvj3z4fdyh0000gn/T/ipykernel_64710/506424766.py:25: FutureWarning: The frame.append method is deprecated and will be removed from pandas in a future version. Use pandas.concat instead.\n",
      "  results = results.append({'user': user_id, 'Algorithm': algo, 'KL_div': calibration_scores[0], 'JS_div': calibration_scores[1]}, ignore_index=True)\n"
     ]
    },
    {
     "name": "stdout",
     "output_type": "stream",
     "text": [
      "637\n"
     ]
    },
    {
     "name": "stderr",
     "output_type": "stream",
     "text": [
      "/var/folders/8v/cgqpzdls33l6jdsvj3z4fdyh0000gn/T/ipykernel_64710/506424766.py:25: FutureWarning: The frame.append method is deprecated and will be removed from pandas in a future version. Use pandas.concat instead.\n",
      "  results = results.append({'user': user_id, 'Algorithm': algo, 'KL_div': calibration_scores[0], 'JS_div': calibration_scores[1]}, ignore_index=True)\n",
      "/var/folders/8v/cgqpzdls33l6jdsvj3z4fdyh0000gn/T/ipykernel_64710/506424766.py:25: FutureWarning: The frame.append method is deprecated and will be removed from pandas in a future version. Use pandas.concat instead.\n",
      "  results = results.append({'user': user_id, 'Algorithm': algo, 'KL_div': calibration_scores[0], 'JS_div': calibration_scores[1]}, ignore_index=True)\n"
     ]
    },
    {
     "name": "stdout",
     "output_type": "stream",
     "text": [
      "638\n"
     ]
    },
    {
     "name": "stderr",
     "output_type": "stream",
     "text": [
      "/var/folders/8v/cgqpzdls33l6jdsvj3z4fdyh0000gn/T/ipykernel_64710/506424766.py:25: FutureWarning: The frame.append method is deprecated and will be removed from pandas in a future version. Use pandas.concat instead.\n",
      "  results = results.append({'user': user_id, 'Algorithm': algo, 'KL_div': calibration_scores[0], 'JS_div': calibration_scores[1]}, ignore_index=True)\n",
      "/var/folders/8v/cgqpzdls33l6jdsvj3z4fdyh0000gn/T/ipykernel_64710/506424766.py:25: FutureWarning: The frame.append method is deprecated and will be removed from pandas in a future version. Use pandas.concat instead.\n",
      "  results = results.append({'user': user_id, 'Algorithm': algo, 'KL_div': calibration_scores[0], 'JS_div': calibration_scores[1]}, ignore_index=True)\n"
     ]
    },
    {
     "name": "stdout",
     "output_type": "stream",
     "text": [
      "639\n"
     ]
    },
    {
     "name": "stderr",
     "output_type": "stream",
     "text": [
      "/var/folders/8v/cgqpzdls33l6jdsvj3z4fdyh0000gn/T/ipykernel_64710/506424766.py:25: FutureWarning: The frame.append method is deprecated and will be removed from pandas in a future version. Use pandas.concat instead.\n",
      "  results = results.append({'user': user_id, 'Algorithm': algo, 'KL_div': calibration_scores[0], 'JS_div': calibration_scores[1]}, ignore_index=True)\n",
      "/var/folders/8v/cgqpzdls33l6jdsvj3z4fdyh0000gn/T/ipykernel_64710/506424766.py:25: FutureWarning: The frame.append method is deprecated and will be removed from pandas in a future version. Use pandas.concat instead.\n",
      "  results = results.append({'user': user_id, 'Algorithm': algo, 'KL_div': calibration_scores[0], 'JS_div': calibration_scores[1]}, ignore_index=True)\n"
     ]
    },
    {
     "name": "stdout",
     "output_type": "stream",
     "text": [
      "640\n"
     ]
    },
    {
     "name": "stderr",
     "output_type": "stream",
     "text": [
      "/var/folders/8v/cgqpzdls33l6jdsvj3z4fdyh0000gn/T/ipykernel_64710/506424766.py:25: FutureWarning: The frame.append method is deprecated and will be removed from pandas in a future version. Use pandas.concat instead.\n",
      "  results = results.append({'user': user_id, 'Algorithm': algo, 'KL_div': calibration_scores[0], 'JS_div': calibration_scores[1]}, ignore_index=True)\n",
      "/var/folders/8v/cgqpzdls33l6jdsvj3z4fdyh0000gn/T/ipykernel_64710/506424766.py:25: FutureWarning: The frame.append method is deprecated and will be removed from pandas in a future version. Use pandas.concat instead.\n",
      "  results = results.append({'user': user_id, 'Algorithm': algo, 'KL_div': calibration_scores[0], 'JS_div': calibration_scores[1]}, ignore_index=True)\n"
     ]
    },
    {
     "name": "stdout",
     "output_type": "stream",
     "text": [
      "641\n"
     ]
    },
    {
     "name": "stderr",
     "output_type": "stream",
     "text": [
      "/var/folders/8v/cgqpzdls33l6jdsvj3z4fdyh0000gn/T/ipykernel_64710/506424766.py:25: FutureWarning: The frame.append method is deprecated and will be removed from pandas in a future version. Use pandas.concat instead.\n",
      "  results = results.append({'user': user_id, 'Algorithm': algo, 'KL_div': calibration_scores[0], 'JS_div': calibration_scores[1]}, ignore_index=True)\n",
      "/var/folders/8v/cgqpzdls33l6jdsvj3z4fdyh0000gn/T/ipykernel_64710/506424766.py:25: FutureWarning: The frame.append method is deprecated and will be removed from pandas in a future version. Use pandas.concat instead.\n",
      "  results = results.append({'user': user_id, 'Algorithm': algo, 'KL_div': calibration_scores[0], 'JS_div': calibration_scores[1]}, ignore_index=True)\n"
     ]
    },
    {
     "name": "stdout",
     "output_type": "stream",
     "text": [
      "642\n"
     ]
    },
    {
     "name": "stderr",
     "output_type": "stream",
     "text": [
      "/var/folders/8v/cgqpzdls33l6jdsvj3z4fdyh0000gn/T/ipykernel_64710/506424766.py:25: FutureWarning: The frame.append method is deprecated and will be removed from pandas in a future version. Use pandas.concat instead.\n",
      "  results = results.append({'user': user_id, 'Algorithm': algo, 'KL_div': calibration_scores[0], 'JS_div': calibration_scores[1]}, ignore_index=True)\n",
      "/var/folders/8v/cgqpzdls33l6jdsvj3z4fdyh0000gn/T/ipykernel_64710/506424766.py:25: FutureWarning: The frame.append method is deprecated and will be removed from pandas in a future version. Use pandas.concat instead.\n",
      "  results = results.append({'user': user_id, 'Algorithm': algo, 'KL_div': calibration_scores[0], 'JS_div': calibration_scores[1]}, ignore_index=True)\n"
     ]
    },
    {
     "name": "stdout",
     "output_type": "stream",
     "text": [
      "643\n"
     ]
    },
    {
     "name": "stderr",
     "output_type": "stream",
     "text": [
      "/var/folders/8v/cgqpzdls33l6jdsvj3z4fdyh0000gn/T/ipykernel_64710/506424766.py:25: FutureWarning: The frame.append method is deprecated and will be removed from pandas in a future version. Use pandas.concat instead.\n",
      "  results = results.append({'user': user_id, 'Algorithm': algo, 'KL_div': calibration_scores[0], 'JS_div': calibration_scores[1]}, ignore_index=True)\n",
      "/var/folders/8v/cgqpzdls33l6jdsvj3z4fdyh0000gn/T/ipykernel_64710/506424766.py:25: FutureWarning: The frame.append method is deprecated and will be removed from pandas in a future version. Use pandas.concat instead.\n",
      "  results = results.append({'user': user_id, 'Algorithm': algo, 'KL_div': calibration_scores[0], 'JS_div': calibration_scores[1]}, ignore_index=True)\n"
     ]
    },
    {
     "name": "stdout",
     "output_type": "stream",
     "text": [
      "644\n"
     ]
    },
    {
     "name": "stderr",
     "output_type": "stream",
     "text": [
      "/var/folders/8v/cgqpzdls33l6jdsvj3z4fdyh0000gn/T/ipykernel_64710/506424766.py:25: FutureWarning: The frame.append method is deprecated and will be removed from pandas in a future version. Use pandas.concat instead.\n",
      "  results = results.append({'user': user_id, 'Algorithm': algo, 'KL_div': calibration_scores[0], 'JS_div': calibration_scores[1]}, ignore_index=True)\n",
      "/var/folders/8v/cgqpzdls33l6jdsvj3z4fdyh0000gn/T/ipykernel_64710/506424766.py:25: FutureWarning: The frame.append method is deprecated and will be removed from pandas in a future version. Use pandas.concat instead.\n",
      "  results = results.append({'user': user_id, 'Algorithm': algo, 'KL_div': calibration_scores[0], 'JS_div': calibration_scores[1]}, ignore_index=True)\n"
     ]
    },
    {
     "name": "stdout",
     "output_type": "stream",
     "text": [
      "645\n"
     ]
    },
    {
     "name": "stderr",
     "output_type": "stream",
     "text": [
      "/var/folders/8v/cgqpzdls33l6jdsvj3z4fdyh0000gn/T/ipykernel_64710/506424766.py:25: FutureWarning: The frame.append method is deprecated and will be removed from pandas in a future version. Use pandas.concat instead.\n",
      "  results = results.append({'user': user_id, 'Algorithm': algo, 'KL_div': calibration_scores[0], 'JS_div': calibration_scores[1]}, ignore_index=True)\n",
      "/var/folders/8v/cgqpzdls33l6jdsvj3z4fdyh0000gn/T/ipykernel_64710/506424766.py:25: FutureWarning: The frame.append method is deprecated and will be removed from pandas in a future version. Use pandas.concat instead.\n",
      "  results = results.append({'user': user_id, 'Algorithm': algo, 'KL_div': calibration_scores[0], 'JS_div': calibration_scores[1]}, ignore_index=True)\n"
     ]
    },
    {
     "name": "stdout",
     "output_type": "stream",
     "text": [
      "646\n"
     ]
    },
    {
     "name": "stderr",
     "output_type": "stream",
     "text": [
      "/var/folders/8v/cgqpzdls33l6jdsvj3z4fdyh0000gn/T/ipykernel_64710/506424766.py:25: FutureWarning: The frame.append method is deprecated and will be removed from pandas in a future version. Use pandas.concat instead.\n",
      "  results = results.append({'user': user_id, 'Algorithm': algo, 'KL_div': calibration_scores[0], 'JS_div': calibration_scores[1]}, ignore_index=True)\n",
      "/var/folders/8v/cgqpzdls33l6jdsvj3z4fdyh0000gn/T/ipykernel_64710/506424766.py:25: FutureWarning: The frame.append method is deprecated and will be removed from pandas in a future version. Use pandas.concat instead.\n",
      "  results = results.append({'user': user_id, 'Algorithm': algo, 'KL_div': calibration_scores[0], 'JS_div': calibration_scores[1]}, ignore_index=True)\n"
     ]
    },
    {
     "name": "stdout",
     "output_type": "stream",
     "text": [
      "647\n"
     ]
    },
    {
     "name": "stderr",
     "output_type": "stream",
     "text": [
      "/var/folders/8v/cgqpzdls33l6jdsvj3z4fdyh0000gn/T/ipykernel_64710/506424766.py:25: FutureWarning: The frame.append method is deprecated and will be removed from pandas in a future version. Use pandas.concat instead.\n",
      "  results = results.append({'user': user_id, 'Algorithm': algo, 'KL_div': calibration_scores[0], 'JS_div': calibration_scores[1]}, ignore_index=True)\n",
      "/var/folders/8v/cgqpzdls33l6jdsvj3z4fdyh0000gn/T/ipykernel_64710/506424766.py:25: FutureWarning: The frame.append method is deprecated and will be removed from pandas in a future version. Use pandas.concat instead.\n",
      "  results = results.append({'user': user_id, 'Algorithm': algo, 'KL_div': calibration_scores[0], 'JS_div': calibration_scores[1]}, ignore_index=True)\n"
     ]
    },
    {
     "name": "stdout",
     "output_type": "stream",
     "text": [
      "648\n"
     ]
    },
    {
     "name": "stderr",
     "output_type": "stream",
     "text": [
      "/var/folders/8v/cgqpzdls33l6jdsvj3z4fdyh0000gn/T/ipykernel_64710/506424766.py:25: FutureWarning: The frame.append method is deprecated and will be removed from pandas in a future version. Use pandas.concat instead.\n",
      "  results = results.append({'user': user_id, 'Algorithm': algo, 'KL_div': calibration_scores[0], 'JS_div': calibration_scores[1]}, ignore_index=True)\n",
      "/var/folders/8v/cgqpzdls33l6jdsvj3z4fdyh0000gn/T/ipykernel_64710/506424766.py:25: FutureWarning: The frame.append method is deprecated and will be removed from pandas in a future version. Use pandas.concat instead.\n",
      "  results = results.append({'user': user_id, 'Algorithm': algo, 'KL_div': calibration_scores[0], 'JS_div': calibration_scores[1]}, ignore_index=True)\n"
     ]
    },
    {
     "name": "stdout",
     "output_type": "stream",
     "text": [
      "649\n"
     ]
    },
    {
     "name": "stderr",
     "output_type": "stream",
     "text": [
      "/var/folders/8v/cgqpzdls33l6jdsvj3z4fdyh0000gn/T/ipykernel_64710/506424766.py:25: FutureWarning: The frame.append method is deprecated and will be removed from pandas in a future version. Use pandas.concat instead.\n",
      "  results = results.append({'user': user_id, 'Algorithm': algo, 'KL_div': calibration_scores[0], 'JS_div': calibration_scores[1]}, ignore_index=True)\n",
      "/var/folders/8v/cgqpzdls33l6jdsvj3z4fdyh0000gn/T/ipykernel_64710/506424766.py:25: FutureWarning: The frame.append method is deprecated and will be removed from pandas in a future version. Use pandas.concat instead.\n",
      "  results = results.append({'user': user_id, 'Algorithm': algo, 'KL_div': calibration_scores[0], 'JS_div': calibration_scores[1]}, ignore_index=True)\n"
     ]
    },
    {
     "name": "stdout",
     "output_type": "stream",
     "text": [
      "650\n"
     ]
    },
    {
     "name": "stderr",
     "output_type": "stream",
     "text": [
      "/var/folders/8v/cgqpzdls33l6jdsvj3z4fdyh0000gn/T/ipykernel_64710/506424766.py:25: FutureWarning: The frame.append method is deprecated and will be removed from pandas in a future version. Use pandas.concat instead.\n",
      "  results = results.append({'user': user_id, 'Algorithm': algo, 'KL_div': calibration_scores[0], 'JS_div': calibration_scores[1]}, ignore_index=True)\n",
      "/var/folders/8v/cgqpzdls33l6jdsvj3z4fdyh0000gn/T/ipykernel_64710/506424766.py:25: FutureWarning: The frame.append method is deprecated and will be removed from pandas in a future version. Use pandas.concat instead.\n",
      "  results = results.append({'user': user_id, 'Algorithm': algo, 'KL_div': calibration_scores[0], 'JS_div': calibration_scores[1]}, ignore_index=True)\n"
     ]
    },
    {
     "name": "stdout",
     "output_type": "stream",
     "text": [
      "651\n"
     ]
    },
    {
     "name": "stderr",
     "output_type": "stream",
     "text": [
      "/var/folders/8v/cgqpzdls33l6jdsvj3z4fdyh0000gn/T/ipykernel_64710/506424766.py:25: FutureWarning: The frame.append method is deprecated and will be removed from pandas in a future version. Use pandas.concat instead.\n",
      "  results = results.append({'user': user_id, 'Algorithm': algo, 'KL_div': calibration_scores[0], 'JS_div': calibration_scores[1]}, ignore_index=True)\n",
      "/var/folders/8v/cgqpzdls33l6jdsvj3z4fdyh0000gn/T/ipykernel_64710/506424766.py:25: FutureWarning: The frame.append method is deprecated and will be removed from pandas in a future version. Use pandas.concat instead.\n",
      "  results = results.append({'user': user_id, 'Algorithm': algo, 'KL_div': calibration_scores[0], 'JS_div': calibration_scores[1]}, ignore_index=True)\n"
     ]
    },
    {
     "name": "stdout",
     "output_type": "stream",
     "text": [
      "652\n"
     ]
    },
    {
     "name": "stderr",
     "output_type": "stream",
     "text": [
      "/var/folders/8v/cgqpzdls33l6jdsvj3z4fdyh0000gn/T/ipykernel_64710/506424766.py:25: FutureWarning: The frame.append method is deprecated and will be removed from pandas in a future version. Use pandas.concat instead.\n",
      "  results = results.append({'user': user_id, 'Algorithm': algo, 'KL_div': calibration_scores[0], 'JS_div': calibration_scores[1]}, ignore_index=True)\n",
      "/var/folders/8v/cgqpzdls33l6jdsvj3z4fdyh0000gn/T/ipykernel_64710/506424766.py:25: FutureWarning: The frame.append method is deprecated and will be removed from pandas in a future version. Use pandas.concat instead.\n",
      "  results = results.append({'user': user_id, 'Algorithm': algo, 'KL_div': calibration_scores[0], 'JS_div': calibration_scores[1]}, ignore_index=True)\n"
     ]
    },
    {
     "name": "stdout",
     "output_type": "stream",
     "text": [
      "653\n"
     ]
    },
    {
     "name": "stderr",
     "output_type": "stream",
     "text": [
      "/var/folders/8v/cgqpzdls33l6jdsvj3z4fdyh0000gn/T/ipykernel_64710/506424766.py:25: FutureWarning: The frame.append method is deprecated and will be removed from pandas in a future version. Use pandas.concat instead.\n",
      "  results = results.append({'user': user_id, 'Algorithm': algo, 'KL_div': calibration_scores[0], 'JS_div': calibration_scores[1]}, ignore_index=True)\n",
      "/var/folders/8v/cgqpzdls33l6jdsvj3z4fdyh0000gn/T/ipykernel_64710/506424766.py:25: FutureWarning: The frame.append method is deprecated and will be removed from pandas in a future version. Use pandas.concat instead.\n",
      "  results = results.append({'user': user_id, 'Algorithm': algo, 'KL_div': calibration_scores[0], 'JS_div': calibration_scores[1]}, ignore_index=True)\n"
     ]
    },
    {
     "name": "stdout",
     "output_type": "stream",
     "text": [
      "654\n"
     ]
    },
    {
     "name": "stderr",
     "output_type": "stream",
     "text": [
      "/var/folders/8v/cgqpzdls33l6jdsvj3z4fdyh0000gn/T/ipykernel_64710/506424766.py:25: FutureWarning: The frame.append method is deprecated and will be removed from pandas in a future version. Use pandas.concat instead.\n",
      "  results = results.append({'user': user_id, 'Algorithm': algo, 'KL_div': calibration_scores[0], 'JS_div': calibration_scores[1]}, ignore_index=True)\n",
      "/var/folders/8v/cgqpzdls33l6jdsvj3z4fdyh0000gn/T/ipykernel_64710/506424766.py:25: FutureWarning: The frame.append method is deprecated and will be removed from pandas in a future version. Use pandas.concat instead.\n",
      "  results = results.append({'user': user_id, 'Algorithm': algo, 'KL_div': calibration_scores[0], 'JS_div': calibration_scores[1]}, ignore_index=True)\n"
     ]
    },
    {
     "name": "stdout",
     "output_type": "stream",
     "text": [
      "655\n"
     ]
    },
    {
     "name": "stderr",
     "output_type": "stream",
     "text": [
      "/var/folders/8v/cgqpzdls33l6jdsvj3z4fdyh0000gn/T/ipykernel_64710/506424766.py:25: FutureWarning: The frame.append method is deprecated and will be removed from pandas in a future version. Use pandas.concat instead.\n",
      "  results = results.append({'user': user_id, 'Algorithm': algo, 'KL_div': calibration_scores[0], 'JS_div': calibration_scores[1]}, ignore_index=True)\n",
      "/var/folders/8v/cgqpzdls33l6jdsvj3z4fdyh0000gn/T/ipykernel_64710/506424766.py:25: FutureWarning: The frame.append method is deprecated and will be removed from pandas in a future version. Use pandas.concat instead.\n",
      "  results = results.append({'user': user_id, 'Algorithm': algo, 'KL_div': calibration_scores[0], 'JS_div': calibration_scores[1]}, ignore_index=True)\n"
     ]
    },
    {
     "name": "stdout",
     "output_type": "stream",
     "text": [
      "656\n"
     ]
    },
    {
     "name": "stderr",
     "output_type": "stream",
     "text": [
      "/var/folders/8v/cgqpzdls33l6jdsvj3z4fdyh0000gn/T/ipykernel_64710/506424766.py:25: FutureWarning: The frame.append method is deprecated and will be removed from pandas in a future version. Use pandas.concat instead.\n",
      "  results = results.append({'user': user_id, 'Algorithm': algo, 'KL_div': calibration_scores[0], 'JS_div': calibration_scores[1]}, ignore_index=True)\n",
      "/var/folders/8v/cgqpzdls33l6jdsvj3z4fdyh0000gn/T/ipykernel_64710/506424766.py:25: FutureWarning: The frame.append method is deprecated and will be removed from pandas in a future version. Use pandas.concat instead.\n",
      "  results = results.append({'user': user_id, 'Algorithm': algo, 'KL_div': calibration_scores[0], 'JS_div': calibration_scores[1]}, ignore_index=True)\n"
     ]
    },
    {
     "name": "stdout",
     "output_type": "stream",
     "text": [
      "657\n"
     ]
    },
    {
     "name": "stderr",
     "output_type": "stream",
     "text": [
      "/var/folders/8v/cgqpzdls33l6jdsvj3z4fdyh0000gn/T/ipykernel_64710/506424766.py:25: FutureWarning: The frame.append method is deprecated and will be removed from pandas in a future version. Use pandas.concat instead.\n",
      "  results = results.append({'user': user_id, 'Algorithm': algo, 'KL_div': calibration_scores[0], 'JS_div': calibration_scores[1]}, ignore_index=True)\n",
      "/var/folders/8v/cgqpzdls33l6jdsvj3z4fdyh0000gn/T/ipykernel_64710/506424766.py:25: FutureWarning: The frame.append method is deprecated and will be removed from pandas in a future version. Use pandas.concat instead.\n",
      "  results = results.append({'user': user_id, 'Algorithm': algo, 'KL_div': calibration_scores[0], 'JS_div': calibration_scores[1]}, ignore_index=True)\n"
     ]
    },
    {
     "name": "stdout",
     "output_type": "stream",
     "text": [
      "658\n"
     ]
    },
    {
     "name": "stderr",
     "output_type": "stream",
     "text": [
      "/var/folders/8v/cgqpzdls33l6jdsvj3z4fdyh0000gn/T/ipykernel_64710/506424766.py:25: FutureWarning: The frame.append method is deprecated and will be removed from pandas in a future version. Use pandas.concat instead.\n",
      "  results = results.append({'user': user_id, 'Algorithm': algo, 'KL_div': calibration_scores[0], 'JS_div': calibration_scores[1]}, ignore_index=True)\n",
      "/var/folders/8v/cgqpzdls33l6jdsvj3z4fdyh0000gn/T/ipykernel_64710/506424766.py:25: FutureWarning: The frame.append method is deprecated and will be removed from pandas in a future version. Use pandas.concat instead.\n",
      "  results = results.append({'user': user_id, 'Algorithm': algo, 'KL_div': calibration_scores[0], 'JS_div': calibration_scores[1]}, ignore_index=True)\n"
     ]
    },
    {
     "name": "stdout",
     "output_type": "stream",
     "text": [
      "659\n"
     ]
    },
    {
     "name": "stderr",
     "output_type": "stream",
     "text": [
      "/var/folders/8v/cgqpzdls33l6jdsvj3z4fdyh0000gn/T/ipykernel_64710/506424766.py:25: FutureWarning: The frame.append method is deprecated and will be removed from pandas in a future version. Use pandas.concat instead.\n",
      "  results = results.append({'user': user_id, 'Algorithm': algo, 'KL_div': calibration_scores[0], 'JS_div': calibration_scores[1]}, ignore_index=True)\n",
      "/var/folders/8v/cgqpzdls33l6jdsvj3z4fdyh0000gn/T/ipykernel_64710/506424766.py:25: FutureWarning: The frame.append method is deprecated and will be removed from pandas in a future version. Use pandas.concat instead.\n",
      "  results = results.append({'user': user_id, 'Algorithm': algo, 'KL_div': calibration_scores[0], 'JS_div': calibration_scores[1]}, ignore_index=True)\n"
     ]
    },
    {
     "name": "stdout",
     "output_type": "stream",
     "text": [
      "660\n"
     ]
    },
    {
     "name": "stderr",
     "output_type": "stream",
     "text": [
      "/var/folders/8v/cgqpzdls33l6jdsvj3z4fdyh0000gn/T/ipykernel_64710/506424766.py:25: FutureWarning: The frame.append method is deprecated and will be removed from pandas in a future version. Use pandas.concat instead.\n",
      "  results = results.append({'user': user_id, 'Algorithm': algo, 'KL_div': calibration_scores[0], 'JS_div': calibration_scores[1]}, ignore_index=True)\n",
      "/var/folders/8v/cgqpzdls33l6jdsvj3z4fdyh0000gn/T/ipykernel_64710/506424766.py:25: FutureWarning: The frame.append method is deprecated and will be removed from pandas in a future version. Use pandas.concat instead.\n",
      "  results = results.append({'user': user_id, 'Algorithm': algo, 'KL_div': calibration_scores[0], 'JS_div': calibration_scores[1]}, ignore_index=True)\n"
     ]
    },
    {
     "name": "stdout",
     "output_type": "stream",
     "text": [
      "661\n"
     ]
    },
    {
     "name": "stderr",
     "output_type": "stream",
     "text": [
      "/var/folders/8v/cgqpzdls33l6jdsvj3z4fdyh0000gn/T/ipykernel_64710/506424766.py:25: FutureWarning: The frame.append method is deprecated and will be removed from pandas in a future version. Use pandas.concat instead.\n",
      "  results = results.append({'user': user_id, 'Algorithm': algo, 'KL_div': calibration_scores[0], 'JS_div': calibration_scores[1]}, ignore_index=True)\n",
      "/var/folders/8v/cgqpzdls33l6jdsvj3z4fdyh0000gn/T/ipykernel_64710/506424766.py:25: FutureWarning: The frame.append method is deprecated and will be removed from pandas in a future version. Use pandas.concat instead.\n",
      "  results = results.append({'user': user_id, 'Algorithm': algo, 'KL_div': calibration_scores[0], 'JS_div': calibration_scores[1]}, ignore_index=True)\n"
     ]
    },
    {
     "name": "stdout",
     "output_type": "stream",
     "text": [
      "662\n"
     ]
    },
    {
     "name": "stderr",
     "output_type": "stream",
     "text": [
      "/var/folders/8v/cgqpzdls33l6jdsvj3z4fdyh0000gn/T/ipykernel_64710/506424766.py:25: FutureWarning: The frame.append method is deprecated and will be removed from pandas in a future version. Use pandas.concat instead.\n",
      "  results = results.append({'user': user_id, 'Algorithm': algo, 'KL_div': calibration_scores[0], 'JS_div': calibration_scores[1]}, ignore_index=True)\n",
      "/var/folders/8v/cgqpzdls33l6jdsvj3z4fdyh0000gn/T/ipykernel_64710/506424766.py:25: FutureWarning: The frame.append method is deprecated and will be removed from pandas in a future version. Use pandas.concat instead.\n",
      "  results = results.append({'user': user_id, 'Algorithm': algo, 'KL_div': calibration_scores[0], 'JS_div': calibration_scores[1]}, ignore_index=True)\n"
     ]
    },
    {
     "name": "stdout",
     "output_type": "stream",
     "text": [
      "663\n"
     ]
    },
    {
     "name": "stderr",
     "output_type": "stream",
     "text": [
      "/var/folders/8v/cgqpzdls33l6jdsvj3z4fdyh0000gn/T/ipykernel_64710/506424766.py:25: FutureWarning: The frame.append method is deprecated and will be removed from pandas in a future version. Use pandas.concat instead.\n",
      "  results = results.append({'user': user_id, 'Algorithm': algo, 'KL_div': calibration_scores[0], 'JS_div': calibration_scores[1]}, ignore_index=True)\n",
      "/var/folders/8v/cgqpzdls33l6jdsvj3z4fdyh0000gn/T/ipykernel_64710/506424766.py:25: FutureWarning: The frame.append method is deprecated and will be removed from pandas in a future version. Use pandas.concat instead.\n",
      "  results = results.append({'user': user_id, 'Algorithm': algo, 'KL_div': calibration_scores[0], 'JS_div': calibration_scores[1]}, ignore_index=True)\n"
     ]
    },
    {
     "name": "stdout",
     "output_type": "stream",
     "text": [
      "664\n"
     ]
    },
    {
     "name": "stderr",
     "output_type": "stream",
     "text": [
      "/var/folders/8v/cgqpzdls33l6jdsvj3z4fdyh0000gn/T/ipykernel_64710/506424766.py:25: FutureWarning: The frame.append method is deprecated and will be removed from pandas in a future version. Use pandas.concat instead.\n",
      "  results = results.append({'user': user_id, 'Algorithm': algo, 'KL_div': calibration_scores[0], 'JS_div': calibration_scores[1]}, ignore_index=True)\n",
      "/var/folders/8v/cgqpzdls33l6jdsvj3z4fdyh0000gn/T/ipykernel_64710/506424766.py:25: FutureWarning: The frame.append method is deprecated and will be removed from pandas in a future version. Use pandas.concat instead.\n",
      "  results = results.append({'user': user_id, 'Algorithm': algo, 'KL_div': calibration_scores[0], 'JS_div': calibration_scores[1]}, ignore_index=True)\n"
     ]
    },
    {
     "name": "stdout",
     "output_type": "stream",
     "text": [
      "665\n"
     ]
    },
    {
     "name": "stderr",
     "output_type": "stream",
     "text": [
      "/var/folders/8v/cgqpzdls33l6jdsvj3z4fdyh0000gn/T/ipykernel_64710/506424766.py:25: FutureWarning: The frame.append method is deprecated and will be removed from pandas in a future version. Use pandas.concat instead.\n",
      "  results = results.append({'user': user_id, 'Algorithm': algo, 'KL_div': calibration_scores[0], 'JS_div': calibration_scores[1]}, ignore_index=True)\n",
      "/var/folders/8v/cgqpzdls33l6jdsvj3z4fdyh0000gn/T/ipykernel_64710/506424766.py:25: FutureWarning: The frame.append method is deprecated and will be removed from pandas in a future version. Use pandas.concat instead.\n",
      "  results = results.append({'user': user_id, 'Algorithm': algo, 'KL_div': calibration_scores[0], 'JS_div': calibration_scores[1]}, ignore_index=True)\n"
     ]
    },
    {
     "name": "stdout",
     "output_type": "stream",
     "text": [
      "666\n"
     ]
    },
    {
     "name": "stderr",
     "output_type": "stream",
     "text": [
      "/var/folders/8v/cgqpzdls33l6jdsvj3z4fdyh0000gn/T/ipykernel_64710/506424766.py:25: FutureWarning: The frame.append method is deprecated and will be removed from pandas in a future version. Use pandas.concat instead.\n",
      "  results = results.append({'user': user_id, 'Algorithm': algo, 'KL_div': calibration_scores[0], 'JS_div': calibration_scores[1]}, ignore_index=True)\n",
      "/var/folders/8v/cgqpzdls33l6jdsvj3z4fdyh0000gn/T/ipykernel_64710/506424766.py:25: FutureWarning: The frame.append method is deprecated and will be removed from pandas in a future version. Use pandas.concat instead.\n",
      "  results = results.append({'user': user_id, 'Algorithm': algo, 'KL_div': calibration_scores[0], 'JS_div': calibration_scores[1]}, ignore_index=True)\n"
     ]
    },
    {
     "name": "stdout",
     "output_type": "stream",
     "text": [
      "667\n"
     ]
    },
    {
     "name": "stderr",
     "output_type": "stream",
     "text": [
      "/var/folders/8v/cgqpzdls33l6jdsvj3z4fdyh0000gn/T/ipykernel_64710/506424766.py:25: FutureWarning: The frame.append method is deprecated and will be removed from pandas in a future version. Use pandas.concat instead.\n",
      "  results = results.append({'user': user_id, 'Algorithm': algo, 'KL_div': calibration_scores[0], 'JS_div': calibration_scores[1]}, ignore_index=True)\n",
      "/var/folders/8v/cgqpzdls33l6jdsvj3z4fdyh0000gn/T/ipykernel_64710/506424766.py:25: FutureWarning: The frame.append method is deprecated and will be removed from pandas in a future version. Use pandas.concat instead.\n",
      "  results = results.append({'user': user_id, 'Algorithm': algo, 'KL_div': calibration_scores[0], 'JS_div': calibration_scores[1]}, ignore_index=True)\n"
     ]
    },
    {
     "name": "stdout",
     "output_type": "stream",
     "text": [
      "668\n"
     ]
    },
    {
     "name": "stderr",
     "output_type": "stream",
     "text": [
      "/var/folders/8v/cgqpzdls33l6jdsvj3z4fdyh0000gn/T/ipykernel_64710/506424766.py:25: FutureWarning: The frame.append method is deprecated and will be removed from pandas in a future version. Use pandas.concat instead.\n",
      "  results = results.append({'user': user_id, 'Algorithm': algo, 'KL_div': calibration_scores[0], 'JS_div': calibration_scores[1]}, ignore_index=True)\n",
      "/var/folders/8v/cgqpzdls33l6jdsvj3z4fdyh0000gn/T/ipykernel_64710/506424766.py:25: FutureWarning: The frame.append method is deprecated and will be removed from pandas in a future version. Use pandas.concat instead.\n",
      "  results = results.append({'user': user_id, 'Algorithm': algo, 'KL_div': calibration_scores[0], 'JS_div': calibration_scores[1]}, ignore_index=True)\n"
     ]
    },
    {
     "name": "stdout",
     "output_type": "stream",
     "text": [
      "669\n"
     ]
    },
    {
     "name": "stderr",
     "output_type": "stream",
     "text": [
      "/var/folders/8v/cgqpzdls33l6jdsvj3z4fdyh0000gn/T/ipykernel_64710/506424766.py:25: FutureWarning: The frame.append method is deprecated and will be removed from pandas in a future version. Use pandas.concat instead.\n",
      "  results = results.append({'user': user_id, 'Algorithm': algo, 'KL_div': calibration_scores[0], 'JS_div': calibration_scores[1]}, ignore_index=True)\n",
      "/var/folders/8v/cgqpzdls33l6jdsvj3z4fdyh0000gn/T/ipykernel_64710/506424766.py:25: FutureWarning: The frame.append method is deprecated and will be removed from pandas in a future version. Use pandas.concat instead.\n",
      "  results = results.append({'user': user_id, 'Algorithm': algo, 'KL_div': calibration_scores[0], 'JS_div': calibration_scores[1]}, ignore_index=True)\n"
     ]
    },
    {
     "name": "stdout",
     "output_type": "stream",
     "text": [
      "670\n"
     ]
    },
    {
     "name": "stderr",
     "output_type": "stream",
     "text": [
      "/var/folders/8v/cgqpzdls33l6jdsvj3z4fdyh0000gn/T/ipykernel_64710/506424766.py:25: FutureWarning: The frame.append method is deprecated and will be removed from pandas in a future version. Use pandas.concat instead.\n",
      "  results = results.append({'user': user_id, 'Algorithm': algo, 'KL_div': calibration_scores[0], 'JS_div': calibration_scores[1]}, ignore_index=True)\n",
      "/var/folders/8v/cgqpzdls33l6jdsvj3z4fdyh0000gn/T/ipykernel_64710/506424766.py:25: FutureWarning: The frame.append method is deprecated and will be removed from pandas in a future version. Use pandas.concat instead.\n",
      "  results = results.append({'user': user_id, 'Algorithm': algo, 'KL_div': calibration_scores[0], 'JS_div': calibration_scores[1]}, ignore_index=True)\n"
     ]
    },
    {
     "name": "stdout",
     "output_type": "stream",
     "text": [
      "671\n"
     ]
    },
    {
     "name": "stderr",
     "output_type": "stream",
     "text": [
      "/var/folders/8v/cgqpzdls33l6jdsvj3z4fdyh0000gn/T/ipykernel_64710/506424766.py:25: FutureWarning: The frame.append method is deprecated and will be removed from pandas in a future version. Use pandas.concat instead.\n",
      "  results = results.append({'user': user_id, 'Algorithm': algo, 'KL_div': calibration_scores[0], 'JS_div': calibration_scores[1]}, ignore_index=True)\n",
      "/var/folders/8v/cgqpzdls33l6jdsvj3z4fdyh0000gn/T/ipykernel_64710/506424766.py:25: FutureWarning: The frame.append method is deprecated and will be removed from pandas in a future version. Use pandas.concat instead.\n",
      "  results = results.append({'user': user_id, 'Algorithm': algo, 'KL_div': calibration_scores[0], 'JS_div': calibration_scores[1]}, ignore_index=True)\n"
     ]
    },
    {
     "name": "stdout",
     "output_type": "stream",
     "text": [
      "672\n"
     ]
    },
    {
     "name": "stderr",
     "output_type": "stream",
     "text": [
      "/var/folders/8v/cgqpzdls33l6jdsvj3z4fdyh0000gn/T/ipykernel_64710/506424766.py:25: FutureWarning: The frame.append method is deprecated and will be removed from pandas in a future version. Use pandas.concat instead.\n",
      "  results = results.append({'user': user_id, 'Algorithm': algo, 'KL_div': calibration_scores[0], 'JS_div': calibration_scores[1]}, ignore_index=True)\n",
      "/var/folders/8v/cgqpzdls33l6jdsvj3z4fdyh0000gn/T/ipykernel_64710/506424766.py:25: FutureWarning: The frame.append method is deprecated and will be removed from pandas in a future version. Use pandas.concat instead.\n",
      "  results = results.append({'user': user_id, 'Algorithm': algo, 'KL_div': calibration_scores[0], 'JS_div': calibration_scores[1]}, ignore_index=True)\n"
     ]
    },
    {
     "name": "stdout",
     "output_type": "stream",
     "text": [
      "673\n"
     ]
    },
    {
     "name": "stderr",
     "output_type": "stream",
     "text": [
      "/var/folders/8v/cgqpzdls33l6jdsvj3z4fdyh0000gn/T/ipykernel_64710/506424766.py:25: FutureWarning: The frame.append method is deprecated and will be removed from pandas in a future version. Use pandas.concat instead.\n",
      "  results = results.append({'user': user_id, 'Algorithm': algo, 'KL_div': calibration_scores[0], 'JS_div': calibration_scores[1]}, ignore_index=True)\n",
      "/var/folders/8v/cgqpzdls33l6jdsvj3z4fdyh0000gn/T/ipykernel_64710/506424766.py:25: FutureWarning: The frame.append method is deprecated and will be removed from pandas in a future version. Use pandas.concat instead.\n",
      "  results = results.append({'user': user_id, 'Algorithm': algo, 'KL_div': calibration_scores[0], 'JS_div': calibration_scores[1]}, ignore_index=True)\n"
     ]
    },
    {
     "name": "stdout",
     "output_type": "stream",
     "text": [
      "674\n"
     ]
    },
    {
     "name": "stderr",
     "output_type": "stream",
     "text": [
      "/var/folders/8v/cgqpzdls33l6jdsvj3z4fdyh0000gn/T/ipykernel_64710/506424766.py:25: FutureWarning: The frame.append method is deprecated and will be removed from pandas in a future version. Use pandas.concat instead.\n",
      "  results = results.append({'user': user_id, 'Algorithm': algo, 'KL_div': calibration_scores[0], 'JS_div': calibration_scores[1]}, ignore_index=True)\n",
      "/var/folders/8v/cgqpzdls33l6jdsvj3z4fdyh0000gn/T/ipykernel_64710/506424766.py:25: FutureWarning: The frame.append method is deprecated and will be removed from pandas in a future version. Use pandas.concat instead.\n",
      "  results = results.append({'user': user_id, 'Algorithm': algo, 'KL_div': calibration_scores[0], 'JS_div': calibration_scores[1]}, ignore_index=True)\n"
     ]
    },
    {
     "name": "stdout",
     "output_type": "stream",
     "text": [
      "675\n"
     ]
    },
    {
     "name": "stderr",
     "output_type": "stream",
     "text": [
      "/var/folders/8v/cgqpzdls33l6jdsvj3z4fdyh0000gn/T/ipykernel_64710/506424766.py:25: FutureWarning: The frame.append method is deprecated and will be removed from pandas in a future version. Use pandas.concat instead.\n",
      "  results = results.append({'user': user_id, 'Algorithm': algo, 'KL_div': calibration_scores[0], 'JS_div': calibration_scores[1]}, ignore_index=True)\n",
      "/var/folders/8v/cgqpzdls33l6jdsvj3z4fdyh0000gn/T/ipykernel_64710/506424766.py:25: FutureWarning: The frame.append method is deprecated and will be removed from pandas in a future version. Use pandas.concat instead.\n",
      "  results = results.append({'user': user_id, 'Algorithm': algo, 'KL_div': calibration_scores[0], 'JS_div': calibration_scores[1]}, ignore_index=True)\n"
     ]
    },
    {
     "name": "stdout",
     "output_type": "stream",
     "text": [
      "676\n"
     ]
    },
    {
     "name": "stderr",
     "output_type": "stream",
     "text": [
      "/var/folders/8v/cgqpzdls33l6jdsvj3z4fdyh0000gn/T/ipykernel_64710/506424766.py:25: FutureWarning: The frame.append method is deprecated and will be removed from pandas in a future version. Use pandas.concat instead.\n",
      "  results = results.append({'user': user_id, 'Algorithm': algo, 'KL_div': calibration_scores[0], 'JS_div': calibration_scores[1]}, ignore_index=True)\n",
      "/var/folders/8v/cgqpzdls33l6jdsvj3z4fdyh0000gn/T/ipykernel_64710/506424766.py:25: FutureWarning: The frame.append method is deprecated and will be removed from pandas in a future version. Use pandas.concat instead.\n",
      "  results = results.append({'user': user_id, 'Algorithm': algo, 'KL_div': calibration_scores[0], 'JS_div': calibration_scores[1]}, ignore_index=True)\n"
     ]
    },
    {
     "name": "stdout",
     "output_type": "stream",
     "text": [
      "677\n"
     ]
    },
    {
     "name": "stderr",
     "output_type": "stream",
     "text": [
      "/var/folders/8v/cgqpzdls33l6jdsvj3z4fdyh0000gn/T/ipykernel_64710/506424766.py:25: FutureWarning: The frame.append method is deprecated and will be removed from pandas in a future version. Use pandas.concat instead.\n",
      "  results = results.append({'user': user_id, 'Algorithm': algo, 'KL_div': calibration_scores[0], 'JS_div': calibration_scores[1]}, ignore_index=True)\n",
      "/var/folders/8v/cgqpzdls33l6jdsvj3z4fdyh0000gn/T/ipykernel_64710/506424766.py:25: FutureWarning: The frame.append method is deprecated and will be removed from pandas in a future version. Use pandas.concat instead.\n",
      "  results = results.append({'user': user_id, 'Algorithm': algo, 'KL_div': calibration_scores[0], 'JS_div': calibration_scores[1]}, ignore_index=True)\n"
     ]
    },
    {
     "name": "stdout",
     "output_type": "stream",
     "text": [
      "678\n"
     ]
    },
    {
     "name": "stderr",
     "output_type": "stream",
     "text": [
      "/var/folders/8v/cgqpzdls33l6jdsvj3z4fdyh0000gn/T/ipykernel_64710/506424766.py:25: FutureWarning: The frame.append method is deprecated and will be removed from pandas in a future version. Use pandas.concat instead.\n",
      "  results = results.append({'user': user_id, 'Algorithm': algo, 'KL_div': calibration_scores[0], 'JS_div': calibration_scores[1]}, ignore_index=True)\n",
      "/var/folders/8v/cgqpzdls33l6jdsvj3z4fdyh0000gn/T/ipykernel_64710/506424766.py:25: FutureWarning: The frame.append method is deprecated and will be removed from pandas in a future version. Use pandas.concat instead.\n",
      "  results = results.append({'user': user_id, 'Algorithm': algo, 'KL_div': calibration_scores[0], 'JS_div': calibration_scores[1]}, ignore_index=True)\n"
     ]
    },
    {
     "name": "stdout",
     "output_type": "stream",
     "text": [
      "679\n"
     ]
    },
    {
     "name": "stderr",
     "output_type": "stream",
     "text": [
      "/var/folders/8v/cgqpzdls33l6jdsvj3z4fdyh0000gn/T/ipykernel_64710/506424766.py:25: FutureWarning: The frame.append method is deprecated and will be removed from pandas in a future version. Use pandas.concat instead.\n",
      "  results = results.append({'user': user_id, 'Algorithm': algo, 'KL_div': calibration_scores[0], 'JS_div': calibration_scores[1]}, ignore_index=True)\n",
      "/var/folders/8v/cgqpzdls33l6jdsvj3z4fdyh0000gn/T/ipykernel_64710/506424766.py:25: FutureWarning: The frame.append method is deprecated and will be removed from pandas in a future version. Use pandas.concat instead.\n",
      "  results = results.append({'user': user_id, 'Algorithm': algo, 'KL_div': calibration_scores[0], 'JS_div': calibration_scores[1]}, ignore_index=True)\n"
     ]
    },
    {
     "name": "stdout",
     "output_type": "stream",
     "text": [
      "680\n"
     ]
    },
    {
     "name": "stderr",
     "output_type": "stream",
     "text": [
      "/var/folders/8v/cgqpzdls33l6jdsvj3z4fdyh0000gn/T/ipykernel_64710/506424766.py:25: FutureWarning: The frame.append method is deprecated and will be removed from pandas in a future version. Use pandas.concat instead.\n",
      "  results = results.append({'user': user_id, 'Algorithm': algo, 'KL_div': calibration_scores[0], 'JS_div': calibration_scores[1]}, ignore_index=True)\n",
      "/var/folders/8v/cgqpzdls33l6jdsvj3z4fdyh0000gn/T/ipykernel_64710/506424766.py:25: FutureWarning: The frame.append method is deprecated and will be removed from pandas in a future version. Use pandas.concat instead.\n",
      "  results = results.append({'user': user_id, 'Algorithm': algo, 'KL_div': calibration_scores[0], 'JS_div': calibration_scores[1]}, ignore_index=True)\n"
     ]
    },
    {
     "name": "stdout",
     "output_type": "stream",
     "text": [
      "681\n"
     ]
    },
    {
     "name": "stderr",
     "output_type": "stream",
     "text": [
      "/var/folders/8v/cgqpzdls33l6jdsvj3z4fdyh0000gn/T/ipykernel_64710/506424766.py:25: FutureWarning: The frame.append method is deprecated and will be removed from pandas in a future version. Use pandas.concat instead.\n",
      "  results = results.append({'user': user_id, 'Algorithm': algo, 'KL_div': calibration_scores[0], 'JS_div': calibration_scores[1]}, ignore_index=True)\n",
      "/var/folders/8v/cgqpzdls33l6jdsvj3z4fdyh0000gn/T/ipykernel_64710/506424766.py:25: FutureWarning: The frame.append method is deprecated and will be removed from pandas in a future version. Use pandas.concat instead.\n",
      "  results = results.append({'user': user_id, 'Algorithm': algo, 'KL_div': calibration_scores[0], 'JS_div': calibration_scores[1]}, ignore_index=True)\n"
     ]
    },
    {
     "name": "stdout",
     "output_type": "stream",
     "text": [
      "682\n"
     ]
    },
    {
     "name": "stderr",
     "output_type": "stream",
     "text": [
      "/var/folders/8v/cgqpzdls33l6jdsvj3z4fdyh0000gn/T/ipykernel_64710/506424766.py:25: FutureWarning: The frame.append method is deprecated and will be removed from pandas in a future version. Use pandas.concat instead.\n",
      "  results = results.append({'user': user_id, 'Algorithm': algo, 'KL_div': calibration_scores[0], 'JS_div': calibration_scores[1]}, ignore_index=True)\n",
      "/var/folders/8v/cgqpzdls33l6jdsvj3z4fdyh0000gn/T/ipykernel_64710/506424766.py:25: FutureWarning: The frame.append method is deprecated and will be removed from pandas in a future version. Use pandas.concat instead.\n",
      "  results = results.append({'user': user_id, 'Algorithm': algo, 'KL_div': calibration_scores[0], 'JS_div': calibration_scores[1]}, ignore_index=True)\n"
     ]
    },
    {
     "name": "stdout",
     "output_type": "stream",
     "text": [
      "683\n"
     ]
    },
    {
     "name": "stderr",
     "output_type": "stream",
     "text": [
      "/var/folders/8v/cgqpzdls33l6jdsvj3z4fdyh0000gn/T/ipykernel_64710/506424766.py:25: FutureWarning: The frame.append method is deprecated and will be removed from pandas in a future version. Use pandas.concat instead.\n",
      "  results = results.append({'user': user_id, 'Algorithm': algo, 'KL_div': calibration_scores[0], 'JS_div': calibration_scores[1]}, ignore_index=True)\n",
      "/var/folders/8v/cgqpzdls33l6jdsvj3z4fdyh0000gn/T/ipykernel_64710/506424766.py:25: FutureWarning: The frame.append method is deprecated and will be removed from pandas in a future version. Use pandas.concat instead.\n",
      "  results = results.append({'user': user_id, 'Algorithm': algo, 'KL_div': calibration_scores[0], 'JS_div': calibration_scores[1]}, ignore_index=True)\n"
     ]
    },
    {
     "name": "stdout",
     "output_type": "stream",
     "text": [
      "684\n"
     ]
    },
    {
     "name": "stderr",
     "output_type": "stream",
     "text": [
      "/var/folders/8v/cgqpzdls33l6jdsvj3z4fdyh0000gn/T/ipykernel_64710/506424766.py:25: FutureWarning: The frame.append method is deprecated and will be removed from pandas in a future version. Use pandas.concat instead.\n",
      "  results = results.append({'user': user_id, 'Algorithm': algo, 'KL_div': calibration_scores[0], 'JS_div': calibration_scores[1]}, ignore_index=True)\n",
      "/var/folders/8v/cgqpzdls33l6jdsvj3z4fdyh0000gn/T/ipykernel_64710/506424766.py:25: FutureWarning: The frame.append method is deprecated and will be removed from pandas in a future version. Use pandas.concat instead.\n",
      "  results = results.append({'user': user_id, 'Algorithm': algo, 'KL_div': calibration_scores[0], 'JS_div': calibration_scores[1]}, ignore_index=True)\n"
     ]
    },
    {
     "name": "stdout",
     "output_type": "stream",
     "text": [
      "685\n"
     ]
    },
    {
     "name": "stderr",
     "output_type": "stream",
     "text": [
      "/var/folders/8v/cgqpzdls33l6jdsvj3z4fdyh0000gn/T/ipykernel_64710/506424766.py:25: FutureWarning: The frame.append method is deprecated and will be removed from pandas in a future version. Use pandas.concat instead.\n",
      "  results = results.append({'user': user_id, 'Algorithm': algo, 'KL_div': calibration_scores[0], 'JS_div': calibration_scores[1]}, ignore_index=True)\n",
      "/var/folders/8v/cgqpzdls33l6jdsvj3z4fdyh0000gn/T/ipykernel_64710/506424766.py:25: FutureWarning: The frame.append method is deprecated and will be removed from pandas in a future version. Use pandas.concat instead.\n",
      "  results = results.append({'user': user_id, 'Algorithm': algo, 'KL_div': calibration_scores[0], 'JS_div': calibration_scores[1]}, ignore_index=True)\n"
     ]
    },
    {
     "name": "stdout",
     "output_type": "stream",
     "text": [
      "686\n"
     ]
    },
    {
     "name": "stderr",
     "output_type": "stream",
     "text": [
      "/var/folders/8v/cgqpzdls33l6jdsvj3z4fdyh0000gn/T/ipykernel_64710/506424766.py:25: FutureWarning: The frame.append method is deprecated and will be removed from pandas in a future version. Use pandas.concat instead.\n",
      "  results = results.append({'user': user_id, 'Algorithm': algo, 'KL_div': calibration_scores[0], 'JS_div': calibration_scores[1]}, ignore_index=True)\n",
      "/var/folders/8v/cgqpzdls33l6jdsvj3z4fdyh0000gn/T/ipykernel_64710/506424766.py:25: FutureWarning: The frame.append method is deprecated and will be removed from pandas in a future version. Use pandas.concat instead.\n",
      "  results = results.append({'user': user_id, 'Algorithm': algo, 'KL_div': calibration_scores[0], 'JS_div': calibration_scores[1]}, ignore_index=True)\n"
     ]
    },
    {
     "name": "stdout",
     "output_type": "stream",
     "text": [
      "687\n"
     ]
    },
    {
     "name": "stderr",
     "output_type": "stream",
     "text": [
      "/var/folders/8v/cgqpzdls33l6jdsvj3z4fdyh0000gn/T/ipykernel_64710/506424766.py:25: FutureWarning: The frame.append method is deprecated and will be removed from pandas in a future version. Use pandas.concat instead.\n",
      "  results = results.append({'user': user_id, 'Algorithm': algo, 'KL_div': calibration_scores[0], 'JS_div': calibration_scores[1]}, ignore_index=True)\n",
      "/var/folders/8v/cgqpzdls33l6jdsvj3z4fdyh0000gn/T/ipykernel_64710/506424766.py:25: FutureWarning: The frame.append method is deprecated and will be removed from pandas in a future version. Use pandas.concat instead.\n",
      "  results = results.append({'user': user_id, 'Algorithm': algo, 'KL_div': calibration_scores[0], 'JS_div': calibration_scores[1]}, ignore_index=True)\n"
     ]
    },
    {
     "name": "stdout",
     "output_type": "stream",
     "text": [
      "688\n"
     ]
    },
    {
     "name": "stderr",
     "output_type": "stream",
     "text": [
      "/var/folders/8v/cgqpzdls33l6jdsvj3z4fdyh0000gn/T/ipykernel_64710/506424766.py:25: FutureWarning: The frame.append method is deprecated and will be removed from pandas in a future version. Use pandas.concat instead.\n",
      "  results = results.append({'user': user_id, 'Algorithm': algo, 'KL_div': calibration_scores[0], 'JS_div': calibration_scores[1]}, ignore_index=True)\n",
      "/var/folders/8v/cgqpzdls33l6jdsvj3z4fdyh0000gn/T/ipykernel_64710/506424766.py:25: FutureWarning: The frame.append method is deprecated and will be removed from pandas in a future version. Use pandas.concat instead.\n",
      "  results = results.append({'user': user_id, 'Algorithm': algo, 'KL_div': calibration_scores[0], 'JS_div': calibration_scores[1]}, ignore_index=True)\n"
     ]
    },
    {
     "name": "stdout",
     "output_type": "stream",
     "text": [
      "689\n"
     ]
    },
    {
     "name": "stderr",
     "output_type": "stream",
     "text": [
      "/var/folders/8v/cgqpzdls33l6jdsvj3z4fdyh0000gn/T/ipykernel_64710/506424766.py:25: FutureWarning: The frame.append method is deprecated and will be removed from pandas in a future version. Use pandas.concat instead.\n",
      "  results = results.append({'user': user_id, 'Algorithm': algo, 'KL_div': calibration_scores[0], 'JS_div': calibration_scores[1]}, ignore_index=True)\n",
      "/var/folders/8v/cgqpzdls33l6jdsvj3z4fdyh0000gn/T/ipykernel_64710/506424766.py:25: FutureWarning: The frame.append method is deprecated and will be removed from pandas in a future version. Use pandas.concat instead.\n",
      "  results = results.append({'user': user_id, 'Algorithm': algo, 'KL_div': calibration_scores[0], 'JS_div': calibration_scores[1]}, ignore_index=True)\n"
     ]
    },
    {
     "name": "stdout",
     "output_type": "stream",
     "text": [
      "690\n"
     ]
    },
    {
     "name": "stderr",
     "output_type": "stream",
     "text": [
      "/var/folders/8v/cgqpzdls33l6jdsvj3z4fdyh0000gn/T/ipykernel_64710/506424766.py:25: FutureWarning: The frame.append method is deprecated and will be removed from pandas in a future version. Use pandas.concat instead.\n",
      "  results = results.append({'user': user_id, 'Algorithm': algo, 'KL_div': calibration_scores[0], 'JS_div': calibration_scores[1]}, ignore_index=True)\n",
      "/var/folders/8v/cgqpzdls33l6jdsvj3z4fdyh0000gn/T/ipykernel_64710/506424766.py:25: FutureWarning: The frame.append method is deprecated and will be removed from pandas in a future version. Use pandas.concat instead.\n",
      "  results = results.append({'user': user_id, 'Algorithm': algo, 'KL_div': calibration_scores[0], 'JS_div': calibration_scores[1]}, ignore_index=True)\n"
     ]
    },
    {
     "name": "stdout",
     "output_type": "stream",
     "text": [
      "691\n"
     ]
    },
    {
     "name": "stderr",
     "output_type": "stream",
     "text": [
      "/var/folders/8v/cgqpzdls33l6jdsvj3z4fdyh0000gn/T/ipykernel_64710/506424766.py:25: FutureWarning: The frame.append method is deprecated and will be removed from pandas in a future version. Use pandas.concat instead.\n",
      "  results = results.append({'user': user_id, 'Algorithm': algo, 'KL_div': calibration_scores[0], 'JS_div': calibration_scores[1]}, ignore_index=True)\n",
      "/var/folders/8v/cgqpzdls33l6jdsvj3z4fdyh0000gn/T/ipykernel_64710/506424766.py:25: FutureWarning: The frame.append method is deprecated and will be removed from pandas in a future version. Use pandas.concat instead.\n",
      "  results = results.append({'user': user_id, 'Algorithm': algo, 'KL_div': calibration_scores[0], 'JS_div': calibration_scores[1]}, ignore_index=True)\n"
     ]
    },
    {
     "name": "stdout",
     "output_type": "stream",
     "text": [
      "692\n"
     ]
    },
    {
     "name": "stderr",
     "output_type": "stream",
     "text": [
      "/var/folders/8v/cgqpzdls33l6jdsvj3z4fdyh0000gn/T/ipykernel_64710/506424766.py:25: FutureWarning: The frame.append method is deprecated and will be removed from pandas in a future version. Use pandas.concat instead.\n",
      "  results = results.append({'user': user_id, 'Algorithm': algo, 'KL_div': calibration_scores[0], 'JS_div': calibration_scores[1]}, ignore_index=True)\n",
      "/var/folders/8v/cgqpzdls33l6jdsvj3z4fdyh0000gn/T/ipykernel_64710/506424766.py:25: FutureWarning: The frame.append method is deprecated and will be removed from pandas in a future version. Use pandas.concat instead.\n",
      "  results = results.append({'user': user_id, 'Algorithm': algo, 'KL_div': calibration_scores[0], 'JS_div': calibration_scores[1]}, ignore_index=True)\n"
     ]
    },
    {
     "name": "stdout",
     "output_type": "stream",
     "text": [
      "693\n"
     ]
    },
    {
     "name": "stderr",
     "output_type": "stream",
     "text": [
      "/var/folders/8v/cgqpzdls33l6jdsvj3z4fdyh0000gn/T/ipykernel_64710/506424766.py:25: FutureWarning: The frame.append method is deprecated and will be removed from pandas in a future version. Use pandas.concat instead.\n",
      "  results = results.append({'user': user_id, 'Algorithm': algo, 'KL_div': calibration_scores[0], 'JS_div': calibration_scores[1]}, ignore_index=True)\n",
      "/var/folders/8v/cgqpzdls33l6jdsvj3z4fdyh0000gn/T/ipykernel_64710/506424766.py:25: FutureWarning: The frame.append method is deprecated and will be removed from pandas in a future version. Use pandas.concat instead.\n",
      "  results = results.append({'user': user_id, 'Algorithm': algo, 'KL_div': calibration_scores[0], 'JS_div': calibration_scores[1]}, ignore_index=True)\n"
     ]
    },
    {
     "name": "stdout",
     "output_type": "stream",
     "text": [
      "694\n"
     ]
    },
    {
     "name": "stderr",
     "output_type": "stream",
     "text": [
      "/var/folders/8v/cgqpzdls33l6jdsvj3z4fdyh0000gn/T/ipykernel_64710/506424766.py:25: FutureWarning: The frame.append method is deprecated and will be removed from pandas in a future version. Use pandas.concat instead.\n",
      "  results = results.append({'user': user_id, 'Algorithm': algo, 'KL_div': calibration_scores[0], 'JS_div': calibration_scores[1]}, ignore_index=True)\n",
      "/var/folders/8v/cgqpzdls33l6jdsvj3z4fdyh0000gn/T/ipykernel_64710/506424766.py:25: FutureWarning: The frame.append method is deprecated and will be removed from pandas in a future version. Use pandas.concat instead.\n",
      "  results = results.append({'user': user_id, 'Algorithm': algo, 'KL_div': calibration_scores[0], 'JS_div': calibration_scores[1]}, ignore_index=True)\n"
     ]
    },
    {
     "name": "stdout",
     "output_type": "stream",
     "text": [
      "695\n"
     ]
    },
    {
     "name": "stderr",
     "output_type": "stream",
     "text": [
      "/var/folders/8v/cgqpzdls33l6jdsvj3z4fdyh0000gn/T/ipykernel_64710/506424766.py:25: FutureWarning: The frame.append method is deprecated and will be removed from pandas in a future version. Use pandas.concat instead.\n",
      "  results = results.append({'user': user_id, 'Algorithm': algo, 'KL_div': calibration_scores[0], 'JS_div': calibration_scores[1]}, ignore_index=True)\n",
      "/var/folders/8v/cgqpzdls33l6jdsvj3z4fdyh0000gn/T/ipykernel_64710/506424766.py:25: FutureWarning: The frame.append method is deprecated and will be removed from pandas in a future version. Use pandas.concat instead.\n",
      "  results = results.append({'user': user_id, 'Algorithm': algo, 'KL_div': calibration_scores[0], 'JS_div': calibration_scores[1]}, ignore_index=True)\n"
     ]
    },
    {
     "name": "stdout",
     "output_type": "stream",
     "text": [
      "696\n"
     ]
    },
    {
     "name": "stderr",
     "output_type": "stream",
     "text": [
      "/var/folders/8v/cgqpzdls33l6jdsvj3z4fdyh0000gn/T/ipykernel_64710/506424766.py:25: FutureWarning: The frame.append method is deprecated and will be removed from pandas in a future version. Use pandas.concat instead.\n",
      "  results = results.append({'user': user_id, 'Algorithm': algo, 'KL_div': calibration_scores[0], 'JS_div': calibration_scores[1]}, ignore_index=True)\n",
      "/var/folders/8v/cgqpzdls33l6jdsvj3z4fdyh0000gn/T/ipykernel_64710/506424766.py:25: FutureWarning: The frame.append method is deprecated and will be removed from pandas in a future version. Use pandas.concat instead.\n",
      "  results = results.append({'user': user_id, 'Algorithm': algo, 'KL_div': calibration_scores[0], 'JS_div': calibration_scores[1]}, ignore_index=True)\n"
     ]
    },
    {
     "name": "stdout",
     "output_type": "stream",
     "text": [
      "697\n"
     ]
    },
    {
     "name": "stderr",
     "output_type": "stream",
     "text": [
      "/var/folders/8v/cgqpzdls33l6jdsvj3z4fdyh0000gn/T/ipykernel_64710/506424766.py:25: FutureWarning: The frame.append method is deprecated and will be removed from pandas in a future version. Use pandas.concat instead.\n",
      "  results = results.append({'user': user_id, 'Algorithm': algo, 'KL_div': calibration_scores[0], 'JS_div': calibration_scores[1]}, ignore_index=True)\n",
      "/var/folders/8v/cgqpzdls33l6jdsvj3z4fdyh0000gn/T/ipykernel_64710/506424766.py:25: FutureWarning: The frame.append method is deprecated and will be removed from pandas in a future version. Use pandas.concat instead.\n",
      "  results = results.append({'user': user_id, 'Algorithm': algo, 'KL_div': calibration_scores[0], 'JS_div': calibration_scores[1]}, ignore_index=True)\n"
     ]
    },
    {
     "name": "stdout",
     "output_type": "stream",
     "text": [
      "698\n"
     ]
    },
    {
     "name": "stderr",
     "output_type": "stream",
     "text": [
      "/var/folders/8v/cgqpzdls33l6jdsvj3z4fdyh0000gn/T/ipykernel_64710/506424766.py:25: FutureWarning: The frame.append method is deprecated and will be removed from pandas in a future version. Use pandas.concat instead.\n",
      "  results = results.append({'user': user_id, 'Algorithm': algo, 'KL_div': calibration_scores[0], 'JS_div': calibration_scores[1]}, ignore_index=True)\n",
      "/var/folders/8v/cgqpzdls33l6jdsvj3z4fdyh0000gn/T/ipykernel_64710/506424766.py:25: FutureWarning: The frame.append method is deprecated and will be removed from pandas in a future version. Use pandas.concat instead.\n",
      "  results = results.append({'user': user_id, 'Algorithm': algo, 'KL_div': calibration_scores[0], 'JS_div': calibration_scores[1]}, ignore_index=True)\n"
     ]
    },
    {
     "name": "stdout",
     "output_type": "stream",
     "text": [
      "699\n"
     ]
    },
    {
     "name": "stderr",
     "output_type": "stream",
     "text": [
      "/var/folders/8v/cgqpzdls33l6jdsvj3z4fdyh0000gn/T/ipykernel_64710/506424766.py:25: FutureWarning: The frame.append method is deprecated and will be removed from pandas in a future version. Use pandas.concat instead.\n",
      "  results = results.append({'user': user_id, 'Algorithm': algo, 'KL_div': calibration_scores[0], 'JS_div': calibration_scores[1]}, ignore_index=True)\n",
      "/var/folders/8v/cgqpzdls33l6jdsvj3z4fdyh0000gn/T/ipykernel_64710/506424766.py:25: FutureWarning: The frame.append method is deprecated and will be removed from pandas in a future version. Use pandas.concat instead.\n",
      "  results = results.append({'user': user_id, 'Algorithm': algo, 'KL_div': calibration_scores[0], 'JS_div': calibration_scores[1]}, ignore_index=True)\n"
     ]
    },
    {
     "name": "stdout",
     "output_type": "stream",
     "text": [
      "700\n"
     ]
    },
    {
     "name": "stderr",
     "output_type": "stream",
     "text": [
      "/var/folders/8v/cgqpzdls33l6jdsvj3z4fdyh0000gn/T/ipykernel_64710/506424766.py:25: FutureWarning: The frame.append method is deprecated and will be removed from pandas in a future version. Use pandas.concat instead.\n",
      "  results = results.append({'user': user_id, 'Algorithm': algo, 'KL_div': calibration_scores[0], 'JS_div': calibration_scores[1]}, ignore_index=True)\n",
      "/var/folders/8v/cgqpzdls33l6jdsvj3z4fdyh0000gn/T/ipykernel_64710/506424766.py:25: FutureWarning: The frame.append method is deprecated and will be removed from pandas in a future version. Use pandas.concat instead.\n",
      "  results = results.append({'user': user_id, 'Algorithm': algo, 'KL_div': calibration_scores[0], 'JS_div': calibration_scores[1]}, ignore_index=True)\n"
     ]
    },
    {
     "name": "stdout",
     "output_type": "stream",
     "text": [
      "701\n"
     ]
    },
    {
     "name": "stderr",
     "output_type": "stream",
     "text": [
      "/var/folders/8v/cgqpzdls33l6jdsvj3z4fdyh0000gn/T/ipykernel_64710/506424766.py:25: FutureWarning: The frame.append method is deprecated and will be removed from pandas in a future version. Use pandas.concat instead.\n",
      "  results = results.append({'user': user_id, 'Algorithm': algo, 'KL_div': calibration_scores[0], 'JS_div': calibration_scores[1]}, ignore_index=True)\n",
      "/var/folders/8v/cgqpzdls33l6jdsvj3z4fdyh0000gn/T/ipykernel_64710/506424766.py:25: FutureWarning: The frame.append method is deprecated and will be removed from pandas in a future version. Use pandas.concat instead.\n",
      "  results = results.append({'user': user_id, 'Algorithm': algo, 'KL_div': calibration_scores[0], 'JS_div': calibration_scores[1]}, ignore_index=True)\n"
     ]
    },
    {
     "name": "stdout",
     "output_type": "stream",
     "text": [
      "702\n"
     ]
    },
    {
     "name": "stderr",
     "output_type": "stream",
     "text": [
      "/var/folders/8v/cgqpzdls33l6jdsvj3z4fdyh0000gn/T/ipykernel_64710/506424766.py:25: FutureWarning: The frame.append method is deprecated and will be removed from pandas in a future version. Use pandas.concat instead.\n",
      "  results = results.append({'user': user_id, 'Algorithm': algo, 'KL_div': calibration_scores[0], 'JS_div': calibration_scores[1]}, ignore_index=True)\n",
      "/var/folders/8v/cgqpzdls33l6jdsvj3z4fdyh0000gn/T/ipykernel_64710/506424766.py:25: FutureWarning: The frame.append method is deprecated and will be removed from pandas in a future version. Use pandas.concat instead.\n",
      "  results = results.append({'user': user_id, 'Algorithm': algo, 'KL_div': calibration_scores[0], 'JS_div': calibration_scores[1]}, ignore_index=True)\n"
     ]
    },
    {
     "name": "stdout",
     "output_type": "stream",
     "text": [
      "703\n"
     ]
    },
    {
     "name": "stderr",
     "output_type": "stream",
     "text": [
      "/var/folders/8v/cgqpzdls33l6jdsvj3z4fdyh0000gn/T/ipykernel_64710/506424766.py:25: FutureWarning: The frame.append method is deprecated and will be removed from pandas in a future version. Use pandas.concat instead.\n",
      "  results = results.append({'user': user_id, 'Algorithm': algo, 'KL_div': calibration_scores[0], 'JS_div': calibration_scores[1]}, ignore_index=True)\n",
      "/var/folders/8v/cgqpzdls33l6jdsvj3z4fdyh0000gn/T/ipykernel_64710/506424766.py:25: FutureWarning: The frame.append method is deprecated and will be removed from pandas in a future version. Use pandas.concat instead.\n",
      "  results = results.append({'user': user_id, 'Algorithm': algo, 'KL_div': calibration_scores[0], 'JS_div': calibration_scores[1]}, ignore_index=True)\n"
     ]
    },
    {
     "name": "stdout",
     "output_type": "stream",
     "text": [
      "704\n"
     ]
    },
    {
     "name": "stderr",
     "output_type": "stream",
     "text": [
      "/var/folders/8v/cgqpzdls33l6jdsvj3z4fdyh0000gn/T/ipykernel_64710/506424766.py:25: FutureWarning: The frame.append method is deprecated and will be removed from pandas in a future version. Use pandas.concat instead.\n",
      "  results = results.append({'user': user_id, 'Algorithm': algo, 'KL_div': calibration_scores[0], 'JS_div': calibration_scores[1]}, ignore_index=True)\n",
      "/var/folders/8v/cgqpzdls33l6jdsvj3z4fdyh0000gn/T/ipykernel_64710/506424766.py:25: FutureWarning: The frame.append method is deprecated and will be removed from pandas in a future version. Use pandas.concat instead.\n",
      "  results = results.append({'user': user_id, 'Algorithm': algo, 'KL_div': calibration_scores[0], 'JS_div': calibration_scores[1]}, ignore_index=True)\n"
     ]
    },
    {
     "name": "stdout",
     "output_type": "stream",
     "text": [
      "705\n"
     ]
    },
    {
     "name": "stderr",
     "output_type": "stream",
     "text": [
      "/var/folders/8v/cgqpzdls33l6jdsvj3z4fdyh0000gn/T/ipykernel_64710/506424766.py:25: FutureWarning: The frame.append method is deprecated and will be removed from pandas in a future version. Use pandas.concat instead.\n",
      "  results = results.append({'user': user_id, 'Algorithm': algo, 'KL_div': calibration_scores[0], 'JS_div': calibration_scores[1]}, ignore_index=True)\n",
      "/var/folders/8v/cgqpzdls33l6jdsvj3z4fdyh0000gn/T/ipykernel_64710/506424766.py:25: FutureWarning: The frame.append method is deprecated and will be removed from pandas in a future version. Use pandas.concat instead.\n",
      "  results = results.append({'user': user_id, 'Algorithm': algo, 'KL_div': calibration_scores[0], 'JS_div': calibration_scores[1]}, ignore_index=True)\n"
     ]
    },
    {
     "name": "stdout",
     "output_type": "stream",
     "text": [
      "706\n"
     ]
    },
    {
     "name": "stderr",
     "output_type": "stream",
     "text": [
      "/var/folders/8v/cgqpzdls33l6jdsvj3z4fdyh0000gn/T/ipykernel_64710/506424766.py:25: FutureWarning: The frame.append method is deprecated and will be removed from pandas in a future version. Use pandas.concat instead.\n",
      "  results = results.append({'user': user_id, 'Algorithm': algo, 'KL_div': calibration_scores[0], 'JS_div': calibration_scores[1]}, ignore_index=True)\n",
      "/var/folders/8v/cgqpzdls33l6jdsvj3z4fdyh0000gn/T/ipykernel_64710/506424766.py:25: FutureWarning: The frame.append method is deprecated and will be removed from pandas in a future version. Use pandas.concat instead.\n",
      "  results = results.append({'user': user_id, 'Algorithm': algo, 'KL_div': calibration_scores[0], 'JS_div': calibration_scores[1]}, ignore_index=True)\n"
     ]
    },
    {
     "name": "stdout",
     "output_type": "stream",
     "text": [
      "707\n"
     ]
    },
    {
     "name": "stderr",
     "output_type": "stream",
     "text": [
      "/var/folders/8v/cgqpzdls33l6jdsvj3z4fdyh0000gn/T/ipykernel_64710/506424766.py:25: FutureWarning: The frame.append method is deprecated and will be removed from pandas in a future version. Use pandas.concat instead.\n",
      "  results = results.append({'user': user_id, 'Algorithm': algo, 'KL_div': calibration_scores[0], 'JS_div': calibration_scores[1]}, ignore_index=True)\n",
      "/var/folders/8v/cgqpzdls33l6jdsvj3z4fdyh0000gn/T/ipykernel_64710/506424766.py:25: FutureWarning: The frame.append method is deprecated and will be removed from pandas in a future version. Use pandas.concat instead.\n",
      "  results = results.append({'user': user_id, 'Algorithm': algo, 'KL_div': calibration_scores[0], 'JS_div': calibration_scores[1]}, ignore_index=True)\n"
     ]
    },
    {
     "name": "stdout",
     "output_type": "stream",
     "text": [
      "708\n"
     ]
    },
    {
     "name": "stderr",
     "output_type": "stream",
     "text": [
      "/var/folders/8v/cgqpzdls33l6jdsvj3z4fdyh0000gn/T/ipykernel_64710/506424766.py:25: FutureWarning: The frame.append method is deprecated and will be removed from pandas in a future version. Use pandas.concat instead.\n",
      "  results = results.append({'user': user_id, 'Algorithm': algo, 'KL_div': calibration_scores[0], 'JS_div': calibration_scores[1]}, ignore_index=True)\n",
      "/var/folders/8v/cgqpzdls33l6jdsvj3z4fdyh0000gn/T/ipykernel_64710/506424766.py:25: FutureWarning: The frame.append method is deprecated and will be removed from pandas in a future version. Use pandas.concat instead.\n",
      "  results = results.append({'user': user_id, 'Algorithm': algo, 'KL_div': calibration_scores[0], 'JS_div': calibration_scores[1]}, ignore_index=True)\n"
     ]
    },
    {
     "name": "stdout",
     "output_type": "stream",
     "text": [
      "709\n"
     ]
    },
    {
     "name": "stderr",
     "output_type": "stream",
     "text": [
      "/var/folders/8v/cgqpzdls33l6jdsvj3z4fdyh0000gn/T/ipykernel_64710/506424766.py:25: FutureWarning: The frame.append method is deprecated and will be removed from pandas in a future version. Use pandas.concat instead.\n",
      "  results = results.append({'user': user_id, 'Algorithm': algo, 'KL_div': calibration_scores[0], 'JS_div': calibration_scores[1]}, ignore_index=True)\n",
      "/var/folders/8v/cgqpzdls33l6jdsvj3z4fdyh0000gn/T/ipykernel_64710/506424766.py:25: FutureWarning: The frame.append method is deprecated and will be removed from pandas in a future version. Use pandas.concat instead.\n",
      "  results = results.append({'user': user_id, 'Algorithm': algo, 'KL_div': calibration_scores[0], 'JS_div': calibration_scores[1]}, ignore_index=True)\n"
     ]
    },
    {
     "name": "stdout",
     "output_type": "stream",
     "text": [
      "710\n"
     ]
    },
    {
     "name": "stderr",
     "output_type": "stream",
     "text": [
      "/var/folders/8v/cgqpzdls33l6jdsvj3z4fdyh0000gn/T/ipykernel_64710/506424766.py:25: FutureWarning: The frame.append method is deprecated and will be removed from pandas in a future version. Use pandas.concat instead.\n",
      "  results = results.append({'user': user_id, 'Algorithm': algo, 'KL_div': calibration_scores[0], 'JS_div': calibration_scores[1]}, ignore_index=True)\n",
      "/var/folders/8v/cgqpzdls33l6jdsvj3z4fdyh0000gn/T/ipykernel_64710/506424766.py:25: FutureWarning: The frame.append method is deprecated and will be removed from pandas in a future version. Use pandas.concat instead.\n",
      "  results = results.append({'user': user_id, 'Algorithm': algo, 'KL_div': calibration_scores[0], 'JS_div': calibration_scores[1]}, ignore_index=True)\n"
     ]
    },
    {
     "name": "stdout",
     "output_type": "stream",
     "text": [
      "711\n"
     ]
    },
    {
     "name": "stderr",
     "output_type": "stream",
     "text": [
      "/var/folders/8v/cgqpzdls33l6jdsvj3z4fdyh0000gn/T/ipykernel_64710/506424766.py:25: FutureWarning: The frame.append method is deprecated and will be removed from pandas in a future version. Use pandas.concat instead.\n",
      "  results = results.append({'user': user_id, 'Algorithm': algo, 'KL_div': calibration_scores[0], 'JS_div': calibration_scores[1]}, ignore_index=True)\n",
      "/var/folders/8v/cgqpzdls33l6jdsvj3z4fdyh0000gn/T/ipykernel_64710/506424766.py:25: FutureWarning: The frame.append method is deprecated and will be removed from pandas in a future version. Use pandas.concat instead.\n",
      "  results = results.append({'user': user_id, 'Algorithm': algo, 'KL_div': calibration_scores[0], 'JS_div': calibration_scores[1]}, ignore_index=True)\n"
     ]
    },
    {
     "name": "stdout",
     "output_type": "stream",
     "text": [
      "712\n"
     ]
    },
    {
     "name": "stderr",
     "output_type": "stream",
     "text": [
      "/var/folders/8v/cgqpzdls33l6jdsvj3z4fdyh0000gn/T/ipykernel_64710/506424766.py:25: FutureWarning: The frame.append method is deprecated and will be removed from pandas in a future version. Use pandas.concat instead.\n",
      "  results = results.append({'user': user_id, 'Algorithm': algo, 'KL_div': calibration_scores[0], 'JS_div': calibration_scores[1]}, ignore_index=True)\n",
      "/var/folders/8v/cgqpzdls33l6jdsvj3z4fdyh0000gn/T/ipykernel_64710/506424766.py:25: FutureWarning: The frame.append method is deprecated and will be removed from pandas in a future version. Use pandas.concat instead.\n",
      "  results = results.append({'user': user_id, 'Algorithm': algo, 'KL_div': calibration_scores[0], 'JS_div': calibration_scores[1]}, ignore_index=True)\n"
     ]
    },
    {
     "name": "stdout",
     "output_type": "stream",
     "text": [
      "713\n"
     ]
    },
    {
     "name": "stderr",
     "output_type": "stream",
     "text": [
      "/var/folders/8v/cgqpzdls33l6jdsvj3z4fdyh0000gn/T/ipykernel_64710/506424766.py:25: FutureWarning: The frame.append method is deprecated and will be removed from pandas in a future version. Use pandas.concat instead.\n",
      "  results = results.append({'user': user_id, 'Algorithm': algo, 'KL_div': calibration_scores[0], 'JS_div': calibration_scores[1]}, ignore_index=True)\n",
      "/var/folders/8v/cgqpzdls33l6jdsvj3z4fdyh0000gn/T/ipykernel_64710/506424766.py:25: FutureWarning: The frame.append method is deprecated and will be removed from pandas in a future version. Use pandas.concat instead.\n",
      "  results = results.append({'user': user_id, 'Algorithm': algo, 'KL_div': calibration_scores[0], 'JS_div': calibration_scores[1]}, ignore_index=True)\n"
     ]
    },
    {
     "name": "stdout",
     "output_type": "stream",
     "text": [
      "714\n"
     ]
    },
    {
     "name": "stderr",
     "output_type": "stream",
     "text": [
      "/var/folders/8v/cgqpzdls33l6jdsvj3z4fdyh0000gn/T/ipykernel_64710/506424766.py:25: FutureWarning: The frame.append method is deprecated and will be removed from pandas in a future version. Use pandas.concat instead.\n",
      "  results = results.append({'user': user_id, 'Algorithm': algo, 'KL_div': calibration_scores[0], 'JS_div': calibration_scores[1]}, ignore_index=True)\n",
      "/var/folders/8v/cgqpzdls33l6jdsvj3z4fdyh0000gn/T/ipykernel_64710/506424766.py:25: FutureWarning: The frame.append method is deprecated and will be removed from pandas in a future version. Use pandas.concat instead.\n",
      "  results = results.append({'user': user_id, 'Algorithm': algo, 'KL_div': calibration_scores[0], 'JS_div': calibration_scores[1]}, ignore_index=True)\n"
     ]
    },
    {
     "name": "stdout",
     "output_type": "stream",
     "text": [
      "715\n"
     ]
    },
    {
     "name": "stderr",
     "output_type": "stream",
     "text": [
      "/var/folders/8v/cgqpzdls33l6jdsvj3z4fdyh0000gn/T/ipykernel_64710/506424766.py:25: FutureWarning: The frame.append method is deprecated and will be removed from pandas in a future version. Use pandas.concat instead.\n",
      "  results = results.append({'user': user_id, 'Algorithm': algo, 'KL_div': calibration_scores[0], 'JS_div': calibration_scores[1]}, ignore_index=True)\n",
      "/var/folders/8v/cgqpzdls33l6jdsvj3z4fdyh0000gn/T/ipykernel_64710/506424766.py:25: FutureWarning: The frame.append method is deprecated and will be removed from pandas in a future version. Use pandas.concat instead.\n",
      "  results = results.append({'user': user_id, 'Algorithm': algo, 'KL_div': calibration_scores[0], 'JS_div': calibration_scores[1]}, ignore_index=True)\n"
     ]
    },
    {
     "name": "stdout",
     "output_type": "stream",
     "text": [
      "716\n"
     ]
    },
    {
     "name": "stderr",
     "output_type": "stream",
     "text": [
      "/var/folders/8v/cgqpzdls33l6jdsvj3z4fdyh0000gn/T/ipykernel_64710/506424766.py:25: FutureWarning: The frame.append method is deprecated and will be removed from pandas in a future version. Use pandas.concat instead.\n",
      "  results = results.append({'user': user_id, 'Algorithm': algo, 'KL_div': calibration_scores[0], 'JS_div': calibration_scores[1]}, ignore_index=True)\n",
      "/var/folders/8v/cgqpzdls33l6jdsvj3z4fdyh0000gn/T/ipykernel_64710/506424766.py:25: FutureWarning: The frame.append method is deprecated and will be removed from pandas in a future version. Use pandas.concat instead.\n",
      "  results = results.append({'user': user_id, 'Algorithm': algo, 'KL_div': calibration_scores[0], 'JS_div': calibration_scores[1]}, ignore_index=True)\n"
     ]
    },
    {
     "name": "stdout",
     "output_type": "stream",
     "text": [
      "717\n"
     ]
    },
    {
     "name": "stderr",
     "output_type": "stream",
     "text": [
      "/var/folders/8v/cgqpzdls33l6jdsvj3z4fdyh0000gn/T/ipykernel_64710/506424766.py:25: FutureWarning: The frame.append method is deprecated and will be removed from pandas in a future version. Use pandas.concat instead.\n",
      "  results = results.append({'user': user_id, 'Algorithm': algo, 'KL_div': calibration_scores[0], 'JS_div': calibration_scores[1]}, ignore_index=True)\n",
      "/var/folders/8v/cgqpzdls33l6jdsvj3z4fdyh0000gn/T/ipykernel_64710/506424766.py:25: FutureWarning: The frame.append method is deprecated and will be removed from pandas in a future version. Use pandas.concat instead.\n",
      "  results = results.append({'user': user_id, 'Algorithm': algo, 'KL_div': calibration_scores[0], 'JS_div': calibration_scores[1]}, ignore_index=True)\n"
     ]
    },
    {
     "name": "stdout",
     "output_type": "stream",
     "text": [
      "718\n"
     ]
    },
    {
     "name": "stderr",
     "output_type": "stream",
     "text": [
      "/var/folders/8v/cgqpzdls33l6jdsvj3z4fdyh0000gn/T/ipykernel_64710/506424766.py:25: FutureWarning: The frame.append method is deprecated and will be removed from pandas in a future version. Use pandas.concat instead.\n",
      "  results = results.append({'user': user_id, 'Algorithm': algo, 'KL_div': calibration_scores[0], 'JS_div': calibration_scores[1]}, ignore_index=True)\n",
      "/var/folders/8v/cgqpzdls33l6jdsvj3z4fdyh0000gn/T/ipykernel_64710/506424766.py:25: FutureWarning: The frame.append method is deprecated and will be removed from pandas in a future version. Use pandas.concat instead.\n",
      "  results = results.append({'user': user_id, 'Algorithm': algo, 'KL_div': calibration_scores[0], 'JS_div': calibration_scores[1]}, ignore_index=True)\n"
     ]
    },
    {
     "name": "stdout",
     "output_type": "stream",
     "text": [
      "719\n"
     ]
    },
    {
     "name": "stderr",
     "output_type": "stream",
     "text": [
      "/var/folders/8v/cgqpzdls33l6jdsvj3z4fdyh0000gn/T/ipykernel_64710/506424766.py:25: FutureWarning: The frame.append method is deprecated and will be removed from pandas in a future version. Use pandas.concat instead.\n",
      "  results = results.append({'user': user_id, 'Algorithm': algo, 'KL_div': calibration_scores[0], 'JS_div': calibration_scores[1]}, ignore_index=True)\n",
      "/var/folders/8v/cgqpzdls33l6jdsvj3z4fdyh0000gn/T/ipykernel_64710/506424766.py:25: FutureWarning: The frame.append method is deprecated and will be removed from pandas in a future version. Use pandas.concat instead.\n",
      "  results = results.append({'user': user_id, 'Algorithm': algo, 'KL_div': calibration_scores[0], 'JS_div': calibration_scores[1]}, ignore_index=True)\n"
     ]
    },
    {
     "name": "stdout",
     "output_type": "stream",
     "text": [
      "720\n"
     ]
    },
    {
     "name": "stderr",
     "output_type": "stream",
     "text": [
      "/var/folders/8v/cgqpzdls33l6jdsvj3z4fdyh0000gn/T/ipykernel_64710/506424766.py:25: FutureWarning: The frame.append method is deprecated and will be removed from pandas in a future version. Use pandas.concat instead.\n",
      "  results = results.append({'user': user_id, 'Algorithm': algo, 'KL_div': calibration_scores[0], 'JS_div': calibration_scores[1]}, ignore_index=True)\n",
      "/var/folders/8v/cgqpzdls33l6jdsvj3z4fdyh0000gn/T/ipykernel_64710/506424766.py:25: FutureWarning: The frame.append method is deprecated and will be removed from pandas in a future version. Use pandas.concat instead.\n",
      "  results = results.append({'user': user_id, 'Algorithm': algo, 'KL_div': calibration_scores[0], 'JS_div': calibration_scores[1]}, ignore_index=True)\n"
     ]
    },
    {
     "name": "stdout",
     "output_type": "stream",
     "text": [
      "721\n"
     ]
    },
    {
     "name": "stderr",
     "output_type": "stream",
     "text": [
      "/var/folders/8v/cgqpzdls33l6jdsvj3z4fdyh0000gn/T/ipykernel_64710/506424766.py:25: FutureWarning: The frame.append method is deprecated and will be removed from pandas in a future version. Use pandas.concat instead.\n",
      "  results = results.append({'user': user_id, 'Algorithm': algo, 'KL_div': calibration_scores[0], 'JS_div': calibration_scores[1]}, ignore_index=True)\n",
      "/var/folders/8v/cgqpzdls33l6jdsvj3z4fdyh0000gn/T/ipykernel_64710/506424766.py:25: FutureWarning: The frame.append method is deprecated and will be removed from pandas in a future version. Use pandas.concat instead.\n",
      "  results = results.append({'user': user_id, 'Algorithm': algo, 'KL_div': calibration_scores[0], 'JS_div': calibration_scores[1]}, ignore_index=True)\n"
     ]
    },
    {
     "name": "stdout",
     "output_type": "stream",
     "text": [
      "722\n"
     ]
    },
    {
     "name": "stderr",
     "output_type": "stream",
     "text": [
      "/var/folders/8v/cgqpzdls33l6jdsvj3z4fdyh0000gn/T/ipykernel_64710/506424766.py:25: FutureWarning: The frame.append method is deprecated and will be removed from pandas in a future version. Use pandas.concat instead.\n",
      "  results = results.append({'user': user_id, 'Algorithm': algo, 'KL_div': calibration_scores[0], 'JS_div': calibration_scores[1]}, ignore_index=True)\n",
      "/var/folders/8v/cgqpzdls33l6jdsvj3z4fdyh0000gn/T/ipykernel_64710/506424766.py:25: FutureWarning: The frame.append method is deprecated and will be removed from pandas in a future version. Use pandas.concat instead.\n",
      "  results = results.append({'user': user_id, 'Algorithm': algo, 'KL_div': calibration_scores[0], 'JS_div': calibration_scores[1]}, ignore_index=True)\n"
     ]
    },
    {
     "name": "stdout",
     "output_type": "stream",
     "text": [
      "723\n"
     ]
    },
    {
     "name": "stderr",
     "output_type": "stream",
     "text": [
      "/var/folders/8v/cgqpzdls33l6jdsvj3z4fdyh0000gn/T/ipykernel_64710/506424766.py:25: FutureWarning: The frame.append method is deprecated and will be removed from pandas in a future version. Use pandas.concat instead.\n",
      "  results = results.append({'user': user_id, 'Algorithm': algo, 'KL_div': calibration_scores[0], 'JS_div': calibration_scores[1]}, ignore_index=True)\n",
      "/var/folders/8v/cgqpzdls33l6jdsvj3z4fdyh0000gn/T/ipykernel_64710/506424766.py:25: FutureWarning: The frame.append method is deprecated and will be removed from pandas in a future version. Use pandas.concat instead.\n",
      "  results = results.append({'user': user_id, 'Algorithm': algo, 'KL_div': calibration_scores[0], 'JS_div': calibration_scores[1]}, ignore_index=True)\n"
     ]
    },
    {
     "name": "stdout",
     "output_type": "stream",
     "text": [
      "724\n"
     ]
    },
    {
     "name": "stderr",
     "output_type": "stream",
     "text": [
      "/var/folders/8v/cgqpzdls33l6jdsvj3z4fdyh0000gn/T/ipykernel_64710/506424766.py:25: FutureWarning: The frame.append method is deprecated and will be removed from pandas in a future version. Use pandas.concat instead.\n",
      "  results = results.append({'user': user_id, 'Algorithm': algo, 'KL_div': calibration_scores[0], 'JS_div': calibration_scores[1]}, ignore_index=True)\n",
      "/var/folders/8v/cgqpzdls33l6jdsvj3z4fdyh0000gn/T/ipykernel_64710/506424766.py:25: FutureWarning: The frame.append method is deprecated and will be removed from pandas in a future version. Use pandas.concat instead.\n",
      "  results = results.append({'user': user_id, 'Algorithm': algo, 'KL_div': calibration_scores[0], 'JS_div': calibration_scores[1]}, ignore_index=True)\n"
     ]
    },
    {
     "name": "stdout",
     "output_type": "stream",
     "text": [
      "725\n"
     ]
    },
    {
     "name": "stderr",
     "output_type": "stream",
     "text": [
      "/var/folders/8v/cgqpzdls33l6jdsvj3z4fdyh0000gn/T/ipykernel_64710/506424766.py:25: FutureWarning: The frame.append method is deprecated and will be removed from pandas in a future version. Use pandas.concat instead.\n",
      "  results = results.append({'user': user_id, 'Algorithm': algo, 'KL_div': calibration_scores[0], 'JS_div': calibration_scores[1]}, ignore_index=True)\n",
      "/var/folders/8v/cgqpzdls33l6jdsvj3z4fdyh0000gn/T/ipykernel_64710/506424766.py:25: FutureWarning: The frame.append method is deprecated and will be removed from pandas in a future version. Use pandas.concat instead.\n",
      "  results = results.append({'user': user_id, 'Algorithm': algo, 'KL_div': calibration_scores[0], 'JS_div': calibration_scores[1]}, ignore_index=True)\n"
     ]
    },
    {
     "name": "stdout",
     "output_type": "stream",
     "text": [
      "726\n"
     ]
    },
    {
     "name": "stderr",
     "output_type": "stream",
     "text": [
      "/var/folders/8v/cgqpzdls33l6jdsvj3z4fdyh0000gn/T/ipykernel_64710/506424766.py:25: FutureWarning: The frame.append method is deprecated and will be removed from pandas in a future version. Use pandas.concat instead.\n",
      "  results = results.append({'user': user_id, 'Algorithm': algo, 'KL_div': calibration_scores[0], 'JS_div': calibration_scores[1]}, ignore_index=True)\n",
      "/var/folders/8v/cgqpzdls33l6jdsvj3z4fdyh0000gn/T/ipykernel_64710/506424766.py:25: FutureWarning: The frame.append method is deprecated and will be removed from pandas in a future version. Use pandas.concat instead.\n",
      "  results = results.append({'user': user_id, 'Algorithm': algo, 'KL_div': calibration_scores[0], 'JS_div': calibration_scores[1]}, ignore_index=True)\n"
     ]
    },
    {
     "name": "stdout",
     "output_type": "stream",
     "text": [
      "727\n"
     ]
    },
    {
     "name": "stderr",
     "output_type": "stream",
     "text": [
      "/var/folders/8v/cgqpzdls33l6jdsvj3z4fdyh0000gn/T/ipykernel_64710/506424766.py:25: FutureWarning: The frame.append method is deprecated and will be removed from pandas in a future version. Use pandas.concat instead.\n",
      "  results = results.append({'user': user_id, 'Algorithm': algo, 'KL_div': calibration_scores[0], 'JS_div': calibration_scores[1]}, ignore_index=True)\n",
      "/var/folders/8v/cgqpzdls33l6jdsvj3z4fdyh0000gn/T/ipykernel_64710/506424766.py:25: FutureWarning: The frame.append method is deprecated and will be removed from pandas in a future version. Use pandas.concat instead.\n",
      "  results = results.append({'user': user_id, 'Algorithm': algo, 'KL_div': calibration_scores[0], 'JS_div': calibration_scores[1]}, ignore_index=True)\n"
     ]
    },
    {
     "name": "stdout",
     "output_type": "stream",
     "text": [
      "728\n"
     ]
    },
    {
     "name": "stderr",
     "output_type": "stream",
     "text": [
      "/var/folders/8v/cgqpzdls33l6jdsvj3z4fdyh0000gn/T/ipykernel_64710/506424766.py:25: FutureWarning: The frame.append method is deprecated and will be removed from pandas in a future version. Use pandas.concat instead.\n",
      "  results = results.append({'user': user_id, 'Algorithm': algo, 'KL_div': calibration_scores[0], 'JS_div': calibration_scores[1]}, ignore_index=True)\n",
      "/var/folders/8v/cgqpzdls33l6jdsvj3z4fdyh0000gn/T/ipykernel_64710/506424766.py:25: FutureWarning: The frame.append method is deprecated and will be removed from pandas in a future version. Use pandas.concat instead.\n",
      "  results = results.append({'user': user_id, 'Algorithm': algo, 'KL_div': calibration_scores[0], 'JS_div': calibration_scores[1]}, ignore_index=True)\n"
     ]
    },
    {
     "name": "stdout",
     "output_type": "stream",
     "text": [
      "729\n"
     ]
    },
    {
     "name": "stderr",
     "output_type": "stream",
     "text": [
      "/var/folders/8v/cgqpzdls33l6jdsvj3z4fdyh0000gn/T/ipykernel_64710/506424766.py:25: FutureWarning: The frame.append method is deprecated and will be removed from pandas in a future version. Use pandas.concat instead.\n",
      "  results = results.append({'user': user_id, 'Algorithm': algo, 'KL_div': calibration_scores[0], 'JS_div': calibration_scores[1]}, ignore_index=True)\n",
      "/var/folders/8v/cgqpzdls33l6jdsvj3z4fdyh0000gn/T/ipykernel_64710/506424766.py:25: FutureWarning: The frame.append method is deprecated and will be removed from pandas in a future version. Use pandas.concat instead.\n",
      "  results = results.append({'user': user_id, 'Algorithm': algo, 'KL_div': calibration_scores[0], 'JS_div': calibration_scores[1]}, ignore_index=True)\n"
     ]
    },
    {
     "name": "stdout",
     "output_type": "stream",
     "text": [
      "730\n"
     ]
    },
    {
     "name": "stderr",
     "output_type": "stream",
     "text": [
      "/var/folders/8v/cgqpzdls33l6jdsvj3z4fdyh0000gn/T/ipykernel_64710/506424766.py:25: FutureWarning: The frame.append method is deprecated and will be removed from pandas in a future version. Use pandas.concat instead.\n",
      "  results = results.append({'user': user_id, 'Algorithm': algo, 'KL_div': calibration_scores[0], 'JS_div': calibration_scores[1]}, ignore_index=True)\n",
      "/var/folders/8v/cgqpzdls33l6jdsvj3z4fdyh0000gn/T/ipykernel_64710/506424766.py:25: FutureWarning: The frame.append method is deprecated and will be removed from pandas in a future version. Use pandas.concat instead.\n",
      "  results = results.append({'user': user_id, 'Algorithm': algo, 'KL_div': calibration_scores[0], 'JS_div': calibration_scores[1]}, ignore_index=True)\n"
     ]
    },
    {
     "name": "stdout",
     "output_type": "stream",
     "text": [
      "731\n"
     ]
    },
    {
     "name": "stderr",
     "output_type": "stream",
     "text": [
      "/var/folders/8v/cgqpzdls33l6jdsvj3z4fdyh0000gn/T/ipykernel_64710/506424766.py:25: FutureWarning: The frame.append method is deprecated and will be removed from pandas in a future version. Use pandas.concat instead.\n",
      "  results = results.append({'user': user_id, 'Algorithm': algo, 'KL_div': calibration_scores[0], 'JS_div': calibration_scores[1]}, ignore_index=True)\n",
      "/var/folders/8v/cgqpzdls33l6jdsvj3z4fdyh0000gn/T/ipykernel_64710/506424766.py:25: FutureWarning: The frame.append method is deprecated and will be removed from pandas in a future version. Use pandas.concat instead.\n",
      "  results = results.append({'user': user_id, 'Algorithm': algo, 'KL_div': calibration_scores[0], 'JS_div': calibration_scores[1]}, ignore_index=True)\n"
     ]
    },
    {
     "name": "stdout",
     "output_type": "stream",
     "text": [
      "732\n"
     ]
    },
    {
     "name": "stderr",
     "output_type": "stream",
     "text": [
      "/var/folders/8v/cgqpzdls33l6jdsvj3z4fdyh0000gn/T/ipykernel_64710/506424766.py:25: FutureWarning: The frame.append method is deprecated and will be removed from pandas in a future version. Use pandas.concat instead.\n",
      "  results = results.append({'user': user_id, 'Algorithm': algo, 'KL_div': calibration_scores[0], 'JS_div': calibration_scores[1]}, ignore_index=True)\n",
      "/var/folders/8v/cgqpzdls33l6jdsvj3z4fdyh0000gn/T/ipykernel_64710/506424766.py:25: FutureWarning: The frame.append method is deprecated and will be removed from pandas in a future version. Use pandas.concat instead.\n",
      "  results = results.append({'user': user_id, 'Algorithm': algo, 'KL_div': calibration_scores[0], 'JS_div': calibration_scores[1]}, ignore_index=True)\n"
     ]
    },
    {
     "name": "stdout",
     "output_type": "stream",
     "text": [
      "733\n"
     ]
    },
    {
     "name": "stderr",
     "output_type": "stream",
     "text": [
      "/var/folders/8v/cgqpzdls33l6jdsvj3z4fdyh0000gn/T/ipykernel_64710/506424766.py:25: FutureWarning: The frame.append method is deprecated and will be removed from pandas in a future version. Use pandas.concat instead.\n",
      "  results = results.append({'user': user_id, 'Algorithm': algo, 'KL_div': calibration_scores[0], 'JS_div': calibration_scores[1]}, ignore_index=True)\n",
      "/var/folders/8v/cgqpzdls33l6jdsvj3z4fdyh0000gn/T/ipykernel_64710/506424766.py:25: FutureWarning: The frame.append method is deprecated and will be removed from pandas in a future version. Use pandas.concat instead.\n",
      "  results = results.append({'user': user_id, 'Algorithm': algo, 'KL_div': calibration_scores[0], 'JS_div': calibration_scores[1]}, ignore_index=True)\n"
     ]
    },
    {
     "name": "stdout",
     "output_type": "stream",
     "text": [
      "734\n"
     ]
    },
    {
     "name": "stderr",
     "output_type": "stream",
     "text": [
      "/var/folders/8v/cgqpzdls33l6jdsvj3z4fdyh0000gn/T/ipykernel_64710/506424766.py:25: FutureWarning: The frame.append method is deprecated and will be removed from pandas in a future version. Use pandas.concat instead.\n",
      "  results = results.append({'user': user_id, 'Algorithm': algo, 'KL_div': calibration_scores[0], 'JS_div': calibration_scores[1]}, ignore_index=True)\n",
      "/var/folders/8v/cgqpzdls33l6jdsvj3z4fdyh0000gn/T/ipykernel_64710/506424766.py:25: FutureWarning: The frame.append method is deprecated and will be removed from pandas in a future version. Use pandas.concat instead.\n",
      "  results = results.append({'user': user_id, 'Algorithm': algo, 'KL_div': calibration_scores[0], 'JS_div': calibration_scores[1]}, ignore_index=True)\n"
     ]
    },
    {
     "name": "stdout",
     "output_type": "stream",
     "text": [
      "735\n"
     ]
    },
    {
     "name": "stderr",
     "output_type": "stream",
     "text": [
      "/var/folders/8v/cgqpzdls33l6jdsvj3z4fdyh0000gn/T/ipykernel_64710/506424766.py:25: FutureWarning: The frame.append method is deprecated and will be removed from pandas in a future version. Use pandas.concat instead.\n",
      "  results = results.append({'user': user_id, 'Algorithm': algo, 'KL_div': calibration_scores[0], 'JS_div': calibration_scores[1]}, ignore_index=True)\n",
      "/var/folders/8v/cgqpzdls33l6jdsvj3z4fdyh0000gn/T/ipykernel_64710/506424766.py:25: FutureWarning: The frame.append method is deprecated and will be removed from pandas in a future version. Use pandas.concat instead.\n",
      "  results = results.append({'user': user_id, 'Algorithm': algo, 'KL_div': calibration_scores[0], 'JS_div': calibration_scores[1]}, ignore_index=True)\n"
     ]
    },
    {
     "name": "stdout",
     "output_type": "stream",
     "text": [
      "736\n"
     ]
    },
    {
     "name": "stderr",
     "output_type": "stream",
     "text": [
      "/var/folders/8v/cgqpzdls33l6jdsvj3z4fdyh0000gn/T/ipykernel_64710/506424766.py:25: FutureWarning: The frame.append method is deprecated and will be removed from pandas in a future version. Use pandas.concat instead.\n",
      "  results = results.append({'user': user_id, 'Algorithm': algo, 'KL_div': calibration_scores[0], 'JS_div': calibration_scores[1]}, ignore_index=True)\n",
      "/var/folders/8v/cgqpzdls33l6jdsvj3z4fdyh0000gn/T/ipykernel_64710/506424766.py:25: FutureWarning: The frame.append method is deprecated and will be removed from pandas in a future version. Use pandas.concat instead.\n",
      "  results = results.append({'user': user_id, 'Algorithm': algo, 'KL_div': calibration_scores[0], 'JS_div': calibration_scores[1]}, ignore_index=True)\n"
     ]
    },
    {
     "name": "stdout",
     "output_type": "stream",
     "text": [
      "737\n"
     ]
    },
    {
     "name": "stderr",
     "output_type": "stream",
     "text": [
      "/var/folders/8v/cgqpzdls33l6jdsvj3z4fdyh0000gn/T/ipykernel_64710/506424766.py:25: FutureWarning: The frame.append method is deprecated and will be removed from pandas in a future version. Use pandas.concat instead.\n",
      "  results = results.append({'user': user_id, 'Algorithm': algo, 'KL_div': calibration_scores[0], 'JS_div': calibration_scores[1]}, ignore_index=True)\n",
      "/var/folders/8v/cgqpzdls33l6jdsvj3z4fdyh0000gn/T/ipykernel_64710/506424766.py:25: FutureWarning: The frame.append method is deprecated and will be removed from pandas in a future version. Use pandas.concat instead.\n",
      "  results = results.append({'user': user_id, 'Algorithm': algo, 'KL_div': calibration_scores[0], 'JS_div': calibration_scores[1]}, ignore_index=True)\n"
     ]
    },
    {
     "name": "stdout",
     "output_type": "stream",
     "text": [
      "738\n"
     ]
    },
    {
     "name": "stderr",
     "output_type": "stream",
     "text": [
      "/var/folders/8v/cgqpzdls33l6jdsvj3z4fdyh0000gn/T/ipykernel_64710/506424766.py:25: FutureWarning: The frame.append method is deprecated and will be removed from pandas in a future version. Use pandas.concat instead.\n",
      "  results = results.append({'user': user_id, 'Algorithm': algo, 'KL_div': calibration_scores[0], 'JS_div': calibration_scores[1]}, ignore_index=True)\n",
      "/var/folders/8v/cgqpzdls33l6jdsvj3z4fdyh0000gn/T/ipykernel_64710/506424766.py:25: FutureWarning: The frame.append method is deprecated and will be removed from pandas in a future version. Use pandas.concat instead.\n",
      "  results = results.append({'user': user_id, 'Algorithm': algo, 'KL_div': calibration_scores[0], 'JS_div': calibration_scores[1]}, ignore_index=True)\n"
     ]
    },
    {
     "name": "stdout",
     "output_type": "stream",
     "text": [
      "739\n"
     ]
    },
    {
     "name": "stderr",
     "output_type": "stream",
     "text": [
      "/var/folders/8v/cgqpzdls33l6jdsvj3z4fdyh0000gn/T/ipykernel_64710/506424766.py:25: FutureWarning: The frame.append method is deprecated and will be removed from pandas in a future version. Use pandas.concat instead.\n",
      "  results = results.append({'user': user_id, 'Algorithm': algo, 'KL_div': calibration_scores[0], 'JS_div': calibration_scores[1]}, ignore_index=True)\n",
      "/var/folders/8v/cgqpzdls33l6jdsvj3z4fdyh0000gn/T/ipykernel_64710/506424766.py:25: FutureWarning: The frame.append method is deprecated and will be removed from pandas in a future version. Use pandas.concat instead.\n",
      "  results = results.append({'user': user_id, 'Algorithm': algo, 'KL_div': calibration_scores[0], 'JS_div': calibration_scores[1]}, ignore_index=True)\n"
     ]
    },
    {
     "name": "stdout",
     "output_type": "stream",
     "text": [
      "740\n"
     ]
    },
    {
     "name": "stderr",
     "output_type": "stream",
     "text": [
      "/var/folders/8v/cgqpzdls33l6jdsvj3z4fdyh0000gn/T/ipykernel_64710/506424766.py:25: FutureWarning: The frame.append method is deprecated and will be removed from pandas in a future version. Use pandas.concat instead.\n",
      "  results = results.append({'user': user_id, 'Algorithm': algo, 'KL_div': calibration_scores[0], 'JS_div': calibration_scores[1]}, ignore_index=True)\n",
      "/var/folders/8v/cgqpzdls33l6jdsvj3z4fdyh0000gn/T/ipykernel_64710/506424766.py:25: FutureWarning: The frame.append method is deprecated and will be removed from pandas in a future version. Use pandas.concat instead.\n",
      "  results = results.append({'user': user_id, 'Algorithm': algo, 'KL_div': calibration_scores[0], 'JS_div': calibration_scores[1]}, ignore_index=True)\n"
     ]
    },
    {
     "name": "stdout",
     "output_type": "stream",
     "text": [
      "741\n"
     ]
    },
    {
     "name": "stderr",
     "output_type": "stream",
     "text": [
      "/var/folders/8v/cgqpzdls33l6jdsvj3z4fdyh0000gn/T/ipykernel_64710/506424766.py:25: FutureWarning: The frame.append method is deprecated and will be removed from pandas in a future version. Use pandas.concat instead.\n",
      "  results = results.append({'user': user_id, 'Algorithm': algo, 'KL_div': calibration_scores[0], 'JS_div': calibration_scores[1]}, ignore_index=True)\n",
      "/var/folders/8v/cgqpzdls33l6jdsvj3z4fdyh0000gn/T/ipykernel_64710/506424766.py:25: FutureWarning: The frame.append method is deprecated and will be removed from pandas in a future version. Use pandas.concat instead.\n",
      "  results = results.append({'user': user_id, 'Algorithm': algo, 'KL_div': calibration_scores[0], 'JS_div': calibration_scores[1]}, ignore_index=True)\n"
     ]
    },
    {
     "name": "stdout",
     "output_type": "stream",
     "text": [
      "742\n"
     ]
    },
    {
     "name": "stderr",
     "output_type": "stream",
     "text": [
      "/var/folders/8v/cgqpzdls33l6jdsvj3z4fdyh0000gn/T/ipykernel_64710/506424766.py:25: FutureWarning: The frame.append method is deprecated and will be removed from pandas in a future version. Use pandas.concat instead.\n",
      "  results = results.append({'user': user_id, 'Algorithm': algo, 'KL_div': calibration_scores[0], 'JS_div': calibration_scores[1]}, ignore_index=True)\n",
      "/var/folders/8v/cgqpzdls33l6jdsvj3z4fdyh0000gn/T/ipykernel_64710/506424766.py:25: FutureWarning: The frame.append method is deprecated and will be removed from pandas in a future version. Use pandas.concat instead.\n",
      "  results = results.append({'user': user_id, 'Algorithm': algo, 'KL_div': calibration_scores[0], 'JS_div': calibration_scores[1]}, ignore_index=True)\n"
     ]
    },
    {
     "name": "stdout",
     "output_type": "stream",
     "text": [
      "743\n"
     ]
    },
    {
     "name": "stderr",
     "output_type": "stream",
     "text": [
      "/var/folders/8v/cgqpzdls33l6jdsvj3z4fdyh0000gn/T/ipykernel_64710/506424766.py:25: FutureWarning: The frame.append method is deprecated and will be removed from pandas in a future version. Use pandas.concat instead.\n",
      "  results = results.append({'user': user_id, 'Algorithm': algo, 'KL_div': calibration_scores[0], 'JS_div': calibration_scores[1]}, ignore_index=True)\n",
      "/var/folders/8v/cgqpzdls33l6jdsvj3z4fdyh0000gn/T/ipykernel_64710/506424766.py:25: FutureWarning: The frame.append method is deprecated and will be removed from pandas in a future version. Use pandas.concat instead.\n",
      "  results = results.append({'user': user_id, 'Algorithm': algo, 'KL_div': calibration_scores[0], 'JS_div': calibration_scores[1]}, ignore_index=True)\n"
     ]
    },
    {
     "name": "stdout",
     "output_type": "stream",
     "text": [
      "744\n"
     ]
    },
    {
     "name": "stderr",
     "output_type": "stream",
     "text": [
      "/var/folders/8v/cgqpzdls33l6jdsvj3z4fdyh0000gn/T/ipykernel_64710/506424766.py:25: FutureWarning: The frame.append method is deprecated and will be removed from pandas in a future version. Use pandas.concat instead.\n",
      "  results = results.append({'user': user_id, 'Algorithm': algo, 'KL_div': calibration_scores[0], 'JS_div': calibration_scores[1]}, ignore_index=True)\n",
      "/var/folders/8v/cgqpzdls33l6jdsvj3z4fdyh0000gn/T/ipykernel_64710/506424766.py:25: FutureWarning: The frame.append method is deprecated and will be removed from pandas in a future version. Use pandas.concat instead.\n",
      "  results = results.append({'user': user_id, 'Algorithm': algo, 'KL_div': calibration_scores[0], 'JS_div': calibration_scores[1]}, ignore_index=True)\n"
     ]
    },
    {
     "name": "stdout",
     "output_type": "stream",
     "text": [
      "745\n"
     ]
    },
    {
     "name": "stderr",
     "output_type": "stream",
     "text": [
      "/var/folders/8v/cgqpzdls33l6jdsvj3z4fdyh0000gn/T/ipykernel_64710/506424766.py:25: FutureWarning: The frame.append method is deprecated and will be removed from pandas in a future version. Use pandas.concat instead.\n",
      "  results = results.append({'user': user_id, 'Algorithm': algo, 'KL_div': calibration_scores[0], 'JS_div': calibration_scores[1]}, ignore_index=True)\n",
      "/var/folders/8v/cgqpzdls33l6jdsvj3z4fdyh0000gn/T/ipykernel_64710/506424766.py:25: FutureWarning: The frame.append method is deprecated and will be removed from pandas in a future version. Use pandas.concat instead.\n",
      "  results = results.append({'user': user_id, 'Algorithm': algo, 'KL_div': calibration_scores[0], 'JS_div': calibration_scores[1]}, ignore_index=True)\n"
     ]
    },
    {
     "name": "stdout",
     "output_type": "stream",
     "text": [
      "746\n"
     ]
    },
    {
     "name": "stderr",
     "output_type": "stream",
     "text": [
      "/var/folders/8v/cgqpzdls33l6jdsvj3z4fdyh0000gn/T/ipykernel_64710/506424766.py:25: FutureWarning: The frame.append method is deprecated and will be removed from pandas in a future version. Use pandas.concat instead.\n",
      "  results = results.append({'user': user_id, 'Algorithm': algo, 'KL_div': calibration_scores[0], 'JS_div': calibration_scores[1]}, ignore_index=True)\n",
      "/var/folders/8v/cgqpzdls33l6jdsvj3z4fdyh0000gn/T/ipykernel_64710/506424766.py:25: FutureWarning: The frame.append method is deprecated and will be removed from pandas in a future version. Use pandas.concat instead.\n",
      "  results = results.append({'user': user_id, 'Algorithm': algo, 'KL_div': calibration_scores[0], 'JS_div': calibration_scores[1]}, ignore_index=True)\n"
     ]
    },
    {
     "name": "stdout",
     "output_type": "stream",
     "text": [
      "747\n"
     ]
    },
    {
     "name": "stderr",
     "output_type": "stream",
     "text": [
      "/var/folders/8v/cgqpzdls33l6jdsvj3z4fdyh0000gn/T/ipykernel_64710/506424766.py:25: FutureWarning: The frame.append method is deprecated and will be removed from pandas in a future version. Use pandas.concat instead.\n",
      "  results = results.append({'user': user_id, 'Algorithm': algo, 'KL_div': calibration_scores[0], 'JS_div': calibration_scores[1]}, ignore_index=True)\n",
      "/var/folders/8v/cgqpzdls33l6jdsvj3z4fdyh0000gn/T/ipykernel_64710/506424766.py:25: FutureWarning: The frame.append method is deprecated and will be removed from pandas in a future version. Use pandas.concat instead.\n",
      "  results = results.append({'user': user_id, 'Algorithm': algo, 'KL_div': calibration_scores[0], 'JS_div': calibration_scores[1]}, ignore_index=True)\n"
     ]
    },
    {
     "name": "stdout",
     "output_type": "stream",
     "text": [
      "748\n"
     ]
    },
    {
     "name": "stderr",
     "output_type": "stream",
     "text": [
      "/var/folders/8v/cgqpzdls33l6jdsvj3z4fdyh0000gn/T/ipykernel_64710/506424766.py:25: FutureWarning: The frame.append method is deprecated and will be removed from pandas in a future version. Use pandas.concat instead.\n",
      "  results = results.append({'user': user_id, 'Algorithm': algo, 'KL_div': calibration_scores[0], 'JS_div': calibration_scores[1]}, ignore_index=True)\n",
      "/var/folders/8v/cgqpzdls33l6jdsvj3z4fdyh0000gn/T/ipykernel_64710/506424766.py:25: FutureWarning: The frame.append method is deprecated and will be removed from pandas in a future version. Use pandas.concat instead.\n",
      "  results = results.append({'user': user_id, 'Algorithm': algo, 'KL_div': calibration_scores[0], 'JS_div': calibration_scores[1]}, ignore_index=True)\n"
     ]
    },
    {
     "name": "stdout",
     "output_type": "stream",
     "text": [
      "749\n"
     ]
    },
    {
     "name": "stderr",
     "output_type": "stream",
     "text": [
      "/var/folders/8v/cgqpzdls33l6jdsvj3z4fdyh0000gn/T/ipykernel_64710/506424766.py:25: FutureWarning: The frame.append method is deprecated and will be removed from pandas in a future version. Use pandas.concat instead.\n",
      "  results = results.append({'user': user_id, 'Algorithm': algo, 'KL_div': calibration_scores[0], 'JS_div': calibration_scores[1]}, ignore_index=True)\n",
      "/var/folders/8v/cgqpzdls33l6jdsvj3z4fdyh0000gn/T/ipykernel_64710/506424766.py:25: FutureWarning: The frame.append method is deprecated and will be removed from pandas in a future version. Use pandas.concat instead.\n",
      "  results = results.append({'user': user_id, 'Algorithm': algo, 'KL_div': calibration_scores[0], 'JS_div': calibration_scores[1]}, ignore_index=True)\n"
     ]
    },
    {
     "name": "stdout",
     "output_type": "stream",
     "text": [
      "750\n"
     ]
    },
    {
     "name": "stderr",
     "output_type": "stream",
     "text": [
      "/var/folders/8v/cgqpzdls33l6jdsvj3z4fdyh0000gn/T/ipykernel_64710/506424766.py:25: FutureWarning: The frame.append method is deprecated and will be removed from pandas in a future version. Use pandas.concat instead.\n",
      "  results = results.append({'user': user_id, 'Algorithm': algo, 'KL_div': calibration_scores[0], 'JS_div': calibration_scores[1]}, ignore_index=True)\n",
      "/var/folders/8v/cgqpzdls33l6jdsvj3z4fdyh0000gn/T/ipykernel_64710/506424766.py:25: FutureWarning: The frame.append method is deprecated and will be removed from pandas in a future version. Use pandas.concat instead.\n",
      "  results = results.append({'user': user_id, 'Algorithm': algo, 'KL_div': calibration_scores[0], 'JS_div': calibration_scores[1]}, ignore_index=True)\n"
     ]
    },
    {
     "name": "stdout",
     "output_type": "stream",
     "text": [
      "751\n"
     ]
    },
    {
     "name": "stderr",
     "output_type": "stream",
     "text": [
      "/var/folders/8v/cgqpzdls33l6jdsvj3z4fdyh0000gn/T/ipykernel_64710/506424766.py:25: FutureWarning: The frame.append method is deprecated and will be removed from pandas in a future version. Use pandas.concat instead.\n",
      "  results = results.append({'user': user_id, 'Algorithm': algo, 'KL_div': calibration_scores[0], 'JS_div': calibration_scores[1]}, ignore_index=True)\n",
      "/var/folders/8v/cgqpzdls33l6jdsvj3z4fdyh0000gn/T/ipykernel_64710/506424766.py:25: FutureWarning: The frame.append method is deprecated and will be removed from pandas in a future version. Use pandas.concat instead.\n",
      "  results = results.append({'user': user_id, 'Algorithm': algo, 'KL_div': calibration_scores[0], 'JS_div': calibration_scores[1]}, ignore_index=True)\n"
     ]
    },
    {
     "name": "stdout",
     "output_type": "stream",
     "text": [
      "752\n"
     ]
    },
    {
     "name": "stderr",
     "output_type": "stream",
     "text": [
      "/var/folders/8v/cgqpzdls33l6jdsvj3z4fdyh0000gn/T/ipykernel_64710/506424766.py:25: FutureWarning: The frame.append method is deprecated and will be removed from pandas in a future version. Use pandas.concat instead.\n",
      "  results = results.append({'user': user_id, 'Algorithm': algo, 'KL_div': calibration_scores[0], 'JS_div': calibration_scores[1]}, ignore_index=True)\n",
      "/var/folders/8v/cgqpzdls33l6jdsvj3z4fdyh0000gn/T/ipykernel_64710/506424766.py:25: FutureWarning: The frame.append method is deprecated and will be removed from pandas in a future version. Use pandas.concat instead.\n",
      "  results = results.append({'user': user_id, 'Algorithm': algo, 'KL_div': calibration_scores[0], 'JS_div': calibration_scores[1]}, ignore_index=True)\n"
     ]
    },
    {
     "name": "stdout",
     "output_type": "stream",
     "text": [
      "753\n"
     ]
    },
    {
     "name": "stderr",
     "output_type": "stream",
     "text": [
      "/var/folders/8v/cgqpzdls33l6jdsvj3z4fdyh0000gn/T/ipykernel_64710/506424766.py:25: FutureWarning: The frame.append method is deprecated and will be removed from pandas in a future version. Use pandas.concat instead.\n",
      "  results = results.append({'user': user_id, 'Algorithm': algo, 'KL_div': calibration_scores[0], 'JS_div': calibration_scores[1]}, ignore_index=True)\n",
      "/var/folders/8v/cgqpzdls33l6jdsvj3z4fdyh0000gn/T/ipykernel_64710/506424766.py:25: FutureWarning: The frame.append method is deprecated and will be removed from pandas in a future version. Use pandas.concat instead.\n",
      "  results = results.append({'user': user_id, 'Algorithm': algo, 'KL_div': calibration_scores[0], 'JS_div': calibration_scores[1]}, ignore_index=True)\n"
     ]
    },
    {
     "name": "stdout",
     "output_type": "stream",
     "text": [
      "754\n"
     ]
    },
    {
     "name": "stderr",
     "output_type": "stream",
     "text": [
      "/var/folders/8v/cgqpzdls33l6jdsvj3z4fdyh0000gn/T/ipykernel_64710/506424766.py:25: FutureWarning: The frame.append method is deprecated and will be removed from pandas in a future version. Use pandas.concat instead.\n",
      "  results = results.append({'user': user_id, 'Algorithm': algo, 'KL_div': calibration_scores[0], 'JS_div': calibration_scores[1]}, ignore_index=True)\n",
      "/var/folders/8v/cgqpzdls33l6jdsvj3z4fdyh0000gn/T/ipykernel_64710/506424766.py:25: FutureWarning: The frame.append method is deprecated and will be removed from pandas in a future version. Use pandas.concat instead.\n",
      "  results = results.append({'user': user_id, 'Algorithm': algo, 'KL_div': calibration_scores[0], 'JS_div': calibration_scores[1]}, ignore_index=True)\n"
     ]
    },
    {
     "name": "stdout",
     "output_type": "stream",
     "text": [
      "755\n"
     ]
    },
    {
     "name": "stderr",
     "output_type": "stream",
     "text": [
      "/var/folders/8v/cgqpzdls33l6jdsvj3z4fdyh0000gn/T/ipykernel_64710/506424766.py:25: FutureWarning: The frame.append method is deprecated and will be removed from pandas in a future version. Use pandas.concat instead.\n",
      "  results = results.append({'user': user_id, 'Algorithm': algo, 'KL_div': calibration_scores[0], 'JS_div': calibration_scores[1]}, ignore_index=True)\n",
      "/var/folders/8v/cgqpzdls33l6jdsvj3z4fdyh0000gn/T/ipykernel_64710/506424766.py:25: FutureWarning: The frame.append method is deprecated and will be removed from pandas in a future version. Use pandas.concat instead.\n",
      "  results = results.append({'user': user_id, 'Algorithm': algo, 'KL_div': calibration_scores[0], 'JS_div': calibration_scores[1]}, ignore_index=True)\n"
     ]
    },
    {
     "name": "stdout",
     "output_type": "stream",
     "text": [
      "756\n"
     ]
    },
    {
     "name": "stderr",
     "output_type": "stream",
     "text": [
      "/var/folders/8v/cgqpzdls33l6jdsvj3z4fdyh0000gn/T/ipykernel_64710/506424766.py:25: FutureWarning: The frame.append method is deprecated and will be removed from pandas in a future version. Use pandas.concat instead.\n",
      "  results = results.append({'user': user_id, 'Algorithm': algo, 'KL_div': calibration_scores[0], 'JS_div': calibration_scores[1]}, ignore_index=True)\n",
      "/var/folders/8v/cgqpzdls33l6jdsvj3z4fdyh0000gn/T/ipykernel_64710/506424766.py:25: FutureWarning: The frame.append method is deprecated and will be removed from pandas in a future version. Use pandas.concat instead.\n",
      "  results = results.append({'user': user_id, 'Algorithm': algo, 'KL_div': calibration_scores[0], 'JS_div': calibration_scores[1]}, ignore_index=True)\n"
     ]
    },
    {
     "name": "stdout",
     "output_type": "stream",
     "text": [
      "757\n"
     ]
    },
    {
     "name": "stderr",
     "output_type": "stream",
     "text": [
      "/var/folders/8v/cgqpzdls33l6jdsvj3z4fdyh0000gn/T/ipykernel_64710/506424766.py:25: FutureWarning: The frame.append method is deprecated and will be removed from pandas in a future version. Use pandas.concat instead.\n",
      "  results = results.append({'user': user_id, 'Algorithm': algo, 'KL_div': calibration_scores[0], 'JS_div': calibration_scores[1]}, ignore_index=True)\n",
      "/var/folders/8v/cgqpzdls33l6jdsvj3z4fdyh0000gn/T/ipykernel_64710/506424766.py:25: FutureWarning: The frame.append method is deprecated and will be removed from pandas in a future version. Use pandas.concat instead.\n",
      "  results = results.append({'user': user_id, 'Algorithm': algo, 'KL_div': calibration_scores[0], 'JS_div': calibration_scores[1]}, ignore_index=True)\n"
     ]
    },
    {
     "name": "stdout",
     "output_type": "stream",
     "text": [
      "758\n"
     ]
    },
    {
     "name": "stderr",
     "output_type": "stream",
     "text": [
      "/var/folders/8v/cgqpzdls33l6jdsvj3z4fdyh0000gn/T/ipykernel_64710/506424766.py:25: FutureWarning: The frame.append method is deprecated and will be removed from pandas in a future version. Use pandas.concat instead.\n",
      "  results = results.append({'user': user_id, 'Algorithm': algo, 'KL_div': calibration_scores[0], 'JS_div': calibration_scores[1]}, ignore_index=True)\n",
      "/var/folders/8v/cgqpzdls33l6jdsvj3z4fdyh0000gn/T/ipykernel_64710/506424766.py:25: FutureWarning: The frame.append method is deprecated and will be removed from pandas in a future version. Use pandas.concat instead.\n",
      "  results = results.append({'user': user_id, 'Algorithm': algo, 'KL_div': calibration_scores[0], 'JS_div': calibration_scores[1]}, ignore_index=True)\n"
     ]
    },
    {
     "name": "stdout",
     "output_type": "stream",
     "text": [
      "759\n"
     ]
    },
    {
     "name": "stderr",
     "output_type": "stream",
     "text": [
      "/var/folders/8v/cgqpzdls33l6jdsvj3z4fdyh0000gn/T/ipykernel_64710/506424766.py:25: FutureWarning: The frame.append method is deprecated and will be removed from pandas in a future version. Use pandas.concat instead.\n",
      "  results = results.append({'user': user_id, 'Algorithm': algo, 'KL_div': calibration_scores[0], 'JS_div': calibration_scores[1]}, ignore_index=True)\n",
      "/var/folders/8v/cgqpzdls33l6jdsvj3z4fdyh0000gn/T/ipykernel_64710/506424766.py:25: FutureWarning: The frame.append method is deprecated and will be removed from pandas in a future version. Use pandas.concat instead.\n",
      "  results = results.append({'user': user_id, 'Algorithm': algo, 'KL_div': calibration_scores[0], 'JS_div': calibration_scores[1]}, ignore_index=True)\n"
     ]
    },
    {
     "name": "stdout",
     "output_type": "stream",
     "text": [
      "760\n"
     ]
    },
    {
     "name": "stderr",
     "output_type": "stream",
     "text": [
      "/var/folders/8v/cgqpzdls33l6jdsvj3z4fdyh0000gn/T/ipykernel_64710/506424766.py:25: FutureWarning: The frame.append method is deprecated and will be removed from pandas in a future version. Use pandas.concat instead.\n",
      "  results = results.append({'user': user_id, 'Algorithm': algo, 'KL_div': calibration_scores[0], 'JS_div': calibration_scores[1]}, ignore_index=True)\n",
      "/var/folders/8v/cgqpzdls33l6jdsvj3z4fdyh0000gn/T/ipykernel_64710/506424766.py:25: FutureWarning: The frame.append method is deprecated and will be removed from pandas in a future version. Use pandas.concat instead.\n",
      "  results = results.append({'user': user_id, 'Algorithm': algo, 'KL_div': calibration_scores[0], 'JS_div': calibration_scores[1]}, ignore_index=True)\n"
     ]
    },
    {
     "name": "stdout",
     "output_type": "stream",
     "text": [
      "761\n"
     ]
    },
    {
     "name": "stderr",
     "output_type": "stream",
     "text": [
      "/var/folders/8v/cgqpzdls33l6jdsvj3z4fdyh0000gn/T/ipykernel_64710/506424766.py:25: FutureWarning: The frame.append method is deprecated and will be removed from pandas in a future version. Use pandas.concat instead.\n",
      "  results = results.append({'user': user_id, 'Algorithm': algo, 'KL_div': calibration_scores[0], 'JS_div': calibration_scores[1]}, ignore_index=True)\n",
      "/var/folders/8v/cgqpzdls33l6jdsvj3z4fdyh0000gn/T/ipykernel_64710/506424766.py:25: FutureWarning: The frame.append method is deprecated and will be removed from pandas in a future version. Use pandas.concat instead.\n",
      "  results = results.append({'user': user_id, 'Algorithm': algo, 'KL_div': calibration_scores[0], 'JS_div': calibration_scores[1]}, ignore_index=True)\n"
     ]
    },
    {
     "name": "stdout",
     "output_type": "stream",
     "text": [
      "762\n"
     ]
    },
    {
     "name": "stderr",
     "output_type": "stream",
     "text": [
      "/var/folders/8v/cgqpzdls33l6jdsvj3z4fdyh0000gn/T/ipykernel_64710/506424766.py:25: FutureWarning: The frame.append method is deprecated and will be removed from pandas in a future version. Use pandas.concat instead.\n",
      "  results = results.append({'user': user_id, 'Algorithm': algo, 'KL_div': calibration_scores[0], 'JS_div': calibration_scores[1]}, ignore_index=True)\n",
      "/var/folders/8v/cgqpzdls33l6jdsvj3z4fdyh0000gn/T/ipykernel_64710/506424766.py:25: FutureWarning: The frame.append method is deprecated and will be removed from pandas in a future version. Use pandas.concat instead.\n",
      "  results = results.append({'user': user_id, 'Algorithm': algo, 'KL_div': calibration_scores[0], 'JS_div': calibration_scores[1]}, ignore_index=True)\n"
     ]
    },
    {
     "name": "stdout",
     "output_type": "stream",
     "text": [
      "763\n"
     ]
    },
    {
     "name": "stderr",
     "output_type": "stream",
     "text": [
      "/var/folders/8v/cgqpzdls33l6jdsvj3z4fdyh0000gn/T/ipykernel_64710/506424766.py:25: FutureWarning: The frame.append method is deprecated and will be removed from pandas in a future version. Use pandas.concat instead.\n",
      "  results = results.append({'user': user_id, 'Algorithm': algo, 'KL_div': calibration_scores[0], 'JS_div': calibration_scores[1]}, ignore_index=True)\n",
      "/var/folders/8v/cgqpzdls33l6jdsvj3z4fdyh0000gn/T/ipykernel_64710/506424766.py:25: FutureWarning: The frame.append method is deprecated and will be removed from pandas in a future version. Use pandas.concat instead.\n",
      "  results = results.append({'user': user_id, 'Algorithm': algo, 'KL_div': calibration_scores[0], 'JS_div': calibration_scores[1]}, ignore_index=True)\n"
     ]
    },
    {
     "name": "stdout",
     "output_type": "stream",
     "text": [
      "764\n"
     ]
    },
    {
     "name": "stderr",
     "output_type": "stream",
     "text": [
      "/var/folders/8v/cgqpzdls33l6jdsvj3z4fdyh0000gn/T/ipykernel_64710/506424766.py:25: FutureWarning: The frame.append method is deprecated and will be removed from pandas in a future version. Use pandas.concat instead.\n",
      "  results = results.append({'user': user_id, 'Algorithm': algo, 'KL_div': calibration_scores[0], 'JS_div': calibration_scores[1]}, ignore_index=True)\n",
      "/var/folders/8v/cgqpzdls33l6jdsvj3z4fdyh0000gn/T/ipykernel_64710/506424766.py:25: FutureWarning: The frame.append method is deprecated and will be removed from pandas in a future version. Use pandas.concat instead.\n",
      "  results = results.append({'user': user_id, 'Algorithm': algo, 'KL_div': calibration_scores[0], 'JS_div': calibration_scores[1]}, ignore_index=True)\n"
     ]
    },
    {
     "name": "stdout",
     "output_type": "stream",
     "text": [
      "765\n"
     ]
    },
    {
     "name": "stderr",
     "output_type": "stream",
     "text": [
      "/var/folders/8v/cgqpzdls33l6jdsvj3z4fdyh0000gn/T/ipykernel_64710/506424766.py:25: FutureWarning: The frame.append method is deprecated and will be removed from pandas in a future version. Use pandas.concat instead.\n",
      "  results = results.append({'user': user_id, 'Algorithm': algo, 'KL_div': calibration_scores[0], 'JS_div': calibration_scores[1]}, ignore_index=True)\n",
      "/var/folders/8v/cgqpzdls33l6jdsvj3z4fdyh0000gn/T/ipykernel_64710/506424766.py:25: FutureWarning: The frame.append method is deprecated and will be removed from pandas in a future version. Use pandas.concat instead.\n",
      "  results = results.append({'user': user_id, 'Algorithm': algo, 'KL_div': calibration_scores[0], 'JS_div': calibration_scores[1]}, ignore_index=True)\n"
     ]
    },
    {
     "name": "stdout",
     "output_type": "stream",
     "text": [
      "766\n"
     ]
    },
    {
     "name": "stderr",
     "output_type": "stream",
     "text": [
      "/var/folders/8v/cgqpzdls33l6jdsvj3z4fdyh0000gn/T/ipykernel_64710/506424766.py:25: FutureWarning: The frame.append method is deprecated and will be removed from pandas in a future version. Use pandas.concat instead.\n",
      "  results = results.append({'user': user_id, 'Algorithm': algo, 'KL_div': calibration_scores[0], 'JS_div': calibration_scores[1]}, ignore_index=True)\n",
      "/var/folders/8v/cgqpzdls33l6jdsvj3z4fdyh0000gn/T/ipykernel_64710/506424766.py:25: FutureWarning: The frame.append method is deprecated and will be removed from pandas in a future version. Use pandas.concat instead.\n",
      "  results = results.append({'user': user_id, 'Algorithm': algo, 'KL_div': calibration_scores[0], 'JS_div': calibration_scores[1]}, ignore_index=True)\n"
     ]
    },
    {
     "name": "stdout",
     "output_type": "stream",
     "text": [
      "767\n"
     ]
    },
    {
     "name": "stderr",
     "output_type": "stream",
     "text": [
      "/var/folders/8v/cgqpzdls33l6jdsvj3z4fdyh0000gn/T/ipykernel_64710/506424766.py:25: FutureWarning: The frame.append method is deprecated and will be removed from pandas in a future version. Use pandas.concat instead.\n",
      "  results = results.append({'user': user_id, 'Algorithm': algo, 'KL_div': calibration_scores[0], 'JS_div': calibration_scores[1]}, ignore_index=True)\n",
      "/var/folders/8v/cgqpzdls33l6jdsvj3z4fdyh0000gn/T/ipykernel_64710/506424766.py:25: FutureWarning: The frame.append method is deprecated and will be removed from pandas in a future version. Use pandas.concat instead.\n",
      "  results = results.append({'user': user_id, 'Algorithm': algo, 'KL_div': calibration_scores[0], 'JS_div': calibration_scores[1]}, ignore_index=True)\n"
     ]
    },
    {
     "name": "stdout",
     "output_type": "stream",
     "text": [
      "768\n"
     ]
    },
    {
     "name": "stderr",
     "output_type": "stream",
     "text": [
      "/var/folders/8v/cgqpzdls33l6jdsvj3z4fdyh0000gn/T/ipykernel_64710/506424766.py:25: FutureWarning: The frame.append method is deprecated and will be removed from pandas in a future version. Use pandas.concat instead.\n",
      "  results = results.append({'user': user_id, 'Algorithm': algo, 'KL_div': calibration_scores[0], 'JS_div': calibration_scores[1]}, ignore_index=True)\n",
      "/var/folders/8v/cgqpzdls33l6jdsvj3z4fdyh0000gn/T/ipykernel_64710/506424766.py:25: FutureWarning: The frame.append method is deprecated and will be removed from pandas in a future version. Use pandas.concat instead.\n",
      "  results = results.append({'user': user_id, 'Algorithm': algo, 'KL_div': calibration_scores[0], 'JS_div': calibration_scores[1]}, ignore_index=True)\n"
     ]
    },
    {
     "name": "stdout",
     "output_type": "stream",
     "text": [
      "769\n"
     ]
    },
    {
     "name": "stderr",
     "output_type": "stream",
     "text": [
      "/var/folders/8v/cgqpzdls33l6jdsvj3z4fdyh0000gn/T/ipykernel_64710/506424766.py:25: FutureWarning: The frame.append method is deprecated and will be removed from pandas in a future version. Use pandas.concat instead.\n",
      "  results = results.append({'user': user_id, 'Algorithm': algo, 'KL_div': calibration_scores[0], 'JS_div': calibration_scores[1]}, ignore_index=True)\n",
      "/var/folders/8v/cgqpzdls33l6jdsvj3z4fdyh0000gn/T/ipykernel_64710/506424766.py:25: FutureWarning: The frame.append method is deprecated and will be removed from pandas in a future version. Use pandas.concat instead.\n",
      "  results = results.append({'user': user_id, 'Algorithm': algo, 'KL_div': calibration_scores[0], 'JS_div': calibration_scores[1]}, ignore_index=True)\n"
     ]
    },
    {
     "name": "stdout",
     "output_type": "stream",
     "text": [
      "770\n"
     ]
    },
    {
     "name": "stderr",
     "output_type": "stream",
     "text": [
      "/var/folders/8v/cgqpzdls33l6jdsvj3z4fdyh0000gn/T/ipykernel_64710/506424766.py:25: FutureWarning: The frame.append method is deprecated and will be removed from pandas in a future version. Use pandas.concat instead.\n",
      "  results = results.append({'user': user_id, 'Algorithm': algo, 'KL_div': calibration_scores[0], 'JS_div': calibration_scores[1]}, ignore_index=True)\n",
      "/var/folders/8v/cgqpzdls33l6jdsvj3z4fdyh0000gn/T/ipykernel_64710/506424766.py:25: FutureWarning: The frame.append method is deprecated and will be removed from pandas in a future version. Use pandas.concat instead.\n",
      "  results = results.append({'user': user_id, 'Algorithm': algo, 'KL_div': calibration_scores[0], 'JS_div': calibration_scores[1]}, ignore_index=True)\n"
     ]
    },
    {
     "name": "stdout",
     "output_type": "stream",
     "text": [
      "771\n"
     ]
    },
    {
     "name": "stderr",
     "output_type": "stream",
     "text": [
      "/var/folders/8v/cgqpzdls33l6jdsvj3z4fdyh0000gn/T/ipykernel_64710/506424766.py:25: FutureWarning: The frame.append method is deprecated and will be removed from pandas in a future version. Use pandas.concat instead.\n",
      "  results = results.append({'user': user_id, 'Algorithm': algo, 'KL_div': calibration_scores[0], 'JS_div': calibration_scores[1]}, ignore_index=True)\n",
      "/var/folders/8v/cgqpzdls33l6jdsvj3z4fdyh0000gn/T/ipykernel_64710/506424766.py:25: FutureWarning: The frame.append method is deprecated and will be removed from pandas in a future version. Use pandas.concat instead.\n",
      "  results = results.append({'user': user_id, 'Algorithm': algo, 'KL_div': calibration_scores[0], 'JS_div': calibration_scores[1]}, ignore_index=True)\n"
     ]
    },
    {
     "name": "stdout",
     "output_type": "stream",
     "text": [
      "772\n"
     ]
    },
    {
     "name": "stderr",
     "output_type": "stream",
     "text": [
      "/var/folders/8v/cgqpzdls33l6jdsvj3z4fdyh0000gn/T/ipykernel_64710/506424766.py:25: FutureWarning: The frame.append method is deprecated and will be removed from pandas in a future version. Use pandas.concat instead.\n",
      "  results = results.append({'user': user_id, 'Algorithm': algo, 'KL_div': calibration_scores[0], 'JS_div': calibration_scores[1]}, ignore_index=True)\n",
      "/var/folders/8v/cgqpzdls33l6jdsvj3z4fdyh0000gn/T/ipykernel_64710/506424766.py:25: FutureWarning: The frame.append method is deprecated and will be removed from pandas in a future version. Use pandas.concat instead.\n",
      "  results = results.append({'user': user_id, 'Algorithm': algo, 'KL_div': calibration_scores[0], 'JS_div': calibration_scores[1]}, ignore_index=True)\n"
     ]
    },
    {
     "name": "stdout",
     "output_type": "stream",
     "text": [
      "773\n"
     ]
    },
    {
     "name": "stderr",
     "output_type": "stream",
     "text": [
      "/var/folders/8v/cgqpzdls33l6jdsvj3z4fdyh0000gn/T/ipykernel_64710/506424766.py:25: FutureWarning: The frame.append method is deprecated and will be removed from pandas in a future version. Use pandas.concat instead.\n",
      "  results = results.append({'user': user_id, 'Algorithm': algo, 'KL_div': calibration_scores[0], 'JS_div': calibration_scores[1]}, ignore_index=True)\n",
      "/var/folders/8v/cgqpzdls33l6jdsvj3z4fdyh0000gn/T/ipykernel_64710/506424766.py:25: FutureWarning: The frame.append method is deprecated and will be removed from pandas in a future version. Use pandas.concat instead.\n",
      "  results = results.append({'user': user_id, 'Algorithm': algo, 'KL_div': calibration_scores[0], 'JS_div': calibration_scores[1]}, ignore_index=True)\n"
     ]
    },
    {
     "name": "stdout",
     "output_type": "stream",
     "text": [
      "774\n"
     ]
    },
    {
     "name": "stderr",
     "output_type": "stream",
     "text": [
      "/var/folders/8v/cgqpzdls33l6jdsvj3z4fdyh0000gn/T/ipykernel_64710/506424766.py:25: FutureWarning: The frame.append method is deprecated and will be removed from pandas in a future version. Use pandas.concat instead.\n",
      "  results = results.append({'user': user_id, 'Algorithm': algo, 'KL_div': calibration_scores[0], 'JS_div': calibration_scores[1]}, ignore_index=True)\n",
      "/var/folders/8v/cgqpzdls33l6jdsvj3z4fdyh0000gn/T/ipykernel_64710/506424766.py:25: FutureWarning: The frame.append method is deprecated and will be removed from pandas in a future version. Use pandas.concat instead.\n",
      "  results = results.append({'user': user_id, 'Algorithm': algo, 'KL_div': calibration_scores[0], 'JS_div': calibration_scores[1]}, ignore_index=True)\n"
     ]
    },
    {
     "name": "stdout",
     "output_type": "stream",
     "text": [
      "775\n"
     ]
    },
    {
     "name": "stderr",
     "output_type": "stream",
     "text": [
      "/var/folders/8v/cgqpzdls33l6jdsvj3z4fdyh0000gn/T/ipykernel_64710/506424766.py:25: FutureWarning: The frame.append method is deprecated and will be removed from pandas in a future version. Use pandas.concat instead.\n",
      "  results = results.append({'user': user_id, 'Algorithm': algo, 'KL_div': calibration_scores[0], 'JS_div': calibration_scores[1]}, ignore_index=True)\n",
      "/var/folders/8v/cgqpzdls33l6jdsvj3z4fdyh0000gn/T/ipykernel_64710/506424766.py:25: FutureWarning: The frame.append method is deprecated and will be removed from pandas in a future version. Use pandas.concat instead.\n",
      "  results = results.append({'user': user_id, 'Algorithm': algo, 'KL_div': calibration_scores[0], 'JS_div': calibration_scores[1]}, ignore_index=True)\n"
     ]
    },
    {
     "name": "stdout",
     "output_type": "stream",
     "text": [
      "776\n"
     ]
    },
    {
     "name": "stderr",
     "output_type": "stream",
     "text": [
      "/var/folders/8v/cgqpzdls33l6jdsvj3z4fdyh0000gn/T/ipykernel_64710/506424766.py:25: FutureWarning: The frame.append method is deprecated and will be removed from pandas in a future version. Use pandas.concat instead.\n",
      "  results = results.append({'user': user_id, 'Algorithm': algo, 'KL_div': calibration_scores[0], 'JS_div': calibration_scores[1]}, ignore_index=True)\n",
      "/var/folders/8v/cgqpzdls33l6jdsvj3z4fdyh0000gn/T/ipykernel_64710/506424766.py:25: FutureWarning: The frame.append method is deprecated and will be removed from pandas in a future version. Use pandas.concat instead.\n",
      "  results = results.append({'user': user_id, 'Algorithm': algo, 'KL_div': calibration_scores[0], 'JS_div': calibration_scores[1]}, ignore_index=True)\n"
     ]
    },
    {
     "name": "stdout",
     "output_type": "stream",
     "text": [
      "777\n"
     ]
    },
    {
     "name": "stderr",
     "output_type": "stream",
     "text": [
      "/var/folders/8v/cgqpzdls33l6jdsvj3z4fdyh0000gn/T/ipykernel_64710/506424766.py:25: FutureWarning: The frame.append method is deprecated and will be removed from pandas in a future version. Use pandas.concat instead.\n",
      "  results = results.append({'user': user_id, 'Algorithm': algo, 'KL_div': calibration_scores[0], 'JS_div': calibration_scores[1]}, ignore_index=True)\n",
      "/var/folders/8v/cgqpzdls33l6jdsvj3z4fdyh0000gn/T/ipykernel_64710/506424766.py:25: FutureWarning: The frame.append method is deprecated and will be removed from pandas in a future version. Use pandas.concat instead.\n",
      "  results = results.append({'user': user_id, 'Algorithm': algo, 'KL_div': calibration_scores[0], 'JS_div': calibration_scores[1]}, ignore_index=True)\n"
     ]
    },
    {
     "name": "stdout",
     "output_type": "stream",
     "text": [
      "778\n"
     ]
    },
    {
     "name": "stderr",
     "output_type": "stream",
     "text": [
      "/var/folders/8v/cgqpzdls33l6jdsvj3z4fdyh0000gn/T/ipykernel_64710/506424766.py:25: FutureWarning: The frame.append method is deprecated and will be removed from pandas in a future version. Use pandas.concat instead.\n",
      "  results = results.append({'user': user_id, 'Algorithm': algo, 'KL_div': calibration_scores[0], 'JS_div': calibration_scores[1]}, ignore_index=True)\n",
      "/var/folders/8v/cgqpzdls33l6jdsvj3z4fdyh0000gn/T/ipykernel_64710/506424766.py:25: FutureWarning: The frame.append method is deprecated and will be removed from pandas in a future version. Use pandas.concat instead.\n",
      "  results = results.append({'user': user_id, 'Algorithm': algo, 'KL_div': calibration_scores[0], 'JS_div': calibration_scores[1]}, ignore_index=True)\n"
     ]
    },
    {
     "name": "stdout",
     "output_type": "stream",
     "text": [
      "779\n"
     ]
    },
    {
     "name": "stderr",
     "output_type": "stream",
     "text": [
      "/var/folders/8v/cgqpzdls33l6jdsvj3z4fdyh0000gn/T/ipykernel_64710/506424766.py:25: FutureWarning: The frame.append method is deprecated and will be removed from pandas in a future version. Use pandas.concat instead.\n",
      "  results = results.append({'user': user_id, 'Algorithm': algo, 'KL_div': calibration_scores[0], 'JS_div': calibration_scores[1]}, ignore_index=True)\n",
      "/var/folders/8v/cgqpzdls33l6jdsvj3z4fdyh0000gn/T/ipykernel_64710/506424766.py:25: FutureWarning: The frame.append method is deprecated and will be removed from pandas in a future version. Use pandas.concat instead.\n",
      "  results = results.append({'user': user_id, 'Algorithm': algo, 'KL_div': calibration_scores[0], 'JS_div': calibration_scores[1]}, ignore_index=True)\n"
     ]
    },
    {
     "name": "stdout",
     "output_type": "stream",
     "text": [
      "780\n"
     ]
    },
    {
     "name": "stderr",
     "output_type": "stream",
     "text": [
      "/var/folders/8v/cgqpzdls33l6jdsvj3z4fdyh0000gn/T/ipykernel_64710/506424766.py:25: FutureWarning: The frame.append method is deprecated and will be removed from pandas in a future version. Use pandas.concat instead.\n",
      "  results = results.append({'user': user_id, 'Algorithm': algo, 'KL_div': calibration_scores[0], 'JS_div': calibration_scores[1]}, ignore_index=True)\n",
      "/var/folders/8v/cgqpzdls33l6jdsvj3z4fdyh0000gn/T/ipykernel_64710/506424766.py:25: FutureWarning: The frame.append method is deprecated and will be removed from pandas in a future version. Use pandas.concat instead.\n",
      "  results = results.append({'user': user_id, 'Algorithm': algo, 'KL_div': calibration_scores[0], 'JS_div': calibration_scores[1]}, ignore_index=True)\n"
     ]
    },
    {
     "name": "stdout",
     "output_type": "stream",
     "text": [
      "781\n"
     ]
    },
    {
     "name": "stderr",
     "output_type": "stream",
     "text": [
      "/var/folders/8v/cgqpzdls33l6jdsvj3z4fdyh0000gn/T/ipykernel_64710/506424766.py:25: FutureWarning: The frame.append method is deprecated and will be removed from pandas in a future version. Use pandas.concat instead.\n",
      "  results = results.append({'user': user_id, 'Algorithm': algo, 'KL_div': calibration_scores[0], 'JS_div': calibration_scores[1]}, ignore_index=True)\n",
      "/var/folders/8v/cgqpzdls33l6jdsvj3z4fdyh0000gn/T/ipykernel_64710/506424766.py:25: FutureWarning: The frame.append method is deprecated and will be removed from pandas in a future version. Use pandas.concat instead.\n",
      "  results = results.append({'user': user_id, 'Algorithm': algo, 'KL_div': calibration_scores[0], 'JS_div': calibration_scores[1]}, ignore_index=True)\n"
     ]
    },
    {
     "name": "stdout",
     "output_type": "stream",
     "text": [
      "782\n"
     ]
    },
    {
     "name": "stderr",
     "output_type": "stream",
     "text": [
      "/var/folders/8v/cgqpzdls33l6jdsvj3z4fdyh0000gn/T/ipykernel_64710/506424766.py:25: FutureWarning: The frame.append method is deprecated and will be removed from pandas in a future version. Use pandas.concat instead.\n",
      "  results = results.append({'user': user_id, 'Algorithm': algo, 'KL_div': calibration_scores[0], 'JS_div': calibration_scores[1]}, ignore_index=True)\n",
      "/var/folders/8v/cgqpzdls33l6jdsvj3z4fdyh0000gn/T/ipykernel_64710/506424766.py:25: FutureWarning: The frame.append method is deprecated and will be removed from pandas in a future version. Use pandas.concat instead.\n",
      "  results = results.append({'user': user_id, 'Algorithm': algo, 'KL_div': calibration_scores[0], 'JS_div': calibration_scores[1]}, ignore_index=True)\n"
     ]
    },
    {
     "name": "stdout",
     "output_type": "stream",
     "text": [
      "783\n"
     ]
    },
    {
     "name": "stderr",
     "output_type": "stream",
     "text": [
      "/var/folders/8v/cgqpzdls33l6jdsvj3z4fdyh0000gn/T/ipykernel_64710/506424766.py:25: FutureWarning: The frame.append method is deprecated and will be removed from pandas in a future version. Use pandas.concat instead.\n",
      "  results = results.append({'user': user_id, 'Algorithm': algo, 'KL_div': calibration_scores[0], 'JS_div': calibration_scores[1]}, ignore_index=True)\n",
      "/var/folders/8v/cgqpzdls33l6jdsvj3z4fdyh0000gn/T/ipykernel_64710/506424766.py:25: FutureWarning: The frame.append method is deprecated and will be removed from pandas in a future version. Use pandas.concat instead.\n",
      "  results = results.append({'user': user_id, 'Algorithm': algo, 'KL_div': calibration_scores[0], 'JS_div': calibration_scores[1]}, ignore_index=True)\n"
     ]
    },
    {
     "name": "stdout",
     "output_type": "stream",
     "text": [
      "784\n"
     ]
    },
    {
     "name": "stderr",
     "output_type": "stream",
     "text": [
      "/var/folders/8v/cgqpzdls33l6jdsvj3z4fdyh0000gn/T/ipykernel_64710/506424766.py:25: FutureWarning: The frame.append method is deprecated and will be removed from pandas in a future version. Use pandas.concat instead.\n",
      "  results = results.append({'user': user_id, 'Algorithm': algo, 'KL_div': calibration_scores[0], 'JS_div': calibration_scores[1]}, ignore_index=True)\n",
      "/var/folders/8v/cgqpzdls33l6jdsvj3z4fdyh0000gn/T/ipykernel_64710/506424766.py:25: FutureWarning: The frame.append method is deprecated and will be removed from pandas in a future version. Use pandas.concat instead.\n",
      "  results = results.append({'user': user_id, 'Algorithm': algo, 'KL_div': calibration_scores[0], 'JS_div': calibration_scores[1]}, ignore_index=True)\n"
     ]
    },
    {
     "name": "stdout",
     "output_type": "stream",
     "text": [
      "785\n"
     ]
    },
    {
     "name": "stderr",
     "output_type": "stream",
     "text": [
      "/var/folders/8v/cgqpzdls33l6jdsvj3z4fdyh0000gn/T/ipykernel_64710/506424766.py:25: FutureWarning: The frame.append method is deprecated and will be removed from pandas in a future version. Use pandas.concat instead.\n",
      "  results = results.append({'user': user_id, 'Algorithm': algo, 'KL_div': calibration_scores[0], 'JS_div': calibration_scores[1]}, ignore_index=True)\n",
      "/var/folders/8v/cgqpzdls33l6jdsvj3z4fdyh0000gn/T/ipykernel_64710/506424766.py:25: FutureWarning: The frame.append method is deprecated and will be removed from pandas in a future version. Use pandas.concat instead.\n",
      "  results = results.append({'user': user_id, 'Algorithm': algo, 'KL_div': calibration_scores[0], 'JS_div': calibration_scores[1]}, ignore_index=True)\n"
     ]
    },
    {
     "name": "stdout",
     "output_type": "stream",
     "text": [
      "786\n"
     ]
    },
    {
     "name": "stderr",
     "output_type": "stream",
     "text": [
      "/var/folders/8v/cgqpzdls33l6jdsvj3z4fdyh0000gn/T/ipykernel_64710/506424766.py:25: FutureWarning: The frame.append method is deprecated and will be removed from pandas in a future version. Use pandas.concat instead.\n",
      "  results = results.append({'user': user_id, 'Algorithm': algo, 'KL_div': calibration_scores[0], 'JS_div': calibration_scores[1]}, ignore_index=True)\n",
      "/var/folders/8v/cgqpzdls33l6jdsvj3z4fdyh0000gn/T/ipykernel_64710/506424766.py:25: FutureWarning: The frame.append method is deprecated and will be removed from pandas in a future version. Use pandas.concat instead.\n",
      "  results = results.append({'user': user_id, 'Algorithm': algo, 'KL_div': calibration_scores[0], 'JS_div': calibration_scores[1]}, ignore_index=True)\n"
     ]
    },
    {
     "name": "stdout",
     "output_type": "stream",
     "text": [
      "787\n"
     ]
    },
    {
     "name": "stderr",
     "output_type": "stream",
     "text": [
      "/var/folders/8v/cgqpzdls33l6jdsvj3z4fdyh0000gn/T/ipykernel_64710/506424766.py:25: FutureWarning: The frame.append method is deprecated and will be removed from pandas in a future version. Use pandas.concat instead.\n",
      "  results = results.append({'user': user_id, 'Algorithm': algo, 'KL_div': calibration_scores[0], 'JS_div': calibration_scores[1]}, ignore_index=True)\n",
      "/var/folders/8v/cgqpzdls33l6jdsvj3z4fdyh0000gn/T/ipykernel_64710/506424766.py:25: FutureWarning: The frame.append method is deprecated and will be removed from pandas in a future version. Use pandas.concat instead.\n",
      "  results = results.append({'user': user_id, 'Algorithm': algo, 'KL_div': calibration_scores[0], 'JS_div': calibration_scores[1]}, ignore_index=True)\n"
     ]
    },
    {
     "name": "stdout",
     "output_type": "stream",
     "text": [
      "788\n"
     ]
    },
    {
     "name": "stderr",
     "output_type": "stream",
     "text": [
      "/var/folders/8v/cgqpzdls33l6jdsvj3z4fdyh0000gn/T/ipykernel_64710/506424766.py:25: FutureWarning: The frame.append method is deprecated and will be removed from pandas in a future version. Use pandas.concat instead.\n",
      "  results = results.append({'user': user_id, 'Algorithm': algo, 'KL_div': calibration_scores[0], 'JS_div': calibration_scores[1]}, ignore_index=True)\n",
      "/var/folders/8v/cgqpzdls33l6jdsvj3z4fdyh0000gn/T/ipykernel_64710/506424766.py:25: FutureWarning: The frame.append method is deprecated and will be removed from pandas in a future version. Use pandas.concat instead.\n",
      "  results = results.append({'user': user_id, 'Algorithm': algo, 'KL_div': calibration_scores[0], 'JS_div': calibration_scores[1]}, ignore_index=True)\n"
     ]
    },
    {
     "name": "stdout",
     "output_type": "stream",
     "text": [
      "789\n"
     ]
    },
    {
     "name": "stderr",
     "output_type": "stream",
     "text": [
      "/var/folders/8v/cgqpzdls33l6jdsvj3z4fdyh0000gn/T/ipykernel_64710/506424766.py:25: FutureWarning: The frame.append method is deprecated and will be removed from pandas in a future version. Use pandas.concat instead.\n",
      "  results = results.append({'user': user_id, 'Algorithm': algo, 'KL_div': calibration_scores[0], 'JS_div': calibration_scores[1]}, ignore_index=True)\n",
      "/var/folders/8v/cgqpzdls33l6jdsvj3z4fdyh0000gn/T/ipykernel_64710/506424766.py:25: FutureWarning: The frame.append method is deprecated and will be removed from pandas in a future version. Use pandas.concat instead.\n",
      "  results = results.append({'user': user_id, 'Algorithm': algo, 'KL_div': calibration_scores[0], 'JS_div': calibration_scores[1]}, ignore_index=True)\n"
     ]
    },
    {
     "name": "stdout",
     "output_type": "stream",
     "text": [
      "790\n"
     ]
    },
    {
     "name": "stderr",
     "output_type": "stream",
     "text": [
      "/var/folders/8v/cgqpzdls33l6jdsvj3z4fdyh0000gn/T/ipykernel_64710/506424766.py:25: FutureWarning: The frame.append method is deprecated and will be removed from pandas in a future version. Use pandas.concat instead.\n",
      "  results = results.append({'user': user_id, 'Algorithm': algo, 'KL_div': calibration_scores[0], 'JS_div': calibration_scores[1]}, ignore_index=True)\n",
      "/var/folders/8v/cgqpzdls33l6jdsvj3z4fdyh0000gn/T/ipykernel_64710/506424766.py:25: FutureWarning: The frame.append method is deprecated and will be removed from pandas in a future version. Use pandas.concat instead.\n",
      "  results = results.append({'user': user_id, 'Algorithm': algo, 'KL_div': calibration_scores[0], 'JS_div': calibration_scores[1]}, ignore_index=True)\n"
     ]
    },
    {
     "name": "stdout",
     "output_type": "stream",
     "text": [
      "791\n"
     ]
    },
    {
     "name": "stderr",
     "output_type": "stream",
     "text": [
      "/var/folders/8v/cgqpzdls33l6jdsvj3z4fdyh0000gn/T/ipykernel_64710/506424766.py:25: FutureWarning: The frame.append method is deprecated and will be removed from pandas in a future version. Use pandas.concat instead.\n",
      "  results = results.append({'user': user_id, 'Algorithm': algo, 'KL_div': calibration_scores[0], 'JS_div': calibration_scores[1]}, ignore_index=True)\n",
      "/var/folders/8v/cgqpzdls33l6jdsvj3z4fdyh0000gn/T/ipykernel_64710/506424766.py:25: FutureWarning: The frame.append method is deprecated and will be removed from pandas in a future version. Use pandas.concat instead.\n",
      "  results = results.append({'user': user_id, 'Algorithm': algo, 'KL_div': calibration_scores[0], 'JS_div': calibration_scores[1]}, ignore_index=True)\n"
     ]
    },
    {
     "name": "stdout",
     "output_type": "stream",
     "text": [
      "792\n"
     ]
    },
    {
     "name": "stderr",
     "output_type": "stream",
     "text": [
      "/var/folders/8v/cgqpzdls33l6jdsvj3z4fdyh0000gn/T/ipykernel_64710/506424766.py:25: FutureWarning: The frame.append method is deprecated and will be removed from pandas in a future version. Use pandas.concat instead.\n",
      "  results = results.append({'user': user_id, 'Algorithm': algo, 'KL_div': calibration_scores[0], 'JS_div': calibration_scores[1]}, ignore_index=True)\n",
      "/var/folders/8v/cgqpzdls33l6jdsvj3z4fdyh0000gn/T/ipykernel_64710/506424766.py:25: FutureWarning: The frame.append method is deprecated and will be removed from pandas in a future version. Use pandas.concat instead.\n",
      "  results = results.append({'user': user_id, 'Algorithm': algo, 'KL_div': calibration_scores[0], 'JS_div': calibration_scores[1]}, ignore_index=True)\n"
     ]
    },
    {
     "name": "stdout",
     "output_type": "stream",
     "text": [
      "793\n"
     ]
    },
    {
     "name": "stderr",
     "output_type": "stream",
     "text": [
      "/var/folders/8v/cgqpzdls33l6jdsvj3z4fdyh0000gn/T/ipykernel_64710/506424766.py:25: FutureWarning: The frame.append method is deprecated and will be removed from pandas in a future version. Use pandas.concat instead.\n",
      "  results = results.append({'user': user_id, 'Algorithm': algo, 'KL_div': calibration_scores[0], 'JS_div': calibration_scores[1]}, ignore_index=True)\n",
      "/var/folders/8v/cgqpzdls33l6jdsvj3z4fdyh0000gn/T/ipykernel_64710/506424766.py:25: FutureWarning: The frame.append method is deprecated and will be removed from pandas in a future version. Use pandas.concat instead.\n",
      "  results = results.append({'user': user_id, 'Algorithm': algo, 'KL_div': calibration_scores[0], 'JS_div': calibration_scores[1]}, ignore_index=True)\n"
     ]
    },
    {
     "name": "stdout",
     "output_type": "stream",
     "text": [
      "794\n"
     ]
    },
    {
     "name": "stderr",
     "output_type": "stream",
     "text": [
      "/var/folders/8v/cgqpzdls33l6jdsvj3z4fdyh0000gn/T/ipykernel_64710/506424766.py:25: FutureWarning: The frame.append method is deprecated and will be removed from pandas in a future version. Use pandas.concat instead.\n",
      "  results = results.append({'user': user_id, 'Algorithm': algo, 'KL_div': calibration_scores[0], 'JS_div': calibration_scores[1]}, ignore_index=True)\n",
      "/var/folders/8v/cgqpzdls33l6jdsvj3z4fdyh0000gn/T/ipykernel_64710/506424766.py:25: FutureWarning: The frame.append method is deprecated and will be removed from pandas in a future version. Use pandas.concat instead.\n",
      "  results = results.append({'user': user_id, 'Algorithm': algo, 'KL_div': calibration_scores[0], 'JS_div': calibration_scores[1]}, ignore_index=True)\n"
     ]
    },
    {
     "name": "stdout",
     "output_type": "stream",
     "text": [
      "795\n"
     ]
    },
    {
     "name": "stderr",
     "output_type": "stream",
     "text": [
      "/var/folders/8v/cgqpzdls33l6jdsvj3z4fdyh0000gn/T/ipykernel_64710/506424766.py:25: FutureWarning: The frame.append method is deprecated and will be removed from pandas in a future version. Use pandas.concat instead.\n",
      "  results = results.append({'user': user_id, 'Algorithm': algo, 'KL_div': calibration_scores[0], 'JS_div': calibration_scores[1]}, ignore_index=True)\n",
      "/var/folders/8v/cgqpzdls33l6jdsvj3z4fdyh0000gn/T/ipykernel_64710/506424766.py:25: FutureWarning: The frame.append method is deprecated and will be removed from pandas in a future version. Use pandas.concat instead.\n",
      "  results = results.append({'user': user_id, 'Algorithm': algo, 'KL_div': calibration_scores[0], 'JS_div': calibration_scores[1]}, ignore_index=True)\n"
     ]
    },
    {
     "name": "stdout",
     "output_type": "stream",
     "text": [
      "796\n"
     ]
    },
    {
     "name": "stderr",
     "output_type": "stream",
     "text": [
      "/var/folders/8v/cgqpzdls33l6jdsvj3z4fdyh0000gn/T/ipykernel_64710/506424766.py:25: FutureWarning: The frame.append method is deprecated and will be removed from pandas in a future version. Use pandas.concat instead.\n",
      "  results = results.append({'user': user_id, 'Algorithm': algo, 'KL_div': calibration_scores[0], 'JS_div': calibration_scores[1]}, ignore_index=True)\n",
      "/var/folders/8v/cgqpzdls33l6jdsvj3z4fdyh0000gn/T/ipykernel_64710/506424766.py:25: FutureWarning: The frame.append method is deprecated and will be removed from pandas in a future version. Use pandas.concat instead.\n",
      "  results = results.append({'user': user_id, 'Algorithm': algo, 'KL_div': calibration_scores[0], 'JS_div': calibration_scores[1]}, ignore_index=True)\n"
     ]
    },
    {
     "name": "stdout",
     "output_type": "stream",
     "text": [
      "797\n"
     ]
    },
    {
     "name": "stderr",
     "output_type": "stream",
     "text": [
      "/var/folders/8v/cgqpzdls33l6jdsvj3z4fdyh0000gn/T/ipykernel_64710/506424766.py:25: FutureWarning: The frame.append method is deprecated and will be removed from pandas in a future version. Use pandas.concat instead.\n",
      "  results = results.append({'user': user_id, 'Algorithm': algo, 'KL_div': calibration_scores[0], 'JS_div': calibration_scores[1]}, ignore_index=True)\n",
      "/var/folders/8v/cgqpzdls33l6jdsvj3z4fdyh0000gn/T/ipykernel_64710/506424766.py:25: FutureWarning: The frame.append method is deprecated and will be removed from pandas in a future version. Use pandas.concat instead.\n",
      "  results = results.append({'user': user_id, 'Algorithm': algo, 'KL_div': calibration_scores[0], 'JS_div': calibration_scores[1]}, ignore_index=True)\n"
     ]
    },
    {
     "name": "stdout",
     "output_type": "stream",
     "text": [
      "798\n"
     ]
    },
    {
     "name": "stderr",
     "output_type": "stream",
     "text": [
      "/var/folders/8v/cgqpzdls33l6jdsvj3z4fdyh0000gn/T/ipykernel_64710/506424766.py:25: FutureWarning: The frame.append method is deprecated and will be removed from pandas in a future version. Use pandas.concat instead.\n",
      "  results = results.append({'user': user_id, 'Algorithm': algo, 'KL_div': calibration_scores[0], 'JS_div': calibration_scores[1]}, ignore_index=True)\n",
      "/var/folders/8v/cgqpzdls33l6jdsvj3z4fdyh0000gn/T/ipykernel_64710/506424766.py:25: FutureWarning: The frame.append method is deprecated and will be removed from pandas in a future version. Use pandas.concat instead.\n",
      "  results = results.append({'user': user_id, 'Algorithm': algo, 'KL_div': calibration_scores[0], 'JS_div': calibration_scores[1]}, ignore_index=True)\n"
     ]
    },
    {
     "name": "stdout",
     "output_type": "stream",
     "text": [
      "799\n"
     ]
    },
    {
     "name": "stderr",
     "output_type": "stream",
     "text": [
      "/var/folders/8v/cgqpzdls33l6jdsvj3z4fdyh0000gn/T/ipykernel_64710/506424766.py:25: FutureWarning: The frame.append method is deprecated and will be removed from pandas in a future version. Use pandas.concat instead.\n",
      "  results = results.append({'user': user_id, 'Algorithm': algo, 'KL_div': calibration_scores[0], 'JS_div': calibration_scores[1]}, ignore_index=True)\n",
      "/var/folders/8v/cgqpzdls33l6jdsvj3z4fdyh0000gn/T/ipykernel_64710/506424766.py:25: FutureWarning: The frame.append method is deprecated and will be removed from pandas in a future version. Use pandas.concat instead.\n",
      "  results = results.append({'user': user_id, 'Algorithm': algo, 'KL_div': calibration_scores[0], 'JS_div': calibration_scores[1]}, ignore_index=True)\n"
     ]
    },
    {
     "name": "stdout",
     "output_type": "stream",
     "text": [
      "800\n"
     ]
    },
    {
     "name": "stderr",
     "output_type": "stream",
     "text": [
      "/var/folders/8v/cgqpzdls33l6jdsvj3z4fdyh0000gn/T/ipykernel_64710/506424766.py:25: FutureWarning: The frame.append method is deprecated and will be removed from pandas in a future version. Use pandas.concat instead.\n",
      "  results = results.append({'user': user_id, 'Algorithm': algo, 'KL_div': calibration_scores[0], 'JS_div': calibration_scores[1]}, ignore_index=True)\n",
      "/var/folders/8v/cgqpzdls33l6jdsvj3z4fdyh0000gn/T/ipykernel_64710/506424766.py:25: FutureWarning: The frame.append method is deprecated and will be removed from pandas in a future version. Use pandas.concat instead.\n",
      "  results = results.append({'user': user_id, 'Algorithm': algo, 'KL_div': calibration_scores[0], 'JS_div': calibration_scores[1]}, ignore_index=True)\n"
     ]
    },
    {
     "name": "stdout",
     "output_type": "stream",
     "text": [
      "801\n"
     ]
    },
    {
     "name": "stderr",
     "output_type": "stream",
     "text": [
      "/var/folders/8v/cgqpzdls33l6jdsvj3z4fdyh0000gn/T/ipykernel_64710/506424766.py:25: FutureWarning: The frame.append method is deprecated and will be removed from pandas in a future version. Use pandas.concat instead.\n",
      "  results = results.append({'user': user_id, 'Algorithm': algo, 'KL_div': calibration_scores[0], 'JS_div': calibration_scores[1]}, ignore_index=True)\n",
      "/var/folders/8v/cgqpzdls33l6jdsvj3z4fdyh0000gn/T/ipykernel_64710/506424766.py:25: FutureWarning: The frame.append method is deprecated and will be removed from pandas in a future version. Use pandas.concat instead.\n",
      "  results = results.append({'user': user_id, 'Algorithm': algo, 'KL_div': calibration_scores[0], 'JS_div': calibration_scores[1]}, ignore_index=True)\n"
     ]
    },
    {
     "name": "stdout",
     "output_type": "stream",
     "text": [
      "802\n"
     ]
    },
    {
     "name": "stderr",
     "output_type": "stream",
     "text": [
      "/var/folders/8v/cgqpzdls33l6jdsvj3z4fdyh0000gn/T/ipykernel_64710/506424766.py:25: FutureWarning: The frame.append method is deprecated and will be removed from pandas in a future version. Use pandas.concat instead.\n",
      "  results = results.append({'user': user_id, 'Algorithm': algo, 'KL_div': calibration_scores[0], 'JS_div': calibration_scores[1]}, ignore_index=True)\n",
      "/var/folders/8v/cgqpzdls33l6jdsvj3z4fdyh0000gn/T/ipykernel_64710/506424766.py:25: FutureWarning: The frame.append method is deprecated and will be removed from pandas in a future version. Use pandas.concat instead.\n",
      "  results = results.append({'user': user_id, 'Algorithm': algo, 'KL_div': calibration_scores[0], 'JS_div': calibration_scores[1]}, ignore_index=True)\n"
     ]
    },
    {
     "name": "stdout",
     "output_type": "stream",
     "text": [
      "803\n"
     ]
    },
    {
     "name": "stderr",
     "output_type": "stream",
     "text": [
      "/var/folders/8v/cgqpzdls33l6jdsvj3z4fdyh0000gn/T/ipykernel_64710/506424766.py:25: FutureWarning: The frame.append method is deprecated and will be removed from pandas in a future version. Use pandas.concat instead.\n",
      "  results = results.append({'user': user_id, 'Algorithm': algo, 'KL_div': calibration_scores[0], 'JS_div': calibration_scores[1]}, ignore_index=True)\n",
      "/var/folders/8v/cgqpzdls33l6jdsvj3z4fdyh0000gn/T/ipykernel_64710/506424766.py:25: FutureWarning: The frame.append method is deprecated and will be removed from pandas in a future version. Use pandas.concat instead.\n",
      "  results = results.append({'user': user_id, 'Algorithm': algo, 'KL_div': calibration_scores[0], 'JS_div': calibration_scores[1]}, ignore_index=True)\n"
     ]
    },
    {
     "name": "stdout",
     "output_type": "stream",
     "text": [
      "804\n"
     ]
    },
    {
     "name": "stderr",
     "output_type": "stream",
     "text": [
      "/var/folders/8v/cgqpzdls33l6jdsvj3z4fdyh0000gn/T/ipykernel_64710/506424766.py:25: FutureWarning: The frame.append method is deprecated and will be removed from pandas in a future version. Use pandas.concat instead.\n",
      "  results = results.append({'user': user_id, 'Algorithm': algo, 'KL_div': calibration_scores[0], 'JS_div': calibration_scores[1]}, ignore_index=True)\n",
      "/var/folders/8v/cgqpzdls33l6jdsvj3z4fdyh0000gn/T/ipykernel_64710/506424766.py:25: FutureWarning: The frame.append method is deprecated and will be removed from pandas in a future version. Use pandas.concat instead.\n",
      "  results = results.append({'user': user_id, 'Algorithm': algo, 'KL_div': calibration_scores[0], 'JS_div': calibration_scores[1]}, ignore_index=True)\n"
     ]
    },
    {
     "name": "stdout",
     "output_type": "stream",
     "text": [
      "805\n"
     ]
    },
    {
     "name": "stderr",
     "output_type": "stream",
     "text": [
      "/var/folders/8v/cgqpzdls33l6jdsvj3z4fdyh0000gn/T/ipykernel_64710/506424766.py:25: FutureWarning: The frame.append method is deprecated and will be removed from pandas in a future version. Use pandas.concat instead.\n",
      "  results = results.append({'user': user_id, 'Algorithm': algo, 'KL_div': calibration_scores[0], 'JS_div': calibration_scores[1]}, ignore_index=True)\n",
      "/var/folders/8v/cgqpzdls33l6jdsvj3z4fdyh0000gn/T/ipykernel_64710/506424766.py:25: FutureWarning: The frame.append method is deprecated and will be removed from pandas in a future version. Use pandas.concat instead.\n",
      "  results = results.append({'user': user_id, 'Algorithm': algo, 'KL_div': calibration_scores[0], 'JS_div': calibration_scores[1]}, ignore_index=True)\n"
     ]
    },
    {
     "name": "stdout",
     "output_type": "stream",
     "text": [
      "806\n"
     ]
    },
    {
     "name": "stderr",
     "output_type": "stream",
     "text": [
      "/var/folders/8v/cgqpzdls33l6jdsvj3z4fdyh0000gn/T/ipykernel_64710/506424766.py:25: FutureWarning: The frame.append method is deprecated and will be removed from pandas in a future version. Use pandas.concat instead.\n",
      "  results = results.append({'user': user_id, 'Algorithm': algo, 'KL_div': calibration_scores[0], 'JS_div': calibration_scores[1]}, ignore_index=True)\n",
      "/var/folders/8v/cgqpzdls33l6jdsvj3z4fdyh0000gn/T/ipykernel_64710/506424766.py:25: FutureWarning: The frame.append method is deprecated and will be removed from pandas in a future version. Use pandas.concat instead.\n",
      "  results = results.append({'user': user_id, 'Algorithm': algo, 'KL_div': calibration_scores[0], 'JS_div': calibration_scores[1]}, ignore_index=True)\n"
     ]
    },
    {
     "name": "stdout",
     "output_type": "stream",
     "text": [
      "807\n"
     ]
    },
    {
     "name": "stderr",
     "output_type": "stream",
     "text": [
      "/var/folders/8v/cgqpzdls33l6jdsvj3z4fdyh0000gn/T/ipykernel_64710/506424766.py:25: FutureWarning: The frame.append method is deprecated and will be removed from pandas in a future version. Use pandas.concat instead.\n",
      "  results = results.append({'user': user_id, 'Algorithm': algo, 'KL_div': calibration_scores[0], 'JS_div': calibration_scores[1]}, ignore_index=True)\n",
      "/var/folders/8v/cgqpzdls33l6jdsvj3z4fdyh0000gn/T/ipykernel_64710/506424766.py:25: FutureWarning: The frame.append method is deprecated and will be removed from pandas in a future version. Use pandas.concat instead.\n",
      "  results = results.append({'user': user_id, 'Algorithm': algo, 'KL_div': calibration_scores[0], 'JS_div': calibration_scores[1]}, ignore_index=True)\n"
     ]
    },
    {
     "name": "stdout",
     "output_type": "stream",
     "text": [
      "808\n"
     ]
    },
    {
     "name": "stderr",
     "output_type": "stream",
     "text": [
      "/var/folders/8v/cgqpzdls33l6jdsvj3z4fdyh0000gn/T/ipykernel_64710/506424766.py:25: FutureWarning: The frame.append method is deprecated and will be removed from pandas in a future version. Use pandas.concat instead.\n",
      "  results = results.append({'user': user_id, 'Algorithm': algo, 'KL_div': calibration_scores[0], 'JS_div': calibration_scores[1]}, ignore_index=True)\n",
      "/var/folders/8v/cgqpzdls33l6jdsvj3z4fdyh0000gn/T/ipykernel_64710/506424766.py:25: FutureWarning: The frame.append method is deprecated and will be removed from pandas in a future version. Use pandas.concat instead.\n",
      "  results = results.append({'user': user_id, 'Algorithm': algo, 'KL_div': calibration_scores[0], 'JS_div': calibration_scores[1]}, ignore_index=True)\n"
     ]
    },
    {
     "name": "stdout",
     "output_type": "stream",
     "text": [
      "809\n"
     ]
    },
    {
     "name": "stderr",
     "output_type": "stream",
     "text": [
      "/var/folders/8v/cgqpzdls33l6jdsvj3z4fdyh0000gn/T/ipykernel_64710/506424766.py:25: FutureWarning: The frame.append method is deprecated and will be removed from pandas in a future version. Use pandas.concat instead.\n",
      "  results = results.append({'user': user_id, 'Algorithm': algo, 'KL_div': calibration_scores[0], 'JS_div': calibration_scores[1]}, ignore_index=True)\n",
      "/var/folders/8v/cgqpzdls33l6jdsvj3z4fdyh0000gn/T/ipykernel_64710/506424766.py:25: FutureWarning: The frame.append method is deprecated and will be removed from pandas in a future version. Use pandas.concat instead.\n",
      "  results = results.append({'user': user_id, 'Algorithm': algo, 'KL_div': calibration_scores[0], 'JS_div': calibration_scores[1]}, ignore_index=True)\n"
     ]
    },
    {
     "name": "stdout",
     "output_type": "stream",
     "text": [
      "810\n"
     ]
    },
    {
     "name": "stderr",
     "output_type": "stream",
     "text": [
      "/var/folders/8v/cgqpzdls33l6jdsvj3z4fdyh0000gn/T/ipykernel_64710/506424766.py:25: FutureWarning: The frame.append method is deprecated and will be removed from pandas in a future version. Use pandas.concat instead.\n",
      "  results = results.append({'user': user_id, 'Algorithm': algo, 'KL_div': calibration_scores[0], 'JS_div': calibration_scores[1]}, ignore_index=True)\n",
      "/var/folders/8v/cgqpzdls33l6jdsvj3z4fdyh0000gn/T/ipykernel_64710/506424766.py:25: FutureWarning: The frame.append method is deprecated and will be removed from pandas in a future version. Use pandas.concat instead.\n",
      "  results = results.append({'user': user_id, 'Algorithm': algo, 'KL_div': calibration_scores[0], 'JS_div': calibration_scores[1]}, ignore_index=True)\n"
     ]
    },
    {
     "name": "stdout",
     "output_type": "stream",
     "text": [
      "811\n"
     ]
    },
    {
     "name": "stderr",
     "output_type": "stream",
     "text": [
      "/var/folders/8v/cgqpzdls33l6jdsvj3z4fdyh0000gn/T/ipykernel_64710/506424766.py:25: FutureWarning: The frame.append method is deprecated and will be removed from pandas in a future version. Use pandas.concat instead.\n",
      "  results = results.append({'user': user_id, 'Algorithm': algo, 'KL_div': calibration_scores[0], 'JS_div': calibration_scores[1]}, ignore_index=True)\n",
      "/var/folders/8v/cgqpzdls33l6jdsvj3z4fdyh0000gn/T/ipykernel_64710/506424766.py:25: FutureWarning: The frame.append method is deprecated and will be removed from pandas in a future version. Use pandas.concat instead.\n",
      "  results = results.append({'user': user_id, 'Algorithm': algo, 'KL_div': calibration_scores[0], 'JS_div': calibration_scores[1]}, ignore_index=True)\n"
     ]
    },
    {
     "name": "stdout",
     "output_type": "stream",
     "text": [
      "812\n"
     ]
    },
    {
     "name": "stderr",
     "output_type": "stream",
     "text": [
      "/var/folders/8v/cgqpzdls33l6jdsvj3z4fdyh0000gn/T/ipykernel_64710/506424766.py:25: FutureWarning: The frame.append method is deprecated and will be removed from pandas in a future version. Use pandas.concat instead.\n",
      "  results = results.append({'user': user_id, 'Algorithm': algo, 'KL_div': calibration_scores[0], 'JS_div': calibration_scores[1]}, ignore_index=True)\n",
      "/var/folders/8v/cgqpzdls33l6jdsvj3z4fdyh0000gn/T/ipykernel_64710/506424766.py:25: FutureWarning: The frame.append method is deprecated and will be removed from pandas in a future version. Use pandas.concat instead.\n",
      "  results = results.append({'user': user_id, 'Algorithm': algo, 'KL_div': calibration_scores[0], 'JS_div': calibration_scores[1]}, ignore_index=True)\n"
     ]
    },
    {
     "name": "stdout",
     "output_type": "stream",
     "text": [
      "813\n"
     ]
    },
    {
     "name": "stderr",
     "output_type": "stream",
     "text": [
      "/var/folders/8v/cgqpzdls33l6jdsvj3z4fdyh0000gn/T/ipykernel_64710/506424766.py:25: FutureWarning: The frame.append method is deprecated and will be removed from pandas in a future version. Use pandas.concat instead.\n",
      "  results = results.append({'user': user_id, 'Algorithm': algo, 'KL_div': calibration_scores[0], 'JS_div': calibration_scores[1]}, ignore_index=True)\n",
      "/var/folders/8v/cgqpzdls33l6jdsvj3z4fdyh0000gn/T/ipykernel_64710/506424766.py:25: FutureWarning: The frame.append method is deprecated and will be removed from pandas in a future version. Use pandas.concat instead.\n",
      "  results = results.append({'user': user_id, 'Algorithm': algo, 'KL_div': calibration_scores[0], 'JS_div': calibration_scores[1]}, ignore_index=True)\n"
     ]
    },
    {
     "name": "stdout",
     "output_type": "stream",
     "text": [
      "814\n"
     ]
    },
    {
     "name": "stderr",
     "output_type": "stream",
     "text": [
      "/var/folders/8v/cgqpzdls33l6jdsvj3z4fdyh0000gn/T/ipykernel_64710/506424766.py:25: FutureWarning: The frame.append method is deprecated and will be removed from pandas in a future version. Use pandas.concat instead.\n",
      "  results = results.append({'user': user_id, 'Algorithm': algo, 'KL_div': calibration_scores[0], 'JS_div': calibration_scores[1]}, ignore_index=True)\n",
      "/var/folders/8v/cgqpzdls33l6jdsvj3z4fdyh0000gn/T/ipykernel_64710/506424766.py:25: FutureWarning: The frame.append method is deprecated and will be removed from pandas in a future version. Use pandas.concat instead.\n",
      "  results = results.append({'user': user_id, 'Algorithm': algo, 'KL_div': calibration_scores[0], 'JS_div': calibration_scores[1]}, ignore_index=True)\n"
     ]
    },
    {
     "name": "stdout",
     "output_type": "stream",
     "text": [
      "815\n"
     ]
    },
    {
     "name": "stderr",
     "output_type": "stream",
     "text": [
      "/var/folders/8v/cgqpzdls33l6jdsvj3z4fdyh0000gn/T/ipykernel_64710/506424766.py:25: FutureWarning: The frame.append method is deprecated and will be removed from pandas in a future version. Use pandas.concat instead.\n",
      "  results = results.append({'user': user_id, 'Algorithm': algo, 'KL_div': calibration_scores[0], 'JS_div': calibration_scores[1]}, ignore_index=True)\n",
      "/var/folders/8v/cgqpzdls33l6jdsvj3z4fdyh0000gn/T/ipykernel_64710/506424766.py:25: FutureWarning: The frame.append method is deprecated and will be removed from pandas in a future version. Use pandas.concat instead.\n",
      "  results = results.append({'user': user_id, 'Algorithm': algo, 'KL_div': calibration_scores[0], 'JS_div': calibration_scores[1]}, ignore_index=True)\n"
     ]
    },
    {
     "name": "stdout",
     "output_type": "stream",
     "text": [
      "816\n"
     ]
    },
    {
     "name": "stderr",
     "output_type": "stream",
     "text": [
      "/var/folders/8v/cgqpzdls33l6jdsvj3z4fdyh0000gn/T/ipykernel_64710/506424766.py:25: FutureWarning: The frame.append method is deprecated and will be removed from pandas in a future version. Use pandas.concat instead.\n",
      "  results = results.append({'user': user_id, 'Algorithm': algo, 'KL_div': calibration_scores[0], 'JS_div': calibration_scores[1]}, ignore_index=True)\n",
      "/var/folders/8v/cgqpzdls33l6jdsvj3z4fdyh0000gn/T/ipykernel_64710/506424766.py:25: FutureWarning: The frame.append method is deprecated and will be removed from pandas in a future version. Use pandas.concat instead.\n",
      "  results = results.append({'user': user_id, 'Algorithm': algo, 'KL_div': calibration_scores[0], 'JS_div': calibration_scores[1]}, ignore_index=True)\n"
     ]
    },
    {
     "name": "stdout",
     "output_type": "stream",
     "text": [
      "817\n"
     ]
    },
    {
     "name": "stderr",
     "output_type": "stream",
     "text": [
      "/var/folders/8v/cgqpzdls33l6jdsvj3z4fdyh0000gn/T/ipykernel_64710/506424766.py:25: FutureWarning: The frame.append method is deprecated and will be removed from pandas in a future version. Use pandas.concat instead.\n",
      "  results = results.append({'user': user_id, 'Algorithm': algo, 'KL_div': calibration_scores[0], 'JS_div': calibration_scores[1]}, ignore_index=True)\n",
      "/var/folders/8v/cgqpzdls33l6jdsvj3z4fdyh0000gn/T/ipykernel_64710/506424766.py:25: FutureWarning: The frame.append method is deprecated and will be removed from pandas in a future version. Use pandas.concat instead.\n",
      "  results = results.append({'user': user_id, 'Algorithm': algo, 'KL_div': calibration_scores[0], 'JS_div': calibration_scores[1]}, ignore_index=True)\n"
     ]
    },
    {
     "name": "stdout",
     "output_type": "stream",
     "text": [
      "818\n"
     ]
    },
    {
     "name": "stderr",
     "output_type": "stream",
     "text": [
      "/var/folders/8v/cgqpzdls33l6jdsvj3z4fdyh0000gn/T/ipykernel_64710/506424766.py:25: FutureWarning: The frame.append method is deprecated and will be removed from pandas in a future version. Use pandas.concat instead.\n",
      "  results = results.append({'user': user_id, 'Algorithm': algo, 'KL_div': calibration_scores[0], 'JS_div': calibration_scores[1]}, ignore_index=True)\n",
      "/var/folders/8v/cgqpzdls33l6jdsvj3z4fdyh0000gn/T/ipykernel_64710/506424766.py:25: FutureWarning: The frame.append method is deprecated and will be removed from pandas in a future version. Use pandas.concat instead.\n",
      "  results = results.append({'user': user_id, 'Algorithm': algo, 'KL_div': calibration_scores[0], 'JS_div': calibration_scores[1]}, ignore_index=True)\n"
     ]
    },
    {
     "name": "stdout",
     "output_type": "stream",
     "text": [
      "819\n"
     ]
    },
    {
     "name": "stderr",
     "output_type": "stream",
     "text": [
      "/var/folders/8v/cgqpzdls33l6jdsvj3z4fdyh0000gn/T/ipykernel_64710/506424766.py:25: FutureWarning: The frame.append method is deprecated and will be removed from pandas in a future version. Use pandas.concat instead.\n",
      "  results = results.append({'user': user_id, 'Algorithm': algo, 'KL_div': calibration_scores[0], 'JS_div': calibration_scores[1]}, ignore_index=True)\n",
      "/var/folders/8v/cgqpzdls33l6jdsvj3z4fdyh0000gn/T/ipykernel_64710/506424766.py:25: FutureWarning: The frame.append method is deprecated and will be removed from pandas in a future version. Use pandas.concat instead.\n",
      "  results = results.append({'user': user_id, 'Algorithm': algo, 'KL_div': calibration_scores[0], 'JS_div': calibration_scores[1]}, ignore_index=True)\n"
     ]
    },
    {
     "name": "stdout",
     "output_type": "stream",
     "text": [
      "820\n"
     ]
    },
    {
     "name": "stderr",
     "output_type": "stream",
     "text": [
      "/var/folders/8v/cgqpzdls33l6jdsvj3z4fdyh0000gn/T/ipykernel_64710/506424766.py:25: FutureWarning: The frame.append method is deprecated and will be removed from pandas in a future version. Use pandas.concat instead.\n",
      "  results = results.append({'user': user_id, 'Algorithm': algo, 'KL_div': calibration_scores[0], 'JS_div': calibration_scores[1]}, ignore_index=True)\n",
      "/var/folders/8v/cgqpzdls33l6jdsvj3z4fdyh0000gn/T/ipykernel_64710/506424766.py:25: FutureWarning: The frame.append method is deprecated and will be removed from pandas in a future version. Use pandas.concat instead.\n",
      "  results = results.append({'user': user_id, 'Algorithm': algo, 'KL_div': calibration_scores[0], 'JS_div': calibration_scores[1]}, ignore_index=True)\n"
     ]
    },
    {
     "name": "stdout",
     "output_type": "stream",
     "text": [
      "821\n"
     ]
    },
    {
     "name": "stderr",
     "output_type": "stream",
     "text": [
      "/var/folders/8v/cgqpzdls33l6jdsvj3z4fdyh0000gn/T/ipykernel_64710/506424766.py:25: FutureWarning: The frame.append method is deprecated and will be removed from pandas in a future version. Use pandas.concat instead.\n",
      "  results = results.append({'user': user_id, 'Algorithm': algo, 'KL_div': calibration_scores[0], 'JS_div': calibration_scores[1]}, ignore_index=True)\n",
      "/var/folders/8v/cgqpzdls33l6jdsvj3z4fdyh0000gn/T/ipykernel_64710/506424766.py:25: FutureWarning: The frame.append method is deprecated and will be removed from pandas in a future version. Use pandas.concat instead.\n",
      "  results = results.append({'user': user_id, 'Algorithm': algo, 'KL_div': calibration_scores[0], 'JS_div': calibration_scores[1]}, ignore_index=True)\n"
     ]
    },
    {
     "name": "stdout",
     "output_type": "stream",
     "text": [
      "822\n"
     ]
    },
    {
     "name": "stderr",
     "output_type": "stream",
     "text": [
      "/var/folders/8v/cgqpzdls33l6jdsvj3z4fdyh0000gn/T/ipykernel_64710/506424766.py:25: FutureWarning: The frame.append method is deprecated and will be removed from pandas in a future version. Use pandas.concat instead.\n",
      "  results = results.append({'user': user_id, 'Algorithm': algo, 'KL_div': calibration_scores[0], 'JS_div': calibration_scores[1]}, ignore_index=True)\n",
      "/var/folders/8v/cgqpzdls33l6jdsvj3z4fdyh0000gn/T/ipykernel_64710/506424766.py:25: FutureWarning: The frame.append method is deprecated and will be removed from pandas in a future version. Use pandas.concat instead.\n",
      "  results = results.append({'user': user_id, 'Algorithm': algo, 'KL_div': calibration_scores[0], 'JS_div': calibration_scores[1]}, ignore_index=True)\n"
     ]
    },
    {
     "name": "stdout",
     "output_type": "stream",
     "text": [
      "823\n"
     ]
    },
    {
     "name": "stderr",
     "output_type": "stream",
     "text": [
      "/var/folders/8v/cgqpzdls33l6jdsvj3z4fdyh0000gn/T/ipykernel_64710/506424766.py:25: FutureWarning: The frame.append method is deprecated and will be removed from pandas in a future version. Use pandas.concat instead.\n",
      "  results = results.append({'user': user_id, 'Algorithm': algo, 'KL_div': calibration_scores[0], 'JS_div': calibration_scores[1]}, ignore_index=True)\n",
      "/var/folders/8v/cgqpzdls33l6jdsvj3z4fdyh0000gn/T/ipykernel_64710/506424766.py:25: FutureWarning: The frame.append method is deprecated and will be removed from pandas in a future version. Use pandas.concat instead.\n",
      "  results = results.append({'user': user_id, 'Algorithm': algo, 'KL_div': calibration_scores[0], 'JS_div': calibration_scores[1]}, ignore_index=True)\n"
     ]
    },
    {
     "name": "stdout",
     "output_type": "stream",
     "text": [
      "824\n"
     ]
    },
    {
     "name": "stderr",
     "output_type": "stream",
     "text": [
      "/var/folders/8v/cgqpzdls33l6jdsvj3z4fdyh0000gn/T/ipykernel_64710/506424766.py:25: FutureWarning: The frame.append method is deprecated and will be removed from pandas in a future version. Use pandas.concat instead.\n",
      "  results = results.append({'user': user_id, 'Algorithm': algo, 'KL_div': calibration_scores[0], 'JS_div': calibration_scores[1]}, ignore_index=True)\n",
      "/var/folders/8v/cgqpzdls33l6jdsvj3z4fdyh0000gn/T/ipykernel_64710/506424766.py:25: FutureWarning: The frame.append method is deprecated and will be removed from pandas in a future version. Use pandas.concat instead.\n",
      "  results = results.append({'user': user_id, 'Algorithm': algo, 'KL_div': calibration_scores[0], 'JS_div': calibration_scores[1]}, ignore_index=True)\n"
     ]
    },
    {
     "name": "stdout",
     "output_type": "stream",
     "text": [
      "825\n"
     ]
    },
    {
     "name": "stderr",
     "output_type": "stream",
     "text": [
      "/var/folders/8v/cgqpzdls33l6jdsvj3z4fdyh0000gn/T/ipykernel_64710/506424766.py:25: FutureWarning: The frame.append method is deprecated and will be removed from pandas in a future version. Use pandas.concat instead.\n",
      "  results = results.append({'user': user_id, 'Algorithm': algo, 'KL_div': calibration_scores[0], 'JS_div': calibration_scores[1]}, ignore_index=True)\n",
      "/var/folders/8v/cgqpzdls33l6jdsvj3z4fdyh0000gn/T/ipykernel_64710/506424766.py:25: FutureWarning: The frame.append method is deprecated and will be removed from pandas in a future version. Use pandas.concat instead.\n",
      "  results = results.append({'user': user_id, 'Algorithm': algo, 'KL_div': calibration_scores[0], 'JS_div': calibration_scores[1]}, ignore_index=True)\n"
     ]
    },
    {
     "name": "stdout",
     "output_type": "stream",
     "text": [
      "826\n"
     ]
    },
    {
     "name": "stderr",
     "output_type": "stream",
     "text": [
      "/var/folders/8v/cgqpzdls33l6jdsvj3z4fdyh0000gn/T/ipykernel_64710/506424766.py:25: FutureWarning: The frame.append method is deprecated and will be removed from pandas in a future version. Use pandas.concat instead.\n",
      "  results = results.append({'user': user_id, 'Algorithm': algo, 'KL_div': calibration_scores[0], 'JS_div': calibration_scores[1]}, ignore_index=True)\n",
      "/var/folders/8v/cgqpzdls33l6jdsvj3z4fdyh0000gn/T/ipykernel_64710/506424766.py:25: FutureWarning: The frame.append method is deprecated and will be removed from pandas in a future version. Use pandas.concat instead.\n",
      "  results = results.append({'user': user_id, 'Algorithm': algo, 'KL_div': calibration_scores[0], 'JS_div': calibration_scores[1]}, ignore_index=True)\n"
     ]
    },
    {
     "name": "stdout",
     "output_type": "stream",
     "text": [
      "827\n"
     ]
    },
    {
     "name": "stderr",
     "output_type": "stream",
     "text": [
      "/var/folders/8v/cgqpzdls33l6jdsvj3z4fdyh0000gn/T/ipykernel_64710/506424766.py:25: FutureWarning: The frame.append method is deprecated and will be removed from pandas in a future version. Use pandas.concat instead.\n",
      "  results = results.append({'user': user_id, 'Algorithm': algo, 'KL_div': calibration_scores[0], 'JS_div': calibration_scores[1]}, ignore_index=True)\n",
      "/var/folders/8v/cgqpzdls33l6jdsvj3z4fdyh0000gn/T/ipykernel_64710/506424766.py:25: FutureWarning: The frame.append method is deprecated and will be removed from pandas in a future version. Use pandas.concat instead.\n",
      "  results = results.append({'user': user_id, 'Algorithm': algo, 'KL_div': calibration_scores[0], 'JS_div': calibration_scores[1]}, ignore_index=True)\n"
     ]
    },
    {
     "name": "stdout",
     "output_type": "stream",
     "text": [
      "828\n"
     ]
    },
    {
     "name": "stderr",
     "output_type": "stream",
     "text": [
      "/var/folders/8v/cgqpzdls33l6jdsvj3z4fdyh0000gn/T/ipykernel_64710/506424766.py:25: FutureWarning: The frame.append method is deprecated and will be removed from pandas in a future version. Use pandas.concat instead.\n",
      "  results = results.append({'user': user_id, 'Algorithm': algo, 'KL_div': calibration_scores[0], 'JS_div': calibration_scores[1]}, ignore_index=True)\n",
      "/var/folders/8v/cgqpzdls33l6jdsvj3z4fdyh0000gn/T/ipykernel_64710/506424766.py:25: FutureWarning: The frame.append method is deprecated and will be removed from pandas in a future version. Use pandas.concat instead.\n",
      "  results = results.append({'user': user_id, 'Algorithm': algo, 'KL_div': calibration_scores[0], 'JS_div': calibration_scores[1]}, ignore_index=True)\n"
     ]
    },
    {
     "name": "stdout",
     "output_type": "stream",
     "text": [
      "829\n"
     ]
    },
    {
     "name": "stderr",
     "output_type": "stream",
     "text": [
      "/var/folders/8v/cgqpzdls33l6jdsvj3z4fdyh0000gn/T/ipykernel_64710/506424766.py:25: FutureWarning: The frame.append method is deprecated and will be removed from pandas in a future version. Use pandas.concat instead.\n",
      "  results = results.append({'user': user_id, 'Algorithm': algo, 'KL_div': calibration_scores[0], 'JS_div': calibration_scores[1]}, ignore_index=True)\n",
      "/var/folders/8v/cgqpzdls33l6jdsvj3z4fdyh0000gn/T/ipykernel_64710/506424766.py:25: FutureWarning: The frame.append method is deprecated and will be removed from pandas in a future version. Use pandas.concat instead.\n",
      "  results = results.append({'user': user_id, 'Algorithm': algo, 'KL_div': calibration_scores[0], 'JS_div': calibration_scores[1]}, ignore_index=True)\n"
     ]
    },
    {
     "name": "stdout",
     "output_type": "stream",
     "text": [
      "830\n"
     ]
    },
    {
     "name": "stderr",
     "output_type": "stream",
     "text": [
      "/var/folders/8v/cgqpzdls33l6jdsvj3z4fdyh0000gn/T/ipykernel_64710/506424766.py:25: FutureWarning: The frame.append method is deprecated and will be removed from pandas in a future version. Use pandas.concat instead.\n",
      "  results = results.append({'user': user_id, 'Algorithm': algo, 'KL_div': calibration_scores[0], 'JS_div': calibration_scores[1]}, ignore_index=True)\n",
      "/var/folders/8v/cgqpzdls33l6jdsvj3z4fdyh0000gn/T/ipykernel_64710/506424766.py:25: FutureWarning: The frame.append method is deprecated and will be removed from pandas in a future version. Use pandas.concat instead.\n",
      "  results = results.append({'user': user_id, 'Algorithm': algo, 'KL_div': calibration_scores[0], 'JS_div': calibration_scores[1]}, ignore_index=True)\n"
     ]
    },
    {
     "name": "stdout",
     "output_type": "stream",
     "text": [
      "831\n"
     ]
    },
    {
     "name": "stderr",
     "output_type": "stream",
     "text": [
      "/var/folders/8v/cgqpzdls33l6jdsvj3z4fdyh0000gn/T/ipykernel_64710/506424766.py:25: FutureWarning: The frame.append method is deprecated and will be removed from pandas in a future version. Use pandas.concat instead.\n",
      "  results = results.append({'user': user_id, 'Algorithm': algo, 'KL_div': calibration_scores[0], 'JS_div': calibration_scores[1]}, ignore_index=True)\n",
      "/var/folders/8v/cgqpzdls33l6jdsvj3z4fdyh0000gn/T/ipykernel_64710/506424766.py:25: FutureWarning: The frame.append method is deprecated and will be removed from pandas in a future version. Use pandas.concat instead.\n",
      "  results = results.append({'user': user_id, 'Algorithm': algo, 'KL_div': calibration_scores[0], 'JS_div': calibration_scores[1]}, ignore_index=True)\n"
     ]
    },
    {
     "name": "stdout",
     "output_type": "stream",
     "text": [
      "832\n"
     ]
    },
    {
     "name": "stderr",
     "output_type": "stream",
     "text": [
      "/var/folders/8v/cgqpzdls33l6jdsvj3z4fdyh0000gn/T/ipykernel_64710/506424766.py:25: FutureWarning: The frame.append method is deprecated and will be removed from pandas in a future version. Use pandas.concat instead.\n",
      "  results = results.append({'user': user_id, 'Algorithm': algo, 'KL_div': calibration_scores[0], 'JS_div': calibration_scores[1]}, ignore_index=True)\n",
      "/var/folders/8v/cgqpzdls33l6jdsvj3z4fdyh0000gn/T/ipykernel_64710/506424766.py:25: FutureWarning: The frame.append method is deprecated and will be removed from pandas in a future version. Use pandas.concat instead.\n",
      "  results = results.append({'user': user_id, 'Algorithm': algo, 'KL_div': calibration_scores[0], 'JS_div': calibration_scores[1]}, ignore_index=True)\n"
     ]
    },
    {
     "name": "stdout",
     "output_type": "stream",
     "text": [
      "833\n"
     ]
    },
    {
     "name": "stderr",
     "output_type": "stream",
     "text": [
      "/var/folders/8v/cgqpzdls33l6jdsvj3z4fdyh0000gn/T/ipykernel_64710/506424766.py:25: FutureWarning: The frame.append method is deprecated and will be removed from pandas in a future version. Use pandas.concat instead.\n",
      "  results = results.append({'user': user_id, 'Algorithm': algo, 'KL_div': calibration_scores[0], 'JS_div': calibration_scores[1]}, ignore_index=True)\n",
      "/var/folders/8v/cgqpzdls33l6jdsvj3z4fdyh0000gn/T/ipykernel_64710/506424766.py:25: FutureWarning: The frame.append method is deprecated and will be removed from pandas in a future version. Use pandas.concat instead.\n",
      "  results = results.append({'user': user_id, 'Algorithm': algo, 'KL_div': calibration_scores[0], 'JS_div': calibration_scores[1]}, ignore_index=True)\n"
     ]
    },
    {
     "name": "stdout",
     "output_type": "stream",
     "text": [
      "834\n"
     ]
    },
    {
     "name": "stderr",
     "output_type": "stream",
     "text": [
      "/var/folders/8v/cgqpzdls33l6jdsvj3z4fdyh0000gn/T/ipykernel_64710/506424766.py:25: FutureWarning: The frame.append method is deprecated and will be removed from pandas in a future version. Use pandas.concat instead.\n",
      "  results = results.append({'user': user_id, 'Algorithm': algo, 'KL_div': calibration_scores[0], 'JS_div': calibration_scores[1]}, ignore_index=True)\n",
      "/var/folders/8v/cgqpzdls33l6jdsvj3z4fdyh0000gn/T/ipykernel_64710/506424766.py:25: FutureWarning: The frame.append method is deprecated and will be removed from pandas in a future version. Use pandas.concat instead.\n",
      "  results = results.append({'user': user_id, 'Algorithm': algo, 'KL_div': calibration_scores[0], 'JS_div': calibration_scores[1]}, ignore_index=True)\n"
     ]
    },
    {
     "name": "stdout",
     "output_type": "stream",
     "text": [
      "835\n"
     ]
    },
    {
     "name": "stderr",
     "output_type": "stream",
     "text": [
      "/var/folders/8v/cgqpzdls33l6jdsvj3z4fdyh0000gn/T/ipykernel_64710/506424766.py:25: FutureWarning: The frame.append method is deprecated and will be removed from pandas in a future version. Use pandas.concat instead.\n",
      "  results = results.append({'user': user_id, 'Algorithm': algo, 'KL_div': calibration_scores[0], 'JS_div': calibration_scores[1]}, ignore_index=True)\n",
      "/var/folders/8v/cgqpzdls33l6jdsvj3z4fdyh0000gn/T/ipykernel_64710/506424766.py:25: FutureWarning: The frame.append method is deprecated and will be removed from pandas in a future version. Use pandas.concat instead.\n",
      "  results = results.append({'user': user_id, 'Algorithm': algo, 'KL_div': calibration_scores[0], 'JS_div': calibration_scores[1]}, ignore_index=True)\n"
     ]
    },
    {
     "name": "stdout",
     "output_type": "stream",
     "text": [
      "836\n"
     ]
    },
    {
     "name": "stderr",
     "output_type": "stream",
     "text": [
      "/var/folders/8v/cgqpzdls33l6jdsvj3z4fdyh0000gn/T/ipykernel_64710/506424766.py:25: FutureWarning: The frame.append method is deprecated and will be removed from pandas in a future version. Use pandas.concat instead.\n",
      "  results = results.append({'user': user_id, 'Algorithm': algo, 'KL_div': calibration_scores[0], 'JS_div': calibration_scores[1]}, ignore_index=True)\n",
      "/var/folders/8v/cgqpzdls33l6jdsvj3z4fdyh0000gn/T/ipykernel_64710/506424766.py:25: FutureWarning: The frame.append method is deprecated and will be removed from pandas in a future version. Use pandas.concat instead.\n",
      "  results = results.append({'user': user_id, 'Algorithm': algo, 'KL_div': calibration_scores[0], 'JS_div': calibration_scores[1]}, ignore_index=True)\n"
     ]
    },
    {
     "name": "stdout",
     "output_type": "stream",
     "text": [
      "837\n"
     ]
    },
    {
     "name": "stderr",
     "output_type": "stream",
     "text": [
      "/var/folders/8v/cgqpzdls33l6jdsvj3z4fdyh0000gn/T/ipykernel_64710/506424766.py:25: FutureWarning: The frame.append method is deprecated and will be removed from pandas in a future version. Use pandas.concat instead.\n",
      "  results = results.append({'user': user_id, 'Algorithm': algo, 'KL_div': calibration_scores[0], 'JS_div': calibration_scores[1]}, ignore_index=True)\n",
      "/var/folders/8v/cgqpzdls33l6jdsvj3z4fdyh0000gn/T/ipykernel_64710/506424766.py:25: FutureWarning: The frame.append method is deprecated and will be removed from pandas in a future version. Use pandas.concat instead.\n",
      "  results = results.append({'user': user_id, 'Algorithm': algo, 'KL_div': calibration_scores[0], 'JS_div': calibration_scores[1]}, ignore_index=True)\n"
     ]
    },
    {
     "name": "stdout",
     "output_type": "stream",
     "text": [
      "838\n"
     ]
    },
    {
     "name": "stderr",
     "output_type": "stream",
     "text": [
      "/var/folders/8v/cgqpzdls33l6jdsvj3z4fdyh0000gn/T/ipykernel_64710/506424766.py:25: FutureWarning: The frame.append method is deprecated and will be removed from pandas in a future version. Use pandas.concat instead.\n",
      "  results = results.append({'user': user_id, 'Algorithm': algo, 'KL_div': calibration_scores[0], 'JS_div': calibration_scores[1]}, ignore_index=True)\n",
      "/var/folders/8v/cgqpzdls33l6jdsvj3z4fdyh0000gn/T/ipykernel_64710/506424766.py:25: FutureWarning: The frame.append method is deprecated and will be removed from pandas in a future version. Use pandas.concat instead.\n",
      "  results = results.append({'user': user_id, 'Algorithm': algo, 'KL_div': calibration_scores[0], 'JS_div': calibration_scores[1]}, ignore_index=True)\n"
     ]
    },
    {
     "name": "stdout",
     "output_type": "stream",
     "text": [
      "839\n"
     ]
    },
    {
     "name": "stderr",
     "output_type": "stream",
     "text": [
      "/var/folders/8v/cgqpzdls33l6jdsvj3z4fdyh0000gn/T/ipykernel_64710/506424766.py:25: FutureWarning: The frame.append method is deprecated and will be removed from pandas in a future version. Use pandas.concat instead.\n",
      "  results = results.append({'user': user_id, 'Algorithm': algo, 'KL_div': calibration_scores[0], 'JS_div': calibration_scores[1]}, ignore_index=True)\n",
      "/var/folders/8v/cgqpzdls33l6jdsvj3z4fdyh0000gn/T/ipykernel_64710/506424766.py:25: FutureWarning: The frame.append method is deprecated and will be removed from pandas in a future version. Use pandas.concat instead.\n",
      "  results = results.append({'user': user_id, 'Algorithm': algo, 'KL_div': calibration_scores[0], 'JS_div': calibration_scores[1]}, ignore_index=True)\n"
     ]
    },
    {
     "name": "stdout",
     "output_type": "stream",
     "text": [
      "840\n"
     ]
    },
    {
     "name": "stderr",
     "output_type": "stream",
     "text": [
      "/var/folders/8v/cgqpzdls33l6jdsvj3z4fdyh0000gn/T/ipykernel_64710/506424766.py:25: FutureWarning: The frame.append method is deprecated and will be removed from pandas in a future version. Use pandas.concat instead.\n",
      "  results = results.append({'user': user_id, 'Algorithm': algo, 'KL_div': calibration_scores[0], 'JS_div': calibration_scores[1]}, ignore_index=True)\n",
      "/var/folders/8v/cgqpzdls33l6jdsvj3z4fdyh0000gn/T/ipykernel_64710/506424766.py:25: FutureWarning: The frame.append method is deprecated and will be removed from pandas in a future version. Use pandas.concat instead.\n",
      "  results = results.append({'user': user_id, 'Algorithm': algo, 'KL_div': calibration_scores[0], 'JS_div': calibration_scores[1]}, ignore_index=True)\n"
     ]
    },
    {
     "name": "stdout",
     "output_type": "stream",
     "text": [
      "841\n"
     ]
    },
    {
     "name": "stderr",
     "output_type": "stream",
     "text": [
      "/var/folders/8v/cgqpzdls33l6jdsvj3z4fdyh0000gn/T/ipykernel_64710/506424766.py:25: FutureWarning: The frame.append method is deprecated and will be removed from pandas in a future version. Use pandas.concat instead.\n",
      "  results = results.append({'user': user_id, 'Algorithm': algo, 'KL_div': calibration_scores[0], 'JS_div': calibration_scores[1]}, ignore_index=True)\n",
      "/var/folders/8v/cgqpzdls33l6jdsvj3z4fdyh0000gn/T/ipykernel_64710/506424766.py:25: FutureWarning: The frame.append method is deprecated and will be removed from pandas in a future version. Use pandas.concat instead.\n",
      "  results = results.append({'user': user_id, 'Algorithm': algo, 'KL_div': calibration_scores[0], 'JS_div': calibration_scores[1]}, ignore_index=True)\n"
     ]
    },
    {
     "name": "stdout",
     "output_type": "stream",
     "text": [
      "842\n"
     ]
    },
    {
     "name": "stderr",
     "output_type": "stream",
     "text": [
      "/var/folders/8v/cgqpzdls33l6jdsvj3z4fdyh0000gn/T/ipykernel_64710/506424766.py:25: FutureWarning: The frame.append method is deprecated and will be removed from pandas in a future version. Use pandas.concat instead.\n",
      "  results = results.append({'user': user_id, 'Algorithm': algo, 'KL_div': calibration_scores[0], 'JS_div': calibration_scores[1]}, ignore_index=True)\n",
      "/var/folders/8v/cgqpzdls33l6jdsvj3z4fdyh0000gn/T/ipykernel_64710/506424766.py:25: FutureWarning: The frame.append method is deprecated and will be removed from pandas in a future version. Use pandas.concat instead.\n",
      "  results = results.append({'user': user_id, 'Algorithm': algo, 'KL_div': calibration_scores[0], 'JS_div': calibration_scores[1]}, ignore_index=True)\n"
     ]
    },
    {
     "name": "stdout",
     "output_type": "stream",
     "text": [
      "843\n"
     ]
    },
    {
     "name": "stderr",
     "output_type": "stream",
     "text": [
      "/var/folders/8v/cgqpzdls33l6jdsvj3z4fdyh0000gn/T/ipykernel_64710/506424766.py:25: FutureWarning: The frame.append method is deprecated and will be removed from pandas in a future version. Use pandas.concat instead.\n",
      "  results = results.append({'user': user_id, 'Algorithm': algo, 'KL_div': calibration_scores[0], 'JS_div': calibration_scores[1]}, ignore_index=True)\n",
      "/var/folders/8v/cgqpzdls33l6jdsvj3z4fdyh0000gn/T/ipykernel_64710/506424766.py:25: FutureWarning: The frame.append method is deprecated and will be removed from pandas in a future version. Use pandas.concat instead.\n",
      "  results = results.append({'user': user_id, 'Algorithm': algo, 'KL_div': calibration_scores[0], 'JS_div': calibration_scores[1]}, ignore_index=True)\n"
     ]
    },
    {
     "name": "stdout",
     "output_type": "stream",
     "text": [
      "844\n"
     ]
    },
    {
     "name": "stderr",
     "output_type": "stream",
     "text": [
      "/var/folders/8v/cgqpzdls33l6jdsvj3z4fdyh0000gn/T/ipykernel_64710/506424766.py:25: FutureWarning: The frame.append method is deprecated and will be removed from pandas in a future version. Use pandas.concat instead.\n",
      "  results = results.append({'user': user_id, 'Algorithm': algo, 'KL_div': calibration_scores[0], 'JS_div': calibration_scores[1]}, ignore_index=True)\n",
      "/var/folders/8v/cgqpzdls33l6jdsvj3z4fdyh0000gn/T/ipykernel_64710/506424766.py:25: FutureWarning: The frame.append method is deprecated and will be removed from pandas in a future version. Use pandas.concat instead.\n",
      "  results = results.append({'user': user_id, 'Algorithm': algo, 'KL_div': calibration_scores[0], 'JS_div': calibration_scores[1]}, ignore_index=True)\n"
     ]
    },
    {
     "name": "stdout",
     "output_type": "stream",
     "text": [
      "845\n"
     ]
    },
    {
     "name": "stderr",
     "output_type": "stream",
     "text": [
      "/var/folders/8v/cgqpzdls33l6jdsvj3z4fdyh0000gn/T/ipykernel_64710/506424766.py:25: FutureWarning: The frame.append method is deprecated and will be removed from pandas in a future version. Use pandas.concat instead.\n",
      "  results = results.append({'user': user_id, 'Algorithm': algo, 'KL_div': calibration_scores[0], 'JS_div': calibration_scores[1]}, ignore_index=True)\n",
      "/var/folders/8v/cgqpzdls33l6jdsvj3z4fdyh0000gn/T/ipykernel_64710/506424766.py:25: FutureWarning: The frame.append method is deprecated and will be removed from pandas in a future version. Use pandas.concat instead.\n",
      "  results = results.append({'user': user_id, 'Algorithm': algo, 'KL_div': calibration_scores[0], 'JS_div': calibration_scores[1]}, ignore_index=True)\n"
     ]
    },
    {
     "name": "stdout",
     "output_type": "stream",
     "text": [
      "846\n"
     ]
    },
    {
     "name": "stderr",
     "output_type": "stream",
     "text": [
      "/var/folders/8v/cgqpzdls33l6jdsvj3z4fdyh0000gn/T/ipykernel_64710/506424766.py:25: FutureWarning: The frame.append method is deprecated and will be removed from pandas in a future version. Use pandas.concat instead.\n",
      "  results = results.append({'user': user_id, 'Algorithm': algo, 'KL_div': calibration_scores[0], 'JS_div': calibration_scores[1]}, ignore_index=True)\n",
      "/var/folders/8v/cgqpzdls33l6jdsvj3z4fdyh0000gn/T/ipykernel_64710/506424766.py:25: FutureWarning: The frame.append method is deprecated and will be removed from pandas in a future version. Use pandas.concat instead.\n",
      "  results = results.append({'user': user_id, 'Algorithm': algo, 'KL_div': calibration_scores[0], 'JS_div': calibration_scores[1]}, ignore_index=True)\n"
     ]
    },
    {
     "name": "stdout",
     "output_type": "stream",
     "text": [
      "847\n"
     ]
    },
    {
     "name": "stderr",
     "output_type": "stream",
     "text": [
      "/var/folders/8v/cgqpzdls33l6jdsvj3z4fdyh0000gn/T/ipykernel_64710/506424766.py:25: FutureWarning: The frame.append method is deprecated and will be removed from pandas in a future version. Use pandas.concat instead.\n",
      "  results = results.append({'user': user_id, 'Algorithm': algo, 'KL_div': calibration_scores[0], 'JS_div': calibration_scores[1]}, ignore_index=True)\n",
      "/var/folders/8v/cgqpzdls33l6jdsvj3z4fdyh0000gn/T/ipykernel_64710/506424766.py:25: FutureWarning: The frame.append method is deprecated and will be removed from pandas in a future version. Use pandas.concat instead.\n",
      "  results = results.append({'user': user_id, 'Algorithm': algo, 'KL_div': calibration_scores[0], 'JS_div': calibration_scores[1]}, ignore_index=True)\n"
     ]
    },
    {
     "name": "stdout",
     "output_type": "stream",
     "text": [
      "848\n"
     ]
    },
    {
     "name": "stderr",
     "output_type": "stream",
     "text": [
      "/var/folders/8v/cgqpzdls33l6jdsvj3z4fdyh0000gn/T/ipykernel_64710/506424766.py:25: FutureWarning: The frame.append method is deprecated and will be removed from pandas in a future version. Use pandas.concat instead.\n",
      "  results = results.append({'user': user_id, 'Algorithm': algo, 'KL_div': calibration_scores[0], 'JS_div': calibration_scores[1]}, ignore_index=True)\n",
      "/var/folders/8v/cgqpzdls33l6jdsvj3z4fdyh0000gn/T/ipykernel_64710/506424766.py:25: FutureWarning: The frame.append method is deprecated and will be removed from pandas in a future version. Use pandas.concat instead.\n",
      "  results = results.append({'user': user_id, 'Algorithm': algo, 'KL_div': calibration_scores[0], 'JS_div': calibration_scores[1]}, ignore_index=True)\n"
     ]
    },
    {
     "name": "stdout",
     "output_type": "stream",
     "text": [
      "849\n"
     ]
    },
    {
     "name": "stderr",
     "output_type": "stream",
     "text": [
      "/var/folders/8v/cgqpzdls33l6jdsvj3z4fdyh0000gn/T/ipykernel_64710/506424766.py:25: FutureWarning: The frame.append method is deprecated and will be removed from pandas in a future version. Use pandas.concat instead.\n",
      "  results = results.append({'user': user_id, 'Algorithm': algo, 'KL_div': calibration_scores[0], 'JS_div': calibration_scores[1]}, ignore_index=True)\n",
      "/var/folders/8v/cgqpzdls33l6jdsvj3z4fdyh0000gn/T/ipykernel_64710/506424766.py:25: FutureWarning: The frame.append method is deprecated and will be removed from pandas in a future version. Use pandas.concat instead.\n",
      "  results = results.append({'user': user_id, 'Algorithm': algo, 'KL_div': calibration_scores[0], 'JS_div': calibration_scores[1]}, ignore_index=True)\n"
     ]
    },
    {
     "name": "stdout",
     "output_type": "stream",
     "text": [
      "850\n"
     ]
    },
    {
     "name": "stderr",
     "output_type": "stream",
     "text": [
      "/var/folders/8v/cgqpzdls33l6jdsvj3z4fdyh0000gn/T/ipykernel_64710/506424766.py:25: FutureWarning: The frame.append method is deprecated and will be removed from pandas in a future version. Use pandas.concat instead.\n",
      "  results = results.append({'user': user_id, 'Algorithm': algo, 'KL_div': calibration_scores[0], 'JS_div': calibration_scores[1]}, ignore_index=True)\n",
      "/var/folders/8v/cgqpzdls33l6jdsvj3z4fdyh0000gn/T/ipykernel_64710/506424766.py:25: FutureWarning: The frame.append method is deprecated and will be removed from pandas in a future version. Use pandas.concat instead.\n",
      "  results = results.append({'user': user_id, 'Algorithm': algo, 'KL_div': calibration_scores[0], 'JS_div': calibration_scores[1]}, ignore_index=True)\n"
     ]
    },
    {
     "name": "stdout",
     "output_type": "stream",
     "text": [
      "851\n"
     ]
    },
    {
     "name": "stderr",
     "output_type": "stream",
     "text": [
      "/var/folders/8v/cgqpzdls33l6jdsvj3z4fdyh0000gn/T/ipykernel_64710/506424766.py:25: FutureWarning: The frame.append method is deprecated and will be removed from pandas in a future version. Use pandas.concat instead.\n",
      "  results = results.append({'user': user_id, 'Algorithm': algo, 'KL_div': calibration_scores[0], 'JS_div': calibration_scores[1]}, ignore_index=True)\n",
      "/var/folders/8v/cgqpzdls33l6jdsvj3z4fdyh0000gn/T/ipykernel_64710/506424766.py:25: FutureWarning: The frame.append method is deprecated and will be removed from pandas in a future version. Use pandas.concat instead.\n",
      "  results = results.append({'user': user_id, 'Algorithm': algo, 'KL_div': calibration_scores[0], 'JS_div': calibration_scores[1]}, ignore_index=True)\n"
     ]
    },
    {
     "name": "stdout",
     "output_type": "stream",
     "text": [
      "852\n"
     ]
    },
    {
     "name": "stderr",
     "output_type": "stream",
     "text": [
      "/var/folders/8v/cgqpzdls33l6jdsvj3z4fdyh0000gn/T/ipykernel_64710/506424766.py:25: FutureWarning: The frame.append method is deprecated and will be removed from pandas in a future version. Use pandas.concat instead.\n",
      "  results = results.append({'user': user_id, 'Algorithm': algo, 'KL_div': calibration_scores[0], 'JS_div': calibration_scores[1]}, ignore_index=True)\n",
      "/var/folders/8v/cgqpzdls33l6jdsvj3z4fdyh0000gn/T/ipykernel_64710/506424766.py:25: FutureWarning: The frame.append method is deprecated and will be removed from pandas in a future version. Use pandas.concat instead.\n",
      "  results = results.append({'user': user_id, 'Algorithm': algo, 'KL_div': calibration_scores[0], 'JS_div': calibration_scores[1]}, ignore_index=True)\n"
     ]
    },
    {
     "name": "stdout",
     "output_type": "stream",
     "text": [
      "853\n"
     ]
    },
    {
     "name": "stderr",
     "output_type": "stream",
     "text": [
      "/var/folders/8v/cgqpzdls33l6jdsvj3z4fdyh0000gn/T/ipykernel_64710/506424766.py:25: FutureWarning: The frame.append method is deprecated and will be removed from pandas in a future version. Use pandas.concat instead.\n",
      "  results = results.append({'user': user_id, 'Algorithm': algo, 'KL_div': calibration_scores[0], 'JS_div': calibration_scores[1]}, ignore_index=True)\n",
      "/var/folders/8v/cgqpzdls33l6jdsvj3z4fdyh0000gn/T/ipykernel_64710/506424766.py:25: FutureWarning: The frame.append method is deprecated and will be removed from pandas in a future version. Use pandas.concat instead.\n",
      "  results = results.append({'user': user_id, 'Algorithm': algo, 'KL_div': calibration_scores[0], 'JS_div': calibration_scores[1]}, ignore_index=True)\n"
     ]
    },
    {
     "name": "stdout",
     "output_type": "stream",
     "text": [
      "854\n"
     ]
    },
    {
     "name": "stderr",
     "output_type": "stream",
     "text": [
      "/var/folders/8v/cgqpzdls33l6jdsvj3z4fdyh0000gn/T/ipykernel_64710/506424766.py:25: FutureWarning: The frame.append method is deprecated and will be removed from pandas in a future version. Use pandas.concat instead.\n",
      "  results = results.append({'user': user_id, 'Algorithm': algo, 'KL_div': calibration_scores[0], 'JS_div': calibration_scores[1]}, ignore_index=True)\n",
      "/var/folders/8v/cgqpzdls33l6jdsvj3z4fdyh0000gn/T/ipykernel_64710/506424766.py:25: FutureWarning: The frame.append method is deprecated and will be removed from pandas in a future version. Use pandas.concat instead.\n",
      "  results = results.append({'user': user_id, 'Algorithm': algo, 'KL_div': calibration_scores[0], 'JS_div': calibration_scores[1]}, ignore_index=True)\n"
     ]
    },
    {
     "name": "stdout",
     "output_type": "stream",
     "text": [
      "855\n"
     ]
    },
    {
     "name": "stderr",
     "output_type": "stream",
     "text": [
      "/var/folders/8v/cgqpzdls33l6jdsvj3z4fdyh0000gn/T/ipykernel_64710/506424766.py:25: FutureWarning: The frame.append method is deprecated and will be removed from pandas in a future version. Use pandas.concat instead.\n",
      "  results = results.append({'user': user_id, 'Algorithm': algo, 'KL_div': calibration_scores[0], 'JS_div': calibration_scores[1]}, ignore_index=True)\n",
      "/var/folders/8v/cgqpzdls33l6jdsvj3z4fdyh0000gn/T/ipykernel_64710/506424766.py:25: FutureWarning: The frame.append method is deprecated and will be removed from pandas in a future version. Use pandas.concat instead.\n",
      "  results = results.append({'user': user_id, 'Algorithm': algo, 'KL_div': calibration_scores[0], 'JS_div': calibration_scores[1]}, ignore_index=True)\n"
     ]
    },
    {
     "name": "stdout",
     "output_type": "stream",
     "text": [
      "856\n"
     ]
    },
    {
     "name": "stderr",
     "output_type": "stream",
     "text": [
      "/var/folders/8v/cgqpzdls33l6jdsvj3z4fdyh0000gn/T/ipykernel_64710/506424766.py:25: FutureWarning: The frame.append method is deprecated and will be removed from pandas in a future version. Use pandas.concat instead.\n",
      "  results = results.append({'user': user_id, 'Algorithm': algo, 'KL_div': calibration_scores[0], 'JS_div': calibration_scores[1]}, ignore_index=True)\n",
      "/var/folders/8v/cgqpzdls33l6jdsvj3z4fdyh0000gn/T/ipykernel_64710/506424766.py:25: FutureWarning: The frame.append method is deprecated and will be removed from pandas in a future version. Use pandas.concat instead.\n",
      "  results = results.append({'user': user_id, 'Algorithm': algo, 'KL_div': calibration_scores[0], 'JS_div': calibration_scores[1]}, ignore_index=True)\n"
     ]
    },
    {
     "name": "stdout",
     "output_type": "stream",
     "text": [
      "857\n"
     ]
    },
    {
     "name": "stderr",
     "output_type": "stream",
     "text": [
      "/var/folders/8v/cgqpzdls33l6jdsvj3z4fdyh0000gn/T/ipykernel_64710/506424766.py:25: FutureWarning: The frame.append method is deprecated and will be removed from pandas in a future version. Use pandas.concat instead.\n",
      "  results = results.append({'user': user_id, 'Algorithm': algo, 'KL_div': calibration_scores[0], 'JS_div': calibration_scores[1]}, ignore_index=True)\n",
      "/var/folders/8v/cgqpzdls33l6jdsvj3z4fdyh0000gn/T/ipykernel_64710/506424766.py:25: FutureWarning: The frame.append method is deprecated and will be removed from pandas in a future version. Use pandas.concat instead.\n",
      "  results = results.append({'user': user_id, 'Algorithm': algo, 'KL_div': calibration_scores[0], 'JS_div': calibration_scores[1]}, ignore_index=True)\n"
     ]
    },
    {
     "name": "stdout",
     "output_type": "stream",
     "text": [
      "858\n"
     ]
    },
    {
     "name": "stderr",
     "output_type": "stream",
     "text": [
      "/var/folders/8v/cgqpzdls33l6jdsvj3z4fdyh0000gn/T/ipykernel_64710/506424766.py:25: FutureWarning: The frame.append method is deprecated and will be removed from pandas in a future version. Use pandas.concat instead.\n",
      "  results = results.append({'user': user_id, 'Algorithm': algo, 'KL_div': calibration_scores[0], 'JS_div': calibration_scores[1]}, ignore_index=True)\n",
      "/var/folders/8v/cgqpzdls33l6jdsvj3z4fdyh0000gn/T/ipykernel_64710/506424766.py:25: FutureWarning: The frame.append method is deprecated and will be removed from pandas in a future version. Use pandas.concat instead.\n",
      "  results = results.append({'user': user_id, 'Algorithm': algo, 'KL_div': calibration_scores[0], 'JS_div': calibration_scores[1]}, ignore_index=True)\n"
     ]
    },
    {
     "name": "stdout",
     "output_type": "stream",
     "text": [
      "859\n"
     ]
    },
    {
     "name": "stderr",
     "output_type": "stream",
     "text": [
      "/var/folders/8v/cgqpzdls33l6jdsvj3z4fdyh0000gn/T/ipykernel_64710/506424766.py:25: FutureWarning: The frame.append method is deprecated and will be removed from pandas in a future version. Use pandas.concat instead.\n",
      "  results = results.append({'user': user_id, 'Algorithm': algo, 'KL_div': calibration_scores[0], 'JS_div': calibration_scores[1]}, ignore_index=True)\n",
      "/var/folders/8v/cgqpzdls33l6jdsvj3z4fdyh0000gn/T/ipykernel_64710/506424766.py:25: FutureWarning: The frame.append method is deprecated and will be removed from pandas in a future version. Use pandas.concat instead.\n",
      "  results = results.append({'user': user_id, 'Algorithm': algo, 'KL_div': calibration_scores[0], 'JS_div': calibration_scores[1]}, ignore_index=True)\n"
     ]
    },
    {
     "name": "stdout",
     "output_type": "stream",
     "text": [
      "860\n"
     ]
    },
    {
     "name": "stderr",
     "output_type": "stream",
     "text": [
      "/var/folders/8v/cgqpzdls33l6jdsvj3z4fdyh0000gn/T/ipykernel_64710/506424766.py:25: FutureWarning: The frame.append method is deprecated and will be removed from pandas in a future version. Use pandas.concat instead.\n",
      "  results = results.append({'user': user_id, 'Algorithm': algo, 'KL_div': calibration_scores[0], 'JS_div': calibration_scores[1]}, ignore_index=True)\n",
      "/var/folders/8v/cgqpzdls33l6jdsvj3z4fdyh0000gn/T/ipykernel_64710/506424766.py:25: FutureWarning: The frame.append method is deprecated and will be removed from pandas in a future version. Use pandas.concat instead.\n",
      "  results = results.append({'user': user_id, 'Algorithm': algo, 'KL_div': calibration_scores[0], 'JS_div': calibration_scores[1]}, ignore_index=True)\n"
     ]
    },
    {
     "name": "stdout",
     "output_type": "stream",
     "text": [
      "861\n"
     ]
    },
    {
     "name": "stderr",
     "output_type": "stream",
     "text": [
      "/var/folders/8v/cgqpzdls33l6jdsvj3z4fdyh0000gn/T/ipykernel_64710/506424766.py:25: FutureWarning: The frame.append method is deprecated and will be removed from pandas in a future version. Use pandas.concat instead.\n",
      "  results = results.append({'user': user_id, 'Algorithm': algo, 'KL_div': calibration_scores[0], 'JS_div': calibration_scores[1]}, ignore_index=True)\n",
      "/var/folders/8v/cgqpzdls33l6jdsvj3z4fdyh0000gn/T/ipykernel_64710/506424766.py:25: FutureWarning: The frame.append method is deprecated and will be removed from pandas in a future version. Use pandas.concat instead.\n",
      "  results = results.append({'user': user_id, 'Algorithm': algo, 'KL_div': calibration_scores[0], 'JS_div': calibration_scores[1]}, ignore_index=True)\n"
     ]
    },
    {
     "name": "stdout",
     "output_type": "stream",
     "text": [
      "862\n"
     ]
    },
    {
     "name": "stderr",
     "output_type": "stream",
     "text": [
      "/var/folders/8v/cgqpzdls33l6jdsvj3z4fdyh0000gn/T/ipykernel_64710/506424766.py:25: FutureWarning: The frame.append method is deprecated and will be removed from pandas in a future version. Use pandas.concat instead.\n",
      "  results = results.append({'user': user_id, 'Algorithm': algo, 'KL_div': calibration_scores[0], 'JS_div': calibration_scores[1]}, ignore_index=True)\n",
      "/var/folders/8v/cgqpzdls33l6jdsvj3z4fdyh0000gn/T/ipykernel_64710/506424766.py:25: FutureWarning: The frame.append method is deprecated and will be removed from pandas in a future version. Use pandas.concat instead.\n",
      "  results = results.append({'user': user_id, 'Algorithm': algo, 'KL_div': calibration_scores[0], 'JS_div': calibration_scores[1]}, ignore_index=True)\n"
     ]
    },
    {
     "name": "stdout",
     "output_type": "stream",
     "text": [
      "863\n"
     ]
    },
    {
     "name": "stderr",
     "output_type": "stream",
     "text": [
      "/var/folders/8v/cgqpzdls33l6jdsvj3z4fdyh0000gn/T/ipykernel_64710/506424766.py:25: FutureWarning: The frame.append method is deprecated and will be removed from pandas in a future version. Use pandas.concat instead.\n",
      "  results = results.append({'user': user_id, 'Algorithm': algo, 'KL_div': calibration_scores[0], 'JS_div': calibration_scores[1]}, ignore_index=True)\n",
      "/var/folders/8v/cgqpzdls33l6jdsvj3z4fdyh0000gn/T/ipykernel_64710/506424766.py:25: FutureWarning: The frame.append method is deprecated and will be removed from pandas in a future version. Use pandas.concat instead.\n",
      "  results = results.append({'user': user_id, 'Algorithm': algo, 'KL_div': calibration_scores[0], 'JS_div': calibration_scores[1]}, ignore_index=True)\n"
     ]
    },
    {
     "name": "stdout",
     "output_type": "stream",
     "text": [
      "864\n"
     ]
    },
    {
     "name": "stderr",
     "output_type": "stream",
     "text": [
      "/var/folders/8v/cgqpzdls33l6jdsvj3z4fdyh0000gn/T/ipykernel_64710/506424766.py:25: FutureWarning: The frame.append method is deprecated and will be removed from pandas in a future version. Use pandas.concat instead.\n",
      "  results = results.append({'user': user_id, 'Algorithm': algo, 'KL_div': calibration_scores[0], 'JS_div': calibration_scores[1]}, ignore_index=True)\n",
      "/var/folders/8v/cgqpzdls33l6jdsvj3z4fdyh0000gn/T/ipykernel_64710/506424766.py:25: FutureWarning: The frame.append method is deprecated and will be removed from pandas in a future version. Use pandas.concat instead.\n",
      "  results = results.append({'user': user_id, 'Algorithm': algo, 'KL_div': calibration_scores[0], 'JS_div': calibration_scores[1]}, ignore_index=True)\n"
     ]
    },
    {
     "name": "stdout",
     "output_type": "stream",
     "text": [
      "865\n"
     ]
    },
    {
     "name": "stderr",
     "output_type": "stream",
     "text": [
      "/var/folders/8v/cgqpzdls33l6jdsvj3z4fdyh0000gn/T/ipykernel_64710/506424766.py:25: FutureWarning: The frame.append method is deprecated and will be removed from pandas in a future version. Use pandas.concat instead.\n",
      "  results = results.append({'user': user_id, 'Algorithm': algo, 'KL_div': calibration_scores[0], 'JS_div': calibration_scores[1]}, ignore_index=True)\n",
      "/var/folders/8v/cgqpzdls33l6jdsvj3z4fdyh0000gn/T/ipykernel_64710/506424766.py:25: FutureWarning: The frame.append method is deprecated and will be removed from pandas in a future version. Use pandas.concat instead.\n",
      "  results = results.append({'user': user_id, 'Algorithm': algo, 'KL_div': calibration_scores[0], 'JS_div': calibration_scores[1]}, ignore_index=True)\n"
     ]
    },
    {
     "name": "stdout",
     "output_type": "stream",
     "text": [
      "866\n"
     ]
    },
    {
     "name": "stderr",
     "output_type": "stream",
     "text": [
      "/var/folders/8v/cgqpzdls33l6jdsvj3z4fdyh0000gn/T/ipykernel_64710/506424766.py:25: FutureWarning: The frame.append method is deprecated and will be removed from pandas in a future version. Use pandas.concat instead.\n",
      "  results = results.append({'user': user_id, 'Algorithm': algo, 'KL_div': calibration_scores[0], 'JS_div': calibration_scores[1]}, ignore_index=True)\n",
      "/var/folders/8v/cgqpzdls33l6jdsvj3z4fdyh0000gn/T/ipykernel_64710/506424766.py:25: FutureWarning: The frame.append method is deprecated and will be removed from pandas in a future version. Use pandas.concat instead.\n",
      "  results = results.append({'user': user_id, 'Algorithm': algo, 'KL_div': calibration_scores[0], 'JS_div': calibration_scores[1]}, ignore_index=True)\n"
     ]
    },
    {
     "name": "stdout",
     "output_type": "stream",
     "text": [
      "867\n"
     ]
    },
    {
     "name": "stderr",
     "output_type": "stream",
     "text": [
      "/var/folders/8v/cgqpzdls33l6jdsvj3z4fdyh0000gn/T/ipykernel_64710/506424766.py:25: FutureWarning: The frame.append method is deprecated and will be removed from pandas in a future version. Use pandas.concat instead.\n",
      "  results = results.append({'user': user_id, 'Algorithm': algo, 'KL_div': calibration_scores[0], 'JS_div': calibration_scores[1]}, ignore_index=True)\n",
      "/var/folders/8v/cgqpzdls33l6jdsvj3z4fdyh0000gn/T/ipykernel_64710/506424766.py:25: FutureWarning: The frame.append method is deprecated and will be removed from pandas in a future version. Use pandas.concat instead.\n",
      "  results = results.append({'user': user_id, 'Algorithm': algo, 'KL_div': calibration_scores[0], 'JS_div': calibration_scores[1]}, ignore_index=True)\n"
     ]
    },
    {
     "name": "stdout",
     "output_type": "stream",
     "text": [
      "868\n"
     ]
    },
    {
     "name": "stderr",
     "output_type": "stream",
     "text": [
      "/var/folders/8v/cgqpzdls33l6jdsvj3z4fdyh0000gn/T/ipykernel_64710/506424766.py:25: FutureWarning: The frame.append method is deprecated and will be removed from pandas in a future version. Use pandas.concat instead.\n",
      "  results = results.append({'user': user_id, 'Algorithm': algo, 'KL_div': calibration_scores[0], 'JS_div': calibration_scores[1]}, ignore_index=True)\n",
      "/var/folders/8v/cgqpzdls33l6jdsvj3z4fdyh0000gn/T/ipykernel_64710/506424766.py:25: FutureWarning: The frame.append method is deprecated and will be removed from pandas in a future version. Use pandas.concat instead.\n",
      "  results = results.append({'user': user_id, 'Algorithm': algo, 'KL_div': calibration_scores[0], 'JS_div': calibration_scores[1]}, ignore_index=True)\n"
     ]
    },
    {
     "name": "stdout",
     "output_type": "stream",
     "text": [
      "869\n"
     ]
    },
    {
     "name": "stderr",
     "output_type": "stream",
     "text": [
      "/var/folders/8v/cgqpzdls33l6jdsvj3z4fdyh0000gn/T/ipykernel_64710/506424766.py:25: FutureWarning: The frame.append method is deprecated and will be removed from pandas in a future version. Use pandas.concat instead.\n",
      "  results = results.append({'user': user_id, 'Algorithm': algo, 'KL_div': calibration_scores[0], 'JS_div': calibration_scores[1]}, ignore_index=True)\n",
      "/var/folders/8v/cgqpzdls33l6jdsvj3z4fdyh0000gn/T/ipykernel_64710/506424766.py:25: FutureWarning: The frame.append method is deprecated and will be removed from pandas in a future version. Use pandas.concat instead.\n",
      "  results = results.append({'user': user_id, 'Algorithm': algo, 'KL_div': calibration_scores[0], 'JS_div': calibration_scores[1]}, ignore_index=True)\n"
     ]
    },
    {
     "name": "stdout",
     "output_type": "stream",
     "text": [
      "870\n"
     ]
    },
    {
     "name": "stderr",
     "output_type": "stream",
     "text": [
      "/var/folders/8v/cgqpzdls33l6jdsvj3z4fdyh0000gn/T/ipykernel_64710/506424766.py:25: FutureWarning: The frame.append method is deprecated and will be removed from pandas in a future version. Use pandas.concat instead.\n",
      "  results = results.append({'user': user_id, 'Algorithm': algo, 'KL_div': calibration_scores[0], 'JS_div': calibration_scores[1]}, ignore_index=True)\n",
      "/var/folders/8v/cgqpzdls33l6jdsvj3z4fdyh0000gn/T/ipykernel_64710/506424766.py:25: FutureWarning: The frame.append method is deprecated and will be removed from pandas in a future version. Use pandas.concat instead.\n",
      "  results = results.append({'user': user_id, 'Algorithm': algo, 'KL_div': calibration_scores[0], 'JS_div': calibration_scores[1]}, ignore_index=True)\n"
     ]
    },
    {
     "name": "stdout",
     "output_type": "stream",
     "text": [
      "871\n"
     ]
    },
    {
     "name": "stderr",
     "output_type": "stream",
     "text": [
      "/var/folders/8v/cgqpzdls33l6jdsvj3z4fdyh0000gn/T/ipykernel_64710/506424766.py:25: FutureWarning: The frame.append method is deprecated and will be removed from pandas in a future version. Use pandas.concat instead.\n",
      "  results = results.append({'user': user_id, 'Algorithm': algo, 'KL_div': calibration_scores[0], 'JS_div': calibration_scores[1]}, ignore_index=True)\n",
      "/var/folders/8v/cgqpzdls33l6jdsvj3z4fdyh0000gn/T/ipykernel_64710/506424766.py:25: FutureWarning: The frame.append method is deprecated and will be removed from pandas in a future version. Use pandas.concat instead.\n",
      "  results = results.append({'user': user_id, 'Algorithm': algo, 'KL_div': calibration_scores[0], 'JS_div': calibration_scores[1]}, ignore_index=True)\n"
     ]
    },
    {
     "name": "stdout",
     "output_type": "stream",
     "text": [
      "872\n"
     ]
    },
    {
     "name": "stderr",
     "output_type": "stream",
     "text": [
      "/var/folders/8v/cgqpzdls33l6jdsvj3z4fdyh0000gn/T/ipykernel_64710/506424766.py:25: FutureWarning: The frame.append method is deprecated and will be removed from pandas in a future version. Use pandas.concat instead.\n",
      "  results = results.append({'user': user_id, 'Algorithm': algo, 'KL_div': calibration_scores[0], 'JS_div': calibration_scores[1]}, ignore_index=True)\n",
      "/var/folders/8v/cgqpzdls33l6jdsvj3z4fdyh0000gn/T/ipykernel_64710/506424766.py:25: FutureWarning: The frame.append method is deprecated and will be removed from pandas in a future version. Use pandas.concat instead.\n",
      "  results = results.append({'user': user_id, 'Algorithm': algo, 'KL_div': calibration_scores[0], 'JS_div': calibration_scores[1]}, ignore_index=True)\n"
     ]
    },
    {
     "name": "stdout",
     "output_type": "stream",
     "text": [
      "873\n"
     ]
    },
    {
     "name": "stderr",
     "output_type": "stream",
     "text": [
      "/var/folders/8v/cgqpzdls33l6jdsvj3z4fdyh0000gn/T/ipykernel_64710/506424766.py:25: FutureWarning: The frame.append method is deprecated and will be removed from pandas in a future version. Use pandas.concat instead.\n",
      "  results = results.append({'user': user_id, 'Algorithm': algo, 'KL_div': calibration_scores[0], 'JS_div': calibration_scores[1]}, ignore_index=True)\n",
      "/var/folders/8v/cgqpzdls33l6jdsvj3z4fdyh0000gn/T/ipykernel_64710/506424766.py:25: FutureWarning: The frame.append method is deprecated and will be removed from pandas in a future version. Use pandas.concat instead.\n",
      "  results = results.append({'user': user_id, 'Algorithm': algo, 'KL_div': calibration_scores[0], 'JS_div': calibration_scores[1]}, ignore_index=True)\n"
     ]
    },
    {
     "name": "stdout",
     "output_type": "stream",
     "text": [
      "874\n"
     ]
    },
    {
     "name": "stderr",
     "output_type": "stream",
     "text": [
      "/var/folders/8v/cgqpzdls33l6jdsvj3z4fdyh0000gn/T/ipykernel_64710/506424766.py:25: FutureWarning: The frame.append method is deprecated and will be removed from pandas in a future version. Use pandas.concat instead.\n",
      "  results = results.append({'user': user_id, 'Algorithm': algo, 'KL_div': calibration_scores[0], 'JS_div': calibration_scores[1]}, ignore_index=True)\n",
      "/var/folders/8v/cgqpzdls33l6jdsvj3z4fdyh0000gn/T/ipykernel_64710/506424766.py:25: FutureWarning: The frame.append method is deprecated and will be removed from pandas in a future version. Use pandas.concat instead.\n",
      "  results = results.append({'user': user_id, 'Algorithm': algo, 'KL_div': calibration_scores[0], 'JS_div': calibration_scores[1]}, ignore_index=True)\n"
     ]
    },
    {
     "name": "stdout",
     "output_type": "stream",
     "text": [
      "875\n"
     ]
    },
    {
     "name": "stderr",
     "output_type": "stream",
     "text": [
      "/var/folders/8v/cgqpzdls33l6jdsvj3z4fdyh0000gn/T/ipykernel_64710/506424766.py:25: FutureWarning: The frame.append method is deprecated and will be removed from pandas in a future version. Use pandas.concat instead.\n",
      "  results = results.append({'user': user_id, 'Algorithm': algo, 'KL_div': calibration_scores[0], 'JS_div': calibration_scores[1]}, ignore_index=True)\n",
      "/var/folders/8v/cgqpzdls33l6jdsvj3z4fdyh0000gn/T/ipykernel_64710/506424766.py:25: FutureWarning: The frame.append method is deprecated and will be removed from pandas in a future version. Use pandas.concat instead.\n",
      "  results = results.append({'user': user_id, 'Algorithm': algo, 'KL_div': calibration_scores[0], 'JS_div': calibration_scores[1]}, ignore_index=True)\n"
     ]
    },
    {
     "name": "stdout",
     "output_type": "stream",
     "text": [
      "876\n"
     ]
    },
    {
     "name": "stderr",
     "output_type": "stream",
     "text": [
      "/var/folders/8v/cgqpzdls33l6jdsvj3z4fdyh0000gn/T/ipykernel_64710/506424766.py:25: FutureWarning: The frame.append method is deprecated and will be removed from pandas in a future version. Use pandas.concat instead.\n",
      "  results = results.append({'user': user_id, 'Algorithm': algo, 'KL_div': calibration_scores[0], 'JS_div': calibration_scores[1]}, ignore_index=True)\n",
      "/var/folders/8v/cgqpzdls33l6jdsvj3z4fdyh0000gn/T/ipykernel_64710/506424766.py:25: FutureWarning: The frame.append method is deprecated and will be removed from pandas in a future version. Use pandas.concat instead.\n",
      "  results = results.append({'user': user_id, 'Algorithm': algo, 'KL_div': calibration_scores[0], 'JS_div': calibration_scores[1]}, ignore_index=True)\n"
     ]
    },
    {
     "name": "stdout",
     "output_type": "stream",
     "text": [
      "877\n"
     ]
    },
    {
     "name": "stderr",
     "output_type": "stream",
     "text": [
      "/var/folders/8v/cgqpzdls33l6jdsvj3z4fdyh0000gn/T/ipykernel_64710/506424766.py:25: FutureWarning: The frame.append method is deprecated and will be removed from pandas in a future version. Use pandas.concat instead.\n",
      "  results = results.append({'user': user_id, 'Algorithm': algo, 'KL_div': calibration_scores[0], 'JS_div': calibration_scores[1]}, ignore_index=True)\n",
      "/var/folders/8v/cgqpzdls33l6jdsvj3z4fdyh0000gn/T/ipykernel_64710/506424766.py:25: FutureWarning: The frame.append method is deprecated and will be removed from pandas in a future version. Use pandas.concat instead.\n",
      "  results = results.append({'user': user_id, 'Algorithm': algo, 'KL_div': calibration_scores[0], 'JS_div': calibration_scores[1]}, ignore_index=True)\n"
     ]
    },
    {
     "name": "stdout",
     "output_type": "stream",
     "text": [
      "878\n"
     ]
    },
    {
     "name": "stderr",
     "output_type": "stream",
     "text": [
      "/var/folders/8v/cgqpzdls33l6jdsvj3z4fdyh0000gn/T/ipykernel_64710/506424766.py:25: FutureWarning: The frame.append method is deprecated and will be removed from pandas in a future version. Use pandas.concat instead.\n",
      "  results = results.append({'user': user_id, 'Algorithm': algo, 'KL_div': calibration_scores[0], 'JS_div': calibration_scores[1]}, ignore_index=True)\n",
      "/var/folders/8v/cgqpzdls33l6jdsvj3z4fdyh0000gn/T/ipykernel_64710/506424766.py:25: FutureWarning: The frame.append method is deprecated and will be removed from pandas in a future version. Use pandas.concat instead.\n",
      "  results = results.append({'user': user_id, 'Algorithm': algo, 'KL_div': calibration_scores[0], 'JS_div': calibration_scores[1]}, ignore_index=True)\n"
     ]
    },
    {
     "name": "stdout",
     "output_type": "stream",
     "text": [
      "879\n"
     ]
    },
    {
     "name": "stderr",
     "output_type": "stream",
     "text": [
      "/var/folders/8v/cgqpzdls33l6jdsvj3z4fdyh0000gn/T/ipykernel_64710/506424766.py:25: FutureWarning: The frame.append method is deprecated and will be removed from pandas in a future version. Use pandas.concat instead.\n",
      "  results = results.append({'user': user_id, 'Algorithm': algo, 'KL_div': calibration_scores[0], 'JS_div': calibration_scores[1]}, ignore_index=True)\n",
      "/var/folders/8v/cgqpzdls33l6jdsvj3z4fdyh0000gn/T/ipykernel_64710/506424766.py:25: FutureWarning: The frame.append method is deprecated and will be removed from pandas in a future version. Use pandas.concat instead.\n",
      "  results = results.append({'user': user_id, 'Algorithm': algo, 'KL_div': calibration_scores[0], 'JS_div': calibration_scores[1]}, ignore_index=True)\n"
     ]
    },
    {
     "name": "stdout",
     "output_type": "stream",
     "text": [
      "880\n"
     ]
    },
    {
     "name": "stderr",
     "output_type": "stream",
     "text": [
      "/var/folders/8v/cgqpzdls33l6jdsvj3z4fdyh0000gn/T/ipykernel_64710/506424766.py:25: FutureWarning: The frame.append method is deprecated and will be removed from pandas in a future version. Use pandas.concat instead.\n",
      "  results = results.append({'user': user_id, 'Algorithm': algo, 'KL_div': calibration_scores[0], 'JS_div': calibration_scores[1]}, ignore_index=True)\n",
      "/var/folders/8v/cgqpzdls33l6jdsvj3z4fdyh0000gn/T/ipykernel_64710/506424766.py:25: FutureWarning: The frame.append method is deprecated and will be removed from pandas in a future version. Use pandas.concat instead.\n",
      "  results = results.append({'user': user_id, 'Algorithm': algo, 'KL_div': calibration_scores[0], 'JS_div': calibration_scores[1]}, ignore_index=True)\n"
     ]
    },
    {
     "name": "stdout",
     "output_type": "stream",
     "text": [
      "881\n"
     ]
    },
    {
     "name": "stderr",
     "output_type": "stream",
     "text": [
      "/var/folders/8v/cgqpzdls33l6jdsvj3z4fdyh0000gn/T/ipykernel_64710/506424766.py:25: FutureWarning: The frame.append method is deprecated and will be removed from pandas in a future version. Use pandas.concat instead.\n",
      "  results = results.append({'user': user_id, 'Algorithm': algo, 'KL_div': calibration_scores[0], 'JS_div': calibration_scores[1]}, ignore_index=True)\n",
      "/var/folders/8v/cgqpzdls33l6jdsvj3z4fdyh0000gn/T/ipykernel_64710/506424766.py:25: FutureWarning: The frame.append method is deprecated and will be removed from pandas in a future version. Use pandas.concat instead.\n",
      "  results = results.append({'user': user_id, 'Algorithm': algo, 'KL_div': calibration_scores[0], 'JS_div': calibration_scores[1]}, ignore_index=True)\n"
     ]
    },
    {
     "name": "stdout",
     "output_type": "stream",
     "text": [
      "882\n"
     ]
    },
    {
     "name": "stderr",
     "output_type": "stream",
     "text": [
      "/var/folders/8v/cgqpzdls33l6jdsvj3z4fdyh0000gn/T/ipykernel_64710/506424766.py:25: FutureWarning: The frame.append method is deprecated and will be removed from pandas in a future version. Use pandas.concat instead.\n",
      "  results = results.append({'user': user_id, 'Algorithm': algo, 'KL_div': calibration_scores[0], 'JS_div': calibration_scores[1]}, ignore_index=True)\n",
      "/var/folders/8v/cgqpzdls33l6jdsvj3z4fdyh0000gn/T/ipykernel_64710/506424766.py:25: FutureWarning: The frame.append method is deprecated and will be removed from pandas in a future version. Use pandas.concat instead.\n",
      "  results = results.append({'user': user_id, 'Algorithm': algo, 'KL_div': calibration_scores[0], 'JS_div': calibration_scores[1]}, ignore_index=True)\n"
     ]
    },
    {
     "name": "stdout",
     "output_type": "stream",
     "text": [
      "883\n"
     ]
    },
    {
     "name": "stderr",
     "output_type": "stream",
     "text": [
      "/var/folders/8v/cgqpzdls33l6jdsvj3z4fdyh0000gn/T/ipykernel_64710/506424766.py:25: FutureWarning: The frame.append method is deprecated and will be removed from pandas in a future version. Use pandas.concat instead.\n",
      "  results = results.append({'user': user_id, 'Algorithm': algo, 'KL_div': calibration_scores[0], 'JS_div': calibration_scores[1]}, ignore_index=True)\n",
      "/var/folders/8v/cgqpzdls33l6jdsvj3z4fdyh0000gn/T/ipykernel_64710/506424766.py:25: FutureWarning: The frame.append method is deprecated and will be removed from pandas in a future version. Use pandas.concat instead.\n",
      "  results = results.append({'user': user_id, 'Algorithm': algo, 'KL_div': calibration_scores[0], 'JS_div': calibration_scores[1]}, ignore_index=True)\n"
     ]
    },
    {
     "name": "stdout",
     "output_type": "stream",
     "text": [
      "884\n"
     ]
    },
    {
     "name": "stderr",
     "output_type": "stream",
     "text": [
      "/var/folders/8v/cgqpzdls33l6jdsvj3z4fdyh0000gn/T/ipykernel_64710/506424766.py:25: FutureWarning: The frame.append method is deprecated and will be removed from pandas in a future version. Use pandas.concat instead.\n",
      "  results = results.append({'user': user_id, 'Algorithm': algo, 'KL_div': calibration_scores[0], 'JS_div': calibration_scores[1]}, ignore_index=True)\n",
      "/var/folders/8v/cgqpzdls33l6jdsvj3z4fdyh0000gn/T/ipykernel_64710/506424766.py:25: FutureWarning: The frame.append method is deprecated and will be removed from pandas in a future version. Use pandas.concat instead.\n",
      "  results = results.append({'user': user_id, 'Algorithm': algo, 'KL_div': calibration_scores[0], 'JS_div': calibration_scores[1]}, ignore_index=True)\n"
     ]
    },
    {
     "name": "stdout",
     "output_type": "stream",
     "text": [
      "885\n"
     ]
    },
    {
     "name": "stderr",
     "output_type": "stream",
     "text": [
      "/var/folders/8v/cgqpzdls33l6jdsvj3z4fdyh0000gn/T/ipykernel_64710/506424766.py:25: FutureWarning: The frame.append method is deprecated and will be removed from pandas in a future version. Use pandas.concat instead.\n",
      "  results = results.append({'user': user_id, 'Algorithm': algo, 'KL_div': calibration_scores[0], 'JS_div': calibration_scores[1]}, ignore_index=True)\n",
      "/var/folders/8v/cgqpzdls33l6jdsvj3z4fdyh0000gn/T/ipykernel_64710/506424766.py:25: FutureWarning: The frame.append method is deprecated and will be removed from pandas in a future version. Use pandas.concat instead.\n",
      "  results = results.append({'user': user_id, 'Algorithm': algo, 'KL_div': calibration_scores[0], 'JS_div': calibration_scores[1]}, ignore_index=True)\n"
     ]
    },
    {
     "name": "stdout",
     "output_type": "stream",
     "text": [
      "886\n"
     ]
    },
    {
     "name": "stderr",
     "output_type": "stream",
     "text": [
      "/var/folders/8v/cgqpzdls33l6jdsvj3z4fdyh0000gn/T/ipykernel_64710/506424766.py:25: FutureWarning: The frame.append method is deprecated and will be removed from pandas in a future version. Use pandas.concat instead.\n",
      "  results = results.append({'user': user_id, 'Algorithm': algo, 'KL_div': calibration_scores[0], 'JS_div': calibration_scores[1]}, ignore_index=True)\n",
      "/var/folders/8v/cgqpzdls33l6jdsvj3z4fdyh0000gn/T/ipykernel_64710/506424766.py:25: FutureWarning: The frame.append method is deprecated and will be removed from pandas in a future version. Use pandas.concat instead.\n",
      "  results = results.append({'user': user_id, 'Algorithm': algo, 'KL_div': calibration_scores[0], 'JS_div': calibration_scores[1]}, ignore_index=True)\n"
     ]
    },
    {
     "name": "stdout",
     "output_type": "stream",
     "text": [
      "887\n"
     ]
    },
    {
     "name": "stderr",
     "output_type": "stream",
     "text": [
      "/var/folders/8v/cgqpzdls33l6jdsvj3z4fdyh0000gn/T/ipykernel_64710/506424766.py:25: FutureWarning: The frame.append method is deprecated and will be removed from pandas in a future version. Use pandas.concat instead.\n",
      "  results = results.append({'user': user_id, 'Algorithm': algo, 'KL_div': calibration_scores[0], 'JS_div': calibration_scores[1]}, ignore_index=True)\n",
      "/var/folders/8v/cgqpzdls33l6jdsvj3z4fdyh0000gn/T/ipykernel_64710/506424766.py:25: FutureWarning: The frame.append method is deprecated and will be removed from pandas in a future version. Use pandas.concat instead.\n",
      "  results = results.append({'user': user_id, 'Algorithm': algo, 'KL_div': calibration_scores[0], 'JS_div': calibration_scores[1]}, ignore_index=True)\n"
     ]
    },
    {
     "name": "stdout",
     "output_type": "stream",
     "text": [
      "888\n"
     ]
    },
    {
     "name": "stderr",
     "output_type": "stream",
     "text": [
      "/var/folders/8v/cgqpzdls33l6jdsvj3z4fdyh0000gn/T/ipykernel_64710/506424766.py:25: FutureWarning: The frame.append method is deprecated and will be removed from pandas in a future version. Use pandas.concat instead.\n",
      "  results = results.append({'user': user_id, 'Algorithm': algo, 'KL_div': calibration_scores[0], 'JS_div': calibration_scores[1]}, ignore_index=True)\n",
      "/var/folders/8v/cgqpzdls33l6jdsvj3z4fdyh0000gn/T/ipykernel_64710/506424766.py:25: FutureWarning: The frame.append method is deprecated and will be removed from pandas in a future version. Use pandas.concat instead.\n",
      "  results = results.append({'user': user_id, 'Algorithm': algo, 'KL_div': calibration_scores[0], 'JS_div': calibration_scores[1]}, ignore_index=True)\n"
     ]
    },
    {
     "name": "stdout",
     "output_type": "stream",
     "text": [
      "889\n"
     ]
    },
    {
     "name": "stderr",
     "output_type": "stream",
     "text": [
      "/var/folders/8v/cgqpzdls33l6jdsvj3z4fdyh0000gn/T/ipykernel_64710/506424766.py:25: FutureWarning: The frame.append method is deprecated and will be removed from pandas in a future version. Use pandas.concat instead.\n",
      "  results = results.append({'user': user_id, 'Algorithm': algo, 'KL_div': calibration_scores[0], 'JS_div': calibration_scores[1]}, ignore_index=True)\n",
      "/var/folders/8v/cgqpzdls33l6jdsvj3z4fdyh0000gn/T/ipykernel_64710/506424766.py:25: FutureWarning: The frame.append method is deprecated and will be removed from pandas in a future version. Use pandas.concat instead.\n",
      "  results = results.append({'user': user_id, 'Algorithm': algo, 'KL_div': calibration_scores[0], 'JS_div': calibration_scores[1]}, ignore_index=True)\n"
     ]
    },
    {
     "name": "stdout",
     "output_type": "stream",
     "text": [
      "890\n"
     ]
    },
    {
     "name": "stderr",
     "output_type": "stream",
     "text": [
      "/var/folders/8v/cgqpzdls33l6jdsvj3z4fdyh0000gn/T/ipykernel_64710/506424766.py:25: FutureWarning: The frame.append method is deprecated and will be removed from pandas in a future version. Use pandas.concat instead.\n",
      "  results = results.append({'user': user_id, 'Algorithm': algo, 'KL_div': calibration_scores[0], 'JS_div': calibration_scores[1]}, ignore_index=True)\n",
      "/var/folders/8v/cgqpzdls33l6jdsvj3z4fdyh0000gn/T/ipykernel_64710/506424766.py:25: FutureWarning: The frame.append method is deprecated and will be removed from pandas in a future version. Use pandas.concat instead.\n",
      "  results = results.append({'user': user_id, 'Algorithm': algo, 'KL_div': calibration_scores[0], 'JS_div': calibration_scores[1]}, ignore_index=True)\n"
     ]
    },
    {
     "name": "stdout",
     "output_type": "stream",
     "text": [
      "891\n"
     ]
    },
    {
     "name": "stderr",
     "output_type": "stream",
     "text": [
      "/var/folders/8v/cgqpzdls33l6jdsvj3z4fdyh0000gn/T/ipykernel_64710/506424766.py:25: FutureWarning: The frame.append method is deprecated and will be removed from pandas in a future version. Use pandas.concat instead.\n",
      "  results = results.append({'user': user_id, 'Algorithm': algo, 'KL_div': calibration_scores[0], 'JS_div': calibration_scores[1]}, ignore_index=True)\n",
      "/var/folders/8v/cgqpzdls33l6jdsvj3z4fdyh0000gn/T/ipykernel_64710/506424766.py:25: FutureWarning: The frame.append method is deprecated and will be removed from pandas in a future version. Use pandas.concat instead.\n",
      "  results = results.append({'user': user_id, 'Algorithm': algo, 'KL_div': calibration_scores[0], 'JS_div': calibration_scores[1]}, ignore_index=True)\n"
     ]
    },
    {
     "name": "stdout",
     "output_type": "stream",
     "text": [
      "892\n"
     ]
    },
    {
     "name": "stderr",
     "output_type": "stream",
     "text": [
      "/var/folders/8v/cgqpzdls33l6jdsvj3z4fdyh0000gn/T/ipykernel_64710/506424766.py:25: FutureWarning: The frame.append method is deprecated and will be removed from pandas in a future version. Use pandas.concat instead.\n",
      "  results = results.append({'user': user_id, 'Algorithm': algo, 'KL_div': calibration_scores[0], 'JS_div': calibration_scores[1]}, ignore_index=True)\n",
      "/var/folders/8v/cgqpzdls33l6jdsvj3z4fdyh0000gn/T/ipykernel_64710/506424766.py:25: FutureWarning: The frame.append method is deprecated and will be removed from pandas in a future version. Use pandas.concat instead.\n",
      "  results = results.append({'user': user_id, 'Algorithm': algo, 'KL_div': calibration_scores[0], 'JS_div': calibration_scores[1]}, ignore_index=True)\n"
     ]
    },
    {
     "name": "stdout",
     "output_type": "stream",
     "text": [
      "893\n"
     ]
    },
    {
     "name": "stderr",
     "output_type": "stream",
     "text": [
      "/var/folders/8v/cgqpzdls33l6jdsvj3z4fdyh0000gn/T/ipykernel_64710/506424766.py:25: FutureWarning: The frame.append method is deprecated and will be removed from pandas in a future version. Use pandas.concat instead.\n",
      "  results = results.append({'user': user_id, 'Algorithm': algo, 'KL_div': calibration_scores[0], 'JS_div': calibration_scores[1]}, ignore_index=True)\n",
      "/var/folders/8v/cgqpzdls33l6jdsvj3z4fdyh0000gn/T/ipykernel_64710/506424766.py:25: FutureWarning: The frame.append method is deprecated and will be removed from pandas in a future version. Use pandas.concat instead.\n",
      "  results = results.append({'user': user_id, 'Algorithm': algo, 'KL_div': calibration_scores[0], 'JS_div': calibration_scores[1]}, ignore_index=True)\n"
     ]
    },
    {
     "name": "stdout",
     "output_type": "stream",
     "text": [
      "894\n"
     ]
    },
    {
     "name": "stderr",
     "output_type": "stream",
     "text": [
      "/var/folders/8v/cgqpzdls33l6jdsvj3z4fdyh0000gn/T/ipykernel_64710/506424766.py:25: FutureWarning: The frame.append method is deprecated and will be removed from pandas in a future version. Use pandas.concat instead.\n",
      "  results = results.append({'user': user_id, 'Algorithm': algo, 'KL_div': calibration_scores[0], 'JS_div': calibration_scores[1]}, ignore_index=True)\n",
      "/var/folders/8v/cgqpzdls33l6jdsvj3z4fdyh0000gn/T/ipykernel_64710/506424766.py:25: FutureWarning: The frame.append method is deprecated and will be removed from pandas in a future version. Use pandas.concat instead.\n",
      "  results = results.append({'user': user_id, 'Algorithm': algo, 'KL_div': calibration_scores[0], 'JS_div': calibration_scores[1]}, ignore_index=True)\n"
     ]
    },
    {
     "name": "stdout",
     "output_type": "stream",
     "text": [
      "895\n"
     ]
    },
    {
     "name": "stderr",
     "output_type": "stream",
     "text": [
      "/var/folders/8v/cgqpzdls33l6jdsvj3z4fdyh0000gn/T/ipykernel_64710/506424766.py:25: FutureWarning: The frame.append method is deprecated and will be removed from pandas in a future version. Use pandas.concat instead.\n",
      "  results = results.append({'user': user_id, 'Algorithm': algo, 'KL_div': calibration_scores[0], 'JS_div': calibration_scores[1]}, ignore_index=True)\n",
      "/var/folders/8v/cgqpzdls33l6jdsvj3z4fdyh0000gn/T/ipykernel_64710/506424766.py:25: FutureWarning: The frame.append method is deprecated and will be removed from pandas in a future version. Use pandas.concat instead.\n",
      "  results = results.append({'user': user_id, 'Algorithm': algo, 'KL_div': calibration_scores[0], 'JS_div': calibration_scores[1]}, ignore_index=True)\n"
     ]
    },
    {
     "name": "stdout",
     "output_type": "stream",
     "text": [
      "896\n"
     ]
    },
    {
     "name": "stderr",
     "output_type": "stream",
     "text": [
      "/var/folders/8v/cgqpzdls33l6jdsvj3z4fdyh0000gn/T/ipykernel_64710/506424766.py:25: FutureWarning: The frame.append method is deprecated and will be removed from pandas in a future version. Use pandas.concat instead.\n",
      "  results = results.append({'user': user_id, 'Algorithm': algo, 'KL_div': calibration_scores[0], 'JS_div': calibration_scores[1]}, ignore_index=True)\n",
      "/var/folders/8v/cgqpzdls33l6jdsvj3z4fdyh0000gn/T/ipykernel_64710/506424766.py:25: FutureWarning: The frame.append method is deprecated and will be removed from pandas in a future version. Use pandas.concat instead.\n",
      "  results = results.append({'user': user_id, 'Algorithm': algo, 'KL_div': calibration_scores[0], 'JS_div': calibration_scores[1]}, ignore_index=True)\n"
     ]
    },
    {
     "name": "stdout",
     "output_type": "stream",
     "text": [
      "897\n"
     ]
    },
    {
     "name": "stderr",
     "output_type": "stream",
     "text": [
      "/var/folders/8v/cgqpzdls33l6jdsvj3z4fdyh0000gn/T/ipykernel_64710/506424766.py:25: FutureWarning: The frame.append method is deprecated and will be removed from pandas in a future version. Use pandas.concat instead.\n",
      "  results = results.append({'user': user_id, 'Algorithm': algo, 'KL_div': calibration_scores[0], 'JS_div': calibration_scores[1]}, ignore_index=True)\n",
      "/var/folders/8v/cgqpzdls33l6jdsvj3z4fdyh0000gn/T/ipykernel_64710/506424766.py:25: FutureWarning: The frame.append method is deprecated and will be removed from pandas in a future version. Use pandas.concat instead.\n",
      "  results = results.append({'user': user_id, 'Algorithm': algo, 'KL_div': calibration_scores[0], 'JS_div': calibration_scores[1]}, ignore_index=True)\n"
     ]
    },
    {
     "name": "stdout",
     "output_type": "stream",
     "text": [
      "898\n"
     ]
    },
    {
     "name": "stderr",
     "output_type": "stream",
     "text": [
      "/var/folders/8v/cgqpzdls33l6jdsvj3z4fdyh0000gn/T/ipykernel_64710/506424766.py:25: FutureWarning: The frame.append method is deprecated and will be removed from pandas in a future version. Use pandas.concat instead.\n",
      "  results = results.append({'user': user_id, 'Algorithm': algo, 'KL_div': calibration_scores[0], 'JS_div': calibration_scores[1]}, ignore_index=True)\n",
      "/var/folders/8v/cgqpzdls33l6jdsvj3z4fdyh0000gn/T/ipykernel_64710/506424766.py:25: FutureWarning: The frame.append method is deprecated and will be removed from pandas in a future version. Use pandas.concat instead.\n",
      "  results = results.append({'user': user_id, 'Algorithm': algo, 'KL_div': calibration_scores[0], 'JS_div': calibration_scores[1]}, ignore_index=True)\n"
     ]
    },
    {
     "name": "stdout",
     "output_type": "stream",
     "text": [
      "899\n"
     ]
    },
    {
     "name": "stderr",
     "output_type": "stream",
     "text": [
      "/var/folders/8v/cgqpzdls33l6jdsvj3z4fdyh0000gn/T/ipykernel_64710/506424766.py:25: FutureWarning: The frame.append method is deprecated and will be removed from pandas in a future version. Use pandas.concat instead.\n",
      "  results = results.append({'user': user_id, 'Algorithm': algo, 'KL_div': calibration_scores[0], 'JS_div': calibration_scores[1]}, ignore_index=True)\n",
      "/var/folders/8v/cgqpzdls33l6jdsvj3z4fdyh0000gn/T/ipykernel_64710/506424766.py:25: FutureWarning: The frame.append method is deprecated and will be removed from pandas in a future version. Use pandas.concat instead.\n",
      "  results = results.append({'user': user_id, 'Algorithm': algo, 'KL_div': calibration_scores[0], 'JS_div': calibration_scores[1]}, ignore_index=True)\n"
     ]
    },
    {
     "name": "stdout",
     "output_type": "stream",
     "text": [
      "900\n"
     ]
    },
    {
     "name": "stderr",
     "output_type": "stream",
     "text": [
      "/var/folders/8v/cgqpzdls33l6jdsvj3z4fdyh0000gn/T/ipykernel_64710/506424766.py:25: FutureWarning: The frame.append method is deprecated and will be removed from pandas in a future version. Use pandas.concat instead.\n",
      "  results = results.append({'user': user_id, 'Algorithm': algo, 'KL_div': calibration_scores[0], 'JS_div': calibration_scores[1]}, ignore_index=True)\n",
      "/var/folders/8v/cgqpzdls33l6jdsvj3z4fdyh0000gn/T/ipykernel_64710/506424766.py:25: FutureWarning: The frame.append method is deprecated and will be removed from pandas in a future version. Use pandas.concat instead.\n",
      "  results = results.append({'user': user_id, 'Algorithm': algo, 'KL_div': calibration_scores[0], 'JS_div': calibration_scores[1]}, ignore_index=True)\n"
     ]
    },
    {
     "name": "stdout",
     "output_type": "stream",
     "text": [
      "901\n"
     ]
    },
    {
     "name": "stderr",
     "output_type": "stream",
     "text": [
      "/var/folders/8v/cgqpzdls33l6jdsvj3z4fdyh0000gn/T/ipykernel_64710/506424766.py:25: FutureWarning: The frame.append method is deprecated and will be removed from pandas in a future version. Use pandas.concat instead.\n",
      "  results = results.append({'user': user_id, 'Algorithm': algo, 'KL_div': calibration_scores[0], 'JS_div': calibration_scores[1]}, ignore_index=True)\n",
      "/var/folders/8v/cgqpzdls33l6jdsvj3z4fdyh0000gn/T/ipykernel_64710/506424766.py:25: FutureWarning: The frame.append method is deprecated and will be removed from pandas in a future version. Use pandas.concat instead.\n",
      "  results = results.append({'user': user_id, 'Algorithm': algo, 'KL_div': calibration_scores[0], 'JS_div': calibration_scores[1]}, ignore_index=True)\n"
     ]
    },
    {
     "name": "stdout",
     "output_type": "stream",
     "text": [
      "902\n"
     ]
    },
    {
     "name": "stderr",
     "output_type": "stream",
     "text": [
      "/var/folders/8v/cgqpzdls33l6jdsvj3z4fdyh0000gn/T/ipykernel_64710/506424766.py:25: FutureWarning: The frame.append method is deprecated and will be removed from pandas in a future version. Use pandas.concat instead.\n",
      "  results = results.append({'user': user_id, 'Algorithm': algo, 'KL_div': calibration_scores[0], 'JS_div': calibration_scores[1]}, ignore_index=True)\n",
      "/var/folders/8v/cgqpzdls33l6jdsvj3z4fdyh0000gn/T/ipykernel_64710/506424766.py:25: FutureWarning: The frame.append method is deprecated and will be removed from pandas in a future version. Use pandas.concat instead.\n",
      "  results = results.append({'user': user_id, 'Algorithm': algo, 'KL_div': calibration_scores[0], 'JS_div': calibration_scores[1]}, ignore_index=True)\n"
     ]
    },
    {
     "name": "stdout",
     "output_type": "stream",
     "text": [
      "903\n"
     ]
    },
    {
     "name": "stderr",
     "output_type": "stream",
     "text": [
      "/var/folders/8v/cgqpzdls33l6jdsvj3z4fdyh0000gn/T/ipykernel_64710/506424766.py:25: FutureWarning: The frame.append method is deprecated and will be removed from pandas in a future version. Use pandas.concat instead.\n",
      "  results = results.append({'user': user_id, 'Algorithm': algo, 'KL_div': calibration_scores[0], 'JS_div': calibration_scores[1]}, ignore_index=True)\n",
      "/var/folders/8v/cgqpzdls33l6jdsvj3z4fdyh0000gn/T/ipykernel_64710/506424766.py:25: FutureWarning: The frame.append method is deprecated and will be removed from pandas in a future version. Use pandas.concat instead.\n",
      "  results = results.append({'user': user_id, 'Algorithm': algo, 'KL_div': calibration_scores[0], 'JS_div': calibration_scores[1]}, ignore_index=True)\n"
     ]
    },
    {
     "name": "stdout",
     "output_type": "stream",
     "text": [
      "904\n"
     ]
    },
    {
     "name": "stderr",
     "output_type": "stream",
     "text": [
      "/var/folders/8v/cgqpzdls33l6jdsvj3z4fdyh0000gn/T/ipykernel_64710/506424766.py:25: FutureWarning: The frame.append method is deprecated and will be removed from pandas in a future version. Use pandas.concat instead.\n",
      "  results = results.append({'user': user_id, 'Algorithm': algo, 'KL_div': calibration_scores[0], 'JS_div': calibration_scores[1]}, ignore_index=True)\n",
      "/var/folders/8v/cgqpzdls33l6jdsvj3z4fdyh0000gn/T/ipykernel_64710/506424766.py:25: FutureWarning: The frame.append method is deprecated and will be removed from pandas in a future version. Use pandas.concat instead.\n",
      "  results = results.append({'user': user_id, 'Algorithm': algo, 'KL_div': calibration_scores[0], 'JS_div': calibration_scores[1]}, ignore_index=True)\n"
     ]
    },
    {
     "name": "stdout",
     "output_type": "stream",
     "text": [
      "905\n"
     ]
    },
    {
     "name": "stderr",
     "output_type": "stream",
     "text": [
      "/var/folders/8v/cgqpzdls33l6jdsvj3z4fdyh0000gn/T/ipykernel_64710/506424766.py:25: FutureWarning: The frame.append method is deprecated and will be removed from pandas in a future version. Use pandas.concat instead.\n",
      "  results = results.append({'user': user_id, 'Algorithm': algo, 'KL_div': calibration_scores[0], 'JS_div': calibration_scores[1]}, ignore_index=True)\n",
      "/var/folders/8v/cgqpzdls33l6jdsvj3z4fdyh0000gn/T/ipykernel_64710/506424766.py:25: FutureWarning: The frame.append method is deprecated and will be removed from pandas in a future version. Use pandas.concat instead.\n",
      "  results = results.append({'user': user_id, 'Algorithm': algo, 'KL_div': calibration_scores[0], 'JS_div': calibration_scores[1]}, ignore_index=True)\n"
     ]
    },
    {
     "name": "stdout",
     "output_type": "stream",
     "text": [
      "906\n"
     ]
    },
    {
     "name": "stderr",
     "output_type": "stream",
     "text": [
      "/var/folders/8v/cgqpzdls33l6jdsvj3z4fdyh0000gn/T/ipykernel_64710/506424766.py:25: FutureWarning: The frame.append method is deprecated and will be removed from pandas in a future version. Use pandas.concat instead.\n",
      "  results = results.append({'user': user_id, 'Algorithm': algo, 'KL_div': calibration_scores[0], 'JS_div': calibration_scores[1]}, ignore_index=True)\n",
      "/var/folders/8v/cgqpzdls33l6jdsvj3z4fdyh0000gn/T/ipykernel_64710/506424766.py:25: FutureWarning: The frame.append method is deprecated and will be removed from pandas in a future version. Use pandas.concat instead.\n",
      "  results = results.append({'user': user_id, 'Algorithm': algo, 'KL_div': calibration_scores[0], 'JS_div': calibration_scores[1]}, ignore_index=True)\n"
     ]
    },
    {
     "name": "stdout",
     "output_type": "stream",
     "text": [
      "907\n"
     ]
    },
    {
     "name": "stderr",
     "output_type": "stream",
     "text": [
      "/var/folders/8v/cgqpzdls33l6jdsvj3z4fdyh0000gn/T/ipykernel_64710/506424766.py:25: FutureWarning: The frame.append method is deprecated and will be removed from pandas in a future version. Use pandas.concat instead.\n",
      "  results = results.append({'user': user_id, 'Algorithm': algo, 'KL_div': calibration_scores[0], 'JS_div': calibration_scores[1]}, ignore_index=True)\n",
      "/var/folders/8v/cgqpzdls33l6jdsvj3z4fdyh0000gn/T/ipykernel_64710/506424766.py:25: FutureWarning: The frame.append method is deprecated and will be removed from pandas in a future version. Use pandas.concat instead.\n",
      "  results = results.append({'user': user_id, 'Algorithm': algo, 'KL_div': calibration_scores[0], 'JS_div': calibration_scores[1]}, ignore_index=True)\n"
     ]
    },
    {
     "name": "stdout",
     "output_type": "stream",
     "text": [
      "908\n"
     ]
    },
    {
     "name": "stderr",
     "output_type": "stream",
     "text": [
      "/var/folders/8v/cgqpzdls33l6jdsvj3z4fdyh0000gn/T/ipykernel_64710/506424766.py:25: FutureWarning: The frame.append method is deprecated and will be removed from pandas in a future version. Use pandas.concat instead.\n",
      "  results = results.append({'user': user_id, 'Algorithm': algo, 'KL_div': calibration_scores[0], 'JS_div': calibration_scores[1]}, ignore_index=True)\n",
      "/var/folders/8v/cgqpzdls33l6jdsvj3z4fdyh0000gn/T/ipykernel_64710/506424766.py:25: FutureWarning: The frame.append method is deprecated and will be removed from pandas in a future version. Use pandas.concat instead.\n",
      "  results = results.append({'user': user_id, 'Algorithm': algo, 'KL_div': calibration_scores[0], 'JS_div': calibration_scores[1]}, ignore_index=True)\n"
     ]
    },
    {
     "name": "stdout",
     "output_type": "stream",
     "text": [
      "909\n"
     ]
    },
    {
     "name": "stderr",
     "output_type": "stream",
     "text": [
      "/var/folders/8v/cgqpzdls33l6jdsvj3z4fdyh0000gn/T/ipykernel_64710/506424766.py:25: FutureWarning: The frame.append method is deprecated and will be removed from pandas in a future version. Use pandas.concat instead.\n",
      "  results = results.append({'user': user_id, 'Algorithm': algo, 'KL_div': calibration_scores[0], 'JS_div': calibration_scores[1]}, ignore_index=True)\n",
      "/var/folders/8v/cgqpzdls33l6jdsvj3z4fdyh0000gn/T/ipykernel_64710/506424766.py:25: FutureWarning: The frame.append method is deprecated and will be removed from pandas in a future version. Use pandas.concat instead.\n",
      "  results = results.append({'user': user_id, 'Algorithm': algo, 'KL_div': calibration_scores[0], 'JS_div': calibration_scores[1]}, ignore_index=True)\n"
     ]
    },
    {
     "name": "stdout",
     "output_type": "stream",
     "text": [
      "910\n"
     ]
    },
    {
     "name": "stderr",
     "output_type": "stream",
     "text": [
      "/var/folders/8v/cgqpzdls33l6jdsvj3z4fdyh0000gn/T/ipykernel_64710/506424766.py:25: FutureWarning: The frame.append method is deprecated and will be removed from pandas in a future version. Use pandas.concat instead.\n",
      "  results = results.append({'user': user_id, 'Algorithm': algo, 'KL_div': calibration_scores[0], 'JS_div': calibration_scores[1]}, ignore_index=True)\n",
      "/var/folders/8v/cgqpzdls33l6jdsvj3z4fdyh0000gn/T/ipykernel_64710/506424766.py:25: FutureWarning: The frame.append method is deprecated and will be removed from pandas in a future version. Use pandas.concat instead.\n",
      "  results = results.append({'user': user_id, 'Algorithm': algo, 'KL_div': calibration_scores[0], 'JS_div': calibration_scores[1]}, ignore_index=True)\n"
     ]
    },
    {
     "name": "stdout",
     "output_type": "stream",
     "text": [
      "911\n"
     ]
    },
    {
     "name": "stderr",
     "output_type": "stream",
     "text": [
      "/var/folders/8v/cgqpzdls33l6jdsvj3z4fdyh0000gn/T/ipykernel_64710/506424766.py:25: FutureWarning: The frame.append method is deprecated and will be removed from pandas in a future version. Use pandas.concat instead.\n",
      "  results = results.append({'user': user_id, 'Algorithm': algo, 'KL_div': calibration_scores[0], 'JS_div': calibration_scores[1]}, ignore_index=True)\n",
      "/var/folders/8v/cgqpzdls33l6jdsvj3z4fdyh0000gn/T/ipykernel_64710/506424766.py:25: FutureWarning: The frame.append method is deprecated and will be removed from pandas in a future version. Use pandas.concat instead.\n",
      "  results = results.append({'user': user_id, 'Algorithm': algo, 'KL_div': calibration_scores[0], 'JS_div': calibration_scores[1]}, ignore_index=True)\n"
     ]
    },
    {
     "name": "stdout",
     "output_type": "stream",
     "text": [
      "912\n"
     ]
    },
    {
     "name": "stderr",
     "output_type": "stream",
     "text": [
      "/var/folders/8v/cgqpzdls33l6jdsvj3z4fdyh0000gn/T/ipykernel_64710/506424766.py:25: FutureWarning: The frame.append method is deprecated and will be removed from pandas in a future version. Use pandas.concat instead.\n",
      "  results = results.append({'user': user_id, 'Algorithm': algo, 'KL_div': calibration_scores[0], 'JS_div': calibration_scores[1]}, ignore_index=True)\n",
      "/var/folders/8v/cgqpzdls33l6jdsvj3z4fdyh0000gn/T/ipykernel_64710/506424766.py:25: FutureWarning: The frame.append method is deprecated and will be removed from pandas in a future version. Use pandas.concat instead.\n",
      "  results = results.append({'user': user_id, 'Algorithm': algo, 'KL_div': calibration_scores[0], 'JS_div': calibration_scores[1]}, ignore_index=True)\n"
     ]
    },
    {
     "name": "stdout",
     "output_type": "stream",
     "text": [
      "913\n"
     ]
    },
    {
     "name": "stderr",
     "output_type": "stream",
     "text": [
      "/var/folders/8v/cgqpzdls33l6jdsvj3z4fdyh0000gn/T/ipykernel_64710/506424766.py:25: FutureWarning: The frame.append method is deprecated and will be removed from pandas in a future version. Use pandas.concat instead.\n",
      "  results = results.append({'user': user_id, 'Algorithm': algo, 'KL_div': calibration_scores[0], 'JS_div': calibration_scores[1]}, ignore_index=True)\n",
      "/var/folders/8v/cgqpzdls33l6jdsvj3z4fdyh0000gn/T/ipykernel_64710/506424766.py:25: FutureWarning: The frame.append method is deprecated and will be removed from pandas in a future version. Use pandas.concat instead.\n",
      "  results = results.append({'user': user_id, 'Algorithm': algo, 'KL_div': calibration_scores[0], 'JS_div': calibration_scores[1]}, ignore_index=True)\n"
     ]
    },
    {
     "name": "stdout",
     "output_type": "stream",
     "text": [
      "914\n"
     ]
    },
    {
     "name": "stderr",
     "output_type": "stream",
     "text": [
      "/var/folders/8v/cgqpzdls33l6jdsvj3z4fdyh0000gn/T/ipykernel_64710/506424766.py:25: FutureWarning: The frame.append method is deprecated and will be removed from pandas in a future version. Use pandas.concat instead.\n",
      "  results = results.append({'user': user_id, 'Algorithm': algo, 'KL_div': calibration_scores[0], 'JS_div': calibration_scores[1]}, ignore_index=True)\n",
      "/var/folders/8v/cgqpzdls33l6jdsvj3z4fdyh0000gn/T/ipykernel_64710/506424766.py:25: FutureWarning: The frame.append method is deprecated and will be removed from pandas in a future version. Use pandas.concat instead.\n",
      "  results = results.append({'user': user_id, 'Algorithm': algo, 'KL_div': calibration_scores[0], 'JS_div': calibration_scores[1]}, ignore_index=True)\n"
     ]
    },
    {
     "name": "stdout",
     "output_type": "stream",
     "text": [
      "915\n"
     ]
    },
    {
     "name": "stderr",
     "output_type": "stream",
     "text": [
      "/var/folders/8v/cgqpzdls33l6jdsvj3z4fdyh0000gn/T/ipykernel_64710/506424766.py:25: FutureWarning: The frame.append method is deprecated and will be removed from pandas in a future version. Use pandas.concat instead.\n",
      "  results = results.append({'user': user_id, 'Algorithm': algo, 'KL_div': calibration_scores[0], 'JS_div': calibration_scores[1]}, ignore_index=True)\n",
      "/var/folders/8v/cgqpzdls33l6jdsvj3z4fdyh0000gn/T/ipykernel_64710/506424766.py:25: FutureWarning: The frame.append method is deprecated and will be removed from pandas in a future version. Use pandas.concat instead.\n",
      "  results = results.append({'user': user_id, 'Algorithm': algo, 'KL_div': calibration_scores[0], 'JS_div': calibration_scores[1]}, ignore_index=True)\n"
     ]
    },
    {
     "name": "stdout",
     "output_type": "stream",
     "text": [
      "916\n"
     ]
    },
    {
     "name": "stderr",
     "output_type": "stream",
     "text": [
      "/var/folders/8v/cgqpzdls33l6jdsvj3z4fdyh0000gn/T/ipykernel_64710/506424766.py:25: FutureWarning: The frame.append method is deprecated and will be removed from pandas in a future version. Use pandas.concat instead.\n",
      "  results = results.append({'user': user_id, 'Algorithm': algo, 'KL_div': calibration_scores[0], 'JS_div': calibration_scores[1]}, ignore_index=True)\n",
      "/var/folders/8v/cgqpzdls33l6jdsvj3z4fdyh0000gn/T/ipykernel_64710/506424766.py:25: FutureWarning: The frame.append method is deprecated and will be removed from pandas in a future version. Use pandas.concat instead.\n",
      "  results = results.append({'user': user_id, 'Algorithm': algo, 'KL_div': calibration_scores[0], 'JS_div': calibration_scores[1]}, ignore_index=True)\n"
     ]
    },
    {
     "name": "stdout",
     "output_type": "stream",
     "text": [
      "917\n"
     ]
    },
    {
     "name": "stderr",
     "output_type": "stream",
     "text": [
      "/var/folders/8v/cgqpzdls33l6jdsvj3z4fdyh0000gn/T/ipykernel_64710/506424766.py:25: FutureWarning: The frame.append method is deprecated and will be removed from pandas in a future version. Use pandas.concat instead.\n",
      "  results = results.append({'user': user_id, 'Algorithm': algo, 'KL_div': calibration_scores[0], 'JS_div': calibration_scores[1]}, ignore_index=True)\n",
      "/var/folders/8v/cgqpzdls33l6jdsvj3z4fdyh0000gn/T/ipykernel_64710/506424766.py:25: FutureWarning: The frame.append method is deprecated and will be removed from pandas in a future version. Use pandas.concat instead.\n",
      "  results = results.append({'user': user_id, 'Algorithm': algo, 'KL_div': calibration_scores[0], 'JS_div': calibration_scores[1]}, ignore_index=True)\n"
     ]
    },
    {
     "name": "stdout",
     "output_type": "stream",
     "text": [
      "918\n"
     ]
    },
    {
     "name": "stderr",
     "output_type": "stream",
     "text": [
      "/var/folders/8v/cgqpzdls33l6jdsvj3z4fdyh0000gn/T/ipykernel_64710/506424766.py:25: FutureWarning: The frame.append method is deprecated and will be removed from pandas in a future version. Use pandas.concat instead.\n",
      "  results = results.append({'user': user_id, 'Algorithm': algo, 'KL_div': calibration_scores[0], 'JS_div': calibration_scores[1]}, ignore_index=True)\n",
      "/var/folders/8v/cgqpzdls33l6jdsvj3z4fdyh0000gn/T/ipykernel_64710/506424766.py:25: FutureWarning: The frame.append method is deprecated and will be removed from pandas in a future version. Use pandas.concat instead.\n",
      "  results = results.append({'user': user_id, 'Algorithm': algo, 'KL_div': calibration_scores[0], 'JS_div': calibration_scores[1]}, ignore_index=True)\n"
     ]
    },
    {
     "name": "stdout",
     "output_type": "stream",
     "text": [
      "919\n"
     ]
    },
    {
     "name": "stderr",
     "output_type": "stream",
     "text": [
      "/var/folders/8v/cgqpzdls33l6jdsvj3z4fdyh0000gn/T/ipykernel_64710/506424766.py:25: FutureWarning: The frame.append method is deprecated and will be removed from pandas in a future version. Use pandas.concat instead.\n",
      "  results = results.append({'user': user_id, 'Algorithm': algo, 'KL_div': calibration_scores[0], 'JS_div': calibration_scores[1]}, ignore_index=True)\n",
      "/var/folders/8v/cgqpzdls33l6jdsvj3z4fdyh0000gn/T/ipykernel_64710/506424766.py:25: FutureWarning: The frame.append method is deprecated and will be removed from pandas in a future version. Use pandas.concat instead.\n",
      "  results = results.append({'user': user_id, 'Algorithm': algo, 'KL_div': calibration_scores[0], 'JS_div': calibration_scores[1]}, ignore_index=True)\n"
     ]
    },
    {
     "name": "stdout",
     "output_type": "stream",
     "text": [
      "920\n"
     ]
    },
    {
     "name": "stderr",
     "output_type": "stream",
     "text": [
      "/var/folders/8v/cgqpzdls33l6jdsvj3z4fdyh0000gn/T/ipykernel_64710/506424766.py:25: FutureWarning: The frame.append method is deprecated and will be removed from pandas in a future version. Use pandas.concat instead.\n",
      "  results = results.append({'user': user_id, 'Algorithm': algo, 'KL_div': calibration_scores[0], 'JS_div': calibration_scores[1]}, ignore_index=True)\n",
      "/var/folders/8v/cgqpzdls33l6jdsvj3z4fdyh0000gn/T/ipykernel_64710/506424766.py:25: FutureWarning: The frame.append method is deprecated and will be removed from pandas in a future version. Use pandas.concat instead.\n",
      "  results = results.append({'user': user_id, 'Algorithm': algo, 'KL_div': calibration_scores[0], 'JS_div': calibration_scores[1]}, ignore_index=True)\n"
     ]
    },
    {
     "name": "stdout",
     "output_type": "stream",
     "text": [
      "921\n"
     ]
    },
    {
     "name": "stderr",
     "output_type": "stream",
     "text": [
      "/var/folders/8v/cgqpzdls33l6jdsvj3z4fdyh0000gn/T/ipykernel_64710/506424766.py:25: FutureWarning: The frame.append method is deprecated and will be removed from pandas in a future version. Use pandas.concat instead.\n",
      "  results = results.append({'user': user_id, 'Algorithm': algo, 'KL_div': calibration_scores[0], 'JS_div': calibration_scores[1]}, ignore_index=True)\n",
      "/var/folders/8v/cgqpzdls33l6jdsvj3z4fdyh0000gn/T/ipykernel_64710/506424766.py:25: FutureWarning: The frame.append method is deprecated and will be removed from pandas in a future version. Use pandas.concat instead.\n",
      "  results = results.append({'user': user_id, 'Algorithm': algo, 'KL_div': calibration_scores[0], 'JS_div': calibration_scores[1]}, ignore_index=True)\n"
     ]
    },
    {
     "name": "stdout",
     "output_type": "stream",
     "text": [
      "922\n"
     ]
    },
    {
     "name": "stderr",
     "output_type": "stream",
     "text": [
      "/var/folders/8v/cgqpzdls33l6jdsvj3z4fdyh0000gn/T/ipykernel_64710/506424766.py:25: FutureWarning: The frame.append method is deprecated and will be removed from pandas in a future version. Use pandas.concat instead.\n",
      "  results = results.append({'user': user_id, 'Algorithm': algo, 'KL_div': calibration_scores[0], 'JS_div': calibration_scores[1]}, ignore_index=True)\n",
      "/var/folders/8v/cgqpzdls33l6jdsvj3z4fdyh0000gn/T/ipykernel_64710/506424766.py:25: FutureWarning: The frame.append method is deprecated and will be removed from pandas in a future version. Use pandas.concat instead.\n",
      "  results = results.append({'user': user_id, 'Algorithm': algo, 'KL_div': calibration_scores[0], 'JS_div': calibration_scores[1]}, ignore_index=True)\n"
     ]
    },
    {
     "name": "stdout",
     "output_type": "stream",
     "text": [
      "923\n"
     ]
    },
    {
     "name": "stderr",
     "output_type": "stream",
     "text": [
      "/var/folders/8v/cgqpzdls33l6jdsvj3z4fdyh0000gn/T/ipykernel_64710/506424766.py:25: FutureWarning: The frame.append method is deprecated and will be removed from pandas in a future version. Use pandas.concat instead.\n",
      "  results = results.append({'user': user_id, 'Algorithm': algo, 'KL_div': calibration_scores[0], 'JS_div': calibration_scores[1]}, ignore_index=True)\n",
      "/var/folders/8v/cgqpzdls33l6jdsvj3z4fdyh0000gn/T/ipykernel_64710/506424766.py:25: FutureWarning: The frame.append method is deprecated and will be removed from pandas in a future version. Use pandas.concat instead.\n",
      "  results = results.append({'user': user_id, 'Algorithm': algo, 'KL_div': calibration_scores[0], 'JS_div': calibration_scores[1]}, ignore_index=True)\n"
     ]
    },
    {
     "name": "stdout",
     "output_type": "stream",
     "text": [
      "924\n"
     ]
    },
    {
     "name": "stderr",
     "output_type": "stream",
     "text": [
      "/var/folders/8v/cgqpzdls33l6jdsvj3z4fdyh0000gn/T/ipykernel_64710/506424766.py:25: FutureWarning: The frame.append method is deprecated and will be removed from pandas in a future version. Use pandas.concat instead.\n",
      "  results = results.append({'user': user_id, 'Algorithm': algo, 'KL_div': calibration_scores[0], 'JS_div': calibration_scores[1]}, ignore_index=True)\n",
      "/var/folders/8v/cgqpzdls33l6jdsvj3z4fdyh0000gn/T/ipykernel_64710/506424766.py:25: FutureWarning: The frame.append method is deprecated and will be removed from pandas in a future version. Use pandas.concat instead.\n",
      "  results = results.append({'user': user_id, 'Algorithm': algo, 'KL_div': calibration_scores[0], 'JS_div': calibration_scores[1]}, ignore_index=True)\n"
     ]
    },
    {
     "name": "stdout",
     "output_type": "stream",
     "text": [
      "925\n"
     ]
    },
    {
     "name": "stderr",
     "output_type": "stream",
     "text": [
      "/var/folders/8v/cgqpzdls33l6jdsvj3z4fdyh0000gn/T/ipykernel_64710/506424766.py:25: FutureWarning: The frame.append method is deprecated and will be removed from pandas in a future version. Use pandas.concat instead.\n",
      "  results = results.append({'user': user_id, 'Algorithm': algo, 'KL_div': calibration_scores[0], 'JS_div': calibration_scores[1]}, ignore_index=True)\n",
      "/var/folders/8v/cgqpzdls33l6jdsvj3z4fdyh0000gn/T/ipykernel_64710/506424766.py:25: FutureWarning: The frame.append method is deprecated and will be removed from pandas in a future version. Use pandas.concat instead.\n",
      "  results = results.append({'user': user_id, 'Algorithm': algo, 'KL_div': calibration_scores[0], 'JS_div': calibration_scores[1]}, ignore_index=True)\n"
     ]
    },
    {
     "name": "stdout",
     "output_type": "stream",
     "text": [
      "926\n"
     ]
    },
    {
     "name": "stderr",
     "output_type": "stream",
     "text": [
      "/var/folders/8v/cgqpzdls33l6jdsvj3z4fdyh0000gn/T/ipykernel_64710/506424766.py:25: FutureWarning: The frame.append method is deprecated and will be removed from pandas in a future version. Use pandas.concat instead.\n",
      "  results = results.append({'user': user_id, 'Algorithm': algo, 'KL_div': calibration_scores[0], 'JS_div': calibration_scores[1]}, ignore_index=True)\n",
      "/var/folders/8v/cgqpzdls33l6jdsvj3z4fdyh0000gn/T/ipykernel_64710/506424766.py:25: FutureWarning: The frame.append method is deprecated and will be removed from pandas in a future version. Use pandas.concat instead.\n",
      "  results = results.append({'user': user_id, 'Algorithm': algo, 'KL_div': calibration_scores[0], 'JS_div': calibration_scores[1]}, ignore_index=True)\n"
     ]
    },
    {
     "name": "stdout",
     "output_type": "stream",
     "text": [
      "927\n"
     ]
    },
    {
     "name": "stderr",
     "output_type": "stream",
     "text": [
      "/var/folders/8v/cgqpzdls33l6jdsvj3z4fdyh0000gn/T/ipykernel_64710/506424766.py:25: FutureWarning: The frame.append method is deprecated and will be removed from pandas in a future version. Use pandas.concat instead.\n",
      "  results = results.append({'user': user_id, 'Algorithm': algo, 'KL_div': calibration_scores[0], 'JS_div': calibration_scores[1]}, ignore_index=True)\n",
      "/var/folders/8v/cgqpzdls33l6jdsvj3z4fdyh0000gn/T/ipykernel_64710/506424766.py:25: FutureWarning: The frame.append method is deprecated and will be removed from pandas in a future version. Use pandas.concat instead.\n",
      "  results = results.append({'user': user_id, 'Algorithm': algo, 'KL_div': calibration_scores[0], 'JS_div': calibration_scores[1]}, ignore_index=True)\n"
     ]
    },
    {
     "name": "stdout",
     "output_type": "stream",
     "text": [
      "928\n"
     ]
    },
    {
     "name": "stderr",
     "output_type": "stream",
     "text": [
      "/var/folders/8v/cgqpzdls33l6jdsvj3z4fdyh0000gn/T/ipykernel_64710/506424766.py:25: FutureWarning: The frame.append method is deprecated and will be removed from pandas in a future version. Use pandas.concat instead.\n",
      "  results = results.append({'user': user_id, 'Algorithm': algo, 'KL_div': calibration_scores[0], 'JS_div': calibration_scores[1]}, ignore_index=True)\n",
      "/var/folders/8v/cgqpzdls33l6jdsvj3z4fdyh0000gn/T/ipykernel_64710/506424766.py:25: FutureWarning: The frame.append method is deprecated and will be removed from pandas in a future version. Use pandas.concat instead.\n",
      "  results = results.append({'user': user_id, 'Algorithm': algo, 'KL_div': calibration_scores[0], 'JS_div': calibration_scores[1]}, ignore_index=True)\n"
     ]
    },
    {
     "name": "stdout",
     "output_type": "stream",
     "text": [
      "929\n"
     ]
    },
    {
     "name": "stderr",
     "output_type": "stream",
     "text": [
      "/var/folders/8v/cgqpzdls33l6jdsvj3z4fdyh0000gn/T/ipykernel_64710/506424766.py:25: FutureWarning: The frame.append method is deprecated and will be removed from pandas in a future version. Use pandas.concat instead.\n",
      "  results = results.append({'user': user_id, 'Algorithm': algo, 'KL_div': calibration_scores[0], 'JS_div': calibration_scores[1]}, ignore_index=True)\n",
      "/var/folders/8v/cgqpzdls33l6jdsvj3z4fdyh0000gn/T/ipykernel_64710/506424766.py:25: FutureWarning: The frame.append method is deprecated and will be removed from pandas in a future version. Use pandas.concat instead.\n",
      "  results = results.append({'user': user_id, 'Algorithm': algo, 'KL_div': calibration_scores[0], 'JS_div': calibration_scores[1]}, ignore_index=True)\n"
     ]
    },
    {
     "name": "stdout",
     "output_type": "stream",
     "text": [
      "930\n"
     ]
    },
    {
     "name": "stderr",
     "output_type": "stream",
     "text": [
      "/var/folders/8v/cgqpzdls33l6jdsvj3z4fdyh0000gn/T/ipykernel_64710/506424766.py:25: FutureWarning: The frame.append method is deprecated and will be removed from pandas in a future version. Use pandas.concat instead.\n",
      "  results = results.append({'user': user_id, 'Algorithm': algo, 'KL_div': calibration_scores[0], 'JS_div': calibration_scores[1]}, ignore_index=True)\n",
      "/var/folders/8v/cgqpzdls33l6jdsvj3z4fdyh0000gn/T/ipykernel_64710/506424766.py:25: FutureWarning: The frame.append method is deprecated and will be removed from pandas in a future version. Use pandas.concat instead.\n",
      "  results = results.append({'user': user_id, 'Algorithm': algo, 'KL_div': calibration_scores[0], 'JS_div': calibration_scores[1]}, ignore_index=True)\n"
     ]
    },
    {
     "name": "stdout",
     "output_type": "stream",
     "text": [
      "931\n"
     ]
    },
    {
     "name": "stderr",
     "output_type": "stream",
     "text": [
      "/var/folders/8v/cgqpzdls33l6jdsvj3z4fdyh0000gn/T/ipykernel_64710/506424766.py:25: FutureWarning: The frame.append method is deprecated and will be removed from pandas in a future version. Use pandas.concat instead.\n",
      "  results = results.append({'user': user_id, 'Algorithm': algo, 'KL_div': calibration_scores[0], 'JS_div': calibration_scores[1]}, ignore_index=True)\n",
      "/var/folders/8v/cgqpzdls33l6jdsvj3z4fdyh0000gn/T/ipykernel_64710/506424766.py:25: FutureWarning: The frame.append method is deprecated and will be removed from pandas in a future version. Use pandas.concat instead.\n",
      "  results = results.append({'user': user_id, 'Algorithm': algo, 'KL_div': calibration_scores[0], 'JS_div': calibration_scores[1]}, ignore_index=True)\n"
     ]
    },
    {
     "name": "stdout",
     "output_type": "stream",
     "text": [
      "932\n"
     ]
    },
    {
     "name": "stderr",
     "output_type": "stream",
     "text": [
      "/var/folders/8v/cgqpzdls33l6jdsvj3z4fdyh0000gn/T/ipykernel_64710/506424766.py:25: FutureWarning: The frame.append method is deprecated and will be removed from pandas in a future version. Use pandas.concat instead.\n",
      "  results = results.append({'user': user_id, 'Algorithm': algo, 'KL_div': calibration_scores[0], 'JS_div': calibration_scores[1]}, ignore_index=True)\n",
      "/var/folders/8v/cgqpzdls33l6jdsvj3z4fdyh0000gn/T/ipykernel_64710/506424766.py:25: FutureWarning: The frame.append method is deprecated and will be removed from pandas in a future version. Use pandas.concat instead.\n",
      "  results = results.append({'user': user_id, 'Algorithm': algo, 'KL_div': calibration_scores[0], 'JS_div': calibration_scores[1]}, ignore_index=True)\n"
     ]
    },
    {
     "name": "stdout",
     "output_type": "stream",
     "text": [
      "933\n"
     ]
    },
    {
     "name": "stderr",
     "output_type": "stream",
     "text": [
      "/var/folders/8v/cgqpzdls33l6jdsvj3z4fdyh0000gn/T/ipykernel_64710/506424766.py:25: FutureWarning: The frame.append method is deprecated and will be removed from pandas in a future version. Use pandas.concat instead.\n",
      "  results = results.append({'user': user_id, 'Algorithm': algo, 'KL_div': calibration_scores[0], 'JS_div': calibration_scores[1]}, ignore_index=True)\n",
      "/var/folders/8v/cgqpzdls33l6jdsvj3z4fdyh0000gn/T/ipykernel_64710/506424766.py:25: FutureWarning: The frame.append method is deprecated and will be removed from pandas in a future version. Use pandas.concat instead.\n",
      "  results = results.append({'user': user_id, 'Algorithm': algo, 'KL_div': calibration_scores[0], 'JS_div': calibration_scores[1]}, ignore_index=True)\n"
     ]
    },
    {
     "name": "stdout",
     "output_type": "stream",
     "text": [
      "934\n"
     ]
    },
    {
     "name": "stderr",
     "output_type": "stream",
     "text": [
      "/var/folders/8v/cgqpzdls33l6jdsvj3z4fdyh0000gn/T/ipykernel_64710/506424766.py:25: FutureWarning: The frame.append method is deprecated and will be removed from pandas in a future version. Use pandas.concat instead.\n",
      "  results = results.append({'user': user_id, 'Algorithm': algo, 'KL_div': calibration_scores[0], 'JS_div': calibration_scores[1]}, ignore_index=True)\n",
      "/var/folders/8v/cgqpzdls33l6jdsvj3z4fdyh0000gn/T/ipykernel_64710/506424766.py:25: FutureWarning: The frame.append method is deprecated and will be removed from pandas in a future version. Use pandas.concat instead.\n",
      "  results = results.append({'user': user_id, 'Algorithm': algo, 'KL_div': calibration_scores[0], 'JS_div': calibration_scores[1]}, ignore_index=True)\n"
     ]
    },
    {
     "name": "stdout",
     "output_type": "stream",
     "text": [
      "935\n"
     ]
    },
    {
     "name": "stderr",
     "output_type": "stream",
     "text": [
      "/var/folders/8v/cgqpzdls33l6jdsvj3z4fdyh0000gn/T/ipykernel_64710/506424766.py:25: FutureWarning: The frame.append method is deprecated and will be removed from pandas in a future version. Use pandas.concat instead.\n",
      "  results = results.append({'user': user_id, 'Algorithm': algo, 'KL_div': calibration_scores[0], 'JS_div': calibration_scores[1]}, ignore_index=True)\n",
      "/var/folders/8v/cgqpzdls33l6jdsvj3z4fdyh0000gn/T/ipykernel_64710/506424766.py:25: FutureWarning: The frame.append method is deprecated and will be removed from pandas in a future version. Use pandas.concat instead.\n",
      "  results = results.append({'user': user_id, 'Algorithm': algo, 'KL_div': calibration_scores[0], 'JS_div': calibration_scores[1]}, ignore_index=True)\n"
     ]
    },
    {
     "name": "stdout",
     "output_type": "stream",
     "text": [
      "936\n"
     ]
    },
    {
     "name": "stderr",
     "output_type": "stream",
     "text": [
      "/var/folders/8v/cgqpzdls33l6jdsvj3z4fdyh0000gn/T/ipykernel_64710/506424766.py:25: FutureWarning: The frame.append method is deprecated and will be removed from pandas in a future version. Use pandas.concat instead.\n",
      "  results = results.append({'user': user_id, 'Algorithm': algo, 'KL_div': calibration_scores[0], 'JS_div': calibration_scores[1]}, ignore_index=True)\n",
      "/var/folders/8v/cgqpzdls33l6jdsvj3z4fdyh0000gn/T/ipykernel_64710/506424766.py:25: FutureWarning: The frame.append method is deprecated and will be removed from pandas in a future version. Use pandas.concat instead.\n",
      "  results = results.append({'user': user_id, 'Algorithm': algo, 'KL_div': calibration_scores[0], 'JS_div': calibration_scores[1]}, ignore_index=True)\n"
     ]
    },
    {
     "name": "stdout",
     "output_type": "stream",
     "text": [
      "937\n"
     ]
    },
    {
     "name": "stderr",
     "output_type": "stream",
     "text": [
      "/var/folders/8v/cgqpzdls33l6jdsvj3z4fdyh0000gn/T/ipykernel_64710/506424766.py:25: FutureWarning: The frame.append method is deprecated and will be removed from pandas in a future version. Use pandas.concat instead.\n",
      "  results = results.append({'user': user_id, 'Algorithm': algo, 'KL_div': calibration_scores[0], 'JS_div': calibration_scores[1]}, ignore_index=True)\n",
      "/var/folders/8v/cgqpzdls33l6jdsvj3z4fdyh0000gn/T/ipykernel_64710/506424766.py:25: FutureWarning: The frame.append method is deprecated and will be removed from pandas in a future version. Use pandas.concat instead.\n",
      "  results = results.append({'user': user_id, 'Algorithm': algo, 'KL_div': calibration_scores[0], 'JS_div': calibration_scores[1]}, ignore_index=True)\n"
     ]
    },
    {
     "name": "stdout",
     "output_type": "stream",
     "text": [
      "938\n"
     ]
    },
    {
     "name": "stderr",
     "output_type": "stream",
     "text": [
      "/var/folders/8v/cgqpzdls33l6jdsvj3z4fdyh0000gn/T/ipykernel_64710/506424766.py:25: FutureWarning: The frame.append method is deprecated and will be removed from pandas in a future version. Use pandas.concat instead.\n",
      "  results = results.append({'user': user_id, 'Algorithm': algo, 'KL_div': calibration_scores[0], 'JS_div': calibration_scores[1]}, ignore_index=True)\n",
      "/var/folders/8v/cgqpzdls33l6jdsvj3z4fdyh0000gn/T/ipykernel_64710/506424766.py:25: FutureWarning: The frame.append method is deprecated and will be removed from pandas in a future version. Use pandas.concat instead.\n",
      "  results = results.append({'user': user_id, 'Algorithm': algo, 'KL_div': calibration_scores[0], 'JS_div': calibration_scores[1]}, ignore_index=True)\n"
     ]
    },
    {
     "name": "stdout",
     "output_type": "stream",
     "text": [
      "939\n"
     ]
    },
    {
     "name": "stderr",
     "output_type": "stream",
     "text": [
      "/var/folders/8v/cgqpzdls33l6jdsvj3z4fdyh0000gn/T/ipykernel_64710/506424766.py:25: FutureWarning: The frame.append method is deprecated and will be removed from pandas in a future version. Use pandas.concat instead.\n",
      "  results = results.append({'user': user_id, 'Algorithm': algo, 'KL_div': calibration_scores[0], 'JS_div': calibration_scores[1]}, ignore_index=True)\n",
      "/var/folders/8v/cgqpzdls33l6jdsvj3z4fdyh0000gn/T/ipykernel_64710/506424766.py:25: FutureWarning: The frame.append method is deprecated and will be removed from pandas in a future version. Use pandas.concat instead.\n",
      "  results = results.append({'user': user_id, 'Algorithm': algo, 'KL_div': calibration_scores[0], 'JS_div': calibration_scores[1]}, ignore_index=True)\n"
     ]
    },
    {
     "name": "stdout",
     "output_type": "stream",
     "text": [
      "940\n"
     ]
    },
    {
     "name": "stderr",
     "output_type": "stream",
     "text": [
      "/var/folders/8v/cgqpzdls33l6jdsvj3z4fdyh0000gn/T/ipykernel_64710/506424766.py:25: FutureWarning: The frame.append method is deprecated and will be removed from pandas in a future version. Use pandas.concat instead.\n",
      "  results = results.append({'user': user_id, 'Algorithm': algo, 'KL_div': calibration_scores[0], 'JS_div': calibration_scores[1]}, ignore_index=True)\n",
      "/var/folders/8v/cgqpzdls33l6jdsvj3z4fdyh0000gn/T/ipykernel_64710/506424766.py:25: FutureWarning: The frame.append method is deprecated and will be removed from pandas in a future version. Use pandas.concat instead.\n",
      "  results = results.append({'user': user_id, 'Algorithm': algo, 'KL_div': calibration_scores[0], 'JS_div': calibration_scores[1]}, ignore_index=True)\n"
     ]
    },
    {
     "name": "stdout",
     "output_type": "stream",
     "text": [
      "941\n"
     ]
    },
    {
     "name": "stderr",
     "output_type": "stream",
     "text": [
      "/var/folders/8v/cgqpzdls33l6jdsvj3z4fdyh0000gn/T/ipykernel_64710/506424766.py:25: FutureWarning: The frame.append method is deprecated and will be removed from pandas in a future version. Use pandas.concat instead.\n",
      "  results = results.append({'user': user_id, 'Algorithm': algo, 'KL_div': calibration_scores[0], 'JS_div': calibration_scores[1]}, ignore_index=True)\n",
      "/var/folders/8v/cgqpzdls33l6jdsvj3z4fdyh0000gn/T/ipykernel_64710/506424766.py:25: FutureWarning: The frame.append method is deprecated and will be removed from pandas in a future version. Use pandas.concat instead.\n",
      "  results = results.append({'user': user_id, 'Algorithm': algo, 'KL_div': calibration_scores[0], 'JS_div': calibration_scores[1]}, ignore_index=True)\n"
     ]
    },
    {
     "name": "stdout",
     "output_type": "stream",
     "text": [
      "942\n"
     ]
    },
    {
     "name": "stderr",
     "output_type": "stream",
     "text": [
      "/var/folders/8v/cgqpzdls33l6jdsvj3z4fdyh0000gn/T/ipykernel_64710/506424766.py:25: FutureWarning: The frame.append method is deprecated and will be removed from pandas in a future version. Use pandas.concat instead.\n",
      "  results = results.append({'user': user_id, 'Algorithm': algo, 'KL_div': calibration_scores[0], 'JS_div': calibration_scores[1]}, ignore_index=True)\n",
      "/var/folders/8v/cgqpzdls33l6jdsvj3z4fdyh0000gn/T/ipykernel_64710/506424766.py:25: FutureWarning: The frame.append method is deprecated and will be removed from pandas in a future version. Use pandas.concat instead.\n",
      "  results = results.append({'user': user_id, 'Algorithm': algo, 'KL_div': calibration_scores[0], 'JS_div': calibration_scores[1]}, ignore_index=True)\n"
     ]
    },
    {
     "name": "stdout",
     "output_type": "stream",
     "text": [
      "943\n"
     ]
    },
    {
     "name": "stderr",
     "output_type": "stream",
     "text": [
      "/var/folders/8v/cgqpzdls33l6jdsvj3z4fdyh0000gn/T/ipykernel_64710/506424766.py:25: FutureWarning: The frame.append method is deprecated and will be removed from pandas in a future version. Use pandas.concat instead.\n",
      "  results = results.append({'user': user_id, 'Algorithm': algo, 'KL_div': calibration_scores[0], 'JS_div': calibration_scores[1]}, ignore_index=True)\n",
      "/var/folders/8v/cgqpzdls33l6jdsvj3z4fdyh0000gn/T/ipykernel_64710/506424766.py:25: FutureWarning: The frame.append method is deprecated and will be removed from pandas in a future version. Use pandas.concat instead.\n",
      "  results = results.append({'user': user_id, 'Algorithm': algo, 'KL_div': calibration_scores[0], 'JS_div': calibration_scores[1]}, ignore_index=True)\n"
     ]
    }
   ],
   "source": [
    "config = {'language': 'english'}\n",
    "\n",
    "calibration = Calibration(config)\n",
    "\n",
    "results = pd.DataFrame(columns=['user', 'Algorithm', 'KL_div', 'JS_div'])\n",
    "\n",
    "# Iterate over each unique user ID\n",
    "for user_id in user_reading_history['user'].unique():\n",
    "    print (user_id)\n",
    "    # Filter user reading history for the current user\n",
    "    user_reading_history_for_user = user_reading_history[user_reading_history['user'] == user_id]\n",
    "    \n",
    "    # Filter user recommendation for the current user\n",
    "    user_recommendation_for_user = user_recommendation[user_recommendation['user'] == user_id]\n",
    "    \n",
    "    # Iterate over each unique algorithm\n",
    "    for algo in user_recommendation_for_user['Algorithm'].unique():\n",
    "        # Filter user recommendation for the current algorithm\n",
    "        user_recommendation_for_algo = user_recommendation_for_user[user_recommendation_for_user['Algorithm'] == algo]\n",
    "        \n",
    "        # Calculate the calibration scores for the current user and algorithm\n",
    "        calibration_scores = calibration.calculate_user_level(user_reading_history_for_user, user_recommendation_for_algo, genre_data)\n",
    "        \n",
    "        # Append the results to the DataFrame\n",
    "        results = results.append({'user': user_id, 'Algorithm': algo, 'KL_div': calibration_scores[0], 'JS_div': calibration_scores[1]}, ignore_index=True)\n",
    "\n",
    "        # Print the user-level calibration scores\n",
    "        # print(\"User ID:\", user_id, \"Algorithm:\", algo)\n",
    "        # print(\"Average KL Divergence:\", calibration_scores[0])\n",
    "        # print(\"Average JS Divergence:\", calibration_scores[1])\n",
    "\n",
    "# Save the results to a CSV file\n",
    "# results.to_csv('goodbook/results/book_calibration_results_original.csv', index=False)\n",
    "results.to_csv(f'goodbook/results/book_calibration_results-KNN-{topk}_{p_obfuscation}_{preprocess}.csv', index=False)\n",
    "\n"
   ]
  },
  {
   "cell_type": "code",
   "execution_count": 180,
   "metadata": {},
   "outputs": [],
   "source": [
    "# # Load the results DataFrame\n",
    "p_obfuscation = 0.05\n",
    "preprocess = [\"Add\", \"Obf\", \"original\"][1] # \"1Step\", \"2Step\", \"original\"\n",
    "topk = [5, 10][1] # \n",
    "# results = pd.read_csv(f'goodbook/results/book_calibration_results-{topk}_{p_obfuscation}_{preprocess}.csv') # book_calibration_results_original\n",
    "results = pd.read_csv(\"goodbook/results/book_calibration_results-KNN-10_0.05_2Step.csv\")\n",
    "# # train = pd.read_csv (\"goodbook/trainVal-book0.csv\", sep=\",\", names= [\"user\", \"item\", \"rating\", \"genre\"]) # \n",
    "# user_recommendation = pd.read_csv(f\"goodbook/results/RS-{topk}_{p_obfuscation}_{preprocess}.csv\")\n",
    "user_recommendation = pd.read_csv(f\"goodbook/results/RS-KNN-10_0.01_2Step.csv\")\n"
   ]
  },
  {
   "cell_type": "code",
   "execution_count": 181,
   "metadata": {},
   "outputs": [
    {
     "name": "stdout",
     "output_type": "stream",
     "text": [
      "Average KL Divergence by Algorithm:\n",
      "Algorithm\n",
      "ItemKNN    0.174676\n",
      "UserKNN    0.182720\n",
      "Name: KL_div_numeric, dtype: float64\n",
      "\n",
      "Average JS Divergence by Algorithm:\n",
      "Algorithm\n",
      "ItemKNN    0.291609\n",
      "UserKNN    0.296795\n",
      "Name: JS_div_numeric, dtype: float64\n"
     ]
    }
   ],
   "source": [
    "import ast\n",
    "\n",
    "# Define a function to extract numeric values from dictionary-like strings and replace 'Inf' with 0\n",
    "def extract_numeric_value(d):\n",
    "    try:\n",
    "        # Convert the string representation of dictionary to a Python dictionary\n",
    "        d = ast.literal_eval(d)\n",
    "        # Return the numeric value if the dictionary is not empty\n",
    "        if d:\n",
    "            return next(iter(d.values()))\n",
    "        else:\n",
    "            return np.nan  # Return NaN if the dictionary is empty\n",
    "    except (SyntaxError, ValueError):\n",
    "        return np.nan  # Return NaN if there's an error parsing the string\n",
    "\n",
    "# Apply the function to extract numeric values from the 'KL_div' column and replace 'Inf' with 0\n",
    "results['KL_div_numeric'] = results['KL_div'].apply(extract_numeric_value).astype(float)\n",
    "\n",
    "# Replace 'Inf' values with 0\n",
    "results['KL_div_numeric'].replace(np.inf, 0, inplace=True)\n",
    "\n",
    "# Apply the function to extract numeric values from the 'JS_div' column and replace 'Inf' with 0\n",
    "results['JS_div_numeric'] = results['JS_div'].apply(extract_numeric_value).astype(float)\n",
    "\n",
    "# Replace 'Inf' values with 0\n",
    "results['JS_div_numeric'].replace(np.inf, 0, inplace=True)\n",
    "\n",
    "# Group the DataFrame by 'Algorithm' and calculate average KL and JS divergences for each group\n",
    "average_divergences = results.groupby('Algorithm')[['KL_div_numeric', 'JS_div_numeric']].mean()\n",
    "\n",
    "# Print the average divergences by algorithm\n",
    "print(\"Average KL Divergence by Algorithm:\")\n",
    "print(average_divergences['KL_div_numeric'])\n",
    "print(\"\\nAverage JS Divergence by Algorithm:\")\n",
    "print(average_divergences['JS_div_numeric'])\n"
   ]
  },
  {
   "cell_type": "code",
   "execution_count": 182,
   "metadata": {},
   "outputs": [
    {
     "data": {
      "text/html": [
       "<div>\n",
       "<style scoped>\n",
       "    .dataframe tbody tr th:only-of-type {\n",
       "        vertical-align: middle;\n",
       "    }\n",
       "\n",
       "    .dataframe tbody tr th {\n",
       "        vertical-align: top;\n",
       "    }\n",
       "\n",
       "    .dataframe thead th {\n",
       "        text-align: right;\n",
       "    }\n",
       "</style>\n",
       "<table border=\"1\" class=\"dataframe\">\n",
       "  <thead>\n",
       "    <tr style=\"text-align: right;\">\n",
       "      <th></th>\n",
       "      <th>item</th>\n",
       "      <th>score</th>\n",
       "      <th>user</th>\n",
       "      <th>rank</th>\n",
       "      <th>Algorithm</th>\n",
       "    </tr>\n",
       "  </thead>\n",
       "  <tbody>\n",
       "    <tr>\n",
       "      <th>0</th>\n",
       "      <td>75</td>\n",
       "      <td>1.170282</td>\n",
       "      <td>1</td>\n",
       "      <td>1</td>\n",
       "      <td>ItemKNN</td>\n",
       "    </tr>\n",
       "    <tr>\n",
       "      <th>1</th>\n",
       "      <td>26</td>\n",
       "      <td>1.125025</td>\n",
       "      <td>1</td>\n",
       "      <td>2</td>\n",
       "      <td>ItemKNN</td>\n",
       "    </tr>\n",
       "    <tr>\n",
       "      <th>2</th>\n",
       "      <td>158</td>\n",
       "      <td>1.045481</td>\n",
       "      <td>1</td>\n",
       "      <td>3</td>\n",
       "      <td>ItemKNN</td>\n",
       "    </tr>\n",
       "    <tr>\n",
       "      <th>3</th>\n",
       "      <td>62</td>\n",
       "      <td>1.044438</td>\n",
       "      <td>1</td>\n",
       "      <td>4</td>\n",
       "      <td>ItemKNN</td>\n",
       "    </tr>\n",
       "    <tr>\n",
       "      <th>4</th>\n",
       "      <td>80</td>\n",
       "      <td>0.921890</td>\n",
       "      <td>1</td>\n",
       "      <td>5</td>\n",
       "      <td>ItemKNN</td>\n",
       "    </tr>\n",
       "    <tr>\n",
       "      <th>...</th>\n",
       "      <td>...</td>\n",
       "      <td>...</td>\n",
       "      <td>...</td>\n",
       "      <td>...</td>\n",
       "      <td>...</td>\n",
       "    </tr>\n",
       "    <tr>\n",
       "      <th>18855</th>\n",
       "      <td>126</td>\n",
       "      <td>6.032333</td>\n",
       "      <td>943</td>\n",
       "      <td>6</td>\n",
       "      <td>UserKNN</td>\n",
       "    </tr>\n",
       "    <tr>\n",
       "      <th>18856</th>\n",
       "      <td>125</td>\n",
       "      <td>5.892788</td>\n",
       "      <td>943</td>\n",
       "      <td>7</td>\n",
       "      <td>UserKNN</td>\n",
       "    </tr>\n",
       "    <tr>\n",
       "      <th>18857</th>\n",
       "      <td>59</td>\n",
       "      <td>5.845383</td>\n",
       "      <td>943</td>\n",
       "      <td>8</td>\n",
       "      <td>UserKNN</td>\n",
       "    </tr>\n",
       "    <tr>\n",
       "      <th>18858</th>\n",
       "      <td>70</td>\n",
       "      <td>5.733238</td>\n",
       "      <td>943</td>\n",
       "      <td>9</td>\n",
       "      <td>UserKNN</td>\n",
       "    </tr>\n",
       "    <tr>\n",
       "      <th>18859</th>\n",
       "      <td>123</td>\n",
       "      <td>5.708606</td>\n",
       "      <td>943</td>\n",
       "      <td>10</td>\n",
       "      <td>UserKNN</td>\n",
       "    </tr>\n",
       "  </tbody>\n",
       "</table>\n",
       "<p>18860 rows × 5 columns</p>\n",
       "</div>"
      ],
      "text/plain": [
       "       item     score  user  rank Algorithm\n",
       "0        75  1.170282     1     1   ItemKNN\n",
       "1        26  1.125025     1     2   ItemKNN\n",
       "2       158  1.045481     1     3   ItemKNN\n",
       "3        62  1.044438     1     4   ItemKNN\n",
       "4        80  0.921890     1     5   ItemKNN\n",
       "...     ...       ...   ...   ...       ...\n",
       "18855   126  6.032333   943     6   UserKNN\n",
       "18856   125  5.892788   943     7   UserKNN\n",
       "18857    59  5.845383   943     8   UserKNN\n",
       "18858    70  5.733238   943     9   UserKNN\n",
       "18859   123  5.708606   943    10   UserKNN\n",
       "\n",
       "[18860 rows x 5 columns]"
      ]
     },
     "execution_count": 182,
     "metadata": {},
     "output_type": "execute_result"
    }
   ],
   "source": [
    "user_recommendation"
   ]
  },
  {
   "cell_type": "markdown",
   "metadata": {},
   "source": [
    "# Coverage"
   ]
  },
  {
   "cell_type": "code",
   "execution_count": 183,
   "metadata": {},
   "outputs": [
    {
     "name": "stdout",
     "output_type": "stream",
     "text": [
      "Algorithm: ItemKNN, Average Item Coverage: 665\n",
      "Algorithm: UserKNN, Average Item Coverage: 340\n"
     ]
    }
   ],
   "source": [
    "\n",
    "recommendations_dict = {algo: [] for algo in user_recommendation[\"Algorithm\"].unique()}\n",
    "\n",
    "# Iterate over each row in user_recommendation DataFrame\n",
    "for index, row in user_recommendation.iterrows():\n",
    "    # Append the item to the list corresponding to its algorithm\n",
    "    recommendations_dict[row['Algorithm']].append(row['item'])\n",
    "\n",
    "# Compute average coverage for each algorithm\n",
    "average_coverage_per_algorithm = {}\n",
    "\n",
    "for algo, items in recommendations_dict.items():\n",
    "    # Compute item coverage for each algorithm\n",
    "    coverage = len(set(items))\n",
    "    # Store the average coverage for the algorithm\n",
    "    average_coverage_per_algorithm[algo] = coverage\n",
    "\n",
    "# Print average item coverage for each algorithm\n",
    "for algo, coverage in average_coverage_per_algorithm.items():\n",
    "    print(f\"Algorithm: {algo}, Average Item Coverage: {coverage}\")\n"
   ]
  },
  {
   "cell_type": "markdown",
   "metadata": {},
   "source": [
    "## Gini Index"
   ]
  },
  {
   "cell_type": "code",
   "execution_count": 184,
   "metadata": {},
   "outputs": [
    {
     "name": "stdout",
     "output_type": "stream",
     "text": [
      "Gini Index per Algorithm:\n",
      "ItemKNN: 0.35028906719135267\n",
      "UserKNN: 0.26071190608019956\n"
     ]
    }
   ],
   "source": [
    "from collections import defaultdict\n",
    "\n",
    "# Define the GiniIndex class\n",
    "class GiniIndex:\n",
    "    \"\"\"\n",
    "    Gini Index metric\n",
    "    \"\"\"\n",
    "\n",
    "    def __init__(self, user_recommendation, cutoff=5):\n",
    "        \"\"\"\n",
    "        Constructor\n",
    "        :param user_recommendation: DataFrame containing recommendation results\n",
    "        :param cutoff: Number of top recommendations to consider\n",
    "        \"\"\"\n",
    "        self.user_recommendation = user_recommendation\n",
    "        self.cutoff = cutoff\n",
    "        self.item_count_per_algo = defaultdict(lambda: defaultdict(int))\n",
    "        self.free_norm_per_algo = defaultdict(int)\n",
    "        self.num_items_per_algo = defaultdict(int)\n",
    "\n",
    "    @staticmethod\n",
    "    def name():\n",
    "        \"\"\"\n",
    "        Metric Name Getter\n",
    "        :return: returns the public name of the metric\n",
    "        \"\"\"\n",
    "        return \"GiniIndex\"\n",
    "\n",
    "    def user_gini(self, user_recommendations):\n",
    "        \"\"\"\n",
    "        Per User Gini Index\n",
    "        :param user_recommendations: DataFrame containing user recommendations\n",
    "        \"\"\"\n",
    "        for _, row in user_recommendations.iterrows():\n",
    "            algo = row['Algorithm']\n",
    "            item = row['item']\n",
    "            self.free_norm_per_algo[algo] += 1\n",
    "            self.item_count_per_algo[algo][item] += 1\n",
    "\n",
    "    def eval(self):\n",
    "        \"\"\"\n",
    "        Evaluation function\n",
    "        :return: a dictionary containing the Gini Index for each algorithm\n",
    "        \"\"\"\n",
    "        for algo, algo_recommendations in self.user_recommendation.groupby('Algorithm'):\n",
    "            self.num_items_per_algo[algo] = len(set(algo_recommendations['item']))\n",
    "            self.user_gini(algo_recommendations)\n",
    "\n",
    "        gini_index_per_algo = {}\n",
    "        for algo in self.item_count_per_algo:\n",
    "            sorted_item_count = sorted(self.item_count_per_algo[algo].values())\n",
    "            gini = sum([(2 * (j + (self.num_items_per_algo[algo] - len(sorted_item_count)) + 1) - self.num_items_per_algo[algo] - 1) * (cs / self.free_norm_per_algo[algo]) for j, cs in enumerate(sorted_item_count)]) / (self.num_items_per_algo[algo] - 1)\n",
    "            gini = 1 - gini\n",
    "            gini_index_per_algo[algo] = gini\n",
    "            \n",
    "\n",
    "        return gini_index_per_algo\n",
    "\n",
    "# Load your user_recommendations DataFrame\n",
    "\n",
    "# Initialize the GiniIndex object\n",
    "gini_index_metric = GiniIndex(user_recommendation)\n",
    "\n",
    "# Calculate the Gini Index per algorithm\n",
    "gini_index_per_algo = gini_index_metric.eval()\n",
    "\n",
    "# Print the results\n",
    "print(\"Gini Index per Algorithm:\")\n",
    "for algo, gini_index in gini_index_per_algo.items():\n",
    "    print(f\"{algo}: {gini_index}\")\n"
   ]
  }
 ],
 "metadata": {
  "kernelspec": {
   "display_name": ".venv",
   "language": "python",
   "name": "python3"
  },
  "language_info": {
   "codemirror_mode": {
    "name": "ipython",
    "version": 3
   },
   "file_extension": ".py",
   "mimetype": "text/x-python",
   "name": "python",
   "nbconvert_exporter": "python",
   "pygments_lexer": "ipython3",
   "version": "3.10.5"
  },
  "orig_nbformat": 4
 },
 "nbformat": 4,
 "nbformat_minor": 2
}
